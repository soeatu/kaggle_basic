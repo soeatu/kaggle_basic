{
 "cells": [
  {
   "cell_type": "markdown",
   "id": "00f91267",
   "metadata": {
    "papermill": {
     "duration": 0.0115,
     "end_time": "2023-04-09T16:22:05.823679",
     "exception": false,
     "start_time": "2023-04-09T16:22:05.812179",
     "status": "completed"
    },
    "tags": []
   },
   "source": [
    "# 1 ベースライン作成"
   ]
  },
  {
   "cell_type": "markdown",
   "id": "fc3c1992",
   "metadata": {
    "papermill": {
     "duration": 0.009526,
     "end_time": "2023-04-09T16:22:05.843619",
     "exception": false,
     "start_time": "2023-04-09T16:22:05.834093",
     "status": "completed"
    },
    "tags": []
   },
   "source": [
    "## 1-1ライブラリの読み込み等の初期処理"
   ]
  },
  {
   "cell_type": "code",
   "execution_count": 1,
   "id": "67c5d3b0",
   "metadata": {
    "_cell_guid": "b1076dfc-b9ad-4769-8c92-a6c4dae69d19",
    "_uuid": "8f2839f25d086af736a60e9eeb907d3b93b6e0e5",
    "execution": {
     "iopub.execute_input": "2023-04-09T16:22:05.866432Z",
     "iopub.status.busy": "2023-04-09T16:22:05.865191Z",
     "iopub.status.idle": "2023-04-09T16:22:08.194218Z",
     "shell.execute_reply": "2023-04-09T16:22:08.192902Z"
    },
    "papermill": {
     "duration": 2.343367,
     "end_time": "2023-04-09T16:22:08.197431",
     "exception": false,
     "start_time": "2023-04-09T16:22:05.854064",
     "status": "completed"
    },
    "tags": []
   },
   "outputs": [
    {
     "data": {
      "text/html": [
       "<style type='text/css'>\n",
       ".datatable table.frame { margin-bottom: 0; }\n",
       ".datatable table.frame thead { border-bottom: none; }\n",
       ".datatable table.frame tr.coltypes td {  color: #FFFFFF;  line-height: 6px;  padding: 0 0.5em;}\n",
       ".datatable .bool    { background: #DDDD99; }\n",
       ".datatable .object  { background: #565656; }\n",
       ".datatable .int     { background: #5D9E5D; }\n",
       ".datatable .float   { background: #4040CC; }\n",
       ".datatable .str     { background: #CC4040; }\n",
       ".datatable .time    { background: #40CC40; }\n",
       ".datatable .row_index {  background: var(--jp-border-color3);  border-right: 1px solid var(--jp-border-color0);  color: var(--jp-ui-font-color3);  font-size: 9px;}\n",
       ".datatable .frame tbody td { text-align: left; }\n",
       ".datatable .frame tr.coltypes .row_index {  background: var(--jp-border-color0);}\n",
       ".datatable th:nth-child(2) { padding-left: 12px; }\n",
       ".datatable .hellipsis {  color: var(--jp-cell-editor-border-color);}\n",
       ".datatable .vellipsis {  background: var(--jp-layout-color0);  color: var(--jp-cell-editor-border-color);}\n",
       ".datatable .na {  color: var(--jp-cell-editor-border-color);  font-size: 80%;}\n",
       ".datatable .sp {  opacity: 0.25;}\n",
       ".datatable .footer { font-size: 9px; }\n",
       ".datatable .frame_dimensions {  background: var(--jp-border-color3);  border-top: 1px solid var(--jp-border-color0);  color: var(--jp-ui-font-color3);  display: inline-block;  opacity: 0.6;  padding: 1px 10px 1px 5px;}\n",
       "</style>\n"
      ],
      "text/plain": [
       "<IPython.core.display.HTML object>"
      ]
     },
     "metadata": {},
     "output_type": "display_data"
    }
   ],
   "source": [
    "import numpy as np\n",
    "import pandas as pd\n",
    "import re\n",
    "import pickle\n",
    "import gc\n",
    "\n",
    "# scikit-learn\n",
    "from sklearn.preprocessing import OneHotEncoder, LabelEncoder\n",
    "from sklearn.model_selection import StratifiedKFold\n",
    "from sklearn.metrics import roc_auc_score\n",
    "\n",
    "# LightGBM\n",
    "import lightgbm as lgb\n",
    "\n",
    "import warnings\n",
    "warnings.filterwarnings(\"ignore\")"
   ]
  },
  {
   "cell_type": "code",
   "execution_count": 2,
   "id": "26f8b70d",
   "metadata": {
    "execution": {
     "iopub.execute_input": "2023-04-09T16:22:08.220045Z",
     "iopub.status.busy": "2023-04-09T16:22:08.219642Z",
     "iopub.status.idle": "2023-04-09T16:22:14.670110Z",
     "shell.execute_reply": "2023-04-09T16:22:14.668251Z"
    },
    "papermill": {
     "duration": 6.465189,
     "end_time": "2023-04-09T16:22:14.672779",
     "exception": false,
     "start_time": "2023-04-09T16:22:08.207590",
     "status": "completed"
    },
    "tags": []
   },
   "outputs": [
    {
     "name": "stdout",
     "output_type": "stream",
     "text": [
      "(307511, 122)\n"
     ]
    },
    {
     "data": {
      "text/html": [
       "<div>\n",
       "<style scoped>\n",
       "    .dataframe tbody tr th:only-of-type {\n",
       "        vertical-align: middle;\n",
       "    }\n",
       "\n",
       "    .dataframe tbody tr th {\n",
       "        vertical-align: top;\n",
       "    }\n",
       "\n",
       "    .dataframe thead th {\n",
       "        text-align: right;\n",
       "    }\n",
       "</style>\n",
       "<table border=\"1\" class=\"dataframe\">\n",
       "  <thead>\n",
       "    <tr style=\"text-align: right;\">\n",
       "      <th></th>\n",
       "      <th>SK_ID_CURR</th>\n",
       "      <th>TARGET</th>\n",
       "      <th>NAME_CONTRACT_TYPE</th>\n",
       "      <th>CODE_GENDER</th>\n",
       "      <th>FLAG_OWN_CAR</th>\n",
       "      <th>FLAG_OWN_REALTY</th>\n",
       "      <th>CNT_CHILDREN</th>\n",
       "      <th>AMT_INCOME_TOTAL</th>\n",
       "      <th>AMT_CREDIT</th>\n",
       "      <th>AMT_ANNUITY</th>\n",
       "      <th>...</th>\n",
       "      <th>FLAG_DOCUMENT_18</th>\n",
       "      <th>FLAG_DOCUMENT_19</th>\n",
       "      <th>FLAG_DOCUMENT_20</th>\n",
       "      <th>FLAG_DOCUMENT_21</th>\n",
       "      <th>AMT_REQ_CREDIT_BUREAU_HOUR</th>\n",
       "      <th>AMT_REQ_CREDIT_BUREAU_DAY</th>\n",
       "      <th>AMT_REQ_CREDIT_BUREAU_WEEK</th>\n",
       "      <th>AMT_REQ_CREDIT_BUREAU_MON</th>\n",
       "      <th>AMT_REQ_CREDIT_BUREAU_QRT</th>\n",
       "      <th>AMT_REQ_CREDIT_BUREAU_YEAR</th>\n",
       "    </tr>\n",
       "  </thead>\n",
       "  <tbody>\n",
       "    <tr>\n",
       "      <th>0</th>\n",
       "      <td>100002</td>\n",
       "      <td>1</td>\n",
       "      <td>Cash loans</td>\n",
       "      <td>M</td>\n",
       "      <td>N</td>\n",
       "      <td>Y</td>\n",
       "      <td>0</td>\n",
       "      <td>202500.0</td>\n",
       "      <td>406597.5</td>\n",
       "      <td>24700.5</td>\n",
       "      <td>...</td>\n",
       "      <td>0</td>\n",
       "      <td>0</td>\n",
       "      <td>0</td>\n",
       "      <td>0</td>\n",
       "      <td>0.0</td>\n",
       "      <td>0.0</td>\n",
       "      <td>0.0</td>\n",
       "      <td>0.0</td>\n",
       "      <td>0.0</td>\n",
       "      <td>1.0</td>\n",
       "    </tr>\n",
       "    <tr>\n",
       "      <th>1</th>\n",
       "      <td>100003</td>\n",
       "      <td>0</td>\n",
       "      <td>Cash loans</td>\n",
       "      <td>F</td>\n",
       "      <td>N</td>\n",
       "      <td>N</td>\n",
       "      <td>0</td>\n",
       "      <td>270000.0</td>\n",
       "      <td>1293502.5</td>\n",
       "      <td>35698.5</td>\n",
       "      <td>...</td>\n",
       "      <td>0</td>\n",
       "      <td>0</td>\n",
       "      <td>0</td>\n",
       "      <td>0</td>\n",
       "      <td>0.0</td>\n",
       "      <td>0.0</td>\n",
       "      <td>0.0</td>\n",
       "      <td>0.0</td>\n",
       "      <td>0.0</td>\n",
       "      <td>0.0</td>\n",
       "    </tr>\n",
       "    <tr>\n",
       "      <th>2</th>\n",
       "      <td>100004</td>\n",
       "      <td>0</td>\n",
       "      <td>Revolving loans</td>\n",
       "      <td>M</td>\n",
       "      <td>Y</td>\n",
       "      <td>Y</td>\n",
       "      <td>0</td>\n",
       "      <td>67500.0</td>\n",
       "      <td>135000.0</td>\n",
       "      <td>6750.0</td>\n",
       "      <td>...</td>\n",
       "      <td>0</td>\n",
       "      <td>0</td>\n",
       "      <td>0</td>\n",
       "      <td>0</td>\n",
       "      <td>0.0</td>\n",
       "      <td>0.0</td>\n",
       "      <td>0.0</td>\n",
       "      <td>0.0</td>\n",
       "      <td>0.0</td>\n",
       "      <td>0.0</td>\n",
       "    </tr>\n",
       "    <tr>\n",
       "      <th>3</th>\n",
       "      <td>100006</td>\n",
       "      <td>0</td>\n",
       "      <td>Cash loans</td>\n",
       "      <td>F</td>\n",
       "      <td>N</td>\n",
       "      <td>Y</td>\n",
       "      <td>0</td>\n",
       "      <td>135000.0</td>\n",
       "      <td>312682.5</td>\n",
       "      <td>29686.5</td>\n",
       "      <td>...</td>\n",
       "      <td>0</td>\n",
       "      <td>0</td>\n",
       "      <td>0</td>\n",
       "      <td>0</td>\n",
       "      <td>NaN</td>\n",
       "      <td>NaN</td>\n",
       "      <td>NaN</td>\n",
       "      <td>NaN</td>\n",
       "      <td>NaN</td>\n",
       "      <td>NaN</td>\n",
       "    </tr>\n",
       "    <tr>\n",
       "      <th>4</th>\n",
       "      <td>100007</td>\n",
       "      <td>0</td>\n",
       "      <td>Cash loans</td>\n",
       "      <td>M</td>\n",
       "      <td>N</td>\n",
       "      <td>Y</td>\n",
       "      <td>0</td>\n",
       "      <td>121500.0</td>\n",
       "      <td>513000.0</td>\n",
       "      <td>21865.5</td>\n",
       "      <td>...</td>\n",
       "      <td>0</td>\n",
       "      <td>0</td>\n",
       "      <td>0</td>\n",
       "      <td>0</td>\n",
       "      <td>0.0</td>\n",
       "      <td>0.0</td>\n",
       "      <td>0.0</td>\n",
       "      <td>0.0</td>\n",
       "      <td>0.0</td>\n",
       "      <td>0.0</td>\n",
       "    </tr>\n",
       "  </tbody>\n",
       "</table>\n",
       "<p>5 rows × 122 columns</p>\n",
       "</div>"
      ],
      "text/plain": [
       "   SK_ID_CURR  TARGET NAME_CONTRACT_TYPE CODE_GENDER FLAG_OWN_CAR  \\\n",
       "0      100002       1         Cash loans           M            N   \n",
       "1      100003       0         Cash loans           F            N   \n",
       "2      100004       0    Revolving loans           M            Y   \n",
       "3      100006       0         Cash loans           F            N   \n",
       "4      100007       0         Cash loans           M            N   \n",
       "\n",
       "  FLAG_OWN_REALTY  CNT_CHILDREN  AMT_INCOME_TOTAL  AMT_CREDIT  AMT_ANNUITY  \\\n",
       "0               Y             0          202500.0    406597.5      24700.5   \n",
       "1               N             0          270000.0   1293502.5      35698.5   \n",
       "2               Y             0           67500.0    135000.0       6750.0   \n",
       "3               Y             0          135000.0    312682.5      29686.5   \n",
       "4               Y             0          121500.0    513000.0      21865.5   \n",
       "\n",
       "   ...  FLAG_DOCUMENT_18 FLAG_DOCUMENT_19 FLAG_DOCUMENT_20 FLAG_DOCUMENT_21  \\\n",
       "0  ...                 0                0                0                0   \n",
       "1  ...                 0                0                0                0   \n",
       "2  ...                 0                0                0                0   \n",
       "3  ...                 0                0                0                0   \n",
       "4  ...                 0                0                0                0   \n",
       "\n",
       "  AMT_REQ_CREDIT_BUREAU_HOUR AMT_REQ_CREDIT_BUREAU_DAY  \\\n",
       "0                        0.0                       0.0   \n",
       "1                        0.0                       0.0   \n",
       "2                        0.0                       0.0   \n",
       "3                        NaN                       NaN   \n",
       "4                        0.0                       0.0   \n",
       "\n",
       "   AMT_REQ_CREDIT_BUREAU_WEEK  AMT_REQ_CREDIT_BUREAU_MON  \\\n",
       "0                         0.0                        0.0   \n",
       "1                         0.0                        0.0   \n",
       "2                         0.0                        0.0   \n",
       "3                         NaN                        NaN   \n",
       "4                         0.0                        0.0   \n",
       "\n",
       "   AMT_REQ_CREDIT_BUREAU_QRT  AMT_REQ_CREDIT_BUREAU_YEAR  \n",
       "0                        0.0                         1.0  \n",
       "1                        0.0                         0.0  \n",
       "2                        0.0                         0.0  \n",
       "3                        NaN                         NaN  \n",
       "4                        0.0                         0.0  \n",
       "\n",
       "[5 rows x 122 columns]"
      ]
     },
     "execution_count": 2,
     "metadata": {},
     "output_type": "execute_result"
    }
   ],
   "source": [
    "# ファイルの読み込み・データ確認\n",
    "application_train = pd.read_csv(\"../input/home-credit-default-risk/application_train.csv\")\n",
    "print(application_train.shape)\n",
    "application_train.head()"
   ]
  },
  {
   "cell_type": "code",
   "execution_count": 3,
   "id": "1f461b1a",
   "metadata": {
    "execution": {
     "iopub.execute_input": "2023-04-09T16:22:14.696552Z",
     "iopub.status.busy": "2023-04-09T16:22:14.695871Z",
     "iopub.status.idle": "2023-04-09T16:22:17.582167Z",
     "shell.execute_reply": "2023-04-09T16:22:17.580798Z"
    },
    "papermill": {
     "duration": 2.9009,
     "end_time": "2023-04-09T16:22:17.585182",
     "exception": false,
     "start_time": "2023-04-09T16:22:14.684282",
     "status": "completed"
    },
    "tags": []
   },
   "outputs": [
    {
     "name": "stdout",
     "output_type": "stream",
     "text": [
      "Memory usage of dataframe is 286.23 MB\n",
      "Memory usage after optimization is: 92.38 MB\n",
      "Decreased by 67.7%\n"
     ]
    }
   ],
   "source": [
    "# メモリ削減用関数　（ファイルサイズが大きいとき）データ型を最適化する\n",
    "def reduce_mem_usage(df):\n",
    "    start_mem = df.memory_usage().sum() / 1024**2\n",
    "    print('Memory usage of dataframe is {:.2f} MB'.format(start_mem))\n",
    "    \n",
    "    for col in df.columns:\n",
    "        col_type = df[col].dtype\n",
    "        \n",
    "        if col_type != object:\n",
    "            c_min = df[col].min()\n",
    "            c_max = df[col].max()\n",
    "            if str(col_type)[:3] == 'int':\n",
    "                if c_min > np.iinfo(np.int8).min and c_max < np.iinfo(np.int8).max:\n",
    "                    df[col] = df[col].astype(np.int8)\n",
    "                elif c_min > np.iinfo(np.int16).min and c_max < np.iinfo(np.int16).max:\n",
    "                    df[col] = df[col].astype(np.int16)\n",
    "                elif c_min > np.iinfo(np.int32).min and c_max < np.iinfo(np.int32).max:\n",
    "                    df[col] = df[col].astype(np.int32)\n",
    "                elif c_min > np.iinfo(np.int64).min and c_max < np.iinfo(np.int64).max:\n",
    "                    df[col] = df[col].astype(np.int64)  \n",
    "            else:\n",
    "                if c_min > np.finfo(np.float16).min and c_max < np.finfo(np.float16).max:\n",
    "                    df[col] = df[col].astype(np.float16)\n",
    "                elif c_min > np.finfo(np.float32).min and c_max < np.finfo(np.float32).max:\n",
    "                    df[col] = df[col].astype(np.float32)\n",
    "                else:\n",
    "                    df[col] = df[col].astype(np.float64)\n",
    "        else:\n",
    "            pass\n",
    "\n",
    "    end_mem = df.memory_usage().sum() / 1024**2\n",
    "    print('Memory usage after optimization is: {:.2f} MB'.format(end_mem))\n",
    "    print('Decreased by {:.1f}%'.format(100 * (start_mem - end_mem) / start_mem))\n",
    "    \n",
    "    return df\n",
    "#試しで使用\n",
    "application_train = reduce_mem_usage(application_train)"
   ]
  },
  {
   "cell_type": "markdown",
   "id": "fe9906f7",
   "metadata": {
    "papermill": {
     "duration": 0.010504,
     "end_time": "2023-04-09T16:22:17.606650",
     "exception": false,
     "start_time": "2023-04-09T16:22:17.596146",
     "status": "completed"
    },
    "tags": []
   },
   "source": [
    "## 1-2 データセットの作成"
   ]
  },
  {
   "cell_type": "code",
   "execution_count": 4,
   "id": "2be77b4e",
   "metadata": {
    "execution": {
     "iopub.execute_input": "2023-04-09T16:22:17.629707Z",
     "iopub.status.busy": "2023-04-09T16:22:17.629053Z",
     "iopub.status.idle": "2023-04-09T16:22:18.584355Z",
     "shell.execute_reply": "2023-04-09T16:22:18.582829Z"
    },
    "papermill": {
     "duration": 0.970463,
     "end_time": "2023-04-09T16:22:18.587355",
     "exception": false,
     "start_time": "2023-04-09T16:22:17.616892",
     "status": "completed"
    },
    "tags": []
   },
   "outputs": [],
   "source": [
    "#データセットの作成\n",
    "x_train = application_train.drop(columns=[\"TARGET\", \"SK_ID_CURR\"])\n",
    "y_train = application_train[\"TARGET\"]\n",
    "id_train = application_train[[\"SK_ID_CURR\"]]\n",
    "#カテゴリ変数をcategory型へ変換（lightGBMに使うため）\n",
    "for col in x_train.columns:\n",
    "    if x_train[col].dtype==\"O\":\n",
    "        x_train[col] = x_train[col].astype(\"category\")"
   ]
  },
  {
   "cell_type": "markdown",
   "id": "e6e91043",
   "metadata": {
    "papermill": {
     "duration": 0.010243,
     "end_time": "2023-04-09T16:22:18.608441",
     "exception": false,
     "start_time": "2023-04-09T16:22:18.598198",
     "status": "completed"
    },
    "tags": []
   },
   "source": [
    "## 1-3 バリデーション設計"
   ]
  },
  {
   "cell_type": "code",
   "execution_count": 5,
   "id": "ce4df959",
   "metadata": {
    "execution": {
     "iopub.execute_input": "2023-04-09T16:22:18.631801Z",
     "iopub.status.busy": "2023-04-09T16:22:18.631017Z",
     "iopub.status.idle": "2023-04-09T16:22:18.644694Z",
     "shell.execute_reply": "2023-04-09T16:22:18.643442Z"
    },
    "papermill": {
     "duration": 0.028427,
     "end_time": "2023-04-09T16:22:18.647175",
     "exception": false,
     "start_time": "2023-04-09T16:22:18.618748",
     "status": "completed"
    },
    "tags": []
   },
   "outputs": [
    {
     "name": "stdout",
     "output_type": "stream",
     "text": [
      "mean: 0.0807\n"
     ]
    },
    {
     "data": {
      "text/plain": [
       "0    282686\n",
       "1     24825\n",
       "Name: TARGET, dtype: int64"
      ]
     },
     "execution_count": 5,
     "metadata": {},
     "output_type": "execute_result"
    }
   ],
   "source": [
    "#1の割合とそれぞれの件数を確認\n",
    "print(\"mean: {:.4f}\".format(y_train.mean()))\n",
    "y_train.value_counts()"
   ]
  },
  {
   "cell_type": "code",
   "execution_count": 6,
   "id": "1fd77b10",
   "metadata": {
    "execution": {
     "iopub.execute_input": "2023-04-09T16:22:18.670395Z",
     "iopub.status.busy": "2023-04-09T16:22:18.669646Z",
     "iopub.status.idle": "2023-04-09T16:22:18.736767Z",
     "shell.execute_reply": "2023-04-09T16:22:18.735414Z"
    },
    "papermill": {
     "duration": 0.082036,
     "end_time": "2023-04-09T16:22:18.739667",
     "exception": false,
     "start_time": "2023-04-09T16:22:18.657631",
     "status": "completed"
    },
    "tags": []
   },
   "outputs": [
    {
     "name": "stdout",
     "output_type": "stream",
     "text": [
      "index(train): [     0      1      3 ... 307508 307509 307510]\n",
      "index(valid): [     2     11     22 ... 307488 307495 307497]\n"
     ]
    }
   ],
   "source": [
    "'''\n",
    "バリデーションのindexeリスト作成\n",
    "分割の割合が一定になるように層化分割を行う（StratifidKFold）\n",
    "'''\n",
    "# 層化分割したバリデーションのindexのリスト作成\n",
    "cv = list(StratifiedKFold(n_splits=5, shuffle=True, random_state=123).split(x_train, y_train))\n",
    "\n",
    "# indexの確認：fold=0のtrainデータ\n",
    "print(\"index(train):\", cv[0][0])\n",
    "\n",
    "# indexの確認：fold=0のvalidデータ\n",
    "print(\"index(valid):\", cv[0][1])"
   ]
  },
  {
   "cell_type": "markdown",
   "id": "7dcbd095",
   "metadata": {
    "papermill": {
     "duration": 0.010249,
     "end_time": "2023-04-09T16:22:18.760810",
     "exception": false,
     "start_time": "2023-04-09T16:22:18.750561",
     "status": "completed"
    },
    "tags": []
   },
   "source": [
    "## 1-4 モデル学習"
   ]
  },
  {
   "cell_type": "code",
   "execution_count": 7,
   "id": "cd709844",
   "metadata": {
    "execution": {
     "iopub.execute_input": "2023-04-09T16:22:18.783930Z",
     "iopub.status.busy": "2023-04-09T16:22:18.783539Z",
     "iopub.status.idle": "2023-04-09T16:22:18.970220Z",
     "shell.execute_reply": "2023-04-09T16:22:18.968874Z"
    },
    "papermill": {
     "duration": 0.201376,
     "end_time": "2023-04-09T16:22:18.972766",
     "exception": false,
     "start_time": "2023-04-09T16:22:18.771390",
     "status": "completed"
    },
    "tags": []
   },
   "outputs": [
    {
     "name": "stdout",
     "output_type": "stream",
     "text": [
      "(246008, 120) (246008,) (246008, 1)\n",
      "(61503, 120) (61503,) (61503, 1)\n"
     ]
    }
   ],
   "source": [
    "'''学習データと検証データに分類'''\n",
    "# foldごとのindexのリスト作成\n",
    "cv = list(StratifiedKFold(n_splits=5, shuffle=True, random_state=123).split(x_train, y_train))\n",
    "\n",
    "# 0fold目のindexのリスト取得\n",
    "nfold = 0\n",
    "idx_tr, idx_va = cv[nfold][0], cv[nfold][1]\n",
    "\n",
    "# 学習データと検証データに分離\n",
    "x_tr, y_tr, id_tr = x_train.loc[idx_tr, :], y_train[idx_tr], id_train.loc[idx_tr, :]\n",
    "x_va, y_va, id_va = x_train.loc[idx_va, :], y_train[idx_va], id_train.loc[idx_va, :]\n",
    "print(x_tr.shape, y_tr.shape, id_tr.shape)\n",
    "print(x_va.shape, y_va.shape, id_va.shape)"
   ]
  },
  {
   "cell_type": "code",
   "execution_count": 8,
   "id": "8526145d",
   "metadata": {
    "execution": {
     "iopub.execute_input": "2023-04-09T16:22:18.997176Z",
     "iopub.status.busy": "2023-04-09T16:22:18.996303Z",
     "iopub.status.idle": "2023-04-09T16:22:46.803051Z",
     "shell.execute_reply": "2023-04-09T16:22:46.802077Z"
    },
    "papermill": {
     "duration": 27.821823,
     "end_time": "2023-04-09T16:22:46.805699",
     "exception": false,
     "start_time": "2023-04-09T16:22:18.983876",
     "status": "completed"
    },
    "tags": []
   },
   "outputs": [
    {
     "name": "stdout",
     "output_type": "stream",
     "text": [
      "[100]\ttraining's auc: 0.782506\tvalid_1's auc: 0.755903\n",
      "[200]\ttraining's auc: 0.808961\tvalid_1's auc: 0.758356\n",
      "[300]\ttraining's auc: 0.829245\tvalid_1's auc: 0.757774\n"
     ]
    }
   ],
   "source": [
    "#モデル学習\n",
    "params = {\n",
    "    'boosting_type': 'gbdt',\n",
    "    'objective': 'binary', \n",
    "    'metric': 'auc',\n",
    "    'learning_rate': 0.05,\n",
    "    'num_leaves': 32,\n",
    "    'n_estimators': 100000,\n",
    "    \"random_state\": 123,\n",
    "    \"importance_type\": \"gain\",\n",
    "}\n",
    "\n",
    "# モデルの学習\n",
    "model = lgb.LGBMClassifier(**params)\n",
    "model.fit(x_tr,\n",
    "          y_tr,\n",
    "          eval_set=[(x_tr, y_tr), (x_va, y_va)],\n",
    "          early_stopping_rounds=100,\n",
    "          verbose=100\n",
    "         )\n",
    "\n",
    "# モデルの保存\n",
    "with open(\"model_lgb_fold0.pickle\", \"wb\") as f:\n",
    "    pickle.dump(model, f, protocol=4)"
   ]
  },
  {
   "cell_type": "code",
   "execution_count": 9,
   "id": "7a8961df",
   "metadata": {
    "execution": {
     "iopub.execute_input": "2023-04-09T16:22:46.831874Z",
     "iopub.status.busy": "2023-04-09T16:22:46.830472Z",
     "iopub.status.idle": "2023-04-09T16:22:49.828951Z",
     "shell.execute_reply": "2023-04-09T16:22:49.828022Z"
    },
    "papermill": {
     "duration": 3.013544,
     "end_time": "2023-04-09T16:22:49.831356",
     "exception": false,
     "start_time": "2023-04-09T16:22:46.817812",
     "status": "completed"
    },
    "tags": []
   },
   "outputs": [
    {
     "name": "stdout",
     "output_type": "stream",
     "text": [
      "[auc] tr:0.8126, va:0.7586\n"
     ]
    }
   ],
   "source": [
    "'''モデル評価'''\n",
    "# 学習データの推論値取得とROC計算\n",
    "y_tr_pred = model.predict_proba(x_tr)[:,1]\n",
    "metric_tr = roc_auc_score(y_tr, y_tr_pred)\n",
    "\n",
    "# 検証データの推論値取得とROC計算\n",
    "y_va_pred = model.predict_proba(x_va)[:,1]\n",
    "metric_va = roc_auc_score(y_va, y_va_pred)\n",
    "\n",
    "# 評価値を入れる変数の作成（最初のfoldのときのみ）\n",
    "metrics = []\n",
    "\n",
    "# 評価値を格納\n",
    "metrics.append([nfold, metric_tr, metric_va])\n",
    "\n",
    "# 結果の表示\n",
    "print(\"[auc] tr:{:.4f}, va:{:.4f}\".format(metric_tr, metric_va))"
   ]
  },
  {
   "cell_type": "code",
   "execution_count": 10,
   "id": "ef783ef2",
   "metadata": {
    "execution": {
     "iopub.execute_input": "2023-04-09T16:22:49.855645Z",
     "iopub.status.busy": "2023-04-09T16:22:49.854604Z",
     "iopub.status.idle": "2023-04-09T16:22:49.860582Z",
     "shell.execute_reply": "2023-04-09T16:22:49.859637Z"
    },
    "papermill": {
     "duration": 0.020585,
     "end_time": "2023-04-09T16:22:49.862886",
     "exception": false,
     "start_time": "2023-04-09T16:22:49.842301",
     "status": "completed"
    },
    "tags": []
   },
   "outputs": [],
   "source": [
    "'''OOFデータの推定値取得(out of fold)'''\n",
    "#推論値や誤差の分布確認やアンサンブル時のモデルごとの重みを決めるのに有効\n",
    "# oofの予測値を入れる変数の作成\n",
    "train_oof = np.zeros(len(x_train))\n",
    "\n",
    "# validデータのindexに予測値を格納\n",
    "train_oof[idx_va] = y_va_pred"
   ]
  },
  {
   "cell_type": "code",
   "execution_count": 11,
   "id": "e5b88b65",
   "metadata": {
    "execution": {
     "iopub.execute_input": "2023-04-09T16:22:49.887314Z",
     "iopub.status.busy": "2023-04-09T16:22:49.886091Z",
     "iopub.status.idle": "2023-04-09T16:22:49.900508Z",
     "shell.execute_reply": "2023-04-09T16:22:49.899478Z"
    },
    "papermill": {
     "duration": 0.028941,
     "end_time": "2023-04-09T16:22:49.902818",
     "exception": false,
     "start_time": "2023-04-09T16:22:49.873877",
     "status": "completed"
    },
    "tags": []
   },
   "outputs": [
    {
     "data": {
      "text/html": [
       "<div>\n",
       "<style scoped>\n",
       "    .dataframe tbody tr th:only-of-type {\n",
       "        vertical-align: middle;\n",
       "    }\n",
       "\n",
       "    .dataframe tbody tr th {\n",
       "        vertical-align: top;\n",
       "    }\n",
       "\n",
       "    .dataframe thead th {\n",
       "        text-align: right;\n",
       "    }\n",
       "</style>\n",
       "<table border=\"1\" class=\"dataframe\">\n",
       "  <thead>\n",
       "    <tr style=\"text-align: right;\">\n",
       "      <th></th>\n",
       "      <th>col</th>\n",
       "      <th>imp</th>\n",
       "      <th>nfold</th>\n",
       "    </tr>\n",
       "  </thead>\n",
       "  <tbody>\n",
       "    <tr>\n",
       "      <th>41</th>\n",
       "      <td>EXT_SOURCE_3</td>\n",
       "      <td>66225.020483</td>\n",
       "      <td>0</td>\n",
       "    </tr>\n",
       "    <tr>\n",
       "      <th>40</th>\n",
       "      <td>EXT_SOURCE_2</td>\n",
       "      <td>52568.833805</td>\n",
       "      <td>0</td>\n",
       "    </tr>\n",
       "    <tr>\n",
       "      <th>38</th>\n",
       "      <td>ORGANIZATION_TYPE</td>\n",
       "      <td>20218.523523</td>\n",
       "      <td>0</td>\n",
       "    </tr>\n",
       "    <tr>\n",
       "      <th>39</th>\n",
       "      <td>EXT_SOURCE_1</td>\n",
       "      <td>19776.252288</td>\n",
       "      <td>0</td>\n",
       "    </tr>\n",
       "    <tr>\n",
       "      <th>6</th>\n",
       "      <td>AMT_CREDIT</td>\n",
       "      <td>8111.321247</td>\n",
       "      <td>0</td>\n",
       "    </tr>\n",
       "    <tr>\n",
       "      <th>8</th>\n",
       "      <td>AMT_GOODS_PRICE</td>\n",
       "      <td>7120.960365</td>\n",
       "      <td>0</td>\n",
       "    </tr>\n",
       "    <tr>\n",
       "      <th>15</th>\n",
       "      <td>DAYS_BIRTH</td>\n",
       "      <td>7042.223005</td>\n",
       "      <td>0</td>\n",
       "    </tr>\n",
       "    <tr>\n",
       "      <th>7</th>\n",
       "      <td>AMT_ANNUITY</td>\n",
       "      <td>6992.551795</td>\n",
       "      <td>0</td>\n",
       "    </tr>\n",
       "    <tr>\n",
       "      <th>16</th>\n",
       "      <td>DAYS_EMPLOYED</td>\n",
       "      <td>5236.514120</td>\n",
       "      <td>0</td>\n",
       "    </tr>\n",
       "    <tr>\n",
       "      <th>26</th>\n",
       "      <td>OCCUPATION_TYPE</td>\n",
       "      <td>4376.651746</td>\n",
       "      <td>0</td>\n",
       "    </tr>\n",
       "  </tbody>\n",
       "</table>\n",
       "</div>"
      ],
      "text/plain": [
       "                  col           imp  nfold\n",
       "41       EXT_SOURCE_3  66225.020483      0\n",
       "40       EXT_SOURCE_2  52568.833805      0\n",
       "38  ORGANIZATION_TYPE  20218.523523      0\n",
       "39       EXT_SOURCE_1  19776.252288      0\n",
       "6          AMT_CREDIT   8111.321247      0\n",
       "8     AMT_GOODS_PRICE   7120.960365      0\n",
       "15         DAYS_BIRTH   7042.223005      0\n",
       "7         AMT_ANNUITY   6992.551795      0\n",
       "16      DAYS_EMPLOYED   5236.514120      0\n",
       "26    OCCUPATION_TYPE   4376.651746      0"
      ]
     },
     "metadata": {},
     "output_type": "display_data"
    }
   ],
   "source": [
    "'''説明変数の重要度取得（学習したモデルから説明変数の重要度を取得）'''\n",
    "# 重要度の取得\n",
    "imp_fold = pd.DataFrame({\"col\":x_train.columns, \"imp\":model.feature_importances_, \"nfold\":nfold})\n",
    "# 確認（重要度の上位10個）\n",
    "display(imp_fold.sort_values(\"imp\", ascending=False)[:10])\n",
    "\n",
    "# 重要度を格納する5fold用データフレームの作成\n",
    "imp = pd.DataFrame()\n",
    "# imp_foldを5fold用データフレームに結合\n",
    "imp = pd.concat([imp, imp_fold])"
   ]
  },
  {
   "cell_type": "code",
   "execution_count": 12,
   "id": "57a2fab5",
   "metadata": {
    "execution": {
     "iopub.execute_input": "2023-04-09T16:22:49.927510Z",
     "iopub.status.busy": "2023-04-09T16:22:49.926553Z",
     "iopub.status.idle": "2023-04-09T16:22:49.997931Z",
     "shell.execute_reply": "2023-04-09T16:22:49.996523Z"
    },
    "papermill": {
     "duration": 0.086369,
     "end_time": "2023-04-09T16:22:50.000477",
     "exception": false,
     "start_time": "2023-04-09T16:22:49.914108",
     "status": "completed"
    },
    "tags": []
   },
   "outputs": [
    {
     "name": "stdout",
     "output_type": "stream",
     "text": [
      "[[0.         0.81257796 0.75859528]]\n",
      "[cv] tr:0.8126+-0.0000, va:0.7586+-0.0000\n",
      "[oof] 0.5103\n"
     ]
    }
   ],
   "source": [
    "'''モデル評価（全foldのサマリ）'''\n",
    "# リスト型をarray型に変換\n",
    "metrics = np.array(metrics)\n",
    "print(metrics)\n",
    "\n",
    "# 学習/検証データの評価値の平均値と標準偏差を算出\n",
    "print(\"[cv] tr:{:.4f}+-{:.4f}, va:{:.4f}+-{:.4f}\".format(\n",
    "    metrics[:,1].mean(), metrics[:,1].std(),\n",
    "    metrics[:,2].mean(), metrics[:,2].std(),\n",
    "))\n",
    "\n",
    "# oofの評価値を算出\n",
    "print(\"[oof] {:.4f}\".format(\n",
    "    roc_auc_score(y_train, train_oof)\n",
    "))"
   ]
  },
  {
   "cell_type": "code",
   "execution_count": 13,
   "id": "e0d15e54",
   "metadata": {
    "execution": {
     "iopub.execute_input": "2023-04-09T16:22:50.025734Z",
     "iopub.status.busy": "2023-04-09T16:22:50.024970Z",
     "iopub.status.idle": "2023-04-09T16:22:50.039012Z",
     "shell.execute_reply": "2023-04-09T16:22:50.037807Z"
    },
    "papermill": {
     "duration": 0.029268,
     "end_time": "2023-04-09T16:22:50.041549",
     "exception": false,
     "start_time": "2023-04-09T16:22:50.012281",
     "status": "completed"
    },
    "tags": []
   },
   "outputs": [
    {
     "data": {
      "text/html": [
       "<div>\n",
       "<style scoped>\n",
       "    .dataframe tbody tr th:only-of-type {\n",
       "        vertical-align: middle;\n",
       "    }\n",
       "\n",
       "    .dataframe tbody tr th {\n",
       "        vertical-align: top;\n",
       "    }\n",
       "\n",
       "    .dataframe thead th {\n",
       "        text-align: right;\n",
       "    }\n",
       "</style>\n",
       "<table border=\"1\" class=\"dataframe\">\n",
       "  <thead>\n",
       "    <tr style=\"text-align: right;\">\n",
       "      <th></th>\n",
       "      <th>SK_ID_CURR</th>\n",
       "      <th>true</th>\n",
       "      <th>pred</th>\n",
       "    </tr>\n",
       "  </thead>\n",
       "  <tbody>\n",
       "    <tr>\n",
       "      <th>0</th>\n",
       "      <td>100002</td>\n",
       "      <td>1</td>\n",
       "      <td>0.000000</td>\n",
       "    </tr>\n",
       "    <tr>\n",
       "      <th>1</th>\n",
       "      <td>100003</td>\n",
       "      <td>0</td>\n",
       "      <td>0.000000</td>\n",
       "    </tr>\n",
       "    <tr>\n",
       "      <th>2</th>\n",
       "      <td>100004</td>\n",
       "      <td>0</td>\n",
       "      <td>0.031866</td>\n",
       "    </tr>\n",
       "    <tr>\n",
       "      <th>3</th>\n",
       "      <td>100006</td>\n",
       "      <td>0</td>\n",
       "      <td>0.000000</td>\n",
       "    </tr>\n",
       "    <tr>\n",
       "      <th>4</th>\n",
       "      <td>100007</td>\n",
       "      <td>0</td>\n",
       "      <td>0.000000</td>\n",
       "    </tr>\n",
       "  </tbody>\n",
       "</table>\n",
       "</div>"
      ],
      "text/plain": [
       "   SK_ID_CURR  true      pred\n",
       "0      100002     1  0.000000\n",
       "1      100003     0  0.000000\n",
       "2      100004     0  0.031866\n",
       "3      100006     0  0.000000\n",
       "4      100007     0  0.000000"
      ]
     },
     "execution_count": 13,
     "metadata": {},
     "output_type": "execute_result"
    }
   ],
   "source": [
    "#OOFデータの推論値取得\n",
    "train_oof = pd.concat([\n",
    "    id_train,\n",
    "    pd.DataFrame({\"true\": y_train, \"pred\": train_oof}),\n",
    "], axis=1)\n",
    "train_oof.head()"
   ]
  },
  {
   "cell_type": "code",
   "execution_count": 14,
   "id": "e26d217b",
   "metadata": {
    "execution": {
     "iopub.execute_input": "2023-04-09T16:22:50.066220Z",
     "iopub.status.busy": "2023-04-09T16:22:50.065799Z",
     "iopub.status.idle": "2023-04-09T16:22:50.086246Z",
     "shell.execute_reply": "2023-04-09T16:22:50.085053Z"
    },
    "papermill": {
     "duration": 0.035705,
     "end_time": "2023-04-09T16:22:50.088805",
     "exception": false,
     "start_time": "2023-04-09T16:22:50.053100",
     "status": "completed"
    },
    "tags": []
   },
   "outputs": [
    {
     "data": {
      "text/html": [
       "<div>\n",
       "<style scoped>\n",
       "    .dataframe tbody tr th:only-of-type {\n",
       "        vertical-align: middle;\n",
       "    }\n",
       "\n",
       "    .dataframe tbody tr th {\n",
       "        vertical-align: top;\n",
       "    }\n",
       "\n",
       "    .dataframe thead th {\n",
       "        text-align: right;\n",
       "    }\n",
       "</style>\n",
       "<table border=\"1\" class=\"dataframe\">\n",
       "  <thead>\n",
       "    <tr style=\"text-align: right;\">\n",
       "      <th></th>\n",
       "      <th>col</th>\n",
       "      <th>imp</th>\n",
       "      <th>imp_std</th>\n",
       "    </tr>\n",
       "  </thead>\n",
       "  <tbody>\n",
       "    <tr>\n",
       "      <th>0</th>\n",
       "      <td>AMT_ANNUITY</td>\n",
       "      <td>6992.551795</td>\n",
       "      <td>NaN</td>\n",
       "    </tr>\n",
       "    <tr>\n",
       "      <th>1</th>\n",
       "      <td>AMT_CREDIT</td>\n",
       "      <td>8111.321247</td>\n",
       "      <td>NaN</td>\n",
       "    </tr>\n",
       "    <tr>\n",
       "      <th>2</th>\n",
       "      <td>AMT_GOODS_PRICE</td>\n",
       "      <td>7120.960365</td>\n",
       "      <td>NaN</td>\n",
       "    </tr>\n",
       "    <tr>\n",
       "      <th>3</th>\n",
       "      <td>AMT_INCOME_TOTAL</td>\n",
       "      <td>1595.740609</td>\n",
       "      <td>NaN</td>\n",
       "    </tr>\n",
       "    <tr>\n",
       "      <th>4</th>\n",
       "      <td>AMT_REQ_CREDIT_BUREAU_DAY</td>\n",
       "      <td>128.842901</td>\n",
       "      <td>NaN</td>\n",
       "    </tr>\n",
       "  </tbody>\n",
       "</table>\n",
       "</div>"
      ],
      "text/plain": [
       "                         col          imp  imp_std\n",
       "0                AMT_ANNUITY  6992.551795      NaN\n",
       "1                 AMT_CREDIT  8111.321247      NaN\n",
       "2            AMT_GOODS_PRICE  7120.960365      NaN\n",
       "3           AMT_INCOME_TOTAL  1595.740609      NaN\n",
       "4  AMT_REQ_CREDIT_BUREAU_DAY   128.842901      NaN"
      ]
     },
     "execution_count": 14,
     "metadata": {},
     "output_type": "execute_result"
    }
   ],
   "source": [
    "#説明変数の重要度取得\n",
    "imp = imp.groupby(\"col\")[\"imp\"].agg([\"mean\", \"std\"]).reset_index(drop=False)\n",
    "imp.columns = [\"col\", \"imp\", \"imp_std\"]\n",
    "imp.head()"
   ]
  },
  {
   "cell_type": "code",
   "execution_count": 15,
   "id": "cd95d3da",
   "metadata": {
    "execution": {
     "iopub.execute_input": "2023-04-09T16:22:50.114513Z",
     "iopub.status.busy": "2023-04-09T16:22:50.113733Z",
     "iopub.status.idle": "2023-04-09T16:22:50.131441Z",
     "shell.execute_reply": "2023-04-09T16:22:50.130286Z"
    },
    "papermill": {
     "duration": 0.033451,
     "end_time": "2023-04-09T16:22:50.134072",
     "exception": false,
     "start_time": "2023-04-09T16:22:50.100621",
     "status": "completed"
    },
    "tags": []
   },
   "outputs": [],
   "source": [
    "#学習関数の定義\n",
    "def train_lgb(input_x,\n",
    "              input_y,\n",
    "              input_id,\n",
    "              params,\n",
    "              list_nfold=[0,1,2,3,4],\n",
    "              n_splits=5,\n",
    "             ):\n",
    "    train_oof = np.zeros(len(input_x))\n",
    "    metrics = []\n",
    "    imp = pd.DataFrame()\n",
    "\n",
    "    # cross-validation\n",
    "    cv = list(StratifiedKFold(n_splits=n_splits, shuffle=True, random_state=123).split(input_x, input_y))\n",
    "    for nfold in list_nfold:\n",
    "        print(\"-\"*20, nfold, \"-\"*20)\n",
    "        \n",
    "        # make dataset\n",
    "        idx_tr, idx_va = cv[nfold][0], cv[nfold][1]\n",
    "        x_tr, y_tr, id_tr = input_x.loc[idx_tr, :], input_y[idx_tr], input_id.loc[idx_tr, :]\n",
    "        x_va, y_va, id_va = input_x.loc[idx_va, :], input_y[idx_va], input_id.loc[idx_va, :]\n",
    "        print(x_tr.shape, x_va.shape)\n",
    "        \n",
    "        # train\n",
    "        model = lgb.LGBMClassifier(**params)\n",
    "        model.fit(x_tr,\n",
    "                  y_tr,\n",
    "                  eval_set=[(x_tr, y_tr), (x_va, y_va)],\n",
    "                  early_stopping_rounds=100,\n",
    "                  verbose=100\n",
    "                 )\n",
    "        fname_lgb = \"model_lgb_fold{}.pickle\".format(nfold)\n",
    "        with open(fname_lgb, \"wb\") as f:\n",
    "            pickle.dump(model, f, protocol=4)\n",
    "        \n",
    "        # evaluate\n",
    "        y_tr_pred = model.predict_proba(x_tr)[:,1]\n",
    "        y_va_pred = model.predict_proba(x_va)[:,1]\n",
    "        metric_tr = roc_auc_score(y_tr, y_tr_pred)\n",
    "        metric_va = roc_auc_score(y_va, y_va_pred)\n",
    "        metrics.append([nfold, metric_tr, metric_va])\n",
    "        print(\"[auc] tr:{:.4f}, va:{:.4f}\".format(metric_tr, metric_va))\n",
    "        \n",
    "        # oof\n",
    "        train_oof[idx_va] = y_va_pred\n",
    "        \n",
    "        # imp\n",
    "        _imp = pd.DataFrame({\"col\":input_x.columns, \"imp\":model.feature_importances_, \"nfold\":nfold})\n",
    "        imp = pd.concat([imp, _imp])\n",
    "      \n",
    "    print(\"-\"*20, \"result\", \"-\"*20)\n",
    "    # metric\n",
    "    metrics = np.array(metrics)\n",
    "    print(metrics)\n",
    "    print(\"[cv] tr:{:.4f}+-{:.4f}, va:{:.4f}+-{:.4f}\".format(\n",
    "        metrics[:,1].mean(), metrics[:,1].std(),\n",
    "        metrics[:,2].mean(), metrics[:,2].std(),\n",
    "    ))\n",
    "    print(\"[oof] {:.4f}\".format(\n",
    "        roc_auc_score(input_y, train_oof)\n",
    "    ))\n",
    "    \n",
    "    # oof\n",
    "    train_oof = pd.concat([\n",
    "        input_id,\n",
    "        pd.DataFrame({\"pred\":train_oof})\n",
    "    ], axis=1)\n",
    "    \n",
    "    # importance\n",
    "    imp = imp.groupby(\"col\")[\"imp\"].agg([\"mean\", \"std\"]).reset_index(drop=False)\n",
    "    imp.columns = [\"col\", \"imp\", \"imp_std\"]\n",
    "    \n",
    "    return train_oof, imp, metrics"
   ]
  },
  {
   "cell_type": "code",
   "execution_count": 16,
   "id": "3553d419",
   "metadata": {
    "execution": {
     "iopub.execute_input": "2023-04-09T16:22:50.160872Z",
     "iopub.status.busy": "2023-04-09T16:22:50.160081Z",
     "iopub.status.idle": "2023-04-09T16:25:34.329260Z",
     "shell.execute_reply": "2023-04-09T16:25:34.328226Z"
    },
    "papermill": {
     "duration": 164.185455,
     "end_time": "2023-04-09T16:25:34.331980",
     "exception": false,
     "start_time": "2023-04-09T16:22:50.146525",
     "status": "completed"
    },
    "tags": []
   },
   "outputs": [
    {
     "name": "stdout",
     "output_type": "stream",
     "text": [
      "-------------------- 0 --------------------\n",
      "(246008, 120) (61503, 120)\n",
      "[100]\ttraining's auc: 0.782506\tvalid_1's auc: 0.755903\n",
      "[200]\ttraining's auc: 0.808961\tvalid_1's auc: 0.758356\n",
      "[300]\ttraining's auc: 0.829245\tvalid_1's auc: 0.757774\n",
      "[auc] tr:0.8126, va:0.7586\n",
      "-------------------- 1 --------------------\n",
      "(246009, 120) (61502, 120)\n",
      "[100]\ttraining's auc: 0.782531\tvalid_1's auc: 0.756239\n",
      "[200]\ttraining's auc: 0.808862\tvalid_1's auc: 0.758924\n",
      "[300]\ttraining's auc: 0.829564\tvalid_1's auc: 0.758779\n",
      "[auc] tr:0.8170, va:0.7590\n",
      "-------------------- 2 --------------------\n",
      "(246009, 120) (61502, 120)\n",
      "[100]\ttraining's auc: 0.782101\tvalid_1's auc: 0.758221\n",
      "[200]\ttraining's auc: 0.809587\tvalid_1's auc: 0.760104\n",
      "[300]\ttraining's auc: 0.830474\tvalid_1's auc: 0.760275\n",
      "[400]\ttraining's auc: 0.847388\tvalid_1's auc: 0.759875\n",
      "[auc] tr:0.8362, va:0.7604\n",
      "-------------------- 3 --------------------\n",
      "(246009, 120) (61502, 120)\n",
      "[100]\ttraining's auc: 0.783853\tvalid_1's auc: 0.754567\n",
      "[200]\ttraining's auc: 0.811501\tvalid_1's auc: 0.75659\n",
      "[300]\ttraining's auc: 0.83224\tvalid_1's auc: 0.756854\n",
      "[auc] tr:0.8244, va:0.7571\n",
      "-------------------- 4 --------------------\n",
      "(246009, 120) (61502, 120)\n",
      "[100]\ttraining's auc: 0.783715\tvalid_1's auc: 0.748435\n",
      "[200]\ttraining's auc: 0.81071\tvalid_1's auc: 0.751348\n",
      "[300]\ttraining's auc: 0.830488\tvalid_1's auc: 0.751241\n",
      "[auc] tr:0.8113, va:0.7514\n",
      "-------------------- result --------------------\n",
      "[[0.         0.81257796 0.75859528]\n",
      " [1.         0.8169515  0.7590332 ]\n",
      " [2.         0.83620918 0.7603778 ]\n",
      " [3.         0.82436296 0.7571206 ]\n",
      " [4.         0.81133335 0.75141465]]\n",
      "[cv] tr:0.8203+-0.0092, va:0.7573+-0.0031\n",
      "[oof] 0.7573\n"
     ]
    }
   ],
   "source": [
    "# ハイパーパラメータの設定\n",
    "params = {\n",
    "    'boosting_type': 'gbdt',\n",
    "    'objective': 'binary', \n",
    "    'metric': 'auc',\n",
    "    'learning_rate': 0.05,\n",
    "    'num_leaves': 32,\n",
    "    'n_estimators': 100000,\n",
    "    \"random_state\": 123,\n",
    "    \"importance_type\": \"gain\",\n",
    "}\n",
    "\n",
    "# 学習の実行\n",
    "train_oof, imp, metrics = train_lgb(x_train,\n",
    "                                    y_train,\n",
    "                                    id_train,\n",
    "                                    params,\n",
    "                                    list_nfold=[0,1,2,3,4],\n",
    "                                    n_splits=5,\n",
    "                                   )"
   ]
  },
  {
   "cell_type": "code",
   "execution_count": 17,
   "id": "430bc294",
   "metadata": {
    "execution": {
     "iopub.execute_input": "2023-04-09T16:25:34.360280Z",
     "iopub.status.busy": "2023-04-09T16:25:34.359882Z",
     "iopub.status.idle": "2023-04-09T16:25:34.372514Z",
     "shell.execute_reply": "2023-04-09T16:25:34.371378Z"
    },
    "papermill": {
     "duration": 0.029542,
     "end_time": "2023-04-09T16:25:34.374889",
     "exception": false,
     "start_time": "2023-04-09T16:25:34.345347",
     "status": "completed"
    },
    "tags": []
   },
   "outputs": [
    {
     "data": {
      "text/html": [
       "<div>\n",
       "<style scoped>\n",
       "    .dataframe tbody tr th:only-of-type {\n",
       "        vertical-align: middle;\n",
       "    }\n",
       "\n",
       "    .dataframe tbody tr th {\n",
       "        vertical-align: top;\n",
       "    }\n",
       "\n",
       "    .dataframe thead th {\n",
       "        text-align: right;\n",
       "    }\n",
       "</style>\n",
       "<table border=\"1\" class=\"dataframe\">\n",
       "  <thead>\n",
       "    <tr style=\"text-align: right;\">\n",
       "      <th></th>\n",
       "      <th>col</th>\n",
       "      <th>imp</th>\n",
       "      <th>imp_std</th>\n",
       "    </tr>\n",
       "  </thead>\n",
       "  <tbody>\n",
       "    <tr>\n",
       "      <th>38</th>\n",
       "      <td>EXT_SOURCE_3</td>\n",
       "      <td>65353.907478</td>\n",
       "      <td>1558.201212</td>\n",
       "    </tr>\n",
       "    <tr>\n",
       "      <th>37</th>\n",
       "      <td>EXT_SOURCE_2</td>\n",
       "      <td>54545.388309</td>\n",
       "      <td>1251.798934</td>\n",
       "    </tr>\n",
       "    <tr>\n",
       "      <th>102</th>\n",
       "      <td>ORGANIZATION_TYPE</td>\n",
       "      <td>21441.917474</td>\n",
       "      <td>1450.246190</td>\n",
       "    </tr>\n",
       "    <tr>\n",
       "      <th>36</th>\n",
       "      <td>EXT_SOURCE_1</td>\n",
       "      <td>20051.934248</td>\n",
       "      <td>685.852224</td>\n",
       "    </tr>\n",
       "    <tr>\n",
       "      <th>1</th>\n",
       "      <td>AMT_CREDIT</td>\n",
       "      <td>8263.228728</td>\n",
       "      <td>410.384434</td>\n",
       "    </tr>\n",
       "    <tr>\n",
       "      <th>22</th>\n",
       "      <td>DAYS_BIRTH</td>\n",
       "      <td>7645.589110</td>\n",
       "      <td>689.458833</td>\n",
       "    </tr>\n",
       "    <tr>\n",
       "      <th>2</th>\n",
       "      <td>AMT_GOODS_PRICE</td>\n",
       "      <td>7263.054566</td>\n",
       "      <td>405.837031</td>\n",
       "    </tr>\n",
       "    <tr>\n",
       "      <th>0</th>\n",
       "      <td>AMT_ANNUITY</td>\n",
       "      <td>6762.953640</td>\n",
       "      <td>479.302045</td>\n",
       "    </tr>\n",
       "    <tr>\n",
       "      <th>23</th>\n",
       "      <td>DAYS_EMPLOYED</td>\n",
       "      <td>5810.288375</td>\n",
       "      <td>552.937730</td>\n",
       "    </tr>\n",
       "    <tr>\n",
       "      <th>101</th>\n",
       "      <td>OCCUPATION_TYPE</td>\n",
       "      <td>5502.675859</td>\n",
       "      <td>831.872392</td>\n",
       "    </tr>\n",
       "  </tbody>\n",
       "</table>\n",
       "</div>"
      ],
      "text/plain": [
       "                   col           imp      imp_std\n",
       "38        EXT_SOURCE_3  65353.907478  1558.201212\n",
       "37        EXT_SOURCE_2  54545.388309  1251.798934\n",
       "102  ORGANIZATION_TYPE  21441.917474  1450.246190\n",
       "36        EXT_SOURCE_1  20051.934248   685.852224\n",
       "1           AMT_CREDIT   8263.228728   410.384434\n",
       "22          DAYS_BIRTH   7645.589110   689.458833\n",
       "2      AMT_GOODS_PRICE   7263.054566   405.837031\n",
       "0          AMT_ANNUITY   6762.953640   479.302045\n",
       "23       DAYS_EMPLOYED   5810.288375   552.937730\n",
       "101    OCCUPATION_TYPE   5502.675859   831.872392"
      ]
     },
     "execution_count": 17,
     "metadata": {},
     "output_type": "execute_result"
    }
   ],
   "source": [
    "#説明変数の重要度の確認\n",
    "imp.sort_values(\"imp\", ascending=False)[:10]"
   ]
  },
  {
   "cell_type": "markdown",
   "id": "878e92ca",
   "metadata": {
    "papermill": {
     "duration": 0.013575,
     "end_time": "2023-04-09T16:25:34.402086",
     "exception": false,
     "start_time": "2023-04-09T16:25:34.388511",
     "status": "completed"
    },
    "tags": []
   },
   "source": [
    "## モデル推論"
   ]
  },
  {
   "cell_type": "code",
   "execution_count": 18,
   "id": "28f18c80",
   "metadata": {
    "execution": {
     "iopub.execute_input": "2023-04-09T16:25:34.430795Z",
     "iopub.status.busy": "2023-04-09T16:25:34.430367Z",
     "iopub.status.idle": "2023-04-09T16:25:35.802988Z",
     "shell.execute_reply": "2023-04-09T16:25:35.801700Z"
    },
    "papermill": {
     "duration": 1.390085,
     "end_time": "2023-04-09T16:25:35.805628",
     "exception": false,
     "start_time": "2023-04-09T16:25:34.415543",
     "status": "completed"
    },
    "tags": []
   },
   "outputs": [
    {
     "name": "stdout",
     "output_type": "stream",
     "text": [
      "Memory usage of dataframe is 45.00 MB\n",
      "Memory usage after optimization is: 14.60 MB\n",
      "Decreased by 67.6%\n"
     ]
    }
   ],
   "source": [
    "'''推論用データセットの作成'''\n",
    "# ファイルの読み込み\n",
    "application_test = pd.read_csv(\"../input/home-credit-default-risk/application_test.csv\")\n",
    "application_test = reduce_mem_usage(application_test)\n",
    "\n",
    "# データセットの作成\n",
    "x_test = application_test.drop(columns=[\"SK_ID_CURR\" ])\n",
    "id_test = application_test[[\"SK_ID_CURR\"]]\n",
    "\n",
    "# カテゴリ変数をcategory型に変換\n",
    "for col in x_test.columns:\n",
    "    if x_test[col].dtype==\"O\":\n",
    "        x_test[col] = x_test[col].astype(\"category\")"
   ]
  },
  {
   "cell_type": "code",
   "execution_count": 19,
   "id": "94a70bc6",
   "metadata": {
    "execution": {
     "iopub.execute_input": "2023-04-09T16:25:35.834716Z",
     "iopub.status.busy": "2023-04-09T16:25:35.834296Z",
     "iopub.status.idle": "2023-04-09T16:25:35.848832Z",
     "shell.execute_reply": "2023-04-09T16:25:35.847505Z"
    },
    "papermill": {
     "duration": 0.032192,
     "end_time": "2023-04-09T16:25:35.851597",
     "exception": false,
     "start_time": "2023-04-09T16:25:35.819405",
     "status": "completed"
    },
    "tags": []
   },
   "outputs": [],
   "source": [
    "#学習済みモデル読み込み\n",
    "with open(\"model_lgb_fold0.pickle\", \"rb\") as f:\n",
    "    model = pickle.load(f)"
   ]
  },
  {
   "cell_type": "code",
   "execution_count": 20,
   "id": "5009f282",
   "metadata": {
    "execution": {
     "iopub.execute_input": "2023-04-09T16:25:35.881084Z",
     "iopub.status.busy": "2023-04-09T16:25:35.880417Z",
     "iopub.status.idle": "2023-04-09T16:25:36.348496Z",
     "shell.execute_reply": "2023-04-09T16:25:36.347565Z"
    },
    "papermill": {
     "duration": 0.485433,
     "end_time": "2023-04-09T16:25:36.350991",
     "exception": false,
     "start_time": "2023-04-09T16:25:35.865558",
     "status": "completed"
    },
    "tags": []
   },
   "outputs": [],
   "source": [
    "'''モデルを用いた推論'''\n",
    "# 推論\n",
    "test_pred_fold = model.predict_proba(x_test)[:,1]\n",
    "\n",
    "# 推論値を格納する変数を作成\n",
    "test_pred = np.zeros((len(x_test), 5))\n",
    "\n",
    "# 1fold目の予測値を格納\n",
    "test_pred[:, 0] = test_pred_fold"
   ]
  },
  {
   "cell_type": "code",
   "execution_count": 21,
   "id": "f9445138",
   "metadata": {
    "execution": {
     "iopub.execute_input": "2023-04-09T16:25:36.379674Z",
     "iopub.status.busy": "2023-04-09T16:25:36.378983Z",
     "iopub.status.idle": "2023-04-09T16:25:36.392980Z",
     "shell.execute_reply": "2023-04-09T16:25:36.391806Z"
    },
    "papermill": {
     "duration": 0.03097,
     "end_time": "2023-04-09T16:25:36.395251",
     "exception": false,
     "start_time": "2023-04-09T16:25:36.364281",
     "status": "completed"
    },
    "tags": []
   },
   "outputs": [
    {
     "data": {
      "text/html": [
       "<div>\n",
       "<style scoped>\n",
       "    .dataframe tbody tr th:only-of-type {\n",
       "        vertical-align: middle;\n",
       "    }\n",
       "\n",
       "    .dataframe tbody tr th {\n",
       "        vertical-align: top;\n",
       "    }\n",
       "\n",
       "    .dataframe thead th {\n",
       "        text-align: right;\n",
       "    }\n",
       "</style>\n",
       "<table border=\"1\" class=\"dataframe\">\n",
       "  <thead>\n",
       "    <tr style=\"text-align: right;\">\n",
       "      <th></th>\n",
       "      <th>SK_ID_CURR</th>\n",
       "      <th>pred</th>\n",
       "    </tr>\n",
       "  </thead>\n",
       "  <tbody>\n",
       "    <tr>\n",
       "      <th>0</th>\n",
       "      <td>100001</td>\n",
       "      <td>0.006572</td>\n",
       "    </tr>\n",
       "    <tr>\n",
       "      <th>1</th>\n",
       "      <td>100005</td>\n",
       "      <td>0.023874</td>\n",
       "    </tr>\n",
       "    <tr>\n",
       "      <th>2</th>\n",
       "      <td>100013</td>\n",
       "      <td>0.004233</td>\n",
       "    </tr>\n",
       "    <tr>\n",
       "      <th>3</th>\n",
       "      <td>100028</td>\n",
       "      <td>0.008966</td>\n",
       "    </tr>\n",
       "    <tr>\n",
       "      <th>4</th>\n",
       "      <td>100038</td>\n",
       "      <td>0.030794</td>\n",
       "    </tr>\n",
       "  </tbody>\n",
       "</table>\n",
       "</div>"
      ],
      "text/plain": [
       "   SK_ID_CURR      pred\n",
       "0      100001  0.006572\n",
       "1      100005  0.023874\n",
       "2      100013  0.004233\n",
       "3      100028  0.008966\n",
       "4      100038  0.030794"
      ]
     },
     "execution_count": 21,
     "metadata": {},
     "output_type": "execute_result"
    }
   ],
   "source": [
    "'''推論用データセットの推論値算出'''\n",
    "# 各foldの推論値の平均値を算出\n",
    "test_pred_mean = test_pred.mean(axis=1)\n",
    "\n",
    "# 推論値のデータフレームを作成\n",
    "df_test_pred = pd.concat([\n",
    "        id_test,\n",
    "        pd.DataFrame({\"pred\": test_pred_mean}),\n",
    "    ], axis=1)\n",
    "df_test_pred.head()"
   ]
  },
  {
   "cell_type": "code",
   "execution_count": 22,
   "id": "37848801",
   "metadata": {
    "execution": {
     "iopub.execute_input": "2023-04-09T16:25:36.424200Z",
     "iopub.status.busy": "2023-04-09T16:25:36.423501Z",
     "iopub.status.idle": "2023-04-09T16:25:36.431534Z",
     "shell.execute_reply": "2023-04-09T16:25:36.430687Z"
    },
    "papermill": {
     "duration": 0.025321,
     "end_time": "2023-04-09T16:25:36.433900",
     "exception": false,
     "start_time": "2023-04-09T16:25:36.408579",
     "status": "completed"
    },
    "tags": []
   },
   "outputs": [],
   "source": [
    "#推論関数の定義\n",
    "def predict_lgb(input_x,\n",
    "                input_id,\n",
    "                list_nfold=[0,1,2,3,4],\n",
    "               ):\n",
    "    pred = np.zeros((len(input_x), len(list_nfold)))\n",
    "    for nfold in list_nfold:\n",
    "        print(\"-\"*20, nfold, \"-\"*20)\n",
    "        fname_lgb = \"model_lgb_fold{}.pickle\".format(nfold)\n",
    "        with open(fname_lgb, \"rb\") as f:\n",
    "            model = pickle.load(f)\n",
    "        pred[:, nfold] = model.predict_proba(input_x)[:,1]\n",
    "    \n",
    "    pred = pd.concat([\n",
    "        input_id,\n",
    "        pd.DataFrame({\"pred\": pred.mean(axis=1)}),\n",
    "    ], axis=1)\n",
    "    \n",
    "    print(\"Done.\")\n",
    "    \n",
    "    return pred"
   ]
  },
  {
   "cell_type": "code",
   "execution_count": 23,
   "id": "557eb8e6",
   "metadata": {
    "execution": {
     "iopub.execute_input": "2023-04-09T16:25:36.462926Z",
     "iopub.status.busy": "2023-04-09T16:25:36.462275Z",
     "iopub.status.idle": "2023-04-09T16:25:39.003550Z",
     "shell.execute_reply": "2023-04-09T16:25:39.002181Z"
    },
    "papermill": {
     "duration": 2.559473,
     "end_time": "2023-04-09T16:25:39.006824",
     "exception": false,
     "start_time": "2023-04-09T16:25:36.447351",
     "status": "completed"
    },
    "tags": []
   },
   "outputs": [
    {
     "name": "stdout",
     "output_type": "stream",
     "text": [
      "-------------------- 0 --------------------\n",
      "-------------------- 1 --------------------\n",
      "-------------------- 2 --------------------\n",
      "-------------------- 3 --------------------\n",
      "-------------------- 4 --------------------\n",
      "Done.\n"
     ]
    }
   ],
   "source": [
    "#推論処理の実行\n",
    "test_pred = predict_lgb(x_test,\n",
    "                        id_test,\n",
    "                        list_nfold=[0,1,2,3,4],\n",
    "                       )"
   ]
  },
  {
   "cell_type": "code",
   "execution_count": 24,
   "id": "bb001520",
   "metadata": {
    "execution": {
     "iopub.execute_input": "2023-04-09T16:25:39.036863Z",
     "iopub.status.busy": "2023-04-09T16:25:39.036172Z",
     "iopub.status.idle": "2023-04-09T16:25:39.168112Z",
     "shell.execute_reply": "2023-04-09T16:25:39.167146Z"
    },
    "papermill": {
     "duration": 0.150109,
     "end_time": "2023-04-09T16:25:39.170887",
     "exception": false,
     "start_time": "2023-04-09T16:25:39.020778",
     "status": "completed"
    },
    "tags": []
   },
   "outputs": [
    {
     "name": "stdout",
     "output_type": "stream",
     "text": [
      "(48744, 2)\n"
     ]
    },
    {
     "data": {
      "text/html": [
       "<div>\n",
       "<style scoped>\n",
       "    .dataframe tbody tr th:only-of-type {\n",
       "        vertical-align: middle;\n",
       "    }\n",
       "\n",
       "    .dataframe tbody tr th {\n",
       "        vertical-align: top;\n",
       "    }\n",
       "\n",
       "    .dataframe thead th {\n",
       "        text-align: right;\n",
       "    }\n",
       "</style>\n",
       "<table border=\"1\" class=\"dataframe\">\n",
       "  <thead>\n",
       "    <tr style=\"text-align: right;\">\n",
       "      <th></th>\n",
       "      <th>SK_ID_CURR</th>\n",
       "      <th>TARGET</th>\n",
       "    </tr>\n",
       "  </thead>\n",
       "  <tbody>\n",
       "    <tr>\n",
       "      <th>0</th>\n",
       "      <td>100001</td>\n",
       "      <td>0.041810</td>\n",
       "    </tr>\n",
       "    <tr>\n",
       "      <th>1</th>\n",
       "      <td>100005</td>\n",
       "      <td>0.126400</td>\n",
       "    </tr>\n",
       "    <tr>\n",
       "      <th>2</th>\n",
       "      <td>100013</td>\n",
       "      <td>0.022495</td>\n",
       "    </tr>\n",
       "    <tr>\n",
       "      <th>3</th>\n",
       "      <td>100028</td>\n",
       "      <td>0.039680</td>\n",
       "    </tr>\n",
       "    <tr>\n",
       "      <th>4</th>\n",
       "      <td>100038</td>\n",
       "      <td>0.156628</td>\n",
       "    </tr>\n",
       "  </tbody>\n",
       "</table>\n",
       "</div>"
      ],
      "text/plain": [
       "   SK_ID_CURR    TARGET\n",
       "0      100001  0.041810\n",
       "1      100005  0.126400\n",
       "2      100013  0.022495\n",
       "3      100028  0.039680\n",
       "4      100038  0.156628"
      ]
     },
     "metadata": {},
     "output_type": "display_data"
    }
   ],
   "source": [
    "#提出ファイルの作成\n",
    "df_submit = test_pred.rename(columns={\"pred\":\"TARGET\"})\n",
    "print(df_submit.shape)\n",
    "display(df_submit.head())\n",
    "\n",
    "# ファイル出力\n",
    "df_submit.to_csv(\"submission_baseline.csv\", index=None)"
   ]
  },
  {
   "cell_type": "markdown",
   "id": "3756f0ad",
   "metadata": {
    "papermill": {
     "duration": 0.013761,
     "end_time": "2023-04-09T16:25:39.198946",
     "exception": false,
     "start_time": "2023-04-09T16:25:39.185185",
     "status": "completed"
    },
    "tags": []
   },
   "source": [
    "# 特徴量エンジニアリング"
   ]
  },
  {
   "cell_type": "markdown",
   "id": "6a2df72a",
   "metadata": {
    "papermill": {
     "duration": 0.013809,
     "end_time": "2023-04-09T16:25:39.227798",
     "exception": false,
     "start_time": "2023-04-09T16:25:39.213989",
     "status": "completed"
    },
    "tags": []
   },
   "source": [
    "## 特徴量エンジニアリング:application_train.csv"
   ]
  },
  {
   "cell_type": "code",
   "execution_count": 25,
   "id": "cc3de6c7",
   "metadata": {
    "execution": {
     "iopub.execute_input": "2023-04-09T16:25:39.258244Z",
     "iopub.status.busy": "2023-04-09T16:25:39.257500Z",
     "iopub.status.idle": "2023-04-09T16:25:39.274634Z",
     "shell.execute_reply": "2023-04-09T16:25:39.273371Z"
    },
    "papermill": {
     "duration": 0.035395,
     "end_time": "2023-04-09T16:25:39.277302",
     "exception": false,
     "start_time": "2023-04-09T16:25:39.241907",
     "status": "completed"
    },
    "tags": []
   },
   "outputs": [
    {
     "data": {
      "text/plain": [
       " 365243    55374\n",
       "-200         156\n",
       "-224         152\n",
       "-230         151\n",
       "-199         151\n",
       "           ...  \n",
       "-13961         1\n",
       "-11827         1\n",
       "-10176         1\n",
       "-9459          1\n",
       "-8694          1\n",
       "Name: DAYS_EMPLOYED, Length: 12574, dtype: int64"
      ]
     },
     "metadata": {},
     "output_type": "display_data"
    },
    {
     "name": "stdout",
     "output_type": "stream",
     "text": [
      "正の値の割合: 0.1801\n",
      "正の値の個数: 55374\n"
     ]
    }
   ],
   "source": [
    "#データの確認\n",
    "display(application_train[\"DAYS_EMPLOYED\"].value_counts())\n",
    "print(\"正の値の割合: {:.4f}\".format((application_train[\"DAYS_EMPLOYED\"]>0).mean()))\n",
    "print(\"正の値の個数: {}\".format((application_train[\"DAYS_EMPLOYED\"]>0).sum()))\n",
    "# -> 正の値が18%。しかもすべて8割が365243と同一値。働き始めてからの日数をマイナス表記しているためこれは欠損と判断。"
   ]
  },
  {
   "cell_type": "code",
   "execution_count": 26,
   "id": "52a1c0e1",
   "metadata": {
    "execution": {
     "iopub.execute_input": "2023-04-09T16:25:39.308171Z",
     "iopub.status.busy": "2023-04-09T16:25:39.307774Z",
     "iopub.status.idle": "2023-04-09T16:25:39.318159Z",
     "shell.execute_reply": "2023-04-09T16:25:39.317170Z"
    },
    "papermill": {
     "duration": 0.028731,
     "end_time": "2023-04-09T16:25:39.320774",
     "exception": false,
     "start_time": "2023-04-09T16:25:39.292043",
     "status": "completed"
    },
    "tags": []
   },
   "outputs": [],
   "source": [
    "#欠損値をnullに変換\n",
    "application_train[\"DAYS_EMPLOYED\"] = application_train[\"DAYS_EMPLOYED\"].replace(365243, np.nan)"
   ]
  },
  {
   "cell_type": "code",
   "execution_count": 27,
   "id": "5903b0fe",
   "metadata": {
    "execution": {
     "iopub.execute_input": "2023-04-09T16:25:39.353160Z",
     "iopub.status.busy": "2023-04-09T16:25:39.352689Z",
     "iopub.status.idle": "2023-04-09T16:25:39.632387Z",
     "shell.execute_reply": "2023-04-09T16:25:39.631328Z"
    },
    "papermill": {
     "duration": 0.298492,
     "end_time": "2023-04-09T16:25:39.635108",
     "exception": false,
     "start_time": "2023-04-09T16:25:39.336616",
     "status": "completed"
    },
    "tags": []
   },
   "outputs": [],
   "source": [
    "'''仮説に基づく特徴量生成'''\n",
    "# 特徴量1: 総所得金額を世帯人数で割った値\n",
    "# [仮説1]　所得金額が同じでも家族人数が多いほうが経済的な負担が大きいため貸し倒れリスクが高そう\n",
    "application_train['INCOME_div_PERSON'] = application_train['AMT_INCOME_TOTAL'] / application_train['CNT_FAM_MEMBERS']\n",
    "\n",
    "# 特徴量2: 総所得金額を就労期間で割った値\n",
    "# [仮説2]　所得金額が同じでも就労期間が短い方が優秀そうで貸し倒れリスクが低そう\n",
    "application_train['INCOME_div_EMPLOYED'] = application_train['AMT_INCOME_TOTAL'] / application_train['DAYS_EMPLOYED']\n",
    "\n",
    "# 特徴量3: 外部スコアの平均値など\n",
    "# [仮説3]　外部機関によるスコアが平均的に高い方が貸し倒れリスクが低そう\n",
    "application_train[\"EXT_SOURCE_mean\"] = application_train[[\"EXT_SOURCE_1\", \"EXT_SOURCE_2\", \"EXT_SOURCE_3\"]].mean(axis=1)\n",
    "application_train[\"EXT_SOURCE_max\"] = application_train[[\"EXT_SOURCE_1\", \"EXT_SOURCE_2\", \"EXT_SOURCE_3\"]].max(axis=1)\n",
    "application_train[\"EXT_SOURCE_min\"] = application_train[[\"EXT_SOURCE_1\", \"EXT_SOURCE_2\", \"EXT_SOURCE_3\"]].min(axis=1)\n",
    "application_train[\"EXT_SOURCE_std\"] = application_train[[\"EXT_SOURCE_1\", \"EXT_SOURCE_2\", \"EXT_SOURCE_3\"]].std(axis=1)\n",
    "application_train[\"EXT_SOURCE_count\"] = application_train[[\"EXT_SOURCE_1\", \"EXT_SOURCE_2\", \"EXT_SOURCE_3\"]].notnull().sum(axis=1)\n",
    "\n",
    "# 特徴量4: 就労期間を年齢で割った値 (年齢に占める就労期間の割合)\n",
    "# [仮説4]　念連に占める就労期間が長いほうが貸し倒れリスクが低そう（離職リスクが少ないと考えるため）\n",
    "application_train['DAYS_EMPLOYED_div_BIRTH'] = application_train['DAYS_EMPLOYED'] / application_train['DAYS_BIRTH']\n",
    "\n",
    "# 特徴量5: 年金支払額を所得金額で割った値\n",
    "# [仮説5]　所得金額に占める年金支払額が少ないほうが貸し倒れリスクが低そう\n",
    "application_train['ANNUITY_div_INCOME'] = application_train['AMT_ANNUITY'] / application_train['AMT_INCOME_TOTAL']\n",
    "\n",
    "# 特徴量6: 年金支払額を借入金で割った値\n",
    "# [仮説6]　借入金に占める年金支払額が少ないほうが貸し倒れリスクが低そう\n",
    "application_train['ANNUITY_div_CREDIT'] = application_train['AMT_ANNUITY'] / application_train['AMT_CREDIT']"
   ]
  },
  {
   "cell_type": "code",
   "execution_count": 28,
   "id": "7fde14a0",
   "metadata": {
    "execution": {
     "iopub.execute_input": "2023-04-09T16:25:39.665821Z",
     "iopub.status.busy": "2023-04-09T16:25:39.665394Z",
     "iopub.status.idle": "2023-04-09T16:25:40.592631Z",
     "shell.execute_reply": "2023-04-09T16:25:40.591412Z"
    },
    "papermill": {
     "duration": 0.946007,
     "end_time": "2023-04-09T16:25:40.595635",
     "exception": false,
     "start_time": "2023-04-09T16:25:39.649628",
     "status": "completed"
    },
    "tags": []
   },
   "outputs": [],
   "source": [
    "#データセットの作成\n",
    "x_train = application_train.drop(columns=[\"TARGET\", \"SK_ID_CURR\"])\n",
    "y_train = application_train[\"TARGET\"]\n",
    "id_train = application_train[[\"SK_ID_CURR\"]]\n",
    "\n",
    "for col in x_train.columns:\n",
    "    if x_train[col].dtype==\"O\":\n",
    "        x_train[col] = x_train[col].astype(\"category\")"
   ]
  },
  {
   "cell_type": "code",
   "execution_count": 29,
   "id": "ebc9eb4c",
   "metadata": {
    "execution": {
     "iopub.execute_input": "2023-04-09T16:25:40.626118Z",
     "iopub.status.busy": "2023-04-09T16:25:40.625669Z",
     "iopub.status.idle": "2023-04-09T16:29:38.392636Z",
     "shell.execute_reply": "2023-04-09T16:29:38.390656Z"
    },
    "papermill": {
     "duration": 237.784891,
     "end_time": "2023-04-09T16:29:38.394986",
     "exception": false,
     "start_time": "2023-04-09T16:25:40.610095",
     "status": "completed"
    },
    "tags": []
   },
   "outputs": [
    {
     "name": "stdout",
     "output_type": "stream",
     "text": [
      "-------------------- 0 --------------------\n",
      "(246008, 130) (61503, 130)\n",
      "[100]\ttraining's auc: 0.787817\tvalid_1's auc: 0.760032\n",
      "[200]\ttraining's auc: 0.816788\tvalid_1's auc: 0.763696\n",
      "[300]\ttraining's auc: 0.838351\tvalid_1's auc: 0.764008\n",
      "[400]\ttraining's auc: 0.856611\tvalid_1's auc: 0.764045\n",
      "[500]\ttraining's auc: 0.871304\tvalid_1's auc: 0.764075\n",
      "[auc] tr:0.8585, va:0.7641\n",
      "-------------------- 1 --------------------\n",
      "(246009, 130) (61502, 130)\n",
      "[100]\ttraining's auc: 0.788378\tvalid_1's auc: 0.763077\n",
      "[200]\ttraining's auc: 0.816816\tvalid_1's auc: 0.766784\n",
      "[300]\ttraining's auc: 0.838169\tvalid_1's auc: 0.767287\n",
      "[400]\ttraining's auc: 0.856163\tvalid_1's auc: 0.767434\n",
      "[auc] tr:0.8471, va:0.7675\n",
      "-------------------- 2 --------------------\n",
      "(246009, 130) (61502, 130)\n",
      "[100]\ttraining's auc: 0.787655\tvalid_1's auc: 0.764182\n",
      "[200]\ttraining's auc: 0.817121\tvalid_1's auc: 0.767566\n",
      "[300]\ttraining's auc: 0.837872\tvalid_1's auc: 0.767677\n",
      "[400]\ttraining's auc: 0.855451\tvalid_1's auc: 0.76783\n",
      "[auc] tr:0.8519, va:0.7679\n",
      "-------------------- 3 --------------------\n",
      "(246009, 130) (61502, 130)\n",
      "[100]\ttraining's auc: 0.787953\tvalid_1's auc: 0.760392\n",
      "[200]\ttraining's auc: 0.817633\tvalid_1's auc: 0.764592\n",
      "[300]\ttraining's auc: 0.839297\tvalid_1's auc: 0.765105\n",
      "[400]\ttraining's auc: 0.857683\tvalid_1's auc: 0.765196\n",
      "[500]\ttraining's auc: 0.87268\tvalid_1's auc: 0.765068\n",
      "[auc] tr:0.8691, va:0.7653\n",
      "-------------------- 4 --------------------\n",
      "(246009, 130) (61502, 130)\n",
      "[100]\ttraining's auc: 0.789624\tvalid_1's auc: 0.755497\n",
      "[200]\ttraining's auc: 0.818583\tvalid_1's auc: 0.759797\n",
      "[300]\ttraining's auc: 0.839186\tvalid_1's auc: 0.76041\n",
      "[400]\ttraining's auc: 0.856939\tvalid_1's auc: 0.760596\n",
      "[500]\ttraining's auc: 0.87149\tvalid_1's auc: 0.760603\n",
      "[auc] tr:0.8619, va:0.7608\n",
      "-------------------- result --------------------\n",
      "[[0.         0.85845312 0.76414814]\n",
      " [1.         0.8471186  0.76754005]\n",
      " [2.         0.85191008 0.76791531]\n",
      " [3.         0.86911764 0.76531788]\n",
      " [4.         0.86192285 0.76084707]]\n",
      "[cv] tr:0.8577+-0.0077, va:0.7652+-0.0026\n",
      "[oof] 0.7651\n"
     ]
    }
   ],
   "source": [
    "#モデルの学習\n",
    "train_oof, imp, metrics = train_lgb(x_train,\n",
    "                                    y_train,\n",
    "                                    id_train,\n",
    "                                    params,\n",
    "                                    list_nfold=[0,1,2,3,4],\n",
    "                                    n_splits=5,\n",
    "                                   )"
   ]
  },
  {
   "cell_type": "code",
   "execution_count": 30,
   "id": "411e8f91",
   "metadata": {
    "execution": {
     "iopub.execute_input": "2023-04-09T16:29:38.427866Z",
     "iopub.status.busy": "2023-04-09T16:29:38.427161Z",
     "iopub.status.idle": "2023-04-09T16:29:38.439191Z",
     "shell.execute_reply": "2023-04-09T16:29:38.438161Z"
    },
    "papermill": {
     "duration": 0.031355,
     "end_time": "2023-04-09T16:29:38.441646",
     "exception": false,
     "start_time": "2023-04-09T16:29:38.410291",
     "status": "completed"
    },
    "tags": []
   },
   "outputs": [
    {
     "data": {
      "text/html": [
       "<div>\n",
       "<style scoped>\n",
       "    .dataframe tbody tr th:only-of-type {\n",
       "        vertical-align: middle;\n",
       "    }\n",
       "\n",
       "    .dataframe tbody tr th {\n",
       "        vertical-align: top;\n",
       "    }\n",
       "\n",
       "    .dataframe thead th {\n",
       "        text-align: right;\n",
       "    }\n",
       "</style>\n",
       "<table border=\"1\" class=\"dataframe\">\n",
       "  <thead>\n",
       "    <tr style=\"text-align: right;\">\n",
       "      <th></th>\n",
       "      <th>col</th>\n",
       "      <th>imp</th>\n",
       "      <th>imp_std</th>\n",
       "    </tr>\n",
       "  </thead>\n",
       "  <tbody>\n",
       "    <tr>\n",
       "      <th>44</th>\n",
       "      <td>EXT_SOURCE_mean</td>\n",
       "      <td>114005.214702</td>\n",
       "      <td>1381.645644</td>\n",
       "    </tr>\n",
       "    <tr>\n",
       "      <th>10</th>\n",
       "      <td>ANNUITY_div_CREDIT</td>\n",
       "      <td>23720.301550</td>\n",
       "      <td>805.397477</td>\n",
       "    </tr>\n",
       "    <tr>\n",
       "      <th>112</th>\n",
       "      <td>ORGANIZATION_TYPE</td>\n",
       "      <td>22660.210567</td>\n",
       "      <td>1372.230448</td>\n",
       "    </tr>\n",
       "    <tr>\n",
       "      <th>41</th>\n",
       "      <td>EXT_SOURCE_3</td>\n",
       "      <td>12046.854638</td>\n",
       "      <td>886.653726</td>\n",
       "    </tr>\n",
       "    <tr>\n",
       "      <th>24</th>\n",
       "      <td>DAYS_BIRTH</td>\n",
       "      <td>8108.684084</td>\n",
       "      <td>578.972393</td>\n",
       "    </tr>\n",
       "    <tr>\n",
       "      <th>45</th>\n",
       "      <td>EXT_SOURCE_min</td>\n",
       "      <td>7727.391587</td>\n",
       "      <td>314.203161</td>\n",
       "    </tr>\n",
       "    <tr>\n",
       "      <th>39</th>\n",
       "      <td>EXT_SOURCE_1</td>\n",
       "      <td>7155.619219</td>\n",
       "      <td>472.422492</td>\n",
       "    </tr>\n",
       "    <tr>\n",
       "      <th>2</th>\n",
       "      <td>AMT_GOODS_PRICE</td>\n",
       "      <td>6148.167858</td>\n",
       "      <td>364.159044</td>\n",
       "    </tr>\n",
       "    <tr>\n",
       "      <th>0</th>\n",
       "      <td>AMT_ANNUITY</td>\n",
       "      <td>6091.805210</td>\n",
       "      <td>581.987900</td>\n",
       "    </tr>\n",
       "    <tr>\n",
       "      <th>46</th>\n",
       "      <td>EXT_SOURCE_std</td>\n",
       "      <td>5830.390690</td>\n",
       "      <td>679.963947</td>\n",
       "    </tr>\n",
       "  </tbody>\n",
       "</table>\n",
       "</div>"
      ],
      "text/plain": [
       "                    col            imp      imp_std\n",
       "44      EXT_SOURCE_mean  114005.214702  1381.645644\n",
       "10   ANNUITY_div_CREDIT   23720.301550   805.397477\n",
       "112   ORGANIZATION_TYPE   22660.210567  1372.230448\n",
       "41         EXT_SOURCE_3   12046.854638   886.653726\n",
       "24           DAYS_BIRTH    8108.684084   578.972393\n",
       "45       EXT_SOURCE_min    7727.391587   314.203161\n",
       "39         EXT_SOURCE_1    7155.619219   472.422492\n",
       "2       AMT_GOODS_PRICE    6148.167858   364.159044\n",
       "0           AMT_ANNUITY    6091.805210   581.987900\n",
       "46       EXT_SOURCE_std    5830.390690   679.963947"
      ]
     },
     "execution_count": 30,
     "metadata": {},
     "output_type": "execute_result"
    }
   ],
   "source": [
    "#説明変数の重要度の確認\n",
    "imp.sort_values(\"imp\", ascending=False)[:10]"
   ]
  },
  {
   "cell_type": "code",
   "execution_count": 31,
   "id": "40c34015",
   "metadata": {
    "execution": {
     "iopub.execute_input": "2023-04-09T16:29:38.474898Z",
     "iopub.status.busy": "2023-04-09T16:29:38.474236Z",
     "iopub.status.idle": "2023-04-09T16:29:38.665508Z",
     "shell.execute_reply": "2023-04-09T16:29:38.664635Z"
    },
    "papermill": {
     "duration": 0.210592,
     "end_time": "2023-04-09T16:29:38.668062",
     "exception": false,
     "start_time": "2023-04-09T16:29:38.457470",
     "status": "completed"
    },
    "tags": []
   },
   "outputs": [],
   "source": [
    "#推論用データのデータセット作成\n",
    "# nullに置き換え\n",
    "application_test[\"DAYS_EMPLOYED\"] = application_test[\"DAYS_EMPLOYED\"].replace(365243, np.nan)\n",
    "\n",
    "# 特徴量の生成\n",
    "application_test['INCOME_div_PERSON'] = application_test['AMT_INCOME_TOTAL'] / application_test['CNT_FAM_MEMBERS']\n",
    "application_test['INCOME_div_EMPLOYED'] = application_test['AMT_INCOME_TOTAL'] / application_test['DAYS_EMPLOYED']\n",
    "application_test[\"EXT_SOURCE_mean\"] = application_test[[\"EXT_SOURCE_1\", \"EXT_SOURCE_2\", \"EXT_SOURCE_3\"]].mean(axis=1)\n",
    "application_test[\"EXT_SOURCE_max\"] = application_test[[\"EXT_SOURCE_1\", \"EXT_SOURCE_2\", \"EXT_SOURCE_3\"]].max(axis=1)\n",
    "application_test[\"EXT_SOURCE_min\"] = application_test[[\"EXT_SOURCE_1\", \"EXT_SOURCE_2\", \"EXT_SOURCE_3\"]].min(axis=1)\n",
    "application_test[\"EXT_SOURCE_std\"] = application_test[[\"EXT_SOURCE_1\", \"EXT_SOURCE_2\", \"EXT_SOURCE_3\"]].std(axis=1)\n",
    "application_test[\"EXT_SOURCE_count\"] = application_test[[\"EXT_SOURCE_1\", \"EXT_SOURCE_2\", \"EXT_SOURCE_3\"]].notnull().sum(axis=1)\n",
    "application_test['DAYS_EMPLOYED_div_BIRTH'] = application_test['DAYS_EMPLOYED'] / application_test['DAYS_BIRTH']\n",
    "application_test['ANNUITY_div_INCOME'] = application_test['AMT_ANNUITY'] / application_test['AMT_INCOME_TOTAL']\n",
    "application_test['ANNUITY_div_CREDIT'] = application_test['AMT_ANNUITY'] / application_test['AMT_CREDIT']\n",
    "\n",
    "# データセット作成\n",
    "x_test = application_test.drop(columns=[\"SK_ID_CURR\"])\n",
    "id_test = application_test[[\"SK_ID_CURR\"]]\n",
    "\n",
    "# カテゴリ変数をcategory型へ変換\n",
    "for col in x_test.columns:\n",
    "    if x_test[col].dtype==\"O\":\n",
    "        x_test[col] = x_test[col].astype(\"category\")\n"
   ]
  },
  {
   "cell_type": "code",
   "execution_count": 32,
   "id": "3c46bee4",
   "metadata": {
    "execution": {
     "iopub.execute_input": "2023-04-09T16:29:38.701786Z",
     "iopub.status.busy": "2023-04-09T16:29:38.700883Z",
     "iopub.status.idle": "2023-04-09T16:29:41.875270Z",
     "shell.execute_reply": "2023-04-09T16:29:41.874198Z"
    },
    "papermill": {
     "duration": 3.19332,
     "end_time": "2023-04-09T16:29:41.877444",
     "exception": false,
     "start_time": "2023-04-09T16:29:38.684124",
     "status": "completed"
    },
    "tags": []
   },
   "outputs": [
    {
     "name": "stdout",
     "output_type": "stream",
     "text": [
      "-------------------- 0 --------------------\n",
      "-------------------- 1 --------------------\n",
      "-------------------- 2 --------------------\n",
      "-------------------- 3 --------------------\n",
      "-------------------- 4 --------------------\n",
      "Done.\n"
     ]
    }
   ],
   "source": [
    "#推論処理\n",
    "test_pred = predict_lgb(x_test,\n",
    "                        id_test,\n",
    "                        list_nfold=[0,1,2,3,4],\n",
    "                       )"
   ]
  },
  {
   "cell_type": "code",
   "execution_count": 33,
   "id": "053c898d",
   "metadata": {
    "execution": {
     "iopub.execute_input": "2023-04-09T16:29:41.911978Z",
     "iopub.status.busy": "2023-04-09T16:29:41.911085Z",
     "iopub.status.idle": "2023-04-09T16:29:42.027459Z",
     "shell.execute_reply": "2023-04-09T16:29:42.026523Z"
    },
    "papermill": {
     "duration": 0.136354,
     "end_time": "2023-04-09T16:29:42.030148",
     "exception": false,
     "start_time": "2023-04-09T16:29:41.893794",
     "status": "completed"
    },
    "tags": []
   },
   "outputs": [
    {
     "name": "stdout",
     "output_type": "stream",
     "text": [
      "(48744, 2)\n"
     ]
    },
    {
     "data": {
      "text/html": [
       "<div>\n",
       "<style scoped>\n",
       "    .dataframe tbody tr th:only-of-type {\n",
       "        vertical-align: middle;\n",
       "    }\n",
       "\n",
       "    .dataframe tbody tr th {\n",
       "        vertical-align: top;\n",
       "    }\n",
       "\n",
       "    .dataframe thead th {\n",
       "        text-align: right;\n",
       "    }\n",
       "</style>\n",
       "<table border=\"1\" class=\"dataframe\">\n",
       "  <thead>\n",
       "    <tr style=\"text-align: right;\">\n",
       "      <th></th>\n",
       "      <th>SK_ID_CURR</th>\n",
       "      <th>TARGET</th>\n",
       "    </tr>\n",
       "  </thead>\n",
       "  <tbody>\n",
       "    <tr>\n",
       "      <th>0</th>\n",
       "      <td>100001</td>\n",
       "      <td>0.029002</td>\n",
       "    </tr>\n",
       "    <tr>\n",
       "      <th>1</th>\n",
       "      <td>100005</td>\n",
       "      <td>0.121782</td>\n",
       "    </tr>\n",
       "    <tr>\n",
       "      <th>2</th>\n",
       "      <td>100013</td>\n",
       "      <td>0.022668</td>\n",
       "    </tr>\n",
       "    <tr>\n",
       "      <th>3</th>\n",
       "      <td>100028</td>\n",
       "      <td>0.044435</td>\n",
       "    </tr>\n",
       "    <tr>\n",
       "      <th>4</th>\n",
       "      <td>100038</td>\n",
       "      <td>0.181940</td>\n",
       "    </tr>\n",
       "  </tbody>\n",
       "</table>\n",
       "</div>"
      ],
      "text/plain": [
       "   SK_ID_CURR    TARGET\n",
       "0      100001  0.029002\n",
       "1      100005  0.121782\n",
       "2      100013  0.022668\n",
       "3      100028  0.044435\n",
       "4      100038  0.181940"
      ]
     },
     "metadata": {},
     "output_type": "display_data"
    }
   ],
   "source": [
    "#提出ファイルの作成\n",
    "df_submit = test_pred.rename(columns={\"pred\":\"TARGET\"})\n",
    "print(df_submit.shape)\n",
    "display(df_submit.head())\n",
    "df_submit.to_csv(\"submission_FeatureEngineering1.csv\", index=None)"
   ]
  },
  {
   "cell_type": "code",
   "execution_count": null,
   "id": "f13e991f",
   "metadata": {
    "papermill": {
     "duration": 0.015719,
     "end_time": "2023-04-09T16:29:42.061921",
     "exception": false,
     "start_time": "2023-04-09T16:29:42.046202",
     "status": "completed"
    },
    "tags": []
   },
   "outputs": [],
   "source": []
  }
 ],
 "metadata": {
  "kernelspec": {
   "display_name": "Python 3",
   "language": "python",
   "name": "python3"
  },
  "language_info": {
   "codemirror_mode": {
    "name": "ipython",
    "version": 3
   },
   "file_extension": ".py",
   "mimetype": "text/x-python",
   "name": "python",
   "nbconvert_exporter": "python",
   "pygments_lexer": "ipython3",
   "version": "3.7.12"
  },
  "papermill": {
   "default_parameters": {},
   "duration": 466.987389,
   "end_time": "2023-04-09T16:29:42.899859",
   "environment_variables": {},
   "exception": null,
   "input_path": "__notebook__.ipynb",
   "output_path": "__notebook__.ipynb",
   "parameters": {},
   "start_time": "2023-04-09T16:21:55.912470",
   "version": "2.4.0"
  }
 },
 "nbformat": 4,
 "nbformat_minor": 5
}
