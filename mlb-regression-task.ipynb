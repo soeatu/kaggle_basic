{
 "cells": [
  {
   "cell_type": "markdown",
   "id": "5a03a747",
   "metadata": {
    "papermill": {
     "duration": 0.005707,
     "end_time": "2023-06-15T13:58:23.859187",
     "exception": false,
     "start_time": "2023-06-15T13:58:23.853480",
     "status": "completed"
    },
    "tags": []
   },
   "source": [
    "# 1 ベースライン作成"
   ]
  },
  {
   "cell_type": "markdown",
   "id": "9f3ed51e",
   "metadata": {
    "papermill": {
     "duration": 0.004875,
     "end_time": "2023-06-15T13:58:23.869407",
     "exception": false,
     "start_time": "2023-06-15T13:58:23.864532",
     "status": "completed"
    },
    "tags": []
   },
   "source": [
    "## 1-1 ライブラリのインポート"
   ]
  },
  {
   "cell_type": "code",
   "execution_count": 1,
   "id": "2ed928a8",
   "metadata": {
    "_cell_guid": "b1076dfc-b9ad-4769-8c92-a6c4dae69d19",
    "_uuid": "8f2839f25d086af736a60e9eeb907d3b93b6e0e5",
    "execution": {
     "iopub.execute_input": "2023-06-15T13:58:23.881661Z",
     "iopub.status.busy": "2023-06-15T13:58:23.881022Z",
     "iopub.status.idle": "2023-06-15T13:58:26.317875Z",
     "shell.execute_reply": "2023-06-15T13:58:26.316456Z"
    },
    "papermill": {
     "duration": 2.446355,
     "end_time": "2023-06-15T13:58:26.320818",
     "exception": false,
     "start_time": "2023-06-15T13:58:23.874463",
     "status": "completed"
    },
    "tags": []
   },
   "outputs": [],
   "source": [
    "import numpy as np\n",
    "import pandas as pd\n",
    "import gc\n",
    "import pickle\n",
    "import os\n",
    "import datetime as dt\n",
    "\n",
    "# plot\n",
    "import matplotlib.pyplot as plt\n",
    "\n",
    "# LightGBM\n",
    "import lightgbm as lgb\n",
    "\n",
    "from sklearn.metrics import mean_absolute_error\n",
    "\n",
    "import warnings\n",
    "warnings.simplefilter(\"ignore\")\n",
    "\n",
    "# 表示桁数の指定\n",
    "pd.options.display.float_format = '{:10.4f}'.format"
   ]
  },
  {
   "cell_type": "markdown",
   "id": "ab88ca3b",
   "metadata": {
    "papermill": {
     "duration": 0.005072,
     "end_time": "2023-06-15T13:58:26.331150",
     "exception": false,
     "start_time": "2023-06-15T13:58:26.326078",
     "status": "completed"
    },
    "tags": []
   },
   "source": [
    "## 1-2 train_updated.csvファイルの読み込み"
   ]
  },
  {
   "cell_type": "code",
   "execution_count": 2,
   "id": "ad751152",
   "metadata": {
    "execution": {
     "iopub.execute_input": "2023-06-15T13:58:26.345168Z",
     "iopub.status.busy": "2023-06-15T13:58:26.344823Z",
     "iopub.status.idle": "2023-06-15T13:59:36.991128Z",
     "shell.execute_reply": "2023-06-15T13:59:36.989972Z"
    },
    "papermill": {
     "duration": 70.661698,
     "end_time": "2023-06-15T13:59:36.998161",
     "exception": false,
     "start_time": "2023-06-15T13:58:26.336463",
     "status": "completed"
    },
    "tags": []
   },
   "outputs": [
    {
     "name": "stdout",
     "output_type": "stream",
     "text": [
      "(1308, 12)\n"
     ]
    },
    {
     "data": {
      "text/html": [
       "<div>\n",
       "<style scoped>\n",
       "    .dataframe tbody tr th:only-of-type {\n",
       "        vertical-align: middle;\n",
       "    }\n",
       "\n",
       "    .dataframe tbody tr th {\n",
       "        vertical-align: top;\n",
       "    }\n",
       "\n",
       "    .dataframe thead th {\n",
       "        text-align: right;\n",
       "    }\n",
       "</style>\n",
       "<table border=\"1\" class=\"dataframe\">\n",
       "  <thead>\n",
       "    <tr style=\"text-align: right;\">\n",
       "      <th></th>\n",
       "      <th>date</th>\n",
       "      <th>nextDayPlayerEngagement</th>\n",
       "      <th>games</th>\n",
       "      <th>rosters</th>\n",
       "      <th>playerBoxScores</th>\n",
       "      <th>teamBoxScores</th>\n",
       "      <th>transactions</th>\n",
       "      <th>standings</th>\n",
       "      <th>awards</th>\n",
       "      <th>events</th>\n",
       "      <th>playerTwitterFollowers</th>\n",
       "      <th>teamTwitterFollowers</th>\n",
       "    </tr>\n",
       "  </thead>\n",
       "  <tbody>\n",
       "    <tr>\n",
       "      <th>0</th>\n",
       "      <td>20180101</td>\n",
       "      <td>[{\"engagementMetricsDate\":\"2018-01-02\",\"player...</td>\n",
       "      <td>NaN</td>\n",
       "      <td>[{\"playerId\":400121,\"gameDate\":\"2018-01-01\",\"t...</td>\n",
       "      <td>NaN</td>\n",
       "      <td>NaN</td>\n",
       "      <td>[{\"transactionId\":340732,\"playerId\":547348,\"pl...</td>\n",
       "      <td>NaN</td>\n",
       "      <td>NaN</td>\n",
       "      <td>NaN</td>\n",
       "      <td>[{\"date\":\"2018-01-01\",\"playerId\":545361,\"playe...</td>\n",
       "      <td>[{\"date\":\"2018-01-01\",\"teamId\":147,\"teamName\":...</td>\n",
       "    </tr>\n",
       "    <tr>\n",
       "      <th>1</th>\n",
       "      <td>20180102</td>\n",
       "      <td>[{\"engagementMetricsDate\":\"2018-01-03\",\"player...</td>\n",
       "      <td>NaN</td>\n",
       "      <td>[{\"playerId\":134181,\"gameDate\":\"2018-01-02\",\"t...</td>\n",
       "      <td>NaN</td>\n",
       "      <td>NaN</td>\n",
       "      <td>[{\"transactionId\":339458,\"playerId\":621173,\"pl...</td>\n",
       "      <td>NaN</td>\n",
       "      <td>NaN</td>\n",
       "      <td>NaN</td>\n",
       "      <td>NaN</td>\n",
       "      <td>NaN</td>\n",
       "    </tr>\n",
       "    <tr>\n",
       "      <th>2</th>\n",
       "      <td>20180103</td>\n",
       "      <td>[{\"engagementMetricsDate\":\"2018-01-04\",\"player...</td>\n",
       "      <td>NaN</td>\n",
       "      <td>[{\"playerId\":425492,\"gameDate\":\"2018-01-03\",\"t...</td>\n",
       "      <td>NaN</td>\n",
       "      <td>NaN</td>\n",
       "      <td>[{\"transactionId\":347527,\"playerId\":572389,\"pl...</td>\n",
       "      <td>NaN</td>\n",
       "      <td>NaN</td>\n",
       "      <td>NaN</td>\n",
       "      <td>NaN</td>\n",
       "      <td>NaN</td>\n",
       "    </tr>\n",
       "    <tr>\n",
       "      <th>3</th>\n",
       "      <td>20180104</td>\n",
       "      <td>[{\"engagementMetricsDate\":\"2018-01-05\",\"player...</td>\n",
       "      <td>NaN</td>\n",
       "      <td>[{\"playerId\":282332,\"gameDate\":\"2018-01-04\",\"t...</td>\n",
       "      <td>NaN</td>\n",
       "      <td>NaN</td>\n",
       "      <td>[{\"transactionId\":339549,\"playerId\":545343,\"pl...</td>\n",
       "      <td>NaN</td>\n",
       "      <td>NaN</td>\n",
       "      <td>NaN</td>\n",
       "      <td>NaN</td>\n",
       "      <td>NaN</td>\n",
       "    </tr>\n",
       "    <tr>\n",
       "      <th>4</th>\n",
       "      <td>20180105</td>\n",
       "      <td>[{\"engagementMetricsDate\":\"2018-01-06\",\"player...</td>\n",
       "      <td>NaN</td>\n",
       "      <td>[{\"playerId\":282332,\"gameDate\":\"2018-01-05\",\"t...</td>\n",
       "      <td>NaN</td>\n",
       "      <td>NaN</td>\n",
       "      <td>[{\"transactionId\":341195,\"playerId\":628336,\"pl...</td>\n",
       "      <td>NaN</td>\n",
       "      <td>NaN</td>\n",
       "      <td>NaN</td>\n",
       "      <td>NaN</td>\n",
       "      <td>NaN</td>\n",
       "    </tr>\n",
       "  </tbody>\n",
       "</table>\n",
       "</div>"
      ],
      "text/plain": [
       "       date                            nextDayPlayerEngagement games  \\\n",
       "0  20180101  [{\"engagementMetricsDate\":\"2018-01-02\",\"player...   NaN   \n",
       "1  20180102  [{\"engagementMetricsDate\":\"2018-01-03\",\"player...   NaN   \n",
       "2  20180103  [{\"engagementMetricsDate\":\"2018-01-04\",\"player...   NaN   \n",
       "3  20180104  [{\"engagementMetricsDate\":\"2018-01-05\",\"player...   NaN   \n",
       "4  20180105  [{\"engagementMetricsDate\":\"2018-01-06\",\"player...   NaN   \n",
       "\n",
       "                                             rosters playerBoxScores  \\\n",
       "0  [{\"playerId\":400121,\"gameDate\":\"2018-01-01\",\"t...             NaN   \n",
       "1  [{\"playerId\":134181,\"gameDate\":\"2018-01-02\",\"t...             NaN   \n",
       "2  [{\"playerId\":425492,\"gameDate\":\"2018-01-03\",\"t...             NaN   \n",
       "3  [{\"playerId\":282332,\"gameDate\":\"2018-01-04\",\"t...             NaN   \n",
       "4  [{\"playerId\":282332,\"gameDate\":\"2018-01-05\",\"t...             NaN   \n",
       "\n",
       "  teamBoxScores                                       transactions standings  \\\n",
       "0           NaN  [{\"transactionId\":340732,\"playerId\":547348,\"pl...       NaN   \n",
       "1           NaN  [{\"transactionId\":339458,\"playerId\":621173,\"pl...       NaN   \n",
       "2           NaN  [{\"transactionId\":347527,\"playerId\":572389,\"pl...       NaN   \n",
       "3           NaN  [{\"transactionId\":339549,\"playerId\":545343,\"pl...       NaN   \n",
       "4           NaN  [{\"transactionId\":341195,\"playerId\":628336,\"pl...       NaN   \n",
       "\n",
       "  awards events                             playerTwitterFollowers  \\\n",
       "0    NaN    NaN  [{\"date\":\"2018-01-01\",\"playerId\":545361,\"playe...   \n",
       "1    NaN    NaN                                                NaN   \n",
       "2    NaN    NaN                                                NaN   \n",
       "3    NaN    NaN                                                NaN   \n",
       "4    NaN    NaN                                                NaN   \n",
       "\n",
       "                                teamTwitterFollowers  \n",
       "0  [{\"date\":\"2018-01-01\",\"teamId\":147,\"teamName\":...  \n",
       "1                                                NaN  \n",
       "2                                                NaN  \n",
       "3                                                NaN  \n",
       "4                                                NaN  "
      ]
     },
     "execution_count": 2,
     "metadata": {},
     "output_type": "execute_result"
    }
   ],
   "source": [
    "train = pd.read_csv(\"../input/mlb-player-digital-engagement-forecasting/train_updated.csv\")\n",
    "print(train.shape)\n",
    "train.head()"
   ]
  },
  {
   "cell_type": "markdown",
   "id": "a764cb23",
   "metadata": {
    "papermill": {
     "duration": 0.00538,
     "end_time": "2023-06-15T13:59:37.008896",
     "exception": false,
     "start_time": "2023-06-15T13:59:37.003516",
     "status": "completed"
    },
    "tags": []
   },
   "source": [
    "## 1-3 処理速度を上げるためにデータを絞り込む"
   ]
  },
  {
   "cell_type": "code",
   "execution_count": 3,
   "id": "3a3cdd5f",
   "metadata": {
    "execution": {
     "iopub.execute_input": "2023-06-15T13:59:37.020707Z",
     "iopub.status.busy": "2023-06-15T13:59:37.020272Z",
     "iopub.status.idle": "2023-06-15T13:59:37.031801Z",
     "shell.execute_reply": "2023-06-15T13:59:37.030403Z"
    },
    "papermill": {
     "duration": 0.019874,
     "end_time": "2023-06-15T13:59:37.033898",
     "exception": false,
     "start_time": "2023-06-15T13:59:37.014024",
     "status": "completed"
    },
    "tags": []
   },
   "outputs": [
    {
     "name": "stdout",
     "output_type": "stream",
     "text": [
      "(487, 12)\n"
     ]
    }
   ],
   "source": [
    "train = train.loc[train[\"date\"]>=20200401, :].reset_index(drop=True)\n",
    "print(train.shape)"
   ]
  },
  {
   "cell_type": "markdown",
   "id": "f408e602",
   "metadata": {
    "papermill": {
     "duration": 0.005328,
     "end_time": "2023-06-15T13:59:37.045011",
     "exception": false,
     "start_time": "2023-06-15T13:59:37.039683",
     "status": "completed"
    },
    "tags": []
   },
   "source": [
    "## 1-4 train_updated.csv専用の変換関数の作成"
   ]
  },
  {
   "cell_type": "code",
   "execution_count": 4,
   "id": "c05bbd11",
   "metadata": {
    "execution": {
     "iopub.execute_input": "2023-06-15T13:59:37.057916Z",
     "iopub.status.busy": "2023-06-15T13:59:37.057549Z",
     "iopub.status.idle": "2023-06-15T13:59:37.065927Z",
     "shell.execute_reply": "2023-06-15T13:59:37.064531Z"
    },
    "papermill": {
     "duration": 0.017801,
     "end_time": "2023-06-15T13:59:37.068329",
     "exception": false,
     "start_time": "2023-06-15T13:59:37.050528",
     "status": "completed"
    },
    "tags": []
   },
   "outputs": [],
   "source": [
    "def unpack_json(json_str):\n",
    "    return np.nan if pd.isna(json_str) else pd.read_json(json_str)\n",
    "\n",
    "def extract_data(input_df, col=\"events\", show=False):\n",
    "    output_df = pd.DataFrame()\n",
    "    for i in np.arange(len(input_df)):\n",
    "        if show: print(\"\\r{}/{}\".format(i+1, len(input_df)), end=\"\")\n",
    "        try:\n",
    "            output_df = pd.concat([\n",
    "                output_df,\n",
    "                unpack_json(input_df[col].iloc[i])\n",
    "            ], axis=0, ignore_index=True)\n",
    "        except:\n",
    "            pass\n",
    "    if show: print(\"\")\n",
    "    if show: print(output_df.shape)\n",
    "    if show: display(output_df.head())\n",
    "    return output_df"
   ]
  },
  {
   "cell_type": "markdown",
   "id": "9c5c7589",
   "metadata": {
    "papermill": {
     "duration": 0.005179,
     "end_time": "2023-06-15T13:59:37.079347",
     "exception": false,
     "start_time": "2023-06-15T13:59:37.074168",
     "status": "completed"
    },
    "tags": []
   },
   "source": [
    "## 1-5 train_updated.csvから「nextDayPlayerEngagement」を取り出して表形式に変換"
   ]
  },
  {
   "cell_type": "code",
   "execution_count": 5,
   "id": "bfba5ef6",
   "metadata": {
    "execution": {
     "iopub.execute_input": "2023-06-15T13:59:37.092047Z",
     "iopub.status.busy": "2023-06-15T13:59:37.091706Z",
     "iopub.status.idle": "2023-06-15T13:59:49.925871Z",
     "shell.execute_reply": "2023-06-15T13:59:49.924993Z"
    },
    "papermill": {
     "duration": 12.843783,
     "end_time": "2023-06-15T13:59:49.928500",
     "exception": false,
     "start_time": "2023-06-15T13:59:37.084717",
     "status": "completed"
    },
    "tags": []
   },
   "outputs": [
    {
     "name": "stdout",
     "output_type": "stream",
     "text": [
      "487/487\n",
      "(1003707, 6)\n"
     ]
    },
    {
     "data": {
      "text/html": [
       "<div>\n",
       "<style scoped>\n",
       "    .dataframe tbody tr th:only-of-type {\n",
       "        vertical-align: middle;\n",
       "    }\n",
       "\n",
       "    .dataframe tbody tr th {\n",
       "        vertical-align: top;\n",
       "    }\n",
       "\n",
       "    .dataframe thead th {\n",
       "        text-align: right;\n",
       "    }\n",
       "</style>\n",
       "<table border=\"1\" class=\"dataframe\">\n",
       "  <thead>\n",
       "    <tr style=\"text-align: right;\">\n",
       "      <th></th>\n",
       "      <th>engagementMetricsDate</th>\n",
       "      <th>playerId</th>\n",
       "      <th>target1</th>\n",
       "      <th>target2</th>\n",
       "      <th>target3</th>\n",
       "      <th>target4</th>\n",
       "    </tr>\n",
       "  </thead>\n",
       "  <tbody>\n",
       "    <tr>\n",
       "      <th>0</th>\n",
       "      <td>2020-04-02</td>\n",
       "      <td>425794</td>\n",
       "      <td>5.1249</td>\n",
       "      <td>9.4340</td>\n",
       "      <td>0.1179</td>\n",
       "      <td>6.1947</td>\n",
       "    </tr>\n",
       "    <tr>\n",
       "      <th>1</th>\n",
       "      <td>2020-04-02</td>\n",
       "      <td>571704</td>\n",
       "      <td>0.0389</td>\n",
       "      <td>8.1761</td>\n",
       "      <td>0.0105</td>\n",
       "      <td>2.1304</td>\n",
       "    </tr>\n",
       "    <tr>\n",
       "      <th>2</th>\n",
       "      <td>2020-04-02</td>\n",
       "      <td>506702</td>\n",
       "      <td>0.0106</td>\n",
       "      <td>5.0314</td>\n",
       "      <td>0.0082</td>\n",
       "      <td>0.8850</td>\n",
       "    </tr>\n",
       "    <tr>\n",
       "      <th>3</th>\n",
       "      <td>2020-04-02</td>\n",
       "      <td>607231</td>\n",
       "      <td>0.0247</td>\n",
       "      <td>2.8302</td>\n",
       "      <td>0.0222</td>\n",
       "      <td>0.5900</td>\n",
       "    </tr>\n",
       "    <tr>\n",
       "      <th>4</th>\n",
       "      <td>2020-04-02</td>\n",
       "      <td>543193</td>\n",
       "      <td>0.0071</td>\n",
       "      <td>1.1006</td>\n",
       "      <td>0.0012</td>\n",
       "      <td>0.1967</td>\n",
       "    </tr>\n",
       "  </tbody>\n",
       "</table>\n",
       "</div>"
      ],
      "text/plain": [
       "  engagementMetricsDate  playerId    target1    target2    target3    target4\n",
       "0            2020-04-02    425794     5.1249     9.4340     0.1179     6.1947\n",
       "1            2020-04-02    571704     0.0389     8.1761     0.0105     2.1304\n",
       "2            2020-04-02    506702     0.0106     5.0314     0.0082     0.8850\n",
       "3            2020-04-02    607231     0.0247     2.8302     0.0222     0.5900\n",
       "4            2020-04-02    543193     0.0071     1.1006     0.0012     0.1967"
      ]
     },
     "metadata": {},
     "output_type": "display_data"
    }
   ],
   "source": [
    "df_engagement = extract_data(train, col=\"nextDayPlayerEngagement\", show=True)"
   ]
  },
  {
   "cell_type": "markdown",
   "id": "2b68926f",
   "metadata": {
    "papermill": {
     "duration": 0.01401,
     "end_time": "2023-06-15T13:59:49.956911",
     "exception": false,
     "start_time": "2023-06-15T13:59:49.942901",
     "status": "completed"
    },
    "tags": []
   },
   "source": [
    "## 1-6 結合キーであるdate_playerIDの作成"
   ]
  },
  {
   "cell_type": "code",
   "execution_count": 6,
   "id": "20f750cb",
   "metadata": {
    "execution": {
     "iopub.execute_input": "2023-06-15T13:59:49.988181Z",
     "iopub.status.busy": "2023-06-15T13:59:49.987848Z",
     "iopub.status.idle": "2023-06-15T13:59:51.031209Z",
     "shell.execute_reply": "2023-06-15T13:59:51.030057Z"
    },
    "papermill": {
     "duration": 1.06098,
     "end_time": "2023-06-15T13:59:51.033222",
     "exception": false,
     "start_time": "2023-06-15T13:59:49.972242",
     "status": "completed"
    },
    "tags": []
   },
   "outputs": [
    {
     "data": {
      "text/html": [
       "<div>\n",
       "<style scoped>\n",
       "    .dataframe tbody tr th:only-of-type {\n",
       "        vertical-align: middle;\n",
       "    }\n",
       "\n",
       "    .dataframe tbody tr th {\n",
       "        vertical-align: top;\n",
       "    }\n",
       "\n",
       "    .dataframe thead th {\n",
       "        text-align: right;\n",
       "    }\n",
       "</style>\n",
       "<table border=\"1\" class=\"dataframe\">\n",
       "  <thead>\n",
       "    <tr style=\"text-align: right;\">\n",
       "      <th></th>\n",
       "      <th>engagementMetricsDate</th>\n",
       "      <th>playerId</th>\n",
       "      <th>target1</th>\n",
       "      <th>target2</th>\n",
       "      <th>target3</th>\n",
       "      <th>target4</th>\n",
       "      <th>date_playerId</th>\n",
       "    </tr>\n",
       "  </thead>\n",
       "  <tbody>\n",
       "    <tr>\n",
       "      <th>0</th>\n",
       "      <td>2020-04-02</td>\n",
       "      <td>425794</td>\n",
       "      <td>5.1249</td>\n",
       "      <td>9.4340</td>\n",
       "      <td>0.1179</td>\n",
       "      <td>6.1947</td>\n",
       "      <td>20200402_425794</td>\n",
       "    </tr>\n",
       "    <tr>\n",
       "      <th>1</th>\n",
       "      <td>2020-04-02</td>\n",
       "      <td>571704</td>\n",
       "      <td>0.0389</td>\n",
       "      <td>8.1761</td>\n",
       "      <td>0.0105</td>\n",
       "      <td>2.1304</td>\n",
       "      <td>20200402_571704</td>\n",
       "    </tr>\n",
       "    <tr>\n",
       "      <th>2</th>\n",
       "      <td>2020-04-02</td>\n",
       "      <td>506702</td>\n",
       "      <td>0.0106</td>\n",
       "      <td>5.0314</td>\n",
       "      <td>0.0082</td>\n",
       "      <td>0.8850</td>\n",
       "      <td>20200402_506702</td>\n",
       "    </tr>\n",
       "    <tr>\n",
       "      <th>3</th>\n",
       "      <td>2020-04-02</td>\n",
       "      <td>607231</td>\n",
       "      <td>0.0247</td>\n",
       "      <td>2.8302</td>\n",
       "      <td>0.0222</td>\n",
       "      <td>0.5900</td>\n",
       "      <td>20200402_607231</td>\n",
       "    </tr>\n",
       "    <tr>\n",
       "      <th>4</th>\n",
       "      <td>2020-04-02</td>\n",
       "      <td>543193</td>\n",
       "      <td>0.0071</td>\n",
       "      <td>1.1006</td>\n",
       "      <td>0.0012</td>\n",
       "      <td>0.1967</td>\n",
       "      <td>20200402_543193</td>\n",
       "    </tr>\n",
       "  </tbody>\n",
       "</table>\n",
       "</div>"
      ],
      "text/plain": [
       "  engagementMetricsDate  playerId    target1    target2    target3    target4  \\\n",
       "0            2020-04-02    425794     5.1249     9.4340     0.1179     6.1947   \n",
       "1            2020-04-02    571704     0.0389     8.1761     0.0105     2.1304   \n",
       "2            2020-04-02    506702     0.0106     5.0314     0.0082     0.8850   \n",
       "3            2020-04-02    607231     0.0247     2.8302     0.0222     0.5900   \n",
       "4            2020-04-02    543193     0.0071     1.1006     0.0012     0.1967   \n",
       "\n",
       "     date_playerId  \n",
       "0  20200402_425794  \n",
       "1  20200402_571704  \n",
       "2  20200402_506702  \n",
       "3  20200402_607231  \n",
       "4  20200402_543193  "
      ]
     },
     "execution_count": 6,
     "metadata": {},
     "output_type": "execute_result"
    }
   ],
   "source": [
    "df_engagement[\"date_playerId\"] = df_engagement[\"engagementMetricsDate\"].str.replace(\"-\", \"\") + \"_\" + df_engagement[\"playerId\"].astype(str)\n",
    "df_engagement.head()"
   ]
  },
  {
   "cell_type": "markdown",
   "id": "26b4295a",
   "metadata": {
    "papermill": {
     "duration": 0.01418,
     "end_time": "2023-06-15T13:59:51.061372",
     "exception": false,
     "start_time": "2023-06-15T13:59:51.047192",
     "status": "completed"
    },
    "tags": []
   },
   "source": [
    "## 1-7 日付から簡単な特徴量を作成"
   ]
  },
  {
   "cell_type": "code",
   "execution_count": 7,
   "id": "80f9ed27",
   "metadata": {
    "execution": {
     "iopub.execute_input": "2023-06-15T13:59:51.091674Z",
     "iopub.status.busy": "2023-06-15T13:59:51.091250Z",
     "iopub.status.idle": "2023-06-15T13:59:52.217438Z",
     "shell.execute_reply": "2023-06-15T13:59:52.216387Z"
    },
    "papermill": {
     "duration": 1.144486,
     "end_time": "2023-06-15T13:59:52.220058",
     "exception": false,
     "start_time": "2023-06-15T13:59:51.075572",
     "status": "completed"
    },
    "tags": []
   },
   "outputs": [
    {
     "data": {
      "text/html": [
       "<div>\n",
       "<style scoped>\n",
       "    .dataframe tbody tr th:only-of-type {\n",
       "        vertical-align: middle;\n",
       "    }\n",
       "\n",
       "    .dataframe tbody tr th {\n",
       "        vertical-align: top;\n",
       "    }\n",
       "\n",
       "    .dataframe thead th {\n",
       "        text-align: right;\n",
       "    }\n",
       "</style>\n",
       "<table border=\"1\" class=\"dataframe\">\n",
       "  <thead>\n",
       "    <tr style=\"text-align: right;\">\n",
       "      <th></th>\n",
       "      <th>engagementMetricsDate</th>\n",
       "      <th>playerId</th>\n",
       "      <th>target1</th>\n",
       "      <th>target2</th>\n",
       "      <th>target3</th>\n",
       "      <th>target4</th>\n",
       "      <th>date_playerId</th>\n",
       "      <th>date</th>\n",
       "      <th>dayofweek</th>\n",
       "      <th>yearmonth</th>\n",
       "    </tr>\n",
       "  </thead>\n",
       "  <tbody>\n",
       "    <tr>\n",
       "      <th>0</th>\n",
       "      <td>2020-04-02</td>\n",
       "      <td>425794</td>\n",
       "      <td>5.1249</td>\n",
       "      <td>9.4340</td>\n",
       "      <td>0.1179</td>\n",
       "      <td>6.1947</td>\n",
       "      <td>20200402_425794</td>\n",
       "      <td>2020-04-01</td>\n",
       "      <td>2</td>\n",
       "      <td>2020-04</td>\n",
       "    </tr>\n",
       "    <tr>\n",
       "      <th>1</th>\n",
       "      <td>2020-04-02</td>\n",
       "      <td>571704</td>\n",
       "      <td>0.0389</td>\n",
       "      <td>8.1761</td>\n",
       "      <td>0.0105</td>\n",
       "      <td>2.1304</td>\n",
       "      <td>20200402_571704</td>\n",
       "      <td>2020-04-01</td>\n",
       "      <td>2</td>\n",
       "      <td>2020-04</td>\n",
       "    </tr>\n",
       "    <tr>\n",
       "      <th>2</th>\n",
       "      <td>2020-04-02</td>\n",
       "      <td>506702</td>\n",
       "      <td>0.0106</td>\n",
       "      <td>5.0314</td>\n",
       "      <td>0.0082</td>\n",
       "      <td>0.8850</td>\n",
       "      <td>20200402_506702</td>\n",
       "      <td>2020-04-01</td>\n",
       "      <td>2</td>\n",
       "      <td>2020-04</td>\n",
       "    </tr>\n",
       "    <tr>\n",
       "      <th>3</th>\n",
       "      <td>2020-04-02</td>\n",
       "      <td>607231</td>\n",
       "      <td>0.0247</td>\n",
       "      <td>2.8302</td>\n",
       "      <td>0.0222</td>\n",
       "      <td>0.5900</td>\n",
       "      <td>20200402_607231</td>\n",
       "      <td>2020-04-01</td>\n",
       "      <td>2</td>\n",
       "      <td>2020-04</td>\n",
       "    </tr>\n",
       "    <tr>\n",
       "      <th>4</th>\n",
       "      <td>2020-04-02</td>\n",
       "      <td>543193</td>\n",
       "      <td>0.0071</td>\n",
       "      <td>1.1006</td>\n",
       "      <td>0.0012</td>\n",
       "      <td>0.1967</td>\n",
       "      <td>20200402_543193</td>\n",
       "      <td>2020-04-01</td>\n",
       "      <td>2</td>\n",
       "      <td>2020-04</td>\n",
       "    </tr>\n",
       "  </tbody>\n",
       "</table>\n",
       "</div>"
      ],
      "text/plain": [
       "  engagementMetricsDate  playerId    target1    target2    target3    target4  \\\n",
       "0            2020-04-02    425794     5.1249     9.4340     0.1179     6.1947   \n",
       "1            2020-04-02    571704     0.0389     8.1761     0.0105     2.1304   \n",
       "2            2020-04-02    506702     0.0106     5.0314     0.0082     0.8850   \n",
       "3            2020-04-02    607231     0.0247     2.8302     0.0222     0.5900   \n",
       "4            2020-04-02    543193     0.0071     1.1006     0.0012     0.1967   \n",
       "\n",
       "     date_playerId       date  dayofweek yearmonth  \n",
       "0  20200402_425794 2020-04-01          2   2020-04  \n",
       "1  20200402_571704 2020-04-01          2   2020-04  \n",
       "2  20200402_506702 2020-04-01          2   2020-04  \n",
       "3  20200402_607231 2020-04-01          2   2020-04  \n",
       "4  20200402_543193 2020-04-01          2   2020-04  "
      ]
     },
     "execution_count": 7,
     "metadata": {},
     "output_type": "execute_result"
    }
   ],
   "source": [
    "# 推論実施日のカラム作成（推論実施日＝推論対象日の前日）\n",
    "df_engagement[\"date\"] = pd.to_datetime(df_engagement[\"engagementMetricsDate\"], format=\"%Y-%m-%d\") + dt.timedelta(days=-1)\n",
    "\n",
    "# 推論実施日から「曜日」と「年月」の特徴量作成\n",
    "df_engagement[\"dayofweek\"] = df_engagement[\"date\"].dt.dayofweek\n",
    "df_engagement[\"yearmonth\"] = df_engagement[\"date\"].astype(str).apply(lambda x: x[:7])\n",
    "df_engagement.head()"
   ]
  },
  {
   "cell_type": "markdown",
   "id": "9fe1082f",
   "metadata": {
    "papermill": {
     "duration": 0.014736,
     "end_time": "2023-06-15T13:59:52.249646",
     "exception": false,
     "start_time": "2023-06-15T13:59:52.234910",
     "status": "completed"
    },
    "tags": []
   },
   "source": [
    "## 1-8 players.csvファイルの読み込み"
   ]
  },
  {
   "cell_type": "code",
   "execution_count": 8,
   "id": "fee54568",
   "metadata": {
    "execution": {
     "iopub.execute_input": "2023-06-15T13:59:52.281543Z",
     "iopub.status.busy": "2023-06-15T13:59:52.280927Z",
     "iopub.status.idle": "2023-06-15T13:59:52.319724Z",
     "shell.execute_reply": "2023-06-15T13:59:52.318140Z"
    },
    "papermill": {
     "duration": 0.057236,
     "end_time": "2023-06-15T13:59:52.321987",
     "exception": false,
     "start_time": "2023-06-15T13:59:52.264751",
     "status": "completed"
    },
    "tags": []
   },
   "outputs": [
    {
     "name": "stdout",
     "output_type": "stream",
     "text": [
      "(2061, 12)\n",
      "2061\n"
     ]
    },
    {
     "data": {
      "text/html": [
       "<div>\n",
       "<style scoped>\n",
       "    .dataframe tbody tr th:only-of-type {\n",
       "        vertical-align: middle;\n",
       "    }\n",
       "\n",
       "    .dataframe tbody tr th {\n",
       "        vertical-align: top;\n",
       "    }\n",
       "\n",
       "    .dataframe thead th {\n",
       "        text-align: right;\n",
       "    }\n",
       "</style>\n",
       "<table border=\"1\" class=\"dataframe\">\n",
       "  <thead>\n",
       "    <tr style=\"text-align: right;\">\n",
       "      <th></th>\n",
       "      <th>playerId</th>\n",
       "      <th>playerName</th>\n",
       "      <th>DOB</th>\n",
       "      <th>mlbDebutDate</th>\n",
       "      <th>birthCity</th>\n",
       "      <th>birthStateProvince</th>\n",
       "      <th>birthCountry</th>\n",
       "      <th>heightInches</th>\n",
       "      <th>weight</th>\n",
       "      <th>primaryPositionCode</th>\n",
       "      <th>primaryPositionName</th>\n",
       "      <th>playerForTestSetAndFuturePreds</th>\n",
       "    </tr>\n",
       "  </thead>\n",
       "  <tbody>\n",
       "    <tr>\n",
       "      <th>0</th>\n",
       "      <td>665482</td>\n",
       "      <td>Gilberto Celestino</td>\n",
       "      <td>1999-02-13</td>\n",
       "      <td>2021-06-02</td>\n",
       "      <td>Santo Domingo</td>\n",
       "      <td>NaN</td>\n",
       "      <td>Dominican Republic</td>\n",
       "      <td>72</td>\n",
       "      <td>170</td>\n",
       "      <td>8</td>\n",
       "      <td>Outfielder</td>\n",
       "      <td>False</td>\n",
       "    </tr>\n",
       "    <tr>\n",
       "      <th>1</th>\n",
       "      <td>593590</td>\n",
       "      <td>Webster Rivas</td>\n",
       "      <td>1990-08-08</td>\n",
       "      <td>2021-05-28</td>\n",
       "      <td>Nagua</td>\n",
       "      <td>NaN</td>\n",
       "      <td>Dominican Republic</td>\n",
       "      <td>73</td>\n",
       "      <td>219</td>\n",
       "      <td>3</td>\n",
       "      <td>First Base</td>\n",
       "      <td>True</td>\n",
       "    </tr>\n",
       "    <tr>\n",
       "      <th>2</th>\n",
       "      <td>661269</td>\n",
       "      <td>Vladimir Gutierrez</td>\n",
       "      <td>1995-09-18</td>\n",
       "      <td>2021-05-28</td>\n",
       "      <td>Havana</td>\n",
       "      <td>NaN</td>\n",
       "      <td>Cuba</td>\n",
       "      <td>73</td>\n",
       "      <td>190</td>\n",
       "      <td>1</td>\n",
       "      <td>Pitcher</td>\n",
       "      <td>True</td>\n",
       "    </tr>\n",
       "    <tr>\n",
       "      <th>3</th>\n",
       "      <td>669212</td>\n",
       "      <td>Eli Morgan</td>\n",
       "      <td>1996-05-13</td>\n",
       "      <td>2021-05-28</td>\n",
       "      <td>Rancho Palos Verdes</td>\n",
       "      <td>CA</td>\n",
       "      <td>USA</td>\n",
       "      <td>70</td>\n",
       "      <td>190</td>\n",
       "      <td>1</td>\n",
       "      <td>Pitcher</td>\n",
       "      <td>True</td>\n",
       "    </tr>\n",
       "    <tr>\n",
       "      <th>4</th>\n",
       "      <td>666201</td>\n",
       "      <td>Alek Manoah</td>\n",
       "      <td>1998-01-09</td>\n",
       "      <td>2021-05-27</td>\n",
       "      <td>Homestead</td>\n",
       "      <td>FL</td>\n",
       "      <td>USA</td>\n",
       "      <td>78</td>\n",
       "      <td>260</td>\n",
       "      <td>1</td>\n",
       "      <td>Pitcher</td>\n",
       "      <td>True</td>\n",
       "    </tr>\n",
       "  </tbody>\n",
       "</table>\n",
       "</div>"
      ],
      "text/plain": [
       "   playerId          playerName         DOB mlbDebutDate            birthCity  \\\n",
       "0    665482  Gilberto Celestino  1999-02-13   2021-06-02        Santo Domingo   \n",
       "1    593590       Webster Rivas  1990-08-08   2021-05-28                Nagua   \n",
       "2    661269  Vladimir Gutierrez  1995-09-18   2021-05-28               Havana   \n",
       "3    669212          Eli Morgan  1996-05-13   2021-05-28  Rancho Palos Verdes   \n",
       "4    666201         Alek Manoah  1998-01-09   2021-05-27            Homestead   \n",
       "\n",
       "  birthStateProvince        birthCountry  heightInches  weight  \\\n",
       "0                NaN  Dominican Republic            72     170   \n",
       "1                NaN  Dominican Republic            73     219   \n",
       "2                NaN                Cuba            73     190   \n",
       "3                 CA                 USA            70     190   \n",
       "4                 FL                 USA            78     260   \n",
       "\n",
       "  primaryPositionCode primaryPositionName playerForTestSetAndFuturePreds  \n",
       "0                   8          Outfielder                          False  \n",
       "1                   3          First Base                           True  \n",
       "2                   1             Pitcher                           True  \n",
       "3                   1             Pitcher                           True  \n",
       "4                   1             Pitcher                           True  "
      ]
     },
     "execution_count": 8,
     "metadata": {},
     "output_type": "execute_result"
    }
   ],
   "source": [
    "df_players = pd.read_csv(\"../input/mlb-player-digital-engagement-forecasting/players.csv\")\n",
    "print(df_players.shape)\n",
    "print(df_players[\"playerId\"].agg(\"nunique\"))\n",
    "df_players.head()"
   ]
  },
  {
   "cell_type": "markdown",
   "id": "6d44f87f",
   "metadata": {
    "papermill": {
     "duration": 0.013667,
     "end_time": "2023-06-15T13:59:52.350452",
     "exception": false,
     "start_time": "2023-06-15T13:59:52.336785",
     "status": "completed"
    },
    "tags": []
   },
   "source": [
    "## 1-9 評価対象の人数確認"
   ]
  },
  {
   "cell_type": "code",
   "execution_count": 9,
   "id": "1ffc0107",
   "metadata": {
    "execution": {
     "iopub.execute_input": "2023-06-15T13:59:52.379831Z",
     "iopub.status.busy": "2023-06-15T13:59:52.379499Z",
     "iopub.status.idle": "2023-06-15T13:59:52.388626Z",
     "shell.execute_reply": "2023-06-15T13:59:52.386694Z"
    },
    "papermill": {
     "duration": 0.026179,
     "end_time": "2023-06-15T13:59:52.390648",
     "exception": false,
     "start_time": "2023-06-15T13:59:52.364469",
     "status": "completed"
    },
    "tags": []
   },
   "outputs": [
    {
     "name": "stdout",
     "output_type": "stream",
     "text": [
      "1187\n",
      "0.5759340126152354\n"
     ]
    }
   ],
   "source": [
    "df_players[\"playerForTestSetAndFuturePreds\"] = np.where(df_players[\"playerForTestSetAndFuturePreds\"]==True, 1, 0)\n",
    "print(df_players[\"playerForTestSetAndFuturePreds\"].sum())\n",
    "print(df_players[\"playerForTestSetAndFuturePreds\"].mean())"
   ]
  },
  {
   "cell_type": "markdown",
   "id": "6befa7d9",
   "metadata": {
    "papermill": {
     "duration": 0.014077,
     "end_time": "2023-06-15T13:59:52.419449",
     "exception": false,
     "start_time": "2023-06-15T13:59:52.405372",
     "status": "completed"
    },
    "tags": []
   },
   "source": [
    "## 1-10 テーブル結合"
   ]
  },
  {
   "cell_type": "code",
   "execution_count": 10,
   "id": "c59430e7",
   "metadata": {
    "execution": {
     "iopub.execute_input": "2023-06-15T13:59:52.450492Z",
     "iopub.status.busy": "2023-06-15T13:59:52.450085Z",
     "iopub.status.idle": "2023-06-15T13:59:52.940425Z",
     "shell.execute_reply": "2023-06-15T13:59:52.939404Z"
    },
    "papermill": {
     "duration": 0.508282,
     "end_time": "2023-06-15T13:59:52.942545",
     "exception": false,
     "start_time": "2023-06-15T13:59:52.434263",
     "status": "completed"
    },
    "tags": []
   },
   "outputs": [
    {
     "name": "stdout",
     "output_type": "stream",
     "text": [
      "(1003707, 21)\n"
     ]
    }
   ],
   "source": [
    "#PlaerIDをキーにして結合\n",
    "df_train = pd.merge(df_engagement, df_players, on=[\"playerId\"], how=\"left\")\n",
    "print(df_train.shape)"
   ]
  },
  {
   "cell_type": "markdown",
   "id": "7f811697",
   "metadata": {
    "papermill": {
     "duration": 0.015112,
     "end_time": "2023-06-15T13:59:52.973066",
     "exception": false,
     "start_time": "2023-06-15T13:59:52.957954",
     "status": "completed"
    },
    "tags": []
   },
   "source": [
    "## 1-11 学習用データセットの作成"
   ]
  },
  {
   "cell_type": "code",
   "execution_count": 11,
   "id": "68e7f80d",
   "metadata": {
    "execution": {
     "iopub.execute_input": "2023-06-15T13:59:53.004782Z",
     "iopub.status.busy": "2023-06-15T13:59:53.003964Z",
     "iopub.status.idle": "2023-06-15T13:59:53.382379Z",
     "shell.execute_reply": "2023-06-15T13:59:53.381253Z"
    },
    "papermill": {
     "duration": 0.397031,
     "end_time": "2023-06-15T13:59:53.384881",
     "exception": false,
     "start_time": "2023-06-15T13:59:52.987850",
     "status": "completed"
    },
    "tags": []
   },
   "outputs": [
    {
     "name": "stdout",
     "output_type": "stream",
     "text": [
      "(1003707, 10) (1003707, 4) (1003707, 6)\n"
     ]
    },
    {
     "data": {
      "text/html": [
       "<div>\n",
       "<style scoped>\n",
       "    .dataframe tbody tr th:only-of-type {\n",
       "        vertical-align: middle;\n",
       "    }\n",
       "\n",
       "    .dataframe tbody tr th {\n",
       "        vertical-align: top;\n",
       "    }\n",
       "\n",
       "    .dataframe thead th {\n",
       "        text-align: right;\n",
       "    }\n",
       "</style>\n",
       "<table border=\"1\" class=\"dataframe\">\n",
       "  <thead>\n",
       "    <tr style=\"text-align: right;\">\n",
       "      <th></th>\n",
       "      <th>playerId</th>\n",
       "      <th>dayofweek</th>\n",
       "      <th>birthCity</th>\n",
       "      <th>birthStateProvince</th>\n",
       "      <th>birthCountry</th>\n",
       "      <th>heightInches</th>\n",
       "      <th>weight</th>\n",
       "      <th>primaryPositionCode</th>\n",
       "      <th>primaryPositionName</th>\n",
       "      <th>playerForTestSetAndFuturePreds</th>\n",
       "    </tr>\n",
       "  </thead>\n",
       "  <tbody>\n",
       "    <tr>\n",
       "      <th>0</th>\n",
       "      <td>425794</td>\n",
       "      <td>2</td>\n",
       "      <td>Brunswick</td>\n",
       "      <td>GA</td>\n",
       "      <td>USA</td>\n",
       "      <td>79</td>\n",
       "      <td>230</td>\n",
       "      <td>1</td>\n",
       "      <td>Pitcher</td>\n",
       "      <td>1</td>\n",
       "    </tr>\n",
       "    <tr>\n",
       "      <th>1</th>\n",
       "      <td>571704</td>\n",
       "      <td>2</td>\n",
       "      <td>Albuquerque</td>\n",
       "      <td>NM</td>\n",
       "      <td>USA</td>\n",
       "      <td>75</td>\n",
       "      <td>210</td>\n",
       "      <td>1</td>\n",
       "      <td>Pitcher</td>\n",
       "      <td>0</td>\n",
       "    </tr>\n",
       "    <tr>\n",
       "      <th>2</th>\n",
       "      <td>506702</td>\n",
       "      <td>2</td>\n",
       "      <td>Maracaibo</td>\n",
       "      <td>NaN</td>\n",
       "      <td>Venezuela</td>\n",
       "      <td>70</td>\n",
       "      <td>235</td>\n",
       "      <td>2</td>\n",
       "      <td>Catcher</td>\n",
       "      <td>1</td>\n",
       "    </tr>\n",
       "    <tr>\n",
       "      <th>3</th>\n",
       "      <td>607231</td>\n",
       "      <td>2</td>\n",
       "      <td>Savannah</td>\n",
       "      <td>GA</td>\n",
       "      <td>USA</td>\n",
       "      <td>76</td>\n",
       "      <td>200</td>\n",
       "      <td>1</td>\n",
       "      <td>Pitcher</td>\n",
       "      <td>1</td>\n",
       "    </tr>\n",
       "    <tr>\n",
       "      <th>4</th>\n",
       "      <td>543193</td>\n",
       "      <td>2</td>\n",
       "      <td>Columbia</td>\n",
       "      <td>CA</td>\n",
       "      <td>USA</td>\n",
       "      <td>76</td>\n",
       "      <td>215</td>\n",
       "      <td>1</td>\n",
       "      <td>Pitcher</td>\n",
       "      <td>0</td>\n",
       "    </tr>\n",
       "  </tbody>\n",
       "</table>\n",
       "</div>"
      ],
      "text/plain": [
       "   playerId  dayofweek    birthCity birthStateProvince birthCountry  \\\n",
       "0    425794          2    Brunswick                 GA          USA   \n",
       "1    571704          2  Albuquerque                 NM          USA   \n",
       "2    506702          2    Maracaibo                NaN    Venezuela   \n",
       "3    607231          2     Savannah                 GA          USA   \n",
       "4    543193          2     Columbia                 CA          USA   \n",
       "\n",
       "   heightInches  weight primaryPositionCode primaryPositionName  \\\n",
       "0            79     230                   1             Pitcher   \n",
       "1            75     210                   1             Pitcher   \n",
       "2            70     235                   2             Catcher   \n",
       "3            76     200                   1             Pitcher   \n",
       "4            76     215                   1             Pitcher   \n",
       "\n",
       "   playerForTestSetAndFuturePreds  \n",
       "0                               1  \n",
       "1                               0  \n",
       "2                               1  \n",
       "3                               1  \n",
       "4                               0  "
      ]
     },
     "execution_count": 11,
     "metadata": {},
     "output_type": "execute_result"
    }
   ],
   "source": [
    "x_train = df_train[[\n",
    "    \"playerId\", \"dayofweek\",\n",
    "    \"birthCity\", \"birthStateProvince\", \"birthCountry\", \"heightInches\", \"weight\", \n",
    "    \"primaryPositionCode\", \"primaryPositionName\", \"playerForTestSetAndFuturePreds\"]]\n",
    "y_train = df_train[[\"target1\",\"target2\",\"target3\",\"target4\"]]\n",
    "#どの選手の何月何日の予測なのかを確認をできるように、日付やPalyerIDなどの識別情報をまとめたデータ\n",
    "id_train = df_train[[\"engagementMetricsDate\",\"playerId\",\"date_playerId\",\"date\",\"yearmonth\",\"playerForTestSetAndFuturePreds\"]]\n",
    "print(x_train.shape, y_train.shape, id_train.shape)\n",
    "x_train.head()"
   ]
  },
  {
   "cell_type": "markdown",
   "id": "77b0cb00",
   "metadata": {
    "papermill": {
     "duration": 0.014574,
     "end_time": "2023-06-15T13:59:53.415131",
     "exception": false,
     "start_time": "2023-06-15T13:59:53.400557",
     "status": "completed"
    },
    "tags": []
   },
   "source": [
    "## 1-12 カテゴリ変数をcategory型に変換"
   ]
  },
  {
   "cell_type": "code",
   "execution_count": 12,
   "id": "f285aa67",
   "metadata": {
    "execution": {
     "iopub.execute_input": "2023-06-15T13:59:53.447006Z",
     "iopub.status.busy": "2023-06-15T13:59:53.446680Z",
     "iopub.status.idle": "2023-06-15T13:59:53.902383Z",
     "shell.execute_reply": "2023-06-15T13:59:53.900442Z"
    },
    "papermill": {
     "duration": 0.474496,
     "end_time": "2023-06-15T13:59:53.904963",
     "exception": false,
     "start_time": "2023-06-15T13:59:53.430467",
     "status": "completed"
    },
    "tags": []
   },
   "outputs": [],
   "source": [
    "for col in [\"playerId\", \"dayofweek\", \"birthCity\", \"birthStateProvince\", \"birthCountry\", \"primaryPositionCode\", \"primaryPositionName\"]:\n",
    "    x_train[col] = x_train[col].astype(\"category\")"
   ]
  },
  {
   "cell_type": "markdown",
   "id": "9d6eb754",
   "metadata": {
    "papermill": {
     "duration": 0.014964,
     "end_time": "2023-06-15T13:59:53.936221",
     "exception": false,
     "start_time": "2023-06-15T13:59:53.921257",
     "status": "completed"
    },
    "tags": []
   },
   "source": [
    "## カテゴリ変数をcategory型に変換"
   ]
  },
  {
   "cell_type": "code",
   "execution_count": null,
   "id": "9cef1720",
   "metadata": {
    "papermill": {
     "duration": 0.014761,
     "end_time": "2023-06-15T13:59:53.966170",
     "exception": false,
     "start_time": "2023-06-15T13:59:53.951409",
     "status": "completed"
    },
    "tags": []
   },
   "outputs": [],
   "source": []
  }
 ],
 "metadata": {
  "kernelspec": {
   "display_name": "Python 3",
   "language": "python",
   "name": "python3"
  },
  "language_info": {
   "codemirror_mode": {
    "name": "ipython",
    "version": 3
   },
   "file_extension": ".py",
   "mimetype": "text/x-python",
   "name": "python",
   "nbconvert_exporter": "python",
   "pygments_lexer": "ipython3",
   "version": "3.10.10"
  },
  "papermill": {
   "default_parameters": {},
   "duration": 101.106644,
   "end_time": "2023-06-15T13:59:55.506669",
   "environment_variables": {},
   "exception": null,
   "input_path": "__notebook__.ipynb",
   "output_path": "__notebook__.ipynb",
   "parameters": {},
   "start_time": "2023-06-15T13:58:14.400025",
   "version": "2.4.0"
  }
 },
 "nbformat": 4,
 "nbformat_minor": 5
}
