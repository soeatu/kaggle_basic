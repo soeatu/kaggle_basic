{
 "cells": [
  {
   "cell_type": "markdown",
   "id": "9191b452",
   "metadata": {
    "papermill": {
     "duration": 0.013588,
     "end_time": "2023-04-10T15:16:40.267955",
     "exception": false,
     "start_time": "2023-04-10T15:16:40.254367",
     "status": "completed"
    },
    "tags": []
   },
   "source": [
    "# 1 ベースライン作成"
   ]
  },
  {
   "cell_type": "markdown",
   "id": "f9fdc3a4",
   "metadata": {
    "papermill": {
     "duration": 0.012522,
     "end_time": "2023-04-10T15:16:40.292841",
     "exception": false,
     "start_time": "2023-04-10T15:16:40.280319",
     "status": "completed"
    },
    "tags": []
   },
   "source": [
    "## 1-1ライブラリの読み込み等の初期処理"
   ]
  },
  {
   "cell_type": "code",
   "execution_count": 1,
   "id": "3bbe502e",
   "metadata": {
    "_cell_guid": "b1076dfc-b9ad-4769-8c92-a6c4dae69d19",
    "_uuid": "8f2839f25d086af736a60e9eeb907d3b93b6e0e5",
    "execution": {
     "iopub.execute_input": "2023-04-10T15:16:40.321070Z",
     "iopub.status.busy": "2023-04-10T15:16:40.319723Z",
     "iopub.status.idle": "2023-04-10T15:16:43.091134Z",
     "shell.execute_reply": "2023-04-10T15:16:43.088903Z"
    },
    "papermill": {
     "duration": 2.791083,
     "end_time": "2023-04-10T15:16:43.096113",
     "exception": false,
     "start_time": "2023-04-10T15:16:40.305030",
     "status": "completed"
    },
    "tags": []
   },
   "outputs": [
    {
     "data": {
      "text/html": [
       "<style type='text/css'>\n",
       ".datatable table.frame { margin-bottom: 0; }\n",
       ".datatable table.frame thead { border-bottom: none; }\n",
       ".datatable table.frame tr.coltypes td {  color: #FFFFFF;  line-height: 6px;  padding: 0 0.5em;}\n",
       ".datatable .bool    { background: #DDDD99; }\n",
       ".datatable .object  { background: #565656; }\n",
       ".datatable .int     { background: #5D9E5D; }\n",
       ".datatable .float   { background: #4040CC; }\n",
       ".datatable .str     { background: #CC4040; }\n",
       ".datatable .time    { background: #40CC40; }\n",
       ".datatable .row_index {  background: var(--jp-border-color3);  border-right: 1px solid var(--jp-border-color0);  color: var(--jp-ui-font-color3);  font-size: 9px;}\n",
       ".datatable .frame tbody td { text-align: left; }\n",
       ".datatable .frame tr.coltypes .row_index {  background: var(--jp-border-color0);}\n",
       ".datatable th:nth-child(2) { padding-left: 12px; }\n",
       ".datatable .hellipsis {  color: var(--jp-cell-editor-border-color);}\n",
       ".datatable .vellipsis {  background: var(--jp-layout-color0);  color: var(--jp-cell-editor-border-color);}\n",
       ".datatable .na {  color: var(--jp-cell-editor-border-color);  font-size: 80%;}\n",
       ".datatable .sp {  opacity: 0.25;}\n",
       ".datatable .footer { font-size: 9px; }\n",
       ".datatable .frame_dimensions {  background: var(--jp-border-color3);  border-top: 1px solid var(--jp-border-color0);  color: var(--jp-ui-font-color3);  display: inline-block;  opacity: 0.6;  padding: 1px 10px 1px 5px;}\n",
       "</style>\n"
      ],
      "text/plain": [
       "<IPython.core.display.HTML object>"
      ]
     },
     "metadata": {},
     "output_type": "display_data"
    }
   ],
   "source": [
    "import numpy as np\n",
    "import pandas as pd\n",
    "import re\n",
    "import pickle\n",
    "import gc\n",
    "\n",
    "# scikit-learn\n",
    "from sklearn.preprocessing import OneHotEncoder, LabelEncoder\n",
    "from sklearn.model_selection import StratifiedKFold\n",
    "from sklearn.metrics import roc_auc_score\n",
    "\n",
    "# LightGBM\n",
    "import lightgbm as lgb\n",
    "\n",
    "import warnings\n",
    "warnings.filterwarnings(\"ignore\")"
   ]
  },
  {
   "cell_type": "code",
   "execution_count": 2,
   "id": "10084d61",
   "metadata": {
    "execution": {
     "iopub.execute_input": "2023-04-10T15:16:43.129105Z",
     "iopub.status.busy": "2023-04-10T15:16:43.128151Z",
     "iopub.status.idle": "2023-04-10T15:16:51.763883Z",
     "shell.execute_reply": "2023-04-10T15:16:51.762323Z"
    },
    "papermill": {
     "duration": 8.653761,
     "end_time": "2023-04-10T15:16:51.767239",
     "exception": false,
     "start_time": "2023-04-10T15:16:43.113478",
     "status": "completed"
    },
    "tags": []
   },
   "outputs": [
    {
     "name": "stdout",
     "output_type": "stream",
     "text": [
      "(307511, 122)\n"
     ]
    },
    {
     "data": {
      "text/html": [
       "<div>\n",
       "<style scoped>\n",
       "    .dataframe tbody tr th:only-of-type {\n",
       "        vertical-align: middle;\n",
       "    }\n",
       "\n",
       "    .dataframe tbody tr th {\n",
       "        vertical-align: top;\n",
       "    }\n",
       "\n",
       "    .dataframe thead th {\n",
       "        text-align: right;\n",
       "    }\n",
       "</style>\n",
       "<table border=\"1\" class=\"dataframe\">\n",
       "  <thead>\n",
       "    <tr style=\"text-align: right;\">\n",
       "      <th></th>\n",
       "      <th>SK_ID_CURR</th>\n",
       "      <th>TARGET</th>\n",
       "      <th>NAME_CONTRACT_TYPE</th>\n",
       "      <th>CODE_GENDER</th>\n",
       "      <th>FLAG_OWN_CAR</th>\n",
       "      <th>FLAG_OWN_REALTY</th>\n",
       "      <th>CNT_CHILDREN</th>\n",
       "      <th>AMT_INCOME_TOTAL</th>\n",
       "      <th>AMT_CREDIT</th>\n",
       "      <th>AMT_ANNUITY</th>\n",
       "      <th>...</th>\n",
       "      <th>FLAG_DOCUMENT_18</th>\n",
       "      <th>FLAG_DOCUMENT_19</th>\n",
       "      <th>FLAG_DOCUMENT_20</th>\n",
       "      <th>FLAG_DOCUMENT_21</th>\n",
       "      <th>AMT_REQ_CREDIT_BUREAU_HOUR</th>\n",
       "      <th>AMT_REQ_CREDIT_BUREAU_DAY</th>\n",
       "      <th>AMT_REQ_CREDIT_BUREAU_WEEK</th>\n",
       "      <th>AMT_REQ_CREDIT_BUREAU_MON</th>\n",
       "      <th>AMT_REQ_CREDIT_BUREAU_QRT</th>\n",
       "      <th>AMT_REQ_CREDIT_BUREAU_YEAR</th>\n",
       "    </tr>\n",
       "  </thead>\n",
       "  <tbody>\n",
       "    <tr>\n",
       "      <th>0</th>\n",
       "      <td>100002</td>\n",
       "      <td>1</td>\n",
       "      <td>Cash loans</td>\n",
       "      <td>M</td>\n",
       "      <td>N</td>\n",
       "      <td>Y</td>\n",
       "      <td>0</td>\n",
       "      <td>202500.0</td>\n",
       "      <td>406597.5</td>\n",
       "      <td>24700.5</td>\n",
       "      <td>...</td>\n",
       "      <td>0</td>\n",
       "      <td>0</td>\n",
       "      <td>0</td>\n",
       "      <td>0</td>\n",
       "      <td>0.0</td>\n",
       "      <td>0.0</td>\n",
       "      <td>0.0</td>\n",
       "      <td>0.0</td>\n",
       "      <td>0.0</td>\n",
       "      <td>1.0</td>\n",
       "    </tr>\n",
       "    <tr>\n",
       "      <th>1</th>\n",
       "      <td>100003</td>\n",
       "      <td>0</td>\n",
       "      <td>Cash loans</td>\n",
       "      <td>F</td>\n",
       "      <td>N</td>\n",
       "      <td>N</td>\n",
       "      <td>0</td>\n",
       "      <td>270000.0</td>\n",
       "      <td>1293502.5</td>\n",
       "      <td>35698.5</td>\n",
       "      <td>...</td>\n",
       "      <td>0</td>\n",
       "      <td>0</td>\n",
       "      <td>0</td>\n",
       "      <td>0</td>\n",
       "      <td>0.0</td>\n",
       "      <td>0.0</td>\n",
       "      <td>0.0</td>\n",
       "      <td>0.0</td>\n",
       "      <td>0.0</td>\n",
       "      <td>0.0</td>\n",
       "    </tr>\n",
       "    <tr>\n",
       "      <th>2</th>\n",
       "      <td>100004</td>\n",
       "      <td>0</td>\n",
       "      <td>Revolving loans</td>\n",
       "      <td>M</td>\n",
       "      <td>Y</td>\n",
       "      <td>Y</td>\n",
       "      <td>0</td>\n",
       "      <td>67500.0</td>\n",
       "      <td>135000.0</td>\n",
       "      <td>6750.0</td>\n",
       "      <td>...</td>\n",
       "      <td>0</td>\n",
       "      <td>0</td>\n",
       "      <td>0</td>\n",
       "      <td>0</td>\n",
       "      <td>0.0</td>\n",
       "      <td>0.0</td>\n",
       "      <td>0.0</td>\n",
       "      <td>0.0</td>\n",
       "      <td>0.0</td>\n",
       "      <td>0.0</td>\n",
       "    </tr>\n",
       "    <tr>\n",
       "      <th>3</th>\n",
       "      <td>100006</td>\n",
       "      <td>0</td>\n",
       "      <td>Cash loans</td>\n",
       "      <td>F</td>\n",
       "      <td>N</td>\n",
       "      <td>Y</td>\n",
       "      <td>0</td>\n",
       "      <td>135000.0</td>\n",
       "      <td>312682.5</td>\n",
       "      <td>29686.5</td>\n",
       "      <td>...</td>\n",
       "      <td>0</td>\n",
       "      <td>0</td>\n",
       "      <td>0</td>\n",
       "      <td>0</td>\n",
       "      <td>NaN</td>\n",
       "      <td>NaN</td>\n",
       "      <td>NaN</td>\n",
       "      <td>NaN</td>\n",
       "      <td>NaN</td>\n",
       "      <td>NaN</td>\n",
       "    </tr>\n",
       "    <tr>\n",
       "      <th>4</th>\n",
       "      <td>100007</td>\n",
       "      <td>0</td>\n",
       "      <td>Cash loans</td>\n",
       "      <td>M</td>\n",
       "      <td>N</td>\n",
       "      <td>Y</td>\n",
       "      <td>0</td>\n",
       "      <td>121500.0</td>\n",
       "      <td>513000.0</td>\n",
       "      <td>21865.5</td>\n",
       "      <td>...</td>\n",
       "      <td>0</td>\n",
       "      <td>0</td>\n",
       "      <td>0</td>\n",
       "      <td>0</td>\n",
       "      <td>0.0</td>\n",
       "      <td>0.0</td>\n",
       "      <td>0.0</td>\n",
       "      <td>0.0</td>\n",
       "      <td>0.0</td>\n",
       "      <td>0.0</td>\n",
       "    </tr>\n",
       "  </tbody>\n",
       "</table>\n",
       "<p>5 rows × 122 columns</p>\n",
       "</div>"
      ],
      "text/plain": [
       "   SK_ID_CURR  TARGET NAME_CONTRACT_TYPE CODE_GENDER FLAG_OWN_CAR  \\\n",
       "0      100002       1         Cash loans           M            N   \n",
       "1      100003       0         Cash loans           F            N   \n",
       "2      100004       0    Revolving loans           M            Y   \n",
       "3      100006       0         Cash loans           F            N   \n",
       "4      100007       0         Cash loans           M            N   \n",
       "\n",
       "  FLAG_OWN_REALTY  CNT_CHILDREN  AMT_INCOME_TOTAL  AMT_CREDIT  AMT_ANNUITY  \\\n",
       "0               Y             0          202500.0    406597.5      24700.5   \n",
       "1               N             0          270000.0   1293502.5      35698.5   \n",
       "2               Y             0           67500.0    135000.0       6750.0   \n",
       "3               Y             0          135000.0    312682.5      29686.5   \n",
       "4               Y             0          121500.0    513000.0      21865.5   \n",
       "\n",
       "   ...  FLAG_DOCUMENT_18 FLAG_DOCUMENT_19 FLAG_DOCUMENT_20 FLAG_DOCUMENT_21  \\\n",
       "0  ...                 0                0                0                0   \n",
       "1  ...                 0                0                0                0   \n",
       "2  ...                 0                0                0                0   \n",
       "3  ...                 0                0                0                0   \n",
       "4  ...                 0                0                0                0   \n",
       "\n",
       "  AMT_REQ_CREDIT_BUREAU_HOUR AMT_REQ_CREDIT_BUREAU_DAY  \\\n",
       "0                        0.0                       0.0   \n",
       "1                        0.0                       0.0   \n",
       "2                        0.0                       0.0   \n",
       "3                        NaN                       NaN   \n",
       "4                        0.0                       0.0   \n",
       "\n",
       "   AMT_REQ_CREDIT_BUREAU_WEEK  AMT_REQ_CREDIT_BUREAU_MON  \\\n",
       "0                         0.0                        0.0   \n",
       "1                         0.0                        0.0   \n",
       "2                         0.0                        0.0   \n",
       "3                         NaN                        NaN   \n",
       "4                         0.0                        0.0   \n",
       "\n",
       "   AMT_REQ_CREDIT_BUREAU_QRT  AMT_REQ_CREDIT_BUREAU_YEAR  \n",
       "0                        0.0                         1.0  \n",
       "1                        0.0                         0.0  \n",
       "2                        0.0                         0.0  \n",
       "3                        NaN                         NaN  \n",
       "4                        0.0                         0.0  \n",
       "\n",
       "[5 rows x 122 columns]"
      ]
     },
     "execution_count": 2,
     "metadata": {},
     "output_type": "execute_result"
    }
   ],
   "source": [
    "# ファイルの読み込み・データ確認\n",
    "application_train = pd.read_csv(\"../input/home-credit-default-risk/application_train.csv\")\n",
    "print(application_train.shape)\n",
    "application_train.head()"
   ]
  },
  {
   "cell_type": "code",
   "execution_count": 3,
   "id": "6d67e040",
   "metadata": {
    "execution": {
     "iopub.execute_input": "2023-04-10T15:16:51.796725Z",
     "iopub.status.busy": "2023-04-10T15:16:51.795328Z",
     "iopub.status.idle": "2023-04-10T15:16:56.735867Z",
     "shell.execute_reply": "2023-04-10T15:16:56.733716Z"
    },
    "papermill": {
     "duration": 4.959737,
     "end_time": "2023-04-10T15:16:56.740099",
     "exception": false,
     "start_time": "2023-04-10T15:16:51.780362",
     "status": "completed"
    },
    "tags": []
   },
   "outputs": [
    {
     "name": "stdout",
     "output_type": "stream",
     "text": [
      "Memory usage of dataframe is 286.23 MB\n",
      "Memory usage after optimization is: 92.38 MB\n",
      "Decreased by 67.7%\n"
     ]
    }
   ],
   "source": [
    "# メモリ削減用関数　（ファイルサイズが大きいとき）データ型を最適化する\n",
    "def reduce_mem_usage(df):\n",
    "    start_mem = df.memory_usage().sum() / 1024**2\n",
    "    print('Memory usage of dataframe is {:.2f} MB'.format(start_mem))\n",
    "    \n",
    "    for col in df.columns:\n",
    "        col_type = df[col].dtype\n",
    "        \n",
    "        if col_type != object:\n",
    "            c_min = df[col].min()\n",
    "            c_max = df[col].max()\n",
    "            if str(col_type)[:3] == 'int':\n",
    "                if c_min > np.iinfo(np.int8).min and c_max < np.iinfo(np.int8).max:\n",
    "                    df[col] = df[col].astype(np.int8)\n",
    "                elif c_min > np.iinfo(np.int16).min and c_max < np.iinfo(np.int16).max:\n",
    "                    df[col] = df[col].astype(np.int16)\n",
    "                elif c_min > np.iinfo(np.int32).min and c_max < np.iinfo(np.int32).max:\n",
    "                    df[col] = df[col].astype(np.int32)\n",
    "                elif c_min > np.iinfo(np.int64).min and c_max < np.iinfo(np.int64).max:\n",
    "                    df[col] = df[col].astype(np.int64)  \n",
    "            else:\n",
    "                if c_min > np.finfo(np.float16).min and c_max < np.finfo(np.float16).max:\n",
    "                    df[col] = df[col].astype(np.float16)\n",
    "                elif c_min > np.finfo(np.float32).min and c_max < np.finfo(np.float32).max:\n",
    "                    df[col] = df[col].astype(np.float32)\n",
    "                else:\n",
    "                    df[col] = df[col].astype(np.float64)\n",
    "        else:\n",
    "            pass\n",
    "\n",
    "    end_mem = df.memory_usage().sum() / 1024**2\n",
    "    print('Memory usage after optimization is: {:.2f} MB'.format(end_mem))\n",
    "    print('Decreased by {:.1f}%'.format(100 * (start_mem - end_mem) / start_mem))\n",
    "    \n",
    "    return df\n",
    "#試しで使用\n",
    "application_train = reduce_mem_usage(application_train)"
   ]
  },
  {
   "cell_type": "markdown",
   "id": "e8b82175",
   "metadata": {
    "papermill": {
     "duration": 0.012515,
     "end_time": "2023-04-10T15:16:56.766085",
     "exception": false,
     "start_time": "2023-04-10T15:16:56.753570",
     "status": "completed"
    },
    "tags": []
   },
   "source": [
    "## 1-2 データセットの作成"
   ]
  },
  {
   "cell_type": "code",
   "execution_count": 4,
   "id": "846dafde",
   "metadata": {
    "execution": {
     "iopub.execute_input": "2023-04-10T15:16:56.795121Z",
     "iopub.status.busy": "2023-04-10T15:16:56.794480Z",
     "iopub.status.idle": "2023-04-10T15:16:57.893123Z",
     "shell.execute_reply": "2023-04-10T15:16:57.890670Z"
    },
    "papermill": {
     "duration": 1.117878,
     "end_time": "2023-04-10T15:16:57.896950",
     "exception": false,
     "start_time": "2023-04-10T15:16:56.779072",
     "status": "completed"
    },
    "tags": []
   },
   "outputs": [],
   "source": [
    "#データセットの作成\n",
    "x_train = application_train.drop(columns=[\"TARGET\", \"SK_ID_CURR\"])\n",
    "y_train = application_train[\"TARGET\"]\n",
    "id_train = application_train[[\"SK_ID_CURR\"]]\n",
    "#カテゴリ変数をcategory型へ変換（lightGBMに使うため）\n",
    "for col in x_train.columns:\n",
    "    if x_train[col].dtype==\"O\":\n",
    "        x_train[col] = x_train[col].astype(\"category\")"
   ]
  },
  {
   "cell_type": "markdown",
   "id": "2863b34a",
   "metadata": {
    "papermill": {
     "duration": 0.014213,
     "end_time": "2023-04-10T15:16:57.926188",
     "exception": false,
     "start_time": "2023-04-10T15:16:57.911975",
     "status": "completed"
    },
    "tags": []
   },
   "source": [
    "## 1-3 バリデーション設計"
   ]
  },
  {
   "cell_type": "code",
   "execution_count": 5,
   "id": "ff5bd5b5",
   "metadata": {
    "execution": {
     "iopub.execute_input": "2023-04-10T15:16:57.954831Z",
     "iopub.status.busy": "2023-04-10T15:16:57.954268Z",
     "iopub.status.idle": "2023-04-10T15:16:57.971619Z",
     "shell.execute_reply": "2023-04-10T15:16:57.969956Z"
    },
    "papermill": {
     "duration": 0.035869,
     "end_time": "2023-04-10T15:16:57.975105",
     "exception": false,
     "start_time": "2023-04-10T15:16:57.939236",
     "status": "completed"
    },
    "tags": []
   },
   "outputs": [
    {
     "name": "stdout",
     "output_type": "stream",
     "text": [
      "mean: 0.0807\n"
     ]
    },
    {
     "data": {
      "text/plain": [
       "0    282686\n",
       "1     24825\n",
       "Name: TARGET, dtype: int64"
      ]
     },
     "execution_count": 5,
     "metadata": {},
     "output_type": "execute_result"
    }
   ],
   "source": [
    "#1の割合とそれぞれの件数を確認\n",
    "print(\"mean: {:.4f}\".format(y_train.mean()))\n",
    "y_train.value_counts()"
   ]
  },
  {
   "cell_type": "code",
   "execution_count": 6,
   "id": "949ea886",
   "metadata": {
    "execution": {
     "iopub.execute_input": "2023-04-10T15:16:58.005661Z",
     "iopub.status.busy": "2023-04-10T15:16:58.005114Z",
     "iopub.status.idle": "2023-04-10T15:16:58.086513Z",
     "shell.execute_reply": "2023-04-10T15:16:58.084812Z"
    },
    "papermill": {
     "duration": 0.101185,
     "end_time": "2023-04-10T15:16:58.089801",
     "exception": false,
     "start_time": "2023-04-10T15:16:57.988616",
     "status": "completed"
    },
    "tags": []
   },
   "outputs": [
    {
     "name": "stdout",
     "output_type": "stream",
     "text": [
      "index(train): [     0      1      3 ... 307508 307509 307510]\n",
      "index(valid): [     2     11     22 ... 307488 307495 307497]\n"
     ]
    }
   ],
   "source": [
    "'''\n",
    "バリデーションのindexeリスト作成\n",
    "分割の割合が一定になるように層化分割を行う（StratifidKFold）\n",
    "'''\n",
    "# 層化分割したバリデーションのindexのリスト作成\n",
    "cv = list(StratifiedKFold(n_splits=5, shuffle=True, random_state=123).split(x_train, y_train))\n",
    "\n",
    "# indexの確認：fold=0のtrainデータ\n",
    "print(\"index(train):\", cv[0][0])\n",
    "\n",
    "# indexの確認：fold=0のvalidデータ\n",
    "print(\"index(valid):\", cv[0][1])"
   ]
  },
  {
   "cell_type": "markdown",
   "id": "541520e0",
   "metadata": {
    "papermill": {
     "duration": 0.013545,
     "end_time": "2023-04-10T15:16:58.116593",
     "exception": false,
     "start_time": "2023-04-10T15:16:58.103048",
     "status": "completed"
    },
    "tags": []
   },
   "source": [
    "## 1-4 モデル学習"
   ]
  },
  {
   "cell_type": "code",
   "execution_count": 7,
   "id": "285ce08c",
   "metadata": {
    "execution": {
     "iopub.execute_input": "2023-04-10T15:16:58.147026Z",
     "iopub.status.busy": "2023-04-10T15:16:58.146526Z",
     "iopub.status.idle": "2023-04-10T15:16:58.365247Z",
     "shell.execute_reply": "2023-04-10T15:16:58.363944Z"
    },
    "papermill": {
     "duration": 0.237999,
     "end_time": "2023-04-10T15:16:58.368230",
     "exception": false,
     "start_time": "2023-04-10T15:16:58.130231",
     "status": "completed"
    },
    "tags": []
   },
   "outputs": [
    {
     "name": "stdout",
     "output_type": "stream",
     "text": [
      "(246008, 120) (246008,) (246008, 1)\n",
      "(61503, 120) (61503,) (61503, 1)\n"
     ]
    }
   ],
   "source": [
    "'''学習データと検証データに分類'''\n",
    "# foldごとのindexのリスト作成\n",
    "cv = list(StratifiedKFold(n_splits=5, shuffle=True, random_state=123).split(x_train, y_train))\n",
    "\n",
    "# 0fold目のindexのリスト取得\n",
    "nfold = 0\n",
    "idx_tr, idx_va = cv[nfold][0], cv[nfold][1]\n",
    "\n",
    "# 学習データと検証データに分離\n",
    "x_tr, y_tr, id_tr = x_train.loc[idx_tr, :], y_train[idx_tr], id_train.loc[idx_tr, :]\n",
    "x_va, y_va, id_va = x_train.loc[idx_va, :], y_train[idx_va], id_train.loc[idx_va, :]\n",
    "print(x_tr.shape, y_tr.shape, id_tr.shape)\n",
    "print(x_va.shape, y_va.shape, id_va.shape)"
   ]
  },
  {
   "cell_type": "code",
   "execution_count": 8,
   "id": "c28ccb32",
   "metadata": {
    "execution": {
     "iopub.execute_input": "2023-04-10T15:16:58.398275Z",
     "iopub.status.busy": "2023-04-10T15:16:58.396982Z",
     "iopub.status.idle": "2023-04-10T15:17:31.186429Z",
     "shell.execute_reply": "2023-04-10T15:17:31.184984Z"
    },
    "papermill": {
     "duration": 32.807776,
     "end_time": "2023-04-10T15:17:31.189781",
     "exception": false,
     "start_time": "2023-04-10T15:16:58.382005",
     "status": "completed"
    },
    "tags": []
   },
   "outputs": [
    {
     "name": "stdout",
     "output_type": "stream",
     "text": [
      "[100]\ttraining's auc: 0.782506\tvalid_1's auc: 0.755903\n",
      "[200]\ttraining's auc: 0.808961\tvalid_1's auc: 0.758356\n",
      "[300]\ttraining's auc: 0.829245\tvalid_1's auc: 0.757774\n"
     ]
    }
   ],
   "source": [
    "# モデルの学習\n",
    "params = {\n",
    "    'boosting_type': 'gbdt',\n",
    "    'objective': 'binary', \n",
    "    'metric': 'auc',\n",
    "    'learning_rate': 0.05,\n",
    "    'num_leaves': 32,\n",
    "    'n_estimators': 100000,\n",
    "    \"random_state\": 123,\n",
    "    \"importance_type\": \"gain\",\n",
    "}\n",
    "\n",
    "model = lgb.LGBMClassifier(**params)\n",
    "model.fit(x_tr,\n",
    "          y_tr,\n",
    "          eval_set=[(x_tr, y_tr), (x_va, y_va)],\n",
    "          early_stopping_rounds=100,\n",
    "          verbose=100\n",
    "         )\n",
    "\n",
    "# モデルの保存\n",
    "with open(\"model_lgb_fold0.pickle\", \"wb\") as f:\n",
    "    pickle.dump(model, f, protocol=4)"
   ]
  },
  {
   "cell_type": "code",
   "execution_count": 9,
   "id": "ec6a6ed4",
   "metadata": {
    "execution": {
     "iopub.execute_input": "2023-04-10T15:17:31.219921Z",
     "iopub.status.busy": "2023-04-10T15:17:31.218742Z",
     "iopub.status.idle": "2023-04-10T15:17:34.563585Z",
     "shell.execute_reply": "2023-04-10T15:17:34.562116Z"
    },
    "papermill": {
     "duration": 3.363528,
     "end_time": "2023-04-10T15:17:34.567053",
     "exception": false,
     "start_time": "2023-04-10T15:17:31.203525",
     "status": "completed"
    },
    "tags": []
   },
   "outputs": [
    {
     "name": "stdout",
     "output_type": "stream",
     "text": [
      "[auc] tr:0.8126, va:0.7586\n"
     ]
    }
   ],
   "source": [
    "'''モデル評価'''\n",
    "# 学習データの推論値取得とROC計算\n",
    "y_tr_pred = model.predict_proba(x_tr)[:,1]\n",
    "metric_tr = roc_auc_score(y_tr, y_tr_pred)\n",
    "\n",
    "# 検証データの推論値取得とROC計算\n",
    "y_va_pred = model.predict_proba(x_va)[:,1]\n",
    "metric_va = roc_auc_score(y_va, y_va_pred)\n",
    "\n",
    "# 評価値を入れる変数の作成（最初のfoldのときのみ）\n",
    "metrics = []\n",
    "\n",
    "# 評価値を格納\n",
    "metrics.append([nfold, metric_tr, metric_va])\n",
    "\n",
    "# 結果の表示\n",
    "print(\"[auc] tr:{:.4f}, va:{:.4f}\".format(metric_tr, metric_va))"
   ]
  },
  {
   "cell_type": "code",
   "execution_count": 10,
   "id": "ccfd4d68",
   "metadata": {
    "execution": {
     "iopub.execute_input": "2023-04-10T15:17:34.596406Z",
     "iopub.status.busy": "2023-04-10T15:17:34.595540Z",
     "iopub.status.idle": "2023-04-10T15:17:34.602760Z",
     "shell.execute_reply": "2023-04-10T15:17:34.601276Z"
    },
    "papermill": {
     "duration": 0.025152,
     "end_time": "2023-04-10T15:17:34.605646",
     "exception": false,
     "start_time": "2023-04-10T15:17:34.580494",
     "status": "completed"
    },
    "tags": []
   },
   "outputs": [],
   "source": [
    "'''OOFデータの推定値取得(out of fold)'''\n",
    "#推論値や誤差の分布確認やアンサンブル時のモデルごとの重みを決めるのに有効\n",
    "# oofの予測値を入れる変数の作成\n",
    "train_oof = np.zeros(len(x_train))\n",
    "\n",
    "# validデータのindexに予測値を格納\n",
    "train_oof[idx_va] = y_va_pred"
   ]
  },
  {
   "cell_type": "code",
   "execution_count": 11,
   "id": "57a3129e",
   "metadata": {
    "execution": {
     "iopub.execute_input": "2023-04-10T15:17:34.634651Z",
     "iopub.status.busy": "2023-04-10T15:17:34.634202Z",
     "iopub.status.idle": "2023-04-10T15:17:34.654529Z",
     "shell.execute_reply": "2023-04-10T15:17:34.653116Z"
    },
    "papermill": {
     "duration": 0.038894,
     "end_time": "2023-04-10T15:17:34.657915",
     "exception": false,
     "start_time": "2023-04-10T15:17:34.619021",
     "status": "completed"
    },
    "tags": []
   },
   "outputs": [
    {
     "data": {
      "text/html": [
       "<div>\n",
       "<style scoped>\n",
       "    .dataframe tbody tr th:only-of-type {\n",
       "        vertical-align: middle;\n",
       "    }\n",
       "\n",
       "    .dataframe tbody tr th {\n",
       "        vertical-align: top;\n",
       "    }\n",
       "\n",
       "    .dataframe thead th {\n",
       "        text-align: right;\n",
       "    }\n",
       "</style>\n",
       "<table border=\"1\" class=\"dataframe\">\n",
       "  <thead>\n",
       "    <tr style=\"text-align: right;\">\n",
       "      <th></th>\n",
       "      <th>col</th>\n",
       "      <th>imp</th>\n",
       "      <th>nfold</th>\n",
       "    </tr>\n",
       "  </thead>\n",
       "  <tbody>\n",
       "    <tr>\n",
       "      <th>41</th>\n",
       "      <td>EXT_SOURCE_3</td>\n",
       "      <td>66225.020483</td>\n",
       "      <td>0</td>\n",
       "    </tr>\n",
       "    <tr>\n",
       "      <th>40</th>\n",
       "      <td>EXT_SOURCE_2</td>\n",
       "      <td>52568.833805</td>\n",
       "      <td>0</td>\n",
       "    </tr>\n",
       "    <tr>\n",
       "      <th>38</th>\n",
       "      <td>ORGANIZATION_TYPE</td>\n",
       "      <td>20218.523523</td>\n",
       "      <td>0</td>\n",
       "    </tr>\n",
       "    <tr>\n",
       "      <th>39</th>\n",
       "      <td>EXT_SOURCE_1</td>\n",
       "      <td>19776.252288</td>\n",
       "      <td>0</td>\n",
       "    </tr>\n",
       "    <tr>\n",
       "      <th>6</th>\n",
       "      <td>AMT_CREDIT</td>\n",
       "      <td>8111.321247</td>\n",
       "      <td>0</td>\n",
       "    </tr>\n",
       "    <tr>\n",
       "      <th>8</th>\n",
       "      <td>AMT_GOODS_PRICE</td>\n",
       "      <td>7120.960365</td>\n",
       "      <td>0</td>\n",
       "    </tr>\n",
       "    <tr>\n",
       "      <th>15</th>\n",
       "      <td>DAYS_BIRTH</td>\n",
       "      <td>7042.223005</td>\n",
       "      <td>0</td>\n",
       "    </tr>\n",
       "    <tr>\n",
       "      <th>7</th>\n",
       "      <td>AMT_ANNUITY</td>\n",
       "      <td>6992.551795</td>\n",
       "      <td>0</td>\n",
       "    </tr>\n",
       "    <tr>\n",
       "      <th>16</th>\n",
       "      <td>DAYS_EMPLOYED</td>\n",
       "      <td>5236.514120</td>\n",
       "      <td>0</td>\n",
       "    </tr>\n",
       "    <tr>\n",
       "      <th>26</th>\n",
       "      <td>OCCUPATION_TYPE</td>\n",
       "      <td>4376.651746</td>\n",
       "      <td>0</td>\n",
       "    </tr>\n",
       "  </tbody>\n",
       "</table>\n",
       "</div>"
      ],
      "text/plain": [
       "                  col           imp  nfold\n",
       "41       EXT_SOURCE_3  66225.020483      0\n",
       "40       EXT_SOURCE_2  52568.833805      0\n",
       "38  ORGANIZATION_TYPE  20218.523523      0\n",
       "39       EXT_SOURCE_1  19776.252288      0\n",
       "6          AMT_CREDIT   8111.321247      0\n",
       "8     AMT_GOODS_PRICE   7120.960365      0\n",
       "15         DAYS_BIRTH   7042.223005      0\n",
       "7         AMT_ANNUITY   6992.551795      0\n",
       "16      DAYS_EMPLOYED   5236.514120      0\n",
       "26    OCCUPATION_TYPE   4376.651746      0"
      ]
     },
     "metadata": {},
     "output_type": "display_data"
    }
   ],
   "source": [
    "'''説明変数の重要度取得（学習したモデルから説明変数の重要度を取得）'''\n",
    "# 重要度の取得\n",
    "imp_fold = pd.DataFrame({\"col\":x_train.columns, \"imp\":model.feature_importances_, \"nfold\":nfold})\n",
    "# 確認（重要度の上位10個）\n",
    "display(imp_fold.sort_values(\"imp\", ascending=False)[:10])\n",
    "\n",
    "# 重要度を格納する5fold用データフレームの作成\n",
    "imp = pd.DataFrame()\n",
    "# imp_foldを5fold用データフレームに結合\n",
    "imp = pd.concat([imp, imp_fold])"
   ]
  },
  {
   "cell_type": "code",
   "execution_count": 12,
   "id": "3bcf11d0",
   "metadata": {
    "execution": {
     "iopub.execute_input": "2023-04-10T15:17:34.688214Z",
     "iopub.status.busy": "2023-04-10T15:17:34.687702Z",
     "iopub.status.idle": "2023-04-10T15:17:34.770402Z",
     "shell.execute_reply": "2023-04-10T15:17:34.768701Z"
    },
    "papermill": {
     "duration": 0.101125,
     "end_time": "2023-04-10T15:17:34.773351",
     "exception": false,
     "start_time": "2023-04-10T15:17:34.672226",
     "status": "completed"
    },
    "tags": []
   },
   "outputs": [
    {
     "name": "stdout",
     "output_type": "stream",
     "text": [
      "[[0.         0.81257796 0.75859528]]\n",
      "[cv] tr:0.8126+-0.0000, va:0.7586+-0.0000\n",
      "[oof] 0.5103\n"
     ]
    }
   ],
   "source": [
    "'''モデル評価（全foldのサマリ）'''\n",
    "# リスト型をarray型に変換\n",
    "metrics = np.array(metrics)\n",
    "print(metrics)\n",
    "\n",
    "# 学習/検証データの評価値の平均値と標準偏差を算出\n",
    "print(\"[cv] tr:{:.4f}+-{:.4f}, va:{:.4f}+-{:.4f}\".format(\n",
    "    metrics[:,1].mean(), metrics[:,1].std(),\n",
    "    metrics[:,2].mean(), metrics[:,2].std(),\n",
    "))\n",
    "\n",
    "# oofの評価値を算出\n",
    "print(\"[oof] {:.4f}\".format(\n",
    "    roc_auc_score(y_train, train_oof)\n",
    "))"
   ]
  },
  {
   "cell_type": "code",
   "execution_count": 13,
   "id": "c010a2fb",
   "metadata": {
    "execution": {
     "iopub.execute_input": "2023-04-10T15:17:34.804596Z",
     "iopub.status.busy": "2023-04-10T15:17:34.803534Z",
     "iopub.status.idle": "2023-04-10T15:17:34.821498Z",
     "shell.execute_reply": "2023-04-10T15:17:34.819863Z"
    },
    "papermill": {
     "duration": 0.037306,
     "end_time": "2023-04-10T15:17:34.824609",
     "exception": false,
     "start_time": "2023-04-10T15:17:34.787303",
     "status": "completed"
    },
    "tags": []
   },
   "outputs": [
    {
     "data": {
      "text/html": [
       "<div>\n",
       "<style scoped>\n",
       "    .dataframe tbody tr th:only-of-type {\n",
       "        vertical-align: middle;\n",
       "    }\n",
       "\n",
       "    .dataframe tbody tr th {\n",
       "        vertical-align: top;\n",
       "    }\n",
       "\n",
       "    .dataframe thead th {\n",
       "        text-align: right;\n",
       "    }\n",
       "</style>\n",
       "<table border=\"1\" class=\"dataframe\">\n",
       "  <thead>\n",
       "    <tr style=\"text-align: right;\">\n",
       "      <th></th>\n",
       "      <th>SK_ID_CURR</th>\n",
       "      <th>true</th>\n",
       "      <th>pred</th>\n",
       "    </tr>\n",
       "  </thead>\n",
       "  <tbody>\n",
       "    <tr>\n",
       "      <th>0</th>\n",
       "      <td>100002</td>\n",
       "      <td>1</td>\n",
       "      <td>0.000000</td>\n",
       "    </tr>\n",
       "    <tr>\n",
       "      <th>1</th>\n",
       "      <td>100003</td>\n",
       "      <td>0</td>\n",
       "      <td>0.000000</td>\n",
       "    </tr>\n",
       "    <tr>\n",
       "      <th>2</th>\n",
       "      <td>100004</td>\n",
       "      <td>0</td>\n",
       "      <td>0.031866</td>\n",
       "    </tr>\n",
       "    <tr>\n",
       "      <th>3</th>\n",
       "      <td>100006</td>\n",
       "      <td>0</td>\n",
       "      <td>0.000000</td>\n",
       "    </tr>\n",
       "    <tr>\n",
       "      <th>4</th>\n",
       "      <td>100007</td>\n",
       "      <td>0</td>\n",
       "      <td>0.000000</td>\n",
       "    </tr>\n",
       "  </tbody>\n",
       "</table>\n",
       "</div>"
      ],
      "text/plain": [
       "   SK_ID_CURR  true      pred\n",
       "0      100002     1  0.000000\n",
       "1      100003     0  0.000000\n",
       "2      100004     0  0.031866\n",
       "3      100006     0  0.000000\n",
       "4      100007     0  0.000000"
      ]
     },
     "execution_count": 13,
     "metadata": {},
     "output_type": "execute_result"
    }
   ],
   "source": [
    "#OOFデータの推論値取得\n",
    "train_oof = pd.concat([\n",
    "    id_train,\n",
    "    pd.DataFrame({\"true\": y_train, \"pred\": train_oof}),\n",
    "], axis=1)\n",
    "train_oof.head()"
   ]
  },
  {
   "cell_type": "code",
   "execution_count": 14,
   "id": "897fe5fa",
   "metadata": {
    "execution": {
     "iopub.execute_input": "2023-04-10T15:17:34.855095Z",
     "iopub.status.busy": "2023-04-10T15:17:34.854144Z",
     "iopub.status.idle": "2023-04-10T15:17:34.877416Z",
     "shell.execute_reply": "2023-04-10T15:17:34.876095Z"
    },
    "papermill": {
     "duration": 0.041845,
     "end_time": "2023-04-10T15:17:34.880418",
     "exception": false,
     "start_time": "2023-04-10T15:17:34.838573",
     "status": "completed"
    },
    "tags": []
   },
   "outputs": [
    {
     "data": {
      "text/html": [
       "<div>\n",
       "<style scoped>\n",
       "    .dataframe tbody tr th:only-of-type {\n",
       "        vertical-align: middle;\n",
       "    }\n",
       "\n",
       "    .dataframe tbody tr th {\n",
       "        vertical-align: top;\n",
       "    }\n",
       "\n",
       "    .dataframe thead th {\n",
       "        text-align: right;\n",
       "    }\n",
       "</style>\n",
       "<table border=\"1\" class=\"dataframe\">\n",
       "  <thead>\n",
       "    <tr style=\"text-align: right;\">\n",
       "      <th></th>\n",
       "      <th>col</th>\n",
       "      <th>imp</th>\n",
       "      <th>imp_std</th>\n",
       "    </tr>\n",
       "  </thead>\n",
       "  <tbody>\n",
       "    <tr>\n",
       "      <th>0</th>\n",
       "      <td>AMT_ANNUITY</td>\n",
       "      <td>6992.551795</td>\n",
       "      <td>NaN</td>\n",
       "    </tr>\n",
       "    <tr>\n",
       "      <th>1</th>\n",
       "      <td>AMT_CREDIT</td>\n",
       "      <td>8111.321247</td>\n",
       "      <td>NaN</td>\n",
       "    </tr>\n",
       "    <tr>\n",
       "      <th>2</th>\n",
       "      <td>AMT_GOODS_PRICE</td>\n",
       "      <td>7120.960365</td>\n",
       "      <td>NaN</td>\n",
       "    </tr>\n",
       "    <tr>\n",
       "      <th>3</th>\n",
       "      <td>AMT_INCOME_TOTAL</td>\n",
       "      <td>1595.740609</td>\n",
       "      <td>NaN</td>\n",
       "    </tr>\n",
       "    <tr>\n",
       "      <th>4</th>\n",
       "      <td>AMT_REQ_CREDIT_BUREAU_DAY</td>\n",
       "      <td>128.842901</td>\n",
       "      <td>NaN</td>\n",
       "    </tr>\n",
       "  </tbody>\n",
       "</table>\n",
       "</div>"
      ],
      "text/plain": [
       "                         col          imp  imp_std\n",
       "0                AMT_ANNUITY  6992.551795      NaN\n",
       "1                 AMT_CREDIT  8111.321247      NaN\n",
       "2            AMT_GOODS_PRICE  7120.960365      NaN\n",
       "3           AMT_INCOME_TOTAL  1595.740609      NaN\n",
       "4  AMT_REQ_CREDIT_BUREAU_DAY   128.842901      NaN"
      ]
     },
     "execution_count": 14,
     "metadata": {},
     "output_type": "execute_result"
    }
   ],
   "source": [
    "#説明変数の重要度取得\n",
    "imp = imp.groupby(\"col\")[\"imp\"].agg([\"mean\", \"std\"]).reset_index(drop=False)\n",
    "imp.columns = [\"col\", \"imp\", \"imp_std\"]\n",
    "imp.head()"
   ]
  },
  {
   "cell_type": "code",
   "execution_count": 15,
   "id": "ca76c9a9",
   "metadata": {
    "execution": {
     "iopub.execute_input": "2023-04-10T15:17:34.912429Z",
     "iopub.status.busy": "2023-04-10T15:17:34.911946Z",
     "iopub.status.idle": "2023-04-10T15:17:34.933931Z",
     "shell.execute_reply": "2023-04-10T15:17:34.932611Z"
    },
    "papermill": {
     "duration": 0.041366,
     "end_time": "2023-04-10T15:17:34.936976",
     "exception": false,
     "start_time": "2023-04-10T15:17:34.895610",
     "status": "completed"
    },
    "tags": []
   },
   "outputs": [],
   "source": [
    "#モデル学習\n",
    "params = {\n",
    "    'boosting_type': 'gbdt',\n",
    "    'objective': 'binary', \n",
    "    'metric': 'auc',\n",
    "    'learning_rate': 0.05,\n",
    "    'num_leaves': 32,\n",
    "    'n_estimators': 100000,\n",
    "    \"random_state\": 123,\n",
    "    \"importance_type\": \"gain\",\n",
    "}\n",
    "\n",
    "#学習関数の定義\n",
    "def train_lgb(input_x,\n",
    "              input_y,\n",
    "              input_id,\n",
    "              params,\n",
    "              list_nfold=[0,1,2,3,4],\n",
    "              n_splits=5,\n",
    "             ):\n",
    "    train_oof = np.zeros(len(input_x))\n",
    "    metrics = []\n",
    "    imp = pd.DataFrame()\n",
    "\n",
    "    # cross-validation\n",
    "    cv = list(StratifiedKFold(n_splits=n_splits, shuffle=True, random_state=123).split(input_x, input_y))\n",
    "    for nfold in list_nfold:\n",
    "        print(\"-\"*20, nfold, \"-\"*20)\n",
    "        \n",
    "        # make dataset\n",
    "        idx_tr, idx_va = cv[nfold][0], cv[nfold][1]\n",
    "        x_tr, y_tr, id_tr = input_x.loc[idx_tr, :], input_y[idx_tr], input_id.loc[idx_tr, :]\n",
    "        x_va, y_va, id_va = input_x.loc[idx_va, :], input_y[idx_va], input_id.loc[idx_va, :]\n",
    "        print(x_tr.shape, x_va.shape)\n",
    "        \n",
    "        # train\n",
    "        model = lgb.LGBMClassifier(**params)\n",
    "        model.fit(x_tr,\n",
    "                  y_tr,\n",
    "                  eval_set=[(x_tr, y_tr), (x_va, y_va)],\n",
    "                  early_stopping_rounds=100,\n",
    "                  verbose=100\n",
    "                 )\n",
    "        fname_lgb = \"model_lgb_fold{}.pickle\".format(nfold)\n",
    "        with open(fname_lgb, \"wb\") as f:\n",
    "            pickle.dump(model, f, protocol=4)\n",
    "        \n",
    "        # evaluate\n",
    "        y_tr_pred = model.predict_proba(x_tr)[:,1]\n",
    "        y_va_pred = model.predict_proba(x_va)[:,1]\n",
    "        metric_tr = roc_auc_score(y_tr, y_tr_pred)\n",
    "        metric_va = roc_auc_score(y_va, y_va_pred)\n",
    "        metrics.append([nfold, metric_tr, metric_va])\n",
    "        print(\"[auc] tr:{:.4f}, va:{:.4f}\".format(metric_tr, metric_va))\n",
    "        \n",
    "        # oof\n",
    "        train_oof[idx_va] = y_va_pred\n",
    "        \n",
    "        # imp\n",
    "        _imp = pd.DataFrame({\"col\":input_x.columns, \"imp\":model.feature_importances_, \"nfold\":nfold})\n",
    "        imp = pd.concat([imp, _imp])\n",
    "      \n",
    "    print(\"-\"*20, \"result\", \"-\"*20)\n",
    "    # metric\n",
    "    metrics = np.array(metrics)\n",
    "    print(metrics)\n",
    "    print(\"[cv] tr:{:.4f}+-{:.4f}, va:{:.4f}+-{:.4f}\".format(\n",
    "        metrics[:,1].mean(), metrics[:,1].std(),\n",
    "        metrics[:,2].mean(), metrics[:,2].std(),\n",
    "    ))\n",
    "    print(\"[oof] {:.4f}\".format(\n",
    "        roc_auc_score(input_y, train_oof)\n",
    "    ))\n",
    "    \n",
    "    # oof\n",
    "    train_oof = pd.concat([\n",
    "        input_id,\n",
    "        pd.DataFrame({\"pred\":train_oof})\n",
    "    ], axis=1)\n",
    "    \n",
    "    # importance\n",
    "    imp = imp.groupby(\"col\")[\"imp\"].agg([\"mean\", \"std\"]).reset_index(drop=False)\n",
    "    imp.columns = [\"col\", \"imp\", \"imp_std\"]\n",
    "    \n",
    "    return train_oof, imp, metrics"
   ]
  },
  {
   "cell_type": "code",
   "execution_count": 16,
   "id": "dbc84d46",
   "metadata": {
    "execution": {
     "iopub.execute_input": "2023-04-10T15:17:34.969494Z",
     "iopub.status.busy": "2023-04-10T15:17:34.968128Z",
     "iopub.status.idle": "2023-04-10T15:20:43.942262Z",
     "shell.execute_reply": "2023-04-10T15:20:43.940860Z"
    },
    "papermill": {
     "duration": 188.99297,
     "end_time": "2023-04-10T15:20:43.945132",
     "exception": false,
     "start_time": "2023-04-10T15:17:34.952162",
     "status": "completed"
    },
    "tags": []
   },
   "outputs": [
    {
     "name": "stdout",
     "output_type": "stream",
     "text": [
      "-------------------- 0 --------------------\n",
      "(246008, 120) (61503, 120)\n",
      "[100]\ttraining's auc: 0.782506\tvalid_1's auc: 0.755903\n",
      "[200]\ttraining's auc: 0.808961\tvalid_1's auc: 0.758356\n",
      "[300]\ttraining's auc: 0.829245\tvalid_1's auc: 0.757774\n",
      "[auc] tr:0.8126, va:0.7586\n",
      "-------------------- 1 --------------------\n",
      "(246009, 120) (61502, 120)\n",
      "[100]\ttraining's auc: 0.782531\tvalid_1's auc: 0.756239\n",
      "[200]\ttraining's auc: 0.808862\tvalid_1's auc: 0.758924\n",
      "[300]\ttraining's auc: 0.829564\tvalid_1's auc: 0.758779\n",
      "[auc] tr:0.8170, va:0.7590\n",
      "-------------------- 2 --------------------\n",
      "(246009, 120) (61502, 120)\n",
      "[100]\ttraining's auc: 0.782101\tvalid_1's auc: 0.758221\n",
      "[200]\ttraining's auc: 0.809587\tvalid_1's auc: 0.760104\n",
      "[300]\ttraining's auc: 0.830474\tvalid_1's auc: 0.760275\n",
      "[400]\ttraining's auc: 0.847388\tvalid_1's auc: 0.759875\n",
      "[auc] tr:0.8362, va:0.7604\n",
      "-------------------- 3 --------------------\n",
      "(246009, 120) (61502, 120)\n",
      "[100]\ttraining's auc: 0.783853\tvalid_1's auc: 0.754567\n",
      "[200]\ttraining's auc: 0.811501\tvalid_1's auc: 0.75659\n",
      "[300]\ttraining's auc: 0.83224\tvalid_1's auc: 0.756854\n",
      "[auc] tr:0.8244, va:0.7571\n",
      "-------------------- 4 --------------------\n",
      "(246009, 120) (61502, 120)\n",
      "[100]\ttraining's auc: 0.783715\tvalid_1's auc: 0.748435\n",
      "[200]\ttraining's auc: 0.81071\tvalid_1's auc: 0.751348\n",
      "[300]\ttraining's auc: 0.830488\tvalid_1's auc: 0.751241\n",
      "[auc] tr:0.8113, va:0.7514\n",
      "-------------------- result --------------------\n",
      "[[0.         0.81257796 0.75859528]\n",
      " [1.         0.8169515  0.7590332 ]\n",
      " [2.         0.83620918 0.7603778 ]\n",
      " [3.         0.82436296 0.7571206 ]\n",
      " [4.         0.81133335 0.75141465]]\n",
      "[cv] tr:0.8203+-0.0092, va:0.7573+-0.0031\n",
      "[oof] 0.7573\n"
     ]
    }
   ],
   "source": [
    "# ハイパーパラメータの設定\n",
    "params = {\n",
    "    'boosting_type': 'gbdt',\n",
    "    'objective': 'binary', \n",
    "    'metric': 'auc',\n",
    "    'learning_rate': 0.05,\n",
    "    'num_leaves': 32,\n",
    "    'n_estimators': 100000,\n",
    "    \"random_state\": 123,\n",
    "    \"importance_type\": \"gain\",\n",
    "}\n",
    "\n",
    "# 学習の実行\n",
    "train_oof, imp, metrics = train_lgb(x_train,\n",
    "                                    y_train,\n",
    "                                    id_train,\n",
    "                                    params,\n",
    "                                    list_nfold=[0,1,2,3,4],\n",
    "                                    n_splits=5,\n",
    "                                   )"
   ]
  },
  {
   "cell_type": "code",
   "execution_count": 17,
   "id": "80472e5f",
   "metadata": {
    "execution": {
     "iopub.execute_input": "2023-04-10T15:20:43.978736Z",
     "iopub.status.busy": "2023-04-10T15:20:43.977503Z",
     "iopub.status.idle": "2023-04-10T15:20:43.992823Z",
     "shell.execute_reply": "2023-04-10T15:20:43.991367Z"
    },
    "papermill": {
     "duration": 0.035255,
     "end_time": "2023-04-10T15:20:43.995639",
     "exception": false,
     "start_time": "2023-04-10T15:20:43.960384",
     "status": "completed"
    },
    "tags": []
   },
   "outputs": [
    {
     "data": {
      "text/html": [
       "<div>\n",
       "<style scoped>\n",
       "    .dataframe tbody tr th:only-of-type {\n",
       "        vertical-align: middle;\n",
       "    }\n",
       "\n",
       "    .dataframe tbody tr th {\n",
       "        vertical-align: top;\n",
       "    }\n",
       "\n",
       "    .dataframe thead th {\n",
       "        text-align: right;\n",
       "    }\n",
       "</style>\n",
       "<table border=\"1\" class=\"dataframe\">\n",
       "  <thead>\n",
       "    <tr style=\"text-align: right;\">\n",
       "      <th></th>\n",
       "      <th>col</th>\n",
       "      <th>imp</th>\n",
       "      <th>imp_std</th>\n",
       "    </tr>\n",
       "  </thead>\n",
       "  <tbody>\n",
       "    <tr>\n",
       "      <th>38</th>\n",
       "      <td>EXT_SOURCE_3</td>\n",
       "      <td>65353.907478</td>\n",
       "      <td>1558.201212</td>\n",
       "    </tr>\n",
       "    <tr>\n",
       "      <th>37</th>\n",
       "      <td>EXT_SOURCE_2</td>\n",
       "      <td>54545.388309</td>\n",
       "      <td>1251.798934</td>\n",
       "    </tr>\n",
       "    <tr>\n",
       "      <th>102</th>\n",
       "      <td>ORGANIZATION_TYPE</td>\n",
       "      <td>21441.917474</td>\n",
       "      <td>1450.246190</td>\n",
       "    </tr>\n",
       "    <tr>\n",
       "      <th>36</th>\n",
       "      <td>EXT_SOURCE_1</td>\n",
       "      <td>20051.934248</td>\n",
       "      <td>685.852224</td>\n",
       "    </tr>\n",
       "    <tr>\n",
       "      <th>1</th>\n",
       "      <td>AMT_CREDIT</td>\n",
       "      <td>8263.228728</td>\n",
       "      <td>410.384434</td>\n",
       "    </tr>\n",
       "    <tr>\n",
       "      <th>22</th>\n",
       "      <td>DAYS_BIRTH</td>\n",
       "      <td>7645.589110</td>\n",
       "      <td>689.458833</td>\n",
       "    </tr>\n",
       "    <tr>\n",
       "      <th>2</th>\n",
       "      <td>AMT_GOODS_PRICE</td>\n",
       "      <td>7263.054566</td>\n",
       "      <td>405.837031</td>\n",
       "    </tr>\n",
       "    <tr>\n",
       "      <th>0</th>\n",
       "      <td>AMT_ANNUITY</td>\n",
       "      <td>6762.953640</td>\n",
       "      <td>479.302045</td>\n",
       "    </tr>\n",
       "    <tr>\n",
       "      <th>23</th>\n",
       "      <td>DAYS_EMPLOYED</td>\n",
       "      <td>5810.288375</td>\n",
       "      <td>552.937730</td>\n",
       "    </tr>\n",
       "    <tr>\n",
       "      <th>101</th>\n",
       "      <td>OCCUPATION_TYPE</td>\n",
       "      <td>5502.675859</td>\n",
       "      <td>831.872392</td>\n",
       "    </tr>\n",
       "  </tbody>\n",
       "</table>\n",
       "</div>"
      ],
      "text/plain": [
       "                   col           imp      imp_std\n",
       "38        EXT_SOURCE_3  65353.907478  1558.201212\n",
       "37        EXT_SOURCE_2  54545.388309  1251.798934\n",
       "102  ORGANIZATION_TYPE  21441.917474  1450.246190\n",
       "36        EXT_SOURCE_1  20051.934248   685.852224\n",
       "1           AMT_CREDIT   8263.228728   410.384434\n",
       "22          DAYS_BIRTH   7645.589110   689.458833\n",
       "2      AMT_GOODS_PRICE   7263.054566   405.837031\n",
       "0          AMT_ANNUITY   6762.953640   479.302045\n",
       "23       DAYS_EMPLOYED   5810.288375   552.937730\n",
       "101    OCCUPATION_TYPE   5502.675859   831.872392"
      ]
     },
     "execution_count": 17,
     "metadata": {},
     "output_type": "execute_result"
    }
   ],
   "source": [
    "#説明変数の重要度の確認\n",
    "imp.sort_values(\"imp\", ascending=False)[:10]"
   ]
  },
  {
   "cell_type": "markdown",
   "id": "9a3fac5b",
   "metadata": {
    "papermill": {
     "duration": 0.015802,
     "end_time": "2023-04-10T15:20:44.027490",
     "exception": false,
     "start_time": "2023-04-10T15:20:44.011688",
     "status": "completed"
    },
    "tags": []
   },
   "source": [
    "## モデル推論"
   ]
  },
  {
   "cell_type": "code",
   "execution_count": 18,
   "id": "5f53800b",
   "metadata": {
    "execution": {
     "iopub.execute_input": "2023-04-10T15:20:44.064940Z",
     "iopub.status.busy": "2023-04-10T15:20:44.063493Z",
     "iopub.status.idle": "2023-04-10T15:20:45.921064Z",
     "shell.execute_reply": "2023-04-10T15:20:45.919551Z"
    },
    "papermill": {
     "duration": 1.879908,
     "end_time": "2023-04-10T15:20:45.923880",
     "exception": false,
     "start_time": "2023-04-10T15:20:44.043972",
     "status": "completed"
    },
    "tags": []
   },
   "outputs": [
    {
     "name": "stdout",
     "output_type": "stream",
     "text": [
      "Memory usage of dataframe is 45.00 MB\n",
      "Memory usage after optimization is: 14.60 MB\n",
      "Decreased by 67.6%\n"
     ]
    }
   ],
   "source": [
    "'''推論用データセットの作成'''\n",
    "# ファイルの読み込み\n",
    "application_test = pd.read_csv(\"../input/home-credit-default-risk/application_test.csv\")\n",
    "application_test = reduce_mem_usage(application_test)\n",
    "\n",
    "# データセットの作成\n",
    "x_test = application_test.drop(columns=[\"SK_ID_CURR\" ])\n",
    "id_test = application_test[[\"SK_ID_CURR\"]]\n",
    "\n",
    "# カテゴリ変数をcategory型に変換\n",
    "for col in x_test.columns:\n",
    "    if x_test[col].dtype==\"O\":\n",
    "        x_test[col] = x_test[col].astype(\"category\")"
   ]
  },
  {
   "cell_type": "code",
   "execution_count": 19,
   "id": "c04543cf",
   "metadata": {
    "execution": {
     "iopub.execute_input": "2023-04-10T15:20:45.958720Z",
     "iopub.status.busy": "2023-04-10T15:20:45.957446Z",
     "iopub.status.idle": "2023-04-10T15:20:45.979127Z",
     "shell.execute_reply": "2023-04-10T15:20:45.977304Z"
    },
    "papermill": {
     "duration": 0.043656,
     "end_time": "2023-04-10T15:20:45.983533",
     "exception": false,
     "start_time": "2023-04-10T15:20:45.939877",
     "status": "completed"
    },
    "tags": []
   },
   "outputs": [],
   "source": [
    "#学習済みモデル読み込み\n",
    "with open(\"model_lgb_fold0.pickle\", \"rb\") as f:\n",
    "    model = pickle.load(f)"
   ]
  },
  {
   "cell_type": "code",
   "execution_count": 20,
   "id": "5e3cda86",
   "metadata": {
    "execution": {
     "iopub.execute_input": "2023-04-10T15:20:46.018954Z",
     "iopub.status.busy": "2023-04-10T15:20:46.018383Z",
     "iopub.status.idle": "2023-04-10T15:20:46.525181Z",
     "shell.execute_reply": "2023-04-10T15:20:46.523562Z"
    },
    "papermill": {
     "duration": 0.528072,
     "end_time": "2023-04-10T15:20:46.528696",
     "exception": false,
     "start_time": "2023-04-10T15:20:46.000624",
     "status": "completed"
    },
    "tags": []
   },
   "outputs": [],
   "source": [
    "'''モデルを用いた推論'''\n",
    "# 推論\n",
    "test_pred_fold = model.predict_proba(x_test)[:,1]\n",
    "\n",
    "# 推論値を格納する変数を作成\n",
    "test_pred = np.zeros((len(x_test), 5))\n",
    "\n",
    "# 1fold目の予測値を格納\n",
    "test_pred[:, 0] = test_pred_fold"
   ]
  },
  {
   "cell_type": "code",
   "execution_count": 21,
   "id": "7eaedc45",
   "metadata": {
    "execution": {
     "iopub.execute_input": "2023-04-10T15:20:46.565415Z",
     "iopub.status.busy": "2023-04-10T15:20:46.564902Z",
     "iopub.status.idle": "2023-04-10T15:20:46.581324Z",
     "shell.execute_reply": "2023-04-10T15:20:46.579900Z"
    },
    "papermill": {
     "duration": 0.038372,
     "end_time": "2023-04-10T15:20:46.584081",
     "exception": false,
     "start_time": "2023-04-10T15:20:46.545709",
     "status": "completed"
    },
    "tags": []
   },
   "outputs": [
    {
     "data": {
      "text/html": [
       "<div>\n",
       "<style scoped>\n",
       "    .dataframe tbody tr th:only-of-type {\n",
       "        vertical-align: middle;\n",
       "    }\n",
       "\n",
       "    .dataframe tbody tr th {\n",
       "        vertical-align: top;\n",
       "    }\n",
       "\n",
       "    .dataframe thead th {\n",
       "        text-align: right;\n",
       "    }\n",
       "</style>\n",
       "<table border=\"1\" class=\"dataframe\">\n",
       "  <thead>\n",
       "    <tr style=\"text-align: right;\">\n",
       "      <th></th>\n",
       "      <th>SK_ID_CURR</th>\n",
       "      <th>pred</th>\n",
       "    </tr>\n",
       "  </thead>\n",
       "  <tbody>\n",
       "    <tr>\n",
       "      <th>0</th>\n",
       "      <td>100001</td>\n",
       "      <td>0.006572</td>\n",
       "    </tr>\n",
       "    <tr>\n",
       "      <th>1</th>\n",
       "      <td>100005</td>\n",
       "      <td>0.023874</td>\n",
       "    </tr>\n",
       "    <tr>\n",
       "      <th>2</th>\n",
       "      <td>100013</td>\n",
       "      <td>0.004233</td>\n",
       "    </tr>\n",
       "    <tr>\n",
       "      <th>3</th>\n",
       "      <td>100028</td>\n",
       "      <td>0.008966</td>\n",
       "    </tr>\n",
       "    <tr>\n",
       "      <th>4</th>\n",
       "      <td>100038</td>\n",
       "      <td>0.030794</td>\n",
       "    </tr>\n",
       "  </tbody>\n",
       "</table>\n",
       "</div>"
      ],
      "text/plain": [
       "   SK_ID_CURR      pred\n",
       "0      100001  0.006572\n",
       "1      100005  0.023874\n",
       "2      100013  0.004233\n",
       "3      100028  0.008966\n",
       "4      100038  0.030794"
      ]
     },
     "execution_count": 21,
     "metadata": {},
     "output_type": "execute_result"
    }
   ],
   "source": [
    "'''推論用データセットの推論値算出'''\n",
    "# 各foldの推論値の平均値を算出\n",
    "test_pred_mean = test_pred.mean(axis=1)\n",
    "\n",
    "# 推論値のデータフレームを作成\n",
    "df_test_pred = pd.concat([\n",
    "        id_test,\n",
    "        pd.DataFrame({\"pred\": test_pred_mean}),\n",
    "    ], axis=1)\n",
    "df_test_pred.head()"
   ]
  },
  {
   "cell_type": "code",
   "execution_count": 22,
   "id": "47ed7037",
   "metadata": {
    "execution": {
     "iopub.execute_input": "2023-04-10T15:20:46.619060Z",
     "iopub.status.busy": "2023-04-10T15:20:46.618512Z",
     "iopub.status.idle": "2023-04-10T15:20:46.627699Z",
     "shell.execute_reply": "2023-04-10T15:20:46.626270Z"
    },
    "papermill": {
     "duration": 0.030144,
     "end_time": "2023-04-10T15:20:46.630344",
     "exception": false,
     "start_time": "2023-04-10T15:20:46.600200",
     "status": "completed"
    },
    "tags": []
   },
   "outputs": [],
   "source": [
    "#推論関数の定義\n",
    "def predict_lgb(input_x,\n",
    "                input_id,\n",
    "                list_nfold=[0,1,2,3,4],\n",
    "               ):\n",
    "    pred = np.zeros((len(input_x), len(list_nfold)))\n",
    "    for nfold in list_nfold:\n",
    "        print(\"-\"*20, nfold, \"-\"*20)\n",
    "        fname_lgb = \"model_lgb_fold{}.pickle\".format(nfold)\n",
    "        with open(fname_lgb, \"rb\") as f:\n",
    "            model = pickle.load(f)\n",
    "        pred[:, nfold] = model.predict_proba(input_x)[:,1]\n",
    "    \n",
    "    pred = pd.concat([\n",
    "        input_id,\n",
    "        pd.DataFrame({\"pred\": pred.mean(axis=1)}),\n",
    "    ], axis=1)\n",
    "    \n",
    "    print(\"Done.\")\n",
    "    \n",
    "    return pred"
   ]
  },
  {
   "cell_type": "code",
   "execution_count": 23,
   "id": "ed981484",
   "metadata": {
    "execution": {
     "iopub.execute_input": "2023-04-10T15:20:46.665616Z",
     "iopub.status.busy": "2023-04-10T15:20:46.665135Z",
     "iopub.status.idle": "2023-04-10T15:20:49.791229Z",
     "shell.execute_reply": "2023-04-10T15:20:49.789624Z"
    },
    "papermill": {
     "duration": 3.147757,
     "end_time": "2023-04-10T15:20:49.794312",
     "exception": false,
     "start_time": "2023-04-10T15:20:46.646555",
     "status": "completed"
    },
    "tags": []
   },
   "outputs": [
    {
     "name": "stdout",
     "output_type": "stream",
     "text": [
      "-------------------- 0 --------------------\n",
      "-------------------- 1 --------------------\n",
      "-------------------- 2 --------------------\n",
      "-------------------- 3 --------------------\n",
      "-------------------- 4 --------------------\n",
      "Done.\n"
     ]
    }
   ],
   "source": [
    "#推論処理の実行\n",
    "test_pred = predict_lgb(x_test,\n",
    "                        id_test,\n",
    "                        list_nfold=[0,1,2,3,4],\n",
    "                       )"
   ]
  },
  {
   "cell_type": "code",
   "execution_count": 24,
   "id": "176d0c07",
   "metadata": {
    "execution": {
     "iopub.execute_input": "2023-04-10T15:20:49.832174Z",
     "iopub.status.busy": "2023-04-10T15:20:49.831044Z",
     "iopub.status.idle": "2023-04-10T15:20:50.063387Z",
     "shell.execute_reply": "2023-04-10T15:20:50.062279Z"
    },
    "papermill": {
     "duration": 0.255618,
     "end_time": "2023-04-10T15:20:50.066696",
     "exception": false,
     "start_time": "2023-04-10T15:20:49.811078",
     "status": "completed"
    },
    "tags": []
   },
   "outputs": [
    {
     "name": "stdout",
     "output_type": "stream",
     "text": [
      "(48744, 2)\n"
     ]
    },
    {
     "data": {
      "text/html": [
       "<div>\n",
       "<style scoped>\n",
       "    .dataframe tbody tr th:only-of-type {\n",
       "        vertical-align: middle;\n",
       "    }\n",
       "\n",
       "    .dataframe tbody tr th {\n",
       "        vertical-align: top;\n",
       "    }\n",
       "\n",
       "    .dataframe thead th {\n",
       "        text-align: right;\n",
       "    }\n",
       "</style>\n",
       "<table border=\"1\" class=\"dataframe\">\n",
       "  <thead>\n",
       "    <tr style=\"text-align: right;\">\n",
       "      <th></th>\n",
       "      <th>SK_ID_CURR</th>\n",
       "      <th>TARGET</th>\n",
       "    </tr>\n",
       "  </thead>\n",
       "  <tbody>\n",
       "    <tr>\n",
       "      <th>0</th>\n",
       "      <td>100001</td>\n",
       "      <td>0.041810</td>\n",
       "    </tr>\n",
       "    <tr>\n",
       "      <th>1</th>\n",
       "      <td>100005</td>\n",
       "      <td>0.126400</td>\n",
       "    </tr>\n",
       "    <tr>\n",
       "      <th>2</th>\n",
       "      <td>100013</td>\n",
       "      <td>0.022495</td>\n",
       "    </tr>\n",
       "    <tr>\n",
       "      <th>3</th>\n",
       "      <td>100028</td>\n",
       "      <td>0.039680</td>\n",
       "    </tr>\n",
       "    <tr>\n",
       "      <th>4</th>\n",
       "      <td>100038</td>\n",
       "      <td>0.156628</td>\n",
       "    </tr>\n",
       "  </tbody>\n",
       "</table>\n",
       "</div>"
      ],
      "text/plain": [
       "   SK_ID_CURR    TARGET\n",
       "0      100001  0.041810\n",
       "1      100005  0.126400\n",
       "2      100013  0.022495\n",
       "3      100028  0.039680\n",
       "4      100038  0.156628"
      ]
     },
     "metadata": {},
     "output_type": "display_data"
    }
   ],
   "source": [
    "#提出ファイルの作成\n",
    "df_submit = test_pred.rename(columns={\"pred\":\"TARGET\"})\n",
    "print(df_submit.shape)\n",
    "display(df_submit.head())\n",
    "\n",
    "# ファイル出力\n",
    "df_submit.to_csv(\"submission_baseline.csv\", index=None)"
   ]
  },
  {
   "cell_type": "markdown",
   "id": "82f5ca41",
   "metadata": {
    "papermill": {
     "duration": 0.016397,
     "end_time": "2023-04-10T15:20:50.100502",
     "exception": false,
     "start_time": "2023-04-10T15:20:50.084105",
     "status": "completed"
    },
    "tags": []
   },
   "source": [
    "# 特徴量エンジニアリング"
   ]
  },
  {
   "cell_type": "markdown",
   "id": "cda864eb",
   "metadata": {
    "papermill": {
     "duration": 0.016307,
     "end_time": "2023-04-10T15:20:50.134046",
     "exception": false,
     "start_time": "2023-04-10T15:20:50.117739",
     "status": "completed"
    },
    "tags": []
   },
   "source": [
    "## 特徴量エンジニアリング:application_train.csv"
   ]
  },
  {
   "cell_type": "code",
   "execution_count": 25,
   "id": "77d98319",
   "metadata": {
    "execution": {
     "iopub.execute_input": "2023-04-10T15:20:50.171347Z",
     "iopub.status.busy": "2023-04-10T15:20:50.170483Z",
     "iopub.status.idle": "2023-04-10T15:20:50.191741Z",
     "shell.execute_reply": "2023-04-10T15:20:50.190137Z"
    },
    "papermill": {
     "duration": 0.044251,
     "end_time": "2023-04-10T15:20:50.195099",
     "exception": false,
     "start_time": "2023-04-10T15:20:50.150848",
     "status": "completed"
    },
    "tags": []
   },
   "outputs": [
    {
     "data": {
      "text/plain": [
       " 365243    55374\n",
       "-200         156\n",
       "-224         152\n",
       "-230         151\n",
       "-199         151\n",
       "           ...  \n",
       "-13961         1\n",
       "-11827         1\n",
       "-10176         1\n",
       "-9459          1\n",
       "-8694          1\n",
       "Name: DAYS_EMPLOYED, Length: 12574, dtype: int64"
      ]
     },
     "metadata": {},
     "output_type": "display_data"
    },
    {
     "name": "stdout",
     "output_type": "stream",
     "text": [
      "正の値の割合: 0.1801\n",
      "正の値の個数: 55374\n"
     ]
    }
   ],
   "source": [
    "#データの確認\n",
    "display(application_train[\"DAYS_EMPLOYED\"].value_counts())\n",
    "print(\"正の値の割合: {:.4f}\".format((application_train[\"DAYS_EMPLOYED\"]>0).mean()))\n",
    "print(\"正の値の個数: {}\".format((application_train[\"DAYS_EMPLOYED\"]>0).sum()))\n",
    "# -> 正の値が18%。しかもすべて8割が365243と同一値。働き始めてからの日数をマイナス表記しているためこれは欠損と判断。"
   ]
  },
  {
   "cell_type": "code",
   "execution_count": 26,
   "id": "7440aa40",
   "metadata": {
    "execution": {
     "iopub.execute_input": "2023-04-10T15:20:50.234473Z",
     "iopub.status.busy": "2023-04-10T15:20:50.233989Z",
     "iopub.status.idle": "2023-04-10T15:20:50.247261Z",
     "shell.execute_reply": "2023-04-10T15:20:50.244994Z"
    },
    "papermill": {
     "duration": 0.038322,
     "end_time": "2023-04-10T15:20:50.250924",
     "exception": false,
     "start_time": "2023-04-10T15:20:50.212602",
     "status": "completed"
    },
    "tags": []
   },
   "outputs": [],
   "source": [
    "#欠損値をnullに変換\n",
    "application_train[\"DAYS_EMPLOYED\"] = application_train[\"DAYS_EMPLOYED\"].replace(365243, np.nan)"
   ]
  },
  {
   "cell_type": "code",
   "execution_count": 27,
   "id": "f23b1292",
   "metadata": {
    "execution": {
     "iopub.execute_input": "2023-04-10T15:20:50.286679Z",
     "iopub.status.busy": "2023-04-10T15:20:50.286216Z",
     "iopub.status.idle": "2023-04-10T15:20:50.589193Z",
     "shell.execute_reply": "2023-04-10T15:20:50.587948Z"
    },
    "papermill": {
     "duration": 0.324795,
     "end_time": "2023-04-10T15:20:50.592487",
     "exception": false,
     "start_time": "2023-04-10T15:20:50.267692",
     "status": "completed"
    },
    "tags": []
   },
   "outputs": [],
   "source": [
    "'''仮説に基づく特徴量生成'''\n",
    "# 特徴量1: 総所得金額を世帯人数で割った値\n",
    "# [仮説1]　所得金額が同じでも家族人数が多いほうが経済的な負担が大きいため貸し倒れリスクが高そう\n",
    "application_train['INCOME_div_PERSON'] = application_train['AMT_INCOME_TOTAL'] / application_train['CNT_FAM_MEMBERS']\n",
    "\n",
    "# 特徴量2: 総所得金額を就労期間で割った値\n",
    "# [仮説2]　所得金額が同じでも就労期間が短い方が優秀そうで貸し倒れリスクが低そう\n",
    "application_train['INCOME_div_EMPLOYED'] = application_train['AMT_INCOME_TOTAL'] / application_train['DAYS_EMPLOYED']\n",
    "\n",
    "# 特徴量3: 外部スコアの平均値など\n",
    "# [仮説3]　外部機関によるスコアが平均的に高い方が貸し倒れリスクが低そう\n",
    "application_train[\"EXT_SOURCE_mean\"] = application_train[[\"EXT_SOURCE_1\", \"EXT_SOURCE_2\", \"EXT_SOURCE_3\"]].mean(axis=1)\n",
    "application_train[\"EXT_SOURCE_max\"] = application_train[[\"EXT_SOURCE_1\", \"EXT_SOURCE_2\", \"EXT_SOURCE_3\"]].max(axis=1)\n",
    "application_train[\"EXT_SOURCE_min\"] = application_train[[\"EXT_SOURCE_1\", \"EXT_SOURCE_2\", \"EXT_SOURCE_3\"]].min(axis=1)\n",
    "application_train[\"EXT_SOURCE_std\"] = application_train[[\"EXT_SOURCE_1\", \"EXT_SOURCE_2\", \"EXT_SOURCE_3\"]].std(axis=1)\n",
    "application_train[\"EXT_SOURCE_count\"] = application_train[[\"EXT_SOURCE_1\", \"EXT_SOURCE_2\", \"EXT_SOURCE_3\"]].notnull().sum(axis=1)\n",
    "\n",
    "# 特徴量4: 就労期間を年齢で割った値 (年齢に占める就労期間の割合)\n",
    "# [仮説4]　念連に占める就労期間が長いほうが貸し倒れリスクが低そう（離職リスクが少ないと考えるため）\n",
    "application_train['DAYS_EMPLOYED_div_BIRTH'] = application_train['DAYS_EMPLOYED'] / application_train['DAYS_BIRTH']\n",
    "\n",
    "# 特徴量5: 年金支払額を所得金額で割った値\n",
    "# [仮説5]　所得金額に占める年金支払額が少ないほうが貸し倒れリスクが低そう\n",
    "application_train['ANNUITY_div_INCOME'] = application_train['AMT_ANNUITY'] / application_train['AMT_INCOME_TOTAL']\n",
    "\n",
    "# 特徴量6: 年金支払額を借入金で割った値\n",
    "# [仮説6]　借入金に占める年金支払額が少ないほうが貸し倒れリスクが低そう\n",
    "application_train['ANNUITY_div_CREDIT'] = application_train['AMT_ANNUITY'] / application_train['AMT_CREDIT']"
   ]
  },
  {
   "cell_type": "code",
   "execution_count": 28,
   "id": "d83d3316",
   "metadata": {
    "execution": {
     "iopub.execute_input": "2023-04-10T15:20:50.629348Z",
     "iopub.status.busy": "2023-04-10T15:20:50.628887Z",
     "iopub.status.idle": "2023-04-10T15:20:51.535042Z",
     "shell.execute_reply": "2023-04-10T15:20:51.533565Z"
    },
    "papermill": {
     "duration": 0.928825,
     "end_time": "2023-04-10T15:20:51.538459",
     "exception": false,
     "start_time": "2023-04-10T15:20:50.609634",
     "status": "completed"
    },
    "tags": []
   },
   "outputs": [],
   "source": [
    "#データセットの作成\n",
    "x_train = application_train.drop(columns=[\"TARGET\", \"SK_ID_CURR\"])\n",
    "y_train = application_train[\"TARGET\"]\n",
    "id_train = application_train[[\"SK_ID_CURR\"]]\n",
    "\n",
    "for col in x_train.columns:\n",
    "    if x_train[col].dtype==\"O\":\n",
    "        x_train[col] = x_train[col].astype(\"category\")"
   ]
  },
  {
   "cell_type": "code",
   "execution_count": 29,
   "id": "0aee54ca",
   "metadata": {
    "execution": {
     "iopub.execute_input": "2023-04-10T15:20:51.574941Z",
     "iopub.status.busy": "2023-04-10T15:20:51.574437Z",
     "iopub.status.idle": "2023-04-10T15:25:28.136440Z",
     "shell.execute_reply": "2023-04-10T15:25:28.135037Z"
    },
    "papermill": {
     "duration": 276.601466,
     "end_time": "2023-04-10T15:25:28.157153",
     "exception": false,
     "start_time": "2023-04-10T15:20:51.555687",
     "status": "completed"
    },
    "tags": []
   },
   "outputs": [
    {
     "name": "stdout",
     "output_type": "stream",
     "text": [
      "-------------------- 0 --------------------\n",
      "(246008, 130) (61503, 130)\n",
      "[100]\ttraining's auc: 0.787817\tvalid_1's auc: 0.760032\n",
      "[200]\ttraining's auc: 0.816788\tvalid_1's auc: 0.763696\n",
      "[300]\ttraining's auc: 0.838351\tvalid_1's auc: 0.764008\n",
      "[400]\ttraining's auc: 0.856611\tvalid_1's auc: 0.764045\n",
      "[500]\ttraining's auc: 0.871304\tvalid_1's auc: 0.764075\n",
      "[auc] tr:0.8585, va:0.7641\n",
      "-------------------- 1 --------------------\n",
      "(246009, 130) (61502, 130)\n",
      "[100]\ttraining's auc: 0.788378\tvalid_1's auc: 0.763077\n",
      "[200]\ttraining's auc: 0.816816\tvalid_1's auc: 0.766784\n",
      "[300]\ttraining's auc: 0.838169\tvalid_1's auc: 0.767287\n",
      "[400]\ttraining's auc: 0.856163\tvalid_1's auc: 0.767434\n",
      "[auc] tr:0.8471, va:0.7675\n",
      "-------------------- 2 --------------------\n",
      "(246009, 130) (61502, 130)\n",
      "[100]\ttraining's auc: 0.787655\tvalid_1's auc: 0.764182\n",
      "[200]\ttraining's auc: 0.817121\tvalid_1's auc: 0.767566\n",
      "[300]\ttraining's auc: 0.837872\tvalid_1's auc: 0.767677\n",
      "[400]\ttraining's auc: 0.855451\tvalid_1's auc: 0.76783\n",
      "[auc] tr:0.8519, va:0.7679\n",
      "-------------------- 3 --------------------\n",
      "(246009, 130) (61502, 130)\n",
      "[100]\ttraining's auc: 0.787953\tvalid_1's auc: 0.760392\n",
      "[200]\ttraining's auc: 0.817633\tvalid_1's auc: 0.764592\n",
      "[300]\ttraining's auc: 0.839297\tvalid_1's auc: 0.765105\n",
      "[400]\ttraining's auc: 0.857683\tvalid_1's auc: 0.765196\n",
      "[500]\ttraining's auc: 0.87268\tvalid_1's auc: 0.765068\n",
      "[auc] tr:0.8691, va:0.7653\n",
      "-------------------- 4 --------------------\n",
      "(246009, 130) (61502, 130)\n",
      "[100]\ttraining's auc: 0.789624\tvalid_1's auc: 0.755497\n",
      "[200]\ttraining's auc: 0.818583\tvalid_1's auc: 0.759797\n",
      "[300]\ttraining's auc: 0.839186\tvalid_1's auc: 0.76041\n",
      "[400]\ttraining's auc: 0.856939\tvalid_1's auc: 0.760596\n",
      "[500]\ttraining's auc: 0.87149\tvalid_1's auc: 0.760603\n",
      "[auc] tr:0.8619, va:0.7608\n",
      "-------------------- result --------------------\n",
      "[[0.         0.85845312 0.76414814]\n",
      " [1.         0.8471186  0.76754005]\n",
      " [2.         0.85191008 0.76791531]\n",
      " [3.         0.86911764 0.76531788]\n",
      " [4.         0.86192285 0.76084707]]\n",
      "[cv] tr:0.8577+-0.0077, va:0.7652+-0.0026\n",
      "[oof] 0.7651\n"
     ]
    }
   ],
   "source": [
    "#モデルの学習\n",
    "train_oof, imp, metrics = train_lgb(x_train,\n",
    "                                    y_train,\n",
    "                                    id_train,\n",
    "                                    params,\n",
    "                                    list_nfold=[0,1,2,3,4],\n",
    "                                    n_splits=5,\n",
    "                                   )"
   ]
  },
  {
   "cell_type": "code",
   "execution_count": 30,
   "id": "a3d4eef0",
   "metadata": {
    "execution": {
     "iopub.execute_input": "2023-04-10T15:25:28.198015Z",
     "iopub.status.busy": "2023-04-10T15:25:28.197502Z",
     "iopub.status.idle": "2023-04-10T15:25:28.213130Z",
     "shell.execute_reply": "2023-04-10T15:25:28.211596Z"
    },
    "papermill": {
     "duration": 0.039573,
     "end_time": "2023-04-10T15:25:28.216215",
     "exception": false,
     "start_time": "2023-04-10T15:25:28.176642",
     "status": "completed"
    },
    "tags": []
   },
   "outputs": [
    {
     "data": {
      "text/html": [
       "<div>\n",
       "<style scoped>\n",
       "    .dataframe tbody tr th:only-of-type {\n",
       "        vertical-align: middle;\n",
       "    }\n",
       "\n",
       "    .dataframe tbody tr th {\n",
       "        vertical-align: top;\n",
       "    }\n",
       "\n",
       "    .dataframe thead th {\n",
       "        text-align: right;\n",
       "    }\n",
       "</style>\n",
       "<table border=\"1\" class=\"dataframe\">\n",
       "  <thead>\n",
       "    <tr style=\"text-align: right;\">\n",
       "      <th></th>\n",
       "      <th>col</th>\n",
       "      <th>imp</th>\n",
       "      <th>imp_std</th>\n",
       "    </tr>\n",
       "  </thead>\n",
       "  <tbody>\n",
       "    <tr>\n",
       "      <th>44</th>\n",
       "      <td>EXT_SOURCE_mean</td>\n",
       "      <td>114005.214702</td>\n",
       "      <td>1381.645644</td>\n",
       "    </tr>\n",
       "    <tr>\n",
       "      <th>10</th>\n",
       "      <td>ANNUITY_div_CREDIT</td>\n",
       "      <td>23720.301550</td>\n",
       "      <td>805.397477</td>\n",
       "    </tr>\n",
       "    <tr>\n",
       "      <th>112</th>\n",
       "      <td>ORGANIZATION_TYPE</td>\n",
       "      <td>22660.210567</td>\n",
       "      <td>1372.230448</td>\n",
       "    </tr>\n",
       "    <tr>\n",
       "      <th>41</th>\n",
       "      <td>EXT_SOURCE_3</td>\n",
       "      <td>12046.854638</td>\n",
       "      <td>886.653726</td>\n",
       "    </tr>\n",
       "    <tr>\n",
       "      <th>24</th>\n",
       "      <td>DAYS_BIRTH</td>\n",
       "      <td>8108.684084</td>\n",
       "      <td>578.972393</td>\n",
       "    </tr>\n",
       "    <tr>\n",
       "      <th>45</th>\n",
       "      <td>EXT_SOURCE_min</td>\n",
       "      <td>7727.391587</td>\n",
       "      <td>314.203161</td>\n",
       "    </tr>\n",
       "    <tr>\n",
       "      <th>39</th>\n",
       "      <td>EXT_SOURCE_1</td>\n",
       "      <td>7155.619219</td>\n",
       "      <td>472.422492</td>\n",
       "    </tr>\n",
       "    <tr>\n",
       "      <th>2</th>\n",
       "      <td>AMT_GOODS_PRICE</td>\n",
       "      <td>6148.167858</td>\n",
       "      <td>364.159044</td>\n",
       "    </tr>\n",
       "    <tr>\n",
       "      <th>0</th>\n",
       "      <td>AMT_ANNUITY</td>\n",
       "      <td>6091.805210</td>\n",
       "      <td>581.987900</td>\n",
       "    </tr>\n",
       "    <tr>\n",
       "      <th>46</th>\n",
       "      <td>EXT_SOURCE_std</td>\n",
       "      <td>5830.390690</td>\n",
       "      <td>679.963947</td>\n",
       "    </tr>\n",
       "  </tbody>\n",
       "</table>\n",
       "</div>"
      ],
      "text/plain": [
       "                    col            imp      imp_std\n",
       "44      EXT_SOURCE_mean  114005.214702  1381.645644\n",
       "10   ANNUITY_div_CREDIT   23720.301550   805.397477\n",
       "112   ORGANIZATION_TYPE   22660.210567  1372.230448\n",
       "41         EXT_SOURCE_3   12046.854638   886.653726\n",
       "24           DAYS_BIRTH    8108.684084   578.972393\n",
       "45       EXT_SOURCE_min    7727.391587   314.203161\n",
       "39         EXT_SOURCE_1    7155.619219   472.422492\n",
       "2       AMT_GOODS_PRICE    6148.167858   364.159044\n",
       "0           AMT_ANNUITY    6091.805210   581.987900\n",
       "46       EXT_SOURCE_std    5830.390690   679.963947"
      ]
     },
     "execution_count": 30,
     "metadata": {},
     "output_type": "execute_result"
    }
   ],
   "source": [
    "#説明変数の重要度の確認\n",
    "imp.sort_values(\"imp\", ascending=False)[:10]"
   ]
  },
  {
   "cell_type": "code",
   "execution_count": 31,
   "id": "88031ba5",
   "metadata": {
    "execution": {
     "iopub.execute_input": "2023-04-10T15:25:28.257366Z",
     "iopub.status.busy": "2023-04-10T15:25:28.256626Z",
     "iopub.status.idle": "2023-04-10T15:25:28.498889Z",
     "shell.execute_reply": "2023-04-10T15:25:28.497842Z"
    },
    "papermill": {
     "duration": 0.266462,
     "end_time": "2023-04-10T15:25:28.501904",
     "exception": false,
     "start_time": "2023-04-10T15:25:28.235442",
     "status": "completed"
    },
    "tags": []
   },
   "outputs": [],
   "source": [
    "#推論用データのデータセット作成\n",
    "# nullに置き換え\n",
    "application_test[\"DAYS_EMPLOYED\"] = application_test[\"DAYS_EMPLOYED\"].replace(365243, np.nan)\n",
    "\n",
    "# 特徴量の生成\n",
    "application_test['INCOME_div_PERSON'] = application_test['AMT_INCOME_TOTAL'] / application_test['CNT_FAM_MEMBERS']\n",
    "application_test['INCOME_div_EMPLOYED'] = application_test['AMT_INCOME_TOTAL'] / application_test['DAYS_EMPLOYED']\n",
    "application_test[\"EXT_SOURCE_mean\"] = application_test[[\"EXT_SOURCE_1\", \"EXT_SOURCE_2\", \"EXT_SOURCE_3\"]].mean(axis=1)\n",
    "application_test[\"EXT_SOURCE_max\"] = application_test[[\"EXT_SOURCE_1\", \"EXT_SOURCE_2\", \"EXT_SOURCE_3\"]].max(axis=1)\n",
    "application_test[\"EXT_SOURCE_min\"] = application_test[[\"EXT_SOURCE_1\", \"EXT_SOURCE_2\", \"EXT_SOURCE_3\"]].min(axis=1)\n",
    "application_test[\"EXT_SOURCE_std\"] = application_test[[\"EXT_SOURCE_1\", \"EXT_SOURCE_2\", \"EXT_SOURCE_3\"]].std(axis=1)\n",
    "application_test[\"EXT_SOURCE_count\"] = application_test[[\"EXT_SOURCE_1\", \"EXT_SOURCE_2\", \"EXT_SOURCE_3\"]].notnull().sum(axis=1)\n",
    "application_test['DAYS_EMPLOYED_div_BIRTH'] = application_test['DAYS_EMPLOYED'] / application_test['DAYS_BIRTH']\n",
    "application_test['ANNUITY_div_INCOME'] = application_test['AMT_ANNUITY'] / application_test['AMT_INCOME_TOTAL']\n",
    "application_test['ANNUITY_div_CREDIT'] = application_test['AMT_ANNUITY'] / application_test['AMT_CREDIT']\n",
    "\n",
    "# データセット作成\n",
    "x_test = application_test.drop(columns=[\"SK_ID_CURR\"])\n",
    "id_test = application_test[[\"SK_ID_CURR\"]]\n",
    "\n",
    "# カテゴリ変数をcategory型へ変換\n",
    "for col in x_test.columns:\n",
    "    if x_test[col].dtype==\"O\":\n",
    "        x_test[col] = x_test[col].astype(\"category\")\n"
   ]
  },
  {
   "cell_type": "code",
   "execution_count": 32,
   "id": "bd893257",
   "metadata": {
    "execution": {
     "iopub.execute_input": "2023-04-10T15:25:28.544175Z",
     "iopub.status.busy": "2023-04-10T15:25:28.543401Z",
     "iopub.status.idle": "2023-04-10T15:25:32.455329Z",
     "shell.execute_reply": "2023-04-10T15:25:32.454214Z"
    },
    "papermill": {
     "duration": 3.935984,
     "end_time": "2023-04-10T15:25:32.458335",
     "exception": false,
     "start_time": "2023-04-10T15:25:28.522351",
     "status": "completed"
    },
    "tags": []
   },
   "outputs": [
    {
     "name": "stdout",
     "output_type": "stream",
     "text": [
      "-------------------- 0 --------------------\n",
      "-------------------- 1 --------------------\n",
      "-------------------- 2 --------------------\n",
      "-------------------- 3 --------------------\n",
      "-------------------- 4 --------------------\n",
      "Done.\n"
     ]
    }
   ],
   "source": [
    "#推論処理\n",
    "test_pred = predict_lgb(x_test,\n",
    "                        id_test,\n",
    "                        list_nfold=[0,1,2,3,4],\n",
    "                       )"
   ]
  },
  {
   "cell_type": "code",
   "execution_count": 33,
   "id": "21582052",
   "metadata": {
    "execution": {
     "iopub.execute_input": "2023-04-10T15:25:32.499659Z",
     "iopub.status.busy": "2023-04-10T15:25:32.498701Z",
     "iopub.status.idle": "2023-04-10T15:25:32.637129Z",
     "shell.execute_reply": "2023-04-10T15:25:32.635826Z"
    },
    "papermill": {
     "duration": 0.162672,
     "end_time": "2023-04-10T15:25:32.640514",
     "exception": false,
     "start_time": "2023-04-10T15:25:32.477842",
     "status": "completed"
    },
    "tags": []
   },
   "outputs": [
    {
     "name": "stdout",
     "output_type": "stream",
     "text": [
      "(48744, 2)\n"
     ]
    },
    {
     "data": {
      "text/html": [
       "<div>\n",
       "<style scoped>\n",
       "    .dataframe tbody tr th:only-of-type {\n",
       "        vertical-align: middle;\n",
       "    }\n",
       "\n",
       "    .dataframe tbody tr th {\n",
       "        vertical-align: top;\n",
       "    }\n",
       "\n",
       "    .dataframe thead th {\n",
       "        text-align: right;\n",
       "    }\n",
       "</style>\n",
       "<table border=\"1\" class=\"dataframe\">\n",
       "  <thead>\n",
       "    <tr style=\"text-align: right;\">\n",
       "      <th></th>\n",
       "      <th>SK_ID_CURR</th>\n",
       "      <th>TARGET</th>\n",
       "    </tr>\n",
       "  </thead>\n",
       "  <tbody>\n",
       "    <tr>\n",
       "      <th>0</th>\n",
       "      <td>100001</td>\n",
       "      <td>0.029002</td>\n",
       "    </tr>\n",
       "    <tr>\n",
       "      <th>1</th>\n",
       "      <td>100005</td>\n",
       "      <td>0.121782</td>\n",
       "    </tr>\n",
       "    <tr>\n",
       "      <th>2</th>\n",
       "      <td>100013</td>\n",
       "      <td>0.022668</td>\n",
       "    </tr>\n",
       "    <tr>\n",
       "      <th>3</th>\n",
       "      <td>100028</td>\n",
       "      <td>0.044435</td>\n",
       "    </tr>\n",
       "    <tr>\n",
       "      <th>4</th>\n",
       "      <td>100038</td>\n",
       "      <td>0.181940</td>\n",
       "    </tr>\n",
       "  </tbody>\n",
       "</table>\n",
       "</div>"
      ],
      "text/plain": [
       "   SK_ID_CURR    TARGET\n",
       "0      100001  0.029002\n",
       "1      100005  0.121782\n",
       "2      100013  0.022668\n",
       "3      100028  0.044435\n",
       "4      100038  0.181940"
      ]
     },
     "metadata": {},
     "output_type": "display_data"
    }
   ],
   "source": [
    "#提出ファイルの作成\n",
    "df_submit = test_pred.rename(columns={\"pred\":\"TARGET\"})\n",
    "print(df_submit.shape)\n",
    "display(df_submit.head())\n",
    "df_submit.to_csv(\"submission_FeatureEngineering1.csv\", index=None)"
   ]
  },
  {
   "cell_type": "markdown",
   "id": "69b5ae85",
   "metadata": {
    "papermill": {
     "duration": 0.019603,
     "end_time": "2023-04-10T15:25:32.680725",
     "exception": false,
     "start_time": "2023-04-10T15:25:32.661122",
     "status": "completed"
    },
    "tags": []
   },
   "source": [
    "## 特徴量エンジニアリング：POS_CASH_balance.csv"
   ]
  },
  {
   "cell_type": "code",
   "execution_count": 34,
   "id": "5ed5d458",
   "metadata": {
    "execution": {
     "iopub.execute_input": "2023-04-10T15:25:32.722738Z",
     "iopub.status.busy": "2023-04-10T15:25:32.722007Z",
     "iopub.status.idle": "2023-04-10T15:25:46.992932Z",
     "shell.execute_reply": "2023-04-10T15:25:46.991559Z"
    },
    "papermill": {
     "duration": 14.296652,
     "end_time": "2023-04-10T15:25:46.996937",
     "exception": false,
     "start_time": "2023-04-10T15:25:32.700285",
     "status": "completed"
    },
    "tags": []
   },
   "outputs": [
    {
     "name": "stdout",
     "output_type": "stream",
     "text": [
      "Memory usage of dataframe is 610.43 MB\n",
      "Memory usage after optimization is: 238.45 MB\n",
      "Decreased by 60.9%\n",
      "(10001358, 8)\n"
     ]
    },
    {
     "data": {
      "text/html": [
       "<div>\n",
       "<style scoped>\n",
       "    .dataframe tbody tr th:only-of-type {\n",
       "        vertical-align: middle;\n",
       "    }\n",
       "\n",
       "    .dataframe tbody tr th {\n",
       "        vertical-align: top;\n",
       "    }\n",
       "\n",
       "    .dataframe thead th {\n",
       "        text-align: right;\n",
       "    }\n",
       "</style>\n",
       "<table border=\"1\" class=\"dataframe\">\n",
       "  <thead>\n",
       "    <tr style=\"text-align: right;\">\n",
       "      <th></th>\n",
       "      <th>SK_ID_PREV</th>\n",
       "      <th>SK_ID_CURR</th>\n",
       "      <th>MONTHS_BALANCE</th>\n",
       "      <th>CNT_INSTALMENT</th>\n",
       "      <th>CNT_INSTALMENT_FUTURE</th>\n",
       "      <th>NAME_CONTRACT_STATUS</th>\n",
       "      <th>SK_DPD</th>\n",
       "      <th>SK_DPD_DEF</th>\n",
       "    </tr>\n",
       "  </thead>\n",
       "  <tbody>\n",
       "    <tr>\n",
       "      <th>0</th>\n",
       "      <td>1803195</td>\n",
       "      <td>182943</td>\n",
       "      <td>-31</td>\n",
       "      <td>48.0</td>\n",
       "      <td>45.0</td>\n",
       "      <td>Active</td>\n",
       "      <td>0</td>\n",
       "      <td>0</td>\n",
       "    </tr>\n",
       "    <tr>\n",
       "      <th>1</th>\n",
       "      <td>1715348</td>\n",
       "      <td>367990</td>\n",
       "      <td>-33</td>\n",
       "      <td>36.0</td>\n",
       "      <td>35.0</td>\n",
       "      <td>Active</td>\n",
       "      <td>0</td>\n",
       "      <td>0</td>\n",
       "    </tr>\n",
       "    <tr>\n",
       "      <th>2</th>\n",
       "      <td>1784872</td>\n",
       "      <td>397406</td>\n",
       "      <td>-32</td>\n",
       "      <td>12.0</td>\n",
       "      <td>9.0</td>\n",
       "      <td>Active</td>\n",
       "      <td>0</td>\n",
       "      <td>0</td>\n",
       "    </tr>\n",
       "    <tr>\n",
       "      <th>3</th>\n",
       "      <td>1903291</td>\n",
       "      <td>269225</td>\n",
       "      <td>-35</td>\n",
       "      <td>48.0</td>\n",
       "      <td>42.0</td>\n",
       "      <td>Active</td>\n",
       "      <td>0</td>\n",
       "      <td>0</td>\n",
       "    </tr>\n",
       "    <tr>\n",
       "      <th>4</th>\n",
       "      <td>2341044</td>\n",
       "      <td>334279</td>\n",
       "      <td>-35</td>\n",
       "      <td>36.0</td>\n",
       "      <td>35.0</td>\n",
       "      <td>Active</td>\n",
       "      <td>0</td>\n",
       "      <td>0</td>\n",
       "    </tr>\n",
       "  </tbody>\n",
       "</table>\n",
       "</div>"
      ],
      "text/plain": [
       "   SK_ID_PREV  SK_ID_CURR  MONTHS_BALANCE  CNT_INSTALMENT  \\\n",
       "0     1803195      182943             -31            48.0   \n",
       "1     1715348      367990             -33            36.0   \n",
       "2     1784872      397406             -32            12.0   \n",
       "3     1903291      269225             -35            48.0   \n",
       "4     2341044      334279             -35            36.0   \n",
       "\n",
       "   CNT_INSTALMENT_FUTURE NAME_CONTRACT_STATUS  SK_DPD  SK_DPD_DEF  \n",
       "0                   45.0               Active       0           0  \n",
       "1                   35.0               Active       0           0  \n",
       "2                    9.0               Active       0           0  \n",
       "3                   42.0               Active       0           0  \n",
       "4                   35.0               Active       0           0  "
      ]
     },
     "execution_count": 34,
     "metadata": {},
     "output_type": "execute_result"
    }
   ],
   "source": [
    "#ファイル読み込み\n",
    "pos = pd.read_csv(\"../input/home-credit-default-risk/POS_CASH_balance.csv\")\n",
    "pos = reduce_mem_usage(pos)\n",
    "print(pos.shape)\n",
    "pos.head()"
   ]
  },
  {
   "cell_type": "code",
   "execution_count": 35,
   "id": "59ed8aec",
   "metadata": {
    "execution": {
     "iopub.execute_input": "2023-04-10T15:25:47.047173Z",
     "iopub.status.busy": "2023-04-10T15:25:47.046209Z",
     "iopub.status.idle": "2023-04-10T15:26:13.158390Z",
     "shell.execute_reply": "2023-04-10T15:26:13.156880Z"
    },
    "papermill": {
     "duration": 26.14016,
     "end_time": "2023-04-10T15:26:13.162009",
     "exception": false,
     "start_time": "2023-04-10T15:25:47.021849",
     "status": "completed"
    },
    "tags": []
   },
   "outputs": [
    {
     "name": "stdout",
     "output_type": "stream",
     "text": [
      "10\n",
      "(337252, 33)\n",
      "(307511, 164)\n"
     ]
    },
    {
     "data": {
      "text/html": [
       "<div>\n",
       "<style scoped>\n",
       "    .dataframe tbody tr th:only-of-type {\n",
       "        vertical-align: middle;\n",
       "    }\n",
       "\n",
       "    .dataframe tbody tr th {\n",
       "        vertical-align: top;\n",
       "    }\n",
       "\n",
       "    .dataframe thead th {\n",
       "        text-align: right;\n",
       "    }\n",
       "</style>\n",
       "<table border=\"1\" class=\"dataframe\">\n",
       "  <thead>\n",
       "    <tr style=\"text-align: right;\">\n",
       "      <th></th>\n",
       "      <th>SK_ID_CURR</th>\n",
       "      <th>TARGET</th>\n",
       "      <th>NAME_CONTRACT_TYPE</th>\n",
       "      <th>CODE_GENDER</th>\n",
       "      <th>FLAG_OWN_CAR</th>\n",
       "      <th>FLAG_OWN_REALTY</th>\n",
       "      <th>CNT_CHILDREN</th>\n",
       "      <th>AMT_INCOME_TOTAL</th>\n",
       "      <th>AMT_CREDIT</th>\n",
       "      <th>AMT_ANNUITY</th>\n",
       "      <th>...</th>\n",
       "      <th>NAME_CONTRACT_STATUS_Approved_mean</th>\n",
       "      <th>NAME_CONTRACT_STATUS_Canceled_mean</th>\n",
       "      <th>NAME_CONTRACT_STATUS_Completed_mean</th>\n",
       "      <th>NAME_CONTRACT_STATUS_Demand_mean</th>\n",
       "      <th>NAME_CONTRACT_STATUS_Returned to the store_mean</th>\n",
       "      <th>NAME_CONTRACT_STATUS_Signed_mean</th>\n",
       "      <th>NAME_CONTRACT_STATUS_XNA_mean</th>\n",
       "      <th>NAME_CONTRACT_STATUS_nan_mean</th>\n",
       "      <th>SK_ID_PREV_count</th>\n",
       "      <th>SK_ID_PREV_nunique</th>\n",
       "    </tr>\n",
       "  </thead>\n",
       "  <tbody>\n",
       "    <tr>\n",
       "      <th>0</th>\n",
       "      <td>100002</td>\n",
       "      <td>1</td>\n",
       "      <td>Cash loans</td>\n",
       "      <td>M</td>\n",
       "      <td>N</td>\n",
       "      <td>Y</td>\n",
       "      <td>0</td>\n",
       "      <td>202500.0</td>\n",
       "      <td>406597.5</td>\n",
       "      <td>24700.5</td>\n",
       "      <td>...</td>\n",
       "      <td>0.0</td>\n",
       "      <td>0.0</td>\n",
       "      <td>0.000000</td>\n",
       "      <td>0.0</td>\n",
       "      <td>0.000000</td>\n",
       "      <td>0.000000</td>\n",
       "      <td>0.0</td>\n",
       "      <td>0.0</td>\n",
       "      <td>19.0</td>\n",
       "      <td>1.0</td>\n",
       "    </tr>\n",
       "    <tr>\n",
       "      <th>1</th>\n",
       "      <td>100003</td>\n",
       "      <td>0</td>\n",
       "      <td>Cash loans</td>\n",
       "      <td>F</td>\n",
       "      <td>N</td>\n",
       "      <td>N</td>\n",
       "      <td>0</td>\n",
       "      <td>270000.0</td>\n",
       "      <td>1293502.5</td>\n",
       "      <td>35698.5</td>\n",
       "      <td>...</td>\n",
       "      <td>0.0</td>\n",
       "      <td>0.0</td>\n",
       "      <td>0.071429</td>\n",
       "      <td>0.0</td>\n",
       "      <td>0.000000</td>\n",
       "      <td>0.000000</td>\n",
       "      <td>0.0</td>\n",
       "      <td>0.0</td>\n",
       "      <td>28.0</td>\n",
       "      <td>3.0</td>\n",
       "    </tr>\n",
       "    <tr>\n",
       "      <th>2</th>\n",
       "      <td>100004</td>\n",
       "      <td>0</td>\n",
       "      <td>Revolving loans</td>\n",
       "      <td>M</td>\n",
       "      <td>Y</td>\n",
       "      <td>Y</td>\n",
       "      <td>0</td>\n",
       "      <td>67500.0</td>\n",
       "      <td>135000.0</td>\n",
       "      <td>6750.0</td>\n",
       "      <td>...</td>\n",
       "      <td>0.0</td>\n",
       "      <td>0.0</td>\n",
       "      <td>0.250000</td>\n",
       "      <td>0.0</td>\n",
       "      <td>0.000000</td>\n",
       "      <td>0.000000</td>\n",
       "      <td>0.0</td>\n",
       "      <td>0.0</td>\n",
       "      <td>4.0</td>\n",
       "      <td>1.0</td>\n",
       "    </tr>\n",
       "    <tr>\n",
       "      <th>3</th>\n",
       "      <td>100006</td>\n",
       "      <td>0</td>\n",
       "      <td>Cash loans</td>\n",
       "      <td>F</td>\n",
       "      <td>N</td>\n",
       "      <td>Y</td>\n",
       "      <td>0</td>\n",
       "      <td>135000.0</td>\n",
       "      <td>312682.5</td>\n",
       "      <td>29686.5</td>\n",
       "      <td>...</td>\n",
       "      <td>0.0</td>\n",
       "      <td>0.0</td>\n",
       "      <td>0.095238</td>\n",
       "      <td>0.0</td>\n",
       "      <td>0.047619</td>\n",
       "      <td>0.000000</td>\n",
       "      <td>0.0</td>\n",
       "      <td>0.0</td>\n",
       "      <td>21.0</td>\n",
       "      <td>3.0</td>\n",
       "    </tr>\n",
       "    <tr>\n",
       "      <th>4</th>\n",
       "      <td>100007</td>\n",
       "      <td>0</td>\n",
       "      <td>Cash loans</td>\n",
       "      <td>M</td>\n",
       "      <td>N</td>\n",
       "      <td>Y</td>\n",
       "      <td>0</td>\n",
       "      <td>121500.0</td>\n",
       "      <td>513000.0</td>\n",
       "      <td>21865.5</td>\n",
       "      <td>...</td>\n",
       "      <td>0.0</td>\n",
       "      <td>0.0</td>\n",
       "      <td>0.045455</td>\n",
       "      <td>0.0</td>\n",
       "      <td>0.000000</td>\n",
       "      <td>0.015152</td>\n",
       "      <td>0.0</td>\n",
       "      <td>0.0</td>\n",
       "      <td>66.0</td>\n",
       "      <td>5.0</td>\n",
       "    </tr>\n",
       "  </tbody>\n",
       "</table>\n",
       "<p>5 rows × 164 columns</p>\n",
       "</div>"
      ],
      "text/plain": [
       "   SK_ID_CURR  TARGET NAME_CONTRACT_TYPE CODE_GENDER FLAG_OWN_CAR  \\\n",
       "0      100002       1         Cash loans           M            N   \n",
       "1      100003       0         Cash loans           F            N   \n",
       "2      100004       0    Revolving loans           M            Y   \n",
       "3      100006       0         Cash loans           F            N   \n",
       "4      100007       0         Cash loans           M            N   \n",
       "\n",
       "  FLAG_OWN_REALTY  CNT_CHILDREN  AMT_INCOME_TOTAL  AMT_CREDIT  AMT_ANNUITY  \\\n",
       "0               Y             0          202500.0    406597.5      24700.5   \n",
       "1               N             0          270000.0   1293502.5      35698.5   \n",
       "2               Y             0           67500.0    135000.0       6750.0   \n",
       "3               Y             0          135000.0    312682.5      29686.5   \n",
       "4               Y             0          121500.0    513000.0      21865.5   \n",
       "\n",
       "   ...  NAME_CONTRACT_STATUS_Approved_mean NAME_CONTRACT_STATUS_Canceled_mean  \\\n",
       "0  ...                                 0.0                                0.0   \n",
       "1  ...                                 0.0                                0.0   \n",
       "2  ...                                 0.0                                0.0   \n",
       "3  ...                                 0.0                                0.0   \n",
       "4  ...                                 0.0                                0.0   \n",
       "\n",
       "  NAME_CONTRACT_STATUS_Completed_mean NAME_CONTRACT_STATUS_Demand_mean  \\\n",
       "0                            0.000000                              0.0   \n",
       "1                            0.071429                              0.0   \n",
       "2                            0.250000                              0.0   \n",
       "3                            0.095238                              0.0   \n",
       "4                            0.045455                              0.0   \n",
       "\n",
       "  NAME_CONTRACT_STATUS_Returned to the store_mean  \\\n",
       "0                                        0.000000   \n",
       "1                                        0.000000   \n",
       "2                                        0.000000   \n",
       "3                                        0.047619   \n",
       "4                                        0.000000   \n",
       "\n",
       "  NAME_CONTRACT_STATUS_Signed_mean  NAME_CONTRACT_STATUS_XNA_mean  \\\n",
       "0                         0.000000                            0.0   \n",
       "1                         0.000000                            0.0   \n",
       "2                         0.000000                            0.0   \n",
       "3                         0.000000                            0.0   \n",
       "4                         0.015152                            0.0   \n",
       "\n",
       "   NAME_CONTRACT_STATUS_nan_mean  SK_ID_PREV_count  SK_ID_PREV_nunique  \n",
       "0                            0.0              19.0                 1.0  \n",
       "1                            0.0              28.0                 3.0  \n",
       "2                            0.0               4.0                 1.0  \n",
       "3                            0.0              21.0                 3.0  \n",
       "4                            0.0              66.0                 5.0  \n",
       "\n",
       "[5 rows x 164 columns]"
      ]
     },
     "execution_count": 35,
     "metadata": {},
     "output_type": "execute_result"
    }
   ],
   "source": [
    "'''カテゴリ変数への変換～キー結合（１対多であるため）'''\n",
    "#①カテゴリ変数をone-hot-encodingで数値に変換\n",
    "pos_ohe = pd.get_dummies(pos, columns=[\"NAME_CONTRACT_STATUS\"], dummy_na=True)\n",
    "col_ohe = sorted(list(set(pos_ohe.columns) - set(pos.columns)))\n",
    "print(len(col_ohe))\n",
    "col_ohe\n",
    "\n",
    "#②SK_ID_CURRをキーに集約処理\n",
    "pos_ohe_agg = pos_ohe.groupby(\"SK_ID_CURR\").agg(\n",
    "    {\n",
    "        # 数値の集約\n",
    "        \"MONTHS_BALANCE\": [\"mean\", \"std\", \"min\", \"max\"],\n",
    "        \"CNT_INSTALMENT\": [\"mean\", \"std\", \"min\", \"max\"],\n",
    "        \"CNT_INSTALMENT_FUTURE\": [\"mean\", \"std\", \"min\", \"max\"],\n",
    "        \"SK_DPD\": [\"mean\", \"std\", \"min\", \"max\"],\n",
    "        \"SK_DPD_DEF\": [\"mean\", \"std\", \"min\", \"max\"],\n",
    "        # カテゴリ変数をone-hot-encodingした値の集約\n",
    "        \"NAME_CONTRACT_STATUS_Active\": [\"mean\"],\n",
    "        \"NAME_CONTRACT_STATUS_Amortized debt\": [\"mean\"],\n",
    "        \"NAME_CONTRACT_STATUS_Approved\": [\"mean\"],\n",
    "        \"NAME_CONTRACT_STATUS_Canceled\": [\"mean\"],\n",
    "        \"NAME_CONTRACT_STATUS_Completed\": [\"mean\"],\n",
    "        \"NAME_CONTRACT_STATUS_Demand\": [\"mean\"],\n",
    "        \"NAME_CONTRACT_STATUS_Returned to the store\": [\"mean\"],\n",
    "        \"NAME_CONTRACT_STATUS_Signed\": [\"mean\"],\n",
    "        \"NAME_CONTRACT_STATUS_XNA\": [\"mean\"],\n",
    "        \"NAME_CONTRACT_STATUS_nan\": [\"mean\"],\n",
    "        # IDのユニーク数をカウント (ついでにレコード数もカウント)\n",
    "        \"SK_ID_PREV\":[\"count\", \"nunique\"],\n",
    "    }\n",
    ")\n",
    "\n",
    "# カラム名の付与\n",
    "pos_ohe_agg.columns = [i + \"_\" + j for i,j in pos_ohe_agg.columns]\n",
    "pos_ohe_agg = pos_ohe_agg.reset_index(drop=False)\n",
    "\n",
    "print(pos_ohe_agg.shape)\n",
    "pos_ohe_agg.head()\n",
    "\n",
    "#③SK_ID?CURRをキーにして結合\n",
    "df_train = pd.merge(application_train, pos_ohe_agg, on=\"SK_ID_CURR\", how=\"left\")\n",
    "print(df_train.shape)\n",
    "df_train.head()"
   ]
  },
  {
   "cell_type": "code",
   "execution_count": 36,
   "id": "0348af12",
   "metadata": {
    "execution": {
     "iopub.execute_input": "2023-04-10T15:26:13.213218Z",
     "iopub.status.busy": "2023-04-10T15:26:13.211945Z",
     "iopub.status.idle": "2023-04-10T15:26:14.851188Z",
     "shell.execute_reply": "2023-04-10T15:26:14.849841Z"
    },
    "papermill": {
     "duration": 1.668859,
     "end_time": "2023-04-10T15:26:14.854518",
     "exception": false,
     "start_time": "2023-04-10T15:26:13.185659",
     "status": "completed"
    },
    "tags": []
   },
   "outputs": [],
   "source": [
    "#データセットの作成\n",
    "x_train = df_train.drop(columns=[\"TARGET\", \"SK_ID_CURR\"])\n",
    "y_train = df_train[\"TARGET\"]\n",
    "id_train = df_train[[\"SK_ID_CURR\"]]\n",
    "\n",
    "for col in x_train.columns:\n",
    "    if x_train[col].dtype==\"O\":\n",
    "        x_train[col] = x_train[col].astype(\"category\")"
   ]
  },
  {
   "cell_type": "code",
   "execution_count": 37,
   "id": "90d7ceef",
   "metadata": {
    "execution": {
     "iopub.execute_input": "2023-04-10T15:26:14.899170Z",
     "iopub.status.busy": "2023-04-10T15:26:14.898352Z",
     "iopub.status.idle": "2023-04-10T15:31:09.728436Z",
     "shell.execute_reply": "2023-04-10T15:31:09.727320Z"
    },
    "papermill": {
     "duration": 294.877055,
     "end_time": "2023-04-10T15:31:09.752677",
     "exception": false,
     "start_time": "2023-04-10T15:26:14.875622",
     "status": "completed"
    },
    "tags": []
   },
   "outputs": [
    {
     "name": "stdout",
     "output_type": "stream",
     "text": [
      "-------------------- 0 --------------------\n",
      "(246008, 162) (61503, 162)\n",
      "[100]\ttraining's auc: 0.794548\tvalid_1's auc: 0.76534\n",
      "[200]\ttraining's auc: 0.825571\tvalid_1's auc: 0.77062\n",
      "[300]\ttraining's auc: 0.848468\tvalid_1's auc: 0.771422\n",
      "[400]\ttraining's auc: 0.866087\tvalid_1's auc: 0.771575\n",
      "[auc] tr:0.8578, va:0.7719\n",
      "-------------------- 1 --------------------\n",
      "(246009, 162) (61502, 162)\n",
      "[100]\ttraining's auc: 0.794349\tvalid_1's auc: 0.769227\n",
      "[200]\ttraining's auc: 0.824921\tvalid_1's auc: 0.774694\n",
      "[300]\ttraining's auc: 0.847296\tvalid_1's auc: 0.775643\n",
      "[400]\ttraining's auc: 0.864781\tvalid_1's auc: 0.775882\n",
      "[500]\ttraining's auc: 0.880069\tvalid_1's auc: 0.775861\n",
      "[auc] tr:0.8744, va:0.7761\n",
      "-------------------- 2 --------------------\n",
      "(246009, 162) (61502, 162)\n",
      "[100]\ttraining's auc: 0.794977\tvalid_1's auc: 0.768857\n",
      "[200]\ttraining's auc: 0.82562\tvalid_1's auc: 0.773055\n",
      "[300]\ttraining's auc: 0.847297\tvalid_1's auc: 0.773516\n",
      "[400]\ttraining's auc: 0.865995\tvalid_1's auc: 0.774559\n",
      "[500]\ttraining's auc: 0.881411\tvalid_1's auc: 0.773967\n",
      "[auc] tr:0.8662, va:0.7746\n",
      "-------------------- 3 --------------------\n",
      "(246009, 162) (61502, 162)\n",
      "[100]\ttraining's auc: 0.79487\tvalid_1's auc: 0.766658\n",
      "[200]\ttraining's auc: 0.825555\tvalid_1's auc: 0.771612\n",
      "[300]\ttraining's auc: 0.847639\tvalid_1's auc: 0.772074\n",
      "[auc] tr:0.8474, va:0.7721\n",
      "-------------------- 4 --------------------\n",
      "(246009, 162) (61502, 162)\n",
      "[100]\ttraining's auc: 0.795217\tvalid_1's auc: 0.760459\n",
      "[200]\ttraining's auc: 0.825714\tvalid_1's auc: 0.76484\n",
      "[300]\ttraining's auc: 0.847102\tvalid_1's auc: 0.765433\n",
      "[auc] tr:0.8467, va:0.7655\n",
      "-------------------- result --------------------\n",
      "[[0.         0.85779976 0.77186119]\n",
      " [1.         0.87444951 0.77606599]\n",
      " [2.         0.86623291 0.77456898]\n",
      " [3.         0.84744891 0.7721198 ]\n",
      " [4.         0.84670208 0.76551935]]\n",
      "[cv] tr:0.8585+-0.0107, va:0.7720+-0.0036\n",
      "[oof] 0.7720\n"
     ]
    }
   ],
   "source": [
    "#モデル学習\n",
    "train_oof, imp, metrics = train_lgb(x_train,\n",
    "                                    y_train,\n",
    "                                    id_train,\n",
    "                                    params,\n",
    "                                    list_nfold=[0,1,2,3,4],\n",
    "                                    n_splits=5,\n",
    "                                   )"
   ]
  },
  {
   "cell_type": "code",
   "execution_count": 38,
   "id": "2d8d7428",
   "metadata": {
    "execution": {
     "iopub.execute_input": "2023-04-10T15:31:09.800004Z",
     "iopub.status.busy": "2023-04-10T15:31:09.799139Z",
     "iopub.status.idle": "2023-04-10T15:31:09.813594Z",
     "shell.execute_reply": "2023-04-10T15:31:09.812322Z"
    },
    "papermill": {
     "duration": 0.041373,
     "end_time": "2023-04-10T15:31:09.816317",
     "exception": false,
     "start_time": "2023-04-10T15:31:09.774944",
     "status": "completed"
    },
    "tags": []
   },
   "outputs": [
    {
     "data": {
      "text/html": [
       "<div>\n",
       "<style scoped>\n",
       "    .dataframe tbody tr th:only-of-type {\n",
       "        vertical-align: middle;\n",
       "    }\n",
       "\n",
       "    .dataframe tbody tr th {\n",
       "        vertical-align: top;\n",
       "    }\n",
       "\n",
       "    .dataframe thead th {\n",
       "        text-align: right;\n",
       "    }\n",
       "</style>\n",
       "<table border=\"1\" class=\"dataframe\">\n",
       "  <thead>\n",
       "    <tr style=\"text-align: right;\">\n",
       "      <th></th>\n",
       "      <th>col</th>\n",
       "      <th>imp</th>\n",
       "      <th>imp_std</th>\n",
       "    </tr>\n",
       "  </thead>\n",
       "  <tbody>\n",
       "    <tr>\n",
       "      <th>52</th>\n",
       "      <td>EXT_SOURCE_mean</td>\n",
       "      <td>112438.907936</td>\n",
       "      <td>1217.139287</td>\n",
       "    </tr>\n",
       "    <tr>\n",
       "      <th>134</th>\n",
       "      <td>ORGANIZATION_TYPE</td>\n",
       "      <td>21573.968751</td>\n",
       "      <td>1044.080966</td>\n",
       "    </tr>\n",
       "    <tr>\n",
       "      <th>10</th>\n",
       "      <td>ANNUITY_div_CREDIT</td>\n",
       "      <td>18349.279658</td>\n",
       "      <td>1039.471604</td>\n",
       "    </tr>\n",
       "    <tr>\n",
       "      <th>49</th>\n",
       "      <td>EXT_SOURCE_3</td>\n",
       "      <td>10710.855987</td>\n",
       "      <td>490.719084</td>\n",
       "    </tr>\n",
       "    <tr>\n",
       "      <th>53</th>\n",
       "      <td>EXT_SOURCE_min</td>\n",
       "      <td>7021.835349</td>\n",
       "      <td>444.955386</td>\n",
       "    </tr>\n",
       "    <tr>\n",
       "      <th>32</th>\n",
       "      <td>DAYS_BIRTH</td>\n",
       "      <td>6666.389282</td>\n",
       "      <td>814.801948</td>\n",
       "    </tr>\n",
       "    <tr>\n",
       "      <th>47</th>\n",
       "      <td>EXT_SOURCE_1</td>\n",
       "      <td>6605.474412</td>\n",
       "      <td>601.782028</td>\n",
       "    </tr>\n",
       "    <tr>\n",
       "      <th>21</th>\n",
       "      <td>CNT_INSTALMENT_FUTURE_mean</td>\n",
       "      <td>6289.278576</td>\n",
       "      <td>365.694448</td>\n",
       "    </tr>\n",
       "    <tr>\n",
       "      <th>0</th>\n",
       "      <td>AMT_ANNUITY</td>\n",
       "      <td>5563.190447</td>\n",
       "      <td>368.625974</td>\n",
       "    </tr>\n",
       "    <tr>\n",
       "      <th>108</th>\n",
       "      <td>MONTHS_BALANCE_std</td>\n",
       "      <td>5340.370365</td>\n",
       "      <td>466.201881</td>\n",
       "    </tr>\n",
       "  </tbody>\n",
       "</table>\n",
       "</div>"
      ],
      "text/plain": [
       "                            col            imp      imp_std\n",
       "52              EXT_SOURCE_mean  112438.907936  1217.139287\n",
       "134           ORGANIZATION_TYPE   21573.968751  1044.080966\n",
       "10           ANNUITY_div_CREDIT   18349.279658  1039.471604\n",
       "49                 EXT_SOURCE_3   10710.855987   490.719084\n",
       "53               EXT_SOURCE_min    7021.835349   444.955386\n",
       "32                   DAYS_BIRTH    6666.389282   814.801948\n",
       "47                 EXT_SOURCE_1    6605.474412   601.782028\n",
       "21   CNT_INSTALMENT_FUTURE_mean    6289.278576   365.694448\n",
       "0                   AMT_ANNUITY    5563.190447   368.625974\n",
       "108          MONTHS_BALANCE_std    5340.370365   466.201881"
      ]
     },
     "execution_count": 38,
     "metadata": {},
     "output_type": "execute_result"
    }
   ],
   "source": [
    "#説明変数の重要度の確認\n",
    "imp.sort_values(\"imp\", ascending=False)[:10]"
   ]
  },
  {
   "cell_type": "code",
   "execution_count": 39,
   "id": "19584dac",
   "metadata": {
    "execution": {
     "iopub.execute_input": "2023-04-10T15:31:09.865985Z",
     "iopub.status.busy": "2023-04-10T15:31:09.865157Z",
     "iopub.status.idle": "2023-04-10T15:31:10.421243Z",
     "shell.execute_reply": "2023-04-10T15:31:10.420206Z"
    },
    "papermill": {
     "duration": 0.584639,
     "end_time": "2023-04-10T15:31:10.424325",
     "exception": false,
     "start_time": "2023-04-10T15:31:09.839686",
     "status": "completed"
    },
    "tags": []
   },
   "outputs": [],
   "source": [
    "#推論用のデータセット作成\n",
    "# テーブル結合\n",
    "df_test = pd.merge(application_test, pos_ohe_agg, on=\"SK_ID_CURR\", how=\"left\")\n",
    "\n",
    "# データセット作成\n",
    "x_test = df_test.drop(columns=[\"SK_ID_CURR\"])\n",
    "id_test = df_test[[\"SK_ID_CURR\"]]\n",
    "\n",
    "# カテゴリ変数をcategory型へ変換\n",
    "for col in x_test.columns:\n",
    "    if x_test[col].dtype==\"O\":\n",
    "        x_test[col] = x_test[col].astype(\"category\")"
   ]
  },
  {
   "cell_type": "code",
   "execution_count": 40,
   "id": "75e04175",
   "metadata": {
    "execution": {
     "iopub.execute_input": "2023-04-10T15:31:10.474136Z",
     "iopub.status.busy": "2023-04-10T15:31:10.473266Z",
     "iopub.status.idle": "2023-04-10T15:31:14.584213Z",
     "shell.execute_reply": "2023-04-10T15:31:14.582857Z"
    },
    "papermill": {
     "duration": 4.139559,
     "end_time": "2023-04-10T15:31:14.587045",
     "exception": false,
     "start_time": "2023-04-10T15:31:10.447486",
     "status": "completed"
    },
    "tags": []
   },
   "outputs": [
    {
     "name": "stdout",
     "output_type": "stream",
     "text": [
      "-------------------- 0 --------------------\n",
      "-------------------- 1 --------------------\n",
      "-------------------- 2 --------------------\n",
      "-------------------- 3 --------------------\n",
      "-------------------- 4 --------------------\n",
      "Done.\n"
     ]
    }
   ],
   "source": [
    "test_pred = predict_lgb(x_test,\n",
    "                        id_test,\n",
    "                        list_nfold=[0,1,2,3,4],\n",
    "                       )"
   ]
  },
  {
   "cell_type": "code",
   "execution_count": 41,
   "id": "b756816d",
   "metadata": {
    "execution": {
     "iopub.execute_input": "2023-04-10T15:31:14.635302Z",
     "iopub.status.busy": "2023-04-10T15:31:14.634814Z",
     "iopub.status.idle": "2023-04-10T15:31:14.776352Z",
     "shell.execute_reply": "2023-04-10T15:31:14.774867Z"
    },
    "papermill": {
     "duration": 0.169648,
     "end_time": "2023-04-10T15:31:14.779478",
     "exception": false,
     "start_time": "2023-04-10T15:31:14.609830",
     "status": "completed"
    },
    "tags": []
   },
   "outputs": [
    {
     "name": "stdout",
     "output_type": "stream",
     "text": [
      "(48744, 2)\n"
     ]
    },
    {
     "data": {
      "text/html": [
       "<div>\n",
       "<style scoped>\n",
       "    .dataframe tbody tr th:only-of-type {\n",
       "        vertical-align: middle;\n",
       "    }\n",
       "\n",
       "    .dataframe tbody tr th {\n",
       "        vertical-align: top;\n",
       "    }\n",
       "\n",
       "    .dataframe thead th {\n",
       "        text-align: right;\n",
       "    }\n",
       "</style>\n",
       "<table border=\"1\" class=\"dataframe\">\n",
       "  <thead>\n",
       "    <tr style=\"text-align: right;\">\n",
       "      <th></th>\n",
       "      <th>SK_ID_CURR</th>\n",
       "      <th>TARGET</th>\n",
       "    </tr>\n",
       "  </thead>\n",
       "  <tbody>\n",
       "    <tr>\n",
       "      <th>0</th>\n",
       "      <td>100001</td>\n",
       "      <td>0.032163</td>\n",
       "    </tr>\n",
       "    <tr>\n",
       "      <th>1</th>\n",
       "      <td>100005</td>\n",
       "      <td>0.104400</td>\n",
       "    </tr>\n",
       "    <tr>\n",
       "      <th>2</th>\n",
       "      <td>100013</td>\n",
       "      <td>0.025425</td>\n",
       "    </tr>\n",
       "    <tr>\n",
       "      <th>3</th>\n",
       "      <td>100028</td>\n",
       "      <td>0.047522</td>\n",
       "    </tr>\n",
       "    <tr>\n",
       "      <th>4</th>\n",
       "      <td>100038</td>\n",
       "      <td>0.210907</td>\n",
       "    </tr>\n",
       "  </tbody>\n",
       "</table>\n",
       "</div>"
      ],
      "text/plain": [
       "   SK_ID_CURR    TARGET\n",
       "0      100001  0.032163\n",
       "1      100005  0.104400\n",
       "2      100013  0.025425\n",
       "3      100028  0.047522\n",
       "4      100038  0.210907"
      ]
     },
     "metadata": {},
     "output_type": "display_data"
    }
   ],
   "source": [
    "#提出ファイルの作成\n",
    "df_submit = test_pred.rename(columns={\"pred\":\"TARGET\"})\n",
    "print(df_submit.shape)\n",
    "display(df_submit.head())\n",
    "df_submit.to_csv(\"submission_FeatureEngineering2.csv\", index=None)"
   ]
  },
  {
   "cell_type": "code",
   "execution_count": null,
   "id": "c6e249e3",
   "metadata": {
    "papermill": {
     "duration": 0.022579,
     "end_time": "2023-04-10T15:31:14.825558",
     "exception": false,
     "start_time": "2023-04-10T15:31:14.802979",
     "status": "completed"
    },
    "tags": []
   },
   "outputs": [],
   "source": []
  }
 ],
 "metadata": {
  "kernelspec": {
   "display_name": "Python 3",
   "language": "python",
   "name": "python3"
  },
  "language_info": {
   "codemirror_mode": {
    "name": "ipython",
    "version": 3
   },
   "file_extension": ".py",
   "mimetype": "text/x-python",
   "name": "python",
   "nbconvert_exporter": "python",
   "pygments_lexer": "ipython3",
   "version": "3.7.12"
  },
  "papermill": {
   "default_parameters": {},
   "duration": 888.45414,
   "end_time": "2023-04-10T15:31:16.078579",
   "environment_variables": {},
   "exception": null,
   "input_path": "__notebook__.ipynb",
   "output_path": "__notebook__.ipynb",
   "parameters": {},
   "start_time": "2023-04-10T15:16:27.624439",
   "version": "2.4.0"
  }
 },
 "nbformat": 4,
 "nbformat_minor": 5
}
