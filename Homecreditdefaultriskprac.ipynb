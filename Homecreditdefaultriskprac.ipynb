{
 "cells": [
  {
   "cell_type": "markdown",
   "id": "0cc0f290",
   "metadata": {
    "papermill": {
     "duration": 0.015146,
     "end_time": "2023-04-30T14:13:43.687284",
     "exception": false,
     "start_time": "2023-04-30T14:13:43.672138",
     "status": "completed"
    },
    "tags": []
   },
   "source": [
    "# 1 ベースライン作成"
   ]
  },
  {
   "cell_type": "markdown",
   "id": "32440234",
   "metadata": {
    "papermill": {
     "duration": 0.013419,
     "end_time": "2023-04-30T14:13:43.714341",
     "exception": false,
     "start_time": "2023-04-30T14:13:43.700922",
     "status": "completed"
    },
    "tags": []
   },
   "source": [
    "## 1-1ライブラリの読み込み等の初期処理"
   ]
  },
  {
   "cell_type": "code",
   "execution_count": 1,
   "id": "319b3836",
   "metadata": {
    "_cell_guid": "b1076dfc-b9ad-4769-8c92-a6c4dae69d19",
    "_uuid": "8f2839f25d086af736a60e9eeb907d3b93b6e0e5",
    "execution": {
     "iopub.execute_input": "2023-04-30T14:13:43.744407Z",
     "iopub.status.busy": "2023-04-30T14:13:43.743515Z",
     "iopub.status.idle": "2023-04-30T14:13:46.215569Z",
     "shell.execute_reply": "2023-04-30T14:13:46.214321Z"
    },
    "papermill": {
     "duration": 2.49068,
     "end_time": "2023-04-30T14:13:46.218694",
     "exception": false,
     "start_time": "2023-04-30T14:13:43.728014",
     "status": "completed"
    },
    "tags": []
   },
   "outputs": [
    {
     "data": {
      "text/html": [
       "<style type='text/css'>\n",
       ".datatable table.frame { margin-bottom: 0; }\n",
       ".datatable table.frame thead { border-bottom: none; }\n",
       ".datatable table.frame tr.coltypes td {  color: #FFFFFF;  line-height: 6px;  padding: 0 0.5em;}\n",
       ".datatable .bool    { background: #DDDD99; }\n",
       ".datatable .object  { background: #565656; }\n",
       ".datatable .int     { background: #5D9E5D; }\n",
       ".datatable .float   { background: #4040CC; }\n",
       ".datatable .str     { background: #CC4040; }\n",
       ".datatable .time    { background: #40CC40; }\n",
       ".datatable .row_index {  background: var(--jp-border-color3);  border-right: 1px solid var(--jp-border-color0);  color: var(--jp-ui-font-color3);  font-size: 9px;}\n",
       ".datatable .frame tbody td { text-align: left; }\n",
       ".datatable .frame tr.coltypes .row_index {  background: var(--jp-border-color0);}\n",
       ".datatable th:nth-child(2) { padding-left: 12px; }\n",
       ".datatable .hellipsis {  color: var(--jp-cell-editor-border-color);}\n",
       ".datatable .vellipsis {  background: var(--jp-layout-color0);  color: var(--jp-cell-editor-border-color);}\n",
       ".datatable .na {  color: var(--jp-cell-editor-border-color);  font-size: 80%;}\n",
       ".datatable .sp {  opacity: 0.25;}\n",
       ".datatable .footer { font-size: 9px; }\n",
       ".datatable .frame_dimensions {  background: var(--jp-border-color3);  border-top: 1px solid var(--jp-border-color0);  color: var(--jp-ui-font-color3);  display: inline-block;  opacity: 0.6;  padding: 1px 10px 1px 5px;}\n",
       "</style>\n"
      ],
      "text/plain": [
       "<IPython.core.display.HTML object>"
      ]
     },
     "metadata": {},
     "output_type": "display_data"
    }
   ],
   "source": [
    "import numpy as np\n",
    "import pandas as pd\n",
    "import re\n",
    "import pickle\n",
    "import gc\n",
    "\n",
    "# scikit-learn\n",
    "from sklearn.preprocessing import OneHotEncoder, LabelEncoder\n",
    "from sklearn.model_selection import StratifiedKFold\n",
    "from sklearn.metrics import roc_auc_score\n",
    "\n",
    "# LightGBM\n",
    "import lightgbm as lgb\n",
    "\n",
    "import warnings\n",
    "warnings.filterwarnings(\"ignore\")"
   ]
  },
  {
   "cell_type": "code",
   "execution_count": 2,
   "id": "84fbe0a0",
   "metadata": {
    "execution": {
     "iopub.execute_input": "2023-04-30T14:13:46.249943Z",
     "iopub.status.busy": "2023-04-30T14:13:46.249459Z",
     "iopub.status.idle": "2023-04-30T14:13:54.945376Z",
     "shell.execute_reply": "2023-04-30T14:13:54.944015Z"
    },
    "papermill": {
     "duration": 8.714165,
     "end_time": "2023-04-30T14:13:54.948020",
     "exception": false,
     "start_time": "2023-04-30T14:13:46.233855",
     "status": "completed"
    },
    "tags": []
   },
   "outputs": [
    {
     "name": "stdout",
     "output_type": "stream",
     "text": [
      "(307511, 122)\n"
     ]
    },
    {
     "data": {
      "text/html": [
       "<div>\n",
       "<style scoped>\n",
       "    .dataframe tbody tr th:only-of-type {\n",
       "        vertical-align: middle;\n",
       "    }\n",
       "\n",
       "    .dataframe tbody tr th {\n",
       "        vertical-align: top;\n",
       "    }\n",
       "\n",
       "    .dataframe thead th {\n",
       "        text-align: right;\n",
       "    }\n",
       "</style>\n",
       "<table border=\"1\" class=\"dataframe\">\n",
       "  <thead>\n",
       "    <tr style=\"text-align: right;\">\n",
       "      <th></th>\n",
       "      <th>SK_ID_CURR</th>\n",
       "      <th>TARGET</th>\n",
       "      <th>NAME_CONTRACT_TYPE</th>\n",
       "      <th>CODE_GENDER</th>\n",
       "      <th>FLAG_OWN_CAR</th>\n",
       "      <th>FLAG_OWN_REALTY</th>\n",
       "      <th>CNT_CHILDREN</th>\n",
       "      <th>AMT_INCOME_TOTAL</th>\n",
       "      <th>AMT_CREDIT</th>\n",
       "      <th>AMT_ANNUITY</th>\n",
       "      <th>...</th>\n",
       "      <th>FLAG_DOCUMENT_18</th>\n",
       "      <th>FLAG_DOCUMENT_19</th>\n",
       "      <th>FLAG_DOCUMENT_20</th>\n",
       "      <th>FLAG_DOCUMENT_21</th>\n",
       "      <th>AMT_REQ_CREDIT_BUREAU_HOUR</th>\n",
       "      <th>AMT_REQ_CREDIT_BUREAU_DAY</th>\n",
       "      <th>AMT_REQ_CREDIT_BUREAU_WEEK</th>\n",
       "      <th>AMT_REQ_CREDIT_BUREAU_MON</th>\n",
       "      <th>AMT_REQ_CREDIT_BUREAU_QRT</th>\n",
       "      <th>AMT_REQ_CREDIT_BUREAU_YEAR</th>\n",
       "    </tr>\n",
       "  </thead>\n",
       "  <tbody>\n",
       "    <tr>\n",
       "      <th>0</th>\n",
       "      <td>100002</td>\n",
       "      <td>1</td>\n",
       "      <td>Cash loans</td>\n",
       "      <td>M</td>\n",
       "      <td>N</td>\n",
       "      <td>Y</td>\n",
       "      <td>0</td>\n",
       "      <td>202500.0</td>\n",
       "      <td>406597.5</td>\n",
       "      <td>24700.5</td>\n",
       "      <td>...</td>\n",
       "      <td>0</td>\n",
       "      <td>0</td>\n",
       "      <td>0</td>\n",
       "      <td>0</td>\n",
       "      <td>0.0</td>\n",
       "      <td>0.0</td>\n",
       "      <td>0.0</td>\n",
       "      <td>0.0</td>\n",
       "      <td>0.0</td>\n",
       "      <td>1.0</td>\n",
       "    </tr>\n",
       "    <tr>\n",
       "      <th>1</th>\n",
       "      <td>100003</td>\n",
       "      <td>0</td>\n",
       "      <td>Cash loans</td>\n",
       "      <td>F</td>\n",
       "      <td>N</td>\n",
       "      <td>N</td>\n",
       "      <td>0</td>\n",
       "      <td>270000.0</td>\n",
       "      <td>1293502.5</td>\n",
       "      <td>35698.5</td>\n",
       "      <td>...</td>\n",
       "      <td>0</td>\n",
       "      <td>0</td>\n",
       "      <td>0</td>\n",
       "      <td>0</td>\n",
       "      <td>0.0</td>\n",
       "      <td>0.0</td>\n",
       "      <td>0.0</td>\n",
       "      <td>0.0</td>\n",
       "      <td>0.0</td>\n",
       "      <td>0.0</td>\n",
       "    </tr>\n",
       "    <tr>\n",
       "      <th>2</th>\n",
       "      <td>100004</td>\n",
       "      <td>0</td>\n",
       "      <td>Revolving loans</td>\n",
       "      <td>M</td>\n",
       "      <td>Y</td>\n",
       "      <td>Y</td>\n",
       "      <td>0</td>\n",
       "      <td>67500.0</td>\n",
       "      <td>135000.0</td>\n",
       "      <td>6750.0</td>\n",
       "      <td>...</td>\n",
       "      <td>0</td>\n",
       "      <td>0</td>\n",
       "      <td>0</td>\n",
       "      <td>0</td>\n",
       "      <td>0.0</td>\n",
       "      <td>0.0</td>\n",
       "      <td>0.0</td>\n",
       "      <td>0.0</td>\n",
       "      <td>0.0</td>\n",
       "      <td>0.0</td>\n",
       "    </tr>\n",
       "    <tr>\n",
       "      <th>3</th>\n",
       "      <td>100006</td>\n",
       "      <td>0</td>\n",
       "      <td>Cash loans</td>\n",
       "      <td>F</td>\n",
       "      <td>N</td>\n",
       "      <td>Y</td>\n",
       "      <td>0</td>\n",
       "      <td>135000.0</td>\n",
       "      <td>312682.5</td>\n",
       "      <td>29686.5</td>\n",
       "      <td>...</td>\n",
       "      <td>0</td>\n",
       "      <td>0</td>\n",
       "      <td>0</td>\n",
       "      <td>0</td>\n",
       "      <td>NaN</td>\n",
       "      <td>NaN</td>\n",
       "      <td>NaN</td>\n",
       "      <td>NaN</td>\n",
       "      <td>NaN</td>\n",
       "      <td>NaN</td>\n",
       "    </tr>\n",
       "    <tr>\n",
       "      <th>4</th>\n",
       "      <td>100007</td>\n",
       "      <td>0</td>\n",
       "      <td>Cash loans</td>\n",
       "      <td>M</td>\n",
       "      <td>N</td>\n",
       "      <td>Y</td>\n",
       "      <td>0</td>\n",
       "      <td>121500.0</td>\n",
       "      <td>513000.0</td>\n",
       "      <td>21865.5</td>\n",
       "      <td>...</td>\n",
       "      <td>0</td>\n",
       "      <td>0</td>\n",
       "      <td>0</td>\n",
       "      <td>0</td>\n",
       "      <td>0.0</td>\n",
       "      <td>0.0</td>\n",
       "      <td>0.0</td>\n",
       "      <td>0.0</td>\n",
       "      <td>0.0</td>\n",
       "      <td>0.0</td>\n",
       "    </tr>\n",
       "  </tbody>\n",
       "</table>\n",
       "<p>5 rows × 122 columns</p>\n",
       "</div>"
      ],
      "text/plain": [
       "   SK_ID_CURR  TARGET NAME_CONTRACT_TYPE CODE_GENDER FLAG_OWN_CAR  \\\n",
       "0      100002       1         Cash loans           M            N   \n",
       "1      100003       0         Cash loans           F            N   \n",
       "2      100004       0    Revolving loans           M            Y   \n",
       "3      100006       0         Cash loans           F            N   \n",
       "4      100007       0         Cash loans           M            N   \n",
       "\n",
       "  FLAG_OWN_REALTY  CNT_CHILDREN  AMT_INCOME_TOTAL  AMT_CREDIT  AMT_ANNUITY  \\\n",
       "0               Y             0          202500.0    406597.5      24700.5   \n",
       "1               N             0          270000.0   1293502.5      35698.5   \n",
       "2               Y             0           67500.0    135000.0       6750.0   \n",
       "3               Y             0          135000.0    312682.5      29686.5   \n",
       "4               Y             0          121500.0    513000.0      21865.5   \n",
       "\n",
       "   ...  FLAG_DOCUMENT_18 FLAG_DOCUMENT_19 FLAG_DOCUMENT_20 FLAG_DOCUMENT_21  \\\n",
       "0  ...                 0                0                0                0   \n",
       "1  ...                 0                0                0                0   \n",
       "2  ...                 0                0                0                0   \n",
       "3  ...                 0                0                0                0   \n",
       "4  ...                 0                0                0                0   \n",
       "\n",
       "  AMT_REQ_CREDIT_BUREAU_HOUR AMT_REQ_CREDIT_BUREAU_DAY  \\\n",
       "0                        0.0                       0.0   \n",
       "1                        0.0                       0.0   \n",
       "2                        0.0                       0.0   \n",
       "3                        NaN                       NaN   \n",
       "4                        0.0                       0.0   \n",
       "\n",
       "   AMT_REQ_CREDIT_BUREAU_WEEK  AMT_REQ_CREDIT_BUREAU_MON  \\\n",
       "0                         0.0                        0.0   \n",
       "1                         0.0                        0.0   \n",
       "2                         0.0                        0.0   \n",
       "3                         NaN                        NaN   \n",
       "4                         0.0                        0.0   \n",
       "\n",
       "   AMT_REQ_CREDIT_BUREAU_QRT  AMT_REQ_CREDIT_BUREAU_YEAR  \n",
       "0                        0.0                         1.0  \n",
       "1                        0.0                         0.0  \n",
       "2                        0.0                         0.0  \n",
       "3                        NaN                         NaN  \n",
       "4                        0.0                         0.0  \n",
       "\n",
       "[5 rows x 122 columns]"
      ]
     },
     "execution_count": 2,
     "metadata": {},
     "output_type": "execute_result"
    }
   ],
   "source": [
    "# ファイルの読み込み・データ確認\n",
    "application_train = pd.read_csv(\"../input/home-credit-default-risk/application_train.csv\")\n",
    "print(application_train.shape)\n",
    "application_train.head()"
   ]
  },
  {
   "cell_type": "code",
   "execution_count": 3,
   "id": "15316f9d",
   "metadata": {
    "execution": {
     "iopub.execute_input": "2023-04-30T14:13:54.978562Z",
     "iopub.status.busy": "2023-04-30T14:13:54.978107Z",
     "iopub.status.idle": "2023-04-30T14:13:58.002026Z",
     "shell.execute_reply": "2023-04-30T14:13:58.000512Z"
    },
    "papermill": {
     "duration": 3.042539,
     "end_time": "2023-04-30T14:13:58.004933",
     "exception": false,
     "start_time": "2023-04-30T14:13:54.962394",
     "status": "completed"
    },
    "tags": []
   },
   "outputs": [
    {
     "name": "stdout",
     "output_type": "stream",
     "text": [
      "Memory usage of dataframe is 286.23 MB\n",
      "Memory usage after optimization is: 92.38 MB\n",
      "Decreased by 67.7%\n"
     ]
    }
   ],
   "source": [
    "# メモリ削減用関数　（ファイルサイズが大きいとき）データ型を最適化する\n",
    "def reduce_mem_usage(df):\n",
    "    start_mem = df.memory_usage().sum() / 1024**2\n",
    "    print('Memory usage of dataframe is {:.2f} MB'.format(start_mem))\n",
    "    \n",
    "    for col in df.columns:\n",
    "        col_type = df[col].dtype\n",
    "        \n",
    "        if col_type != object:\n",
    "            c_min = df[col].min()\n",
    "            c_max = df[col].max()\n",
    "            if str(col_type)[:3] == 'int':\n",
    "                if c_min > np.iinfo(np.int8).min and c_max < np.iinfo(np.int8).max:\n",
    "                    df[col] = df[col].astype(np.int8)\n",
    "                elif c_min > np.iinfo(np.int16).min and c_max < np.iinfo(np.int16).max:\n",
    "                    df[col] = df[col].astype(np.int16)\n",
    "                elif c_min > np.iinfo(np.int32).min and c_max < np.iinfo(np.int32).max:\n",
    "                    df[col] = df[col].astype(np.int32)\n",
    "                elif c_min > np.iinfo(np.int64).min and c_max < np.iinfo(np.int64).max:\n",
    "                    df[col] = df[col].astype(np.int64)  \n",
    "            else:\n",
    "                if c_min > np.finfo(np.float16).min and c_max < np.finfo(np.float16).max:\n",
    "                    df[col] = df[col].astype(np.float16)\n",
    "                elif c_min > np.finfo(np.float32).min and c_max < np.finfo(np.float32).max:\n",
    "                    df[col] = df[col].astype(np.float32)\n",
    "                else:\n",
    "                    df[col] = df[col].astype(np.float64)\n",
    "        else:\n",
    "            pass\n",
    "\n",
    "    end_mem = df.memory_usage().sum() / 1024**2\n",
    "    print('Memory usage after optimization is: {:.2f} MB'.format(end_mem))\n",
    "    print('Decreased by {:.1f}%'.format(100 * (start_mem - end_mem) / start_mem))\n",
    "    \n",
    "    return df\n",
    "#試しで使用\n",
    "application_train = reduce_mem_usage(application_train)"
   ]
  },
  {
   "cell_type": "markdown",
   "id": "407d461d",
   "metadata": {
    "papermill": {
     "duration": 0.014193,
     "end_time": "2023-04-30T14:13:58.033517",
     "exception": false,
     "start_time": "2023-04-30T14:13:58.019324",
     "status": "completed"
    },
    "tags": []
   },
   "source": [
    "## 1-2 データセットの作成"
   ]
  },
  {
   "cell_type": "code",
   "execution_count": 4,
   "id": "80a2bb10",
   "metadata": {
    "execution": {
     "iopub.execute_input": "2023-04-30T14:13:58.065051Z",
     "iopub.status.busy": "2023-04-30T14:13:58.064152Z",
     "iopub.status.idle": "2023-04-30T14:13:59.028532Z",
     "shell.execute_reply": "2023-04-30T14:13:59.027207Z"
    },
    "papermill": {
     "duration": 0.983542,
     "end_time": "2023-04-30T14:13:59.031488",
     "exception": false,
     "start_time": "2023-04-30T14:13:58.047946",
     "status": "completed"
    },
    "tags": []
   },
   "outputs": [],
   "source": [
    "#データセットの作成\n",
    "x_train = application_train.drop(columns=[\"TARGET\", \"SK_ID_CURR\"])\n",
    "y_train = application_train[\"TARGET\"]\n",
    "id_train = application_train[[\"SK_ID_CURR\"]]\n",
    "#カテゴリ変数をcategory型へ変換（lightGBMに使うため）\n",
    "for col in x_train.columns:\n",
    "    if x_train[col].dtype==\"O\":\n",
    "        x_train[col] = x_train[col].astype(\"category\")"
   ]
  },
  {
   "cell_type": "markdown",
   "id": "e13c391b",
   "metadata": {
    "papermill": {
     "duration": 0.014162,
     "end_time": "2023-04-30T14:13:59.060203",
     "exception": false,
     "start_time": "2023-04-30T14:13:59.046041",
     "status": "completed"
    },
    "tags": []
   },
   "source": [
    "## 1-3 バリデーション設計"
   ]
  },
  {
   "cell_type": "code",
   "execution_count": 5,
   "id": "08ed8974",
   "metadata": {
    "execution": {
     "iopub.execute_input": "2023-04-30T14:13:59.091408Z",
     "iopub.status.busy": "2023-04-30T14:13:59.090921Z",
     "iopub.status.idle": "2023-04-30T14:13:59.106119Z",
     "shell.execute_reply": "2023-04-30T14:13:59.104701Z"
    },
    "papermill": {
     "duration": 0.034301,
     "end_time": "2023-04-30T14:13:59.108942",
     "exception": false,
     "start_time": "2023-04-30T14:13:59.074641",
     "status": "completed"
    },
    "tags": []
   },
   "outputs": [
    {
     "name": "stdout",
     "output_type": "stream",
     "text": [
      "mean: 0.0807\n"
     ]
    },
    {
     "data": {
      "text/plain": [
       "0    282686\n",
       "1     24825\n",
       "Name: TARGET, dtype: int64"
      ]
     },
     "execution_count": 5,
     "metadata": {},
     "output_type": "execute_result"
    }
   ],
   "source": [
    "#1の割合とそれぞれの件数を確認\n",
    "print(\"mean: {:.4f}\".format(y_train.mean()))\n",
    "y_train.value_counts()"
   ]
  },
  {
   "cell_type": "code",
   "execution_count": 6,
   "id": "5443d118",
   "metadata": {
    "execution": {
     "iopub.execute_input": "2023-04-30T14:13:59.141197Z",
     "iopub.status.busy": "2023-04-30T14:13:59.140247Z",
     "iopub.status.idle": "2023-04-30T14:13:59.208787Z",
     "shell.execute_reply": "2023-04-30T14:13:59.207177Z"
    },
    "papermill": {
     "duration": 0.087746,
     "end_time": "2023-04-30T14:13:59.211723",
     "exception": false,
     "start_time": "2023-04-30T14:13:59.123977",
     "status": "completed"
    },
    "tags": []
   },
   "outputs": [
    {
     "name": "stdout",
     "output_type": "stream",
     "text": [
      "index(train): [     0      1      3 ... 307508 307509 307510]\n",
      "index(valid): [     2     11     22 ... 307488 307495 307497]\n"
     ]
    }
   ],
   "source": [
    "'''\n",
    "バリデーションのindexeリスト作成\n",
    "分割の割合が一定になるように層化分割を行う（StratifidKFold）\n",
    "'''\n",
    "# 層化分割したバリデーションのindexのリスト作成\n",
    "cv = list(StratifiedKFold(n_splits=5, shuffle=True, random_state=123).split(x_train, y_train))\n",
    "\n",
    "# indexの確認：fold=0のtrainデータ\n",
    "print(\"index(train):\", cv[0][0])\n",
    "\n",
    "# indexの確認：fold=0のvalidデータ\n",
    "print(\"index(valid):\", cv[0][1])"
   ]
  },
  {
   "cell_type": "markdown",
   "id": "39d71ffb",
   "metadata": {
    "papermill": {
     "duration": 0.014359,
     "end_time": "2023-04-30T14:13:59.240770",
     "exception": false,
     "start_time": "2023-04-30T14:13:59.226411",
     "status": "completed"
    },
    "tags": []
   },
   "source": [
    "## 1-4 モデル学習"
   ]
  },
  {
   "cell_type": "code",
   "execution_count": 7,
   "id": "8774e2d7",
   "metadata": {
    "execution": {
     "iopub.execute_input": "2023-04-30T14:13:59.272216Z",
     "iopub.status.busy": "2023-04-30T14:13:59.271673Z",
     "iopub.status.idle": "2023-04-30T14:13:59.466435Z",
     "shell.execute_reply": "2023-04-30T14:13:59.464905Z"
    },
    "papermill": {
     "duration": 0.213844,
     "end_time": "2023-04-30T14:13:59.469199",
     "exception": false,
     "start_time": "2023-04-30T14:13:59.255355",
     "status": "completed"
    },
    "tags": []
   },
   "outputs": [
    {
     "name": "stdout",
     "output_type": "stream",
     "text": [
      "(246008, 120) (246008,) (246008, 1)\n",
      "(61503, 120) (61503,) (61503, 1)\n"
     ]
    }
   ],
   "source": [
    "'''学習データと検証データに分類'''\n",
    "# foldごとのindexのリスト作成\n",
    "cv = list(StratifiedKFold(n_splits=5, shuffle=True, random_state=123).split(x_train, y_train))\n",
    "\n",
    "# 0fold目のindexのリスト取得\n",
    "nfold = 0\n",
    "idx_tr, idx_va = cv[nfold][0], cv[nfold][1]\n",
    "\n",
    "# 学習データと検証データに分離\n",
    "x_tr, y_tr, id_tr = x_train.loc[idx_tr, :], y_train[idx_tr], id_train.loc[idx_tr, :]\n",
    "x_va, y_va, id_va = x_train.loc[idx_va, :], y_train[idx_va], id_train.loc[idx_va, :]\n",
    "print(x_tr.shape, y_tr.shape, id_tr.shape)\n",
    "print(x_va.shape, y_va.shape, id_va.shape)"
   ]
  },
  {
   "cell_type": "code",
   "execution_count": 8,
   "id": "812f34c9",
   "metadata": {
    "execution": {
     "iopub.execute_input": "2023-04-30T14:13:59.500962Z",
     "iopub.status.busy": "2023-04-30T14:13:59.500493Z",
     "iopub.status.idle": "2023-04-30T14:14:27.463756Z",
     "shell.execute_reply": "2023-04-30T14:14:27.462725Z"
    },
    "papermill": {
     "duration": 27.98243,
     "end_time": "2023-04-30T14:14:27.466469",
     "exception": false,
     "start_time": "2023-04-30T14:13:59.484039",
     "status": "completed"
    },
    "tags": []
   },
   "outputs": [
    {
     "name": "stdout",
     "output_type": "stream",
     "text": [
      "[100]\ttraining's auc: 0.782506\tvalid_1's auc: 0.755903\n",
      "[200]\ttraining's auc: 0.808961\tvalid_1's auc: 0.758356\n",
      "[300]\ttraining's auc: 0.829245\tvalid_1's auc: 0.757774\n"
     ]
    }
   ],
   "source": [
    "# モデルの学習\n",
    "params = {\n",
    "    'boosting_type': 'gbdt',\n",
    "    'objective': 'binary', \n",
    "    'metric': 'auc',\n",
    "    'learning_rate': 0.05,\n",
    "    'num_leaves': 32,\n",
    "    'n_estimators': 100000,\n",
    "    \"random_state\": 123,\n",
    "    \"importance_type\": \"gain\",\n",
    "}\n",
    "\n",
    "model = lgb.LGBMClassifier(**params)\n",
    "model.fit(x_tr,\n",
    "          y_tr,\n",
    "          eval_set=[(x_tr, y_tr), (x_va, y_va)],\n",
    "          early_stopping_rounds=100,\n",
    "          verbose=100\n",
    "         )\n",
    "\n",
    "# モデルの保存\n",
    "with open(\"model_lgb_fold0.pickle\", \"wb\") as f:\n",
    "    pickle.dump(model, f, protocol=4)"
   ]
  },
  {
   "cell_type": "code",
   "execution_count": 9,
   "id": "9706a77d",
   "metadata": {
    "execution": {
     "iopub.execute_input": "2023-04-30T14:14:27.499636Z",
     "iopub.status.busy": "2023-04-30T14:14:27.498730Z",
     "iopub.status.idle": "2023-04-30T14:14:30.475519Z",
     "shell.execute_reply": "2023-04-30T14:14:30.473916Z"
    },
    "papermill": {
     "duration": 2.995861,
     "end_time": "2023-04-30T14:14:30.478237",
     "exception": false,
     "start_time": "2023-04-30T14:14:27.482376",
     "status": "completed"
    },
    "tags": []
   },
   "outputs": [
    {
     "name": "stdout",
     "output_type": "stream",
     "text": [
      "[auc] tr:0.8126, va:0.7586\n"
     ]
    }
   ],
   "source": [
    "'''モデル評価'''\n",
    "# 学習データの推論値取得とROC計算\n",
    "y_tr_pred = model.predict_proba(x_tr)[:,1]\n",
    "metric_tr = roc_auc_score(y_tr, y_tr_pred)\n",
    "\n",
    "# 検証データの推論値取得とROC計算\n",
    "y_va_pred = model.predict_proba(x_va)[:,1]\n",
    "metric_va = roc_auc_score(y_va, y_va_pred)\n",
    "\n",
    "# 評価値を入れる変数の作成（最初のfoldのときのみ）\n",
    "metrics = []\n",
    "\n",
    "# 評価値を格納\n",
    "metrics.append([nfold, metric_tr, metric_va])\n",
    "\n",
    "# 結果の表示\n",
    "print(\"[auc] tr:{:.4f}, va:{:.4f}\".format(metric_tr, metric_va))"
   ]
  },
  {
   "cell_type": "code",
   "execution_count": 10,
   "id": "7962efad",
   "metadata": {
    "execution": {
     "iopub.execute_input": "2023-04-30T14:14:30.510279Z",
     "iopub.status.busy": "2023-04-30T14:14:30.509306Z",
     "iopub.status.idle": "2023-04-30T14:14:30.515766Z",
     "shell.execute_reply": "2023-04-30T14:14:30.514666Z"
    },
    "papermill": {
     "duration": 0.025272,
     "end_time": "2023-04-30T14:14:30.518366",
     "exception": false,
     "start_time": "2023-04-30T14:14:30.493094",
     "status": "completed"
    },
    "tags": []
   },
   "outputs": [],
   "source": [
    "'''OOFデータの推定値取得(out of fold)'''\n",
    "#推論値や誤差の分布確認やアンサンブル時のモデルごとの重みを決めるのに有効\n",
    "# oofの予測値を入れる変数の作成\n",
    "train_oof = np.zeros(len(x_train))\n",
    "\n",
    "# validデータのindexに予測値を格納\n",
    "train_oof[idx_va] = y_va_pred"
   ]
  },
  {
   "cell_type": "code",
   "execution_count": 11,
   "id": "7733644a",
   "metadata": {
    "execution": {
     "iopub.execute_input": "2023-04-30T14:14:30.550756Z",
     "iopub.status.busy": "2023-04-30T14:14:30.549748Z",
     "iopub.status.idle": "2023-04-30T14:14:30.565080Z",
     "shell.execute_reply": "2023-04-30T14:14:30.563902Z"
    },
    "papermill": {
     "duration": 0.034288,
     "end_time": "2023-04-30T14:14:30.567577",
     "exception": false,
     "start_time": "2023-04-30T14:14:30.533289",
     "status": "completed"
    },
    "tags": []
   },
   "outputs": [
    {
     "data": {
      "text/html": [
       "<div>\n",
       "<style scoped>\n",
       "    .dataframe tbody tr th:only-of-type {\n",
       "        vertical-align: middle;\n",
       "    }\n",
       "\n",
       "    .dataframe tbody tr th {\n",
       "        vertical-align: top;\n",
       "    }\n",
       "\n",
       "    .dataframe thead th {\n",
       "        text-align: right;\n",
       "    }\n",
       "</style>\n",
       "<table border=\"1\" class=\"dataframe\">\n",
       "  <thead>\n",
       "    <tr style=\"text-align: right;\">\n",
       "      <th></th>\n",
       "      <th>col</th>\n",
       "      <th>imp</th>\n",
       "      <th>nfold</th>\n",
       "    </tr>\n",
       "  </thead>\n",
       "  <tbody>\n",
       "    <tr>\n",
       "      <th>41</th>\n",
       "      <td>EXT_SOURCE_3</td>\n",
       "      <td>66225.020483</td>\n",
       "      <td>0</td>\n",
       "    </tr>\n",
       "    <tr>\n",
       "      <th>40</th>\n",
       "      <td>EXT_SOURCE_2</td>\n",
       "      <td>52568.833805</td>\n",
       "      <td>0</td>\n",
       "    </tr>\n",
       "    <tr>\n",
       "      <th>38</th>\n",
       "      <td>ORGANIZATION_TYPE</td>\n",
       "      <td>20218.523523</td>\n",
       "      <td>0</td>\n",
       "    </tr>\n",
       "    <tr>\n",
       "      <th>39</th>\n",
       "      <td>EXT_SOURCE_1</td>\n",
       "      <td>19776.252288</td>\n",
       "      <td>0</td>\n",
       "    </tr>\n",
       "    <tr>\n",
       "      <th>6</th>\n",
       "      <td>AMT_CREDIT</td>\n",
       "      <td>8111.321247</td>\n",
       "      <td>0</td>\n",
       "    </tr>\n",
       "    <tr>\n",
       "      <th>8</th>\n",
       "      <td>AMT_GOODS_PRICE</td>\n",
       "      <td>7120.960365</td>\n",
       "      <td>0</td>\n",
       "    </tr>\n",
       "    <tr>\n",
       "      <th>15</th>\n",
       "      <td>DAYS_BIRTH</td>\n",
       "      <td>7042.223005</td>\n",
       "      <td>0</td>\n",
       "    </tr>\n",
       "    <tr>\n",
       "      <th>7</th>\n",
       "      <td>AMT_ANNUITY</td>\n",
       "      <td>6992.551795</td>\n",
       "      <td>0</td>\n",
       "    </tr>\n",
       "    <tr>\n",
       "      <th>16</th>\n",
       "      <td>DAYS_EMPLOYED</td>\n",
       "      <td>5236.514120</td>\n",
       "      <td>0</td>\n",
       "    </tr>\n",
       "    <tr>\n",
       "      <th>26</th>\n",
       "      <td>OCCUPATION_TYPE</td>\n",
       "      <td>4376.651746</td>\n",
       "      <td>0</td>\n",
       "    </tr>\n",
       "  </tbody>\n",
       "</table>\n",
       "</div>"
      ],
      "text/plain": [
       "                  col           imp  nfold\n",
       "41       EXT_SOURCE_3  66225.020483      0\n",
       "40       EXT_SOURCE_2  52568.833805      0\n",
       "38  ORGANIZATION_TYPE  20218.523523      0\n",
       "39       EXT_SOURCE_1  19776.252288      0\n",
       "6          AMT_CREDIT   8111.321247      0\n",
       "8     AMT_GOODS_PRICE   7120.960365      0\n",
       "15         DAYS_BIRTH   7042.223005      0\n",
       "7         AMT_ANNUITY   6992.551795      0\n",
       "16      DAYS_EMPLOYED   5236.514120      0\n",
       "26    OCCUPATION_TYPE   4376.651746      0"
      ]
     },
     "metadata": {},
     "output_type": "display_data"
    }
   ],
   "source": [
    "'''説明変数の重要度取得（学習したモデルから説明変数の重要度を取得）'''\n",
    "# 重要度の取得\n",
    "imp_fold = pd.DataFrame({\"col\":x_train.columns, \"imp\":model.feature_importances_, \"nfold\":nfold})\n",
    "# 確認（重要度の上位10個）\n",
    "display(imp_fold.sort_values(\"imp\", ascending=False)[:10])\n",
    "\n",
    "# 重要度を格納する5fold用データフレームの作成\n",
    "imp = pd.DataFrame()\n",
    "# imp_foldを5fold用データフレームに結合\n",
    "imp = pd.concat([imp, imp_fold])"
   ]
  },
  {
   "cell_type": "code",
   "execution_count": 12,
   "id": "f9fc2b8c",
   "metadata": {
    "execution": {
     "iopub.execute_input": "2023-04-30T14:14:30.600466Z",
     "iopub.status.busy": "2023-04-30T14:14:30.599800Z",
     "iopub.status.idle": "2023-04-30T14:14:30.672506Z",
     "shell.execute_reply": "2023-04-30T14:14:30.670888Z"
    },
    "papermill": {
     "duration": 0.092707,
     "end_time": "2023-04-30T14:14:30.675474",
     "exception": false,
     "start_time": "2023-04-30T14:14:30.582767",
     "status": "completed"
    },
    "tags": []
   },
   "outputs": [
    {
     "name": "stdout",
     "output_type": "stream",
     "text": [
      "[[0.         0.81257796 0.75859528]]\n",
      "[cv] tr:0.8126+-0.0000, va:0.7586+-0.0000\n",
      "[oof] 0.5103\n"
     ]
    }
   ],
   "source": [
    "'''モデル評価（全foldのサマリ）'''\n",
    "# リスト型をarray型に変換\n",
    "metrics = np.array(metrics)\n",
    "print(metrics)\n",
    "\n",
    "# 学習/検証データの評価値の平均値と標準偏差を算出\n",
    "print(\"[cv] tr:{:.4f}+-{:.4f}, va:{:.4f}+-{:.4f}\".format(\n",
    "    metrics[:,1].mean(), metrics[:,1].std(),\n",
    "    metrics[:,2].mean(), metrics[:,2].std(),\n",
    "))\n",
    "\n",
    "# oofの評価値を算出\n",
    "print(\"[oof] {:.4f}\".format(\n",
    "    roc_auc_score(y_train, train_oof)\n",
    "))"
   ]
  },
  {
   "cell_type": "code",
   "execution_count": 13,
   "id": "e157524e",
   "metadata": {
    "execution": {
     "iopub.execute_input": "2023-04-30T14:14:30.708310Z",
     "iopub.status.busy": "2023-04-30T14:14:30.707848Z",
     "iopub.status.idle": "2023-04-30T14:14:30.722564Z",
     "shell.execute_reply": "2023-04-30T14:14:30.721095Z"
    },
    "papermill": {
     "duration": 0.034323,
     "end_time": "2023-04-30T14:14:30.725311",
     "exception": false,
     "start_time": "2023-04-30T14:14:30.690988",
     "status": "completed"
    },
    "tags": []
   },
   "outputs": [
    {
     "data": {
      "text/html": [
       "<div>\n",
       "<style scoped>\n",
       "    .dataframe tbody tr th:only-of-type {\n",
       "        vertical-align: middle;\n",
       "    }\n",
       "\n",
       "    .dataframe tbody tr th {\n",
       "        vertical-align: top;\n",
       "    }\n",
       "\n",
       "    .dataframe thead th {\n",
       "        text-align: right;\n",
       "    }\n",
       "</style>\n",
       "<table border=\"1\" class=\"dataframe\">\n",
       "  <thead>\n",
       "    <tr style=\"text-align: right;\">\n",
       "      <th></th>\n",
       "      <th>SK_ID_CURR</th>\n",
       "      <th>true</th>\n",
       "      <th>pred</th>\n",
       "    </tr>\n",
       "  </thead>\n",
       "  <tbody>\n",
       "    <tr>\n",
       "      <th>0</th>\n",
       "      <td>100002</td>\n",
       "      <td>1</td>\n",
       "      <td>0.000000</td>\n",
       "    </tr>\n",
       "    <tr>\n",
       "      <th>1</th>\n",
       "      <td>100003</td>\n",
       "      <td>0</td>\n",
       "      <td>0.000000</td>\n",
       "    </tr>\n",
       "    <tr>\n",
       "      <th>2</th>\n",
       "      <td>100004</td>\n",
       "      <td>0</td>\n",
       "      <td>0.031866</td>\n",
       "    </tr>\n",
       "    <tr>\n",
       "      <th>3</th>\n",
       "      <td>100006</td>\n",
       "      <td>0</td>\n",
       "      <td>0.000000</td>\n",
       "    </tr>\n",
       "    <tr>\n",
       "      <th>4</th>\n",
       "      <td>100007</td>\n",
       "      <td>0</td>\n",
       "      <td>0.000000</td>\n",
       "    </tr>\n",
       "  </tbody>\n",
       "</table>\n",
       "</div>"
      ],
      "text/plain": [
       "   SK_ID_CURR  true      pred\n",
       "0      100002     1  0.000000\n",
       "1      100003     0  0.000000\n",
       "2      100004     0  0.031866\n",
       "3      100006     0  0.000000\n",
       "4      100007     0  0.000000"
      ]
     },
     "execution_count": 13,
     "metadata": {},
     "output_type": "execute_result"
    }
   ],
   "source": [
    "#OOFデータの推論値取得\n",
    "train_oof = pd.concat([\n",
    "    id_train,\n",
    "    pd.DataFrame({\"true\": y_train, \"pred\": train_oof}),\n",
    "], axis=1)\n",
    "train_oof.head()"
   ]
  },
  {
   "cell_type": "code",
   "execution_count": 14,
   "id": "c671f2e1",
   "metadata": {
    "execution": {
     "iopub.execute_input": "2023-04-30T14:14:30.759052Z",
     "iopub.status.busy": "2023-04-30T14:14:30.758154Z",
     "iopub.status.idle": "2023-04-30T14:14:30.779838Z",
     "shell.execute_reply": "2023-04-30T14:14:30.778421Z"
    },
    "papermill": {
     "duration": 0.041062,
     "end_time": "2023-04-30T14:14:30.782307",
     "exception": false,
     "start_time": "2023-04-30T14:14:30.741245",
     "status": "completed"
    },
    "tags": []
   },
   "outputs": [
    {
     "data": {
      "text/html": [
       "<div>\n",
       "<style scoped>\n",
       "    .dataframe tbody tr th:only-of-type {\n",
       "        vertical-align: middle;\n",
       "    }\n",
       "\n",
       "    .dataframe tbody tr th {\n",
       "        vertical-align: top;\n",
       "    }\n",
       "\n",
       "    .dataframe thead th {\n",
       "        text-align: right;\n",
       "    }\n",
       "</style>\n",
       "<table border=\"1\" class=\"dataframe\">\n",
       "  <thead>\n",
       "    <tr style=\"text-align: right;\">\n",
       "      <th></th>\n",
       "      <th>col</th>\n",
       "      <th>imp</th>\n",
       "      <th>imp_std</th>\n",
       "    </tr>\n",
       "  </thead>\n",
       "  <tbody>\n",
       "    <tr>\n",
       "      <th>0</th>\n",
       "      <td>AMT_ANNUITY</td>\n",
       "      <td>6992.551795</td>\n",
       "      <td>NaN</td>\n",
       "    </tr>\n",
       "    <tr>\n",
       "      <th>1</th>\n",
       "      <td>AMT_CREDIT</td>\n",
       "      <td>8111.321247</td>\n",
       "      <td>NaN</td>\n",
       "    </tr>\n",
       "    <tr>\n",
       "      <th>2</th>\n",
       "      <td>AMT_GOODS_PRICE</td>\n",
       "      <td>7120.960365</td>\n",
       "      <td>NaN</td>\n",
       "    </tr>\n",
       "    <tr>\n",
       "      <th>3</th>\n",
       "      <td>AMT_INCOME_TOTAL</td>\n",
       "      <td>1595.740609</td>\n",
       "      <td>NaN</td>\n",
       "    </tr>\n",
       "    <tr>\n",
       "      <th>4</th>\n",
       "      <td>AMT_REQ_CREDIT_BUREAU_DAY</td>\n",
       "      <td>128.842901</td>\n",
       "      <td>NaN</td>\n",
       "    </tr>\n",
       "  </tbody>\n",
       "</table>\n",
       "</div>"
      ],
      "text/plain": [
       "                         col          imp  imp_std\n",
       "0                AMT_ANNUITY  6992.551795      NaN\n",
       "1                 AMT_CREDIT  8111.321247      NaN\n",
       "2            AMT_GOODS_PRICE  7120.960365      NaN\n",
       "3           AMT_INCOME_TOTAL  1595.740609      NaN\n",
       "4  AMT_REQ_CREDIT_BUREAU_DAY   128.842901      NaN"
      ]
     },
     "execution_count": 14,
     "metadata": {},
     "output_type": "execute_result"
    }
   ],
   "source": [
    "#説明変数の重要度取得\n",
    "imp = imp.groupby(\"col\")[\"imp\"].agg([\"mean\", \"std\"]).reset_index(drop=False)\n",
    "imp.columns = [\"col\", \"imp\", \"imp_std\"]\n",
    "imp.head()"
   ]
  },
  {
   "cell_type": "code",
   "execution_count": 15,
   "id": "80b795ae",
   "metadata": {
    "execution": {
     "iopub.execute_input": "2023-04-30T14:14:30.816835Z",
     "iopub.status.busy": "2023-04-30T14:14:30.816099Z",
     "iopub.status.idle": "2023-04-30T14:14:30.834338Z",
     "shell.execute_reply": "2023-04-30T14:14:30.832877Z"
    },
    "papermill": {
     "duration": 0.038613,
     "end_time": "2023-04-30T14:14:30.837021",
     "exception": false,
     "start_time": "2023-04-30T14:14:30.798408",
     "status": "completed"
    },
    "tags": []
   },
   "outputs": [],
   "source": [
    "#モデル学習\n",
    "params = {\n",
    "    'boosting_type': 'gbdt',\n",
    "    'objective': 'binary', \n",
    "    'metric': 'auc',\n",
    "    'learning_rate': 0.05,\n",
    "    'num_leaves': 32,\n",
    "    'n_estimators': 100000,\n",
    "    \"random_state\": 123,\n",
    "    \"importance_type\": \"gain\",\n",
    "}\n",
    "\n",
    "#学習関数の定義\n",
    "def train_lgb(input_x,\n",
    "              input_y,\n",
    "              input_id,\n",
    "              params,\n",
    "              list_nfold=[0,1,2,3,4],\n",
    "              n_splits=5,\n",
    "             ):\n",
    "    train_oof = np.zeros(len(input_x))\n",
    "    metrics = []\n",
    "    imp = pd.DataFrame()\n",
    "\n",
    "    # cross-validation\n",
    "    cv = list(StratifiedKFold(n_splits=n_splits, shuffle=True, random_state=123).split(input_x, input_y))\n",
    "    for nfold in list_nfold:\n",
    "        print(\"-\"*20, nfold, \"-\"*20)\n",
    "        \n",
    "        # make dataset\n",
    "        idx_tr, idx_va = cv[nfold][0], cv[nfold][1]\n",
    "        x_tr, y_tr, id_tr = input_x.loc[idx_tr, :], input_y[idx_tr], input_id.loc[idx_tr, :]\n",
    "        x_va, y_va, id_va = input_x.loc[idx_va, :], input_y[idx_va], input_id.loc[idx_va, :]\n",
    "        print(x_tr.shape, x_va.shape)\n",
    "        \n",
    "        # train\n",
    "        model = lgb.LGBMClassifier(**params)\n",
    "        model.fit(x_tr,\n",
    "                  y_tr,\n",
    "                  eval_set=[(x_tr, y_tr), (x_va, y_va)],\n",
    "                  early_stopping_rounds=100,\n",
    "                  verbose=100\n",
    "                 )\n",
    "        fname_lgb = \"model_lgb_fold{}.pickle\".format(nfold)\n",
    "        with open(fname_lgb, \"wb\") as f:\n",
    "            pickle.dump(model, f, protocol=4)\n",
    "        \n",
    "        # evaluate\n",
    "        y_tr_pred = model.predict_proba(x_tr)[:,1]\n",
    "        y_va_pred = model.predict_proba(x_va)[:,1]\n",
    "        metric_tr = roc_auc_score(y_tr, y_tr_pred)\n",
    "        metric_va = roc_auc_score(y_va, y_va_pred)\n",
    "        metrics.append([nfold, metric_tr, metric_va])\n",
    "        print(\"[auc] tr:{:.4f}, va:{:.4f}\".format(metric_tr, metric_va))\n",
    "        \n",
    "        # oof\n",
    "        train_oof[idx_va] = y_va_pred\n",
    "        \n",
    "        # imp\n",
    "        _imp = pd.DataFrame({\"col\":input_x.columns, \"imp\":model.feature_importances_, \"nfold\":nfold})\n",
    "        imp = pd.concat([imp, _imp])\n",
    "      \n",
    "    print(\"-\"*20, \"result\", \"-\"*20)\n",
    "    # metric\n",
    "    metrics = np.array(metrics)\n",
    "    print(metrics)\n",
    "    print(\"[cv] tr:{:.4f}+-{:.4f}, va:{:.4f}+-{:.4f}\".format(\n",
    "        metrics[:,1].mean(), metrics[:,1].std(),\n",
    "        metrics[:,2].mean(), metrics[:,2].std(),\n",
    "    ))\n",
    "    print(\"[oof] {:.4f}\".format(\n",
    "        roc_auc_score(input_y, train_oof)\n",
    "    ))\n",
    "    \n",
    "    # oof\n",
    "    train_oof = pd.concat([\n",
    "        input_id,\n",
    "        pd.DataFrame({\"pred\":train_oof})\n",
    "    ], axis=1)\n",
    "    \n",
    "    # importance\n",
    "    imp = imp.groupby(\"col\")[\"imp\"].agg([\"mean\", \"std\"]).reset_index(drop=False)\n",
    "    imp.columns = [\"col\", \"imp\", \"imp_std\"]\n",
    "    \n",
    "    return train_oof, imp, metrics"
   ]
  },
  {
   "cell_type": "code",
   "execution_count": 16,
   "id": "f63f964e",
   "metadata": {
    "execution": {
     "iopub.execute_input": "2023-04-30T14:14:30.870886Z",
     "iopub.status.busy": "2023-04-30T14:14:30.870154Z",
     "iopub.status.idle": "2023-04-30T14:17:20.471506Z",
     "shell.execute_reply": "2023-04-30T14:17:20.469730Z"
    },
    "papermill": {
     "duration": 169.621967,
     "end_time": "2023-04-30T14:17:20.474523",
     "exception": false,
     "start_time": "2023-04-30T14:14:30.852556",
     "status": "completed"
    },
    "tags": []
   },
   "outputs": [
    {
     "name": "stdout",
     "output_type": "stream",
     "text": [
      "-------------------- 0 --------------------\n",
      "(246008, 120) (61503, 120)\n",
      "[100]\ttraining's auc: 0.782506\tvalid_1's auc: 0.755903\n",
      "[200]\ttraining's auc: 0.808961\tvalid_1's auc: 0.758356\n",
      "[300]\ttraining's auc: 0.829245\tvalid_1's auc: 0.757774\n",
      "[auc] tr:0.8126, va:0.7586\n",
      "-------------------- 1 --------------------\n",
      "(246009, 120) (61502, 120)\n",
      "[100]\ttraining's auc: 0.782531\tvalid_1's auc: 0.756239\n",
      "[200]\ttraining's auc: 0.808862\tvalid_1's auc: 0.758924\n",
      "[300]\ttraining's auc: 0.829564\tvalid_1's auc: 0.758779\n",
      "[auc] tr:0.8170, va:0.7590\n",
      "-------------------- 2 --------------------\n",
      "(246009, 120) (61502, 120)\n",
      "[100]\ttraining's auc: 0.782101\tvalid_1's auc: 0.758221\n",
      "[200]\ttraining's auc: 0.809587\tvalid_1's auc: 0.760104\n",
      "[300]\ttraining's auc: 0.830474\tvalid_1's auc: 0.760275\n",
      "[400]\ttraining's auc: 0.847388\tvalid_1's auc: 0.759875\n",
      "[auc] tr:0.8362, va:0.7604\n",
      "-------------------- 3 --------------------\n",
      "(246009, 120) (61502, 120)\n",
      "[100]\ttraining's auc: 0.783853\tvalid_1's auc: 0.754567\n",
      "[200]\ttraining's auc: 0.811501\tvalid_1's auc: 0.75659\n",
      "[300]\ttraining's auc: 0.83224\tvalid_1's auc: 0.756854\n",
      "[auc] tr:0.8244, va:0.7571\n",
      "-------------------- 4 --------------------\n",
      "(246009, 120) (61502, 120)\n",
      "[100]\ttraining's auc: 0.783715\tvalid_1's auc: 0.748435\n",
      "[200]\ttraining's auc: 0.81071\tvalid_1's auc: 0.751348\n",
      "[300]\ttraining's auc: 0.830488\tvalid_1's auc: 0.751241\n",
      "[auc] tr:0.8113, va:0.7514\n",
      "-------------------- result --------------------\n",
      "[[0.         0.81257796 0.75859528]\n",
      " [1.         0.8169515  0.7590332 ]\n",
      " [2.         0.83620918 0.7603778 ]\n",
      " [3.         0.82436296 0.7571206 ]\n",
      " [4.         0.81133335 0.75141465]]\n",
      "[cv] tr:0.8203+-0.0092, va:0.7573+-0.0031\n",
      "[oof] 0.7573\n"
     ]
    }
   ],
   "source": [
    "# ハイパーパラメータの設定\n",
    "params = {\n",
    "    'boosting_type': 'gbdt',\n",
    "    'objective': 'binary', \n",
    "    'metric': 'auc',\n",
    "    'learning_rate': 0.05,\n",
    "    'num_leaves': 32,\n",
    "    'n_estimators': 100000,\n",
    "    \"random_state\": 123,\n",
    "    \"importance_type\": \"gain\",\n",
    "}\n",
    "\n",
    "# 学習の実行\n",
    "train_oof, imp, metrics = train_lgb(x_train,\n",
    "                                    y_train,\n",
    "                                    id_train,\n",
    "                                    params,\n",
    "                                    list_nfold=[0,1,2,3,4],\n",
    "                                    n_splits=5,\n",
    "                                   )"
   ]
  },
  {
   "cell_type": "code",
   "execution_count": 17,
   "id": "6b901aa0",
   "metadata": {
    "execution": {
     "iopub.execute_input": "2023-04-30T14:17:20.512463Z",
     "iopub.status.busy": "2023-04-30T14:17:20.511956Z",
     "iopub.status.idle": "2023-04-30T14:17:20.527297Z",
     "shell.execute_reply": "2023-04-30T14:17:20.525813Z"
    },
    "papermill": {
     "duration": 0.03815,
     "end_time": "2023-04-30T14:17:20.530030",
     "exception": false,
     "start_time": "2023-04-30T14:17:20.491880",
     "status": "completed"
    },
    "tags": []
   },
   "outputs": [
    {
     "data": {
      "text/html": [
       "<div>\n",
       "<style scoped>\n",
       "    .dataframe tbody tr th:only-of-type {\n",
       "        vertical-align: middle;\n",
       "    }\n",
       "\n",
       "    .dataframe tbody tr th {\n",
       "        vertical-align: top;\n",
       "    }\n",
       "\n",
       "    .dataframe thead th {\n",
       "        text-align: right;\n",
       "    }\n",
       "</style>\n",
       "<table border=\"1\" class=\"dataframe\">\n",
       "  <thead>\n",
       "    <tr style=\"text-align: right;\">\n",
       "      <th></th>\n",
       "      <th>col</th>\n",
       "      <th>imp</th>\n",
       "      <th>imp_std</th>\n",
       "    </tr>\n",
       "  </thead>\n",
       "  <tbody>\n",
       "    <tr>\n",
       "      <th>38</th>\n",
       "      <td>EXT_SOURCE_3</td>\n",
       "      <td>65353.907478</td>\n",
       "      <td>1558.201212</td>\n",
       "    </tr>\n",
       "    <tr>\n",
       "      <th>37</th>\n",
       "      <td>EXT_SOURCE_2</td>\n",
       "      <td>54545.388309</td>\n",
       "      <td>1251.798934</td>\n",
       "    </tr>\n",
       "    <tr>\n",
       "      <th>102</th>\n",
       "      <td>ORGANIZATION_TYPE</td>\n",
       "      <td>21441.917474</td>\n",
       "      <td>1450.246190</td>\n",
       "    </tr>\n",
       "    <tr>\n",
       "      <th>36</th>\n",
       "      <td>EXT_SOURCE_1</td>\n",
       "      <td>20051.934248</td>\n",
       "      <td>685.852224</td>\n",
       "    </tr>\n",
       "    <tr>\n",
       "      <th>1</th>\n",
       "      <td>AMT_CREDIT</td>\n",
       "      <td>8263.228728</td>\n",
       "      <td>410.384434</td>\n",
       "    </tr>\n",
       "    <tr>\n",
       "      <th>22</th>\n",
       "      <td>DAYS_BIRTH</td>\n",
       "      <td>7645.589110</td>\n",
       "      <td>689.458833</td>\n",
       "    </tr>\n",
       "    <tr>\n",
       "      <th>2</th>\n",
       "      <td>AMT_GOODS_PRICE</td>\n",
       "      <td>7263.054566</td>\n",
       "      <td>405.837031</td>\n",
       "    </tr>\n",
       "    <tr>\n",
       "      <th>0</th>\n",
       "      <td>AMT_ANNUITY</td>\n",
       "      <td>6762.953640</td>\n",
       "      <td>479.302045</td>\n",
       "    </tr>\n",
       "    <tr>\n",
       "      <th>23</th>\n",
       "      <td>DAYS_EMPLOYED</td>\n",
       "      <td>5810.288375</td>\n",
       "      <td>552.937730</td>\n",
       "    </tr>\n",
       "    <tr>\n",
       "      <th>101</th>\n",
       "      <td>OCCUPATION_TYPE</td>\n",
       "      <td>5502.675859</td>\n",
       "      <td>831.872392</td>\n",
       "    </tr>\n",
       "  </tbody>\n",
       "</table>\n",
       "</div>"
      ],
      "text/plain": [
       "                   col           imp      imp_std\n",
       "38        EXT_SOURCE_3  65353.907478  1558.201212\n",
       "37        EXT_SOURCE_2  54545.388309  1251.798934\n",
       "102  ORGANIZATION_TYPE  21441.917474  1450.246190\n",
       "36        EXT_SOURCE_1  20051.934248   685.852224\n",
       "1           AMT_CREDIT   8263.228728   410.384434\n",
       "22          DAYS_BIRTH   7645.589110   689.458833\n",
       "2      AMT_GOODS_PRICE   7263.054566   405.837031\n",
       "0          AMT_ANNUITY   6762.953640   479.302045\n",
       "23       DAYS_EMPLOYED   5810.288375   552.937730\n",
       "101    OCCUPATION_TYPE   5502.675859   831.872392"
      ]
     },
     "execution_count": 17,
     "metadata": {},
     "output_type": "execute_result"
    }
   ],
   "source": [
    "#説明変数の重要度の確認\n",
    "imp.sort_values(\"imp\", ascending=False)[:10]"
   ]
  },
  {
   "cell_type": "markdown",
   "id": "97186ba9",
   "metadata": {
    "papermill": {
     "duration": 0.016991,
     "end_time": "2023-04-30T14:17:20.564905",
     "exception": false,
     "start_time": "2023-04-30T14:17:20.547914",
     "status": "completed"
    },
    "tags": []
   },
   "source": [
    "## 1-5 モデル推論"
   ]
  },
  {
   "cell_type": "code",
   "execution_count": 18,
   "id": "6a8a0999",
   "metadata": {
    "execution": {
     "iopub.execute_input": "2023-04-30T14:17:20.601913Z",
     "iopub.status.busy": "2023-04-30T14:17:20.601471Z",
     "iopub.status.idle": "2023-04-30T14:17:22.158693Z",
     "shell.execute_reply": "2023-04-30T14:17:22.157035Z"
    },
    "papermill": {
     "duration": 1.579,
     "end_time": "2023-04-30T14:17:22.161467",
     "exception": false,
     "start_time": "2023-04-30T14:17:20.582467",
     "status": "completed"
    },
    "tags": []
   },
   "outputs": [
    {
     "name": "stdout",
     "output_type": "stream",
     "text": [
      "Memory usage of dataframe is 45.00 MB\n",
      "Memory usage after optimization is: 14.60 MB\n",
      "Decreased by 67.6%\n"
     ]
    }
   ],
   "source": [
    "'''推論用データセットの作成'''\n",
    "# ファイルの読み込み\n",
    "application_test = pd.read_csv(\"../input/home-credit-default-risk/application_test.csv\")\n",
    "application_test = reduce_mem_usage(application_test)\n",
    "\n",
    "# データセットの作成\n",
    "x_test = application_test.drop(columns=[\"SK_ID_CURR\" ])\n",
    "id_test = application_test[[\"SK_ID_CURR\"]]\n",
    "\n",
    "# カテゴリ変数をcategory型に変換\n",
    "for col in x_test.columns:\n",
    "    if x_test[col].dtype==\"O\":\n",
    "        x_test[col] = x_test[col].astype(\"category\")"
   ]
  },
  {
   "cell_type": "code",
   "execution_count": 19,
   "id": "8bd08095",
   "metadata": {
    "execution": {
     "iopub.execute_input": "2023-04-30T14:17:22.199665Z",
     "iopub.status.busy": "2023-04-30T14:17:22.199222Z",
     "iopub.status.idle": "2023-04-30T14:17:22.214459Z",
     "shell.execute_reply": "2023-04-30T14:17:22.212823Z"
    },
    "papermill": {
     "duration": 0.038237,
     "end_time": "2023-04-30T14:17:22.217623",
     "exception": false,
     "start_time": "2023-04-30T14:17:22.179386",
     "status": "completed"
    },
    "tags": []
   },
   "outputs": [],
   "source": [
    "#学習済みモデル読み込み\n",
    "with open(\"model_lgb_fold0.pickle\", \"rb\") as f:\n",
    "    model = pickle.load(f)"
   ]
  },
  {
   "cell_type": "code",
   "execution_count": 20,
   "id": "b09aea42",
   "metadata": {
    "execution": {
     "iopub.execute_input": "2023-04-30T14:17:22.255059Z",
     "iopub.status.busy": "2023-04-30T14:17:22.254614Z",
     "iopub.status.idle": "2023-04-30T14:17:22.772806Z",
     "shell.execute_reply": "2023-04-30T14:17:22.771703Z"
    },
    "papermill": {
     "duration": 0.54054,
     "end_time": "2023-04-30T14:17:22.775630",
     "exception": false,
     "start_time": "2023-04-30T14:17:22.235090",
     "status": "completed"
    },
    "tags": []
   },
   "outputs": [],
   "source": [
    "'''モデルを用いた推論'''\n",
    "# 推論\n",
    "test_pred_fold = model.predict_proba(x_test)[:,1]\n",
    "\n",
    "# 推論値を格納する変数を作成\n",
    "test_pred = np.zeros((len(x_test), 5))\n",
    "\n",
    "# 1fold目の予測値を格納\n",
    "test_pred[:, 0] = test_pred_fold"
   ]
  },
  {
   "cell_type": "code",
   "execution_count": 21,
   "id": "9947d098",
   "metadata": {
    "execution": {
     "iopub.execute_input": "2023-04-30T14:17:22.813570Z",
     "iopub.status.busy": "2023-04-30T14:17:22.812725Z",
     "iopub.status.idle": "2023-04-30T14:17:22.828445Z",
     "shell.execute_reply": "2023-04-30T14:17:22.827048Z"
    },
    "papermill": {
     "duration": 0.038047,
     "end_time": "2023-04-30T14:17:22.831101",
     "exception": false,
     "start_time": "2023-04-30T14:17:22.793054",
     "status": "completed"
    },
    "tags": []
   },
   "outputs": [
    {
     "data": {
      "text/html": [
       "<div>\n",
       "<style scoped>\n",
       "    .dataframe tbody tr th:only-of-type {\n",
       "        vertical-align: middle;\n",
       "    }\n",
       "\n",
       "    .dataframe tbody tr th {\n",
       "        vertical-align: top;\n",
       "    }\n",
       "\n",
       "    .dataframe thead th {\n",
       "        text-align: right;\n",
       "    }\n",
       "</style>\n",
       "<table border=\"1\" class=\"dataframe\">\n",
       "  <thead>\n",
       "    <tr style=\"text-align: right;\">\n",
       "      <th></th>\n",
       "      <th>SK_ID_CURR</th>\n",
       "      <th>pred</th>\n",
       "    </tr>\n",
       "  </thead>\n",
       "  <tbody>\n",
       "    <tr>\n",
       "      <th>0</th>\n",
       "      <td>100001</td>\n",
       "      <td>0.006572</td>\n",
       "    </tr>\n",
       "    <tr>\n",
       "      <th>1</th>\n",
       "      <td>100005</td>\n",
       "      <td>0.023874</td>\n",
       "    </tr>\n",
       "    <tr>\n",
       "      <th>2</th>\n",
       "      <td>100013</td>\n",
       "      <td>0.004233</td>\n",
       "    </tr>\n",
       "    <tr>\n",
       "      <th>3</th>\n",
       "      <td>100028</td>\n",
       "      <td>0.008966</td>\n",
       "    </tr>\n",
       "    <tr>\n",
       "      <th>4</th>\n",
       "      <td>100038</td>\n",
       "      <td>0.030794</td>\n",
       "    </tr>\n",
       "  </tbody>\n",
       "</table>\n",
       "</div>"
      ],
      "text/plain": [
       "   SK_ID_CURR      pred\n",
       "0      100001  0.006572\n",
       "1      100005  0.023874\n",
       "2      100013  0.004233\n",
       "3      100028  0.008966\n",
       "4      100038  0.030794"
      ]
     },
     "execution_count": 21,
     "metadata": {},
     "output_type": "execute_result"
    }
   ],
   "source": [
    "'''推論用データセットの推論値算出'''\n",
    "# 各foldの推論値の平均値を算出\n",
    "test_pred_mean = test_pred.mean(axis=1)\n",
    "\n",
    "# 推論値のデータフレームを作成\n",
    "df_test_pred = pd.concat([\n",
    "        id_test,\n",
    "        pd.DataFrame({\"pred\": test_pred_mean}),\n",
    "    ], axis=1)\n",
    "df_test_pred.head()"
   ]
  },
  {
   "cell_type": "code",
   "execution_count": 22,
   "id": "18d5832d",
   "metadata": {
    "execution": {
     "iopub.execute_input": "2023-04-30T14:17:22.868783Z",
     "iopub.status.busy": "2023-04-30T14:17:22.868059Z",
     "iopub.status.idle": "2023-04-30T14:17:22.876807Z",
     "shell.execute_reply": "2023-04-30T14:17:22.875788Z"
    },
    "papermill": {
     "duration": 0.030673,
     "end_time": "2023-04-30T14:17:22.879389",
     "exception": false,
     "start_time": "2023-04-30T14:17:22.848716",
     "status": "completed"
    },
    "tags": []
   },
   "outputs": [],
   "source": [
    "#推論関数の定義\n",
    "def predict_lgb(input_x,\n",
    "                input_id,\n",
    "                list_nfold=[0,1,2,3,4],\n",
    "               ):\n",
    "    pred = np.zeros((len(input_x), len(list_nfold)))\n",
    "    for nfold in list_nfold:\n",
    "        print(\"-\"*20, nfold, \"-\"*20)\n",
    "        fname_lgb = \"model_lgb_fold{}.pickle\".format(nfold)\n",
    "        with open(fname_lgb, \"rb\") as f:\n",
    "            model = pickle.load(f)\n",
    "        pred[:, nfold] = model.predict_proba(input_x)[:,1]\n",
    "    \n",
    "    pred = pd.concat([\n",
    "        input_id,\n",
    "        pd.DataFrame({\"pred\": pred.mean(axis=1)}),\n",
    "    ], axis=1)\n",
    "    \n",
    "    print(\"Done.\")\n",
    "    \n",
    "    return pred"
   ]
  },
  {
   "cell_type": "code",
   "execution_count": 23,
   "id": "9473ac44",
   "metadata": {
    "execution": {
     "iopub.execute_input": "2023-04-30T14:17:22.917037Z",
     "iopub.status.busy": "2023-04-30T14:17:22.916283Z",
     "iopub.status.idle": "2023-04-30T14:17:25.616110Z",
     "shell.execute_reply": "2023-04-30T14:17:25.614646Z"
    },
    "papermill": {
     "duration": 2.721987,
     "end_time": "2023-04-30T14:17:25.618855",
     "exception": false,
     "start_time": "2023-04-30T14:17:22.896868",
     "status": "completed"
    },
    "tags": []
   },
   "outputs": [
    {
     "name": "stdout",
     "output_type": "stream",
     "text": [
      "-------------------- 0 --------------------\n",
      "-------------------- 1 --------------------\n",
      "-------------------- 2 --------------------\n",
      "-------------------- 3 --------------------\n",
      "-------------------- 4 --------------------\n",
      "Done.\n"
     ]
    }
   ],
   "source": [
    "#推論処理の実行\n",
    "test_pred = predict_lgb(x_test,\n",
    "                        id_test,\n",
    "                        list_nfold=[0,1,2,3,4],\n",
    "                       )"
   ]
  },
  {
   "cell_type": "code",
   "execution_count": 24,
   "id": "6500f089",
   "metadata": {
    "execution": {
     "iopub.execute_input": "2023-04-30T14:17:25.656529Z",
     "iopub.status.busy": "2023-04-30T14:17:25.656126Z",
     "iopub.status.idle": "2023-04-30T14:17:25.789918Z",
     "shell.execute_reply": "2023-04-30T14:17:25.788675Z"
    },
    "papermill": {
     "duration": 0.15599,
     "end_time": "2023-04-30T14:17:25.792783",
     "exception": false,
     "start_time": "2023-04-30T14:17:25.636793",
     "status": "completed"
    },
    "tags": []
   },
   "outputs": [
    {
     "name": "stdout",
     "output_type": "stream",
     "text": [
      "(48744, 2)\n"
     ]
    },
    {
     "data": {
      "text/html": [
       "<div>\n",
       "<style scoped>\n",
       "    .dataframe tbody tr th:only-of-type {\n",
       "        vertical-align: middle;\n",
       "    }\n",
       "\n",
       "    .dataframe tbody tr th {\n",
       "        vertical-align: top;\n",
       "    }\n",
       "\n",
       "    .dataframe thead th {\n",
       "        text-align: right;\n",
       "    }\n",
       "</style>\n",
       "<table border=\"1\" class=\"dataframe\">\n",
       "  <thead>\n",
       "    <tr style=\"text-align: right;\">\n",
       "      <th></th>\n",
       "      <th>SK_ID_CURR</th>\n",
       "      <th>TARGET</th>\n",
       "    </tr>\n",
       "  </thead>\n",
       "  <tbody>\n",
       "    <tr>\n",
       "      <th>0</th>\n",
       "      <td>100001</td>\n",
       "      <td>0.041810</td>\n",
       "    </tr>\n",
       "    <tr>\n",
       "      <th>1</th>\n",
       "      <td>100005</td>\n",
       "      <td>0.126400</td>\n",
       "    </tr>\n",
       "    <tr>\n",
       "      <th>2</th>\n",
       "      <td>100013</td>\n",
       "      <td>0.022495</td>\n",
       "    </tr>\n",
       "    <tr>\n",
       "      <th>3</th>\n",
       "      <td>100028</td>\n",
       "      <td>0.039680</td>\n",
       "    </tr>\n",
       "    <tr>\n",
       "      <th>4</th>\n",
       "      <td>100038</td>\n",
       "      <td>0.156628</td>\n",
       "    </tr>\n",
       "  </tbody>\n",
       "</table>\n",
       "</div>"
      ],
      "text/plain": [
       "   SK_ID_CURR    TARGET\n",
       "0      100001  0.041810\n",
       "1      100005  0.126400\n",
       "2      100013  0.022495\n",
       "3      100028  0.039680\n",
       "4      100038  0.156628"
      ]
     },
     "metadata": {},
     "output_type": "display_data"
    }
   ],
   "source": [
    "#提出ファイルの作成\n",
    "df_submit = test_pred.rename(columns={\"pred\":\"TARGET\"})\n",
    "print(df_submit.shape)\n",
    "display(df_submit.head())\n",
    "\n",
    "# ファイル出力\n",
    "df_submit.to_csv(\"submission_baseline.csv\", index=None)"
   ]
  },
  {
   "cell_type": "markdown",
   "id": "e99b8aa1",
   "metadata": {
    "papermill": {
     "duration": 0.017929,
     "end_time": "2023-04-30T14:17:25.829386",
     "exception": false,
     "start_time": "2023-04-30T14:17:25.811457",
     "status": "completed"
    },
    "tags": []
   },
   "source": [
    "# 2 特徴量エンジニアリング"
   ]
  },
  {
   "cell_type": "markdown",
   "id": "9a6f685e",
   "metadata": {
    "papermill": {
     "duration": 0.017664,
     "end_time": "2023-04-30T14:17:25.865019",
     "exception": false,
     "start_time": "2023-04-30T14:17:25.847355",
     "status": "completed"
    },
    "tags": []
   },
   "source": [
    "## 2-1 特徴量エンジニアリング:application_train.csv"
   ]
  },
  {
   "cell_type": "code",
   "execution_count": 25,
   "id": "75cbbcc9",
   "metadata": {
    "execution": {
     "iopub.execute_input": "2023-04-30T14:17:25.903223Z",
     "iopub.status.busy": "2023-04-30T14:17:25.902820Z",
     "iopub.status.idle": "2023-04-30T14:17:25.921528Z",
     "shell.execute_reply": "2023-04-30T14:17:25.919784Z"
    },
    "papermill": {
     "duration": 0.041154,
     "end_time": "2023-04-30T14:17:25.924320",
     "exception": false,
     "start_time": "2023-04-30T14:17:25.883166",
     "status": "completed"
    },
    "tags": []
   },
   "outputs": [
    {
     "data": {
      "text/plain": [
       " 365243    55374\n",
       "-200         156\n",
       "-224         152\n",
       "-230         151\n",
       "-199         151\n",
       "           ...  \n",
       "-13961         1\n",
       "-11827         1\n",
       "-10176         1\n",
       "-9459          1\n",
       "-8694          1\n",
       "Name: DAYS_EMPLOYED, Length: 12574, dtype: int64"
      ]
     },
     "metadata": {},
     "output_type": "display_data"
    },
    {
     "name": "stdout",
     "output_type": "stream",
     "text": [
      "正の値の割合: 0.1801\n",
      "正の値の個数: 55374\n"
     ]
    }
   ],
   "source": [
    "#データの確認\n",
    "display(application_train[\"DAYS_EMPLOYED\"].value_counts())\n",
    "print(\"正の値の割合: {:.4f}\".format((application_train[\"DAYS_EMPLOYED\"]>0).mean()))\n",
    "print(\"正の値の個数: {}\".format((application_train[\"DAYS_EMPLOYED\"]>0).sum()))\n",
    "# -> 正の値が18%。しかもすべて8割が365243と同一値。働き始めてからの日数をマイナス表記しているためこれは欠損と判断。"
   ]
  },
  {
   "cell_type": "code",
   "execution_count": 26,
   "id": "7fb630b5",
   "metadata": {
    "execution": {
     "iopub.execute_input": "2023-04-30T14:17:25.965133Z",
     "iopub.status.busy": "2023-04-30T14:17:25.964723Z",
     "iopub.status.idle": "2023-04-30T14:17:25.974289Z",
     "shell.execute_reply": "2023-04-30T14:17:25.973027Z"
    },
    "papermill": {
     "duration": 0.033316,
     "end_time": "2023-04-30T14:17:25.977155",
     "exception": false,
     "start_time": "2023-04-30T14:17:25.943839",
     "status": "completed"
    },
    "tags": []
   },
   "outputs": [],
   "source": [
    "#欠損値をnullに変換\n",
    "application_train[\"DAYS_EMPLOYED\"] = application_train[\"DAYS_EMPLOYED\"].replace(365243, np.nan)"
   ]
  },
  {
   "cell_type": "code",
   "execution_count": 27,
   "id": "77bc43c2",
   "metadata": {
    "execution": {
     "iopub.execute_input": "2023-04-30T14:17:26.018398Z",
     "iopub.status.busy": "2023-04-30T14:17:26.017714Z",
     "iopub.status.idle": "2023-04-30T14:17:26.317952Z",
     "shell.execute_reply": "2023-04-30T14:17:26.316529Z"
    },
    "papermill": {
     "duration": 0.32421,
     "end_time": "2023-04-30T14:17:26.321141",
     "exception": false,
     "start_time": "2023-04-30T14:17:25.996931",
     "status": "completed"
    },
    "tags": []
   },
   "outputs": [],
   "source": [
    "'''仮説に基づく特徴量生成'''\n",
    "# 特徴量1: 総所得金額を世帯人数で割った値\n",
    "# [仮説1]　所得金額が同じでも家族人数が多いほうが経済的な負担が大きいため貸し倒れリスクが高そう\n",
    "application_train['INCOME_div_PERSON'] = application_train['AMT_INCOME_TOTAL'] / application_train['CNT_FAM_MEMBERS']\n",
    "\n",
    "# 特徴量2: 総所得金額を就労期間で割った値\n",
    "# [仮説2]　所得金額が同じでも就労期間が短い方が優秀そうで貸し倒れリスクが低そう\n",
    "application_train['INCOME_div_EMPLOYED'] = application_train['AMT_INCOME_TOTAL'] / application_train['DAYS_EMPLOYED']\n",
    "\n",
    "# 特徴量3: 外部スコアの平均値など\n",
    "# [仮説3]　外部機関によるスコアが平均的に高い方が貸し倒れリスクが低そう\n",
    "application_train[\"EXT_SOURCE_mean\"] = application_train[[\"EXT_SOURCE_1\", \"EXT_SOURCE_2\", \"EXT_SOURCE_3\"]].mean(axis=1)\n",
    "application_train[\"EXT_SOURCE_max\"] = application_train[[\"EXT_SOURCE_1\", \"EXT_SOURCE_2\", \"EXT_SOURCE_3\"]].max(axis=1)\n",
    "application_train[\"EXT_SOURCE_min\"] = application_train[[\"EXT_SOURCE_1\", \"EXT_SOURCE_2\", \"EXT_SOURCE_3\"]].min(axis=1)\n",
    "application_train[\"EXT_SOURCE_std\"] = application_train[[\"EXT_SOURCE_1\", \"EXT_SOURCE_2\", \"EXT_SOURCE_3\"]].std(axis=1)\n",
    "application_train[\"EXT_SOURCE_count\"] = application_train[[\"EXT_SOURCE_1\", \"EXT_SOURCE_2\", \"EXT_SOURCE_3\"]].notnull().sum(axis=1)\n",
    "\n",
    "# 特徴量4: 就労期間を年齢で割った値 (年齢に占める就労期間の割合)\n",
    "# [仮説4]　念連に占める就労期間が長いほうが貸し倒れリスクが低そう（離職リスクが少ないと考えるため）\n",
    "application_train['DAYS_EMPLOYED_div_BIRTH'] = application_train['DAYS_EMPLOYED'] / application_train['DAYS_BIRTH']\n",
    "\n",
    "# 特徴量5: 年金支払額を所得金額で割った値\n",
    "# [仮説5]　所得金額に占める年金支払額が少ないほうが貸し倒れリスクが低そう\n",
    "application_train['ANNUITY_div_INCOME'] = application_train['AMT_ANNUITY'] / application_train['AMT_INCOME_TOTAL']\n",
    "\n",
    "# 特徴量6: 年金支払額を借入金で割った値\n",
    "# [仮説6]　借入金に占める年金支払額が少ないほうが貸し倒れリスクが低そう\n",
    "application_train['ANNUITY_div_CREDIT'] = application_train['AMT_ANNUITY'] / application_train['AMT_CREDIT']"
   ]
  },
  {
   "cell_type": "code",
   "execution_count": 28,
   "id": "a9a91c39",
   "metadata": {
    "execution": {
     "iopub.execute_input": "2023-04-30T14:17:26.359897Z",
     "iopub.status.busy": "2023-04-30T14:17:26.359218Z",
     "iopub.status.idle": "2023-04-30T14:17:27.401042Z",
     "shell.execute_reply": "2023-04-30T14:17:27.399675Z"
    },
    "papermill": {
     "duration": 1.06437,
     "end_time": "2023-04-30T14:17:27.403925",
     "exception": false,
     "start_time": "2023-04-30T14:17:26.339555",
     "status": "completed"
    },
    "tags": []
   },
   "outputs": [],
   "source": [
    "#データセットの作成\n",
    "x_train = application_train.drop(columns=[\"TARGET\", \"SK_ID_CURR\"])\n",
    "y_train = application_train[\"TARGET\"]\n",
    "id_train = application_train[[\"SK_ID_CURR\"]]\n",
    "\n",
    "for col in x_train.columns:\n",
    "    if x_train[col].dtype==\"O\":\n",
    "        x_train[col] = x_train[col].astype(\"category\")"
   ]
  },
  {
   "cell_type": "code",
   "execution_count": 29,
   "id": "7445a397",
   "metadata": {
    "execution": {
     "iopub.execute_input": "2023-04-30T14:17:27.442002Z",
     "iopub.status.busy": "2023-04-30T14:17:27.441578Z",
     "iopub.status.idle": "2023-04-30T14:21:33.821539Z",
     "shell.execute_reply": "2023-04-30T14:21:33.820086Z"
    },
    "papermill": {
     "duration": 246.402069,
     "end_time": "2023-04-30T14:21:33.824217",
     "exception": false,
     "start_time": "2023-04-30T14:17:27.422148",
     "status": "completed"
    },
    "tags": []
   },
   "outputs": [
    {
     "name": "stdout",
     "output_type": "stream",
     "text": [
      "-------------------- 0 --------------------\n",
      "(246008, 130) (61503, 130)\n",
      "[100]\ttraining's auc: 0.787817\tvalid_1's auc: 0.760032\n",
      "[200]\ttraining's auc: 0.816788\tvalid_1's auc: 0.763696\n",
      "[300]\ttraining's auc: 0.838351\tvalid_1's auc: 0.764008\n",
      "[400]\ttraining's auc: 0.856611\tvalid_1's auc: 0.764045\n",
      "[500]\ttraining's auc: 0.871304\tvalid_1's auc: 0.764075\n",
      "[auc] tr:0.8585, va:0.7641\n",
      "-------------------- 1 --------------------\n",
      "(246009, 130) (61502, 130)\n",
      "[100]\ttraining's auc: 0.788378\tvalid_1's auc: 0.763077\n",
      "[200]\ttraining's auc: 0.816816\tvalid_1's auc: 0.766784\n",
      "[300]\ttraining's auc: 0.838169\tvalid_1's auc: 0.767287\n",
      "[400]\ttraining's auc: 0.856163\tvalid_1's auc: 0.767434\n",
      "[auc] tr:0.8471, va:0.7675\n",
      "-------------------- 2 --------------------\n",
      "(246009, 130) (61502, 130)\n",
      "[100]\ttraining's auc: 0.787655\tvalid_1's auc: 0.764182\n",
      "[200]\ttraining's auc: 0.817121\tvalid_1's auc: 0.767566\n",
      "[300]\ttraining's auc: 0.837872\tvalid_1's auc: 0.767677\n",
      "[400]\ttraining's auc: 0.855451\tvalid_1's auc: 0.76783\n",
      "[auc] tr:0.8519, va:0.7679\n",
      "-------------------- 3 --------------------\n",
      "(246009, 130) (61502, 130)\n",
      "[100]\ttraining's auc: 0.787953\tvalid_1's auc: 0.760392\n",
      "[200]\ttraining's auc: 0.817633\tvalid_1's auc: 0.764592\n",
      "[300]\ttraining's auc: 0.839297\tvalid_1's auc: 0.765105\n",
      "[400]\ttraining's auc: 0.857683\tvalid_1's auc: 0.765196\n",
      "[500]\ttraining's auc: 0.87268\tvalid_1's auc: 0.765068\n",
      "[auc] tr:0.8691, va:0.7653\n",
      "-------------------- 4 --------------------\n",
      "(246009, 130) (61502, 130)\n",
      "[100]\ttraining's auc: 0.789624\tvalid_1's auc: 0.755497\n",
      "[200]\ttraining's auc: 0.818583\tvalid_1's auc: 0.759797\n",
      "[300]\ttraining's auc: 0.839186\tvalid_1's auc: 0.76041\n",
      "[400]\ttraining's auc: 0.856939\tvalid_1's auc: 0.760596\n",
      "[500]\ttraining's auc: 0.87149\tvalid_1's auc: 0.760603\n",
      "[auc] tr:0.8619, va:0.7608\n",
      "-------------------- result --------------------\n",
      "[[0.         0.85845312 0.76414814]\n",
      " [1.         0.8471186  0.76754005]\n",
      " [2.         0.85191008 0.76791531]\n",
      " [3.         0.86911764 0.76531788]\n",
      " [4.         0.86192285 0.76084707]]\n",
      "[cv] tr:0.8577+-0.0077, va:0.7652+-0.0026\n",
      "[oof] 0.7651\n"
     ]
    }
   ],
   "source": [
    "#モデルの学習\n",
    "train_oof, imp, metrics = train_lgb(x_train,\n",
    "                                    y_train,\n",
    "                                    id_train,\n",
    "                                    params,\n",
    "                                    list_nfold=[0,1,2,3,4],\n",
    "                                    n_splits=5,\n",
    "                                   )"
   ]
  },
  {
   "cell_type": "code",
   "execution_count": 30,
   "id": "3a175477",
   "metadata": {
    "execution": {
     "iopub.execute_input": "2023-04-30T14:21:33.865409Z",
     "iopub.status.busy": "2023-04-30T14:21:33.864998Z",
     "iopub.status.idle": "2023-04-30T14:21:33.878833Z",
     "shell.execute_reply": "2023-04-30T14:21:33.877666Z"
    },
    "papermill": {
     "duration": 0.037469,
     "end_time": "2023-04-30T14:21:33.881257",
     "exception": false,
     "start_time": "2023-04-30T14:21:33.843788",
     "status": "completed"
    },
    "tags": []
   },
   "outputs": [
    {
     "data": {
      "text/html": [
       "<div>\n",
       "<style scoped>\n",
       "    .dataframe tbody tr th:only-of-type {\n",
       "        vertical-align: middle;\n",
       "    }\n",
       "\n",
       "    .dataframe tbody tr th {\n",
       "        vertical-align: top;\n",
       "    }\n",
       "\n",
       "    .dataframe thead th {\n",
       "        text-align: right;\n",
       "    }\n",
       "</style>\n",
       "<table border=\"1\" class=\"dataframe\">\n",
       "  <thead>\n",
       "    <tr style=\"text-align: right;\">\n",
       "      <th></th>\n",
       "      <th>col</th>\n",
       "      <th>imp</th>\n",
       "      <th>imp_std</th>\n",
       "    </tr>\n",
       "  </thead>\n",
       "  <tbody>\n",
       "    <tr>\n",
       "      <th>44</th>\n",
       "      <td>EXT_SOURCE_mean</td>\n",
       "      <td>114005.214702</td>\n",
       "      <td>1381.645644</td>\n",
       "    </tr>\n",
       "    <tr>\n",
       "      <th>10</th>\n",
       "      <td>ANNUITY_div_CREDIT</td>\n",
       "      <td>23720.301550</td>\n",
       "      <td>805.397477</td>\n",
       "    </tr>\n",
       "    <tr>\n",
       "      <th>112</th>\n",
       "      <td>ORGANIZATION_TYPE</td>\n",
       "      <td>22660.210567</td>\n",
       "      <td>1372.230448</td>\n",
       "    </tr>\n",
       "    <tr>\n",
       "      <th>41</th>\n",
       "      <td>EXT_SOURCE_3</td>\n",
       "      <td>12046.854638</td>\n",
       "      <td>886.653726</td>\n",
       "    </tr>\n",
       "    <tr>\n",
       "      <th>24</th>\n",
       "      <td>DAYS_BIRTH</td>\n",
       "      <td>8108.684084</td>\n",
       "      <td>578.972393</td>\n",
       "    </tr>\n",
       "    <tr>\n",
       "      <th>45</th>\n",
       "      <td>EXT_SOURCE_min</td>\n",
       "      <td>7727.391587</td>\n",
       "      <td>314.203161</td>\n",
       "    </tr>\n",
       "    <tr>\n",
       "      <th>39</th>\n",
       "      <td>EXT_SOURCE_1</td>\n",
       "      <td>7155.619219</td>\n",
       "      <td>472.422492</td>\n",
       "    </tr>\n",
       "    <tr>\n",
       "      <th>2</th>\n",
       "      <td>AMT_GOODS_PRICE</td>\n",
       "      <td>6148.167858</td>\n",
       "      <td>364.159044</td>\n",
       "    </tr>\n",
       "    <tr>\n",
       "      <th>0</th>\n",
       "      <td>AMT_ANNUITY</td>\n",
       "      <td>6091.805210</td>\n",
       "      <td>581.987900</td>\n",
       "    </tr>\n",
       "    <tr>\n",
       "      <th>46</th>\n",
       "      <td>EXT_SOURCE_std</td>\n",
       "      <td>5830.390690</td>\n",
       "      <td>679.963947</td>\n",
       "    </tr>\n",
       "  </tbody>\n",
       "</table>\n",
       "</div>"
      ],
      "text/plain": [
       "                    col            imp      imp_std\n",
       "44      EXT_SOURCE_mean  114005.214702  1381.645644\n",
       "10   ANNUITY_div_CREDIT   23720.301550   805.397477\n",
       "112   ORGANIZATION_TYPE   22660.210567  1372.230448\n",
       "41         EXT_SOURCE_3   12046.854638   886.653726\n",
       "24           DAYS_BIRTH    8108.684084   578.972393\n",
       "45       EXT_SOURCE_min    7727.391587   314.203161\n",
       "39         EXT_SOURCE_1    7155.619219   472.422492\n",
       "2       AMT_GOODS_PRICE    6148.167858   364.159044\n",
       "0           AMT_ANNUITY    6091.805210   581.987900\n",
       "46       EXT_SOURCE_std    5830.390690   679.963947"
      ]
     },
     "execution_count": 30,
     "metadata": {},
     "output_type": "execute_result"
    }
   ],
   "source": [
    "#説明変数の重要度の確認\n",
    "imp.sort_values(\"imp\", ascending=False)[:10]"
   ]
  },
  {
   "cell_type": "code",
   "execution_count": 31,
   "id": "171972df",
   "metadata": {
    "execution": {
     "iopub.execute_input": "2023-04-30T14:21:33.923394Z",
     "iopub.status.busy": "2023-04-30T14:21:33.922990Z",
     "iopub.status.idle": "2023-04-30T14:21:34.134426Z",
     "shell.execute_reply": "2023-04-30T14:21:34.133220Z"
    },
    "papermill": {
     "duration": 0.236062,
     "end_time": "2023-04-30T14:21:34.137548",
     "exception": false,
     "start_time": "2023-04-30T14:21:33.901486",
     "status": "completed"
    },
    "tags": []
   },
   "outputs": [],
   "source": [
    "#推論用データのデータセット作成\n",
    "# nullに置き換え\n",
    "application_test[\"DAYS_EMPLOYED\"] = application_test[\"DAYS_EMPLOYED\"].replace(365243, np.nan)\n",
    "\n",
    "# 特徴量の生成\n",
    "application_test['INCOME_div_PERSON'] = application_test['AMT_INCOME_TOTAL'] / application_test['CNT_FAM_MEMBERS']\n",
    "application_test['INCOME_div_EMPLOYED'] = application_test['AMT_INCOME_TOTAL'] / application_test['DAYS_EMPLOYED']\n",
    "application_test[\"EXT_SOURCE_mean\"] = application_test[[\"EXT_SOURCE_1\", \"EXT_SOURCE_2\", \"EXT_SOURCE_3\"]].mean(axis=1)\n",
    "application_test[\"EXT_SOURCE_max\"] = application_test[[\"EXT_SOURCE_1\", \"EXT_SOURCE_2\", \"EXT_SOURCE_3\"]].max(axis=1)\n",
    "application_test[\"EXT_SOURCE_min\"] = application_test[[\"EXT_SOURCE_1\", \"EXT_SOURCE_2\", \"EXT_SOURCE_3\"]].min(axis=1)\n",
    "application_test[\"EXT_SOURCE_std\"] = application_test[[\"EXT_SOURCE_1\", \"EXT_SOURCE_2\", \"EXT_SOURCE_3\"]].std(axis=1)\n",
    "application_test[\"EXT_SOURCE_count\"] = application_test[[\"EXT_SOURCE_1\", \"EXT_SOURCE_2\", \"EXT_SOURCE_3\"]].notnull().sum(axis=1)\n",
    "application_test['DAYS_EMPLOYED_div_BIRTH'] = application_test['DAYS_EMPLOYED'] / application_test['DAYS_BIRTH']\n",
    "application_test['ANNUITY_div_INCOME'] = application_test['AMT_ANNUITY'] / application_test['AMT_INCOME_TOTAL']\n",
    "application_test['ANNUITY_div_CREDIT'] = application_test['AMT_ANNUITY'] / application_test['AMT_CREDIT']\n",
    "\n",
    "# データセット作成\n",
    "x_test = application_test.drop(columns=[\"SK_ID_CURR\"])\n",
    "id_test = application_test[[\"SK_ID_CURR\"]]\n",
    "\n",
    "# カテゴリ変数をcategory型へ変換\n",
    "for col in x_test.columns:\n",
    "    if x_test[col].dtype==\"O\":\n",
    "        x_test[col] = x_test[col].astype(\"category\")\n"
   ]
  },
  {
   "cell_type": "code",
   "execution_count": 32,
   "id": "bea2e62b",
   "metadata": {
    "execution": {
     "iopub.execute_input": "2023-04-30T14:21:34.181204Z",
     "iopub.status.busy": "2023-04-30T14:21:34.180762Z",
     "iopub.status.idle": "2023-04-30T14:21:37.603987Z",
     "shell.execute_reply": "2023-04-30T14:21:37.602504Z"
    },
    "papermill": {
     "duration": 3.448004,
     "end_time": "2023-04-30T14:21:37.606463",
     "exception": false,
     "start_time": "2023-04-30T14:21:34.158459",
     "status": "completed"
    },
    "tags": []
   },
   "outputs": [
    {
     "name": "stdout",
     "output_type": "stream",
     "text": [
      "-------------------- 0 --------------------\n",
      "-------------------- 1 --------------------\n",
      "-------------------- 2 --------------------\n",
      "-------------------- 3 --------------------\n",
      "-------------------- 4 --------------------\n",
      "Done.\n"
     ]
    }
   ],
   "source": [
    "#推論処理\n",
    "test_pred = predict_lgb(x_test,\n",
    "                        id_test,\n",
    "                        list_nfold=[0,1,2,3,4],\n",
    "                       )"
   ]
  },
  {
   "cell_type": "code",
   "execution_count": 33,
   "id": "15f76e6a",
   "metadata": {
    "execution": {
     "iopub.execute_input": "2023-04-30T14:21:37.650781Z",
     "iopub.status.busy": "2023-04-30T14:21:37.649968Z",
     "iopub.status.idle": "2023-04-30T14:21:37.775617Z",
     "shell.execute_reply": "2023-04-30T14:21:37.774668Z"
    },
    "papermill": {
     "duration": 0.150876,
     "end_time": "2023-04-30T14:21:37.778141",
     "exception": false,
     "start_time": "2023-04-30T14:21:37.627265",
     "status": "completed"
    },
    "tags": []
   },
   "outputs": [
    {
     "name": "stdout",
     "output_type": "stream",
     "text": [
      "(48744, 2)\n"
     ]
    },
    {
     "data": {
      "text/html": [
       "<div>\n",
       "<style scoped>\n",
       "    .dataframe tbody tr th:only-of-type {\n",
       "        vertical-align: middle;\n",
       "    }\n",
       "\n",
       "    .dataframe tbody tr th {\n",
       "        vertical-align: top;\n",
       "    }\n",
       "\n",
       "    .dataframe thead th {\n",
       "        text-align: right;\n",
       "    }\n",
       "</style>\n",
       "<table border=\"1\" class=\"dataframe\">\n",
       "  <thead>\n",
       "    <tr style=\"text-align: right;\">\n",
       "      <th></th>\n",
       "      <th>SK_ID_CURR</th>\n",
       "      <th>TARGET</th>\n",
       "    </tr>\n",
       "  </thead>\n",
       "  <tbody>\n",
       "    <tr>\n",
       "      <th>0</th>\n",
       "      <td>100001</td>\n",
       "      <td>0.029002</td>\n",
       "    </tr>\n",
       "    <tr>\n",
       "      <th>1</th>\n",
       "      <td>100005</td>\n",
       "      <td>0.121782</td>\n",
       "    </tr>\n",
       "    <tr>\n",
       "      <th>2</th>\n",
       "      <td>100013</td>\n",
       "      <td>0.022668</td>\n",
       "    </tr>\n",
       "    <tr>\n",
       "      <th>3</th>\n",
       "      <td>100028</td>\n",
       "      <td>0.044435</td>\n",
       "    </tr>\n",
       "    <tr>\n",
       "      <th>4</th>\n",
       "      <td>100038</td>\n",
       "      <td>0.181940</td>\n",
       "    </tr>\n",
       "  </tbody>\n",
       "</table>\n",
       "</div>"
      ],
      "text/plain": [
       "   SK_ID_CURR    TARGET\n",
       "0      100001  0.029002\n",
       "1      100005  0.121782\n",
       "2      100013  0.022668\n",
       "3      100028  0.044435\n",
       "4      100038  0.181940"
      ]
     },
     "metadata": {},
     "output_type": "display_data"
    }
   ],
   "source": [
    "#提出ファイルの作成\n",
    "df_submit = test_pred.rename(columns={\"pred\":\"TARGET\"})\n",
    "print(df_submit.shape)\n",
    "display(df_submit.head())\n",
    "df_submit.to_csv(\"submission_FeatureEngineering1.csv\", index=None)"
   ]
  },
  {
   "cell_type": "markdown",
   "id": "717d7975",
   "metadata": {
    "papermill": {
     "duration": 0.020101,
     "end_time": "2023-04-30T14:21:37.818799",
     "exception": false,
     "start_time": "2023-04-30T14:21:37.798698",
     "status": "completed"
    },
    "tags": []
   },
   "source": [
    "## 2-2 特徴量エンジニアリング：POS_CASH_balance.csv"
   ]
  },
  {
   "cell_type": "code",
   "execution_count": 34,
   "id": "a701508f",
   "metadata": {
    "execution": {
     "iopub.execute_input": "2023-04-30T14:21:37.862658Z",
     "iopub.status.busy": "2023-04-30T14:21:37.861980Z",
     "iopub.status.idle": "2023-04-30T14:21:52.148717Z",
     "shell.execute_reply": "2023-04-30T14:21:52.147698Z"
    },
    "papermill": {
     "duration": 14.311699,
     "end_time": "2023-04-30T14:21:52.151260",
     "exception": false,
     "start_time": "2023-04-30T14:21:37.839561",
     "status": "completed"
    },
    "tags": []
   },
   "outputs": [
    {
     "name": "stdout",
     "output_type": "stream",
     "text": [
      "Memory usage of dataframe is 610.43 MB\n",
      "Memory usage after optimization is: 238.45 MB\n",
      "Decreased by 60.9%\n",
      "(10001358, 8)\n"
     ]
    },
    {
     "data": {
      "text/html": [
       "<div>\n",
       "<style scoped>\n",
       "    .dataframe tbody tr th:only-of-type {\n",
       "        vertical-align: middle;\n",
       "    }\n",
       "\n",
       "    .dataframe tbody tr th {\n",
       "        vertical-align: top;\n",
       "    }\n",
       "\n",
       "    .dataframe thead th {\n",
       "        text-align: right;\n",
       "    }\n",
       "</style>\n",
       "<table border=\"1\" class=\"dataframe\">\n",
       "  <thead>\n",
       "    <tr style=\"text-align: right;\">\n",
       "      <th></th>\n",
       "      <th>SK_ID_PREV</th>\n",
       "      <th>SK_ID_CURR</th>\n",
       "      <th>MONTHS_BALANCE</th>\n",
       "      <th>CNT_INSTALMENT</th>\n",
       "      <th>CNT_INSTALMENT_FUTURE</th>\n",
       "      <th>NAME_CONTRACT_STATUS</th>\n",
       "      <th>SK_DPD</th>\n",
       "      <th>SK_DPD_DEF</th>\n",
       "    </tr>\n",
       "  </thead>\n",
       "  <tbody>\n",
       "    <tr>\n",
       "      <th>0</th>\n",
       "      <td>1803195</td>\n",
       "      <td>182943</td>\n",
       "      <td>-31</td>\n",
       "      <td>48.0</td>\n",
       "      <td>45.0</td>\n",
       "      <td>Active</td>\n",
       "      <td>0</td>\n",
       "      <td>0</td>\n",
       "    </tr>\n",
       "    <tr>\n",
       "      <th>1</th>\n",
       "      <td>1715348</td>\n",
       "      <td>367990</td>\n",
       "      <td>-33</td>\n",
       "      <td>36.0</td>\n",
       "      <td>35.0</td>\n",
       "      <td>Active</td>\n",
       "      <td>0</td>\n",
       "      <td>0</td>\n",
       "    </tr>\n",
       "    <tr>\n",
       "      <th>2</th>\n",
       "      <td>1784872</td>\n",
       "      <td>397406</td>\n",
       "      <td>-32</td>\n",
       "      <td>12.0</td>\n",
       "      <td>9.0</td>\n",
       "      <td>Active</td>\n",
       "      <td>0</td>\n",
       "      <td>0</td>\n",
       "    </tr>\n",
       "    <tr>\n",
       "      <th>3</th>\n",
       "      <td>1903291</td>\n",
       "      <td>269225</td>\n",
       "      <td>-35</td>\n",
       "      <td>48.0</td>\n",
       "      <td>42.0</td>\n",
       "      <td>Active</td>\n",
       "      <td>0</td>\n",
       "      <td>0</td>\n",
       "    </tr>\n",
       "    <tr>\n",
       "      <th>4</th>\n",
       "      <td>2341044</td>\n",
       "      <td>334279</td>\n",
       "      <td>-35</td>\n",
       "      <td>36.0</td>\n",
       "      <td>35.0</td>\n",
       "      <td>Active</td>\n",
       "      <td>0</td>\n",
       "      <td>0</td>\n",
       "    </tr>\n",
       "  </tbody>\n",
       "</table>\n",
       "</div>"
      ],
      "text/plain": [
       "   SK_ID_PREV  SK_ID_CURR  MONTHS_BALANCE  CNT_INSTALMENT  \\\n",
       "0     1803195      182943             -31            48.0   \n",
       "1     1715348      367990             -33            36.0   \n",
       "2     1784872      397406             -32            12.0   \n",
       "3     1903291      269225             -35            48.0   \n",
       "4     2341044      334279             -35            36.0   \n",
       "\n",
       "   CNT_INSTALMENT_FUTURE NAME_CONTRACT_STATUS  SK_DPD  SK_DPD_DEF  \n",
       "0                   45.0               Active       0           0  \n",
       "1                   35.0               Active       0           0  \n",
       "2                    9.0               Active       0           0  \n",
       "3                   42.0               Active       0           0  \n",
       "4                   35.0               Active       0           0  "
      ]
     },
     "execution_count": 34,
     "metadata": {},
     "output_type": "execute_result"
    }
   ],
   "source": [
    "#ファイル読み込み\n",
    "pos = pd.read_csv(\"../input/home-credit-default-risk/POS_CASH_balance.csv\")\n",
    "pos = reduce_mem_usage(pos)\n",
    "print(pos.shape)\n",
    "pos.head()"
   ]
  },
  {
   "cell_type": "code",
   "execution_count": 35,
   "id": "0c266395",
   "metadata": {
    "execution": {
     "iopub.execute_input": "2023-04-30T14:21:52.197215Z",
     "iopub.status.busy": "2023-04-30T14:21:52.196474Z",
     "iopub.status.idle": "2023-04-30T14:22:09.420153Z",
     "shell.execute_reply": "2023-04-30T14:22:09.418847Z"
    },
    "papermill": {
     "duration": 17.249175,
     "end_time": "2023-04-30T14:22:09.422824",
     "exception": false,
     "start_time": "2023-04-30T14:21:52.173649",
     "status": "completed"
    },
    "tags": []
   },
   "outputs": [
    {
     "name": "stdout",
     "output_type": "stream",
     "text": [
      "10\n",
      "(337252, 33)\n",
      "(307511, 164)\n"
     ]
    },
    {
     "data": {
      "text/html": [
       "<div>\n",
       "<style scoped>\n",
       "    .dataframe tbody tr th:only-of-type {\n",
       "        vertical-align: middle;\n",
       "    }\n",
       "\n",
       "    .dataframe tbody tr th {\n",
       "        vertical-align: top;\n",
       "    }\n",
       "\n",
       "    .dataframe thead th {\n",
       "        text-align: right;\n",
       "    }\n",
       "</style>\n",
       "<table border=\"1\" class=\"dataframe\">\n",
       "  <thead>\n",
       "    <tr style=\"text-align: right;\">\n",
       "      <th></th>\n",
       "      <th>SK_ID_CURR</th>\n",
       "      <th>TARGET</th>\n",
       "      <th>NAME_CONTRACT_TYPE</th>\n",
       "      <th>CODE_GENDER</th>\n",
       "      <th>FLAG_OWN_CAR</th>\n",
       "      <th>FLAG_OWN_REALTY</th>\n",
       "      <th>CNT_CHILDREN</th>\n",
       "      <th>AMT_INCOME_TOTAL</th>\n",
       "      <th>AMT_CREDIT</th>\n",
       "      <th>AMT_ANNUITY</th>\n",
       "      <th>...</th>\n",
       "      <th>NAME_CONTRACT_STATUS_Approved_mean</th>\n",
       "      <th>NAME_CONTRACT_STATUS_Canceled_mean</th>\n",
       "      <th>NAME_CONTRACT_STATUS_Completed_mean</th>\n",
       "      <th>NAME_CONTRACT_STATUS_Demand_mean</th>\n",
       "      <th>NAME_CONTRACT_STATUS_Returned to the store_mean</th>\n",
       "      <th>NAME_CONTRACT_STATUS_Signed_mean</th>\n",
       "      <th>NAME_CONTRACT_STATUS_XNA_mean</th>\n",
       "      <th>NAME_CONTRACT_STATUS_nan_mean</th>\n",
       "      <th>SK_ID_PREV_count</th>\n",
       "      <th>SK_ID_PREV_nunique</th>\n",
       "    </tr>\n",
       "  </thead>\n",
       "  <tbody>\n",
       "    <tr>\n",
       "      <th>0</th>\n",
       "      <td>100002</td>\n",
       "      <td>1</td>\n",
       "      <td>Cash loans</td>\n",
       "      <td>M</td>\n",
       "      <td>N</td>\n",
       "      <td>Y</td>\n",
       "      <td>0</td>\n",
       "      <td>202500.0</td>\n",
       "      <td>406597.5</td>\n",
       "      <td>24700.5</td>\n",
       "      <td>...</td>\n",
       "      <td>0.0</td>\n",
       "      <td>0.0</td>\n",
       "      <td>0.000000</td>\n",
       "      <td>0.0</td>\n",
       "      <td>0.000000</td>\n",
       "      <td>0.000000</td>\n",
       "      <td>0.0</td>\n",
       "      <td>0.0</td>\n",
       "      <td>19.0</td>\n",
       "      <td>1.0</td>\n",
       "    </tr>\n",
       "    <tr>\n",
       "      <th>1</th>\n",
       "      <td>100003</td>\n",
       "      <td>0</td>\n",
       "      <td>Cash loans</td>\n",
       "      <td>F</td>\n",
       "      <td>N</td>\n",
       "      <td>N</td>\n",
       "      <td>0</td>\n",
       "      <td>270000.0</td>\n",
       "      <td>1293502.5</td>\n",
       "      <td>35698.5</td>\n",
       "      <td>...</td>\n",
       "      <td>0.0</td>\n",
       "      <td>0.0</td>\n",
       "      <td>0.071429</td>\n",
       "      <td>0.0</td>\n",
       "      <td>0.000000</td>\n",
       "      <td>0.000000</td>\n",
       "      <td>0.0</td>\n",
       "      <td>0.0</td>\n",
       "      <td>28.0</td>\n",
       "      <td>3.0</td>\n",
       "    </tr>\n",
       "    <tr>\n",
       "      <th>2</th>\n",
       "      <td>100004</td>\n",
       "      <td>0</td>\n",
       "      <td>Revolving loans</td>\n",
       "      <td>M</td>\n",
       "      <td>Y</td>\n",
       "      <td>Y</td>\n",
       "      <td>0</td>\n",
       "      <td>67500.0</td>\n",
       "      <td>135000.0</td>\n",
       "      <td>6750.0</td>\n",
       "      <td>...</td>\n",
       "      <td>0.0</td>\n",
       "      <td>0.0</td>\n",
       "      <td>0.250000</td>\n",
       "      <td>0.0</td>\n",
       "      <td>0.000000</td>\n",
       "      <td>0.000000</td>\n",
       "      <td>0.0</td>\n",
       "      <td>0.0</td>\n",
       "      <td>4.0</td>\n",
       "      <td>1.0</td>\n",
       "    </tr>\n",
       "    <tr>\n",
       "      <th>3</th>\n",
       "      <td>100006</td>\n",
       "      <td>0</td>\n",
       "      <td>Cash loans</td>\n",
       "      <td>F</td>\n",
       "      <td>N</td>\n",
       "      <td>Y</td>\n",
       "      <td>0</td>\n",
       "      <td>135000.0</td>\n",
       "      <td>312682.5</td>\n",
       "      <td>29686.5</td>\n",
       "      <td>...</td>\n",
       "      <td>0.0</td>\n",
       "      <td>0.0</td>\n",
       "      <td>0.095238</td>\n",
       "      <td>0.0</td>\n",
       "      <td>0.047619</td>\n",
       "      <td>0.000000</td>\n",
       "      <td>0.0</td>\n",
       "      <td>0.0</td>\n",
       "      <td>21.0</td>\n",
       "      <td>3.0</td>\n",
       "    </tr>\n",
       "    <tr>\n",
       "      <th>4</th>\n",
       "      <td>100007</td>\n",
       "      <td>0</td>\n",
       "      <td>Cash loans</td>\n",
       "      <td>M</td>\n",
       "      <td>N</td>\n",
       "      <td>Y</td>\n",
       "      <td>0</td>\n",
       "      <td>121500.0</td>\n",
       "      <td>513000.0</td>\n",
       "      <td>21865.5</td>\n",
       "      <td>...</td>\n",
       "      <td>0.0</td>\n",
       "      <td>0.0</td>\n",
       "      <td>0.045455</td>\n",
       "      <td>0.0</td>\n",
       "      <td>0.000000</td>\n",
       "      <td>0.015152</td>\n",
       "      <td>0.0</td>\n",
       "      <td>0.0</td>\n",
       "      <td>66.0</td>\n",
       "      <td>5.0</td>\n",
       "    </tr>\n",
       "  </tbody>\n",
       "</table>\n",
       "<p>5 rows × 164 columns</p>\n",
       "</div>"
      ],
      "text/plain": [
       "   SK_ID_CURR  TARGET NAME_CONTRACT_TYPE CODE_GENDER FLAG_OWN_CAR  \\\n",
       "0      100002       1         Cash loans           M            N   \n",
       "1      100003       0         Cash loans           F            N   \n",
       "2      100004       0    Revolving loans           M            Y   \n",
       "3      100006       0         Cash loans           F            N   \n",
       "4      100007       0         Cash loans           M            N   \n",
       "\n",
       "  FLAG_OWN_REALTY  CNT_CHILDREN  AMT_INCOME_TOTAL  AMT_CREDIT  AMT_ANNUITY  \\\n",
       "0               Y             0          202500.0    406597.5      24700.5   \n",
       "1               N             0          270000.0   1293502.5      35698.5   \n",
       "2               Y             0           67500.0    135000.0       6750.0   \n",
       "3               Y             0          135000.0    312682.5      29686.5   \n",
       "4               Y             0          121500.0    513000.0      21865.5   \n",
       "\n",
       "   ...  NAME_CONTRACT_STATUS_Approved_mean NAME_CONTRACT_STATUS_Canceled_mean  \\\n",
       "0  ...                                 0.0                                0.0   \n",
       "1  ...                                 0.0                                0.0   \n",
       "2  ...                                 0.0                                0.0   \n",
       "3  ...                                 0.0                                0.0   \n",
       "4  ...                                 0.0                                0.0   \n",
       "\n",
       "  NAME_CONTRACT_STATUS_Completed_mean NAME_CONTRACT_STATUS_Demand_mean  \\\n",
       "0                            0.000000                              0.0   \n",
       "1                            0.071429                              0.0   \n",
       "2                            0.250000                              0.0   \n",
       "3                            0.095238                              0.0   \n",
       "4                            0.045455                              0.0   \n",
       "\n",
       "  NAME_CONTRACT_STATUS_Returned to the store_mean  \\\n",
       "0                                        0.000000   \n",
       "1                                        0.000000   \n",
       "2                                        0.000000   \n",
       "3                                        0.047619   \n",
       "4                                        0.000000   \n",
       "\n",
       "  NAME_CONTRACT_STATUS_Signed_mean  NAME_CONTRACT_STATUS_XNA_mean  \\\n",
       "0                         0.000000                            0.0   \n",
       "1                         0.000000                            0.0   \n",
       "2                         0.000000                            0.0   \n",
       "3                         0.000000                            0.0   \n",
       "4                         0.015152                            0.0   \n",
       "\n",
       "   NAME_CONTRACT_STATUS_nan_mean  SK_ID_PREV_count  SK_ID_PREV_nunique  \n",
       "0                            0.0              19.0                 1.0  \n",
       "1                            0.0              28.0                 3.0  \n",
       "2                            0.0               4.0                 1.0  \n",
       "3                            0.0              21.0                 3.0  \n",
       "4                            0.0              66.0                 5.0  \n",
       "\n",
       "[5 rows x 164 columns]"
      ]
     },
     "execution_count": 35,
     "metadata": {},
     "output_type": "execute_result"
    }
   ],
   "source": [
    "'''カテゴリ変数への変換～キー結合（１対多であるため）'''\n",
    "#①カテゴリ変数をone-hot-encodingで数値に変換\n",
    "pos_ohe = pd.get_dummies(pos, columns=[\"NAME_CONTRACT_STATUS\"], dummy_na=True)\n",
    "col_ohe = sorted(list(set(pos_ohe.columns) - set(pos.columns)))\n",
    "print(len(col_ohe))\n",
    "col_ohe\n",
    "\n",
    "#②SK_ID_CURRをキーに集約処理\n",
    "pos_ohe_agg = pos_ohe.groupby(\"SK_ID_CURR\").agg(\n",
    "    {\n",
    "        # 数値の集約\n",
    "        \"MONTHS_BALANCE\": [\"mean\", \"std\", \"min\", \"max\"],\n",
    "        \"CNT_INSTALMENT\": [\"mean\", \"std\", \"min\", \"max\"],\n",
    "        \"CNT_INSTALMENT_FUTURE\": [\"mean\", \"std\", \"min\", \"max\"],\n",
    "        \"SK_DPD\": [\"mean\", \"std\", \"min\", \"max\"],\n",
    "        \"SK_DPD_DEF\": [\"mean\", \"std\", \"min\", \"max\"],\n",
    "        # カテゴリ変数をone-hot-encodingした値の集約\n",
    "        \"NAME_CONTRACT_STATUS_Active\": [\"mean\"],\n",
    "        \"NAME_CONTRACT_STATUS_Amortized debt\": [\"mean\"],\n",
    "        \"NAME_CONTRACT_STATUS_Approved\": [\"mean\"],\n",
    "        \"NAME_CONTRACT_STATUS_Canceled\": [\"mean\"],\n",
    "        \"NAME_CONTRACT_STATUS_Completed\": [\"mean\"],\n",
    "        \"NAME_CONTRACT_STATUS_Demand\": [\"mean\"],\n",
    "        \"NAME_CONTRACT_STATUS_Returned to the store\": [\"mean\"],\n",
    "        \"NAME_CONTRACT_STATUS_Signed\": [\"mean\"],\n",
    "        \"NAME_CONTRACT_STATUS_XNA\": [\"mean\"],\n",
    "        \"NAME_CONTRACT_STATUS_nan\": [\"mean\"],\n",
    "        # IDのユニーク数をカウント (ついでにレコード数もカウント)\n",
    "        \"SK_ID_PREV\":[\"count\", \"nunique\"],\n",
    "    }\n",
    ")\n",
    "\n",
    "# カラム名の付与\n",
    "pos_ohe_agg.columns = [i + \"_\" + j for i,j in pos_ohe_agg.columns]\n",
    "pos_ohe_agg = pos_ohe_agg.reset_index(drop=False)\n",
    "\n",
    "print(pos_ohe_agg.shape)\n",
    "pos_ohe_agg.head()\n",
    "\n",
    "#③SK_ID?CURRをキーにして結合\n",
    "df_train = pd.merge(application_train, pos_ohe_agg, on=\"SK_ID_CURR\", how=\"left\")\n",
    "print(df_train.shape)\n",
    "df_train.head()"
   ]
  },
  {
   "cell_type": "code",
   "execution_count": 36,
   "id": "fe346d71",
   "metadata": {
    "execution": {
     "iopub.execute_input": "2023-04-30T14:22:09.468819Z",
     "iopub.status.busy": "2023-04-30T14:22:09.468074Z",
     "iopub.status.idle": "2023-04-30T14:22:10.827175Z",
     "shell.execute_reply": "2023-04-30T14:22:10.825819Z"
    },
    "papermill": {
     "duration": 1.385516,
     "end_time": "2023-04-30T14:22:10.830321",
     "exception": false,
     "start_time": "2023-04-30T14:22:09.444805",
     "status": "completed"
    },
    "tags": []
   },
   "outputs": [],
   "source": [
    "#データセットの作成\n",
    "x_train = df_train.drop(columns=[\"TARGET\", \"SK_ID_CURR\"])\n",
    "y_train = df_train[\"TARGET\"]\n",
    "id_train = df_train[[\"SK_ID_CURR\"]]\n",
    "\n",
    "for col in x_train.columns:\n",
    "    if x_train[col].dtype==\"O\":\n",
    "        x_train[col] = x_train[col].astype(\"category\")"
   ]
  },
  {
   "cell_type": "code",
   "execution_count": 37,
   "id": "f9d1a022",
   "metadata": {
    "execution": {
     "iopub.execute_input": "2023-04-30T14:22:10.877079Z",
     "iopub.status.busy": "2023-04-30T14:22:10.876659Z",
     "iopub.status.idle": "2023-04-30T14:26:38.771754Z",
     "shell.execute_reply": "2023-04-30T14:26:38.770392Z"
    },
    "papermill": {
     "duration": 267.922468,
     "end_time": "2023-04-30T14:26:38.775491",
     "exception": false,
     "start_time": "2023-04-30T14:22:10.853023",
     "status": "completed"
    },
    "tags": []
   },
   "outputs": [
    {
     "name": "stdout",
     "output_type": "stream",
     "text": [
      "-------------------- 0 --------------------\n",
      "(246008, 162) (61503, 162)\n",
      "[100]\ttraining's auc: 0.794548\tvalid_1's auc: 0.76534\n",
      "[200]\ttraining's auc: 0.825571\tvalid_1's auc: 0.77062\n",
      "[300]\ttraining's auc: 0.848468\tvalid_1's auc: 0.771422\n",
      "[400]\ttraining's auc: 0.866087\tvalid_1's auc: 0.771575\n",
      "[auc] tr:0.8578, va:0.7719\n",
      "-------------------- 1 --------------------\n",
      "(246009, 162) (61502, 162)\n",
      "[100]\ttraining's auc: 0.794349\tvalid_1's auc: 0.769227\n",
      "[200]\ttraining's auc: 0.824921\tvalid_1's auc: 0.774694\n",
      "[300]\ttraining's auc: 0.847296\tvalid_1's auc: 0.775643\n",
      "[400]\ttraining's auc: 0.864781\tvalid_1's auc: 0.775882\n",
      "[500]\ttraining's auc: 0.880069\tvalid_1's auc: 0.775861\n",
      "[auc] tr:0.8744, va:0.7761\n",
      "-------------------- 2 --------------------\n",
      "(246009, 162) (61502, 162)\n",
      "[100]\ttraining's auc: 0.794977\tvalid_1's auc: 0.768857\n",
      "[200]\ttraining's auc: 0.82562\tvalid_1's auc: 0.773055\n",
      "[300]\ttraining's auc: 0.847297\tvalid_1's auc: 0.773516\n",
      "[400]\ttraining's auc: 0.865995\tvalid_1's auc: 0.774559\n",
      "[500]\ttraining's auc: 0.881411\tvalid_1's auc: 0.773967\n",
      "[auc] tr:0.8662, va:0.7746\n",
      "-------------------- 3 --------------------\n",
      "(246009, 162) (61502, 162)\n",
      "[100]\ttraining's auc: 0.79487\tvalid_1's auc: 0.766658\n",
      "[200]\ttraining's auc: 0.825555\tvalid_1's auc: 0.771612\n",
      "[300]\ttraining's auc: 0.847639\tvalid_1's auc: 0.772074\n",
      "[auc] tr:0.8474, va:0.7721\n",
      "-------------------- 4 --------------------\n",
      "(246009, 162) (61502, 162)\n",
      "[100]\ttraining's auc: 0.795217\tvalid_1's auc: 0.760459\n",
      "[200]\ttraining's auc: 0.825714\tvalid_1's auc: 0.76484\n",
      "[300]\ttraining's auc: 0.847102\tvalid_1's auc: 0.765433\n",
      "[auc] tr:0.8467, va:0.7655\n",
      "-------------------- result --------------------\n",
      "[[0.         0.85779976 0.77186119]\n",
      " [1.         0.87444951 0.77606599]\n",
      " [2.         0.86623291 0.77456898]\n",
      " [3.         0.84744891 0.7721198 ]\n",
      " [4.         0.84670208 0.76551935]]\n",
      "[cv] tr:0.8585+-0.0107, va:0.7720+-0.0036\n",
      "[oof] 0.7720\n"
     ]
    }
   ],
   "source": [
    "#モデル学習\n",
    "train_oof, imp, metrics = train_lgb(x_train,\n",
    "                                    y_train,\n",
    "                                    id_train,\n",
    "                                    params,\n",
    "                                    list_nfold=[0,1,2,3,4],\n",
    "                                    n_splits=5,\n",
    "                                   )"
   ]
  },
  {
   "cell_type": "code",
   "execution_count": 38,
   "id": "df90ea2f",
   "metadata": {
    "execution": {
     "iopub.execute_input": "2023-04-30T14:26:38.828974Z",
     "iopub.status.busy": "2023-04-30T14:26:38.827322Z",
     "iopub.status.idle": "2023-04-30T14:26:38.848931Z",
     "shell.execute_reply": "2023-04-30T14:26:38.846510Z"
    },
    "papermill": {
     "duration": 0.051699,
     "end_time": "2023-04-30T14:26:38.852116",
     "exception": false,
     "start_time": "2023-04-30T14:26:38.800417",
     "status": "completed"
    },
    "tags": []
   },
   "outputs": [
    {
     "data": {
      "text/html": [
       "<div>\n",
       "<style scoped>\n",
       "    .dataframe tbody tr th:only-of-type {\n",
       "        vertical-align: middle;\n",
       "    }\n",
       "\n",
       "    .dataframe tbody tr th {\n",
       "        vertical-align: top;\n",
       "    }\n",
       "\n",
       "    .dataframe thead th {\n",
       "        text-align: right;\n",
       "    }\n",
       "</style>\n",
       "<table border=\"1\" class=\"dataframe\">\n",
       "  <thead>\n",
       "    <tr style=\"text-align: right;\">\n",
       "      <th></th>\n",
       "      <th>col</th>\n",
       "      <th>imp</th>\n",
       "      <th>imp_std</th>\n",
       "    </tr>\n",
       "  </thead>\n",
       "  <tbody>\n",
       "    <tr>\n",
       "      <th>52</th>\n",
       "      <td>EXT_SOURCE_mean</td>\n",
       "      <td>112438.907936</td>\n",
       "      <td>1217.139287</td>\n",
       "    </tr>\n",
       "    <tr>\n",
       "      <th>134</th>\n",
       "      <td>ORGANIZATION_TYPE</td>\n",
       "      <td>21573.968751</td>\n",
       "      <td>1044.080966</td>\n",
       "    </tr>\n",
       "    <tr>\n",
       "      <th>10</th>\n",
       "      <td>ANNUITY_div_CREDIT</td>\n",
       "      <td>18349.279658</td>\n",
       "      <td>1039.471604</td>\n",
       "    </tr>\n",
       "    <tr>\n",
       "      <th>49</th>\n",
       "      <td>EXT_SOURCE_3</td>\n",
       "      <td>10710.855987</td>\n",
       "      <td>490.719084</td>\n",
       "    </tr>\n",
       "    <tr>\n",
       "      <th>53</th>\n",
       "      <td>EXT_SOURCE_min</td>\n",
       "      <td>7021.835349</td>\n",
       "      <td>444.955386</td>\n",
       "    </tr>\n",
       "    <tr>\n",
       "      <th>32</th>\n",
       "      <td>DAYS_BIRTH</td>\n",
       "      <td>6666.389282</td>\n",
       "      <td>814.801948</td>\n",
       "    </tr>\n",
       "    <tr>\n",
       "      <th>47</th>\n",
       "      <td>EXT_SOURCE_1</td>\n",
       "      <td>6605.474412</td>\n",
       "      <td>601.782028</td>\n",
       "    </tr>\n",
       "    <tr>\n",
       "      <th>21</th>\n",
       "      <td>CNT_INSTALMENT_FUTURE_mean</td>\n",
       "      <td>6289.278576</td>\n",
       "      <td>365.694448</td>\n",
       "    </tr>\n",
       "    <tr>\n",
       "      <th>0</th>\n",
       "      <td>AMT_ANNUITY</td>\n",
       "      <td>5563.190447</td>\n",
       "      <td>368.625974</td>\n",
       "    </tr>\n",
       "    <tr>\n",
       "      <th>108</th>\n",
       "      <td>MONTHS_BALANCE_std</td>\n",
       "      <td>5340.370365</td>\n",
       "      <td>466.201881</td>\n",
       "    </tr>\n",
       "  </tbody>\n",
       "</table>\n",
       "</div>"
      ],
      "text/plain": [
       "                            col            imp      imp_std\n",
       "52              EXT_SOURCE_mean  112438.907936  1217.139287\n",
       "134           ORGANIZATION_TYPE   21573.968751  1044.080966\n",
       "10           ANNUITY_div_CREDIT   18349.279658  1039.471604\n",
       "49                 EXT_SOURCE_3   10710.855987   490.719084\n",
       "53               EXT_SOURCE_min    7021.835349   444.955386\n",
       "32                   DAYS_BIRTH    6666.389282   814.801948\n",
       "47                 EXT_SOURCE_1    6605.474412   601.782028\n",
       "21   CNT_INSTALMENT_FUTURE_mean    6289.278576   365.694448\n",
       "0                   AMT_ANNUITY    5563.190447   368.625974\n",
       "108          MONTHS_BALANCE_std    5340.370365   466.201881"
      ]
     },
     "execution_count": 38,
     "metadata": {},
     "output_type": "execute_result"
    }
   ],
   "source": [
    "#説明変数の重要度の確認\n",
    "imp.sort_values(\"imp\", ascending=False)[:10]"
   ]
  },
  {
   "cell_type": "code",
   "execution_count": 39,
   "id": "086066a0",
   "metadata": {
    "execution": {
     "iopub.execute_input": "2023-04-30T14:26:38.914825Z",
     "iopub.status.busy": "2023-04-30T14:26:38.913665Z",
     "iopub.status.idle": "2023-04-30T14:26:39.482152Z",
     "shell.execute_reply": "2023-04-30T14:26:39.481244Z"
    },
    "papermill": {
     "duration": 0.600157,
     "end_time": "2023-04-30T14:26:39.484724",
     "exception": false,
     "start_time": "2023-04-30T14:26:38.884567",
     "status": "completed"
    },
    "tags": []
   },
   "outputs": [],
   "source": [
    "#推論用のデータセット作成\n",
    "# テーブル結合\n",
    "df_test = pd.merge(application_test, pos_ohe_agg, on=\"SK_ID_CURR\", how=\"left\")\n",
    "\n",
    "# データセット作成\n",
    "x_test = df_test.drop(columns=[\"SK_ID_CURR\"])\n",
    "id_test = df_test[[\"SK_ID_CURR\"]]\n",
    "\n",
    "# カテゴリ変数をcategory型へ変換\n",
    "for col in x_test.columns:\n",
    "    if x_test[col].dtype==\"O\":\n",
    "        x_test[col] = x_test[col].astype(\"category\")"
   ]
  },
  {
   "cell_type": "code",
   "execution_count": 40,
   "id": "4264ad20",
   "metadata": {
    "execution": {
     "iopub.execute_input": "2023-04-30T14:26:39.535565Z",
     "iopub.status.busy": "2023-04-30T14:26:39.534747Z",
     "iopub.status.idle": "2023-04-30T14:26:43.065015Z",
     "shell.execute_reply": "2023-04-30T14:26:43.064001Z"
    },
    "papermill": {
     "duration": 3.558968,
     "end_time": "2023-04-30T14:26:43.067706",
     "exception": false,
     "start_time": "2023-04-30T14:26:39.508738",
     "status": "completed"
    },
    "tags": []
   },
   "outputs": [
    {
     "name": "stdout",
     "output_type": "stream",
     "text": [
      "-------------------- 0 --------------------\n",
      "-------------------- 1 --------------------\n",
      "-------------------- 2 --------------------\n",
      "-------------------- 3 --------------------\n",
      "-------------------- 4 --------------------\n",
      "Done.\n"
     ]
    }
   ],
   "source": [
    "test_pred = predict_lgb(x_test,\n",
    "                        id_test,\n",
    "                        list_nfold=[0,1,2,3,4],\n",
    "                       )"
   ]
  },
  {
   "cell_type": "code",
   "execution_count": 41,
   "id": "2953bac0",
   "metadata": {
    "execution": {
     "iopub.execute_input": "2023-04-30T14:26:43.117416Z",
     "iopub.status.busy": "2023-04-30T14:26:43.116579Z",
     "iopub.status.idle": "2023-04-30T14:26:43.246342Z",
     "shell.execute_reply": "2023-04-30T14:26:43.245351Z"
    },
    "papermill": {
     "duration": 0.157494,
     "end_time": "2023-04-30T14:26:43.249050",
     "exception": false,
     "start_time": "2023-04-30T14:26:43.091556",
     "status": "completed"
    },
    "tags": []
   },
   "outputs": [
    {
     "name": "stdout",
     "output_type": "stream",
     "text": [
      "(48744, 2)\n"
     ]
    },
    {
     "data": {
      "text/html": [
       "<div>\n",
       "<style scoped>\n",
       "    .dataframe tbody tr th:only-of-type {\n",
       "        vertical-align: middle;\n",
       "    }\n",
       "\n",
       "    .dataframe tbody tr th {\n",
       "        vertical-align: top;\n",
       "    }\n",
       "\n",
       "    .dataframe thead th {\n",
       "        text-align: right;\n",
       "    }\n",
       "</style>\n",
       "<table border=\"1\" class=\"dataframe\">\n",
       "  <thead>\n",
       "    <tr style=\"text-align: right;\">\n",
       "      <th></th>\n",
       "      <th>SK_ID_CURR</th>\n",
       "      <th>TARGET</th>\n",
       "    </tr>\n",
       "  </thead>\n",
       "  <tbody>\n",
       "    <tr>\n",
       "      <th>0</th>\n",
       "      <td>100001</td>\n",
       "      <td>0.032163</td>\n",
       "    </tr>\n",
       "    <tr>\n",
       "      <th>1</th>\n",
       "      <td>100005</td>\n",
       "      <td>0.104400</td>\n",
       "    </tr>\n",
       "    <tr>\n",
       "      <th>2</th>\n",
       "      <td>100013</td>\n",
       "      <td>0.025425</td>\n",
       "    </tr>\n",
       "    <tr>\n",
       "      <th>3</th>\n",
       "      <td>100028</td>\n",
       "      <td>0.047522</td>\n",
       "    </tr>\n",
       "    <tr>\n",
       "      <th>4</th>\n",
       "      <td>100038</td>\n",
       "      <td>0.210907</td>\n",
       "    </tr>\n",
       "  </tbody>\n",
       "</table>\n",
       "</div>"
      ],
      "text/plain": [
       "   SK_ID_CURR    TARGET\n",
       "0      100001  0.032163\n",
       "1      100005  0.104400\n",
       "2      100013  0.025425\n",
       "3      100028  0.047522\n",
       "4      100038  0.210907"
      ]
     },
     "metadata": {},
     "output_type": "display_data"
    }
   ],
   "source": [
    "#提出ファイルの作成\n",
    "df_submit = test_pred.rename(columns={\"pred\":\"TARGET\"})\n",
    "print(df_submit.shape)\n",
    "display(df_submit.head())\n",
    "df_submit.to_csv(\"submission_FeatureEngineering2.csv\", index=None)"
   ]
  },
  {
   "cell_type": "markdown",
   "id": "c517047d",
   "metadata": {
    "papermill": {
     "duration": 0.023691,
     "end_time": "2023-04-30T14:26:43.297073",
     "exception": false,
     "start_time": "2023-04-30T14:26:43.273382",
     "status": "completed"
    },
    "tags": []
   },
   "source": [
    "# 3 モデルチューニング"
   ]
  },
  {
   "cell_type": "code",
   "execution_count": 42,
   "id": "9b5a8908",
   "metadata": {
    "execution": {
     "iopub.execute_input": "2023-04-30T14:26:43.347413Z",
     "iopub.status.busy": "2023-04-30T14:26:43.346705Z",
     "iopub.status.idle": "2023-04-30T14:26:43.352177Z",
     "shell.execute_reply": "2023-04-30T14:26:43.351313Z"
    },
    "papermill": {
     "duration": 0.033537,
     "end_time": "2023-04-30T14:26:43.354461",
     "exception": false,
     "start_time": "2023-04-30T14:26:43.320924",
     "status": "completed"
    },
    "tags": []
   },
   "outputs": [],
   "source": [
    "#重要度を用いて絞り込んだ特徴量リストの作成\n",
    "col_filter = sorted(list(imp.sort_values(\"imp\", ascending=False)[:100][\"col\"]))\n",
    "# col_filter"
   ]
  },
  {
   "cell_type": "markdown",
   "id": "2325f6ce",
   "metadata": {
    "papermill": {
     "duration": 0.023362,
     "end_time": "2023-04-30T14:26:43.402102",
     "exception": false,
     "start_time": "2023-04-30T14:26:43.378740",
     "status": "completed"
    },
    "tags": []
   },
   "source": [
    "## 3-1 optunaによる自動チューニングの実行"
   ]
  },
  {
   "cell_type": "code",
   "execution_count": 43,
   "id": "d44b1b4e",
   "metadata": {
    "execution": {
     "iopub.execute_input": "2023-04-30T14:26:43.452561Z",
     "iopub.status.busy": "2023-04-30T14:26:43.451827Z",
     "iopub.status.idle": "2023-04-30T14:26:45.128694Z",
     "shell.execute_reply": "2023-04-30T14:26:45.127690Z"
    },
    "papermill": {
     "duration": 1.70556,
     "end_time": "2023-04-30T14:26:45.131456",
     "exception": false,
     "start_time": "2023-04-30T14:26:43.425896",
     "status": "completed"
    },
    "tags": []
   },
   "outputs": [],
   "source": [
    "import optuna\n",
    "\n",
    "#学習用のデータセット作成\n",
    "x_train = df_train.drop(columns=[\"TARGET\", \"SK_ID_CURR\"])\n",
    "y_train = df_train[\"TARGET\"]\n",
    "id_train = df_train[[\"SK_ID_CURR\"]]\n",
    "\n",
    "for col in x_train.columns:\n",
    "    if x_train[col].dtype==\"O\":\n",
    "        x_train[col] = x_train[col].astype(\"category\")"
   ]
  },
  {
   "cell_type": "code",
   "execution_count": 44,
   "id": "6c36c660",
   "metadata": {
    "execution": {
     "iopub.execute_input": "2023-04-30T14:26:45.183290Z",
     "iopub.status.busy": "2023-04-30T14:26:45.182521Z",
     "iopub.status.idle": "2023-04-30T14:26:45.196977Z",
     "shell.execute_reply": "2023-04-30T14:26:45.195734Z"
    },
    "papermill": {
     "duration": 0.043355,
     "end_time": "2023-04-30T14:26:45.199643",
     "exception": false,
     "start_time": "2023-04-30T14:26:45.156288",
     "status": "completed"
    },
    "tags": []
   },
   "outputs": [],
   "source": [
    "#目的関数の定義\n",
    "# 探索しないハイパーパラメータ\n",
    "params_base = {\n",
    "    \"boosting_type\": \"gbdt\",\n",
    "    \"objective\": \"binary\",\n",
    "    \"metric\": \"auc\",\n",
    "    \"verbosity\": -1,\n",
    "    \"learning_rate\": 0.05,\n",
    "    \"n_estimators\": 100000,\n",
    "    \"bagging_freq\": 1,\n",
    "    \"random_state\": 123,\n",
    "}\n",
    "\n",
    "# 目的関数の定義\n",
    "def objective(trial):\n",
    "    # 探索するハイパーパラメータ\n",
    "    params_tuning = {\n",
    "        \"num_leaves\": trial.suggest_int(\"num_leaves\", 8, 256),\n",
    "        \"min_child_samples\": trial.suggest_int(\"min_child_samples\", 5, 200),\n",
    "        \"min_sum_hessian_in_leaf\": trial.suggest_float(\"min_sum_hessian_in_leaf\", 1e-5, 1e-2, log=True),\n",
    "        \"feature_fraction\": trial.suggest_float(\"feature_fraction\", 0.5, 1.0),\n",
    "        \"bagging_fraction\": trial.suggest_float(\"bagging_fraction\", 0.5, 1.0),\n",
    "        \"lambda_l1\": trial.suggest_float(\"lambda_l1\", 1e-2, 1e+2, log=True),\n",
    "        \"lambda_l2\": trial.suggest_float(\"lambda_l2\", 1e-2, 1e+2, log=True),\n",
    "    }\n",
    "    params_tuning.update(params_base)\n",
    "    \n",
    "    # モデル学習・評価\n",
    "    list_metrics = []\n",
    "    cv = list(StratifiedKFold(n_splits=5, shuffle=True, random_state=123).split(x_train, y_train))\n",
    "    list_fold = [0]  # 処理高速化のために1つめのfoldのみとする。\n",
    "    for nfold in list_fold:\n",
    "        idx_tr, idx_va = cv[nfold][0], cv[nfold][1]\n",
    "        x_tr, y_tr = x_train.loc[idx_tr, :], y_train[idx_tr]\n",
    "        x_va, y_va = x_train.loc[idx_va, :], y_train[idx_va]\n",
    "        model = lgb.LGBMClassifier(**params_tuning)\n",
    "        model.fit(x_tr,\n",
    "                  y_tr,\n",
    "                  eval_set=[(x_tr,y_tr), (x_va,y_va)],\n",
    "                  early_stopping_rounds=100,\n",
    "                  verbose=0,\n",
    "                 )\n",
    "        y_va_pred = model.predict_proba(x_va)[:,1]\n",
    "        metric_va = roc_auc_score(y_va, y_va_pred) # 評価指標をAUCにする\n",
    "        list_metrics.append(metric_va)\n",
    "    \n",
    "    # 評価指標の算出\n",
    "    metrics = np.mean(list_metrics)\n",
    "    \n",
    "    return metrics"
   ]
  },
  {
   "cell_type": "code",
   "execution_count": 45,
   "id": "b1e76bd7",
   "metadata": {
    "execution": {
     "iopub.execute_input": "2023-04-30T14:26:45.250729Z",
     "iopub.status.busy": "2023-04-30T14:26:45.249936Z",
     "iopub.status.idle": "2023-04-30T15:24:01.009059Z",
     "shell.execute_reply": "2023-04-30T15:24:01.007898Z"
    },
    "papermill": {
     "duration": 3435.788101,
     "end_time": "2023-04-30T15:24:01.011861",
     "exception": false,
     "start_time": "2023-04-30T14:26:45.223760",
     "status": "completed"
    },
    "tags": []
   },
   "outputs": [
    {
     "name": "stderr",
     "output_type": "stream",
     "text": [
      "\u001b[32m[I 2023-04-30 14:26:45,253]\u001b[0m A new study created in memory with name: no-name-b7441575-3b69-4e32-93de-1a3ba7cd9ab9\u001b[0m\n"
     ]
    },
    {
     "name": "stdout",
     "output_type": "stream",
     "text": [
      "[LightGBM] [Warning] feature_fraction is set=0.7128939008365752, colsample_bytree=1.0 will be ignored. Current value: feature_fraction=0.7128939008365752\n",
      "[LightGBM] [Warning] lambda_l1 is set=2.6646728406458804, reg_alpha=0.0 will be ignored. Current value: lambda_l1=2.6646728406458804\n",
      "[LightGBM] [Warning] bagging_fraction is set=0.9295691553493768, subsample=1.0 will be ignored. Current value: bagging_fraction=0.9295691553493768\n",
      "[LightGBM] [Warning] min_sum_hessian_in_leaf is set=1.4201095790918764e-05, min_child_weight=0.001 will be ignored. Current value: min_sum_hessian_in_leaf=1.4201095790918764e-05\n",
      "[LightGBM] [Warning] bagging_freq is set=1, subsample_freq=0 will be ignored. Current value: bagging_freq=1\n",
      "[LightGBM] [Warning] lambda_l2 is set=0.24593204506532299, reg_lambda=0.0 will be ignored. Current value: lambda_l2=0.24593204506532299\n",
      "[LightGBM] [Warning] feature_fraction is set=0.7915560266087379, colsample_bytree=1.0 will be ignored. Current value: feature_fraction=0.7915560266087379\n",
      "[LightGBM] [Warning] lambda_l1 is set=0.03078325894658214, reg_alpha=0.0 will be ignored. Current value: lambda_l1=0.03078325894658214\n",
      "[LightGBM] [Warning] bagging_fraction is set=0.8662663534366088, subsample=1.0 will be ignored. Current value: bagging_fraction=0.8662663534366088\n",
      "[LightGBM] [Warning] min_sum_hessian_in_leaf is set=0.003498325557175782, min_child_weight=0.001 will be ignored. Current value: min_sum_hessian_in_leaf=0.003498325557175782\n",
      "[LightGBM] [Warning] bagging_freq is set=1, subsample_freq=0 will be ignored. Current value: bagging_freq=1\n",
      "[LightGBM] [Warning] lambda_l2 is set=0.05298577618076196, reg_lambda=0.0 will be ignored. Current value: lambda_l2=0.05298577618076196\n",
      "[LightGBM] [Warning] feature_fraction is set=0.5281797830802837, colsample_bytree=1.0 will be ignored. Current value: feature_fraction=0.5281797830802837\n",
      "[LightGBM] [Warning] lambda_l1 is set=3.057219878560467, reg_alpha=0.0 will be ignored. Current value: lambda_l1=3.057219878560467\n",
      "[LightGBM] [Warning] bagging_fraction is set=0.5279289777706112, subsample=1.0 will be ignored. Current value: bagging_fraction=0.5279289777706112\n",
      "[LightGBM] [Warning] min_sum_hessian_in_leaf is set=0.0002407931541331706, min_child_weight=0.001 will be ignored. Current value: min_sum_hessian_in_leaf=0.0002407931541331706\n",
      "[LightGBM] [Warning] bagging_freq is set=1, subsample_freq=0 will be ignored. Current value: bagging_freq=1\n",
      "[LightGBM] [Warning] lambda_l2 is set=60.36744583378966, reg_lambda=0.0 will be ignored. Current value: lambda_l2=60.36744583378966\n",
      "[LightGBM] [Warning] feature_fraction is set=0.5850376878696498, colsample_bytree=1.0 will be ignored. Current value: feature_fraction=0.5850376878696498\n",
      "[LightGBM] [Warning] lambda_l1 is set=0.023068077831079503, reg_alpha=0.0 will be ignored. Current value: lambda_l1=0.023068077831079503\n",
      "[LightGBM] [Warning] bagging_fraction is set=0.7159694334795093, subsample=1.0 will be ignored. Current value: bagging_fraction=0.7159694334795093\n",
      "[LightGBM] [Warning] min_sum_hessian_in_leaf is set=2.9983948823347098e-05, min_child_weight=0.001 will be ignored. Current value: min_sum_hessian_in_leaf=2.9983948823347098e-05\n",
      "[LightGBM] [Warning] bagging_freq is set=1, subsample_freq=0 will be ignored. Current value: bagging_freq=1\n",
      "[LightGBM] [Warning] lambda_l2 is set=0.020336781644361635, reg_lambda=0.0 will be ignored. Current value: lambda_l2=0.020336781644361635\n",
      "[LightGBM] [Warning] feature_fraction is set=0.649035392367971, colsample_bytree=1.0 will be ignored. Current value: feature_fraction=0.649035392367971\n",
      "[LightGBM] [Warning] lambda_l1 is set=2.963292598591806, reg_alpha=0.0 will be ignored. Current value: lambda_l1=2.963292598591806\n",
      "[LightGBM] [Warning] bagging_fraction is set=0.6688701597563487, subsample=1.0 will be ignored. Current value: bagging_fraction=0.6688701597563487\n",
      "[LightGBM] [Warning] min_sum_hessian_in_leaf is set=0.00011943022057432947, min_child_weight=0.001 will be ignored. Current value: min_sum_hessian_in_leaf=0.00011943022057432947\n",
      "[LightGBM] [Warning] bagging_freq is set=1, subsample_freq=0 will be ignored. Current value: bagging_freq=1\n",
      "[LightGBM] [Warning] lambda_l2 is set=0.6715752053425988, reg_lambda=0.0 will be ignored. Current value: lambda_l2=0.6715752053425988\n"
     ]
    },
    {
     "name": "stderr",
     "output_type": "stream",
     "text": [
      "\u001b[32m[I 2023-04-30 14:30:50,539]\u001b[0m Trial 3 finished with value: 0.7727685008045815 and parameters: {'num_leaves': 39, 'min_child_samples': 99, 'min_sum_hessian_in_leaf': 2.9983948823347098e-05, 'feature_fraction': 0.5850376878696498, 'bagging_fraction': 0.7159694334795093, 'lambda_l1': 0.023068077831079503, 'lambda_l2': 0.020336781644361635}. Best is trial 3 with value: 0.7727685008045815.\u001b[0m\n"
     ]
    },
    {
     "name": "stdout",
     "output_type": "stream",
     "text": [
      "[LightGBM] [Warning] feature_fraction is set=0.9209435355185196, colsample_bytree=1.0 will be ignored. Current value: feature_fraction=0.9209435355185196\n",
      "[LightGBM] [Warning] lambda_l1 is set=1.3930408779822414, reg_alpha=0.0 will be ignored. Current value: lambda_l1=1.3930408779822414\n",
      "[LightGBM] [Warning] bagging_fraction is set=0.500240166436195, subsample=1.0 will be ignored. Current value: bagging_fraction=0.500240166436195\n",
      "[LightGBM] [Warning] min_sum_hessian_in_leaf is set=4.714028673031651e-05, min_child_weight=0.001 will be ignored. Current value: min_sum_hessian_in_leaf=4.714028673031651e-05\n",
      "[LightGBM] [Warning] bagging_freq is set=1, subsample_freq=0 will be ignored. Current value: bagging_freq=1\n",
      "[LightGBM] [Warning] lambda_l2 is set=3.690943573970376, reg_lambda=0.0 will be ignored. Current value: lambda_l2=3.690943573970376\n"
     ]
    },
    {
     "name": "stderr",
     "output_type": "stream",
     "text": [
      "\u001b[32m[I 2023-04-30 14:32:08,385]\u001b[0m Trial 2 finished with value: 0.7693193754990227 and parameters: {'num_leaves': 188, 'min_child_samples': 5, 'min_sum_hessian_in_leaf': 0.0002407931541331706, 'feature_fraction': 0.5281797830802837, 'bagging_fraction': 0.5279289777706112, 'lambda_l1': 3.057219878560467, 'lambda_l2': 60.36744583378966}. Best is trial 3 with value: 0.7727685008045815.\u001b[0m\n"
     ]
    },
    {
     "name": "stdout",
     "output_type": "stream",
     "text": [
      "[LightGBM] [Warning] feature_fraction is set=0.8336215842654653, colsample_bytree=1.0 will be ignored. Current value: feature_fraction=0.8336215842654653\n",
      "[LightGBM] [Warning] lambda_l1 is set=37.85113452982476, reg_alpha=0.0 will be ignored. Current value: lambda_l1=37.85113452982476\n",
      "[LightGBM] [Warning] bagging_fraction is set=0.7058401885578065, subsample=1.0 will be ignored. Current value: bagging_fraction=0.7058401885578065\n",
      "[LightGBM] [Warning] min_sum_hessian_in_leaf is set=0.0006312414094763962, min_child_weight=0.001 will be ignored. Current value: min_sum_hessian_in_leaf=0.0006312414094763962\n",
      "[LightGBM] [Warning] bagging_freq is set=1, subsample_freq=0 will be ignored. Current value: bagging_freq=1\n",
      "[LightGBM] [Warning] lambda_l2 is set=13.738770122552033, reg_lambda=0.0 will be ignored. Current value: lambda_l2=13.738770122552033\n"
     ]
    },
    {
     "name": "stderr",
     "output_type": "stream",
     "text": [
      "\u001b[32m[I 2023-04-30 14:32:14,615]\u001b[0m Trial 1 finished with value: 0.7670490098416817 and parameters: {'num_leaves': 256, 'min_child_samples': 61, 'min_sum_hessian_in_leaf': 0.003498325557175782, 'feature_fraction': 0.7915560266087379, 'bagging_fraction': 0.8662663534366088, 'lambda_l1': 0.03078325894658214, 'lambda_l2': 0.05298577618076196}. Best is trial 3 with value: 0.7727685008045815.\u001b[0m\n"
     ]
    },
    {
     "name": "stdout",
     "output_type": "stream",
     "text": [
      "[LightGBM] [Warning] feature_fraction is set=0.5367125816883797, colsample_bytree=1.0 will be ignored. Current value: feature_fraction=0.5367125816883797\n",
      "[LightGBM] [Warning] lambda_l1 is set=0.10620890279781825, reg_alpha=0.0 will be ignored. Current value: lambda_l1=0.10620890279781825\n",
      "[LightGBM] [Warning] bagging_fraction is set=0.6221672971653607, subsample=1.0 will be ignored. Current value: bagging_fraction=0.6221672971653607\n",
      "[LightGBM] [Warning] min_sum_hessian_in_leaf is set=0.0034196552085086806, min_child_weight=0.001 will be ignored. Current value: min_sum_hessian_in_leaf=0.0034196552085086806\n",
      "[LightGBM] [Warning] bagging_freq is set=1, subsample_freq=0 will be ignored. Current value: bagging_freq=1\n",
      "[LightGBM] [Warning] lambda_l2 is set=0.16634517707532664, reg_lambda=0.0 will be ignored. Current value: lambda_l2=0.16634517707532664\n"
     ]
    },
    {
     "name": "stderr",
     "output_type": "stream",
     "text": [
      "\u001b[32m[I 2023-04-30 14:32:36,687]\u001b[0m Trial 4 finished with value: 0.773745284165215 and parameters: {'num_leaves': 10, 'min_child_samples': 115, 'min_sum_hessian_in_leaf': 0.00011943022057432947, 'feature_fraction': 0.649035392367971, 'bagging_fraction': 0.6688701597563487, 'lambda_l1': 2.963292598591806, 'lambda_l2': 0.6715752053425988}. Best is trial 4 with value: 0.773745284165215.\u001b[0m\n"
     ]
    },
    {
     "name": "stdout",
     "output_type": "stream",
     "text": [
      "[LightGBM] [Warning] feature_fraction is set=0.6517588538325736, colsample_bytree=1.0 will be ignored. Current value: feature_fraction=0.6517588538325736\n",
      "[LightGBM] [Warning] lambda_l1 is set=0.34848479086760753, reg_alpha=0.0 will be ignored. Current value: lambda_l1=0.34848479086760753\n",
      "[LightGBM] [Warning] bagging_fraction is set=0.6403897018708236, subsample=1.0 will be ignored. Current value: bagging_fraction=0.6403897018708236\n",
      "[LightGBM] [Warning] min_sum_hessian_in_leaf is set=2.1822354176257006e-05, min_child_weight=0.001 will be ignored. Current value: min_sum_hessian_in_leaf=2.1822354176257006e-05\n",
      "[LightGBM] [Warning] bagging_freq is set=1, subsample_freq=0 will be ignored. Current value: bagging_freq=1\n",
      "[LightGBM] [Warning] lambda_l2 is set=43.085601228865194, reg_lambda=0.0 will be ignored. Current value: lambda_l2=43.085601228865194\n"
     ]
    },
    {
     "name": "stderr",
     "output_type": "stream",
     "text": [
      "\u001b[32m[I 2023-04-30 14:32:56,745]\u001b[0m Trial 0 finished with value: 0.769876834612602 and parameters: {'num_leaves': 208, 'min_child_samples': 112, 'min_sum_hessian_in_leaf': 1.4201095790918764e-05, 'feature_fraction': 0.7128939008365752, 'bagging_fraction': 0.9295691553493768, 'lambda_l1': 2.6646728406458804, 'lambda_l2': 0.24593204506532299}. Best is trial 4 with value: 0.773745284165215.\u001b[0m\n"
     ]
    },
    {
     "name": "stdout",
     "output_type": "stream",
     "text": [
      "[LightGBM] [Warning] feature_fraction is set=0.8247545803043157, colsample_bytree=1.0 will be ignored. Current value: feature_fraction=0.8247545803043157\n",
      "[LightGBM] [Warning] lambda_l1 is set=2.513540205784352, reg_alpha=0.0 will be ignored. Current value: lambda_l1=2.513540205784352\n",
      "[LightGBM] [Warning] bagging_fraction is set=0.6656417865118325, subsample=1.0 will be ignored. Current value: bagging_fraction=0.6656417865118325\n",
      "[LightGBM] [Warning] min_sum_hessian_in_leaf is set=2.454020514522036e-05, min_child_weight=0.001 will be ignored. Current value: min_sum_hessian_in_leaf=2.454020514522036e-05\n",
      "[LightGBM] [Warning] bagging_freq is set=1, subsample_freq=0 will be ignored. Current value: bagging_freq=1\n",
      "[LightGBM] [Warning] lambda_l2 is set=0.37793969184757337, reg_lambda=0.0 will be ignored. Current value: lambda_l2=0.37793969184757337\n"
     ]
    },
    {
     "name": "stderr",
     "output_type": "stream",
     "text": [
      "\u001b[32m[I 2023-04-30 14:35:00,330]\u001b[0m Trial 5 finished with value: 0.769288375663854 and parameters: {'num_leaves': 43, 'min_child_samples': 96, 'min_sum_hessian_in_leaf': 4.714028673031651e-05, 'feature_fraction': 0.9209435355185196, 'bagging_fraction': 0.500240166436195, 'lambda_l1': 1.3930408779822414, 'lambda_l2': 3.690943573970376}. Best is trial 4 with value: 0.773745284165215.\u001b[0m\n"
     ]
    },
    {
     "name": "stdout",
     "output_type": "stream",
     "text": [
      "[LightGBM] [Warning] feature_fraction is set=0.9521308259778436, colsample_bytree=1.0 will be ignored. Current value: feature_fraction=0.9521308259778436\n",
      "[LightGBM] [Warning] lambda_l1 is set=0.035904044425813825, reg_alpha=0.0 will be ignored. Current value: lambda_l1=0.035904044425813825\n",
      "[LightGBM] [Warning] bagging_fraction is set=0.6571120601206357, subsample=1.0 will be ignored. Current value: bagging_fraction=0.6571120601206357\n",
      "[LightGBM] [Warning] min_sum_hessian_in_leaf is set=0.009308766200595049, min_child_weight=0.001 will be ignored. Current value: min_sum_hessian_in_leaf=0.009308766200595049\n",
      "[LightGBM] [Warning] bagging_freq is set=1, subsample_freq=0 will be ignored. Current value: bagging_freq=1\n",
      "[LightGBM] [Warning] lambda_l2 is set=0.48676577678967453, reg_lambda=0.0 will be ignored. Current value: lambda_l2=0.48676577678967453\n"
     ]
    },
    {
     "name": "stderr",
     "output_type": "stream",
     "text": [
      "\u001b[32m[I 2023-04-30 14:36:26,473]\u001b[0m Trial 7 finished with value: 0.7696995313724067 and parameters: {'num_leaves': 119, 'min_child_samples': 125, 'min_sum_hessian_in_leaf': 0.0034196552085086806, 'feature_fraction': 0.5367125816883797, 'bagging_fraction': 0.6221672971653607, 'lambda_l1': 0.10620890279781825, 'lambda_l2': 0.16634517707532664}. Best is trial 4 with value: 0.773745284165215.\u001b[0m\n"
     ]
    },
    {
     "name": "stdout",
     "output_type": "stream",
     "text": [
      "[LightGBM] [Warning] feature_fraction is set=0.6354710382099644, colsample_bytree=1.0 will be ignored. Current value: feature_fraction=0.6354710382099644\n",
      "[LightGBM] [Warning] lambda_l1 is set=67.75135561587287, reg_alpha=0.0 will be ignored. Current value: lambda_l1=67.75135561587287\n",
      "[LightGBM] [Warning] bagging_fraction is set=0.8865195753442177, subsample=1.0 will be ignored. Current value: bagging_fraction=0.8865195753442177\n",
      "[LightGBM] [Warning] min_sum_hessian_in_leaf is set=0.0006399494987799596, min_child_weight=0.001 will be ignored. Current value: min_sum_hessian_in_leaf=0.0006399494987799596\n",
      "[LightGBM] [Warning] bagging_freq is set=1, subsample_freq=0 will be ignored. Current value: bagging_freq=1\n",
      "[LightGBM] [Warning] lambda_l2 is set=0.011296561511023241, reg_lambda=0.0 will be ignored. Current value: lambda_l2=0.011296561511023241\n"
     ]
    },
    {
     "name": "stderr",
     "output_type": "stream",
     "text": [
      "\u001b[32m[I 2023-04-30 14:37:52,320]\u001b[0m Trial 8 finished with value: 0.7739668677951077 and parameters: {'num_leaves': 14, 'min_child_samples': 64, 'min_sum_hessian_in_leaf': 2.1822354176257006e-05, 'feature_fraction': 0.6517588538325736, 'bagging_fraction': 0.6403897018708236, 'lambda_l1': 0.34848479086760753, 'lambda_l2': 43.085601228865194}. Best is trial 8 with value: 0.7739668677951077.\u001b[0m\n"
     ]
    },
    {
     "name": "stdout",
     "output_type": "stream",
     "text": [
      "[LightGBM] [Warning] feature_fraction is set=0.599607362486716, colsample_bytree=1.0 will be ignored. Current value: feature_fraction=0.599607362486716\n",
      "[LightGBM] [Warning] lambda_l1 is set=0.018400401686804124, reg_alpha=0.0 will be ignored. Current value: lambda_l1=0.018400401686804124\n",
      "[LightGBM] [Warning] bagging_fraction is set=0.6270658496386041, subsample=1.0 will be ignored. Current value: bagging_fraction=0.6270658496386041\n",
      "[LightGBM] [Warning] min_sum_hessian_in_leaf is set=0.0001376821385007092, min_child_weight=0.001 will be ignored. Current value: min_sum_hessian_in_leaf=0.0001376821385007092\n",
      "[LightGBM] [Warning] bagging_freq is set=1, subsample_freq=0 will be ignored. Current value: bagging_freq=1\n",
      "[LightGBM] [Warning] lambda_l2 is set=0.058288996558707055, reg_lambda=0.0 will be ignored. Current value: lambda_l2=0.058288996558707055\n"
     ]
    },
    {
     "name": "stderr",
     "output_type": "stream",
     "text": [
      "\u001b[32m[I 2023-04-30 14:38:38,891]\u001b[0m Trial 10 finished with value: 0.7691424712454441 and parameters: {'num_leaves': 107, 'min_child_samples': 123, 'min_sum_hessian_in_leaf': 0.009308766200595049, 'feature_fraction': 0.9521308259778436, 'bagging_fraction': 0.6571120601206357, 'lambda_l1': 0.035904044425813825, 'lambda_l2': 0.48676577678967453}. Best is trial 8 with value: 0.7739668677951077.\u001b[0m\n"
     ]
    },
    {
     "name": "stdout",
     "output_type": "stream",
     "text": [
      "[LightGBM] [Warning] feature_fraction is set=0.6600242808843753, colsample_bytree=1.0 will be ignored. Current value: feature_fraction=0.6600242808843753\n",
      "[LightGBM] [Warning] lambda_l1 is set=4.17127173745554, reg_alpha=0.0 will be ignored. Current value: lambda_l1=4.17127173745554\n",
      "[LightGBM] [Warning] bagging_fraction is set=0.691086331902068, subsample=1.0 will be ignored. Current value: bagging_fraction=0.691086331902068\n",
      "[LightGBM] [Warning] min_sum_hessian_in_leaf is set=0.0001285105525128105, min_child_weight=0.001 will be ignored. Current value: min_sum_hessian_in_leaf=0.0001285105525128105\n",
      "[LightGBM] [Warning] bagging_freq is set=1, subsample_freq=0 will be ignored. Current value: bagging_freq=1\n",
      "[LightGBM] [Warning] lambda_l2 is set=0.07170186177257691, reg_lambda=0.0 will be ignored. Current value: lambda_l2=0.07170186177257691\n"
     ]
    },
    {
     "name": "stderr",
     "output_type": "stream",
     "text": [
      "\u001b[32m[I 2023-04-30 14:38:54,463]\u001b[0m Trial 6 finished with value: 0.7702918376921019 and parameters: {'num_leaves': 104, 'min_child_samples': 84, 'min_sum_hessian_in_leaf': 0.0006312414094763962, 'feature_fraction': 0.8336215842654653, 'bagging_fraction': 0.7058401885578065, 'lambda_l1': 37.85113452982476, 'lambda_l2': 13.738770122552033}. Best is trial 8 with value: 0.7739668677951077.\u001b[0m\n"
     ]
    },
    {
     "name": "stdout",
     "output_type": "stream",
     "text": [
      "[LightGBM] [Warning] feature_fraction is set=0.6948205891209409, colsample_bytree=1.0 will be ignored. Current value: feature_fraction=0.6948205891209409\n",
      "[LightGBM] [Warning] lambda_l1 is set=0.28638741520309485, reg_alpha=0.0 will be ignored. Current value: lambda_l1=0.28638741520309485\n",
      "[LightGBM] [Warning] bagging_fraction is set=0.810896984694953, subsample=1.0 will be ignored. Current value: bagging_fraction=0.810896984694953\n",
      "[LightGBM] [Warning] min_sum_hessian_in_leaf is set=1.282154611628788e-05, min_child_weight=0.001 will be ignored. Current value: min_sum_hessian_in_leaf=1.282154611628788e-05\n",
      "[LightGBM] [Warning] bagging_freq is set=1, subsample_freq=0 will be ignored. Current value: bagging_freq=1\n",
      "[LightGBM] [Warning] lambda_l2 is set=95.37325063725282, reg_lambda=0.0 will be ignored. Current value: lambda_l2=95.37325063725282\n"
     ]
    },
    {
     "name": "stderr",
     "output_type": "stream",
     "text": [
      "\u001b[32m[I 2023-04-30 14:39:39,973]\u001b[0m Trial 9 finished with value: 0.7666111434040904 and parameters: {'num_leaves': 237, 'min_child_samples': 44, 'min_sum_hessian_in_leaf': 2.454020514522036e-05, 'feature_fraction': 0.8247545803043157, 'bagging_fraction': 0.6656417865118325, 'lambda_l1': 2.513540205784352, 'lambda_l2': 0.37793969184757337}. Best is trial 8 with value: 0.7739668677951077.\u001b[0m\n"
     ]
    },
    {
     "name": "stdout",
     "output_type": "stream",
     "text": [
      "[LightGBM] [Warning] feature_fraction is set=0.6629758419075759, colsample_bytree=1.0 will be ignored. Current value: feature_fraction=0.6629758419075759\n",
      "[LightGBM] [Warning] lambda_l1 is set=0.33487443727854393, reg_alpha=0.0 will be ignored. Current value: lambda_l1=0.33487443727854393\n",
      "[LightGBM] [Warning] bagging_fraction is set=0.7879720462589559, subsample=1.0 will be ignored. Current value: bagging_fraction=0.7879720462589559\n",
      "[LightGBM] [Warning] min_sum_hessian_in_leaf is set=8.958773624199919e-05, min_child_weight=0.001 will be ignored. Current value: min_sum_hessian_in_leaf=8.958773624199919e-05\n",
      "[LightGBM] [Warning] bagging_freq is set=1, subsample_freq=0 will be ignored. Current value: bagging_freq=1\n",
      "[LightGBM] [Warning] lambda_l2 is set=2.024470981502225, reg_lambda=0.0 will be ignored. Current value: lambda_l2=2.024470981502225\n"
     ]
    },
    {
     "name": "stderr",
     "output_type": "stream",
     "text": [
      "\u001b[32m[I 2023-04-30 14:41:52,805]\u001b[0m Trial 12 finished with value: 0.7703638975249898 and parameters: {'num_leaves': 53, 'min_child_samples': 162, 'min_sum_hessian_in_leaf': 0.0001376821385007092, 'feature_fraction': 0.599607362486716, 'bagging_fraction': 0.6270658496386041, 'lambda_l1': 0.018400401686804124, 'lambda_l2': 0.058288996558707055}. Best is trial 8 with value: 0.7739668677951077.\u001b[0m\n"
     ]
    },
    {
     "name": "stdout",
     "output_type": "stream",
     "text": [
      "[LightGBM] [Warning] feature_fraction is set=0.6835805373858773, colsample_bytree=1.0 will be ignored. Current value: feature_fraction=0.6835805373858773\n",
      "[LightGBM] [Warning] lambda_l1 is set=0.32414985919792577, reg_alpha=0.0 will be ignored. Current value: lambda_l1=0.32414985919792577\n",
      "[LightGBM] [Warning] bagging_fraction is set=0.8202328522800826, subsample=1.0 will be ignored. Current value: bagging_fraction=0.8202328522800826\n",
      "[LightGBM] [Warning] min_sum_hessian_in_leaf is set=7.530342372742158e-05, min_child_weight=0.001 will be ignored. Current value: min_sum_hessian_in_leaf=7.530342372742158e-05\n",
      "[LightGBM] [Warning] bagging_freq is set=1, subsample_freq=0 will be ignored. Current value: bagging_freq=1\n",
      "[LightGBM] [Warning] lambda_l2 is set=1.8047043072244473, reg_lambda=0.0 will be ignored. Current value: lambda_l2=1.8047043072244473\n"
     ]
    },
    {
     "name": "stderr",
     "output_type": "stream",
     "text": [
      "\u001b[32m[I 2023-04-30 14:43:35,455]\u001b[0m Trial 15 finished with value: 0.7737438556506319 and parameters: {'num_leaves': 22, 'min_child_samples': 180, 'min_sum_hessian_in_leaf': 8.958773624199919e-05, 'feature_fraction': 0.6629758419075759, 'bagging_fraction': 0.7879720462589559, 'lambda_l1': 0.33487443727854393, 'lambda_l2': 2.024470981502225}. Best is trial 8 with value: 0.7739668677951077.\u001b[0m\n"
     ]
    },
    {
     "name": "stdout",
     "output_type": "stream",
     "text": [
      "[LightGBM] [Warning] feature_fraction is set=0.6643598507131919, colsample_bytree=1.0 will be ignored. Current value: feature_fraction=0.6643598507131919\n",
      "[LightGBM] [Warning] lambda_l1 is set=0.2733071066160774, reg_alpha=0.0 will be ignored. Current value: lambda_l1=0.2733071066160774\n",
      "[LightGBM] [Warning] bagging_fraction is set=0.7748727031198798, subsample=1.0 will be ignored. Current value: bagging_fraction=0.7748727031198798\n",
      "[LightGBM] [Warning] min_sum_hessian_in_leaf is set=1.2013092374365642e-05, min_child_weight=0.001 will be ignored. Current value: min_sum_hessian_in_leaf=1.2013092374365642e-05\n",
      "[LightGBM] [Warning] bagging_freq is set=1, subsample_freq=0 will be ignored. Current value: bagging_freq=1\n",
      "[LightGBM] [Warning] lambda_l2 is set=4.273776810347577, reg_lambda=0.0 will be ignored. Current value: lambda_l2=4.273776810347577\n"
     ]
    },
    {
     "name": "stderr",
     "output_type": "stream",
     "text": [
      "\u001b[32m[I 2023-04-30 14:44:14,264]\u001b[0m Trial 13 finished with value: 0.7741755057342393 and parameters: {'num_leaves': 15, 'min_child_samples': 7, 'min_sum_hessian_in_leaf': 0.0001285105525128105, 'feature_fraction': 0.6600242808843753, 'bagging_fraction': 0.691086331902068, 'lambda_l1': 4.17127173745554, 'lambda_l2': 0.07170186177257691}. Best is trial 13 with value: 0.7741755057342393.\u001b[0m\n"
     ]
    },
    {
     "name": "stdout",
     "output_type": "stream",
     "text": [
      "[LightGBM] [Warning] feature_fraction is set=0.7262240661279012, colsample_bytree=1.0 will be ignored. Current value: feature_fraction=0.7262240661279012\n",
      "[LightGBM] [Warning] lambda_l1 is set=0.5012013227878978, reg_alpha=0.0 will be ignored. Current value: lambda_l1=0.5012013227878978\n",
      "[LightGBM] [Warning] bagging_fraction is set=0.7910510106231791, subsample=1.0 will be ignored. Current value: bagging_fraction=0.7910510106231791\n",
      "[LightGBM] [Warning] min_sum_hessian_in_leaf is set=1.2437327781977613e-05, min_child_weight=0.001 will be ignored. Current value: min_sum_hessian_in_leaf=1.2437327781977613e-05\n",
      "[LightGBM] [Warning] bagging_freq is set=1, subsample_freq=0 will be ignored. Current value: bagging_freq=1\n",
      "[LightGBM] [Warning] lambda_l2 is set=90.79990629432264, reg_lambda=0.0 will be ignored. Current value: lambda_l2=90.79990629432264\n"
     ]
    },
    {
     "name": "stderr",
     "output_type": "stream",
     "text": [
      "\u001b[32m[I 2023-04-30 14:45:41,806]\u001b[0m Trial 14 finished with value: 0.7727634386618815 and parameters: {'num_leaves': 70, 'min_child_samples': 165, 'min_sum_hessian_in_leaf': 1.282154611628788e-05, 'feature_fraction': 0.6948205891209409, 'bagging_fraction': 0.810896984694953, 'lambda_l1': 0.28638741520309485, 'lambda_l2': 95.37325063725282}. Best is trial 13 with value: 0.7741755057342393.\u001b[0m\n"
     ]
    },
    {
     "name": "stdout",
     "output_type": "stream",
     "text": [
      "[LightGBM] [Warning] feature_fraction is set=0.7452015657933997, colsample_bytree=1.0 will be ignored. Current value: feature_fraction=0.7452015657933997\n",
      "[LightGBM] [Warning] lambda_l1 is set=12.534843629969728, reg_alpha=0.0 will be ignored. Current value: lambda_l1=12.534843629969728\n",
      "[LightGBM] [Warning] bagging_fraction is set=0.5785484490682736, subsample=1.0 will be ignored. Current value: bagging_fraction=0.5785484490682736\n",
      "[LightGBM] [Warning] min_sum_hessian_in_leaf is set=1.0209010093448084e-05, min_child_weight=0.001 will be ignored. Current value: min_sum_hessian_in_leaf=1.0209010093448084e-05\n",
      "[LightGBM] [Warning] bagging_freq is set=1, subsample_freq=0 will be ignored. Current value: bagging_freq=1\n",
      "[LightGBM] [Warning] lambda_l2 is set=0.012042995902882192, reg_lambda=0.0 will be ignored. Current value: lambda_l2=0.012042995902882192\n"
     ]
    },
    {
     "name": "stderr",
     "output_type": "stream",
     "text": [
      "\u001b[32m[I 2023-04-30 14:47:06,332]\u001b[0m Trial 16 finished with value: 0.774228916505175 and parameters: {'num_leaves': 12, 'min_child_samples': 198, 'min_sum_hessian_in_leaf': 7.530342372742158e-05, 'feature_fraction': 0.6835805373858773, 'bagging_fraction': 0.8202328522800826, 'lambda_l1': 0.32414985919792577, 'lambda_l2': 1.8047043072244473}. Best is trial 16 with value: 0.774228916505175.\u001b[0m\n"
     ]
    },
    {
     "name": "stdout",
     "output_type": "stream",
     "text": [
      "[LightGBM] [Warning] feature_fraction is set=0.7441407489048526, colsample_bytree=1.0 will be ignored. Current value: feature_fraction=0.7441407489048526\n",
      "[LightGBM] [Warning] lambda_l1 is set=10.255823037639985, reg_alpha=0.0 will be ignored. Current value: lambda_l1=10.255823037639985\n",
      "[LightGBM] [Warning] bagging_fraction is set=0.9872156359402651, subsample=1.0 will be ignored. Current value: bagging_fraction=0.9872156359402651\n",
      "[LightGBM] [Warning] min_sum_hessian_in_leaf is set=0.0004378260995697136, min_child_weight=0.001 will be ignored. Current value: min_sum_hessian_in_leaf=0.0004378260995697136\n",
      "[LightGBM] [Warning] bagging_freq is set=1, subsample_freq=0 will be ignored. Current value: bagging_freq=1\n",
      "[LightGBM] [Warning] lambda_l2 is set=2.97250426028707, reg_lambda=0.0 will be ignored. Current value: lambda_l2=2.97250426028707\n"
     ]
    },
    {
     "name": "stderr",
     "output_type": "stream",
     "text": [
      "\u001b[32m[I 2023-04-30 14:47:56,129]\u001b[0m Trial 11 finished with value: 0.7736821765945403 and parameters: {'num_leaves': 8, 'min_child_samples': 89, 'min_sum_hessian_in_leaf': 0.0006399494987799596, 'feature_fraction': 0.6354710382099644, 'bagging_fraction': 0.8865195753442177, 'lambda_l1': 67.75135561587287, 'lambda_l2': 0.011296561511023241}. Best is trial 16 with value: 0.774228916505175.\u001b[0m\n"
     ]
    },
    {
     "name": "stdout",
     "output_type": "stream",
     "text": [
      "[LightGBM] [Warning] feature_fraction is set=0.7361736352908776, colsample_bytree=1.0 will be ignored. Current value: feature_fraction=0.7361736352908776\n",
      "[LightGBM] [Warning] lambda_l1 is set=12.860015493523816, reg_alpha=0.0 will be ignored. Current value: lambda_l1=12.860015493523816\n",
      "[LightGBM] [Warning] bagging_fraction is set=0.9884591175297743, subsample=1.0 will be ignored. Current value: bagging_fraction=0.9884591175297743\n",
      "[LightGBM] [Warning] min_sum_hessian_in_leaf is set=6.924504875009663e-05, min_child_weight=0.001 will be ignored. Current value: min_sum_hessian_in_leaf=6.924504875009663e-05\n",
      "[LightGBM] [Warning] bagging_freq is set=1, subsample_freq=0 will be ignored. Current value: bagging_freq=1\n",
      "[LightGBM] [Warning] lambda_l2 is set=1.253174738118891, reg_lambda=0.0 will be ignored. Current value: lambda_l2=1.253174738118891\n"
     ]
    },
    {
     "name": "stderr",
     "output_type": "stream",
     "text": [
      "\u001b[32m[I 2023-04-30 14:48:33,017]\u001b[0m Trial 17 finished with value: 0.7724898371518312 and parameters: {'num_leaves': 76, 'min_child_samples': 39, 'min_sum_hessian_in_leaf': 1.2013092374365642e-05, 'feature_fraction': 0.6643598507131919, 'bagging_fraction': 0.7748727031198798, 'lambda_l1': 0.2733071066160774, 'lambda_l2': 4.273776810347577}. Best is trial 16 with value: 0.774228916505175.\u001b[0m\n"
     ]
    },
    {
     "name": "stdout",
     "output_type": "stream",
     "text": [
      "[LightGBM] [Warning] feature_fraction is set=0.7199017584540721, colsample_bytree=1.0 will be ignored. Current value: feature_fraction=0.7199017584540721\n",
      "[LightGBM] [Warning] lambda_l1 is set=11.113573419892143, reg_alpha=0.0 will be ignored. Current value: lambda_l1=11.113573419892143\n",
      "[LightGBM] [Warning] bagging_fraction is set=0.8249298085036878, subsample=1.0 will be ignored. Current value: bagging_fraction=0.8249298085036878\n",
      "[LightGBM] [Warning] min_sum_hessian_in_leaf is set=5.990514298361231e-05, min_child_weight=0.001 will be ignored. Current value: min_sum_hessian_in_leaf=5.990514298361231e-05\n",
      "[LightGBM] [Warning] bagging_freq is set=1, subsample_freq=0 will be ignored. Current value: bagging_freq=1\n",
      "[LightGBM] [Warning] lambda_l2 is set=1.3091540114832185, reg_lambda=0.0 will be ignored. Current value: lambda_l2=1.3091540114832185\n"
     ]
    },
    {
     "name": "stderr",
     "output_type": "stream",
     "text": [
      "\u001b[32m[I 2023-04-30 14:50:51,219]\u001b[0m Trial 18 finished with value: 0.772834917826747 and parameters: {'num_leaves': 62, 'min_child_samples': 11, 'min_sum_hessian_in_leaf': 1.2437327781977613e-05, 'feature_fraction': 0.7262240661279012, 'bagging_fraction': 0.7910510106231791, 'lambda_l1': 0.5012013227878978, 'lambda_l2': 90.79990629432264}. Best is trial 16 with value: 0.774228916505175.\u001b[0m\n"
     ]
    },
    {
     "name": "stdout",
     "output_type": "stream",
     "text": [
      "[LightGBM] [Warning] feature_fraction is set=0.7663083841317482, colsample_bytree=1.0 will be ignored. Current value: feature_fraction=0.7663083841317482\n",
      "[LightGBM] [Warning] lambda_l1 is set=16.644666252358554, reg_alpha=0.0 will be ignored. Current value: lambda_l1=16.644666252358554\n",
      "[LightGBM] [Warning] bagging_fraction is set=0.9487185587054988, subsample=1.0 will be ignored. Current value: bagging_fraction=0.9487185587054988\n",
      "[LightGBM] [Warning] min_sum_hessian_in_leaf is set=5.8257186809470116e-05, min_child_weight=0.001 will be ignored. Current value: min_sum_hessian_in_leaf=5.8257186809470116e-05\n",
      "[LightGBM] [Warning] bagging_freq is set=1, subsample_freq=0 will be ignored. Current value: bagging_freq=1\n",
      "[LightGBM] [Warning] lambda_l2 is set=1.0033575166493947, reg_lambda=0.0 will be ignored. Current value: lambda_l2=1.0033575166493947\n"
     ]
    },
    {
     "name": "stderr",
     "output_type": "stream",
     "text": [
      "\u001b[32m[I 2023-04-30 14:52:11,887]\u001b[0m Trial 19 finished with value: 0.7678671354616918 and parameters: {'num_leaves': 153, 'min_child_samples': 15, 'min_sum_hessian_in_leaf': 1.0209010093448084e-05, 'feature_fraction': 0.7452015657933997, 'bagging_fraction': 0.5785484490682736, 'lambda_l1': 12.534843629969728, 'lambda_l2': 0.012042995902882192}. Best is trial 16 with value: 0.774228916505175.\u001b[0m\n"
     ]
    },
    {
     "name": "stdout",
     "output_type": "stream",
     "text": [
      "[LightGBM] [Warning] feature_fraction is set=0.7662919518011788, colsample_bytree=1.0 will be ignored. Current value: feature_fraction=0.7662919518011788\n",
      "[LightGBM] [Warning] lambda_l1 is set=8.67671528421637, reg_alpha=0.0 will be ignored. Current value: lambda_l1=8.67671528421637\n",
      "[LightGBM] [Warning] bagging_fraction is set=0.9984983222154569, subsample=1.0 will be ignored. Current value: bagging_fraction=0.9984983222154569\n",
      "[LightGBM] [Warning] min_sum_hessian_in_leaf is set=5.761720029473912e-05, min_child_weight=0.001 will be ignored. Current value: min_sum_hessian_in_leaf=5.761720029473912e-05\n",
      "[LightGBM] [Warning] bagging_freq is set=1, subsample_freq=0 will be ignored. Current value: bagging_freq=1\n",
      "[LightGBM] [Warning] lambda_l2 is set=1.4980219069887775, reg_lambda=0.0 will be ignored. Current value: lambda_l2=1.4980219069887775\n"
     ]
    },
    {
     "name": "stderr",
     "output_type": "stream",
     "text": [
      "\u001b[32m[I 2023-04-30 14:52:25,766]\u001b[0m Trial 20 finished with value: 0.7731770203515593 and parameters: {'num_leaves': 78, 'min_child_samples': 11, 'min_sum_hessian_in_leaf': 0.0004378260995697136, 'feature_fraction': 0.7441407489048526, 'bagging_fraction': 0.9872156359402651, 'lambda_l1': 10.255823037639985, 'lambda_l2': 2.97250426028707}. Best is trial 16 with value: 0.774228916505175.\u001b[0m\n"
     ]
    },
    {
     "name": "stdout",
     "output_type": "stream",
     "text": [
      "[LightGBM] [Warning] feature_fraction is set=0.6154308933856387, colsample_bytree=1.0 will be ignored. Current value: feature_fraction=0.6154308933856387\n",
      "[LightGBM] [Warning] lambda_l1 is set=0.9476504745465095, reg_alpha=0.0 will be ignored. Current value: lambda_l1=0.9476504745465095\n",
      "[LightGBM] [Warning] bagging_fraction is set=0.7337970256606691, subsample=1.0 will be ignored. Current value: bagging_fraction=0.7337970256606691\n",
      "[LightGBM] [Warning] min_sum_hessian_in_leaf is set=5.01878020923559e-05, min_child_weight=0.001 will be ignored. Current value: min_sum_hessian_in_leaf=5.01878020923559e-05\n",
      "[LightGBM] [Warning] bagging_freq is set=1, subsample_freq=0 will be ignored. Current value: bagging_freq=1\n",
      "[LightGBM] [Warning] lambda_l2 is set=1.08765107501717, reg_lambda=0.0 will be ignored. Current value: lambda_l2=1.08765107501717\n"
     ]
    },
    {
     "name": "stderr",
     "output_type": "stream",
     "text": [
      "\u001b[32m[I 2023-04-30 14:53:40,163]\u001b[0m Trial 22 finished with value: 0.7719443761357984 and parameters: {'num_leaves': 78, 'min_child_samples': 199, 'min_sum_hessian_in_leaf': 5.990514298361231e-05, 'feature_fraction': 0.7199017584540721, 'bagging_fraction': 0.8249298085036878, 'lambda_l1': 11.113573419892143, 'lambda_l2': 1.3091540114832185}. Best is trial 16 with value: 0.774228916505175.\u001b[0m\n"
     ]
    },
    {
     "name": "stdout",
     "output_type": "stream",
     "text": [
      "[LightGBM] [Warning] feature_fraction is set=0.6022136653283279, colsample_bytree=1.0 will be ignored. Current value: feature_fraction=0.6022136653283279\n",
      "[LightGBM] [Warning] lambda_l1 is set=0.1374110042112386, reg_alpha=0.0 will be ignored. Current value: lambda_l1=0.1374110042112386\n",
      "[LightGBM] [Warning] bagging_fraction is set=0.7162479767468483, subsample=1.0 will be ignored. Current value: bagging_fraction=0.7162479767468483\n",
      "[LightGBM] [Warning] min_sum_hessian_in_leaf is set=4.361733252953772e-05, min_child_weight=0.001 will be ignored. Current value: min_sum_hessian_in_leaf=4.361733252953772e-05\n",
      "[LightGBM] [Warning] bagging_freq is set=1, subsample_freq=0 will be ignored. Current value: bagging_freq=1\n",
      "[LightGBM] [Warning] lambda_l2 is set=11.159826700165997, reg_lambda=0.0 will be ignored. Current value: lambda_l2=11.159826700165997\n"
     ]
    },
    {
     "name": "stderr",
     "output_type": "stream",
     "text": [
      "\u001b[32m[I 2023-04-30 14:54:47,001]\u001b[0m Trial 21 finished with value: 0.7729052926536553 and parameters: {'num_leaves': 159, 'min_child_samples': 12, 'min_sum_hessian_in_leaf': 6.924504875009663e-05, 'feature_fraction': 0.7361736352908776, 'bagging_fraction': 0.9884591175297743, 'lambda_l1': 12.860015493523816, 'lambda_l2': 1.253174738118891}. Best is trial 16 with value: 0.774228916505175.\u001b[0m\n"
     ]
    },
    {
     "name": "stdout",
     "output_type": "stream",
     "text": [
      "[LightGBM] [Warning] feature_fraction is set=0.5995004070922038, colsample_bytree=1.0 will be ignored. Current value: feature_fraction=0.5995004070922038\n",
      "[LightGBM] [Warning] lambda_l1 is set=0.7727801382366235, reg_alpha=0.0 will be ignored. Current value: lambda_l1=0.7727801382366235\n",
      "[LightGBM] [Warning] bagging_fraction is set=0.7277105753287096, subsample=1.0 will be ignored. Current value: bagging_fraction=0.7277105753287096\n",
      "[LightGBM] [Warning] min_sum_hessian_in_leaf is set=4.7782317911216575e-05, min_child_weight=0.001 will be ignored. Current value: min_sum_hessian_in_leaf=4.7782317911216575e-05\n",
      "[LightGBM] [Warning] bagging_freq is set=1, subsample_freq=0 will be ignored. Current value: bagging_freq=1\n",
      "[LightGBM] [Warning] lambda_l2 is set=10.6196733969307, reg_lambda=0.0 will be ignored. Current value: lambda_l2=10.6196733969307\n"
     ]
    },
    {
     "name": "stderr",
     "output_type": "stream",
     "text": [
      "\u001b[32m[I 2023-04-30 14:56:54,416]\u001b[0m Trial 23 finished with value: 0.7716236835178307 and parameters: {'num_leaves': 150, 'min_child_samples': 193, 'min_sum_hessian_in_leaf': 5.8257186809470116e-05, 'feature_fraction': 0.7663083841317482, 'bagging_fraction': 0.9487185587054988, 'lambda_l1': 16.644666252358554, 'lambda_l2': 1.0033575166493947}. Best is trial 16 with value: 0.774228916505175.\u001b[0m\n"
     ]
    },
    {
     "name": "stdout",
     "output_type": "stream",
     "text": [
      "[LightGBM] [Warning] feature_fraction is set=0.6019181514165113, colsample_bytree=1.0 will be ignored. Current value: feature_fraction=0.6019181514165113\n",
      "[LightGBM] [Warning] lambda_l1 is set=0.7293973822763121, reg_alpha=0.0 will be ignored. Current value: lambda_l1=0.7293973822763121\n",
      "[LightGBM] [Warning] bagging_fraction is set=0.7416881785053507, subsample=1.0 will be ignored. Current value: bagging_fraction=0.7416881785053507\n",
      "[LightGBM] [Warning] min_sum_hessian_in_leaf is set=2.7153083827321975e-05, min_child_weight=0.001 will be ignored. Current value: min_sum_hessian_in_leaf=2.7153083827321975e-05\n",
      "[LightGBM] [Warning] bagging_freq is set=1, subsample_freq=0 will be ignored. Current value: bagging_freq=1\n",
      "[LightGBM] [Warning] lambda_l2 is set=13.01560695842564, reg_lambda=0.0 will be ignored. Current value: lambda_l2=13.01560695842564\n"
     ]
    },
    {
     "name": "stderr",
     "output_type": "stream",
     "text": [
      "\u001b[32m[I 2023-04-30 14:57:35,847]\u001b[0m Trial 25 finished with value: 0.7728433464190255 and parameters: {'num_leaves': 34, 'min_child_samples': 198, 'min_sum_hessian_in_leaf': 5.01878020923559e-05, 'feature_fraction': 0.6154308933856387, 'bagging_fraction': 0.7337970256606691, 'lambda_l1': 0.9476504745465095, 'lambda_l2': 1.08765107501717}. Best is trial 16 with value: 0.774228916505175.\u001b[0m\n"
     ]
    },
    {
     "name": "stdout",
     "output_type": "stream",
     "text": [
      "[LightGBM] [Warning] feature_fraction is set=0.5688914516331409, colsample_bytree=1.0 will be ignored. Current value: feature_fraction=0.5688914516331409\n",
      "[LightGBM] [Warning] lambda_l1 is set=0.1449294951904485, reg_alpha=0.0 will be ignored. Current value: lambda_l1=0.1449294951904485\n",
      "[LightGBM] [Warning] bagging_fraction is set=0.7382794606134832, subsample=1.0 will be ignored. Current value: bagging_fraction=0.7382794606134832\n",
      "[LightGBM] [Warning] min_sum_hessian_in_leaf is set=2.9394846124200733e-05, min_child_weight=0.001 will be ignored. Current value: min_sum_hessian_in_leaf=2.9394846124200733e-05\n",
      "[LightGBM] [Warning] bagging_freq is set=1, subsample_freq=0 will be ignored. Current value: bagging_freq=1\n",
      "[LightGBM] [Warning] lambda_l2 is set=9.376345368719733, reg_lambda=0.0 will be ignored. Current value: lambda_l2=9.376345368719733\n"
     ]
    },
    {
     "name": "stderr",
     "output_type": "stream",
     "text": [
      "\u001b[32m[I 2023-04-30 14:58:25,105]\u001b[0m Trial 24 finished with value: 0.7732909417177807 and parameters: {'num_leaves': 88, 'min_child_samples': 145, 'min_sum_hessian_in_leaf': 5.761720029473912e-05, 'feature_fraction': 0.7662919518011788, 'bagging_fraction': 0.9984983222154569, 'lambda_l1': 8.67671528421637, 'lambda_l2': 1.4980219069887775}. Best is trial 16 with value: 0.774228916505175.\u001b[0m\n"
     ]
    },
    {
     "name": "stdout",
     "output_type": "stream",
     "text": [
      "[LightGBM] [Warning] feature_fraction is set=0.5747013859867727, colsample_bytree=1.0 will be ignored. Current value: feature_fraction=0.5747013859867727\n",
      "[LightGBM] [Warning] lambda_l1 is set=0.11418385747659184, reg_alpha=0.0 will be ignored. Current value: lambda_l1=0.11418385747659184\n",
      "[LightGBM] [Warning] bagging_fraction is set=0.7578955936635908, subsample=1.0 will be ignored. Current value: bagging_fraction=0.7578955936635908\n",
      "[LightGBM] [Warning] min_sum_hessian_in_leaf is set=0.0001793720298613534, min_child_weight=0.001 will be ignored. Current value: min_sum_hessian_in_leaf=0.0001793720298613534\n",
      "[LightGBM] [Warning] bagging_freq is set=1, subsample_freq=0 will be ignored. Current value: bagging_freq=1\n",
      "[LightGBM] [Warning] lambda_l2 is set=9.645952020790984, reg_lambda=0.0 will be ignored. Current value: lambda_l2=9.645952020790984\n"
     ]
    },
    {
     "name": "stderr",
     "output_type": "stream",
     "text": [
      "\u001b[32m[I 2023-04-30 14:59:37,820]\u001b[0m Trial 27 finished with value: 0.7739057409079945 and parameters: {'num_leaves': 30, 'min_child_samples': 68, 'min_sum_hessian_in_leaf': 4.7782317911216575e-05, 'feature_fraction': 0.5995004070922038, 'bagging_fraction': 0.7277105753287096, 'lambda_l1': 0.7727801382366235, 'lambda_l2': 10.6196733969307}. Best is trial 16 with value: 0.774228916505175.\u001b[0m\n"
     ]
    },
    {
     "name": "stdout",
     "output_type": "stream",
     "text": [
      "[LightGBM] [Warning] feature_fraction is set=0.6901628996802489, colsample_bytree=1.0 will be ignored. Current value: feature_fraction=0.6901628996802489\n",
      "[LightGBM] [Warning] lambda_l1 is set=0.1150170019530935, reg_alpha=0.0 will be ignored. Current value: lambda_l1=0.1150170019530935\n",
      "[LightGBM] [Warning] bagging_fraction is set=0.7669046880302925, subsample=1.0 will be ignored. Current value: bagging_fraction=0.7669046880302925\n",
      "[LightGBM] [Warning] min_sum_hessian_in_leaf is set=0.000203796600641694, min_child_weight=0.001 will be ignored. Current value: min_sum_hessian_in_leaf=0.000203796600641694\n",
      "[LightGBM] [Warning] bagging_freq is set=1, subsample_freq=0 will be ignored. Current value: bagging_freq=1\n",
      "[LightGBM] [Warning] lambda_l2 is set=32.03144159927253, reg_lambda=0.0 will be ignored. Current value: lambda_l2=32.03144159927253\n"
     ]
    },
    {
     "name": "stderr",
     "output_type": "stream",
     "text": [
      "\u001b[32m[I 2023-04-30 15:00:01,547]\u001b[0m Trial 26 finished with value: 0.7739219782383437 and parameters: {'num_leaves': 31, 'min_child_samples': 67, 'min_sum_hessian_in_leaf': 4.361733252953772e-05, 'feature_fraction': 0.6022136653283279, 'bagging_fraction': 0.7162479767468483, 'lambda_l1': 0.1374110042112386, 'lambda_l2': 11.159826700165997}. Best is trial 16 with value: 0.774228916505175.\u001b[0m\n"
     ]
    },
    {
     "name": "stdout",
     "output_type": "stream",
     "text": [
      "[LightGBM] [Warning] feature_fraction is set=0.684529258024212, colsample_bytree=1.0 will be ignored. Current value: feature_fraction=0.684529258024212\n",
      "[LightGBM] [Warning] lambda_l1 is set=0.10845046447215113, reg_alpha=0.0 will be ignored. Current value: lambda_l1=0.10845046447215113\n",
      "[LightGBM] [Warning] bagging_fraction is set=0.7609177678743813, subsample=1.0 will be ignored. Current value: bagging_fraction=0.7609177678743813\n",
      "[LightGBM] [Warning] min_sum_hessian_in_leaf is set=2.4717142802937743e-05, min_child_weight=0.001 will be ignored. Current value: min_sum_hessian_in_leaf=2.4717142802937743e-05\n",
      "[LightGBM] [Warning] bagging_freq is set=1, subsample_freq=0 will be ignored. Current value: bagging_freq=1\n",
      "[LightGBM] [Warning] lambda_l2 is set=38.00686222712848, reg_lambda=0.0 will be ignored. Current value: lambda_l2=38.00686222712848\n"
     ]
    },
    {
     "name": "stderr",
     "output_type": "stream",
     "text": [
      "\u001b[32m[I 2023-04-30 15:01:31,327]\u001b[0m Trial 28 finished with value: 0.7729079181280887 and parameters: {'num_leaves': 33, 'min_child_samples': 141, 'min_sum_hessian_in_leaf': 2.7153083827321975e-05, 'feature_fraction': 0.6019181514165113, 'bagging_fraction': 0.7416881785053507, 'lambda_l1': 0.7293973822763121, 'lambda_l2': 13.01560695842564}. Best is trial 16 with value: 0.774228916505175.\u001b[0m\n"
     ]
    },
    {
     "name": "stdout",
     "output_type": "stream",
     "text": [
      "[LightGBM] [Warning] feature_fraction is set=0.6863553341067072, colsample_bytree=1.0 will be ignored. Current value: feature_fraction=0.6863553341067072\n",
      "[LightGBM] [Warning] lambda_l1 is set=1.3873894648560485, reg_alpha=0.0 will be ignored. Current value: lambda_l1=1.3873894648560485\n",
      "[LightGBM] [Warning] bagging_fraction is set=0.7540892879680635, subsample=1.0 will be ignored. Current value: bagging_fraction=0.7540892879680635\n",
      "[LightGBM] [Warning] min_sum_hessian_in_leaf is set=2.1959666633228807e-05, min_child_weight=0.001 will be ignored. Current value: min_sum_hessian_in_leaf=2.1959666633228807e-05\n",
      "[LightGBM] [Warning] bagging_freq is set=1, subsample_freq=0 will be ignored. Current value: bagging_freq=1\n",
      "[LightGBM] [Warning] lambda_l2 is set=0.19673344936042406, reg_lambda=0.0 will be ignored. Current value: lambda_l2=0.19673344936042406\n"
     ]
    },
    {
     "name": "stderr",
     "output_type": "stream",
     "text": [
      "\u001b[32m[I 2023-04-30 15:02:51,773]\u001b[0m Trial 29 finished with value: 0.774293156912851 and parameters: {'num_leaves': 24, 'min_child_samples': 60, 'min_sum_hessian_in_leaf': 2.9394846124200733e-05, 'feature_fraction': 0.5688914516331409, 'bagging_fraction': 0.7382794606134832, 'lambda_l1': 0.1449294951904485, 'lambda_l2': 9.376345368719733}. Best is trial 29 with value: 0.774293156912851.\u001b[0m\n"
     ]
    },
    {
     "name": "stdout",
     "output_type": "stream",
     "text": [
      "[LightGBM] [Warning] feature_fraction is set=0.5548449288658687, colsample_bytree=1.0 will be ignored. Current value: feature_fraction=0.5548449288658687\n",
      "[LightGBM] [Warning] lambda_l1 is set=0.010394410688998384, reg_alpha=0.0 will be ignored. Current value: lambda_l1=0.010394410688998384\n",
      "[LightGBM] [Warning] bagging_fraction is set=0.7721929746327284, subsample=1.0 will be ignored. Current value: bagging_fraction=0.7721929746327284\n",
      "[LightGBM] [Warning] min_sum_hessian_in_leaf is set=0.000184631383396415, min_child_weight=0.001 will be ignored. Current value: min_sum_hessian_in_leaf=0.000184631383396415\n",
      "[LightGBM] [Warning] bagging_freq is set=1, subsample_freq=0 will be ignored. Current value: bagging_freq=1\n",
      "[LightGBM] [Warning] lambda_l2 is set=0.2389394037881191, reg_lambda=0.0 will be ignored. Current value: lambda_l2=0.2389394037881191\n"
     ]
    },
    {
     "name": "stderr",
     "output_type": "stream",
     "text": [
      "\u001b[32m[I 2023-04-30 15:03:47,135]\u001b[0m Trial 30 finished with value: 0.7746074764320922 and parameters: {'num_leaves': 29, 'min_child_samples': 66, 'min_sum_hessian_in_leaf': 0.0001793720298613534, 'feature_fraction': 0.5747013859867727, 'bagging_fraction': 0.7578955936635908, 'lambda_l1': 0.11418385747659184, 'lambda_l2': 9.645952020790984}. Best is trial 30 with value: 0.7746074764320922.\u001b[0m\n"
     ]
    },
    {
     "name": "stdout",
     "output_type": "stream",
     "text": [
      "[LightGBM] [Warning] feature_fraction is set=0.5564209756266147, colsample_bytree=1.0 will be ignored. Current value: feature_fraction=0.5564209756266147\n",
      "[LightGBM] [Warning] lambda_l1 is set=0.07861982002366585, reg_alpha=0.0 will be ignored. Current value: lambda_l1=0.07861982002366585\n",
      "[LightGBM] [Warning] bagging_fraction is set=0.7551259592246963, subsample=1.0 will be ignored. Current value: bagging_fraction=0.7551259592246963\n",
      "[LightGBM] [Warning] min_sum_hessian_in_leaf is set=0.00017968250488417282, min_child_weight=0.001 will be ignored. Current value: min_sum_hessian_in_leaf=0.00017968250488417282\n",
      "[LightGBM] [Warning] bagging_freq is set=1, subsample_freq=0 will be ignored. Current value: bagging_freq=1\n",
      "[LightGBM] [Warning] lambda_l2 is set=6.965798014407255, reg_lambda=0.0 will be ignored. Current value: lambda_l2=6.965798014407255\n"
     ]
    },
    {
     "name": "stderr",
     "output_type": "stream",
     "text": [
      "\u001b[32m[I 2023-04-30 15:05:30,064]\u001b[0m Trial 31 finished with value: 0.774368942995749 and parameters: {'num_leaves': 21, 'min_child_samples': 30, 'min_sum_hessian_in_leaf': 0.000203796600641694, 'feature_fraction': 0.6901628996802489, 'bagging_fraction': 0.7669046880302925, 'lambda_l1': 0.1150170019530935, 'lambda_l2': 32.03144159927253}. Best is trial 30 with value: 0.7746074764320922.\u001b[0m\n"
     ]
    },
    {
     "name": "stdout",
     "output_type": "stream",
     "text": [
      "[LightGBM] [Warning] feature_fraction is set=0.5562816549802805, colsample_bytree=1.0 will be ignored. Current value: feature_fraction=0.5562816549802805\n",
      "[LightGBM] [Warning] lambda_l1 is set=0.07662245510531593, reg_alpha=0.0 will be ignored. Current value: lambda_l1=0.07662245510531593\n",
      "[LightGBM] [Warning] bagging_fraction is set=0.7688207591397724, subsample=1.0 will be ignored. Current value: bagging_fraction=0.7688207591397724\n",
      "[LightGBM] [Warning] min_sum_hessian_in_leaf is set=0.0002667529359454006, min_child_weight=0.001 will be ignored. Current value: min_sum_hessian_in_leaf=0.0002667529359454006\n",
      "[LightGBM] [Warning] bagging_freq is set=1, subsample_freq=0 will be ignored. Current value: bagging_freq=1\n",
      "[LightGBM] [Warning] lambda_l2 is set=29.42402111233435, reg_lambda=0.0 will be ignored. Current value: lambda_l2=29.42402111233435\n"
     ]
    },
    {
     "name": "stderr",
     "output_type": "stream",
     "text": [
      "\u001b[32m[I 2023-04-30 15:05:51,619]\u001b[0m Trial 33 finished with value: 0.772290525524866 and parameters: {'num_leaves': 54, 'min_child_samples': 36, 'min_sum_hessian_in_leaf': 2.1959666633228807e-05, 'feature_fraction': 0.6863553341067072, 'bagging_fraction': 0.7540892879680635, 'lambda_l1': 1.3873894648560485, 'lambda_l2': 0.19673344936042406}. Best is trial 30 with value: 0.7746074764320922.\u001b[0m\n"
     ]
    },
    {
     "name": "stdout",
     "output_type": "stream",
     "text": [
      "[LightGBM] [Warning] feature_fraction is set=0.5508595468524508, colsample_bytree=1.0 will be ignored. Current value: feature_fraction=0.5508595468524508\n",
      "[LightGBM] [Warning] lambda_l1 is set=0.07264812265403622, reg_alpha=0.0 will be ignored. Current value: lambda_l1=0.07264812265403622\n",
      "[LightGBM] [Warning] bagging_fraction is set=0.8462222504708984, subsample=1.0 will be ignored. Current value: bagging_fraction=0.8462222504708984\n",
      "[LightGBM] [Warning] min_sum_hessian_in_leaf is set=0.00022173451540202072, min_child_weight=0.001 will be ignored. Current value: min_sum_hessian_in_leaf=0.00022173451540202072\n",
      "[LightGBM] [Warning] bagging_freq is set=1, subsample_freq=0 will be ignored. Current value: bagging_freq=1\n",
      "[LightGBM] [Warning] lambda_l2 is set=27.681740004548242, reg_lambda=0.0 will be ignored. Current value: lambda_l2=27.681740004548242\n"
     ]
    },
    {
     "name": "stderr",
     "output_type": "stream",
     "text": [
      "\u001b[32m[I 2023-04-30 15:08:08,036]\u001b[0m Trial 32 finished with value: 0.7743927147608697 and parameters: {'num_leaves': 10, 'min_child_samples': 33, 'min_sum_hessian_in_leaf': 2.4717142802937743e-05, 'feature_fraction': 0.684529258024212, 'bagging_fraction': 0.7609177678743813, 'lambda_l1': 0.10845046447215113, 'lambda_l2': 38.00686222712848}. Best is trial 30 with value: 0.7746074764320922.\u001b[0m\n"
     ]
    },
    {
     "name": "stdout",
     "output_type": "stream",
     "text": [
      "[LightGBM] [Warning] feature_fraction is set=0.558659369430582, colsample_bytree=1.0 will be ignored. Current value: feature_fraction=0.558659369430582\n",
      "[LightGBM] [Warning] lambda_l1 is set=0.06960971993906868, reg_alpha=0.0 will be ignored. Current value: lambda_l1=0.06960971993906868\n",
      "[LightGBM] [Warning] bagging_fraction is set=0.7579246987197883, subsample=1.0 will be ignored. Current value: bagging_fraction=0.7579246987197883\n",
      "[LightGBM] [Warning] min_sum_hessian_in_leaf is set=0.0002305884257891211, min_child_weight=0.001 will be ignored. Current value: min_sum_hessian_in_leaf=0.0002305884257891211\n",
      "[LightGBM] [Warning] bagging_freq is set=1, subsample_freq=0 will be ignored. Current value: bagging_freq=1\n",
      "[LightGBM] [Warning] lambda_l2 is set=20.579738760168382, reg_lambda=0.0 will be ignored. Current value: lambda_l2=20.579738760168382\n"
     ]
    },
    {
     "name": "stderr",
     "output_type": "stream",
     "text": [
      "\u001b[32m[I 2023-04-30 15:08:36,373]\u001b[0m Trial 34 finished with value: 0.7722625857745526 and parameters: {'num_leaves': 54, 'min_child_samples': 33, 'min_sum_hessian_in_leaf': 0.000184631383396415, 'feature_fraction': 0.5548449288658687, 'bagging_fraction': 0.7721929746327284, 'lambda_l1': 0.010394410688998384, 'lambda_l2': 0.2389394037881191}. Best is trial 30 with value: 0.7746074764320922.\u001b[0m\n"
     ]
    },
    {
     "name": "stdout",
     "output_type": "stream",
     "text": [
      "[LightGBM] [Warning] feature_fraction is set=0.5097390791000265, colsample_bytree=1.0 will be ignored. Current value: feature_fraction=0.5097390791000265\n",
      "[LightGBM] [Warning] lambda_l1 is set=0.06420510430307676, reg_alpha=0.0 will be ignored. Current value: lambda_l1=0.06420510430307676\n",
      "[LightGBM] [Warning] bagging_fraction is set=0.8560948831459739, subsample=1.0 will be ignored. Current value: bagging_fraction=0.8560948831459739\n",
      "[LightGBM] [Warning] min_sum_hessian_in_leaf is set=0.0002935670103387586, min_child_weight=0.001 will be ignored. Current value: min_sum_hessian_in_leaf=0.0002935670103387586\n",
      "[LightGBM] [Warning] bagging_freq is set=1, subsample_freq=0 will be ignored. Current value: bagging_freq=1\n",
      "[LightGBM] [Warning] lambda_l2 is set=29.74289980929732, reg_lambda=0.0 will be ignored. Current value: lambda_l2=29.74289980929732\n"
     ]
    },
    {
     "name": "stderr",
     "output_type": "stream",
     "text": [
      "\u001b[32m[I 2023-04-30 15:10:08,557]\u001b[0m Trial 36 finished with value: 0.7734291977052429 and parameters: {'num_leaves': 54, 'min_child_samples': 34, 'min_sum_hessian_in_leaf': 0.0002667529359454006, 'feature_fraction': 0.5562816549802805, 'bagging_fraction': 0.7688207591397724, 'lambda_l1': 0.07662245510531593, 'lambda_l2': 29.42402111233435}. Best is trial 30 with value: 0.7746074764320922.\u001b[0m\n"
     ]
    },
    {
     "name": "stdout",
     "output_type": "stream",
     "text": [
      "[LightGBM] [Warning] feature_fraction is set=0.52831918455964, colsample_bytree=1.0 will be ignored. Current value: feature_fraction=0.52831918455964\n",
      "[LightGBM] [Warning] lambda_l1 is set=0.06618063551979977, reg_alpha=0.0 will be ignored. Current value: lambda_l1=0.06618063551979977\n",
      "[LightGBM] [Warning] bagging_fraction is set=0.8572302109461916, subsample=1.0 will be ignored. Current value: bagging_fraction=0.8572302109461916\n",
      "[LightGBM] [Warning] min_sum_hessian_in_leaf is set=3.523935911299695e-05, min_child_weight=0.001 will be ignored. Current value: min_sum_hessian_in_leaf=3.523935911299695e-05\n",
      "[LightGBM] [Warning] bagging_freq is set=1, subsample_freq=0 will be ignored. Current value: bagging_freq=1\n",
      "[LightGBM] [Warning] lambda_l2 is set=26.59757466265051, reg_lambda=0.0 will be ignored. Current value: lambda_l2=26.59757466265051\n"
     ]
    },
    {
     "name": "stderr",
     "output_type": "stream",
     "text": [
      "\u001b[32m[I 2023-04-30 15:10:20,411]\u001b[0m Trial 35 finished with value: 0.7732286071836756 and parameters: {'num_leaves': 44, 'min_child_samples': 38, 'min_sum_hessian_in_leaf': 0.00017968250488417282, 'feature_fraction': 0.5564209756266147, 'bagging_fraction': 0.7551259592246963, 'lambda_l1': 0.07861982002366585, 'lambda_l2': 6.965798014407255}. Best is trial 30 with value: 0.7746074764320922.\u001b[0m\n"
     ]
    },
    {
     "name": "stdout",
     "output_type": "stream",
     "text": [
      "[LightGBM] [Warning] feature_fraction is set=0.5069165455535134, colsample_bytree=1.0 will be ignored. Current value: feature_fraction=0.5069165455535134\n",
      "[LightGBM] [Warning] lambda_l1 is set=0.16860164461847502, reg_alpha=0.0 will be ignored. Current value: lambda_l1=0.16860164461847502\n",
      "[LightGBM] [Warning] bagging_fraction is set=0.8525313306882738, subsample=1.0 will be ignored. Current value: bagging_fraction=0.8525313306882738\n",
      "[LightGBM] [Warning] min_sum_hessian_in_leaf is set=3.2494134267802474e-05, min_child_weight=0.001 will be ignored. Current value: min_sum_hessian_in_leaf=3.2494134267802474e-05\n",
      "[LightGBM] [Warning] bagging_freq is set=1, subsample_freq=0 will be ignored. Current value: bagging_freq=1\n",
      "[LightGBM] [Warning] lambda_l2 is set=23.40127908773455, reg_lambda=0.0 will be ignored. Current value: lambda_l2=23.40127908773455\n"
     ]
    },
    {
     "name": "stderr",
     "output_type": "stream",
     "text": [
      "\u001b[32m[I 2023-04-30 15:11:33,853]\u001b[0m Trial 37 finished with value: 0.7734483383757049 and parameters: {'num_leaves': 52, 'min_child_samples': 28, 'min_sum_hessian_in_leaf': 0.00022173451540202072, 'feature_fraction': 0.5508595468524508, 'bagging_fraction': 0.8462222504708984, 'lambda_l1': 0.07264812265403622, 'lambda_l2': 27.681740004548242}. Best is trial 30 with value: 0.7746074764320922.\u001b[0m\n"
     ]
    },
    {
     "name": "stdout",
     "output_type": "stream",
     "text": [
      "[LightGBM] [Warning] feature_fraction is set=0.5103845186113236, colsample_bytree=1.0 will be ignored. Current value: feature_fraction=0.5103845186113236\n",
      "[LightGBM] [Warning] lambda_l1 is set=0.1806408347696071, reg_alpha=0.0 will be ignored. Current value: lambda_l1=0.1806408347696071\n",
      "[LightGBM] [Warning] bagging_fraction is set=0.6974400097938047, subsample=1.0 will be ignored. Current value: bagging_fraction=0.6974400097938047\n",
      "[LightGBM] [Warning] min_sum_hessian_in_leaf is set=3.450131839355056e-05, min_child_weight=0.001 will be ignored. Current value: min_sum_hessian_in_leaf=3.450131839355056e-05\n",
      "[LightGBM] [Warning] bagging_freq is set=1, subsample_freq=0 will be ignored. Current value: bagging_freq=1\n",
      "[LightGBM] [Warning] lambda_l2 is set=21.759607508506605, reg_lambda=0.0 will be ignored. Current value: lambda_l2=21.759607508506605\n"
     ]
    },
    {
     "name": "stderr",
     "output_type": "stream",
     "text": [
      "\u001b[32m[I 2023-04-30 15:13:03,414]\u001b[0m Trial 38 finished with value: 0.7735664206023578 and parameters: {'num_leaves': 49, 'min_child_samples': 28, 'min_sum_hessian_in_leaf': 0.0002305884257891211, 'feature_fraction': 0.558659369430582, 'bagging_fraction': 0.7579246987197883, 'lambda_l1': 0.06960971993906868, 'lambda_l2': 20.579738760168382}. Best is trial 30 with value: 0.7746074764320922.\u001b[0m\n"
     ]
    },
    {
     "name": "stdout",
     "output_type": "stream",
     "text": [
      "[LightGBM] [Warning] feature_fraction is set=0.5021702054524212, colsample_bytree=1.0 will be ignored. Current value: feature_fraction=0.5021702054524212\n",
      "[LightGBM] [Warning] lambda_l1 is set=0.1627132895658912, reg_alpha=0.0 will be ignored. Current value: lambda_l1=0.1627132895658912\n",
      "[LightGBM] [Warning] bagging_fraction is set=0.6841817185952711, subsample=1.0 will be ignored. Current value: bagging_fraction=0.6841817185952711\n",
      "[LightGBM] [Warning] min_sum_hessian_in_leaf is set=1.8413382785141788e-05, min_child_weight=0.001 will be ignored. Current value: min_sum_hessian_in_leaf=1.8413382785141788e-05\n",
      "[LightGBM] [Warning] bagging_freq is set=1, subsample_freq=0 will be ignored. Current value: bagging_freq=1\n",
      "[LightGBM] [Warning] lambda_l2 is set=48.99745802948103, reg_lambda=0.0 will be ignored. Current value: lambda_l2=48.99745802948103\n"
     ]
    },
    {
     "name": "stderr",
     "output_type": "stream",
     "text": [
      "\u001b[32m[I 2023-04-30 15:14:21,131]\u001b[0m Trial 39 finished with value: 0.7737994572855793 and parameters: {'num_leaves': 47, 'min_child_samples': 54, 'min_sum_hessian_in_leaf': 0.0002935670103387586, 'feature_fraction': 0.5097390791000265, 'bagging_fraction': 0.8560948831459739, 'lambda_l1': 0.06420510430307676, 'lambda_l2': 29.74289980929732}. Best is trial 30 with value: 0.7746074764320922.\u001b[0m\n"
     ]
    },
    {
     "name": "stdout",
     "output_type": "stream",
     "text": [
      "[LightGBM] [Warning] feature_fraction is set=0.6259991529097793, colsample_bytree=1.0 will be ignored. Current value: feature_fraction=0.6259991529097793\n",
      "[LightGBM] [Warning] lambda_l1 is set=0.1468263027563057, reg_alpha=0.0 will be ignored. Current value: lambda_l1=0.1468263027563057\n",
      "[LightGBM] [Warning] bagging_fraction is set=0.6955582519866143, subsample=1.0 will be ignored. Current value: bagging_fraction=0.6955582519866143\n",
      "[LightGBM] [Warning] min_sum_hessian_in_leaf is set=1.7359911715372785e-05, min_child_weight=0.001 will be ignored. Current value: min_sum_hessian_in_leaf=1.7359911715372785e-05\n",
      "[LightGBM] [Warning] bagging_freq is set=1, subsample_freq=0 will be ignored. Current value: bagging_freq=1\n",
      "[LightGBM] [Warning] lambda_l2 is set=47.88640855147094, reg_lambda=0.0 will be ignored. Current value: lambda_l2=47.88640855147094\n"
     ]
    },
    {
     "name": "stderr",
     "output_type": "stream",
     "text": [
      "\u001b[32m[I 2023-04-30 15:15:47,980]\u001b[0m Trial 42 finished with value: 0.7702869037951001 and parameters: {'num_leaves': 92, 'min_child_samples': 52, 'min_sum_hessian_in_leaf': 3.450131839355056e-05, 'feature_fraction': 0.5103845186113236, 'bagging_fraction': 0.6974400097938047, 'lambda_l1': 0.1806408347696071, 'lambda_l2': 21.759607508506605}. Best is trial 30 with value: 0.7746074764320922.\u001b[0m\n"
     ]
    },
    {
     "name": "stdout",
     "output_type": "stream",
     "text": [
      "[LightGBM] [Warning] feature_fraction is set=0.629992506166484, colsample_bytree=1.0 will be ignored. Current value: feature_fraction=0.629992506166484\n",
      "[LightGBM] [Warning] lambda_l1 is set=0.20652556084451001, reg_alpha=0.0 will be ignored. Current value: lambda_l1=0.20652556084451001\n",
      "[LightGBM] [Warning] bagging_fraction is set=0.8022072827186417, subsample=1.0 will be ignored. Current value: bagging_fraction=0.8022072827186417\n",
      "[LightGBM] [Warning] min_sum_hessian_in_leaf is set=9.013490967237669e-05, min_child_weight=0.001 will be ignored. Current value: min_sum_hessian_in_leaf=9.013490967237669e-05\n",
      "[LightGBM] [Warning] bagging_freq is set=1, subsample_freq=0 will be ignored. Current value: bagging_freq=1\n",
      "[LightGBM] [Warning] lambda_l2 is set=51.91666063716048, reg_lambda=0.0 will be ignored. Current value: lambda_l2=51.91666063716048\n"
     ]
    },
    {
     "name": "stderr",
     "output_type": "stream",
     "text": [
      "\u001b[32m[I 2023-04-30 15:16:44,913]\u001b[0m Trial 40 finished with value: 0.7719074948104132 and parameters: {'num_leaves': 187, 'min_child_samples': 57, 'min_sum_hessian_in_leaf': 3.523935911299695e-05, 'feature_fraction': 0.52831918455964, 'bagging_fraction': 0.8572302109461916, 'lambda_l1': 0.06618063551979977, 'lambda_l2': 26.59757466265051}. Best is trial 30 with value: 0.7746074764320922.\u001b[0m\n"
     ]
    },
    {
     "name": "stdout",
     "output_type": "stream",
     "text": [
      "[LightGBM] [Warning] feature_fraction is set=0.6242181884086013, colsample_bytree=1.0 will be ignored. Current value: feature_fraction=0.6242181884086013\n",
      "[LightGBM] [Warning] lambda_l1 is set=0.15339984411904464, reg_alpha=0.0 will be ignored. Current value: lambda_l1=0.15339984411904464\n",
      "[LightGBM] [Warning] bagging_fraction is set=0.8108101973648404, subsample=1.0 will be ignored. Current value: bagging_fraction=0.8108101973648404\n",
      "[LightGBM] [Warning] min_sum_hessian_in_leaf is set=1.6783041267345774e-05, min_child_weight=0.001 will be ignored. Current value: min_sum_hessian_in_leaf=1.6783041267345774e-05\n",
      "[LightGBM] [Warning] bagging_freq is set=1, subsample_freq=0 will be ignored. Current value: bagging_freq=1\n",
      "[LightGBM] [Warning] lambda_l2 is set=50.004513625235234, reg_lambda=0.0 will be ignored. Current value: lambda_l2=50.004513625235234\n"
     ]
    },
    {
     "name": "stderr",
     "output_type": "stream",
     "text": [
      "\u001b[32m[I 2023-04-30 15:17:16,097]\u001b[0m Trial 41 finished with value: 0.7705405096633667 and parameters: {'num_leaves': 216, 'min_child_samples': 54, 'min_sum_hessian_in_leaf': 3.2494134267802474e-05, 'feature_fraction': 0.5069165455535134, 'bagging_fraction': 0.8525313306882738, 'lambda_l1': 0.16860164461847502, 'lambda_l2': 23.40127908773455}. Best is trial 30 with value: 0.7746074764320922.\u001b[0m\n"
     ]
    },
    {
     "name": "stdout",
     "output_type": "stream",
     "text": [
      "[LightGBM] [Warning] feature_fraction is set=0.6253635955794592, colsample_bytree=1.0 will be ignored. Current value: feature_fraction=0.6253635955794592\n",
      "[LightGBM] [Warning] lambda_l1 is set=0.13891842779871474, reg_alpha=0.0 will be ignored. Current value: lambda_l1=0.13891842779871474\n",
      "[LightGBM] [Warning] bagging_fraction is set=0.806796783351195, subsample=1.0 will be ignored. Current value: bagging_fraction=0.806796783351195\n",
      "[LightGBM] [Warning] min_sum_hessian_in_leaf is set=1.6823507200351032e-05, min_child_weight=0.001 will be ignored. Current value: min_sum_hessian_in_leaf=1.6823507200351032e-05\n",
      "[LightGBM] [Warning] bagging_freq is set=1, subsample_freq=0 will be ignored. Current value: bagging_freq=1\n",
      "[LightGBM] [Warning] lambda_l2 is set=47.57417526943952, reg_lambda=0.0 will be ignored. Current value: lambda_l2=47.57417526943952\n"
     ]
    },
    {
     "name": "stderr",
     "output_type": "stream",
     "text": [
      "\u001b[32m[I 2023-04-30 15:19:22,147]\u001b[0m Trial 43 finished with value: 0.7736096643393278 and parameters: {'num_leaves': 24, 'min_child_samples': 56, 'min_sum_hessian_in_leaf': 1.8413382785141788e-05, 'feature_fraction': 0.5021702054524212, 'bagging_fraction': 0.6841817185952711, 'lambda_l1': 0.1627132895658912, 'lambda_l2': 48.99745802948103}. Best is trial 30 with value: 0.7746074764320922.\u001b[0m\n"
     ]
    },
    {
     "name": "stdout",
     "output_type": "stream",
     "text": [
      "[LightGBM] [Warning] feature_fraction is set=0.6945206401091123, colsample_bytree=1.0 will be ignored. Current value: feature_fraction=0.6945206401091123\n",
      "[LightGBM] [Warning] lambda_l1 is set=0.10353443577763742, reg_alpha=0.0 will be ignored. Current value: lambda_l1=0.10353443577763742\n",
      "[LightGBM] [Warning] bagging_fraction is set=0.8053348767177713, subsample=1.0 will be ignored. Current value: bagging_fraction=0.8053348767177713\n",
      "[LightGBM] [Warning] min_sum_hessian_in_leaf is set=8.983352372330212e-05, min_child_weight=0.001 will be ignored. Current value: min_sum_hessian_in_leaf=8.983352372330212e-05\n",
      "[LightGBM] [Warning] bagging_freq is set=1, subsample_freq=0 will be ignored. Current value: bagging_freq=1\n",
      "[LightGBM] [Warning] lambda_l2 is set=6.366411764928773, reg_lambda=0.0 will be ignored. Current value: lambda_l2=6.366411764928773\n"
     ]
    },
    {
     "name": "stderr",
     "output_type": "stream",
     "text": [
      "\u001b[32m[I 2023-04-30 15:20:25,807]\u001b[0m Trial 44 finished with value: 0.7736290009407177 and parameters: {'num_leaves': 24, 'min_child_samples': 78, 'min_sum_hessian_in_leaf': 1.7359911715372785e-05, 'feature_fraction': 0.6259991529097793, 'bagging_fraction': 0.6955582519866143, 'lambda_l1': 0.1468263027563057, 'lambda_l2': 47.88640855147094}. Best is trial 30 with value: 0.7746074764320922.\u001b[0m\n"
     ]
    },
    {
     "name": "stdout",
     "output_type": "stream",
     "text": [
      "[LightGBM] [Warning] feature_fraction is set=0.633612863123612, colsample_bytree=1.0 will be ignored. Current value: feature_fraction=0.633612863123612\n",
      "[LightGBM] [Warning] lambda_l1 is set=0.04043314263083684, reg_alpha=0.0 will be ignored. Current value: lambda_l1=0.04043314263083684\n",
      "[LightGBM] [Warning] bagging_fraction is set=0.8056982211623093, subsample=1.0 will be ignored. Current value: bagging_fraction=0.8056982211623093\n",
      "[LightGBM] [Warning] min_sum_hessian_in_leaf is set=8.623253649320915e-05, min_child_weight=0.001 will be ignored. Current value: min_sum_hessian_in_leaf=8.623253649320915e-05\n",
      "[LightGBM] [Warning] bagging_freq is set=1, subsample_freq=0 will be ignored. Current value: bagging_freq=1\n",
      "[LightGBM] [Warning] lambda_l2 is set=6.59894543540371, reg_lambda=0.0 will be ignored. Current value: lambda_l2=6.59894543540371\n"
     ]
    },
    {
     "name": "stderr",
     "output_type": "stream",
     "text": [
      "\u001b[32m[I 2023-04-30 15:22:00,674]\u001b[0m Trial 45 finished with value: 0.774470542087798 and parameters: {'num_leaves': 26, 'min_child_samples': 79, 'min_sum_hessian_in_leaf': 9.013490967237669e-05, 'feature_fraction': 0.629992506166484, 'bagging_fraction': 0.8022072827186417, 'lambda_l1': 0.20652556084451001, 'lambda_l2': 51.91666063716048}. Best is trial 30 with value: 0.7746074764320922.\u001b[0m\n",
      "\u001b[32m[I 2023-04-30 15:22:12,164]\u001b[0m Trial 46 finished with value: 0.7743733354109136 and parameters: {'num_leaves': 21, 'min_child_samples': 76, 'min_sum_hessian_in_leaf': 1.6783041267345774e-05, 'feature_fraction': 0.6242181884086013, 'bagging_fraction': 0.8108101973648404, 'lambda_l1': 0.15339984411904464, 'lambda_l2': 50.004513625235234}. Best is trial 30 with value: 0.7746074764320922.\u001b[0m\n",
      "\u001b[32m[I 2023-04-30 15:22:41,837]\u001b[0m Trial 47 finished with value: 0.7743586192170407 and parameters: {'num_leaves': 20, 'min_child_samples': 74, 'min_sum_hessian_in_leaf': 1.6823507200351032e-05, 'feature_fraction': 0.6253635955794592, 'bagging_fraction': 0.806796783351195, 'lambda_l1': 0.13891842779871474, 'lambda_l2': 47.57417526943952}. Best is trial 30 with value: 0.7746074764320922.\u001b[0m\n",
      "\u001b[32m[I 2023-04-30 15:23:39,752]\u001b[0m Trial 48 finished with value: 0.7742187316593065 and parameters: {'num_leaves': 8, 'min_child_samples': 73, 'min_sum_hessian_in_leaf': 8.983352372330212e-05, 'feature_fraction': 0.6945206401091123, 'bagging_fraction': 0.8053348767177713, 'lambda_l1': 0.10353443577763742, 'lambda_l2': 6.366411764928773}. Best is trial 30 with value: 0.7746074764320922.\u001b[0m\n",
      "\u001b[32m[I 2023-04-30 15:24:01,003]\u001b[0m Trial 49 finished with value: 0.7749954517306883 and parameters: {'num_leaves': 12, 'min_child_samples': 106, 'min_sum_hessian_in_leaf': 8.623253649320915e-05, 'feature_fraction': 0.633612863123612, 'bagging_fraction': 0.8056982211623093, 'lambda_l1': 0.04043314263083684, 'lambda_l2': 6.59894543540371}. Best is trial 49 with value: 0.7749954517306883.\u001b[0m\n"
     ]
    }
   ],
   "source": [
    "#最適化処理（探索の実行）\n",
    "sampler = optuna.samplers.TPESampler(seed=123)\n",
    "study = optuna.create_study(sampler=sampler, direction=\"maximize\")\n",
    "study.optimize(objective, n_trials=50, n_jobs=5)"
   ]
  },
  {
   "cell_type": "code",
   "execution_count": 46,
   "id": "4e817ed1",
   "metadata": {
    "execution": {
     "iopub.execute_input": "2023-04-30T15:24:01.077140Z",
     "iopub.status.busy": "2023-04-30T15:24:01.076735Z",
     "iopub.status.idle": "2023-04-30T15:24:01.086351Z",
     "shell.execute_reply": "2023-04-30T15:24:01.084740Z"
    },
    "papermill": {
     "duration": 0.044957,
     "end_time": "2023-04-30T15:24:01.088846",
     "exception": false,
     "start_time": "2023-04-30T15:24:01.043889",
     "status": "completed"
    },
    "tags": []
   },
   "outputs": [
    {
     "name": "stdout",
     "output_type": "stream",
     "text": [
      "acc(best)=0.7750\n"
     ]
    },
    {
     "data": {
      "text/plain": [
       "{'num_leaves': 12,\n",
       " 'min_child_samples': 106,\n",
       " 'min_sum_hessian_in_leaf': 8.623253649320915e-05,\n",
       " 'feature_fraction': 0.633612863123612,\n",
       " 'bagging_fraction': 0.8056982211623093,\n",
       " 'lambda_l1': 0.04043314263083684,\n",
       " 'lambda_l2': 6.59894543540371}"
      ]
     },
     "metadata": {},
     "output_type": "display_data"
    }
   ],
   "source": [
    "#探査結果の確認\n",
    "trial = study.best_trial\n",
    "print(\"acc(best)={:.4f}\".format(trial.value))\n",
    "display(trial.params)"
   ]
  },
  {
   "cell_type": "code",
   "execution_count": 47,
   "id": "feb55f1f",
   "metadata": {
    "execution": {
     "iopub.execute_input": "2023-04-30T15:24:01.153384Z",
     "iopub.status.busy": "2023-04-30T15:24:01.152946Z",
     "iopub.status.idle": "2023-04-30T15:24:01.160925Z",
     "shell.execute_reply": "2023-04-30T15:24:01.159669Z"
    },
    "papermill": {
     "duration": 0.043088,
     "end_time": "2023-04-30T15:24:01.163326",
     "exception": false,
     "start_time": "2023-04-30T15:24:01.120238",
     "status": "completed"
    },
    "tags": []
   },
   "outputs": [
    {
     "data": {
      "text/plain": [
       "{'num_leaves': 12,\n",
       " 'min_child_samples': 106,\n",
       " 'min_sum_hessian_in_leaf': 8.623253649320915e-05,\n",
       " 'feature_fraction': 0.633612863123612,\n",
       " 'bagging_fraction': 0.8056982211623093,\n",
       " 'lambda_l1': 0.04043314263083684,\n",
       " 'lambda_l2': 6.59894543540371,\n",
       " 'boosting_type': 'gbdt',\n",
       " 'objective': 'binary',\n",
       " 'metric': 'auc',\n",
       " 'verbosity': -1,\n",
       " 'learning_rate': 0.05,\n",
       " 'n_estimators': 100000,\n",
       " 'bagging_freq': 1,\n",
       " 'random_state': 123}"
      ]
     },
     "metadata": {},
     "output_type": "display_data"
    }
   ],
   "source": [
    "#ベストなハイパーパラメータ\n",
    "params_best = trial.params\n",
    "params_best.update(params_base)\n",
    "display(params_best)"
   ]
  },
  {
   "cell_type": "code",
   "execution_count": 48,
   "id": "f21f32c9",
   "metadata": {
    "execution": {
     "iopub.execute_input": "2023-04-30T15:24:01.228646Z",
     "iopub.status.busy": "2023-04-30T15:24:01.228232Z",
     "iopub.status.idle": "2023-04-30T15:31:03.945445Z",
     "shell.execute_reply": "2023-04-30T15:31:03.943916Z"
    },
    "papermill": {
     "duration": 422.752768,
     "end_time": "2023-04-30T15:31:03.948120",
     "exception": false,
     "start_time": "2023-04-30T15:24:01.195352",
     "status": "completed"
    },
    "tags": []
   },
   "outputs": [
    {
     "name": "stdout",
     "output_type": "stream",
     "text": [
      "-------------------- 0 --------------------\n",
      "(246008, 162) (61503, 162)\n",
      "[LightGBM] [Warning] feature_fraction is set=0.633612863123612, colsample_bytree=1.0 will be ignored. Current value: feature_fraction=0.633612863123612\n",
      "[LightGBM] [Warning] lambda_l1 is set=0.04043314263083684, reg_alpha=0.0 will be ignored. Current value: lambda_l1=0.04043314263083684\n",
      "[LightGBM] [Warning] bagging_fraction is set=0.8056982211623093, subsample=1.0 will be ignored. Current value: bagging_fraction=0.8056982211623093\n",
      "[LightGBM] [Warning] min_sum_hessian_in_leaf is set=8.623253649320915e-05, min_child_weight=0.001 will be ignored. Current value: min_sum_hessian_in_leaf=8.623253649320915e-05\n",
      "[LightGBM] [Warning] bagging_freq is set=1, subsample_freq=0 will be ignored. Current value: bagging_freq=1\n",
      "[LightGBM] [Warning] lambda_l2 is set=6.59894543540371, reg_lambda=0.0 will be ignored. Current value: lambda_l2=6.59894543540371\n",
      "[100]\ttraining's auc: 0.770488\tvalid_1's auc: 0.761265\n",
      "[200]\ttraining's auc: 0.783427\tvalid_1's auc: 0.768502\n",
      "[300]\ttraining's auc: 0.79259\tvalid_1's auc: 0.771517\n",
      "[400]\ttraining's auc: 0.799643\tvalid_1's auc: 0.772832\n",
      "[500]\ttraining's auc: 0.805975\tvalid_1's auc: 0.773612\n",
      "[600]\ttraining's auc: 0.811629\tvalid_1's auc: 0.774023\n",
      "[700]\ttraining's auc: 0.817242\tvalid_1's auc: 0.774301\n",
      "[800]\ttraining's auc: 0.822105\tvalid_1's auc: 0.774613\n",
      "[900]\ttraining's auc: 0.827035\tvalid_1's auc: 0.774893\n",
      "[1000]\ttraining's auc: 0.831656\tvalid_1's auc: 0.774824\n",
      "[auc] tr:0.8282, va:0.7750\n",
      "-------------------- 1 --------------------\n",
      "(246009, 162) (61502, 162)\n",
      "[LightGBM] [Warning] feature_fraction is set=0.633612863123612, colsample_bytree=1.0 will be ignored. Current value: feature_fraction=0.633612863123612\n",
      "[LightGBM] [Warning] lambda_l1 is set=0.04043314263083684, reg_alpha=0.0 will be ignored. Current value: lambda_l1=0.04043314263083684\n",
      "[LightGBM] [Warning] bagging_fraction is set=0.8056982211623093, subsample=1.0 will be ignored. Current value: bagging_fraction=0.8056982211623093\n",
      "[LightGBM] [Warning] min_sum_hessian_in_leaf is set=8.623253649320915e-05, min_child_weight=0.001 will be ignored. Current value: min_sum_hessian_in_leaf=8.623253649320915e-05\n",
      "[LightGBM] [Warning] bagging_freq is set=1, subsample_freq=0 will be ignored. Current value: bagging_freq=1\n",
      "[LightGBM] [Warning] lambda_l2 is set=6.59894543540371, reg_lambda=0.0 will be ignored. Current value: lambda_l2=6.59894543540371\n",
      "[100]\ttraining's auc: 0.769731\tvalid_1's auc: 0.763308\n",
      "[200]\ttraining's auc: 0.783171\tvalid_1's auc: 0.771986\n",
      "[300]\ttraining's auc: 0.791963\tvalid_1's auc: 0.775425\n",
      "[400]\ttraining's auc: 0.799553\tvalid_1's auc: 0.776997\n",
      "[500]\ttraining's auc: 0.80583\tvalid_1's auc: 0.777997\n",
      "[600]\ttraining's auc: 0.811809\tvalid_1's auc: 0.778702\n",
      "[700]\ttraining's auc: 0.817157\tvalid_1's auc: 0.779283\n",
      "[800]\ttraining's auc: 0.822331\tvalid_1's auc: 0.77924\n",
      "[auc] tr:0.8187, va:0.7794\n",
      "-------------------- 2 --------------------\n",
      "(246009, 162) (61502, 162)\n",
      "[LightGBM] [Warning] feature_fraction is set=0.633612863123612, colsample_bytree=1.0 will be ignored. Current value: feature_fraction=0.633612863123612\n",
      "[LightGBM] [Warning] lambda_l1 is set=0.04043314263083684, reg_alpha=0.0 will be ignored. Current value: lambda_l1=0.04043314263083684\n",
      "[LightGBM] [Warning] bagging_fraction is set=0.8056982211623093, subsample=1.0 will be ignored. Current value: bagging_fraction=0.8056982211623093\n",
      "[LightGBM] [Warning] min_sum_hessian_in_leaf is set=8.623253649320915e-05, min_child_weight=0.001 will be ignored. Current value: min_sum_hessian_in_leaf=8.623253649320915e-05\n",
      "[LightGBM] [Warning] bagging_freq is set=1, subsample_freq=0 will be ignored. Current value: bagging_freq=1\n",
      "[LightGBM] [Warning] lambda_l2 is set=6.59894543540371, reg_lambda=0.0 will be ignored. Current value: lambda_l2=6.59894543540371\n",
      "[100]\ttraining's auc: 0.769456\tvalid_1's auc: 0.764175\n",
      "[200]\ttraining's auc: 0.783313\tvalid_1's auc: 0.770723\n",
      "[300]\ttraining's auc: 0.792185\tvalid_1's auc: 0.773026\n",
      "[400]\ttraining's auc: 0.799515\tvalid_1's auc: 0.774415\n",
      "[500]\ttraining's auc: 0.805948\tvalid_1's auc: 0.775107\n",
      "[600]\ttraining's auc: 0.811777\tvalid_1's auc: 0.775598\n",
      "[700]\ttraining's auc: 0.817149\tvalid_1's auc: 0.775923\n",
      "[800]\ttraining's auc: 0.822416\tvalid_1's auc: 0.775913\n",
      "[900]\ttraining's auc: 0.827254\tvalid_1's auc: 0.776107\n",
      "[1000]\ttraining's auc: 0.832013\tvalid_1's auc: 0.776396\n",
      "[1100]\ttraining's auc: 0.836735\tvalid_1's auc: 0.776136\n",
      "[auc] tr:0.8323, va:0.7764\n",
      "-------------------- 3 --------------------\n",
      "(246009, 162) (61502, 162)\n",
      "[LightGBM] [Warning] feature_fraction is set=0.633612863123612, colsample_bytree=1.0 will be ignored. Current value: feature_fraction=0.633612863123612\n",
      "[LightGBM] [Warning] lambda_l1 is set=0.04043314263083684, reg_alpha=0.0 will be ignored. Current value: lambda_l1=0.04043314263083684\n",
      "[LightGBM] [Warning] bagging_fraction is set=0.8056982211623093, subsample=1.0 will be ignored. Current value: bagging_fraction=0.8056982211623093\n",
      "[LightGBM] [Warning] min_sum_hessian_in_leaf is set=8.623253649320915e-05, min_child_weight=0.001 will be ignored. Current value: min_sum_hessian_in_leaf=8.623253649320915e-05\n",
      "[LightGBM] [Warning] bagging_freq is set=1, subsample_freq=0 will be ignored. Current value: bagging_freq=1\n",
      "[LightGBM] [Warning] lambda_l2 is set=6.59894543540371, reg_lambda=0.0 will be ignored. Current value: lambda_l2=6.59894543540371\n",
      "[100]\ttraining's auc: 0.769784\tvalid_1's auc: 0.760929\n",
      "[200]\ttraining's auc: 0.78359\tvalid_1's auc: 0.768571\n",
      "[300]\ttraining's auc: 0.792803\tvalid_1's auc: 0.772015\n",
      "[400]\ttraining's auc: 0.799952\tvalid_1's auc: 0.773341\n",
      "[500]\ttraining's auc: 0.806448\tvalid_1's auc: 0.77418\n",
      "[600]\ttraining's auc: 0.812623\tvalid_1's auc: 0.774955\n",
      "[700]\ttraining's auc: 0.818087\tvalid_1's auc: 0.775001\n",
      "[auc] tr:0.8155, va:0.7752\n",
      "-------------------- 4 --------------------\n",
      "(246009, 162) (61502, 162)\n",
      "[LightGBM] [Warning] feature_fraction is set=0.633612863123612, colsample_bytree=1.0 will be ignored. Current value: feature_fraction=0.633612863123612\n",
      "[LightGBM] [Warning] lambda_l1 is set=0.04043314263083684, reg_alpha=0.0 will be ignored. Current value: lambda_l1=0.04043314263083684\n",
      "[LightGBM] [Warning] bagging_fraction is set=0.8056982211623093, subsample=1.0 will be ignored. Current value: bagging_fraction=0.8056982211623093\n",
      "[LightGBM] [Warning] min_sum_hessian_in_leaf is set=8.623253649320915e-05, min_child_weight=0.001 will be ignored. Current value: min_sum_hessian_in_leaf=8.623253649320915e-05\n",
      "[LightGBM] [Warning] bagging_freq is set=1, subsample_freq=0 will be ignored. Current value: bagging_freq=1\n",
      "[LightGBM] [Warning] lambda_l2 is set=6.59894543540371, reg_lambda=0.0 will be ignored. Current value: lambda_l2=6.59894543540371\n",
      "[100]\ttraining's auc: 0.7708\tvalid_1's auc: 0.756771\n",
      "[200]\ttraining's auc: 0.784898\tvalid_1's auc: 0.764562\n",
      "[300]\ttraining's auc: 0.793716\tvalid_1's auc: 0.76734\n",
      "[400]\ttraining's auc: 0.801196\tvalid_1's auc: 0.769193\n",
      "[500]\ttraining's auc: 0.807607\tvalid_1's auc: 0.76994\n",
      "[600]\ttraining's auc: 0.813246\tvalid_1's auc: 0.770521\n",
      "[700]\ttraining's auc: 0.818565\tvalid_1's auc: 0.770765\n",
      "[800]\ttraining's auc: 0.823698\tvalid_1's auc: 0.770952\n",
      "[900]\ttraining's auc: 0.828865\tvalid_1's auc: 0.771266\n",
      "[1000]\ttraining's auc: 0.8337\tvalid_1's auc: 0.771093\n",
      "[auc] tr:0.8321, va:0.7713\n",
      "-------------------- result --------------------\n",
      "[[0.         0.82823445 0.77499545]\n",
      " [1.         0.81867472 0.77940933]\n",
      " [2.         0.83233878 0.77644362]\n",
      " [3.         0.81554391 0.77523161]\n",
      " [4.         0.83211689 0.77133015]]\n",
      "[cv] tr:0.8254+-0.0070, va:0.7755+-0.0026\n",
      "[oof] 0.7755\n"
     ]
    }
   ],
   "source": [
    "#ベストなハイパーパラメータを用いたモデル学習\n",
    "train_oof, imp, metrics = train_lgb(x_train,\n",
    "                                    y_train,\n",
    "                                    id_train,\n",
    "                                    list_nfold=[0,1,2,3,4],\n",
    "                                    n_splits=5,\n",
    "                                    params=params_best,\n",
    "                                   )"
   ]
  },
  {
   "cell_type": "code",
   "execution_count": 49,
   "id": "73d742b7",
   "metadata": {
    "execution": {
     "iopub.execute_input": "2023-04-30T15:31:04.021977Z",
     "iopub.status.busy": "2023-04-30T15:31:04.021536Z",
     "iopub.status.idle": "2023-04-30T15:31:10.981065Z",
     "shell.execute_reply": "2023-04-30T15:31:10.980009Z"
    },
    "papermill": {
     "duration": 6.999222,
     "end_time": "2023-04-30T15:31:10.983932",
     "exception": false,
     "start_time": "2023-04-30T15:31:03.984710",
     "status": "completed"
    },
    "tags": []
   },
   "outputs": [
    {
     "name": "stdout",
     "output_type": "stream",
     "text": [
      "-------------------- 0 --------------------\n",
      "-------------------- 1 --------------------\n",
      "-------------------- 2 --------------------\n",
      "-------------------- 3 --------------------\n",
      "-------------------- 4 --------------------\n",
      "Done.\n",
      "(48744, 2)\n"
     ]
    },
    {
     "data": {
      "text/html": [
       "<div>\n",
       "<style scoped>\n",
       "    .dataframe tbody tr th:only-of-type {\n",
       "        vertical-align: middle;\n",
       "    }\n",
       "\n",
       "    .dataframe tbody tr th {\n",
       "        vertical-align: top;\n",
       "    }\n",
       "\n",
       "    .dataframe thead th {\n",
       "        text-align: right;\n",
       "    }\n",
       "</style>\n",
       "<table border=\"1\" class=\"dataframe\">\n",
       "  <thead>\n",
       "    <tr style=\"text-align: right;\">\n",
       "      <th></th>\n",
       "      <th>SK_ID_CURR</th>\n",
       "      <th>TARGET</th>\n",
       "    </tr>\n",
       "  </thead>\n",
       "  <tbody>\n",
       "    <tr>\n",
       "      <th>0</th>\n",
       "      <td>100001</td>\n",
       "      <td>0.039667</td>\n",
       "    </tr>\n",
       "    <tr>\n",
       "      <th>1</th>\n",
       "      <td>100005</td>\n",
       "      <td>0.136220</td>\n",
       "    </tr>\n",
       "    <tr>\n",
       "      <th>2</th>\n",
       "      <td>100013</td>\n",
       "      <td>0.026738</td>\n",
       "    </tr>\n",
       "    <tr>\n",
       "      <th>3</th>\n",
       "      <td>100028</td>\n",
       "      <td>0.044876</td>\n",
       "    </tr>\n",
       "    <tr>\n",
       "      <th>4</th>\n",
       "      <td>100038</td>\n",
       "      <td>0.198612</td>\n",
       "    </tr>\n",
       "  </tbody>\n",
       "</table>\n",
       "</div>"
      ],
      "text/plain": [
       "   SK_ID_CURR    TARGET\n",
       "0      100001  0.039667\n",
       "1      100005  0.136220\n",
       "2      100013  0.026738\n",
       "3      100028  0.044876\n",
       "4      100038  0.198612"
      ]
     },
     "metadata": {},
     "output_type": "display_data"
    }
   ],
   "source": [
    "#推論データ作成とモデル推論\n",
    "# 推論用のデータセット作成\n",
    "x_test = df_test.drop(columns=[\"SK_ID_CURR\"])\n",
    "id_test = df_test[[\"SK_ID_CURR\"]]\n",
    "\n",
    "# カテゴリ変数をcategory型へ変換\n",
    "for col in x_test.columns:\n",
    "    if x_test[col].dtype==\"O\":\n",
    "        x_test[col] = x_test[col].astype(\"category\")\n",
    "\n",
    "# predict\n",
    "test_pred = predict_lgb(x_test,\n",
    "                        id_test,\n",
    "                        list_nfold=[0,1,2,3,4],\n",
    "                       )\n",
    "\n",
    "# make submission-file\n",
    "df_submit = test_pred.rename(columns={\"pred\":\"TARGET\"})\n",
    "print(df_submit.shape)\n",
    "display(df_submit.head())\n",
    "df_submit.to_csv(\"submission_HyperParameterTuning.csv\", index=None)"
   ]
  },
  {
   "cell_type": "code",
   "execution_count": null,
   "id": "d8976b0a",
   "metadata": {
    "papermill": {
     "duration": 0.036572,
     "end_time": "2023-04-30T15:31:11.061209",
     "exception": false,
     "start_time": "2023-04-30T15:31:11.024637",
     "status": "completed"
    },
    "tags": []
   },
   "outputs": [],
   "source": []
  }
 ],
 "metadata": {
  "kernelspec": {
   "display_name": "Python 3",
   "language": "python",
   "name": "python3"
  },
  "language_info": {
   "codemirror_mode": {
    "name": "ipython",
    "version": 3
   },
   "file_extension": ".py",
   "mimetype": "text/x-python",
   "name": "python",
   "nbconvert_exporter": "python",
   "pygments_lexer": "ipython3",
   "version": "3.7.12"
  },
  "papermill": {
   "default_parameters": {},
   "duration": 4659.506835,
   "end_time": "2023-04-30T15:31:12.533635",
   "environment_variables": {},
   "exception": null,
   "input_path": "__notebook__.ipynb",
   "output_path": "__notebook__.ipynb",
   "parameters": {},
   "start_time": "2023-04-30T14:13:33.026800",
   "version": "2.4.0"
  }
 },
 "nbformat": 4,
 "nbformat_minor": 5
}
