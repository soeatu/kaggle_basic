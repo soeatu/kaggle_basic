{
 "cells": [
  {
   "cell_type": "code",
   "execution_count": 1,
   "id": "344a4fed",
   "metadata": {
    "_cell_guid": "b1076dfc-b9ad-4769-8c92-a6c4dae69d19",
    "_uuid": "8f2839f25d086af736a60e9eeb907d3b93b6e0e5",
    "execution": {
     "iopub.execute_input": "2023-04-03T14:59:44.128115Z",
     "iopub.status.busy": "2023-04-03T14:59:44.127176Z",
     "iopub.status.idle": "2023-04-03T15:00:18.693234Z",
     "shell.execute_reply": "2023-04-03T15:00:18.691902Z"
    },
    "papermill": {
     "duration": 34.580853,
     "end_time": "2023-04-03T15:00:18.696766",
     "exception": false,
     "start_time": "2023-04-03T14:59:44.115913",
     "status": "completed"
    },
    "tags": []
   },
   "outputs": [
    {
     "data": {
      "text/html": [
       "<style type='text/css'>\n",
       ".datatable table.frame { margin-bottom: 0; }\n",
       ".datatable table.frame thead { border-bottom: none; }\n",
       ".datatable table.frame tr.coltypes td {  color: #FFFFFF;  line-height: 6px;  padding: 0 0.5em;}\n",
       ".datatable .bool    { background: #DDDD99; }\n",
       ".datatable .object  { background: #565656; }\n",
       ".datatable .int     { background: #5D9E5D; }\n",
       ".datatable .float   { background: #4040CC; }\n",
       ".datatable .str     { background: #CC4040; }\n",
       ".datatable .time    { background: #40CC40; }\n",
       ".datatable .row_index {  background: var(--jp-border-color3);  border-right: 1px solid var(--jp-border-color0);  color: var(--jp-ui-font-color3);  font-size: 9px;}\n",
       ".datatable .frame tbody td { text-align: left; }\n",
       ".datatable .frame tr.coltypes .row_index {  background: var(--jp-border-color0);}\n",
       ".datatable th:nth-child(2) { padding-left: 12px; }\n",
       ".datatable .hellipsis {  color: var(--jp-cell-editor-border-color);}\n",
       ".datatable .vellipsis {  background: var(--jp-layout-color0);  color: var(--jp-cell-editor-border-color);}\n",
       ".datatable .na {  color: var(--jp-cell-editor-border-color);  font-size: 80%;}\n",
       ".datatable .sp {  opacity: 0.25;}\n",
       ".datatable .footer { font-size: 9px; }\n",
       ".datatable .frame_dimensions {  background: var(--jp-border-color3);  border-top: 1px solid var(--jp-border-color0);  color: var(--jp-ui-font-color3);  display: inline-block;  opacity: 0.6;  padding: 1px 10px 1px 5px;}\n",
       "</style>\n"
      ],
      "text/plain": [
       "<IPython.core.display.HTML object>"
      ]
     },
     "metadata": {},
     "output_type": "display_data"
    },
    {
     "name": "stdout",
     "output_type": "stream",
     "text": [
      "Collecting japanize-matplotlib\r\n",
      "  Downloading japanize-matplotlib-1.1.3.tar.gz (4.1 MB)\r\n",
      "\u001b[2K     \u001b[90m━━━━━━━━━━━━━━━━━━━━━━━━━━━━━━━━━━━━━━━━\u001b[0m \u001b[32m4.1/4.1 MB\u001b[0m \u001b[31m34.9 MB/s\u001b[0m eta \u001b[36m0:00:00\u001b[0m\r\n",
      "\u001b[?25h  Preparing metadata (setup.py) ... \u001b[?25l-\b \bdone\r\n",
      "\u001b[?25hRequirement already satisfied: matplotlib in /opt/conda/lib/python3.7/site-packages (from japanize-matplotlib) (3.5.3)\r\n",
      "Requirement already satisfied: fonttools>=4.22.0 in /opt/conda/lib/python3.7/site-packages (from matplotlib->japanize-matplotlib) (4.38.0)\r\n",
      "Requirement already satisfied: python-dateutil>=2.7 in /opt/conda/lib/python3.7/site-packages (from matplotlib->japanize-matplotlib) (2.8.2)\r\n",
      "Requirement already satisfied: numpy>=1.17 in /opt/conda/lib/python3.7/site-packages (from matplotlib->japanize-matplotlib) (1.21.6)\r\n",
      "Requirement already satisfied: cycler>=0.10 in /opt/conda/lib/python3.7/site-packages (from matplotlib->japanize-matplotlib) (0.11.0)\r\n",
      "Requirement already satisfied: kiwisolver>=1.0.1 in /opt/conda/lib/python3.7/site-packages (from matplotlib->japanize-matplotlib) (1.4.4)\r\n",
      "Requirement already satisfied: packaging>=20.0 in /opt/conda/lib/python3.7/site-packages (from matplotlib->japanize-matplotlib) (23.0)\r\n",
      "Requirement already satisfied: pillow>=6.2.0 in /opt/conda/lib/python3.7/site-packages (from matplotlib->japanize-matplotlib) (9.4.0)\r\n",
      "Requirement already satisfied: pyparsing>=2.2.1 in /opt/conda/lib/python3.7/site-packages (from matplotlib->japanize-matplotlib) (3.0.9)\r\n",
      "Requirement already satisfied: typing-extensions in /opt/conda/lib/python3.7/site-packages (from kiwisolver>=1.0.1->matplotlib->japanize-matplotlib) (4.4.0)\r\n",
      "Requirement already satisfied: six>=1.5 in /opt/conda/lib/python3.7/site-packages (from python-dateutil>=2.7->matplotlib->japanize-matplotlib) (1.16.0)\r\n",
      "Building wheels for collected packages: japanize-matplotlib\r\n",
      "  Building wheel for japanize-matplotlib (setup.py) ... \u001b[?25l-\b \b\\\b \bdone\r\n",
      "\u001b[?25h  Created wheel for japanize-matplotlib: filename=japanize_matplotlib-1.1.3-py3-none-any.whl size=4120275 sha256=55c148785d175c4dd2ee3835a181576cd6be838b8a9249101bff4870cef3b5f9\r\n",
      "  Stored in directory: /root/.cache/pip/wheels/d3/7d/c5/d3e02382561888f86edabf3256c09b3298f8e24456f8fc4da3\r\n",
      "Successfully built japanize-matplotlib\r\n",
      "Installing collected packages: japanize-matplotlib\r\n",
      "Successfully installed japanize-matplotlib-1.1.3\r\n",
      "\u001b[33mWARNING: Running pip as the 'root' user can result in broken permissions and conflicting behaviour with the system package manager. It is recommended to use a virtual environment instead: https://pip.pypa.io/warnings/venv\u001b[0m\u001b[33m\r\n",
      "\u001b[0mRequirement already satisfied: pandas_profiling in /opt/conda/lib/python3.7/site-packages (3.6.2)\r\n",
      "Collecting pandas_profiling\r\n",
      "  Downloading pandas_profiling-3.6.6-py2.py3-none-any.whl (324 kB)\r\n",
      "\u001b[2K     \u001b[90m━━━━━━━━━━━━━━━━━━━━━━━━━━━━━━━━━━━━━━━\u001b[0m \u001b[32m324.4/324.4 kB\u001b[0m \u001b[31m6.0 MB/s\u001b[0m eta \u001b[36m0:00:00\u001b[0m\r\n",
      "\u001b[?25hCollecting ydata-profiling\r\n",
      "  Downloading ydata_profiling-4.1.2-py2.py3-none-any.whl (345 kB)\r\n",
      "\u001b[2K     \u001b[90m━━━━━━━━━━━━━━━━━━━━━━━━━━━━━━━━━━━━━━\u001b[0m \u001b[32m345.9/345.9 kB\u001b[0m \u001b[31m19.5 MB/s\u001b[0m eta \u001b[36m0:00:00\u001b[0m\r\n",
      "\u001b[?25hRequirement already satisfied: htmlmin==0.1.12 in /opt/conda/lib/python3.7/site-packages (from ydata-profiling->pandas_profiling) (0.1.12)\r\n",
      "Requirement already satisfied: pandas!=1.4.0,<1.6,>1.1 in /opt/conda/lib/python3.7/site-packages (from ydata-profiling->pandas_profiling) (1.3.5)\r\n",
      "Requirement already satisfied: multimethod<1.10,>=1.4 in /opt/conda/lib/python3.7/site-packages (from ydata-profiling->pandas_profiling) (1.9.1)\r\n",
      "Requirement already satisfied: requests<2.29,>=2.24.0 in /opt/conda/lib/python3.7/site-packages (from ydata-profiling->pandas_profiling) (2.28.2)\r\n",
      "Requirement already satisfied: imagehash==4.3.1 in /opt/conda/lib/python3.7/site-packages (from ydata-profiling->pandas_profiling) (4.3.1)\r\n",
      "Requirement already satisfied: PyYAML<6.1,>=5.0.0 in /opt/conda/lib/python3.7/site-packages (from ydata-profiling->pandas_profiling) (6.0)\r\n",
      "Requirement already satisfied: jinja2<3.2,>=2.11.1 in /opt/conda/lib/python3.7/site-packages (from ydata-profiling->pandas_profiling) (3.1.2)\r\n",
      "Requirement already satisfied: pydantic<1.11,>=1.8.1 in /opt/conda/lib/python3.7/site-packages (from ydata-profiling->pandas_profiling) (1.10.4)\r\n",
      "Requirement already satisfied: seaborn<0.13,>=0.10.1 in /opt/conda/lib/python3.7/site-packages (from ydata-profiling->pandas_profiling) (0.12.2)\r\n",
      "Requirement already satisfied: scipy<1.10,>=1.4.1 in /opt/conda/lib/python3.7/site-packages (from ydata-profiling->pandas_profiling) (1.7.3)\r\n",
      "Requirement already satisfied: typeguard<2.14,>=2.13.2 in /opt/conda/lib/python3.7/site-packages (from ydata-profiling->pandas_profiling) (2.13.3)\r\n",
      "Requirement already satisfied: numpy<1.24,>=1.16.0 in /opt/conda/lib/python3.7/site-packages (from ydata-profiling->pandas_profiling) (1.21.6)\r\n",
      "Requirement already satisfied: matplotlib<3.7,>=3.2 in /opt/conda/lib/python3.7/site-packages (from ydata-profiling->pandas_profiling) (3.5.3)\r\n",
      "Requirement already satisfied: statsmodels<0.14,>=0.13.2 in /opt/conda/lib/python3.7/site-packages (from ydata-profiling->pandas_profiling) (0.13.5)\r\n",
      "Requirement already satisfied: visions[type_image_path]==0.7.5 in /opt/conda/lib/python3.7/site-packages (from ydata-profiling->pandas_profiling) (0.7.5)\r\n",
      "Requirement already satisfied: tqdm<4.65,>=4.48.2 in /opt/conda/lib/python3.7/site-packages (from ydata-profiling->pandas_profiling) (4.64.1)\r\n",
      "Requirement already satisfied: phik<0.13,>=0.11.1 in /opt/conda/lib/python3.7/site-packages (from ydata-profiling->pandas_profiling) (0.12.3)\r\n",
      "Requirement already satisfied: PyWavelets in /opt/conda/lib/python3.7/site-packages (from imagehash==4.3.1->ydata-profiling->pandas_profiling) (1.3.0)\r\n",
      "Requirement already satisfied: pillow in /opt/conda/lib/python3.7/site-packages (from imagehash==4.3.1->ydata-profiling->pandas_profiling) (9.4.0)\r\n",
      "Requirement already satisfied: attrs>=19.3.0 in /opt/conda/lib/python3.7/site-packages (from visions[type_image_path]==0.7.5->ydata-profiling->pandas_profiling) (22.2.0)\r\n",
      "Requirement already satisfied: tangled-up-in-unicode>=0.0.4 in /opt/conda/lib/python3.7/site-packages (from visions[type_image_path]==0.7.5->ydata-profiling->pandas_profiling) (0.2.0)\r\n",
      "Requirement already satisfied: networkx>=2.4 in /opt/conda/lib/python3.7/site-packages (from visions[type_image_path]==0.7.5->ydata-profiling->pandas_profiling) (2.6.3)\r\n",
      "Requirement already satisfied: MarkupSafe>=2.0 in /opt/conda/lib/python3.7/site-packages (from jinja2<3.2,>=2.11.1->ydata-profiling->pandas_profiling) (2.1.1)\r\n",
      "Requirement already satisfied: packaging>=20.0 in /opt/conda/lib/python3.7/site-packages (from matplotlib<3.7,>=3.2->ydata-profiling->pandas_profiling) (23.0)\r\n",
      "Requirement already satisfied: fonttools>=4.22.0 in /opt/conda/lib/python3.7/site-packages (from matplotlib<3.7,>=3.2->ydata-profiling->pandas_profiling) (4.38.0)\r\n",
      "Requirement already satisfied: cycler>=0.10 in /opt/conda/lib/python3.7/site-packages (from matplotlib<3.7,>=3.2->ydata-profiling->pandas_profiling) (0.11.0)\r\n",
      "Requirement already satisfied: kiwisolver>=1.0.1 in /opt/conda/lib/python3.7/site-packages (from matplotlib<3.7,>=3.2->ydata-profiling->pandas_profiling) (1.4.4)\r\n",
      "Requirement already satisfied: python-dateutil>=2.7 in /opt/conda/lib/python3.7/site-packages (from matplotlib<3.7,>=3.2->ydata-profiling->pandas_profiling) (2.8.2)\r\n",
      "Requirement already satisfied: pyparsing>=2.2.1 in /opt/conda/lib/python3.7/site-packages (from matplotlib<3.7,>=3.2->ydata-profiling->pandas_profiling) (3.0.9)\r\n",
      "Requirement already satisfied: pytz>=2017.3 in /opt/conda/lib/python3.7/site-packages (from pandas!=1.4.0,<1.6,>1.1->ydata-profiling->pandas_profiling) (2022.7.1)\r\n",
      "Requirement already satisfied: joblib>=0.14.1 in /opt/conda/lib/python3.7/site-packages (from phik<0.13,>=0.11.1->ydata-profiling->pandas_profiling) (1.2.0)\r\n",
      "Requirement already satisfied: typing-extensions>=4.2.0 in /opt/conda/lib/python3.7/site-packages (from pydantic<1.11,>=1.8.1->ydata-profiling->pandas_profiling) (4.4.0)\r\n",
      "Requirement already satisfied: charset-normalizer<4,>=2 in /opt/conda/lib/python3.7/site-packages (from requests<2.29,>=2.24.0->ydata-profiling->pandas_profiling) (2.1.1)\r\n",
      "Requirement already satisfied: certifi>=2017.4.17 in /opt/conda/lib/python3.7/site-packages (from requests<2.29,>=2.24.0->ydata-profiling->pandas_profiling) (2022.12.7)\r\n",
      "Requirement already satisfied: urllib3<1.27,>=1.21.1 in /opt/conda/lib/python3.7/site-packages (from requests<2.29,>=2.24.0->ydata-profiling->pandas_profiling) (1.26.14)\r\n",
      "Requirement already satisfied: idna<4,>=2.5 in /opt/conda/lib/python3.7/site-packages (from requests<2.29,>=2.24.0->ydata-profiling->pandas_profiling) (3.4)\r\n",
      "Requirement already satisfied: patsy>=0.5.2 in /opt/conda/lib/python3.7/site-packages (from statsmodels<0.14,>=0.13.2->ydata-profiling->pandas_profiling) (0.5.3)\r\n",
      "Requirement already satisfied: six in /opt/conda/lib/python3.7/site-packages (from patsy>=0.5.2->statsmodels<0.14,>=0.13.2->ydata-profiling->pandas_profiling) (1.16.0)\r\n",
      "Installing collected packages: ydata-profiling, pandas_profiling\r\n",
      "  Attempting uninstall: pandas_profiling\r\n",
      "    Found existing installation: pandas-profiling 3.6.2\r\n",
      "    Uninstalling pandas-profiling-3.6.2:\r\n",
      "      Successfully uninstalled pandas-profiling-3.6.2\r\n",
      "Successfully installed pandas_profiling-3.6.6 ydata-profiling-4.1.2\r\n",
      "\u001b[33mWARNING: Running pip as the 'root' user can result in broken permissions and conflicting behaviour with the system package manager. It is recommended to use a virtual environment instead: https://pip.pypa.io/warnings/venv\u001b[0m\u001b[33m\r\n",
      "\u001b[0m"
     ]
    }
   ],
   "source": [
    "# 必要ライブラリのインポート\n",
    "import numpy as np\n",
    "import pandas as pd\n",
    "import os\n",
    "import pickle\n",
    "import gc\n",
    "\n",
    "# 可視化\n",
    "import matplotlib.pyplot as plt\n",
    "\n",
    "# 前処理\n",
    "from sklearn.preprocessing import StandardScaler, MinMaxScaler, LabelEncoder, OneHotEncoder\n",
    "\n",
    "# バリデーション\n",
    "from sklearn.model_selection import train_test_split, KFold, StratifiedKFold\n",
    "\n",
    "# 評価指標\n",
    "from sklearn.metrics import accuracy_score, roc_auc_score, confusion_matrix\n",
    "\n",
    "# モデリング: lightgbm\n",
    "import lightgbm as lgb\n",
    "\n",
    "import warnings\n",
    "warnings.filterwarnings(\"ignore\")\n",
    "\n",
    "# matplotilbで日本語表示したい場合はこれをinstallしてインポートする\n",
    "!pip install japanize-matplotlib\n",
    "import japanize_matplotlib\n",
    "\n",
    "# 2022/06/02追加: Kaggle notebook環境変更のため\n",
    "!pip install -U pandas_profiling\n",
    "\n",
    "# 分布確認\n",
    "import pandas_profiling as pdp\n"
   ]
  },
  {
   "cell_type": "code",
   "execution_count": 2,
   "id": "95682ac7",
   "metadata": {
    "execution": {
     "iopub.execute_input": "2023-04-03T15:00:18.720024Z",
     "iopub.status.busy": "2023-04-03T15:00:18.719593Z",
     "iopub.status.idle": "2023-04-03T15:00:18.766352Z",
     "shell.execute_reply": "2023-04-03T15:00:18.765063Z"
    },
    "papermill": {
     "duration": 0.061709,
     "end_time": "2023-04-03T15:00:18.769251",
     "exception": false,
     "start_time": "2023-04-03T15:00:18.707542",
     "status": "completed"
    },
    "tags": []
   },
   "outputs": [
    {
     "data": {
      "text/html": [
       "<div>\n",
       "<style scoped>\n",
       "    .dataframe tbody tr th:only-of-type {\n",
       "        vertical-align: middle;\n",
       "    }\n",
       "\n",
       "    .dataframe tbody tr th {\n",
       "        vertical-align: top;\n",
       "    }\n",
       "\n",
       "    .dataframe thead th {\n",
       "        text-align: right;\n",
       "    }\n",
       "</style>\n",
       "<table border=\"1\" class=\"dataframe\">\n",
       "  <thead>\n",
       "    <tr style=\"text-align: right;\">\n",
       "      <th></th>\n",
       "      <th>PassengerId</th>\n",
       "      <th>Survived</th>\n",
       "      <th>Pclass</th>\n",
       "      <th>Name</th>\n",
       "      <th>Sex</th>\n",
       "      <th>Age</th>\n",
       "      <th>SibSp</th>\n",
       "      <th>Parch</th>\n",
       "      <th>Ticket</th>\n",
       "      <th>Fare</th>\n",
       "      <th>Cabin</th>\n",
       "      <th>Embarked</th>\n",
       "    </tr>\n",
       "  </thead>\n",
       "  <tbody>\n",
       "    <tr>\n",
       "      <th>0</th>\n",
       "      <td>1</td>\n",
       "      <td>0</td>\n",
       "      <td>3</td>\n",
       "      <td>Braund, Mr. Owen Harris</td>\n",
       "      <td>male</td>\n",
       "      <td>22.0</td>\n",
       "      <td>1</td>\n",
       "      <td>0</td>\n",
       "      <td>A/5 21171</td>\n",
       "      <td>7.2500</td>\n",
       "      <td>NaN</td>\n",
       "      <td>S</td>\n",
       "    </tr>\n",
       "    <tr>\n",
       "      <th>1</th>\n",
       "      <td>2</td>\n",
       "      <td>1</td>\n",
       "      <td>1</td>\n",
       "      <td>Cumings, Mrs. John Bradley (Florence Briggs Th...</td>\n",
       "      <td>female</td>\n",
       "      <td>38.0</td>\n",
       "      <td>1</td>\n",
       "      <td>0</td>\n",
       "      <td>PC 17599</td>\n",
       "      <td>71.2833</td>\n",
       "      <td>C85</td>\n",
       "      <td>C</td>\n",
       "    </tr>\n",
       "    <tr>\n",
       "      <th>2</th>\n",
       "      <td>3</td>\n",
       "      <td>1</td>\n",
       "      <td>3</td>\n",
       "      <td>Heikkinen, Miss. Laina</td>\n",
       "      <td>female</td>\n",
       "      <td>26.0</td>\n",
       "      <td>0</td>\n",
       "      <td>0</td>\n",
       "      <td>STON/O2. 3101282</td>\n",
       "      <td>7.9250</td>\n",
       "      <td>NaN</td>\n",
       "      <td>S</td>\n",
       "    </tr>\n",
       "    <tr>\n",
       "      <th>3</th>\n",
       "      <td>4</td>\n",
       "      <td>1</td>\n",
       "      <td>1</td>\n",
       "      <td>Futrelle, Mrs. Jacques Heath (Lily May Peel)</td>\n",
       "      <td>female</td>\n",
       "      <td>35.0</td>\n",
       "      <td>1</td>\n",
       "      <td>0</td>\n",
       "      <td>113803</td>\n",
       "      <td>53.1000</td>\n",
       "      <td>C123</td>\n",
       "      <td>S</td>\n",
       "    </tr>\n",
       "    <tr>\n",
       "      <th>4</th>\n",
       "      <td>5</td>\n",
       "      <td>0</td>\n",
       "      <td>3</td>\n",
       "      <td>Allen, Mr. William Henry</td>\n",
       "      <td>male</td>\n",
       "      <td>35.0</td>\n",
       "      <td>0</td>\n",
       "      <td>0</td>\n",
       "      <td>373450</td>\n",
       "      <td>8.0500</td>\n",
       "      <td>NaN</td>\n",
       "      <td>S</td>\n",
       "    </tr>\n",
       "  </tbody>\n",
       "</table>\n",
       "</div>"
      ],
      "text/plain": [
       "   PassengerId  Survived  Pclass  \\\n",
       "0            1         0       3   \n",
       "1            2         1       1   \n",
       "2            3         1       3   \n",
       "3            4         1       1   \n",
       "4            5         0       3   \n",
       "\n",
       "                                                Name     Sex   Age  SibSp  \\\n",
       "0                            Braund, Mr. Owen Harris    male  22.0      1   \n",
       "1  Cumings, Mrs. John Bradley (Florence Briggs Th...  female  38.0      1   \n",
       "2                             Heikkinen, Miss. Laina  female  26.0      0   \n",
       "3       Futrelle, Mrs. Jacques Heath (Lily May Peel)  female  35.0      1   \n",
       "4                           Allen, Mr. William Henry    male  35.0      0   \n",
       "\n",
       "   Parch            Ticket     Fare Cabin Embarked  \n",
       "0      0         A/5 21171   7.2500   NaN        S  \n",
       "1      0          PC 17599  71.2833   C85        C  \n",
       "2      0  STON/O2. 3101282   7.9250   NaN        S  \n",
       "3      0            113803  53.1000  C123        S  \n",
       "4      0            373450   8.0500   NaN        S  "
      ]
     },
     "execution_count": 2,
     "metadata": {},
     "output_type": "execute_result"
    }
   ],
   "source": [
    "#ファイル読み込み\n",
    "df_train = pd.read_csv(\"../input/titanic/train.csv\")\n",
    "df_train.head()\n",
    "\n",
    "#Excelファイル　df = pd.read_excel(\"ファイル名\")\n",
    "#タブ区切り　　　df = pd_read_CSV(\"sample.tst\", sep=\"\\t\")\n",
    "#Shift JIS形式のCSVファイル　df = pd.read_CSV(\"sample.csv\", encoding=\"Shift_jis\")"
   ]
  },
  {
   "cell_type": "code",
   "execution_count": 3,
   "id": "fe0137fe",
   "metadata": {
    "execution": {
     "iopub.execute_input": "2023-04-03T15:00:18.792631Z",
     "iopub.status.busy": "2023-04-03T15:00:18.792224Z",
     "iopub.status.idle": "2023-04-03T15:00:18.804856Z",
     "shell.execute_reply": "2023-04-03T15:00:18.803468Z"
    },
    "papermill": {
     "duration": 0.027795,
     "end_time": "2023-04-03T15:00:18.807804",
     "exception": false,
     "start_time": "2023-04-03T15:00:18.780009",
     "status": "completed"
    },
    "tags": []
   },
   "outputs": [
    {
     "name": "stdout",
     "output_type": "stream",
     "text": [
      "(891, 2) (891, 1) (891, 1)\n"
     ]
    }
   ],
   "source": [
    "#データセット作成\n",
    "x_train, y_train, id_train = df_train[[\"Pclass\", \"Fare\"]], \\\n",
    "                             df_train[[\"Survived\"]], \\\n",
    "                             df_train[[\"PassengerId\"]]\n",
    "print(x_train.shape, y_train.shape, id_train.shape)"
   ]
  },
  {
   "cell_type": "code",
   "execution_count": 4,
   "id": "c1a2ea2e",
   "metadata": {
    "execution": {
     "iopub.execute_input": "2023-04-03T15:00:18.831737Z",
     "iopub.status.busy": "2023-04-03T15:00:18.830828Z",
     "iopub.status.idle": "2023-04-03T15:00:19.310728Z",
     "shell.execute_reply": "2023-04-03T15:00:19.309184Z"
    },
    "papermill": {
     "duration": 0.495142,
     "end_time": "2023-04-03T15:00:19.313775",
     "exception": false,
     "start_time": "2023-04-03T15:00:18.818633",
     "status": "completed"
    },
    "tags": []
   },
   "outputs": [],
   "source": [
    "#ベイズ最適化\n",
    "import optuna"
   ]
  },
  {
   "cell_type": "code",
   "execution_count": 5,
   "id": "e835c671",
   "metadata": {
    "execution": {
     "iopub.execute_input": "2023-04-03T15:00:19.337886Z",
     "iopub.status.busy": "2023-04-03T15:00:19.337025Z",
     "iopub.status.idle": "2023-04-03T15:00:19.351197Z",
     "shell.execute_reply": "2023-04-03T15:00:19.349777Z"
    },
    "papermill": {
     "duration": 0.029655,
     "end_time": "2023-04-03T15:00:19.354414",
     "exception": false,
     "start_time": "2023-04-03T15:00:19.324759",
     "status": "completed"
    },
    "tags": []
   },
   "outputs": [],
   "source": [
    "#目的関数の定義\n",
    "# 探索しないハイパーパラメータ\n",
    "params_base = {\n",
    "    \"boosting_type\": \"gbdt\",\n",
    "    \"objective\": \"binary\",\n",
    "    \"metric\": \"auc\",\n",
    "    \"learning_rate\": 0.02,\n",
    "    'n_estimators': 100000,\n",
    "    \"bagging_freq\": 1,\n",
    "    \"seed\": 123,\n",
    "}\n",
    "\n",
    "def objective(trial):\n",
    "    # 探索するハイパーパラメータ\n",
    "    params_tuning = {\n",
    "        \"num_leaves\": trial.suggest_int(\"num_leaves\", 8, 256),\n",
    "        \"min_data_in_leaf\": trial.suggest_int(\"min_data_in_leaf\", 5, 200),\n",
    "        \"min_sum_hessian_in_leaf\": trial.suggest_float(\"min_sum_hessian_in_leaf\", 1e-5, 1e-2, log=True),\n",
    "        \"feature_fraction\": trial.suggest_float(\"feature_fraction\", 0.5, 1.0),\n",
    "        \"bagging_fraction\": trial.suggest_float(\"bagging_fraction\", 0.5, 1.0),\n",
    "        \"lambda_l1\": trial.suggest_float(\"lambda_l1\", 1e-2, 1e2, log=True),\n",
    "        \"lambda_l2\": trial.suggest_float(\"lambda_l2\", 1e-2, 1e2, log=True),\n",
    "    }\n",
    "    params_tuning.update(params_base)\n",
    "    \n",
    "    # モデル学習・評価\n",
    "    list_metrics = []\n",
    "    cv = list(StratifiedKFold(n_splits=5, shuffle=True, random_state=123).split(x_train, y_train))\n",
    "    for nfold in np.arange(5):\n",
    "        idx_tr, idx_va = cv[nfold][0], cv[nfold][1]\n",
    "        x_tr, y_tr = x_train.loc[idx_tr, :], y_train.loc[idx_tr, :]\n",
    "        x_va, y_va = x_train.loc[idx_va, :], y_train.loc[idx_va, :]\n",
    "        model = lgb.LGBMClassifier(**params_tuning)\n",
    "        model.fit(x_tr,\n",
    "                  y_tr,\n",
    "                  eval_set=[(x_tr,y_tr), (x_va,y_va)],\n",
    "                  early_stopping_rounds=100,\n",
    "                  verbose=0,\n",
    "                 )\n",
    "        y_va_pred = model.predict_proba(x_va)[:,1]\n",
    "        metric_va = accuracy_score(y_va, np.where(y_va_pred>=0.5, 1, 0))\n",
    "        list_metrics.append(metric_va)\n",
    "    \n",
    "    # 評価値の計算\n",
    "    metrics = np.mean(list_metrics)\n",
    "    \n",
    "    return metrics"
   ]
  },
  {
   "cell_type": "code",
   "execution_count": 6,
   "id": "8b1ed211",
   "metadata": {
    "execution": {
     "iopub.execute_input": "2023-04-03T15:00:19.378746Z",
     "iopub.status.busy": "2023-04-03T15:00:19.377716Z",
     "iopub.status.idle": "2023-04-03T15:01:32.171218Z",
     "shell.execute_reply": "2023-04-03T15:01:32.169623Z"
    },
    "papermill": {
     "duration": 72.808644,
     "end_time": "2023-04-03T15:01:32.174147",
     "exception": false,
     "start_time": "2023-04-03T15:00:19.365503",
     "status": "completed"
    },
    "tags": []
   },
   "outputs": [
    {
     "name": "stderr",
     "output_type": "stream",
     "text": [
      "\u001b[32m[I 2023-04-03 15:00:19,381]\u001b[0m A new study created in memory with name: no-name-d7af92f8-fb75-41a2-b50d-004fd4f44100\u001b[0m\n"
     ]
    },
    {
     "name": "stdout",
     "output_type": "stream",
     "text": [
      "[LightGBM] [Warning] lambda_l1 is set=0.492522233779106, reg_alpha=0.0 will be ignored. Current value: lambda_l1=0.492522233779106\n",
      "[LightGBM] [Warning] bagging_fraction is set=0.8597344848927815, subsample=1.0 will be ignored. Current value: bagging_fraction=0.8597344848927815\n",
      "[LightGBM] [Warning] lambda_l2 is set=83.76388146302445, reg_lambda=0.0 will be ignored. Current value: lambda_l2=83.76388146302445\n",
      "[LightGBM] [Warning] feature_fraction is set=0.7756573845414456, colsample_bytree=1.0 will be ignored. Current value: feature_fraction=0.7756573845414456\n",
      "[LightGBM] [Warning] min_sum_hessian_in_leaf is set=4.792414358623587e-05, min_child_weight=0.001 will be ignored. Current value: min_sum_hessian_in_leaf=4.792414358623587e-05\n",
      "[LightGBM] [Warning] min_data_in_leaf is set=61, min_child_samples=20 will be ignored. Current value: min_data_in_leaf=61\n",
      "[LightGBM] [Warning] bagging_freq is set=1, subsample_freq=0 will be ignored. Current value: bagging_freq=1\n",
      "[LightGBM] [Warning] lambda_l1 is set=0.492522233779106, reg_alpha=0.0 will be ignored. Current value: lambda_l1=0.492522233779106\n",
      "[LightGBM] [Warning] bagging_fraction is set=0.8597344848927815, subsample=1.0 will be ignored. Current value: bagging_fraction=0.8597344848927815\n",
      "[LightGBM] [Warning] lambda_l2 is set=83.76388146302445, reg_lambda=0.0 will be ignored. Current value: lambda_l2=83.76388146302445\n",
      "[LightGBM] [Warning] feature_fraction is set=0.7756573845414456, colsample_bytree=1.0 will be ignored. Current value: feature_fraction=0.7756573845414456\n",
      "[LightGBM] [Warning] min_sum_hessian_in_leaf is set=4.792414358623587e-05, min_child_weight=0.001 will be ignored. Current value: min_sum_hessian_in_leaf=4.792414358623587e-05\n",
      "[LightGBM] [Warning] min_data_in_leaf is set=61, min_child_samples=20 will be ignored. Current value: min_data_in_leaf=61\n",
      "[LightGBM] [Warning] bagging_freq is set=1, subsample_freq=0 will be ignored. Current value: bagging_freq=1\n",
      "[LightGBM] [Warning] lambda_l1 is set=0.492522233779106, reg_alpha=0.0 will be ignored. Current value: lambda_l1=0.492522233779106\n",
      "[LightGBM] [Warning] bagging_fraction is set=0.8597344848927815, subsample=1.0 will be ignored. Current value: bagging_fraction=0.8597344848927815\n",
      "[LightGBM] [Warning] lambda_l2 is set=83.76388146302445, reg_lambda=0.0 will be ignored. Current value: lambda_l2=83.76388146302445\n",
      "[LightGBM] [Warning] feature_fraction is set=0.7756573845414456, colsample_bytree=1.0 will be ignored. Current value: feature_fraction=0.7756573845414456\n",
      "[LightGBM] [Warning] min_sum_hessian_in_leaf is set=4.792414358623587e-05, min_child_weight=0.001 will be ignored. Current value: min_sum_hessian_in_leaf=4.792414358623587e-05\n",
      "[LightGBM] [Warning] min_data_in_leaf is set=61, min_child_samples=20 will be ignored. Current value: min_data_in_leaf=61\n",
      "[LightGBM] [Warning] bagging_freq is set=1, subsample_freq=0 will be ignored. Current value: bagging_freq=1\n",
      "[LightGBM] [Warning] lambda_l1 is set=0.492522233779106, reg_alpha=0.0 will be ignored. Current value: lambda_l1=0.492522233779106\n",
      "[LightGBM] [Warning] bagging_fraction is set=0.8597344848927815, subsample=1.0 will be ignored. Current value: bagging_fraction=0.8597344848927815\n",
      "[LightGBM] [Warning] lambda_l2 is set=83.76388146302445, reg_lambda=0.0 will be ignored. Current value: lambda_l2=83.76388146302445\n",
      "[LightGBM] [Warning] feature_fraction is set=0.7756573845414456, colsample_bytree=1.0 will be ignored. Current value: feature_fraction=0.7756573845414456\n",
      "[LightGBM] [Warning] min_sum_hessian_in_leaf is set=4.792414358623587e-05, min_child_weight=0.001 will be ignored. Current value: min_sum_hessian_in_leaf=4.792414358623587e-05\n",
      "[LightGBM] [Warning] min_data_in_leaf is set=61, min_child_samples=20 will be ignored. Current value: min_data_in_leaf=61\n",
      "[LightGBM] [Warning] bagging_freq is set=1, subsample_freq=0 will be ignored. Current value: bagging_freq=1\n",
      "[LightGBM] [Warning] lambda_l1 is set=0.492522233779106, reg_alpha=0.0 will be ignored. Current value: lambda_l1=0.492522233779106\n",
      "[LightGBM] [Warning] bagging_fraction is set=0.8597344848927815, subsample=1.0 will be ignored. Current value: bagging_fraction=0.8597344848927815\n",
      "[LightGBM] [Warning] lambda_l2 is set=83.76388146302445, reg_lambda=0.0 will be ignored. Current value: lambda_l2=83.76388146302445\n",
      "[LightGBM] [Warning] feature_fraction is set=0.7756573845414456, colsample_bytree=1.0 will be ignored. Current value: feature_fraction=0.7756573845414456\n",
      "[LightGBM] [Warning] min_sum_hessian_in_leaf is set=4.792414358623587e-05, min_child_weight=0.001 will be ignored. Current value: min_sum_hessian_in_leaf=4.792414358623587e-05\n",
      "[LightGBM] [Warning] min_data_in_leaf is set=61, min_child_samples=20 will be ignored. Current value: min_data_in_leaf=61\n",
      "[LightGBM] [Warning] bagging_freq is set=1, subsample_freq=0 will be ignored. Current value: bagging_freq=1\n"
     ]
    },
    {
     "name": "stderr",
     "output_type": "stream",
     "text": [
      "\u001b[32m[I 2023-04-03 15:00:22,056]\u001b[0m Trial 0 finished with value: 0.664478061640826 and parameters: {'num_leaves': 181, 'min_data_in_leaf': 61, 'min_sum_hessian_in_leaf': 4.792414358623587e-05, 'feature_fraction': 0.7756573845414456, 'bagging_fraction': 0.8597344848927815, 'lambda_l1': 0.492522233779106, 'lambda_l2': 83.76388146302445}. Best is trial 0 with value: 0.664478061640826.\u001b[0m\n"
     ]
    },
    {
     "name": "stdout",
     "output_type": "stream",
     "text": [
      "[LightGBM] [Warning] lambda_l1 is set=0.567922374174008, reg_alpha=0.0 will be ignored. Current value: lambda_l1=0.567922374174008\n",
      "[LightGBM] [Warning] bagging_fraction is set=0.8645248536920208, subsample=1.0 will be ignored. Current value: bagging_fraction=0.8645248536920208\n",
      "[LightGBM] [Warning] lambda_l2 is set=0.01732652966363563, reg_lambda=0.0 will be ignored. Current value: lambda_l2=0.01732652966363563\n",
      "[LightGBM] [Warning] feature_fraction is set=0.6715890080754348, colsample_bytree=1.0 will be ignored. Current value: feature_fraction=0.6715890080754348\n",
      "[LightGBM] [Warning] min_sum_hessian_in_leaf is set=0.00015009027543233888, min_child_weight=0.001 will be ignored. Current value: min_sum_hessian_in_leaf=0.00015009027543233888\n",
      "[LightGBM] [Warning] min_data_in_leaf is set=99, min_child_samples=20 will be ignored. Current value: min_data_in_leaf=99\n",
      "[LightGBM] [Warning] bagging_freq is set=1, subsample_freq=0 will be ignored. Current value: bagging_freq=1\n",
      "[LightGBM] [Warning] lambda_l1 is set=0.567922374174008, reg_alpha=0.0 will be ignored. Current value: lambda_l1=0.567922374174008\n",
      "[LightGBM] [Warning] bagging_fraction is set=0.8645248536920208, subsample=1.0 will be ignored. Current value: bagging_fraction=0.8645248536920208\n",
      "[LightGBM] [Warning] lambda_l2 is set=0.01732652966363563, reg_lambda=0.0 will be ignored. Current value: lambda_l2=0.01732652966363563\n",
      "[LightGBM] [Warning] feature_fraction is set=0.6715890080754348, colsample_bytree=1.0 will be ignored. Current value: feature_fraction=0.6715890080754348\n",
      "[LightGBM] [Warning] min_sum_hessian_in_leaf is set=0.00015009027543233888, min_child_weight=0.001 will be ignored. Current value: min_sum_hessian_in_leaf=0.00015009027543233888\n",
      "[LightGBM] [Warning] min_data_in_leaf is set=99, min_child_samples=20 will be ignored. Current value: min_data_in_leaf=99\n",
      "[LightGBM] [Warning] bagging_freq is set=1, subsample_freq=0 will be ignored. Current value: bagging_freq=1\n",
      "[LightGBM] [Warning] lambda_l1 is set=0.567922374174008, reg_alpha=0.0 will be ignored. Current value: lambda_l1=0.567922374174008\n",
      "[LightGBM] [Warning] bagging_fraction is set=0.8645248536920208, subsample=1.0 will be ignored. Current value: bagging_fraction=0.8645248536920208\n",
      "[LightGBM] [Warning] lambda_l2 is set=0.01732652966363563, reg_lambda=0.0 will be ignored. Current value: lambda_l2=0.01732652966363563\n",
      "[LightGBM] [Warning] feature_fraction is set=0.6715890080754348, colsample_bytree=1.0 will be ignored. Current value: feature_fraction=0.6715890080754348\n",
      "[LightGBM] [Warning] min_sum_hessian_in_leaf is set=0.00015009027543233888, min_child_weight=0.001 will be ignored. Current value: min_sum_hessian_in_leaf=0.00015009027543233888\n",
      "[LightGBM] [Warning] min_data_in_leaf is set=99, min_child_samples=20 will be ignored. Current value: min_data_in_leaf=99\n",
      "[LightGBM] [Warning] bagging_freq is set=1, subsample_freq=0 will be ignored. Current value: bagging_freq=1\n",
      "[LightGBM] [Warning] lambda_l1 is set=0.567922374174008, reg_alpha=0.0 will be ignored. Current value: lambda_l1=0.567922374174008\n",
      "[LightGBM] [Warning] bagging_fraction is set=0.8645248536920208, subsample=1.0 will be ignored. Current value: bagging_fraction=0.8645248536920208\n",
      "[LightGBM] [Warning] lambda_l2 is set=0.01732652966363563, reg_lambda=0.0 will be ignored. Current value: lambda_l2=0.01732652966363563\n",
      "[LightGBM] [Warning] feature_fraction is set=0.6715890080754348, colsample_bytree=1.0 will be ignored. Current value: feature_fraction=0.6715890080754348\n",
      "[LightGBM] [Warning] min_sum_hessian_in_leaf is set=0.00015009027543233888, min_child_weight=0.001 will be ignored. Current value: min_sum_hessian_in_leaf=0.00015009027543233888\n",
      "[LightGBM] [Warning] min_data_in_leaf is set=99, min_child_samples=20 will be ignored. Current value: min_data_in_leaf=99\n",
      "[LightGBM] [Warning] bagging_freq is set=1, subsample_freq=0 will be ignored. Current value: bagging_freq=1\n",
      "[LightGBM] [Warning] lambda_l1 is set=0.567922374174008, reg_alpha=0.0 will be ignored. Current value: lambda_l1=0.567922374174008\n",
      "[LightGBM] [Warning] bagging_fraction is set=0.8645248536920208, subsample=1.0 will be ignored. Current value: bagging_fraction=0.8645248536920208\n",
      "[LightGBM] [Warning] lambda_l2 is set=0.01732652966363563, reg_lambda=0.0 will be ignored. Current value: lambda_l2=0.01732652966363563\n",
      "[LightGBM] [Warning] feature_fraction is set=0.6715890080754348, colsample_bytree=1.0 will be ignored. Current value: feature_fraction=0.6715890080754348\n",
      "[LightGBM] [Warning] min_sum_hessian_in_leaf is set=0.00015009027543233888, min_child_weight=0.001 will be ignored. Current value: min_sum_hessian_in_leaf=0.00015009027543233888\n",
      "[LightGBM] [Warning] min_data_in_leaf is set=99, min_child_samples=20 will be ignored. Current value: min_data_in_leaf=99\n",
      "[LightGBM] [Warning] bagging_freq is set=1, subsample_freq=0 will be ignored. Current value: bagging_freq=1\n"
     ]
    },
    {
     "name": "stderr",
     "output_type": "stream",
     "text": [
      "\u001b[32m[I 2023-04-03 15:00:23,465]\u001b[0m Trial 1 finished with value: 0.6712196346745339 and parameters: {'num_leaves': 178, 'min_data_in_leaf': 99, 'min_sum_hessian_in_leaf': 0.00015009027543233888, 'feature_fraction': 0.6715890080754348, 'bagging_fraction': 0.8645248536920208, 'lambda_l1': 0.567922374174008, 'lambda_l2': 0.01732652966363563}. Best is trial 1 with value: 0.6712196346745339.\u001b[0m\n"
     ]
    },
    {
     "name": "stdout",
     "output_type": "stream",
     "text": [
      "[LightGBM] [Warning] lambda_l1 is set=1.3406343673102123, reg_alpha=0.0 will be ignored. Current value: lambda_l1=1.3406343673102123\n",
      "[LightGBM] [Warning] bagging_fraction is set=0.7657756869209191, subsample=1.0 will be ignored. Current value: bagging_fraction=0.7657756869209191\n",
      "[LightGBM] [Warning] lambda_l2 is set=3.4482904089131434, reg_lambda=0.0 will be ignored. Current value: lambda_l2=3.4482904089131434\n",
      "[LightGBM] [Warning] feature_fraction is set=0.5877258780737462, colsample_bytree=1.0 will be ignored. Current value: feature_fraction=0.5877258780737462\n",
      "[LightGBM] [Warning] min_sum_hessian_in_leaf is set=3.52756635172055e-05, min_child_weight=0.001 will be ignored. Current value: min_sum_hessian_in_leaf=3.52756635172055e-05\n",
      "[LightGBM] [Warning] min_data_in_leaf is set=149, min_child_samples=20 will be ignored. Current value: min_data_in_leaf=149\n",
      "[LightGBM] [Warning] bagging_freq is set=1, subsample_freq=0 will be ignored. Current value: bagging_freq=1\n",
      "[LightGBM] [Warning] lambda_l1 is set=1.3406343673102123, reg_alpha=0.0 will be ignored. Current value: lambda_l1=1.3406343673102123\n",
      "[LightGBM] [Warning] bagging_fraction is set=0.7657756869209191, subsample=1.0 will be ignored. Current value: bagging_fraction=0.7657756869209191\n",
      "[LightGBM] [Warning] lambda_l2 is set=3.4482904089131434, reg_lambda=0.0 will be ignored. Current value: lambda_l2=3.4482904089131434\n",
      "[LightGBM] [Warning] feature_fraction is set=0.5877258780737462, colsample_bytree=1.0 will be ignored. Current value: feature_fraction=0.5877258780737462\n",
      "[LightGBM] [Warning] min_sum_hessian_in_leaf is set=3.52756635172055e-05, min_child_weight=0.001 will be ignored. Current value: min_sum_hessian_in_leaf=3.52756635172055e-05\n",
      "[LightGBM] [Warning] min_data_in_leaf is set=149, min_child_samples=20 will be ignored. Current value: min_data_in_leaf=149\n",
      "[LightGBM] [Warning] bagging_freq is set=1, subsample_freq=0 will be ignored. Current value: bagging_freq=1\n",
      "[LightGBM] [Warning] lambda_l1 is set=1.3406343673102123, reg_alpha=0.0 will be ignored. Current value: lambda_l1=1.3406343673102123\n",
      "[LightGBM] [Warning] bagging_fraction is set=0.7657756869209191, subsample=1.0 will be ignored. Current value: bagging_fraction=0.7657756869209191\n",
      "[LightGBM] [Warning] lambda_l2 is set=3.4482904089131434, reg_lambda=0.0 will be ignored. Current value: lambda_l2=3.4482904089131434\n",
      "[LightGBM] [Warning] feature_fraction is set=0.5877258780737462, colsample_bytree=1.0 will be ignored. Current value: feature_fraction=0.5877258780737462\n",
      "[LightGBM] [Warning] min_sum_hessian_in_leaf is set=3.52756635172055e-05, min_child_weight=0.001 will be ignored. Current value: min_sum_hessian_in_leaf=3.52756635172055e-05\n",
      "[LightGBM] [Warning] min_data_in_leaf is set=149, min_child_samples=20 will be ignored. Current value: min_data_in_leaf=149\n",
      "[LightGBM] [Warning] bagging_freq is set=1, subsample_freq=0 will be ignored. Current value: bagging_freq=1\n",
      "[LightGBM] [Warning] lambda_l1 is set=1.3406343673102123, reg_alpha=0.0 will be ignored. Current value: lambda_l1=1.3406343673102123\n",
      "[LightGBM] [Warning] bagging_fraction is set=0.7657756869209191, subsample=1.0 will be ignored. Current value: bagging_fraction=0.7657756869209191\n",
      "[LightGBM] [Warning] lambda_l2 is set=3.4482904089131434, reg_lambda=0.0 will be ignored. Current value: lambda_l2=3.4482904089131434\n",
      "[LightGBM] [Warning] feature_fraction is set=0.5877258780737462, colsample_bytree=1.0 will be ignored. Current value: feature_fraction=0.5877258780737462\n",
      "[LightGBM] [Warning] min_sum_hessian_in_leaf is set=3.52756635172055e-05, min_child_weight=0.001 will be ignored. Current value: min_sum_hessian_in_leaf=3.52756635172055e-05\n",
      "[LightGBM] [Warning] min_data_in_leaf is set=149, min_child_samples=20 will be ignored. Current value: min_data_in_leaf=149\n",
      "[LightGBM] [Warning] bagging_freq is set=1, subsample_freq=0 will be ignored. Current value: bagging_freq=1\n",
      "[LightGBM] [Warning] lambda_l1 is set=1.3406343673102123, reg_alpha=0.0 will be ignored. Current value: lambda_l1=1.3406343673102123\n",
      "[LightGBM] [Warning] bagging_fraction is set=0.7657756869209191, subsample=1.0 will be ignored. Current value: bagging_fraction=0.7657756869209191\n",
      "[LightGBM] [Warning] lambda_l2 is set=3.4482904089131434, reg_lambda=0.0 will be ignored. Current value: lambda_l2=3.4482904089131434\n",
      "[LightGBM] [Warning] feature_fraction is set=0.5877258780737462, colsample_bytree=1.0 will be ignored. Current value: feature_fraction=0.5877258780737462\n",
      "[LightGBM] [Warning] min_sum_hessian_in_leaf is set=3.52756635172055e-05, min_child_weight=0.001 will be ignored. Current value: min_sum_hessian_in_leaf=3.52756635172055e-05\n",
      "[LightGBM] [Warning] min_data_in_leaf is set=149, min_child_samples=20 will be ignored. Current value: min_data_in_leaf=149\n",
      "[LightGBM] [Warning] bagging_freq is set=1, subsample_freq=0 will be ignored. Current value: bagging_freq=1\n"
     ]
    },
    {
     "name": "stderr",
     "output_type": "stream",
     "text": [
      "\u001b[32m[I 2023-04-03 15:00:24,708]\u001b[0m Trial 2 finished with value: 0.65762350134957 and parameters: {'num_leaves': 107, 'min_data_in_leaf': 149, 'min_sum_hessian_in_leaf': 3.52756635172055e-05, 'feature_fraction': 0.5877258780737462, 'bagging_fraction': 0.7657756869209191, 'lambda_l1': 1.3406343673102123, 'lambda_l2': 3.4482904089131434}. Best is trial 1 with value: 0.6712196346745339.\u001b[0m\n"
     ]
    },
    {
     "name": "stdout",
     "output_type": "stream",
     "text": [
      "[LightGBM] [Warning] lambda_l1 is set=0.2799978022399009, reg_alpha=0.0 will be ignored. Current value: lambda_l1=0.2799978022399009\n",
      "[LightGBM] [Warning] bagging_fraction is set=0.6614794569265892, subsample=1.0 will be ignored. Current value: bagging_fraction=0.6614794569265892\n",
      "[LightGBM] [Warning] lambda_l2 is set=0.08185645330667264, reg_lambda=0.0 will be ignored. Current value: lambda_l2=0.08185645330667264\n",
      "[LightGBM] [Warning] feature_fraction is set=0.8612216912851107, colsample_bytree=1.0 will be ignored. Current value: feature_fraction=0.8612216912851107\n",
      "[LightGBM] [Warning] min_sum_hessian_in_leaf is set=0.0006808799287054756, min_child_weight=0.001 will be ignored. Current value: min_sum_hessian_in_leaf=0.0006808799287054756\n",
      "[LightGBM] [Warning] min_data_in_leaf is set=146, min_child_samples=20 will be ignored. Current value: min_data_in_leaf=146\n",
      "[LightGBM] [Warning] bagging_freq is set=1, subsample_freq=0 will be ignored. Current value: bagging_freq=1\n",
      "[LightGBM] [Warning] lambda_l1 is set=0.2799978022399009, reg_alpha=0.0 will be ignored. Current value: lambda_l1=0.2799978022399009\n",
      "[LightGBM] [Warning] bagging_fraction is set=0.6614794569265892, subsample=1.0 will be ignored. Current value: bagging_fraction=0.6614794569265892\n",
      "[LightGBM] [Warning] lambda_l2 is set=0.08185645330667264, reg_lambda=0.0 will be ignored. Current value: lambda_l2=0.08185645330667264\n",
      "[LightGBM] [Warning] feature_fraction is set=0.8612216912851107, colsample_bytree=1.0 will be ignored. Current value: feature_fraction=0.8612216912851107\n",
      "[LightGBM] [Warning] min_sum_hessian_in_leaf is set=0.0006808799287054756, min_child_weight=0.001 will be ignored. Current value: min_sum_hessian_in_leaf=0.0006808799287054756\n",
      "[LightGBM] [Warning] min_data_in_leaf is set=146, min_child_samples=20 will be ignored. Current value: min_data_in_leaf=146\n",
      "[LightGBM] [Warning] bagging_freq is set=1, subsample_freq=0 will be ignored. Current value: bagging_freq=1\n",
      "[LightGBM] [Warning] lambda_l1 is set=0.2799978022399009, reg_alpha=0.0 will be ignored. Current value: lambda_l1=0.2799978022399009\n",
      "[LightGBM] [Warning] bagging_fraction is set=0.6614794569265892, subsample=1.0 will be ignored. Current value: bagging_fraction=0.6614794569265892\n",
      "[LightGBM] [Warning] lambda_l2 is set=0.08185645330667264, reg_lambda=0.0 will be ignored. Current value: lambda_l2=0.08185645330667264\n",
      "[LightGBM] [Warning] feature_fraction is set=0.8612216912851107, colsample_bytree=1.0 will be ignored. Current value: feature_fraction=0.8612216912851107\n",
      "[LightGBM] [Warning] min_sum_hessian_in_leaf is set=0.0006808799287054756, min_child_weight=0.001 will be ignored. Current value: min_sum_hessian_in_leaf=0.0006808799287054756\n",
      "[LightGBM] [Warning] min_data_in_leaf is set=146, min_child_samples=20 will be ignored. Current value: min_data_in_leaf=146\n",
      "[LightGBM] [Warning] bagging_freq is set=1, subsample_freq=0 will be ignored. Current value: bagging_freq=1\n",
      "[LightGBM] [Warning] lambda_l1 is set=0.2799978022399009, reg_alpha=0.0 will be ignored. Current value: lambda_l1=0.2799978022399009\n",
      "[LightGBM] [Warning] bagging_fraction is set=0.6614794569265892, subsample=1.0 will be ignored. Current value: bagging_fraction=0.6614794569265892\n",
      "[LightGBM] [Warning] lambda_l2 is set=0.08185645330667264, reg_lambda=0.0 will be ignored. Current value: lambda_l2=0.08185645330667264\n",
      "[LightGBM] [Warning] feature_fraction is set=0.8612216912851107, colsample_bytree=1.0 will be ignored. Current value: feature_fraction=0.8612216912851107\n",
      "[LightGBM] [Warning] min_sum_hessian_in_leaf is set=0.0006808799287054756, min_child_weight=0.001 will be ignored. Current value: min_sum_hessian_in_leaf=0.0006808799287054756\n",
      "[LightGBM] [Warning] min_data_in_leaf is set=146, min_child_samples=20 will be ignored. Current value: min_data_in_leaf=146\n",
      "[LightGBM] [Warning] bagging_freq is set=1, subsample_freq=0 will be ignored. Current value: bagging_freq=1\n",
      "[LightGBM] [Warning] lambda_l1 is set=0.2799978022399009, reg_alpha=0.0 will be ignored. Current value: lambda_l1=0.2799978022399009\n",
      "[LightGBM] [Warning] bagging_fraction is set=0.6614794569265892, subsample=1.0 will be ignored. Current value: bagging_fraction=0.6614794569265892\n",
      "[LightGBM] [Warning] lambda_l2 is set=0.08185645330667264, reg_lambda=0.0 will be ignored. Current value: lambda_l2=0.08185645330667264\n",
      "[LightGBM] [Warning] feature_fraction is set=0.8612216912851107, colsample_bytree=1.0 will be ignored. Current value: feature_fraction=0.8612216912851107\n",
      "[LightGBM] [Warning] min_sum_hessian_in_leaf is set=0.0006808799287054756, min_child_weight=0.001 will be ignored. Current value: min_sum_hessian_in_leaf=0.0006808799287054756\n",
      "[LightGBM] [Warning] min_data_in_leaf is set=146, min_child_samples=20 will be ignored. Current value: min_data_in_leaf=146\n",
      "[LightGBM] [Warning] bagging_freq is set=1, subsample_freq=0 will be ignored. Current value: bagging_freq=1\n"
     ]
    },
    {
     "name": "stderr",
     "output_type": "stream",
     "text": [
      "\u001b[32m[I 2023-04-03 15:00:25,719]\u001b[0m Trial 3 finished with value: 0.6722302429226037 and parameters: {'num_leaves': 219, 'min_data_in_leaf': 146, 'min_sum_hessian_in_leaf': 0.0006808799287054756, 'feature_fraction': 0.8612216912851107, 'bagging_fraction': 0.6614794569265892, 'lambda_l1': 0.2799978022399009, 'lambda_l2': 0.08185645330667264}. Best is trial 3 with value: 0.6722302429226037.\u001b[0m\n"
     ]
    },
    {
     "name": "stdout",
     "output_type": "stream",
     "text": [
      "[LightGBM] [Warning] lambda_l1 is set=0.9434967110751797, reg_alpha=0.0 will be ignored. Current value: lambda_l1=0.9434967110751797\n",
      "[LightGBM] [Warning] bagging_fraction is set=0.7154313816648219, subsample=1.0 will be ignored. Current value: bagging_fraction=0.7154313816648219\n",
      "[LightGBM] [Warning] lambda_l2 is set=0.5050346330980694, reg_lambda=0.0 will be ignored. Current value: lambda_l2=0.5050346330980694\n",
      "[LightGBM] [Warning] feature_fraction is set=0.7168505863397641, colsample_bytree=1.0 will be ignored. Current value: feature_fraction=0.7168505863397641\n",
      "[LightGBM] [Warning] min_sum_hessian_in_leaf is set=1.889360449174926e-05, min_child_weight=0.001 will be ignored. Current value: min_sum_hessian_in_leaf=1.889360449174926e-05\n",
      "[LightGBM] [Warning] min_data_in_leaf is set=128, min_child_samples=20 will be ignored. Current value: min_data_in_leaf=128\n",
      "[LightGBM] [Warning] bagging_freq is set=1, subsample_freq=0 will be ignored. Current value: bagging_freq=1\n",
      "[LightGBM] [Warning] lambda_l1 is set=0.9434967110751797, reg_alpha=0.0 will be ignored. Current value: lambda_l1=0.9434967110751797\n",
      "[LightGBM] [Warning] bagging_fraction is set=0.7154313816648219, subsample=1.0 will be ignored. Current value: bagging_fraction=0.7154313816648219\n",
      "[LightGBM] [Warning] lambda_l2 is set=0.5050346330980694, reg_lambda=0.0 will be ignored. Current value: lambda_l2=0.5050346330980694\n",
      "[LightGBM] [Warning] feature_fraction is set=0.7168505863397641, colsample_bytree=1.0 will be ignored. Current value: feature_fraction=0.7168505863397641\n",
      "[LightGBM] [Warning] min_sum_hessian_in_leaf is set=1.889360449174926e-05, min_child_weight=0.001 will be ignored. Current value: min_sum_hessian_in_leaf=1.889360449174926e-05\n",
      "[LightGBM] [Warning] min_data_in_leaf is set=128, min_child_samples=20 will be ignored. Current value: min_data_in_leaf=128\n",
      "[LightGBM] [Warning] bagging_freq is set=1, subsample_freq=0 will be ignored. Current value: bagging_freq=1\n",
      "[LightGBM] [Warning] lambda_l1 is set=0.9434967110751797, reg_alpha=0.0 will be ignored. Current value: lambda_l1=0.9434967110751797\n",
      "[LightGBM] [Warning] bagging_fraction is set=0.7154313816648219, subsample=1.0 will be ignored. Current value: bagging_fraction=0.7154313816648219\n",
      "[LightGBM] [Warning] lambda_l2 is set=0.5050346330980694, reg_lambda=0.0 will be ignored. Current value: lambda_l2=0.5050346330980694\n",
      "[LightGBM] [Warning] feature_fraction is set=0.7168505863397641, colsample_bytree=1.0 will be ignored. Current value: feature_fraction=0.7168505863397641\n",
      "[LightGBM] [Warning] min_sum_hessian_in_leaf is set=1.889360449174926e-05, min_child_weight=0.001 will be ignored. Current value: min_sum_hessian_in_leaf=1.889360449174926e-05\n",
      "[LightGBM] [Warning] min_data_in_leaf is set=128, min_child_samples=20 will be ignored. Current value: min_data_in_leaf=128\n",
      "[LightGBM] [Warning] bagging_freq is set=1, subsample_freq=0 will be ignored. Current value: bagging_freq=1\n",
      "[LightGBM] [Warning] lambda_l1 is set=0.9434967110751797, reg_alpha=0.0 will be ignored. Current value: lambda_l1=0.9434967110751797\n",
      "[LightGBM] [Warning] bagging_fraction is set=0.7154313816648219, subsample=1.0 will be ignored. Current value: bagging_fraction=0.7154313816648219\n",
      "[LightGBM] [Warning] lambda_l2 is set=0.5050346330980694, reg_lambda=0.0 will be ignored. Current value: lambda_l2=0.5050346330980694\n",
      "[LightGBM] [Warning] feature_fraction is set=0.7168505863397641, colsample_bytree=1.0 will be ignored. Current value: feature_fraction=0.7168505863397641\n",
      "[LightGBM] [Warning] min_sum_hessian_in_leaf is set=1.889360449174926e-05, min_child_weight=0.001 will be ignored. Current value: min_sum_hessian_in_leaf=1.889360449174926e-05\n",
      "[LightGBM] [Warning] min_data_in_leaf is set=128, min_child_samples=20 will be ignored. Current value: min_data_in_leaf=128\n",
      "[LightGBM] [Warning] bagging_freq is set=1, subsample_freq=0 will be ignored. Current value: bagging_freq=1\n",
      "[LightGBM] [Warning] lambda_l1 is set=0.9434967110751797, reg_alpha=0.0 will be ignored. Current value: lambda_l1=0.9434967110751797\n",
      "[LightGBM] [Warning] bagging_fraction is set=0.7154313816648219, subsample=1.0 will be ignored. Current value: bagging_fraction=0.7154313816648219\n",
      "[LightGBM] [Warning] lambda_l2 is set=0.5050346330980694, reg_lambda=0.0 will be ignored. Current value: lambda_l2=0.5050346330980694\n",
      "[LightGBM] [Warning] feature_fraction is set=0.7168505863397641, colsample_bytree=1.0 will be ignored. Current value: feature_fraction=0.7168505863397641\n",
      "[LightGBM] [Warning] min_sum_hessian_in_leaf is set=1.889360449174926e-05, min_child_weight=0.001 will be ignored. Current value: min_sum_hessian_in_leaf=1.889360449174926e-05\n",
      "[LightGBM] [Warning] min_data_in_leaf is set=128, min_child_samples=20 will be ignored. Current value: min_data_in_leaf=128\n",
      "[LightGBM] [Warning] bagging_freq is set=1, subsample_freq=0 will be ignored. Current value: bagging_freq=1\n"
     ]
    },
    {
     "name": "stderr",
     "output_type": "stream",
     "text": [
      "\u001b[32m[I 2023-04-03 15:00:26,845]\u001b[0m Trial 4 finished with value: 0.668972443663298 and parameters: {'num_leaves': 81, 'min_data_in_leaf': 128, 'min_sum_hessian_in_leaf': 1.889360449174926e-05, 'feature_fraction': 0.7168505863397641, 'bagging_fraction': 0.7154313816648219, 'lambda_l1': 0.9434967110751797, 'lambda_l2': 0.5050346330980694}. Best is trial 3 with value: 0.6722302429226037.\u001b[0m\n"
     ]
    },
    {
     "name": "stdout",
     "output_type": "stream",
     "text": [
      "[LightGBM] [Warning] lambda_l1 is set=3.1319282717196035, reg_alpha=0.0 will be ignored. Current value: lambda_l1=3.1319282717196035\n",
      "[LightGBM] [Warning] bagging_fraction is set=0.7509183379421682, subsample=1.0 will be ignored. Current value: bagging_fraction=0.7509183379421682\n",
      "[LightGBM] [Warning] lambda_l2 is set=0.029005047452739414, reg_lambda=0.0 will be ignored. Current value: lambda_l2=0.029005047452739414\n",
      "[LightGBM] [Warning] feature_fraction is set=0.9720800091019398, colsample_bytree=1.0 will be ignored. Current value: feature_fraction=0.9720800091019398\n",
      "[LightGBM] [Warning] min_sum_hessian_in_leaf is set=0.004788147156768277, min_child_weight=0.001 will be ignored. Current value: min_sum_hessian_in_leaf=0.004788147156768277\n",
      "[LightGBM] [Warning] min_data_in_leaf is set=88, min_child_samples=20 will be ignored. Current value: min_data_in_leaf=88\n",
      "[LightGBM] [Warning] bagging_freq is set=1, subsample_freq=0 will be ignored. Current value: bagging_freq=1\n",
      "[LightGBM] [Warning] lambda_l1 is set=3.1319282717196035, reg_alpha=0.0 will be ignored. Current value: lambda_l1=3.1319282717196035\n",
      "[LightGBM] [Warning] bagging_fraction is set=0.7509183379421682, subsample=1.0 will be ignored. Current value: bagging_fraction=0.7509183379421682\n",
      "[LightGBM] [Warning] lambda_l2 is set=0.029005047452739414, reg_lambda=0.0 will be ignored. Current value: lambda_l2=0.029005047452739414\n",
      "[LightGBM] [Warning] feature_fraction is set=0.9720800091019398, colsample_bytree=1.0 will be ignored. Current value: feature_fraction=0.9720800091019398\n",
      "[LightGBM] [Warning] min_sum_hessian_in_leaf is set=0.004788147156768277, min_child_weight=0.001 will be ignored. Current value: min_sum_hessian_in_leaf=0.004788147156768277\n",
      "[LightGBM] [Warning] min_data_in_leaf is set=88, min_child_samples=20 will be ignored. Current value: min_data_in_leaf=88\n",
      "[LightGBM] [Warning] bagging_freq is set=1, subsample_freq=0 will be ignored. Current value: bagging_freq=1\n",
      "[LightGBM] [Warning] lambda_l1 is set=3.1319282717196035, reg_alpha=0.0 will be ignored. Current value: lambda_l1=3.1319282717196035\n",
      "[LightGBM] [Warning] bagging_fraction is set=0.7509183379421682, subsample=1.0 will be ignored. Current value: bagging_fraction=0.7509183379421682\n",
      "[LightGBM] [Warning] lambda_l2 is set=0.029005047452739414, reg_lambda=0.0 will be ignored. Current value: lambda_l2=0.029005047452739414\n",
      "[LightGBM] [Warning] feature_fraction is set=0.9720800091019398, colsample_bytree=1.0 will be ignored. Current value: feature_fraction=0.9720800091019398\n",
      "[LightGBM] [Warning] min_sum_hessian_in_leaf is set=0.004788147156768277, min_child_weight=0.001 will be ignored. Current value: min_sum_hessian_in_leaf=0.004788147156768277\n",
      "[LightGBM] [Warning] min_data_in_leaf is set=88, min_child_samples=20 will be ignored. Current value: min_data_in_leaf=88\n",
      "[LightGBM] [Warning] bagging_freq is set=1, subsample_freq=0 will be ignored. Current value: bagging_freq=1\n",
      "[LightGBM] [Warning] lambda_l1 is set=3.1319282717196035, reg_alpha=0.0 will be ignored. Current value: lambda_l1=3.1319282717196035\n",
      "[LightGBM] [Warning] bagging_fraction is set=0.7509183379421682, subsample=1.0 will be ignored. Current value: bagging_fraction=0.7509183379421682\n",
      "[LightGBM] [Warning] lambda_l2 is set=0.029005047452739414, reg_lambda=0.0 will be ignored. Current value: lambda_l2=0.029005047452739414\n",
      "[LightGBM] [Warning] feature_fraction is set=0.9720800091019398, colsample_bytree=1.0 will be ignored. Current value: feature_fraction=0.9720800091019398\n",
      "[LightGBM] [Warning] min_sum_hessian_in_leaf is set=0.004788147156768277, min_child_weight=0.001 will be ignored. Current value: min_sum_hessian_in_leaf=0.004788147156768277\n",
      "[LightGBM] [Warning] min_data_in_leaf is set=88, min_child_samples=20 will be ignored. Current value: min_data_in_leaf=88\n",
      "[LightGBM] [Warning] bagging_freq is set=1, subsample_freq=0 will be ignored. Current value: bagging_freq=1\n"
     ]
    },
    {
     "name": "stderr",
     "output_type": "stream",
     "text": [
      "\u001b[32m[I 2023-04-03 15:00:28,129]\u001b[0m Trial 5 finished with value: 0.6587847592743706 and parameters: {'num_leaves': 85, 'min_data_in_leaf': 88, 'min_sum_hessian_in_leaf': 0.004788147156768277, 'feature_fraction': 0.9720800091019398, 'bagging_fraction': 0.7509183379421682, 'lambda_l1': 3.1319282717196035, 'lambda_l2': 0.029005047452739414}. Best is trial 3 with value: 0.6722302429226037.\u001b[0m\n"
     ]
    },
    {
     "name": "stdout",
     "output_type": "stream",
     "text": [
      "[LightGBM] [Warning] lambda_l1 is set=3.1319282717196035, reg_alpha=0.0 will be ignored. Current value: lambda_l1=3.1319282717196035\n",
      "[LightGBM] [Warning] bagging_fraction is set=0.7509183379421682, subsample=1.0 will be ignored. Current value: bagging_fraction=0.7509183379421682\n",
      "[LightGBM] [Warning] lambda_l2 is set=0.029005047452739414, reg_lambda=0.0 will be ignored. Current value: lambda_l2=0.029005047452739414\n",
      "[LightGBM] [Warning] feature_fraction is set=0.9720800091019398, colsample_bytree=1.0 will be ignored. Current value: feature_fraction=0.9720800091019398\n",
      "[LightGBM] [Warning] min_sum_hessian_in_leaf is set=0.004788147156768277, min_child_weight=0.001 will be ignored. Current value: min_sum_hessian_in_leaf=0.004788147156768277\n",
      "[LightGBM] [Warning] min_data_in_leaf is set=88, min_child_samples=20 will be ignored. Current value: min_data_in_leaf=88\n",
      "[LightGBM] [Warning] bagging_freq is set=1, subsample_freq=0 will be ignored. Current value: bagging_freq=1\n",
      "[LightGBM] [Warning] lambda_l1 is set=87.54657140659076, reg_alpha=0.0 will be ignored. Current value: lambda_l1=87.54657140659076\n",
      "[LightGBM] [Warning] bagging_fraction is set=0.7415171321313522, subsample=1.0 will be ignored. Current value: bagging_fraction=0.7415171321313522\n",
      "[LightGBM] [Warning] lambda_l2 is set=1.1965765212602313, reg_lambda=0.0 will be ignored. Current value: lambda_l2=1.1965765212602313\n",
      "[LightGBM] [Warning] feature_fraction is set=0.6252276826982534, colsample_bytree=1.0 will be ignored. Current value: feature_fraction=0.6252276826982534\n",
      "[LightGBM] [Warning] min_sum_hessian_in_leaf is set=0.003971252247766701, min_child_weight=0.001 will be ignored. Current value: min_sum_hessian_in_leaf=0.003971252247766701\n",
      "[LightGBM] [Warning] min_data_in_leaf is set=86, min_child_samples=20 will be ignored. Current value: min_data_in_leaf=86\n",
      "[LightGBM] [Warning] bagging_freq is set=1, subsample_freq=0 will be ignored. Current value: bagging_freq=1\n",
      "[LightGBM] [Warning] lambda_l1 is set=87.54657140659076, reg_alpha=0.0 will be ignored. Current value: lambda_l1=87.54657140659076\n",
      "[LightGBM] [Warning] bagging_fraction is set=0.7415171321313522, subsample=1.0 will be ignored. Current value: bagging_fraction=0.7415171321313522\n",
      "[LightGBM] [Warning] lambda_l2 is set=1.1965765212602313, reg_lambda=0.0 will be ignored. Current value: lambda_l2=1.1965765212602313\n",
      "[LightGBM] [Warning] feature_fraction is set=0.6252276826982534, colsample_bytree=1.0 will be ignored. Current value: feature_fraction=0.6252276826982534\n",
      "[LightGBM] [Warning] min_sum_hessian_in_leaf is set=0.003971252247766701, min_child_weight=0.001 will be ignored. Current value: min_sum_hessian_in_leaf=0.003971252247766701\n",
      "[LightGBM] [Warning] min_data_in_leaf is set=86, min_child_samples=20 will be ignored. Current value: min_data_in_leaf=86\n",
      "[LightGBM] [Warning] bagging_freq is set=1, subsample_freq=0 will be ignored. Current value: bagging_freq=1\n",
      "[LightGBM] [Warning] lambda_l1 is set=87.54657140659076, reg_alpha=0.0 will be ignored. Current value: lambda_l1=87.54657140659076\n",
      "[LightGBM] [Warning] bagging_fraction is set=0.7415171321313522, subsample=1.0 will be ignored. Current value: bagging_fraction=0.7415171321313522\n",
      "[LightGBM] [Warning] lambda_l2 is set=1.1965765212602313, reg_lambda=0.0 will be ignored. Current value: lambda_l2=1.1965765212602313\n",
      "[LightGBM] [Warning] feature_fraction is set=0.6252276826982534, colsample_bytree=1.0 will be ignored. Current value: feature_fraction=0.6252276826982534\n",
      "[LightGBM] [Warning] min_sum_hessian_in_leaf is set=0.003971252247766701, min_child_weight=0.001 will be ignored. Current value: min_sum_hessian_in_leaf=0.003971252247766701\n",
      "[LightGBM] [Warning] min_data_in_leaf is set=86, min_child_samples=20 will be ignored. Current value: min_data_in_leaf=86\n",
      "[LightGBM] [Warning] bagging_freq is set=1, subsample_freq=0 will be ignored. Current value: bagging_freq=1\n",
      "[LightGBM] [Warning] lambda_l1 is set=87.54657140659076, reg_alpha=0.0 will be ignored. Current value: lambda_l1=87.54657140659076\n",
      "[LightGBM] [Warning] bagging_fraction is set=0.7415171321313522, subsample=1.0 will be ignored. Current value: bagging_fraction=0.7415171321313522\n",
      "[LightGBM] [Warning] lambda_l2 is set=1.1965765212602313, reg_lambda=0.0 will be ignored. Current value: lambda_l2=1.1965765212602313\n",
      "[LightGBM] [Warning] feature_fraction is set=0.6252276826982534, colsample_bytree=1.0 will be ignored. Current value: feature_fraction=0.6252276826982534\n",
      "[LightGBM] [Warning] min_sum_hessian_in_leaf is set=0.003971252247766701, min_child_weight=0.001 will be ignored. Current value: min_sum_hessian_in_leaf=0.003971252247766701\n",
      "[LightGBM] [Warning] min_data_in_leaf is set=86, min_child_samples=20 will be ignored. Current value: min_data_in_leaf=86\n",
      "[LightGBM] [Warning] bagging_freq is set=1, subsample_freq=0 will be ignored. Current value: bagging_freq=1\n"
     ]
    },
    {
     "name": "stderr",
     "output_type": "stream",
     "text": [
      "\u001b[32m[I 2023-04-03 15:00:28,445]\u001b[0m Trial 6 finished with value: 0.6161634548992531 and parameters: {'num_leaves': 87, 'min_data_in_leaf': 86, 'min_sum_hessian_in_leaf': 0.003971252247766701, 'feature_fraction': 0.6252276826982534, 'bagging_fraction': 0.7415171321313522, 'lambda_l1': 87.54657140659076, 'lambda_l2': 1.1965765212602313}. Best is trial 3 with value: 0.6722302429226037.\u001b[0m\n"
     ]
    },
    {
     "name": "stdout",
     "output_type": "stream",
     "text": [
      "[LightGBM] [Warning] lambda_l1 is set=87.54657140659076, reg_alpha=0.0 will be ignored. Current value: lambda_l1=87.54657140659076\n",
      "[LightGBM] [Warning] bagging_fraction is set=0.7415171321313522, subsample=1.0 will be ignored. Current value: bagging_fraction=0.7415171321313522\n",
      "[LightGBM] [Warning] lambda_l2 is set=1.1965765212602313, reg_lambda=0.0 will be ignored. Current value: lambda_l2=1.1965765212602313\n",
      "[LightGBM] [Warning] feature_fraction is set=0.6252276826982534, colsample_bytree=1.0 will be ignored. Current value: feature_fraction=0.6252276826982534\n",
      "[LightGBM] [Warning] min_sum_hessian_in_leaf is set=0.003971252247766701, min_child_weight=0.001 will be ignored. Current value: min_sum_hessian_in_leaf=0.003971252247766701\n",
      "[LightGBM] [Warning] min_data_in_leaf is set=86, min_child_samples=20 will be ignored. Current value: min_data_in_leaf=86\n",
      "[LightGBM] [Warning] bagging_freq is set=1, subsample_freq=0 will be ignored. Current value: bagging_freq=1\n",
      "[LightGBM] [Warning] lambda_l1 is set=0.23499322154972468, reg_alpha=0.0 will be ignored. Current value: lambda_l1=0.23499322154972468\n",
      "[LightGBM] [Warning] bagging_fraction is set=0.7725340032332324, subsample=1.0 will be ignored. Current value: bagging_fraction=0.7725340032332324\n",
      "[LightGBM] [Warning] lambda_l2 is set=0.1646202117975735, reg_lambda=0.0 will be ignored. Current value: lambda_l2=0.1646202117975735\n",
      "[LightGBM] [Warning] feature_fraction is set=0.8015300642054637, colsample_bytree=1.0 will be ignored. Current value: feature_fraction=0.8015300642054637\n",
      "[LightGBM] [Warning] min_sum_hessian_in_leaf is set=0.0030131614432849746, min_child_weight=0.001 will be ignored. Current value: min_sum_hessian_in_leaf=0.0030131614432849746\n",
      "[LightGBM] [Warning] min_data_in_leaf is set=28, min_child_samples=20 will be ignored. Current value: min_data_in_leaf=28\n",
      "[LightGBM] [Warning] bagging_freq is set=1, subsample_freq=0 will be ignored. Current value: bagging_freq=1\n",
      "[LightGBM] [Warning] lambda_l1 is set=0.23499322154972468, reg_alpha=0.0 will be ignored. Current value: lambda_l1=0.23499322154972468\n",
      "[LightGBM] [Warning] bagging_fraction is set=0.7725340032332324, subsample=1.0 will be ignored. Current value: bagging_fraction=0.7725340032332324\n",
      "[LightGBM] [Warning] lambda_l2 is set=0.1646202117975735, reg_lambda=0.0 will be ignored. Current value: lambda_l2=0.1646202117975735\n",
      "[LightGBM] [Warning] feature_fraction is set=0.8015300642054637, colsample_bytree=1.0 will be ignored. Current value: feature_fraction=0.8015300642054637\n",
      "[LightGBM] [Warning] min_sum_hessian_in_leaf is set=0.0030131614432849746, min_child_weight=0.001 will be ignored. Current value: min_sum_hessian_in_leaf=0.0030131614432849746\n",
      "[LightGBM] [Warning] min_data_in_leaf is set=28, min_child_samples=20 will be ignored. Current value: min_data_in_leaf=28\n",
      "[LightGBM] [Warning] bagging_freq is set=1, subsample_freq=0 will be ignored. Current value: bagging_freq=1\n",
      "[LightGBM] [Warning] lambda_l1 is set=0.23499322154972468, reg_alpha=0.0 will be ignored. Current value: lambda_l1=0.23499322154972468\n",
      "[LightGBM] [Warning] bagging_fraction is set=0.7725340032332324, subsample=1.0 will be ignored. Current value: bagging_fraction=0.7725340032332324\n",
      "[LightGBM] [Warning] lambda_l2 is set=0.1646202117975735, reg_lambda=0.0 will be ignored. Current value: lambda_l2=0.1646202117975735\n",
      "[LightGBM] [Warning] feature_fraction is set=0.8015300642054637, colsample_bytree=1.0 will be ignored. Current value: feature_fraction=0.8015300642054637\n",
      "[LightGBM] [Warning] min_sum_hessian_in_leaf is set=0.0030131614432849746, min_child_weight=0.001 will be ignored. Current value: min_sum_hessian_in_leaf=0.0030131614432849746\n",
      "[LightGBM] [Warning] min_data_in_leaf is set=28, min_child_samples=20 will be ignored. Current value: min_data_in_leaf=28\n",
      "[LightGBM] [Warning] bagging_freq is set=1, subsample_freq=0 will be ignored. Current value: bagging_freq=1\n",
      "[LightGBM] [Warning] lambda_l1 is set=0.23499322154972468, reg_alpha=0.0 will be ignored. Current value: lambda_l1=0.23499322154972468\n",
      "[LightGBM] [Warning] bagging_fraction is set=0.7725340032332324, subsample=1.0 will be ignored. Current value: bagging_fraction=0.7725340032332324\n",
      "[LightGBM] [Warning] lambda_l2 is set=0.1646202117975735, reg_lambda=0.0 will be ignored. Current value: lambda_l2=0.1646202117975735\n",
      "[LightGBM] [Warning] feature_fraction is set=0.8015300642054637, colsample_bytree=1.0 will be ignored. Current value: feature_fraction=0.8015300642054637\n",
      "[LightGBM] [Warning] min_sum_hessian_in_leaf is set=0.0030131614432849746, min_child_weight=0.001 will be ignored. Current value: min_sum_hessian_in_leaf=0.0030131614432849746\n",
      "[LightGBM] [Warning] min_data_in_leaf is set=28, min_child_samples=20 will be ignored. Current value: min_data_in_leaf=28\n",
      "[LightGBM] [Warning] bagging_freq is set=1, subsample_freq=0 will be ignored. Current value: bagging_freq=1\n",
      "[LightGBM] [Warning] lambda_l1 is set=0.23499322154972468, reg_alpha=0.0 will be ignored. Current value: lambda_l1=0.23499322154972468\n",
      "[LightGBM] [Warning] bagging_fraction is set=0.7725340032332324, subsample=1.0 will be ignored. Current value: bagging_fraction=0.7725340032332324\n",
      "[LightGBM] [Warning] lambda_l2 is set=0.1646202117975735, reg_lambda=0.0 will be ignored. Current value: lambda_l2=0.1646202117975735\n",
      "[LightGBM] [Warning] feature_fraction is set=0.8015300642054637, colsample_bytree=1.0 will be ignored. Current value: feature_fraction=0.8015300642054637\n",
      "[LightGBM] [Warning] min_sum_hessian_in_leaf is set=0.0030131614432849746, min_child_weight=0.001 will be ignored. Current value: min_sum_hessian_in_leaf=0.0030131614432849746\n",
      "[LightGBM] [Warning] min_data_in_leaf is set=28, min_child_samples=20 will be ignored. Current value: min_data_in_leaf=28\n",
      "[LightGBM] [Warning] bagging_freq is set=1, subsample_freq=0 will be ignored. Current value: bagging_freq=1\n"
     ]
    },
    {
     "name": "stderr",
     "output_type": "stream",
     "text": [
      "\u001b[32m[I 2023-04-03 15:00:31,861]\u001b[0m Trial 7 finished with value: 0.6992530286862093 and parameters: {'num_leaves': 160, 'min_data_in_leaf': 28, 'min_sum_hessian_in_leaf': 0.0030131614432849746, 'feature_fraction': 0.8015300642054637, 'bagging_fraction': 0.7725340032332324, 'lambda_l1': 0.23499322154972468, 'lambda_l2': 0.1646202117975735}. Best is trial 7 with value: 0.6992530286862093.\u001b[0m\n"
     ]
    },
    {
     "name": "stdout",
     "output_type": "stream",
     "text": [
      "[LightGBM] [Warning] lambda_l1 is set=2.206714812711709, reg_alpha=0.0 will be ignored. Current value: lambda_l1=2.206714812711709\n",
      "[LightGBM] [Warning] bagging_fraction is set=0.8346568914811361, subsample=1.0 will be ignored. Current value: bagging_fraction=0.8346568914811361\n",
      "[LightGBM] [Warning] lambda_l2 is set=3.1594683442464033, reg_lambda=0.0 will be ignored. Current value: lambda_l2=3.1594683442464033\n",
      "[LightGBM] [Warning] feature_fraction is set=0.7552111687390055, colsample_bytree=1.0 will be ignored. Current value: feature_fraction=0.7552111687390055\n",
      "[LightGBM] [Warning] min_sum_hessian_in_leaf is set=0.00423029374725911, min_child_weight=0.001 will be ignored. Current value: min_sum_hessian_in_leaf=0.00423029374725911\n",
      "[LightGBM] [Warning] min_data_in_leaf is set=138, min_child_samples=20 will be ignored. Current value: min_data_in_leaf=138\n",
      "[LightGBM] [Warning] bagging_freq is set=1, subsample_freq=0 will be ignored. Current value: bagging_freq=1\n",
      "[LightGBM] [Warning] lambda_l1 is set=2.206714812711709, reg_alpha=0.0 will be ignored. Current value: lambda_l1=2.206714812711709\n",
      "[LightGBM] [Warning] bagging_fraction is set=0.8346568914811361, subsample=1.0 will be ignored. Current value: bagging_fraction=0.8346568914811361\n",
      "[LightGBM] [Warning] lambda_l2 is set=3.1594683442464033, reg_lambda=0.0 will be ignored. Current value: lambda_l2=3.1594683442464033\n",
      "[LightGBM] [Warning] feature_fraction is set=0.7552111687390055, colsample_bytree=1.0 will be ignored. Current value: feature_fraction=0.7552111687390055\n",
      "[LightGBM] [Warning] min_sum_hessian_in_leaf is set=0.00423029374725911, min_child_weight=0.001 will be ignored. Current value: min_sum_hessian_in_leaf=0.00423029374725911\n",
      "[LightGBM] [Warning] min_data_in_leaf is set=138, min_child_samples=20 will be ignored. Current value: min_data_in_leaf=138\n",
      "[LightGBM] [Warning] bagging_freq is set=1, subsample_freq=0 will be ignored. Current value: bagging_freq=1\n",
      "[LightGBM] [Warning] lambda_l1 is set=2.206714812711709, reg_alpha=0.0 will be ignored. Current value: lambda_l1=2.206714812711709\n",
      "[LightGBM] [Warning] bagging_fraction is set=0.8346568914811361, subsample=1.0 will be ignored. Current value: bagging_fraction=0.8346568914811361\n",
      "[LightGBM] [Warning] lambda_l2 is set=3.1594683442464033, reg_lambda=0.0 will be ignored. Current value: lambda_l2=3.1594683442464033\n",
      "[LightGBM] [Warning] feature_fraction is set=0.7552111687390055, colsample_bytree=1.0 will be ignored. Current value: feature_fraction=0.7552111687390055\n",
      "[LightGBM] [Warning] min_sum_hessian_in_leaf is set=0.00423029374725911, min_child_weight=0.001 will be ignored. Current value: min_sum_hessian_in_leaf=0.00423029374725911\n",
      "[LightGBM] [Warning] min_data_in_leaf is set=138, min_child_samples=20 will be ignored. Current value: min_data_in_leaf=138\n",
      "[LightGBM] [Warning] bagging_freq is set=1, subsample_freq=0 will be ignored. Current value: bagging_freq=1\n",
      "[LightGBM] [Warning] lambda_l1 is set=2.206714812711709, reg_alpha=0.0 will be ignored. Current value: lambda_l1=2.206714812711709\n",
      "[LightGBM] [Warning] bagging_fraction is set=0.8346568914811361, subsample=1.0 will be ignored. Current value: bagging_fraction=0.8346568914811361\n",
      "[LightGBM] [Warning] lambda_l2 is set=3.1594683442464033, reg_lambda=0.0 will be ignored. Current value: lambda_l2=3.1594683442464033\n",
      "[LightGBM] [Warning] feature_fraction is set=0.7552111687390055, colsample_bytree=1.0 will be ignored. Current value: feature_fraction=0.7552111687390055\n",
      "[LightGBM] [Warning] min_sum_hessian_in_leaf is set=0.00423029374725911, min_child_weight=0.001 will be ignored. Current value: min_sum_hessian_in_leaf=0.00423029374725911\n",
      "[LightGBM] [Warning] min_data_in_leaf is set=138, min_child_samples=20 will be ignored. Current value: min_data_in_leaf=138\n",
      "[LightGBM] [Warning] bagging_freq is set=1, subsample_freq=0 will be ignored. Current value: bagging_freq=1\n",
      "[LightGBM] [Warning] lambda_l1 is set=2.206714812711709, reg_alpha=0.0 will be ignored. Current value: lambda_l1=2.206714812711709\n",
      "[LightGBM] [Warning] bagging_fraction is set=0.8346568914811361, subsample=1.0 will be ignored. Current value: bagging_fraction=0.8346568914811361\n",
      "[LightGBM] [Warning] lambda_l2 is set=3.1594683442464033, reg_lambda=0.0 will be ignored. Current value: lambda_l2=3.1594683442464033\n",
      "[LightGBM] [Warning] feature_fraction is set=0.7552111687390055, colsample_bytree=1.0 will be ignored. Current value: feature_fraction=0.7552111687390055\n",
      "[LightGBM] [Warning] min_sum_hessian_in_leaf is set=0.00423029374725911, min_child_weight=0.001 will be ignored. Current value: min_sum_hessian_in_leaf=0.00423029374725911\n",
      "[LightGBM] [Warning] min_data_in_leaf is set=138, min_child_samples=20 will be ignored. Current value: min_data_in_leaf=138\n",
      "[LightGBM] [Warning] bagging_freq is set=1, subsample_freq=0 will be ignored. Current value: bagging_freq=1\n"
     ]
    },
    {
     "name": "stderr",
     "output_type": "stream",
     "text": [
      "\u001b[32m[I 2023-04-03 15:00:33,560]\u001b[0m Trial 8 finished with value: 0.6823363254033017 and parameters: {'num_leaves': 111, 'min_data_in_leaf': 138, 'min_sum_hessian_in_leaf': 0.00423029374725911, 'feature_fraction': 0.7552111687390055, 'bagging_fraction': 0.8346568914811361, 'lambda_l1': 2.206714812711709, 'lambda_l2': 3.1594683442464033}. Best is trial 7 with value: 0.6992530286862093.\u001b[0m\n"
     ]
    },
    {
     "name": "stdout",
     "output_type": "stream",
     "text": [
      "[LightGBM] [Warning] lambda_l1 is set=0.05982625838323253, reg_alpha=0.0 will be ignored. Current value: lambda_l1=0.05982625838323253\n",
      "[LightGBM] [Warning] bagging_fraction is set=0.6218331872684371, subsample=1.0 will be ignored. Current value: bagging_fraction=0.6218331872684371\n",
      "[LightGBM] [Warning] lambda_l2 is set=1.9490717640641542, reg_lambda=0.0 will be ignored. Current value: lambda_l2=1.9490717640641542\n",
      "[LightGBM] [Warning] feature_fraction is set=0.8818414207216692, colsample_bytree=1.0 will be ignored. Current value: feature_fraction=0.8818414207216692\n",
      "[LightGBM] [Warning] min_sum_hessian_in_leaf is set=1.7765808030254076e-05, min_child_weight=0.001 will be ignored. Current value: min_sum_hessian_in_leaf=1.7765808030254076e-05\n",
      "[LightGBM] [Warning] min_data_in_leaf is set=170, min_child_samples=20 will be ignored. Current value: min_data_in_leaf=170\n",
      "[LightGBM] [Warning] bagging_freq is set=1, subsample_freq=0 will be ignored. Current value: bagging_freq=1\n",
      "[LightGBM] [Warning] lambda_l1 is set=0.05982625838323253, reg_alpha=0.0 will be ignored. Current value: lambda_l1=0.05982625838323253\n",
      "[LightGBM] [Warning] bagging_fraction is set=0.6218331872684371, subsample=1.0 will be ignored. Current value: bagging_fraction=0.6218331872684371\n",
      "[LightGBM] [Warning] lambda_l2 is set=1.9490717640641542, reg_lambda=0.0 will be ignored. Current value: lambda_l2=1.9490717640641542\n",
      "[LightGBM] [Warning] feature_fraction is set=0.8818414207216692, colsample_bytree=1.0 will be ignored. Current value: feature_fraction=0.8818414207216692\n",
      "[LightGBM] [Warning] min_sum_hessian_in_leaf is set=1.7765808030254076e-05, min_child_weight=0.001 will be ignored. Current value: min_sum_hessian_in_leaf=1.7765808030254076e-05\n",
      "[LightGBM] [Warning] min_data_in_leaf is set=170, min_child_samples=20 will be ignored. Current value: min_data_in_leaf=170\n",
      "[LightGBM] [Warning] bagging_freq is set=1, subsample_freq=0 will be ignored. Current value: bagging_freq=1\n",
      "[LightGBM] [Warning] lambda_l1 is set=0.05982625838323253, reg_alpha=0.0 will be ignored. Current value: lambda_l1=0.05982625838323253\n",
      "[LightGBM] [Warning] bagging_fraction is set=0.6218331872684371, subsample=1.0 will be ignored. Current value: bagging_fraction=0.6218331872684371\n",
      "[LightGBM] [Warning] lambda_l2 is set=1.9490717640641542, reg_lambda=0.0 will be ignored. Current value: lambda_l2=1.9490717640641542\n",
      "[LightGBM] [Warning] feature_fraction is set=0.8818414207216692, colsample_bytree=1.0 will be ignored. Current value: feature_fraction=0.8818414207216692\n",
      "[LightGBM] [Warning] min_sum_hessian_in_leaf is set=1.7765808030254076e-05, min_child_weight=0.001 will be ignored. Current value: min_sum_hessian_in_leaf=1.7765808030254076e-05\n",
      "[LightGBM] [Warning] min_data_in_leaf is set=170, min_child_samples=20 will be ignored. Current value: min_data_in_leaf=170\n",
      "[LightGBM] [Warning] bagging_freq is set=1, subsample_freq=0 will be ignored. Current value: bagging_freq=1\n",
      "[LightGBM] [Warning] lambda_l1 is set=0.05982625838323253, reg_alpha=0.0 will be ignored. Current value: lambda_l1=0.05982625838323253\n",
      "[LightGBM] [Warning] bagging_fraction is set=0.6218331872684371, subsample=1.0 will be ignored. Current value: bagging_fraction=0.6218331872684371\n",
      "[LightGBM] [Warning] lambda_l2 is set=1.9490717640641542, reg_lambda=0.0 will be ignored. Current value: lambda_l2=1.9490717640641542\n",
      "[LightGBM] [Warning] feature_fraction is set=0.8818414207216692, colsample_bytree=1.0 will be ignored. Current value: feature_fraction=0.8818414207216692\n",
      "[LightGBM] [Warning] min_sum_hessian_in_leaf is set=1.7765808030254076e-05, min_child_weight=0.001 will be ignored. Current value: min_sum_hessian_in_leaf=1.7765808030254076e-05\n",
      "[LightGBM] [Warning] min_data_in_leaf is set=170, min_child_samples=20 will be ignored. Current value: min_data_in_leaf=170\n",
      "[LightGBM] [Warning] bagging_freq is set=1, subsample_freq=0 will be ignored. Current value: bagging_freq=1\n"
     ]
    },
    {
     "name": "stderr",
     "output_type": "stream",
     "text": [
      "\u001b[32m[I 2023-04-03 15:00:34,326]\u001b[0m Trial 9 finished with value: 0.6362751867428285 and parameters: {'num_leaves': 175, 'min_data_in_leaf': 170, 'min_sum_hessian_in_leaf': 1.7765808030254076e-05, 'feature_fraction': 0.8818414207216692, 'bagging_fraction': 0.6218331872684371, 'lambda_l1': 0.05982625838323253, 'lambda_l2': 1.9490717640641542}. Best is trial 7 with value: 0.6992530286862093.\u001b[0m\n"
     ]
    },
    {
     "name": "stdout",
     "output_type": "stream",
     "text": [
      "[LightGBM] [Warning] lambda_l1 is set=0.05982625838323253, reg_alpha=0.0 will be ignored. Current value: lambda_l1=0.05982625838323253\n",
      "[LightGBM] [Warning] bagging_fraction is set=0.6218331872684371, subsample=1.0 will be ignored. Current value: bagging_fraction=0.6218331872684371\n",
      "[LightGBM] [Warning] lambda_l2 is set=1.9490717640641542, reg_lambda=0.0 will be ignored. Current value: lambda_l2=1.9490717640641542\n",
      "[LightGBM] [Warning] feature_fraction is set=0.8818414207216692, colsample_bytree=1.0 will be ignored. Current value: feature_fraction=0.8818414207216692\n",
      "[LightGBM] [Warning] min_sum_hessian_in_leaf is set=1.7765808030254076e-05, min_child_weight=0.001 will be ignored. Current value: min_sum_hessian_in_leaf=1.7765808030254076e-05\n",
      "[LightGBM] [Warning] min_data_in_leaf is set=170, min_child_samples=20 will be ignored. Current value: min_data_in_leaf=170\n",
      "[LightGBM] [Warning] bagging_freq is set=1, subsample_freq=0 will be ignored. Current value: bagging_freq=1\n",
      "[LightGBM] [Warning] lambda_l1 is set=0.010612397212799423, reg_alpha=0.0 will be ignored. Current value: lambda_l1=0.010612397212799423\n",
      "[LightGBM] [Warning] bagging_fraction is set=0.9940542446575642, subsample=1.0 will be ignored. Current value: bagging_fraction=0.9940542446575642\n",
      "[LightGBM] [Warning] lambda_l2 is set=0.1661409929489422, reg_lambda=0.0 will be ignored. Current value: lambda_l2=0.1661409929489422\n",
      "[LightGBM] [Warning] feature_fraction is set=0.5040305717020102, colsample_bytree=1.0 will be ignored. Current value: feature_fraction=0.5040305717020102\n",
      "[LightGBM] [Warning] min_sum_hessian_in_leaf is set=0.0010167214653943027, min_child_weight=0.001 will be ignored. Current value: min_sum_hessian_in_leaf=0.0010167214653943027\n",
      "[LightGBM] [Warning] min_data_in_leaf is set=6, min_child_samples=20 will be ignored. Current value: min_data_in_leaf=6\n",
      "[LightGBM] [Warning] bagging_freq is set=1, subsample_freq=0 will be ignored. Current value: bagging_freq=1\n",
      "[LightGBM] [Warning] lambda_l1 is set=0.010612397212799423, reg_alpha=0.0 will be ignored. Current value: lambda_l1=0.010612397212799423\n",
      "[LightGBM] [Warning] bagging_fraction is set=0.9940542446575642, subsample=1.0 will be ignored. Current value: bagging_fraction=0.9940542446575642\n",
      "[LightGBM] [Warning] lambda_l2 is set=0.1661409929489422, reg_lambda=0.0 will be ignored. Current value: lambda_l2=0.1661409929489422\n",
      "[LightGBM] [Warning] feature_fraction is set=0.5040305717020102, colsample_bytree=1.0 will be ignored. Current value: feature_fraction=0.5040305717020102\n",
      "[LightGBM] [Warning] min_sum_hessian_in_leaf is set=0.0010167214653943027, min_child_weight=0.001 will be ignored. Current value: min_sum_hessian_in_leaf=0.0010167214653943027\n",
      "[LightGBM] [Warning] min_data_in_leaf is set=6, min_child_samples=20 will be ignored. Current value: min_data_in_leaf=6\n",
      "[LightGBM] [Warning] bagging_freq is set=1, subsample_freq=0 will be ignored. Current value: bagging_freq=1\n",
      "[LightGBM] [Warning] lambda_l1 is set=0.010612397212799423, reg_alpha=0.0 will be ignored. Current value: lambda_l1=0.010612397212799423\n",
      "[LightGBM] [Warning] bagging_fraction is set=0.9940542446575642, subsample=1.0 will be ignored. Current value: bagging_fraction=0.9940542446575642\n",
      "[LightGBM] [Warning] lambda_l2 is set=0.1661409929489422, reg_lambda=0.0 will be ignored. Current value: lambda_l2=0.1661409929489422\n",
      "[LightGBM] [Warning] feature_fraction is set=0.5040305717020102, colsample_bytree=1.0 will be ignored. Current value: feature_fraction=0.5040305717020102\n",
      "[LightGBM] [Warning] min_sum_hessian_in_leaf is set=0.0010167214653943027, min_child_weight=0.001 will be ignored. Current value: min_sum_hessian_in_leaf=0.0010167214653943027\n",
      "[LightGBM] [Warning] min_data_in_leaf is set=6, min_child_samples=20 will be ignored. Current value: min_data_in_leaf=6\n",
      "[LightGBM] [Warning] bagging_freq is set=1, subsample_freq=0 will be ignored. Current value: bagging_freq=1\n",
      "[LightGBM] [Warning] lambda_l1 is set=0.010612397212799423, reg_alpha=0.0 will be ignored. Current value: lambda_l1=0.010612397212799423\n",
      "[LightGBM] [Warning] bagging_fraction is set=0.9940542446575642, subsample=1.0 will be ignored. Current value: bagging_fraction=0.9940542446575642\n",
      "[LightGBM] [Warning] lambda_l2 is set=0.1661409929489422, reg_lambda=0.0 will be ignored. Current value: lambda_l2=0.1661409929489422\n",
      "[LightGBM] [Warning] feature_fraction is set=0.5040305717020102, colsample_bytree=1.0 will be ignored. Current value: feature_fraction=0.5040305717020102\n",
      "[LightGBM] [Warning] min_sum_hessian_in_leaf is set=0.0010167214653943027, min_child_weight=0.001 will be ignored. Current value: min_sum_hessian_in_leaf=0.0010167214653943027\n",
      "[LightGBM] [Warning] min_data_in_leaf is set=6, min_child_samples=20 will be ignored. Current value: min_data_in_leaf=6\n",
      "[LightGBM] [Warning] bagging_freq is set=1, subsample_freq=0 will be ignored. Current value: bagging_freq=1\n",
      "[LightGBM] [Warning] lambda_l1 is set=0.010612397212799423, reg_alpha=0.0 will be ignored. Current value: lambda_l1=0.010612397212799423\n",
      "[LightGBM] [Warning] bagging_fraction is set=0.9940542446575642, subsample=1.0 will be ignored. Current value: bagging_fraction=0.9940542446575642\n",
      "[LightGBM] [Warning] lambda_l2 is set=0.1661409929489422, reg_lambda=0.0 will be ignored. Current value: lambda_l2=0.1661409929489422\n",
      "[LightGBM] [Warning] feature_fraction is set=0.5040305717020102, colsample_bytree=1.0 will be ignored. Current value: feature_fraction=0.5040305717020102\n",
      "[LightGBM] [Warning] min_sum_hessian_in_leaf is set=0.0010167214653943027, min_child_weight=0.001 will be ignored. Current value: min_sum_hessian_in_leaf=0.0010167214653943027\n",
      "[LightGBM] [Warning] min_data_in_leaf is set=6, min_child_samples=20 will be ignored. Current value: min_data_in_leaf=6\n",
      "[LightGBM] [Warning] bagging_freq is set=1, subsample_freq=0 will be ignored. Current value: bagging_freq=1\n"
     ]
    },
    {
     "name": "stderr",
     "output_type": "stream",
     "text": [
      "\u001b[32m[I 2023-04-03 15:00:36,741]\u001b[0m Trial 10 finished with value: 0.673435440336451 and parameters: {'num_leaves': 32, 'min_data_in_leaf': 6, 'min_sum_hessian_in_leaf': 0.0010167214653943027, 'feature_fraction': 0.5040305717020102, 'bagging_fraction': 0.9940542446575642, 'lambda_l1': 0.010612397212799423, 'lambda_l2': 0.1661409929489422}. Best is trial 7 with value: 0.6992530286862093.\u001b[0m\n"
     ]
    },
    {
     "name": "stdout",
     "output_type": "stream",
     "text": [
      "[LightGBM] [Warning] lambda_l1 is set=6.343590915843685, reg_alpha=0.0 will be ignored. Current value: lambda_l1=6.343590915843685\n",
      "[LightGBM] [Warning] bagging_fraction is set=0.575475056267361, subsample=1.0 will be ignored. Current value: bagging_fraction=0.575475056267361\n",
      "[LightGBM] [Warning] lambda_l2 is set=8.23255529096855, reg_lambda=0.0 will be ignored. Current value: lambda_l2=8.23255529096855\n",
      "[LightGBM] [Warning] feature_fraction is set=0.7633477525641262, colsample_bytree=1.0 will be ignored. Current value: feature_fraction=0.7633477525641262\n",
      "[LightGBM] [Warning] min_sum_hessian_in_leaf is set=0.009951069387483545, min_child_weight=0.001 will be ignored. Current value: min_sum_hessian_in_leaf=0.009951069387483545\n",
      "[LightGBM] [Warning] min_data_in_leaf is set=198, min_child_samples=20 will be ignored. Current value: min_data_in_leaf=198\n",
      "[LightGBM] [Warning] bagging_freq is set=1, subsample_freq=0 will be ignored. Current value: bagging_freq=1\n",
      "[LightGBM] [Warning] lambda_l1 is set=6.343590915843685, reg_alpha=0.0 will be ignored. Current value: lambda_l1=6.343590915843685\n",
      "[LightGBM] [Warning] bagging_fraction is set=0.575475056267361, subsample=1.0 will be ignored. Current value: bagging_fraction=0.575475056267361\n",
      "[LightGBM] [Warning] lambda_l2 is set=8.23255529096855, reg_lambda=0.0 will be ignored. Current value: lambda_l2=8.23255529096855\n",
      "[LightGBM] [Warning] feature_fraction is set=0.7633477525641262, colsample_bytree=1.0 will be ignored. Current value: feature_fraction=0.7633477525641262\n",
      "[LightGBM] [Warning] min_sum_hessian_in_leaf is set=0.009951069387483545, min_child_weight=0.001 will be ignored. Current value: min_sum_hessian_in_leaf=0.009951069387483545\n",
      "[LightGBM] [Warning] min_data_in_leaf is set=198, min_child_samples=20 will be ignored. Current value: min_data_in_leaf=198\n",
      "[LightGBM] [Warning] bagging_freq is set=1, subsample_freq=0 will be ignored. Current value: bagging_freq=1\n",
      "[LightGBM] [Warning] lambda_l1 is set=6.343590915843685, reg_alpha=0.0 will be ignored. Current value: lambda_l1=6.343590915843685\n",
      "[LightGBM] [Warning] bagging_fraction is set=0.575475056267361, subsample=1.0 will be ignored. Current value: bagging_fraction=0.575475056267361\n",
      "[LightGBM] [Warning] lambda_l2 is set=8.23255529096855, reg_lambda=0.0 will be ignored. Current value: lambda_l2=8.23255529096855\n",
      "[LightGBM] [Warning] feature_fraction is set=0.7633477525641262, colsample_bytree=1.0 will be ignored. Current value: feature_fraction=0.7633477525641262\n",
      "[LightGBM] [Warning] min_sum_hessian_in_leaf is set=0.009951069387483545, min_child_weight=0.001 will be ignored. Current value: min_sum_hessian_in_leaf=0.009951069387483545\n",
      "[LightGBM] [Warning] min_data_in_leaf is set=198, min_child_samples=20 will be ignored. Current value: min_data_in_leaf=198\n",
      "[LightGBM] [Warning] bagging_freq is set=1, subsample_freq=0 will be ignored. Current value: bagging_freq=1\n",
      "[LightGBM] [Warning] lambda_l1 is set=6.343590915843685, reg_alpha=0.0 will be ignored. Current value: lambda_l1=6.343590915843685\n",
      "[LightGBM] [Warning] bagging_fraction is set=0.575475056267361, subsample=1.0 will be ignored. Current value: bagging_fraction=0.575475056267361\n",
      "[LightGBM] [Warning] lambda_l2 is set=8.23255529096855, reg_lambda=0.0 will be ignored. Current value: lambda_l2=8.23255529096855\n",
      "[LightGBM] [Warning] feature_fraction is set=0.7633477525641262, colsample_bytree=1.0 will be ignored. Current value: feature_fraction=0.7633477525641262\n",
      "[LightGBM] [Warning] min_sum_hessian_in_leaf is set=0.009951069387483545, min_child_weight=0.001 will be ignored. Current value: min_sum_hessian_in_leaf=0.009951069387483545\n",
      "[LightGBM] [Warning] min_data_in_leaf is set=198, min_child_samples=20 will be ignored. Current value: min_data_in_leaf=198\n",
      "[LightGBM] [Warning] bagging_freq is set=1, subsample_freq=0 will be ignored. Current value: bagging_freq=1\n"
     ]
    },
    {
     "name": "stderr",
     "output_type": "stream",
     "text": [
      "\u001b[32m[I 2023-04-03 15:00:37,616]\u001b[0m Trial 11 finished with value: 0.6509949155734104 and parameters: {'num_leaves': 141, 'min_data_in_leaf': 198, 'min_sum_hessian_in_leaf': 0.009951069387483545, 'feature_fraction': 0.7633477525641262, 'bagging_fraction': 0.575475056267361, 'lambda_l1': 6.343590915843685, 'lambda_l2': 8.23255529096855}. Best is trial 7 with value: 0.6992530286862093.\u001b[0m\n"
     ]
    },
    {
     "name": "stdout",
     "output_type": "stream",
     "text": [
      "[LightGBM] [Warning] lambda_l1 is set=6.343590915843685, reg_alpha=0.0 will be ignored. Current value: lambda_l1=6.343590915843685\n",
      "[LightGBM] [Warning] bagging_fraction is set=0.575475056267361, subsample=1.0 will be ignored. Current value: bagging_fraction=0.575475056267361\n",
      "[LightGBM] [Warning] lambda_l2 is set=8.23255529096855, reg_lambda=0.0 will be ignored. Current value: lambda_l2=8.23255529096855\n",
      "[LightGBM] [Warning] feature_fraction is set=0.7633477525641262, colsample_bytree=1.0 will be ignored. Current value: feature_fraction=0.7633477525641262\n",
      "[LightGBM] [Warning] min_sum_hessian_in_leaf is set=0.009951069387483545, min_child_weight=0.001 will be ignored. Current value: min_sum_hessian_in_leaf=0.009951069387483545\n",
      "[LightGBM] [Warning] min_data_in_leaf is set=198, min_child_samples=20 will be ignored. Current value: min_data_in_leaf=198\n",
      "[LightGBM] [Warning] bagging_freq is set=1, subsample_freq=0 will be ignored. Current value: bagging_freq=1\n",
      "[LightGBM] [Warning] lambda_l1 is set=0.12924644318960654, reg_alpha=0.0 will be ignored. Current value: lambda_l1=0.12924644318960654\n",
      "[LightGBM] [Warning] bagging_fraction is set=0.8385815299651418, subsample=1.0 will be ignored. Current value: bagging_fraction=0.8385815299651418\n",
      "[LightGBM] [Warning] lambda_l2 is set=0.2669531355707319, reg_lambda=0.0 will be ignored. Current value: lambda_l2=0.2669531355707319\n",
      "[LightGBM] [Warning] feature_fraction is set=0.8001581267589792, colsample_bytree=1.0 will be ignored. Current value: feature_fraction=0.8001581267589792\n",
      "[LightGBM] [Warning] min_sum_hessian_in_leaf is set=0.001634914743632515, min_child_weight=0.001 will be ignored. Current value: min_sum_hessian_in_leaf=0.001634914743632515\n",
      "[LightGBM] [Warning] min_data_in_leaf is set=18, min_child_samples=20 will be ignored. Current value: min_data_in_leaf=18\n",
      "[LightGBM] [Warning] bagging_freq is set=1, subsample_freq=0 will be ignored. Current value: bagging_freq=1\n",
      "[LightGBM] [Warning] lambda_l1 is set=0.12924644318960654, reg_alpha=0.0 will be ignored. Current value: lambda_l1=0.12924644318960654\n",
      "[LightGBM] [Warning] bagging_fraction is set=0.8385815299651418, subsample=1.0 will be ignored. Current value: bagging_fraction=0.8385815299651418\n",
      "[LightGBM] [Warning] lambda_l2 is set=0.2669531355707319, reg_lambda=0.0 will be ignored. Current value: lambda_l2=0.2669531355707319\n",
      "[LightGBM] [Warning] feature_fraction is set=0.8001581267589792, colsample_bytree=1.0 will be ignored. Current value: feature_fraction=0.8001581267589792\n",
      "[LightGBM] [Warning] min_sum_hessian_in_leaf is set=0.001634914743632515, min_child_weight=0.001 will be ignored. Current value: min_sum_hessian_in_leaf=0.001634914743632515\n",
      "[LightGBM] [Warning] min_data_in_leaf is set=18, min_child_samples=20 will be ignored. Current value: min_data_in_leaf=18\n",
      "[LightGBM] [Warning] bagging_freq is set=1, subsample_freq=0 will be ignored. Current value: bagging_freq=1\n",
      "[LightGBM] [Warning] lambda_l1 is set=0.12924644318960654, reg_alpha=0.0 will be ignored. Current value: lambda_l1=0.12924644318960654\n",
      "[LightGBM] [Warning] bagging_fraction is set=0.8385815299651418, subsample=1.0 will be ignored. Current value: bagging_fraction=0.8385815299651418\n",
      "[LightGBM] [Warning] lambda_l2 is set=0.2669531355707319, reg_lambda=0.0 will be ignored. Current value: lambda_l2=0.2669531355707319\n",
      "[LightGBM] [Warning] feature_fraction is set=0.8001581267589792, colsample_bytree=1.0 will be ignored. Current value: feature_fraction=0.8001581267589792\n",
      "[LightGBM] [Warning] min_sum_hessian_in_leaf is set=0.001634914743632515, min_child_weight=0.001 will be ignored. Current value: min_sum_hessian_in_leaf=0.001634914743632515\n",
      "[LightGBM] [Warning] min_data_in_leaf is set=18, min_child_samples=20 will be ignored. Current value: min_data_in_leaf=18\n",
      "[LightGBM] [Warning] bagging_freq is set=1, subsample_freq=0 will be ignored. Current value: bagging_freq=1\n",
      "[LightGBM] [Warning] lambda_l1 is set=0.12924644318960654, reg_alpha=0.0 will be ignored. Current value: lambda_l1=0.12924644318960654\n",
      "[LightGBM] [Warning] bagging_fraction is set=0.8385815299651418, subsample=1.0 will be ignored. Current value: bagging_fraction=0.8385815299651418\n",
      "[LightGBM] [Warning] lambda_l2 is set=0.2669531355707319, reg_lambda=0.0 will be ignored. Current value: lambda_l2=0.2669531355707319\n",
      "[LightGBM] [Warning] feature_fraction is set=0.8001581267589792, colsample_bytree=1.0 will be ignored. Current value: feature_fraction=0.8001581267589792\n",
      "[LightGBM] [Warning] min_sum_hessian_in_leaf is set=0.001634914743632515, min_child_weight=0.001 will be ignored. Current value: min_sum_hessian_in_leaf=0.001634914743632515\n",
      "[LightGBM] [Warning] min_data_in_leaf is set=18, min_child_samples=20 will be ignored. Current value: min_data_in_leaf=18\n",
      "[LightGBM] [Warning] bagging_freq is set=1, subsample_freq=0 will be ignored. Current value: bagging_freq=1\n",
      "[LightGBM] [Warning] lambda_l1 is set=0.12924644318960654, reg_alpha=0.0 will be ignored. Current value: lambda_l1=0.12924644318960654\n",
      "[LightGBM] [Warning] bagging_fraction is set=0.8385815299651418, subsample=1.0 will be ignored. Current value: bagging_fraction=0.8385815299651418\n",
      "[LightGBM] [Warning] lambda_l2 is set=0.2669531355707319, reg_lambda=0.0 will be ignored. Current value: lambda_l2=0.2669531355707319\n",
      "[LightGBM] [Warning] feature_fraction is set=0.8001581267589792, colsample_bytree=1.0 will be ignored. Current value: feature_fraction=0.8001581267589792\n",
      "[LightGBM] [Warning] min_sum_hessian_in_leaf is set=0.001634914743632515, min_child_weight=0.001 will be ignored. Current value: min_sum_hessian_in_leaf=0.001634914743632515\n",
      "[LightGBM] [Warning] min_data_in_leaf is set=18, min_child_samples=20 will be ignored. Current value: min_data_in_leaf=18\n",
      "[LightGBM] [Warning] bagging_freq is set=1, subsample_freq=0 will be ignored. Current value: bagging_freq=1\n"
     ]
    },
    {
     "name": "stderr",
     "output_type": "stream",
     "text": [
      "\u001b[32m[I 2023-04-03 15:00:42,996]\u001b[0m Trial 12 finished with value: 0.6756512459983679 and parameters: {'num_leaves': 255, 'min_data_in_leaf': 18, 'min_sum_hessian_in_leaf': 0.001634914743632515, 'feature_fraction': 0.8001581267589792, 'bagging_fraction': 0.8385815299651418, 'lambda_l1': 0.12924644318960654, 'lambda_l2': 0.2669531355707319}. Best is trial 7 with value: 0.6992530286862093.\u001b[0m\n"
     ]
    },
    {
     "name": "stdout",
     "output_type": "stream",
     "text": [
      "[LightGBM] [Warning] lambda_l1 is set=7.775399875398035, reg_alpha=0.0 will be ignored. Current value: lambda_l1=7.775399875398035\n",
      "[LightGBM] [Warning] bagging_fraction is set=0.5285693047324076, subsample=1.0 will be ignored. Current value: bagging_fraction=0.5285693047324076\n",
      "[LightGBM] [Warning] lambda_l2 is set=0.0699652461442427, reg_lambda=0.0 will be ignored. Current value: lambda_l2=0.0699652461442427\n",
      "[LightGBM] [Warning] feature_fraction is set=0.6920119879687722, colsample_bytree=1.0 will be ignored. Current value: feature_fraction=0.6920119879687722\n",
      "[LightGBM] [Warning] min_sum_hessian_in_leaf is set=0.0021756690901938718, min_child_weight=0.001 will be ignored. Current value: min_sum_hessian_in_leaf=0.0021756690901938718\n",
      "[LightGBM] [Warning] min_data_in_leaf is set=43, min_child_samples=20 will be ignored. Current value: min_data_in_leaf=43\n",
      "[LightGBM] [Warning] bagging_freq is set=1, subsample_freq=0 will be ignored. Current value: bagging_freq=1\n",
      "[LightGBM] [Warning] lambda_l1 is set=7.775399875398035, reg_alpha=0.0 will be ignored. Current value: lambda_l1=7.775399875398035\n",
      "[LightGBM] [Warning] bagging_fraction is set=0.5285693047324076, subsample=1.0 will be ignored. Current value: bagging_fraction=0.5285693047324076\n",
      "[LightGBM] [Warning] lambda_l2 is set=0.0699652461442427, reg_lambda=0.0 will be ignored. Current value: lambda_l2=0.0699652461442427\n",
      "[LightGBM] [Warning] feature_fraction is set=0.6920119879687722, colsample_bytree=1.0 will be ignored. Current value: feature_fraction=0.6920119879687722\n",
      "[LightGBM] [Warning] min_sum_hessian_in_leaf is set=0.0021756690901938718, min_child_weight=0.001 will be ignored. Current value: min_sum_hessian_in_leaf=0.0021756690901938718\n",
      "[LightGBM] [Warning] min_data_in_leaf is set=43, min_child_samples=20 will be ignored. Current value: min_data_in_leaf=43\n",
      "[LightGBM] [Warning] bagging_freq is set=1, subsample_freq=0 will be ignored. Current value: bagging_freq=1\n",
      "[LightGBM] [Warning] lambda_l1 is set=7.775399875398035, reg_alpha=0.0 will be ignored. Current value: lambda_l1=7.775399875398035\n",
      "[LightGBM] [Warning] bagging_fraction is set=0.5285693047324076, subsample=1.0 will be ignored. Current value: bagging_fraction=0.5285693047324076\n",
      "[LightGBM] [Warning] lambda_l2 is set=0.0699652461442427, reg_lambda=0.0 will be ignored. Current value: lambda_l2=0.0699652461442427\n",
      "[LightGBM] [Warning] feature_fraction is set=0.6920119879687722, colsample_bytree=1.0 will be ignored. Current value: feature_fraction=0.6920119879687722\n",
      "[LightGBM] [Warning] min_sum_hessian_in_leaf is set=0.0021756690901938718, min_child_weight=0.001 will be ignored. Current value: min_sum_hessian_in_leaf=0.0021756690901938718\n",
      "[LightGBM] [Warning] min_data_in_leaf is set=43, min_child_samples=20 will be ignored. Current value: min_data_in_leaf=43\n",
      "[LightGBM] [Warning] bagging_freq is set=1, subsample_freq=0 will be ignored. Current value: bagging_freq=1\n",
      "[LightGBM] [Warning] lambda_l1 is set=7.775399875398035, reg_alpha=0.0 will be ignored. Current value: lambda_l1=7.775399875398035\n",
      "[LightGBM] [Warning] bagging_fraction is set=0.5285693047324076, subsample=1.0 will be ignored. Current value: bagging_fraction=0.5285693047324076\n",
      "[LightGBM] [Warning] lambda_l2 is set=0.0699652461442427, reg_lambda=0.0 will be ignored. Current value: lambda_l2=0.0699652461442427\n",
      "[LightGBM] [Warning] feature_fraction is set=0.6920119879687722, colsample_bytree=1.0 will be ignored. Current value: feature_fraction=0.6920119879687722\n",
      "[LightGBM] [Warning] min_sum_hessian_in_leaf is set=0.0021756690901938718, min_child_weight=0.001 will be ignored. Current value: min_sum_hessian_in_leaf=0.0021756690901938718\n",
      "[LightGBM] [Warning] min_data_in_leaf is set=43, min_child_samples=20 will be ignored. Current value: min_data_in_leaf=43\n",
      "[LightGBM] [Warning] bagging_freq is set=1, subsample_freq=0 will be ignored. Current value: bagging_freq=1\n",
      "[LightGBM] [Warning] lambda_l1 is set=7.775399875398035, reg_alpha=0.0 will be ignored. Current value: lambda_l1=7.775399875398035\n",
      "[LightGBM] [Warning] bagging_fraction is set=0.5285693047324076, subsample=1.0 will be ignored. Current value: bagging_fraction=0.5285693047324076\n",
      "[LightGBM] [Warning] lambda_l2 is set=0.0699652461442427, reg_lambda=0.0 will be ignored. Current value: lambda_l2=0.0699652461442427\n",
      "[LightGBM] [Warning] feature_fraction is set=0.6920119879687722, colsample_bytree=1.0 will be ignored. Current value: feature_fraction=0.6920119879687722\n",
      "[LightGBM] [Warning] min_sum_hessian_in_leaf is set=0.0021756690901938718, min_child_weight=0.001 will be ignored. Current value: min_sum_hessian_in_leaf=0.0021756690901938718\n",
      "[LightGBM] [Warning] min_data_in_leaf is set=43, min_child_samples=20 will be ignored. Current value: min_data_in_leaf=43\n",
      "[LightGBM] [Warning] bagging_freq is set=1, subsample_freq=0 will be ignored. Current value: bagging_freq=1\n"
     ]
    },
    {
     "name": "stderr",
     "output_type": "stream",
     "text": [
      "\u001b[32m[I 2023-04-03 15:00:44,407]\u001b[0m Trial 13 finished with value: 0.673404054987132 and parameters: {'num_leaves': 140, 'min_data_in_leaf': 43, 'min_sum_hessian_in_leaf': 0.0021756690901938718, 'feature_fraction': 0.6920119879687722, 'bagging_fraction': 0.5285693047324076, 'lambda_l1': 7.775399875398035, 'lambda_l2': 0.0699652461442427}. Best is trial 7 with value: 0.6992530286862093.\u001b[0m\n"
     ]
    },
    {
     "name": "stdout",
     "output_type": "stream",
     "text": [
      "[LightGBM] [Warning] lambda_l1 is set=0.0620290262968281, reg_alpha=0.0 will be ignored. Current value: lambda_l1=0.0620290262968281\n",
      "[LightGBM] [Warning] bagging_fraction is set=0.8148189817022143, subsample=1.0 will be ignored. Current value: bagging_fraction=0.8148189817022143\n",
      "[LightGBM] [Warning] lambda_l2 is set=0.5343541416013556, reg_lambda=0.0 will be ignored. Current value: lambda_l2=0.5343541416013556\n",
      "[LightGBM] [Warning] feature_fraction is set=0.8259582777932722, colsample_bytree=1.0 will be ignored. Current value: feature_fraction=0.8259582777932722\n",
      "[LightGBM] [Warning] min_sum_hessian_in_leaf is set=0.00043809038647614484, min_child_weight=0.001 will be ignored. Current value: min_sum_hessian_in_leaf=0.00043809038647614484\n",
      "[LightGBM] [Warning] min_data_in_leaf is set=60, min_child_samples=20 will be ignored. Current value: min_data_in_leaf=60\n",
      "[LightGBM] [Warning] bagging_freq is set=1, subsample_freq=0 will be ignored. Current value: bagging_freq=1\n",
      "[LightGBM] [Warning] lambda_l1 is set=0.0620290262968281, reg_alpha=0.0 will be ignored. Current value: lambda_l1=0.0620290262968281\n",
      "[LightGBM] [Warning] bagging_fraction is set=0.8148189817022143, subsample=1.0 will be ignored. Current value: bagging_fraction=0.8148189817022143\n",
      "[LightGBM] [Warning] lambda_l2 is set=0.5343541416013556, reg_lambda=0.0 will be ignored. Current value: lambda_l2=0.5343541416013556\n",
      "[LightGBM] [Warning] feature_fraction is set=0.8259582777932722, colsample_bytree=1.0 will be ignored. Current value: feature_fraction=0.8259582777932722\n",
      "[LightGBM] [Warning] min_sum_hessian_in_leaf is set=0.00043809038647614484, min_child_weight=0.001 will be ignored. Current value: min_sum_hessian_in_leaf=0.00043809038647614484\n",
      "[LightGBM] [Warning] min_data_in_leaf is set=60, min_child_samples=20 will be ignored. Current value: min_data_in_leaf=60\n",
      "[LightGBM] [Warning] bagging_freq is set=1, subsample_freq=0 will be ignored. Current value: bagging_freq=1\n",
      "[LightGBM] [Warning] lambda_l1 is set=0.0620290262968281, reg_alpha=0.0 will be ignored. Current value: lambda_l1=0.0620290262968281\n",
      "[LightGBM] [Warning] bagging_fraction is set=0.8148189817022143, subsample=1.0 will be ignored. Current value: bagging_fraction=0.8148189817022143\n",
      "[LightGBM] [Warning] lambda_l2 is set=0.5343541416013556, reg_lambda=0.0 will be ignored. Current value: lambda_l2=0.5343541416013556\n",
      "[LightGBM] [Warning] feature_fraction is set=0.8259582777932722, colsample_bytree=1.0 will be ignored. Current value: feature_fraction=0.8259582777932722\n",
      "[LightGBM] [Warning] min_sum_hessian_in_leaf is set=0.00043809038647614484, min_child_weight=0.001 will be ignored. Current value: min_sum_hessian_in_leaf=0.00043809038647614484\n",
      "[LightGBM] [Warning] min_data_in_leaf is set=60, min_child_samples=20 will be ignored. Current value: min_data_in_leaf=60\n",
      "[LightGBM] [Warning] bagging_freq is set=1, subsample_freq=0 will be ignored. Current value: bagging_freq=1\n",
      "[LightGBM] [Warning] lambda_l1 is set=0.0620290262968281, reg_alpha=0.0 will be ignored. Current value: lambda_l1=0.0620290262968281\n",
      "[LightGBM] [Warning] bagging_fraction is set=0.8148189817022143, subsample=1.0 will be ignored. Current value: bagging_fraction=0.8148189817022143\n",
      "[LightGBM] [Warning] lambda_l2 is set=0.5343541416013556, reg_lambda=0.0 will be ignored. Current value: lambda_l2=0.5343541416013556\n",
      "[LightGBM] [Warning] feature_fraction is set=0.8259582777932722, colsample_bytree=1.0 will be ignored. Current value: feature_fraction=0.8259582777932722\n",
      "[LightGBM] [Warning] min_sum_hessian_in_leaf is set=0.00043809038647614484, min_child_weight=0.001 will be ignored. Current value: min_sum_hessian_in_leaf=0.00043809038647614484\n",
      "[LightGBM] [Warning] min_data_in_leaf is set=60, min_child_samples=20 will be ignored. Current value: min_data_in_leaf=60\n",
      "[LightGBM] [Warning] bagging_freq is set=1, subsample_freq=0 will be ignored. Current value: bagging_freq=1\n",
      "[LightGBM] [Warning] lambda_l1 is set=0.0620290262968281, reg_alpha=0.0 will be ignored. Current value: lambda_l1=0.0620290262968281\n",
      "[LightGBM] [Warning] bagging_fraction is set=0.8148189817022143, subsample=1.0 will be ignored. Current value: bagging_fraction=0.8148189817022143\n",
      "[LightGBM] [Warning] lambda_l2 is set=0.5343541416013556, reg_lambda=0.0 will be ignored. Current value: lambda_l2=0.5343541416013556\n",
      "[LightGBM] [Warning] feature_fraction is set=0.8259582777932722, colsample_bytree=1.0 will be ignored. Current value: feature_fraction=0.8259582777932722\n",
      "[LightGBM] [Warning] min_sum_hessian_in_leaf is set=0.00043809038647614484, min_child_weight=0.001 will be ignored. Current value: min_sum_hessian_in_leaf=0.00043809038647614484\n",
      "[LightGBM] [Warning] min_data_in_leaf is set=60, min_child_samples=20 will be ignored. Current value: min_data_in_leaf=60\n",
      "[LightGBM] [Warning] bagging_freq is set=1, subsample_freq=0 will be ignored. Current value: bagging_freq=1\n"
     ]
    },
    {
     "name": "stderr",
     "output_type": "stream",
     "text": [
      "\u001b[32m[I 2023-04-03 15:00:46,884]\u001b[0m Trial 14 finished with value: 0.676743456154667 and parameters: {'num_leaves': 31, 'min_data_in_leaf': 60, 'min_sum_hessian_in_leaf': 0.00043809038647614484, 'feature_fraction': 0.8259582777932722, 'bagging_fraction': 0.8148189817022143, 'lambda_l1': 0.0620290262968281, 'lambda_l2': 0.5343541416013556}. Best is trial 7 with value: 0.6992530286862093.\u001b[0m\n"
     ]
    },
    {
     "name": "stdout",
     "output_type": "stream",
     "text": [
      "[LightGBM] [Warning] lambda_l1 is set=2.3717491322043136, reg_alpha=0.0 will be ignored. Current value: lambda_l1=2.3717491322043136\n",
      "[LightGBM] [Warning] bagging_fraction is set=0.9342289692301791, subsample=1.0 will be ignored. Current value: bagging_fraction=0.9342289692301791\n",
      "[LightGBM] [Warning] lambda_l2 is set=7.214148908060242, reg_lambda=0.0 will be ignored. Current value: lambda_l2=7.214148908060242\n",
      "[LightGBM] [Warning] feature_fraction is set=0.7363755369144015, colsample_bytree=1.0 will be ignored. Current value: feature_fraction=0.7363755369144015\n",
      "[LightGBM] [Warning] min_sum_hessian_in_leaf is set=0.009795048869631716, min_child_weight=0.001 will be ignored. Current value: min_sum_hessian_in_leaf=0.009795048869631716\n",
      "[LightGBM] [Warning] min_data_in_leaf is set=121, min_child_samples=20 will be ignored. Current value: min_data_in_leaf=121\n",
      "[LightGBM] [Warning] bagging_freq is set=1, subsample_freq=0 will be ignored. Current value: bagging_freq=1\n",
      "[LightGBM] [Warning] lambda_l1 is set=2.3717491322043136, reg_alpha=0.0 will be ignored. Current value: lambda_l1=2.3717491322043136\n",
      "[LightGBM] [Warning] bagging_fraction is set=0.9342289692301791, subsample=1.0 will be ignored. Current value: bagging_fraction=0.9342289692301791\n",
      "[LightGBM] [Warning] lambda_l2 is set=7.214148908060242, reg_lambda=0.0 will be ignored. Current value: lambda_l2=7.214148908060242\n",
      "[LightGBM] [Warning] feature_fraction is set=0.7363755369144015, colsample_bytree=1.0 will be ignored. Current value: feature_fraction=0.7363755369144015\n",
      "[LightGBM] [Warning] min_sum_hessian_in_leaf is set=0.009795048869631716, min_child_weight=0.001 will be ignored. Current value: min_sum_hessian_in_leaf=0.009795048869631716\n",
      "[LightGBM] [Warning] min_data_in_leaf is set=121, min_child_samples=20 will be ignored. Current value: min_data_in_leaf=121\n",
      "[LightGBM] [Warning] bagging_freq is set=1, subsample_freq=0 will be ignored. Current value: bagging_freq=1\n",
      "[LightGBM] [Warning] lambda_l1 is set=2.3717491322043136, reg_alpha=0.0 will be ignored. Current value: lambda_l1=2.3717491322043136\n",
      "[LightGBM] [Warning] bagging_fraction is set=0.9342289692301791, subsample=1.0 will be ignored. Current value: bagging_fraction=0.9342289692301791\n",
      "[LightGBM] [Warning] lambda_l2 is set=7.214148908060242, reg_lambda=0.0 will be ignored. Current value: lambda_l2=7.214148908060242\n",
      "[LightGBM] [Warning] feature_fraction is set=0.7363755369144015, colsample_bytree=1.0 will be ignored. Current value: feature_fraction=0.7363755369144015\n",
      "[LightGBM] [Warning] min_sum_hessian_in_leaf is set=0.009795048869631716, min_child_weight=0.001 will be ignored. Current value: min_sum_hessian_in_leaf=0.009795048869631716\n",
      "[LightGBM] [Warning] min_data_in_leaf is set=121, min_child_samples=20 will be ignored. Current value: min_data_in_leaf=121\n",
      "[LightGBM] [Warning] bagging_freq is set=1, subsample_freq=0 will be ignored. Current value: bagging_freq=1\n",
      "[LightGBM] [Warning] lambda_l1 is set=2.3717491322043136, reg_alpha=0.0 will be ignored. Current value: lambda_l1=2.3717491322043136\n",
      "[LightGBM] [Warning] bagging_fraction is set=0.9342289692301791, subsample=1.0 will be ignored. Current value: bagging_fraction=0.9342289692301791\n",
      "[LightGBM] [Warning] lambda_l2 is set=7.214148908060242, reg_lambda=0.0 will be ignored. Current value: lambda_l2=7.214148908060242\n",
      "[LightGBM] [Warning] feature_fraction is set=0.7363755369144015, colsample_bytree=1.0 will be ignored. Current value: feature_fraction=0.7363755369144015\n",
      "[LightGBM] [Warning] min_sum_hessian_in_leaf is set=0.009795048869631716, min_child_weight=0.001 will be ignored. Current value: min_sum_hessian_in_leaf=0.009795048869631716\n",
      "[LightGBM] [Warning] min_data_in_leaf is set=121, min_child_samples=20 will be ignored. Current value: min_data_in_leaf=121\n",
      "[LightGBM] [Warning] bagging_freq is set=1, subsample_freq=0 will be ignored. Current value: bagging_freq=1\n",
      "[LightGBM] [Warning] lambda_l1 is set=2.3717491322043136, reg_alpha=0.0 will be ignored. Current value: lambda_l1=2.3717491322043136\n",
      "[LightGBM] [Warning] bagging_fraction is set=0.9342289692301791, subsample=1.0 will be ignored. Current value: bagging_fraction=0.9342289692301791\n",
      "[LightGBM] [Warning] lambda_l2 is set=7.214148908060242, reg_lambda=0.0 will be ignored. Current value: lambda_l2=7.214148908060242\n",
      "[LightGBM] [Warning] feature_fraction is set=0.7363755369144015, colsample_bytree=1.0 will be ignored. Current value: feature_fraction=0.7363755369144015\n",
      "[LightGBM] [Warning] min_sum_hessian_in_leaf is set=0.009795048869631716, min_child_weight=0.001 will be ignored. Current value: min_sum_hessian_in_leaf=0.009795048869631716\n",
      "[LightGBM] [Warning] min_data_in_leaf is set=121, min_child_samples=20 will be ignored. Current value: min_data_in_leaf=121\n",
      "[LightGBM] [Warning] bagging_freq is set=1, subsample_freq=0 will be ignored. Current value: bagging_freq=1\n"
     ]
    },
    {
     "name": "stderr",
     "output_type": "stream",
     "text": [
      "\u001b[32m[I 2023-04-03 15:00:48,290]\u001b[0m Trial 15 finished with value: 0.6700207143305504 and parameters: {'num_leaves': 118, 'min_data_in_leaf': 121, 'min_sum_hessian_in_leaf': 0.009795048869631716, 'feature_fraction': 0.7363755369144015, 'bagging_fraction': 0.9342289692301791, 'lambda_l1': 2.3717491322043136, 'lambda_l2': 7.214148908060242}. Best is trial 7 with value: 0.6992530286862093.\u001b[0m\n"
     ]
    },
    {
     "name": "stdout",
     "output_type": "stream",
     "text": [
      "[LightGBM] [Warning] lambda_l1 is set=0.24824579193576923, reg_alpha=0.0 will be ignored. Current value: lambda_l1=0.24824579193576923\n",
      "[LightGBM] [Warning] bagging_fraction is set=0.684561345587239, subsample=1.0 will be ignored. Current value: bagging_fraction=0.684561345587239\n",
      "[LightGBM] [Warning] lambda_l2 is set=0.01033528363848504, reg_lambda=0.0 will be ignored. Current value: lambda_l2=0.01033528363848504\n",
      "[LightGBM] [Warning] feature_fraction is set=0.9130458751266737, colsample_bytree=1.0 will be ignored. Current value: feature_fraction=0.9130458751266737\n",
      "[LightGBM] [Warning] min_sum_hessian_in_leaf is set=0.0002540361858194928, min_child_weight=0.001 will be ignored. Current value: min_sum_hessian_in_leaf=0.0002540361858194928\n",
      "[LightGBM] [Warning] min_data_in_leaf is set=36, min_child_samples=20 will be ignored. Current value: min_data_in_leaf=36\n",
      "[LightGBM] [Warning] bagging_freq is set=1, subsample_freq=0 will be ignored. Current value: bagging_freq=1\n",
      "[LightGBM] [Warning] lambda_l1 is set=0.24824579193576923, reg_alpha=0.0 will be ignored. Current value: lambda_l1=0.24824579193576923\n",
      "[LightGBM] [Warning] bagging_fraction is set=0.684561345587239, subsample=1.0 will be ignored. Current value: bagging_fraction=0.684561345587239\n",
      "[LightGBM] [Warning] lambda_l2 is set=0.01033528363848504, reg_lambda=0.0 will be ignored. Current value: lambda_l2=0.01033528363848504\n",
      "[LightGBM] [Warning] feature_fraction is set=0.9130458751266737, colsample_bytree=1.0 will be ignored. Current value: feature_fraction=0.9130458751266737\n",
      "[LightGBM] [Warning] min_sum_hessian_in_leaf is set=0.0002540361858194928, min_child_weight=0.001 will be ignored. Current value: min_sum_hessian_in_leaf=0.0002540361858194928\n",
      "[LightGBM] [Warning] min_data_in_leaf is set=36, min_child_samples=20 will be ignored. Current value: min_data_in_leaf=36\n",
      "[LightGBM] [Warning] bagging_freq is set=1, subsample_freq=0 will be ignored. Current value: bagging_freq=1\n",
      "[LightGBM] [Warning] lambda_l1 is set=0.24824579193576923, reg_alpha=0.0 will be ignored. Current value: lambda_l1=0.24824579193576923\n",
      "[LightGBM] [Warning] bagging_fraction is set=0.684561345587239, subsample=1.0 will be ignored. Current value: bagging_fraction=0.684561345587239\n",
      "[LightGBM] [Warning] lambda_l2 is set=0.01033528363848504, reg_lambda=0.0 will be ignored. Current value: lambda_l2=0.01033528363848504\n",
      "[LightGBM] [Warning] feature_fraction is set=0.9130458751266737, colsample_bytree=1.0 will be ignored. Current value: feature_fraction=0.9130458751266737\n",
      "[LightGBM] [Warning] min_sum_hessian_in_leaf is set=0.0002540361858194928, min_child_weight=0.001 will be ignored. Current value: min_sum_hessian_in_leaf=0.0002540361858194928\n",
      "[LightGBM] [Warning] min_data_in_leaf is set=36, min_child_samples=20 will be ignored. Current value: min_data_in_leaf=36\n",
      "[LightGBM] [Warning] bagging_freq is set=1, subsample_freq=0 will be ignored. Current value: bagging_freq=1\n",
      "[LightGBM] [Warning] lambda_l1 is set=0.24824579193576923, reg_alpha=0.0 will be ignored. Current value: lambda_l1=0.24824579193576923\n",
      "[LightGBM] [Warning] bagging_fraction is set=0.684561345587239, subsample=1.0 will be ignored. Current value: bagging_fraction=0.684561345587239\n",
      "[LightGBM] [Warning] lambda_l2 is set=0.01033528363848504, reg_lambda=0.0 will be ignored. Current value: lambda_l2=0.01033528363848504\n",
      "[LightGBM] [Warning] feature_fraction is set=0.9130458751266737, colsample_bytree=1.0 will be ignored. Current value: feature_fraction=0.9130458751266737\n",
      "[LightGBM] [Warning] min_sum_hessian_in_leaf is set=0.0002540361858194928, min_child_weight=0.001 will be ignored. Current value: min_sum_hessian_in_leaf=0.0002540361858194928\n",
      "[LightGBM] [Warning] min_data_in_leaf is set=36, min_child_samples=20 will be ignored. Current value: min_data_in_leaf=36\n",
      "[LightGBM] [Warning] bagging_freq is set=1, subsample_freq=0 will be ignored. Current value: bagging_freq=1\n",
      "[LightGBM] [Warning] lambda_l1 is set=0.24824579193576923, reg_alpha=0.0 will be ignored. Current value: lambda_l1=0.24824579193576923\n",
      "[LightGBM] [Warning] bagging_fraction is set=0.684561345587239, subsample=1.0 will be ignored. Current value: bagging_fraction=0.684561345587239\n",
      "[LightGBM] [Warning] lambda_l2 is set=0.01033528363848504, reg_lambda=0.0 will be ignored. Current value: lambda_l2=0.01033528363848504\n",
      "[LightGBM] [Warning] feature_fraction is set=0.9130458751266737, colsample_bytree=1.0 will be ignored. Current value: feature_fraction=0.9130458751266737\n",
      "[LightGBM] [Warning] min_sum_hessian_in_leaf is set=0.0002540361858194928, min_child_weight=0.001 will be ignored. Current value: min_sum_hessian_in_leaf=0.0002540361858194928\n",
      "[LightGBM] [Warning] min_data_in_leaf is set=36, min_child_samples=20 will be ignored. Current value: min_data_in_leaf=36\n",
      "[LightGBM] [Warning] bagging_freq is set=1, subsample_freq=0 will be ignored. Current value: bagging_freq=1\n"
     ]
    },
    {
     "name": "stderr",
     "output_type": "stream",
     "text": [
      "\u001b[32m[I 2023-04-03 15:00:50,618]\u001b[0m Trial 16 finished with value: 0.665601657146444 and parameters: {'num_leaves': 58, 'min_data_in_leaf': 36, 'min_sum_hessian_in_leaf': 0.0002540361858194928, 'feature_fraction': 0.9130458751266737, 'bagging_fraction': 0.684561345587239, 'lambda_l1': 0.24824579193576923, 'lambda_l2': 0.01033528363848504}. Best is trial 7 with value: 0.6992530286862093.\u001b[0m\n"
     ]
    },
    {
     "name": "stdout",
     "output_type": "stream",
     "text": [
      "[LightGBM] [Warning] lambda_l1 is set=13.036514166467544, reg_alpha=0.0 will be ignored. Current value: lambda_l1=13.036514166467544\n",
      "[LightGBM] [Warning] bagging_fraction is set=0.8036823783112217, subsample=1.0 will be ignored. Current value: bagging_fraction=0.8036823783112217\n",
      "[LightGBM] [Warning] lambda_l2 is set=0.8807586136754733, reg_lambda=0.0 will be ignored. Current value: lambda_l2=0.8807586136754733\n",
      "[LightGBM] [Warning] feature_fraction is set=0.8159485991955707, colsample_bytree=1.0 will be ignored. Current value: feature_fraction=0.8159485991955707\n",
      "[LightGBM] [Warning] min_sum_hessian_in_leaf is set=0.0023269108543753883, min_child_weight=0.001 will be ignored. Current value: min_sum_hessian_in_leaf=0.0023269108543753883\n",
      "[LightGBM] [Warning] min_data_in_leaf is set=168, min_child_samples=20 will be ignored. Current value: min_data_in_leaf=168\n",
      "[LightGBM] [Warning] bagging_freq is set=1, subsample_freq=0 will be ignored. Current value: bagging_freq=1\n",
      "[LightGBM] [Warning] lambda_l1 is set=13.036514166467544, reg_alpha=0.0 will be ignored. Current value: lambda_l1=13.036514166467544\n",
      "[LightGBM] [Warning] bagging_fraction is set=0.8036823783112217, subsample=1.0 will be ignored. Current value: bagging_fraction=0.8036823783112217\n",
      "[LightGBM] [Warning] lambda_l2 is set=0.8807586136754733, reg_lambda=0.0 will be ignored. Current value: lambda_l2=0.8807586136754733\n",
      "[LightGBM] [Warning] feature_fraction is set=0.8159485991955707, colsample_bytree=1.0 will be ignored. Current value: feature_fraction=0.8159485991955707\n",
      "[LightGBM] [Warning] min_sum_hessian_in_leaf is set=0.0023269108543753883, min_child_weight=0.001 will be ignored. Current value: min_sum_hessian_in_leaf=0.0023269108543753883\n",
      "[LightGBM] [Warning] min_data_in_leaf is set=168, min_child_samples=20 will be ignored. Current value: min_data_in_leaf=168\n",
      "[LightGBM] [Warning] bagging_freq is set=1, subsample_freq=0 will be ignored. Current value: bagging_freq=1\n",
      "[LightGBM] [Warning] lambda_l1 is set=13.036514166467544, reg_alpha=0.0 will be ignored. Current value: lambda_l1=13.036514166467544\n",
      "[LightGBM] [Warning] bagging_fraction is set=0.8036823783112217, subsample=1.0 will be ignored. Current value: bagging_fraction=0.8036823783112217\n",
      "[LightGBM] [Warning] lambda_l2 is set=0.8807586136754733, reg_lambda=0.0 will be ignored. Current value: lambda_l2=0.8807586136754733\n",
      "[LightGBM] [Warning] feature_fraction is set=0.8159485991955707, colsample_bytree=1.0 will be ignored. Current value: feature_fraction=0.8159485991955707\n",
      "[LightGBM] [Warning] min_sum_hessian_in_leaf is set=0.0023269108543753883, min_child_weight=0.001 will be ignored. Current value: min_sum_hessian_in_leaf=0.0023269108543753883\n",
      "[LightGBM] [Warning] min_data_in_leaf is set=168, min_child_samples=20 will be ignored. Current value: min_data_in_leaf=168\n",
      "[LightGBM] [Warning] bagging_freq is set=1, subsample_freq=0 will be ignored. Current value: bagging_freq=1\n",
      "[LightGBM] [Warning] lambda_l1 is set=13.036514166467544, reg_alpha=0.0 will be ignored. Current value: lambda_l1=13.036514166467544\n",
      "[LightGBM] [Warning] bagging_fraction is set=0.8036823783112217, subsample=1.0 will be ignored. Current value: bagging_fraction=0.8036823783112217\n",
      "[LightGBM] [Warning] lambda_l2 is set=0.8807586136754733, reg_lambda=0.0 will be ignored. Current value: lambda_l2=0.8807586136754733\n",
      "[LightGBM] [Warning] feature_fraction is set=0.8159485991955707, colsample_bytree=1.0 will be ignored. Current value: feature_fraction=0.8159485991955707\n",
      "[LightGBM] [Warning] min_sum_hessian_in_leaf is set=0.0023269108543753883, min_child_weight=0.001 will be ignored. Current value: min_sum_hessian_in_leaf=0.0023269108543753883\n",
      "[LightGBM] [Warning] min_data_in_leaf is set=168, min_child_samples=20 will be ignored. Current value: min_data_in_leaf=168\n",
      "[LightGBM] [Warning] bagging_freq is set=1, subsample_freq=0 will be ignored. Current value: bagging_freq=1\n"
     ]
    },
    {
     "name": "stderr",
     "output_type": "stream",
     "text": [
      "\u001b[32m[I 2023-04-03 15:00:51,340]\u001b[0m Trial 17 finished with value: 0.6161634548992531 and parameters: {'num_leaves': 157, 'min_data_in_leaf': 168, 'min_sum_hessian_in_leaf': 0.0023269108543753883, 'feature_fraction': 0.8159485991955707, 'bagging_fraction': 0.8036823783112217, 'lambda_l1': 13.036514166467544, 'lambda_l2': 0.8807586136754733}. Best is trial 7 with value: 0.6992530286862093.\u001b[0m\n"
     ]
    },
    {
     "name": "stdout",
     "output_type": "stream",
     "text": [
      "[LightGBM] [Warning] lambda_l1 is set=13.036514166467544, reg_alpha=0.0 will be ignored. Current value: lambda_l1=13.036514166467544\n",
      "[LightGBM] [Warning] bagging_fraction is set=0.8036823783112217, subsample=1.0 will be ignored. Current value: bagging_fraction=0.8036823783112217\n",
      "[LightGBM] [Warning] lambda_l2 is set=0.8807586136754733, reg_lambda=0.0 will be ignored. Current value: lambda_l2=0.8807586136754733\n",
      "[LightGBM] [Warning] feature_fraction is set=0.8159485991955707, colsample_bytree=1.0 will be ignored. Current value: feature_fraction=0.8159485991955707\n",
      "[LightGBM] [Warning] min_sum_hessian_in_leaf is set=0.0023269108543753883, min_child_weight=0.001 will be ignored. Current value: min_sum_hessian_in_leaf=0.0023269108543753883\n",
      "[LightGBM] [Warning] min_data_in_leaf is set=168, min_child_samples=20 will be ignored. Current value: min_data_in_leaf=168\n",
      "[LightGBM] [Warning] bagging_freq is set=1, subsample_freq=0 will be ignored. Current value: bagging_freq=1\n",
      "[LightGBM] [Warning] lambda_l1 is set=1.8859038983275196, reg_alpha=0.0 will be ignored. Current value: lambda_l1=1.8859038983275196\n",
      "[LightGBM] [Warning] bagging_fraction is set=0.7896979370510073, subsample=1.0 will be ignored. Current value: bagging_fraction=0.7896979370510073\n",
      "[LightGBM] [Warning] lambda_l2 is set=0.2497145849301042, reg_lambda=0.0 will be ignored. Current value: lambda_l2=0.2497145849301042\n",
      "[LightGBM] [Warning] feature_fraction is set=0.745392277347916, colsample_bytree=1.0 will be ignored. Current value: feature_fraction=0.745392277347916\n",
      "[LightGBM] [Warning] min_sum_hessian_in_leaf is set=0.0009561825756709678, min_child_weight=0.001 will be ignored. Current value: min_sum_hessian_in_leaf=0.0009561825756709678\n",
      "[LightGBM] [Warning] min_data_in_leaf is set=113, min_child_samples=20 will be ignored. Current value: min_data_in_leaf=113\n",
      "[LightGBM] [Warning] bagging_freq is set=1, subsample_freq=0 will be ignored. Current value: bagging_freq=1\n",
      "[LightGBM] [Warning] lambda_l1 is set=1.8859038983275196, reg_alpha=0.0 will be ignored. Current value: lambda_l1=1.8859038983275196\n",
      "[LightGBM] [Warning] bagging_fraction is set=0.7896979370510073, subsample=1.0 will be ignored. Current value: bagging_fraction=0.7896979370510073\n",
      "[LightGBM] [Warning] lambda_l2 is set=0.2497145849301042, reg_lambda=0.0 will be ignored. Current value: lambda_l2=0.2497145849301042\n",
      "[LightGBM] [Warning] feature_fraction is set=0.745392277347916, colsample_bytree=1.0 will be ignored. Current value: feature_fraction=0.745392277347916\n",
      "[LightGBM] [Warning] min_sum_hessian_in_leaf is set=0.0009561825756709678, min_child_weight=0.001 will be ignored. Current value: min_sum_hessian_in_leaf=0.0009561825756709678\n",
      "[LightGBM] [Warning] min_data_in_leaf is set=113, min_child_samples=20 will be ignored. Current value: min_data_in_leaf=113\n",
      "[LightGBM] [Warning] bagging_freq is set=1, subsample_freq=0 will be ignored. Current value: bagging_freq=1\n",
      "[LightGBM] [Warning] lambda_l1 is set=1.8859038983275196, reg_alpha=0.0 will be ignored. Current value: lambda_l1=1.8859038983275196\n",
      "[LightGBM] [Warning] bagging_fraction is set=0.7896979370510073, subsample=1.0 will be ignored. Current value: bagging_fraction=0.7896979370510073\n",
      "[LightGBM] [Warning] lambda_l2 is set=0.2497145849301042, reg_lambda=0.0 will be ignored. Current value: lambda_l2=0.2497145849301042\n",
      "[LightGBM] [Warning] feature_fraction is set=0.745392277347916, colsample_bytree=1.0 will be ignored. Current value: feature_fraction=0.745392277347916\n",
      "[LightGBM] [Warning] min_sum_hessian_in_leaf is set=0.0009561825756709678, min_child_weight=0.001 will be ignored. Current value: min_sum_hessian_in_leaf=0.0009561825756709678\n",
      "[LightGBM] [Warning] min_data_in_leaf is set=113, min_child_samples=20 will be ignored. Current value: min_data_in_leaf=113\n",
      "[LightGBM] [Warning] bagging_freq is set=1, subsample_freq=0 will be ignored. Current value: bagging_freq=1\n",
      "[LightGBM] [Warning] lambda_l1 is set=1.8859038983275196, reg_alpha=0.0 will be ignored. Current value: lambda_l1=1.8859038983275196\n",
      "[LightGBM] [Warning] bagging_fraction is set=0.7896979370510073, subsample=1.0 will be ignored. Current value: bagging_fraction=0.7896979370510073\n",
      "[LightGBM] [Warning] lambda_l2 is set=0.2497145849301042, reg_lambda=0.0 will be ignored. Current value: lambda_l2=0.2497145849301042\n",
      "[LightGBM] [Warning] feature_fraction is set=0.745392277347916, colsample_bytree=1.0 will be ignored. Current value: feature_fraction=0.745392277347916\n",
      "[LightGBM] [Warning] min_sum_hessian_in_leaf is set=0.0009561825756709678, min_child_weight=0.001 will be ignored. Current value: min_sum_hessian_in_leaf=0.0009561825756709678\n",
      "[LightGBM] [Warning] min_data_in_leaf is set=113, min_child_samples=20 will be ignored. Current value: min_data_in_leaf=113\n",
      "[LightGBM] [Warning] bagging_freq is set=1, subsample_freq=0 will be ignored. Current value: bagging_freq=1\n",
      "[LightGBM] [Warning] lambda_l1 is set=1.8859038983275196, reg_alpha=0.0 will be ignored. Current value: lambda_l1=1.8859038983275196\n",
      "[LightGBM] [Warning] bagging_fraction is set=0.7896979370510073, subsample=1.0 will be ignored. Current value: bagging_fraction=0.7896979370510073\n",
      "[LightGBM] [Warning] lambda_l2 is set=0.2497145849301042, reg_lambda=0.0 will be ignored. Current value: lambda_l2=0.2497145849301042\n",
      "[LightGBM] [Warning] feature_fraction is set=0.745392277347916, colsample_bytree=1.0 will be ignored. Current value: feature_fraction=0.745392277347916\n",
      "[LightGBM] [Warning] min_sum_hessian_in_leaf is set=0.0009561825756709678, min_child_weight=0.001 will be ignored. Current value: min_sum_hessian_in_leaf=0.0009561825756709678\n",
      "[LightGBM] [Warning] min_data_in_leaf is set=113, min_child_samples=20 will be ignored. Current value: min_data_in_leaf=113\n",
      "[LightGBM] [Warning] bagging_freq is set=1, subsample_freq=0 will be ignored. Current value: bagging_freq=1\n"
     ]
    },
    {
     "name": "stderr",
     "output_type": "stream",
     "text": [
      "\u001b[32m[I 2023-04-03 15:00:52,580]\u001b[0m Trial 18 finished with value: 0.6487477245621744 and parameters: {'num_leaves': 218, 'min_data_in_leaf': 113, 'min_sum_hessian_in_leaf': 0.0009561825756709678, 'feature_fraction': 0.745392277347916, 'bagging_fraction': 0.7896979370510073, 'lambda_l1': 1.8859038983275196, 'lambda_l2': 0.2497145849301042}. Best is trial 7 with value: 0.6992530286862093.\u001b[0m\n"
     ]
    },
    {
     "name": "stdout",
     "output_type": "stream",
     "text": [
      "[LightGBM] [Warning] lambda_l1 is set=0.6420140723743011, reg_alpha=0.0 will be ignored. Current value: lambda_l1=0.6420140723743011\n",
      "[LightGBM] [Warning] bagging_fraction is set=0.8962774263442048, subsample=1.0 will be ignored. Current value: bagging_fraction=0.8962774263442048\n",
      "[LightGBM] [Warning] lambda_l2 is set=0.08240013163620977, reg_lambda=0.0 will be ignored. Current value: lambda_l2=0.08240013163620977\n",
      "[LightGBM] [Warning] feature_fraction is set=0.8343848232650426, colsample_bytree=1.0 will be ignored. Current value: feature_fraction=0.8343848232650426\n",
      "[LightGBM] [Warning] min_sum_hessian_in_leaf is set=0.00470022827464237, min_child_weight=0.001 will be ignored. Current value: min_sum_hessian_in_leaf=0.00470022827464237\n",
      "[LightGBM] [Warning] min_data_in_leaf is set=73, min_child_samples=20 will be ignored. Current value: min_data_in_leaf=73\n",
      "[LightGBM] [Warning] bagging_freq is set=1, subsample_freq=0 will be ignored. Current value: bagging_freq=1\n",
      "[LightGBM] [Warning] lambda_l1 is set=0.6420140723743011, reg_alpha=0.0 will be ignored. Current value: lambda_l1=0.6420140723743011\n",
      "[LightGBM] [Warning] bagging_fraction is set=0.8962774263442048, subsample=1.0 will be ignored. Current value: bagging_fraction=0.8962774263442048\n",
      "[LightGBM] [Warning] lambda_l2 is set=0.08240013163620977, reg_lambda=0.0 will be ignored. Current value: lambda_l2=0.08240013163620977\n",
      "[LightGBM] [Warning] feature_fraction is set=0.8343848232650426, colsample_bytree=1.0 will be ignored. Current value: feature_fraction=0.8343848232650426\n",
      "[LightGBM] [Warning] min_sum_hessian_in_leaf is set=0.00470022827464237, min_child_weight=0.001 will be ignored. Current value: min_sum_hessian_in_leaf=0.00470022827464237\n",
      "[LightGBM] [Warning] min_data_in_leaf is set=73, min_child_samples=20 will be ignored. Current value: min_data_in_leaf=73\n",
      "[LightGBM] [Warning] bagging_freq is set=1, subsample_freq=0 will be ignored. Current value: bagging_freq=1\n",
      "[LightGBM] [Warning] lambda_l1 is set=0.6420140723743011, reg_alpha=0.0 will be ignored. Current value: lambda_l1=0.6420140723743011\n",
      "[LightGBM] [Warning] bagging_fraction is set=0.8962774263442048, subsample=1.0 will be ignored. Current value: bagging_fraction=0.8962774263442048\n",
      "[LightGBM] [Warning] lambda_l2 is set=0.08240013163620977, reg_lambda=0.0 will be ignored. Current value: lambda_l2=0.08240013163620977\n",
      "[LightGBM] [Warning] feature_fraction is set=0.8343848232650426, colsample_bytree=1.0 will be ignored. Current value: feature_fraction=0.8343848232650426\n",
      "[LightGBM] [Warning] min_sum_hessian_in_leaf is set=0.00470022827464237, min_child_weight=0.001 will be ignored. Current value: min_sum_hessian_in_leaf=0.00470022827464237\n",
      "[LightGBM] [Warning] min_data_in_leaf is set=73, min_child_samples=20 will be ignored. Current value: min_data_in_leaf=73\n",
      "[LightGBM] [Warning] bagging_freq is set=1, subsample_freq=0 will be ignored. Current value: bagging_freq=1\n",
      "[LightGBM] [Warning] lambda_l1 is set=0.6420140723743011, reg_alpha=0.0 will be ignored. Current value: lambda_l1=0.6420140723743011\n",
      "[LightGBM] [Warning] bagging_fraction is set=0.8962774263442048, subsample=1.0 will be ignored. Current value: bagging_fraction=0.8962774263442048\n",
      "[LightGBM] [Warning] lambda_l2 is set=0.08240013163620977, reg_lambda=0.0 will be ignored. Current value: lambda_l2=0.08240013163620977\n",
      "[LightGBM] [Warning] feature_fraction is set=0.8343848232650426, colsample_bytree=1.0 will be ignored. Current value: feature_fraction=0.8343848232650426\n",
      "[LightGBM] [Warning] min_sum_hessian_in_leaf is set=0.00470022827464237, min_child_weight=0.001 will be ignored. Current value: min_sum_hessian_in_leaf=0.00470022827464237\n",
      "[LightGBM] [Warning] min_data_in_leaf is set=73, min_child_samples=20 will be ignored. Current value: min_data_in_leaf=73\n",
      "[LightGBM] [Warning] bagging_freq is set=1, subsample_freq=0 will be ignored. Current value: bagging_freq=1\n",
      "[LightGBM] [Warning] lambda_l1 is set=0.6420140723743011, reg_alpha=0.0 will be ignored. Current value: lambda_l1=0.6420140723743011\n",
      "[LightGBM] [Warning] bagging_fraction is set=0.8962774263442048, subsample=1.0 will be ignored. Current value: bagging_fraction=0.8962774263442048\n",
      "[LightGBM] [Warning] lambda_l2 is set=0.08240013163620977, reg_lambda=0.0 will be ignored. Current value: lambda_l2=0.08240013163620977\n",
      "[LightGBM] [Warning] feature_fraction is set=0.8343848232650426, colsample_bytree=1.0 will be ignored. Current value: feature_fraction=0.8343848232650426\n",
      "[LightGBM] [Warning] min_sum_hessian_in_leaf is set=0.00470022827464237, min_child_weight=0.001 will be ignored. Current value: min_sum_hessian_in_leaf=0.00470022827464237\n",
      "[LightGBM] [Warning] min_data_in_leaf is set=73, min_child_samples=20 will be ignored. Current value: min_data_in_leaf=73\n",
      "[LightGBM] [Warning] bagging_freq is set=1, subsample_freq=0 will be ignored. Current value: bagging_freq=1\n"
     ]
    },
    {
     "name": "stderr",
     "output_type": "stream",
     "text": [
      "\u001b[32m[I 2023-04-03 15:00:54,847]\u001b[0m Trial 19 finished with value: 0.6767622873642584 and parameters: {'num_leaves': 214, 'min_data_in_leaf': 73, 'min_sum_hessian_in_leaf': 0.00470022827464237, 'feature_fraction': 0.8343848232650426, 'bagging_fraction': 0.8962774263442048, 'lambda_l1': 0.6420140723743011, 'lambda_l2': 0.08240013163620977}. Best is trial 7 with value: 0.6992530286862093.\u001b[0m\n"
     ]
    },
    {
     "name": "stdout",
     "output_type": "stream",
     "text": [
      "[LightGBM] [Warning] lambda_l1 is set=0.15470937382525465, reg_alpha=0.0 will be ignored. Current value: lambda_l1=0.15470937382525465\n",
      "[LightGBM] [Warning] bagging_fraction is set=0.7128489974232202, subsample=1.0 will be ignored. Current value: bagging_fraction=0.7128489974232202\n",
      "[LightGBM] [Warning] lambda_l2 is set=2.2609218276420697, reg_lambda=0.0 will be ignored. Current value: lambda_l2=2.2609218276420697\n",
      "[LightGBM] [Warning] feature_fraction is set=0.9182676696103418, colsample_bytree=1.0 will be ignored. Current value: feature_fraction=0.9182676696103418\n",
      "[LightGBM] [Warning] min_sum_hessian_in_leaf is set=0.0013845801360137025, min_child_weight=0.001 will be ignored. Current value: min_sum_hessian_in_leaf=0.0013845801360137025\n",
      "[LightGBM] [Warning] min_data_in_leaf is set=141, min_child_samples=20 will be ignored. Current value: min_data_in_leaf=141\n",
      "[LightGBM] [Warning] bagging_freq is set=1, subsample_freq=0 will be ignored. Current value: bagging_freq=1\n",
      "[LightGBM] [Warning] lambda_l1 is set=0.15470937382525465, reg_alpha=0.0 will be ignored. Current value: lambda_l1=0.15470937382525465\n",
      "[LightGBM] [Warning] bagging_fraction is set=0.7128489974232202, subsample=1.0 will be ignored. Current value: bagging_fraction=0.7128489974232202\n",
      "[LightGBM] [Warning] lambda_l2 is set=2.2609218276420697, reg_lambda=0.0 will be ignored. Current value: lambda_l2=2.2609218276420697\n",
      "[LightGBM] [Warning] feature_fraction is set=0.9182676696103418, colsample_bytree=1.0 will be ignored. Current value: feature_fraction=0.9182676696103418\n",
      "[LightGBM] [Warning] min_sum_hessian_in_leaf is set=0.0013845801360137025, min_child_weight=0.001 will be ignored. Current value: min_sum_hessian_in_leaf=0.0013845801360137025\n",
      "[LightGBM] [Warning] min_data_in_leaf is set=141, min_child_samples=20 will be ignored. Current value: min_data_in_leaf=141\n",
      "[LightGBM] [Warning] bagging_freq is set=1, subsample_freq=0 will be ignored. Current value: bagging_freq=1\n",
      "[LightGBM] [Warning] lambda_l1 is set=0.15470937382525465, reg_alpha=0.0 will be ignored. Current value: lambda_l1=0.15470937382525465\n",
      "[LightGBM] [Warning] bagging_fraction is set=0.7128489974232202, subsample=1.0 will be ignored. Current value: bagging_fraction=0.7128489974232202\n",
      "[LightGBM] [Warning] lambda_l2 is set=2.2609218276420697, reg_lambda=0.0 will be ignored. Current value: lambda_l2=2.2609218276420697\n",
      "[LightGBM] [Warning] feature_fraction is set=0.9182676696103418, colsample_bytree=1.0 will be ignored. Current value: feature_fraction=0.9182676696103418\n",
      "[LightGBM] [Warning] min_sum_hessian_in_leaf is set=0.0013845801360137025, min_child_weight=0.001 will be ignored. Current value: min_sum_hessian_in_leaf=0.0013845801360137025\n",
      "[LightGBM] [Warning] min_data_in_leaf is set=141, min_child_samples=20 will be ignored. Current value: min_data_in_leaf=141\n",
      "[LightGBM] [Warning] bagging_freq is set=1, subsample_freq=0 will be ignored. Current value: bagging_freq=1\n",
      "[LightGBM] [Warning] lambda_l1 is set=0.15470937382525465, reg_alpha=0.0 will be ignored. Current value: lambda_l1=0.15470937382525465\n",
      "[LightGBM] [Warning] bagging_fraction is set=0.7128489974232202, subsample=1.0 will be ignored. Current value: bagging_fraction=0.7128489974232202\n",
      "[LightGBM] [Warning] lambda_l2 is set=2.2609218276420697, reg_lambda=0.0 will be ignored. Current value: lambda_l2=2.2609218276420697\n",
      "[LightGBM] [Warning] feature_fraction is set=0.9182676696103418, colsample_bytree=1.0 will be ignored. Current value: feature_fraction=0.9182676696103418\n",
      "[LightGBM] [Warning] min_sum_hessian_in_leaf is set=0.0013845801360137025, min_child_weight=0.001 will be ignored. Current value: min_sum_hessian_in_leaf=0.0013845801360137025\n",
      "[LightGBM] [Warning] min_data_in_leaf is set=141, min_child_samples=20 will be ignored. Current value: min_data_in_leaf=141\n",
      "[LightGBM] [Warning] bagging_freq is set=1, subsample_freq=0 will be ignored. Current value: bagging_freq=1\n"
     ]
    },
    {
     "name": "stderr",
     "output_type": "stream",
     "text": [
      "\u001b[32m[I 2023-04-03 15:00:56,416]\u001b[0m Trial 20 finished with value: 0.6632477559475237 and parameters: {'num_leaves': 8, 'min_data_in_leaf': 141, 'min_sum_hessian_in_leaf': 0.0013845801360137025, 'feature_fraction': 0.9182676696103418, 'bagging_fraction': 0.7128489974232202, 'lambda_l1': 0.15470937382525465, 'lambda_l2': 2.2609218276420697}. Best is trial 7 with value: 0.6992530286862093.\u001b[0m\n"
     ]
    },
    {
     "name": "stdout",
     "output_type": "stream",
     "text": [
      "[LightGBM] [Warning] lambda_l1 is set=0.15470937382525465, reg_alpha=0.0 will be ignored. Current value: lambda_l1=0.15470937382525465\n",
      "[LightGBM] [Warning] bagging_fraction is set=0.7128489974232202, subsample=1.0 will be ignored. Current value: bagging_fraction=0.7128489974232202\n",
      "[LightGBM] [Warning] lambda_l2 is set=2.2609218276420697, reg_lambda=0.0 will be ignored. Current value: lambda_l2=2.2609218276420697\n",
      "[LightGBM] [Warning] feature_fraction is set=0.9182676696103418, colsample_bytree=1.0 will be ignored. Current value: feature_fraction=0.9182676696103418\n",
      "[LightGBM] [Warning] min_sum_hessian_in_leaf is set=0.0013845801360137025, min_child_weight=0.001 will be ignored. Current value: min_sum_hessian_in_leaf=0.0013845801360137025\n",
      "[LightGBM] [Warning] min_data_in_leaf is set=141, min_child_samples=20 will be ignored. Current value: min_data_in_leaf=141\n",
      "[LightGBM] [Warning] bagging_freq is set=1, subsample_freq=0 will be ignored. Current value: bagging_freq=1\n",
      "[LightGBM] [Warning] lambda_l1 is set=0.7703796368033595, reg_alpha=0.0 will be ignored. Current value: lambda_l1=0.7703796368033595\n",
      "[LightGBM] [Warning] bagging_fraction is set=0.8950870417609795, subsample=1.0 will be ignored. Current value: bagging_fraction=0.8950870417609795\n",
      "[LightGBM] [Warning] lambda_l2 is set=0.04354863183028053, reg_lambda=0.0 will be ignored. Current value: lambda_l2=0.04354863183028053\n",
      "[LightGBM] [Warning] feature_fraction is set=0.8567769598292199, colsample_bytree=1.0 will be ignored. Current value: feature_fraction=0.8567769598292199\n",
      "[LightGBM] [Warning] min_sum_hessian_in_leaf is set=0.004346880252436188, min_child_weight=0.001 will be ignored. Current value: min_sum_hessian_in_leaf=0.004346880252436188\n",
      "[LightGBM] [Warning] min_data_in_leaf is set=69, min_child_samples=20 will be ignored. Current value: min_data_in_leaf=69\n",
      "[LightGBM] [Warning] bagging_freq is set=1, subsample_freq=0 will be ignored. Current value: bagging_freq=1\n",
      "[LightGBM] [Warning] lambda_l1 is set=0.7703796368033595, reg_alpha=0.0 will be ignored. Current value: lambda_l1=0.7703796368033595\n",
      "[LightGBM] [Warning] bagging_fraction is set=0.8950870417609795, subsample=1.0 will be ignored. Current value: bagging_fraction=0.8950870417609795\n",
      "[LightGBM] [Warning] lambda_l2 is set=0.04354863183028053, reg_lambda=0.0 will be ignored. Current value: lambda_l2=0.04354863183028053\n",
      "[LightGBM] [Warning] feature_fraction is set=0.8567769598292199, colsample_bytree=1.0 will be ignored. Current value: feature_fraction=0.8567769598292199\n",
      "[LightGBM] [Warning] min_sum_hessian_in_leaf is set=0.004346880252436188, min_child_weight=0.001 will be ignored. Current value: min_sum_hessian_in_leaf=0.004346880252436188\n",
      "[LightGBM] [Warning] min_data_in_leaf is set=69, min_child_samples=20 will be ignored. Current value: min_data_in_leaf=69\n",
      "[LightGBM] [Warning] bagging_freq is set=1, subsample_freq=0 will be ignored. Current value: bagging_freq=1\n",
      "[LightGBM] [Warning] lambda_l1 is set=0.7703796368033595, reg_alpha=0.0 will be ignored. Current value: lambda_l1=0.7703796368033595\n",
      "[LightGBM] [Warning] bagging_fraction is set=0.8950870417609795, subsample=1.0 will be ignored. Current value: bagging_fraction=0.8950870417609795\n",
      "[LightGBM] [Warning] lambda_l2 is set=0.04354863183028053, reg_lambda=0.0 will be ignored. Current value: lambda_l2=0.04354863183028053\n",
      "[LightGBM] [Warning] feature_fraction is set=0.8567769598292199, colsample_bytree=1.0 will be ignored. Current value: feature_fraction=0.8567769598292199\n",
      "[LightGBM] [Warning] min_sum_hessian_in_leaf is set=0.004346880252436188, min_child_weight=0.001 will be ignored. Current value: min_sum_hessian_in_leaf=0.004346880252436188\n",
      "[LightGBM] [Warning] min_data_in_leaf is set=69, min_child_samples=20 will be ignored. Current value: min_data_in_leaf=69\n",
      "[LightGBM] [Warning] bagging_freq is set=1, subsample_freq=0 will be ignored. Current value: bagging_freq=1\n",
      "[LightGBM] [Warning] lambda_l1 is set=0.7703796368033595, reg_alpha=0.0 will be ignored. Current value: lambda_l1=0.7703796368033595\n",
      "[LightGBM] [Warning] bagging_fraction is set=0.8950870417609795, subsample=1.0 will be ignored. Current value: bagging_fraction=0.8950870417609795\n",
      "[LightGBM] [Warning] lambda_l2 is set=0.04354863183028053, reg_lambda=0.0 will be ignored. Current value: lambda_l2=0.04354863183028053\n",
      "[LightGBM] [Warning] feature_fraction is set=0.8567769598292199, colsample_bytree=1.0 will be ignored. Current value: feature_fraction=0.8567769598292199\n",
      "[LightGBM] [Warning] min_sum_hessian_in_leaf is set=0.004346880252436188, min_child_weight=0.001 will be ignored. Current value: min_sum_hessian_in_leaf=0.004346880252436188\n",
      "[LightGBM] [Warning] min_data_in_leaf is set=69, min_child_samples=20 will be ignored. Current value: min_data_in_leaf=69\n",
      "[LightGBM] [Warning] bagging_freq is set=1, subsample_freq=0 will be ignored. Current value: bagging_freq=1\n",
      "[LightGBM] [Warning] lambda_l1 is set=0.7703796368033595, reg_alpha=0.0 will be ignored. Current value: lambda_l1=0.7703796368033595\n",
      "[LightGBM] [Warning] bagging_fraction is set=0.8950870417609795, subsample=1.0 will be ignored. Current value: bagging_fraction=0.8950870417609795\n",
      "[LightGBM] [Warning] lambda_l2 is set=0.04354863183028053, reg_lambda=0.0 will be ignored. Current value: lambda_l2=0.04354863183028053\n",
      "[LightGBM] [Warning] feature_fraction is set=0.8567769598292199, colsample_bytree=1.0 will be ignored. Current value: feature_fraction=0.8567769598292199\n",
      "[LightGBM] [Warning] min_sum_hessian_in_leaf is set=0.004346880252436188, min_child_weight=0.001 will be ignored. Current value: min_sum_hessian_in_leaf=0.004346880252436188\n",
      "[LightGBM] [Warning] min_data_in_leaf is set=69, min_child_samples=20 will be ignored. Current value: min_data_in_leaf=69\n",
      "[LightGBM] [Warning] bagging_freq is set=1, subsample_freq=0 will be ignored. Current value: bagging_freq=1\n"
     ]
    },
    {
     "name": "stderr",
     "output_type": "stream",
     "text": [
      "\u001b[32m[I 2023-04-03 15:00:58,532]\u001b[0m Trial 21 finished with value: 0.6767622873642584 and parameters: {'num_leaves': 202, 'min_data_in_leaf': 69, 'min_sum_hessian_in_leaf': 0.004346880252436188, 'feature_fraction': 0.8567769598292199, 'bagging_fraction': 0.8950870417609795, 'lambda_l1': 0.7703796368033595, 'lambda_l2': 0.04354863183028053}. Best is trial 7 with value: 0.6992530286862093.\u001b[0m\n"
     ]
    },
    {
     "name": "stdout",
     "output_type": "stream",
     "text": [
      "[LightGBM] [Warning] lambda_l1 is set=0.39491924434752995, reg_alpha=0.0 will be ignored. Current value: lambda_l1=0.39491924434752995\n",
      "[LightGBM] [Warning] bagging_fraction is set=0.9188562305409576, subsample=1.0 will be ignored. Current value: bagging_fraction=0.9188562305409576\n",
      "[LightGBM] [Warning] lambda_l2 is set=0.11699060869869958, reg_lambda=0.0 will be ignored. Current value: lambda_l2=0.11699060869869958\n",
      "[LightGBM] [Warning] feature_fraction is set=0.797120322493883, colsample_bytree=1.0 will be ignored. Current value: feature_fraction=0.797120322493883\n",
      "[LightGBM] [Warning] min_sum_hessian_in_leaf is set=0.0029312159809115365, min_child_weight=0.001 will be ignored. Current value: min_sum_hessian_in_leaf=0.0029312159809115365\n",
      "[LightGBM] [Warning] min_data_in_leaf is set=39, min_child_samples=20 will be ignored. Current value: min_data_in_leaf=39\n",
      "[LightGBM] [Warning] bagging_freq is set=1, subsample_freq=0 will be ignored. Current value: bagging_freq=1\n",
      "[LightGBM] [Warning] lambda_l1 is set=0.39491924434752995, reg_alpha=0.0 will be ignored. Current value: lambda_l1=0.39491924434752995\n",
      "[LightGBM] [Warning] bagging_fraction is set=0.9188562305409576, subsample=1.0 will be ignored. Current value: bagging_fraction=0.9188562305409576\n",
      "[LightGBM] [Warning] lambda_l2 is set=0.11699060869869958, reg_lambda=0.0 will be ignored. Current value: lambda_l2=0.11699060869869958\n",
      "[LightGBM] [Warning] feature_fraction is set=0.797120322493883, colsample_bytree=1.0 will be ignored. Current value: feature_fraction=0.797120322493883\n",
      "[LightGBM] [Warning] min_sum_hessian_in_leaf is set=0.0029312159809115365, min_child_weight=0.001 will be ignored. Current value: min_sum_hessian_in_leaf=0.0029312159809115365\n",
      "[LightGBM] [Warning] min_data_in_leaf is set=39, min_child_samples=20 will be ignored. Current value: min_data_in_leaf=39\n",
      "[LightGBM] [Warning] bagging_freq is set=1, subsample_freq=0 will be ignored. Current value: bagging_freq=1\n",
      "[LightGBM] [Warning] lambda_l1 is set=0.39491924434752995, reg_alpha=0.0 will be ignored. Current value: lambda_l1=0.39491924434752995\n",
      "[LightGBM] [Warning] bagging_fraction is set=0.9188562305409576, subsample=1.0 will be ignored. Current value: bagging_fraction=0.9188562305409576\n",
      "[LightGBM] [Warning] lambda_l2 is set=0.11699060869869958, reg_lambda=0.0 will be ignored. Current value: lambda_l2=0.11699060869869958\n",
      "[LightGBM] [Warning] feature_fraction is set=0.797120322493883, colsample_bytree=1.0 will be ignored. Current value: feature_fraction=0.797120322493883\n",
      "[LightGBM] [Warning] min_sum_hessian_in_leaf is set=0.0029312159809115365, min_child_weight=0.001 will be ignored. Current value: min_sum_hessian_in_leaf=0.0029312159809115365\n",
      "[LightGBM] [Warning] min_data_in_leaf is set=39, min_child_samples=20 will be ignored. Current value: min_data_in_leaf=39\n",
      "[LightGBM] [Warning] bagging_freq is set=1, subsample_freq=0 will be ignored. Current value: bagging_freq=1\n",
      "[LightGBM] [Warning] lambda_l1 is set=0.39491924434752995, reg_alpha=0.0 will be ignored. Current value: lambda_l1=0.39491924434752995\n",
      "[LightGBM] [Warning] bagging_fraction is set=0.9188562305409576, subsample=1.0 will be ignored. Current value: bagging_fraction=0.9188562305409576\n",
      "[LightGBM] [Warning] lambda_l2 is set=0.11699060869869958, reg_lambda=0.0 will be ignored. Current value: lambda_l2=0.11699060869869958\n",
      "[LightGBM] [Warning] feature_fraction is set=0.797120322493883, colsample_bytree=1.0 will be ignored. Current value: feature_fraction=0.797120322493883\n",
      "[LightGBM] [Warning] min_sum_hessian_in_leaf is set=0.0029312159809115365, min_child_weight=0.001 will be ignored. Current value: min_sum_hessian_in_leaf=0.0029312159809115365\n",
      "[LightGBM] [Warning] min_data_in_leaf is set=39, min_child_samples=20 will be ignored. Current value: min_data_in_leaf=39\n",
      "[LightGBM] [Warning] bagging_freq is set=1, subsample_freq=0 will be ignored. Current value: bagging_freq=1\n",
      "[LightGBM] [Warning] lambda_l1 is set=0.39491924434752995, reg_alpha=0.0 will be ignored. Current value: lambda_l1=0.39491924434752995\n",
      "[LightGBM] [Warning] bagging_fraction is set=0.9188562305409576, subsample=1.0 will be ignored. Current value: bagging_fraction=0.9188562305409576\n",
      "[LightGBM] [Warning] lambda_l2 is set=0.11699060869869958, reg_lambda=0.0 will be ignored. Current value: lambda_l2=0.11699060869869958\n",
      "[LightGBM] [Warning] feature_fraction is set=0.797120322493883, colsample_bytree=1.0 will be ignored. Current value: feature_fraction=0.797120322493883\n",
      "[LightGBM] [Warning] min_sum_hessian_in_leaf is set=0.0029312159809115365, min_child_weight=0.001 will be ignored. Current value: min_sum_hessian_in_leaf=0.0029312159809115365\n",
      "[LightGBM] [Warning] min_data_in_leaf is set=39, min_child_samples=20 will be ignored. Current value: min_data_in_leaf=39\n",
      "[LightGBM] [Warning] bagging_freq is set=1, subsample_freq=0 will be ignored. Current value: bagging_freq=1\n"
     ]
    },
    {
     "name": "stderr",
     "output_type": "stream",
     "text": [
      "\u001b[32m[I 2023-04-03 15:01:02,711]\u001b[0m Trial 22 finished with value: 0.6835791852363318 and parameters: {'num_leaves': 242, 'min_data_in_leaf': 39, 'min_sum_hessian_in_leaf': 0.0029312159809115365, 'feature_fraction': 0.797120322493883, 'bagging_fraction': 0.9188562305409576, 'lambda_l1': 0.39491924434752995, 'lambda_l2': 0.11699060869869958}. Best is trial 7 with value: 0.6992530286862093.\u001b[0m\n"
     ]
    },
    {
     "name": "stdout",
     "output_type": "stream",
     "text": [
      "[LightGBM] [Warning] lambda_l1 is set=0.35966599755660583, reg_alpha=0.0 will be ignored. Current value: lambda_l1=0.35966599755660583\n",
      "[LightGBM] [Warning] bagging_fraction is set=0.8148059316157261, subsample=1.0 will be ignored. Current value: bagging_fraction=0.8148059316157261\n",
      "[LightGBM] [Warning] lambda_l2 is set=0.10619688398329478, reg_lambda=0.0 will be ignored. Current value: lambda_l2=0.10619688398329478\n",
      "[LightGBM] [Warning] feature_fraction is set=0.7805825622868416, colsample_bytree=1.0 will be ignored. Current value: feature_fraction=0.7805825622868416\n",
      "[LightGBM] [Warning] min_sum_hessian_in_leaf is set=0.0025767028972243115, min_child_weight=0.001 will be ignored. Current value: min_sum_hessian_in_leaf=0.0025767028972243115\n",
      "[LightGBM] [Warning] min_data_in_leaf is set=35, min_child_samples=20 will be ignored. Current value: min_data_in_leaf=35\n",
      "[LightGBM] [Warning] bagging_freq is set=1, subsample_freq=0 will be ignored. Current value: bagging_freq=1\n",
      "[LightGBM] [Warning] lambda_l1 is set=0.35966599755660583, reg_alpha=0.0 will be ignored. Current value: lambda_l1=0.35966599755660583\n",
      "[LightGBM] [Warning] bagging_fraction is set=0.8148059316157261, subsample=1.0 will be ignored. Current value: bagging_fraction=0.8148059316157261\n",
      "[LightGBM] [Warning] lambda_l2 is set=0.10619688398329478, reg_lambda=0.0 will be ignored. Current value: lambda_l2=0.10619688398329478\n",
      "[LightGBM] [Warning] feature_fraction is set=0.7805825622868416, colsample_bytree=1.0 will be ignored. Current value: feature_fraction=0.7805825622868416\n",
      "[LightGBM] [Warning] min_sum_hessian_in_leaf is set=0.0025767028972243115, min_child_weight=0.001 will be ignored. Current value: min_sum_hessian_in_leaf=0.0025767028972243115\n",
      "[LightGBM] [Warning] min_data_in_leaf is set=35, min_child_samples=20 will be ignored. Current value: min_data_in_leaf=35\n",
      "[LightGBM] [Warning] bagging_freq is set=1, subsample_freq=0 will be ignored. Current value: bagging_freq=1\n",
      "[LightGBM] [Warning] lambda_l1 is set=0.35966599755660583, reg_alpha=0.0 will be ignored. Current value: lambda_l1=0.35966599755660583\n",
      "[LightGBM] [Warning] bagging_fraction is set=0.8148059316157261, subsample=1.0 will be ignored. Current value: bagging_fraction=0.8148059316157261\n",
      "[LightGBM] [Warning] lambda_l2 is set=0.10619688398329478, reg_lambda=0.0 will be ignored. Current value: lambda_l2=0.10619688398329478\n",
      "[LightGBM] [Warning] feature_fraction is set=0.7805825622868416, colsample_bytree=1.0 will be ignored. Current value: feature_fraction=0.7805825622868416\n",
      "[LightGBM] [Warning] min_sum_hessian_in_leaf is set=0.0025767028972243115, min_child_weight=0.001 will be ignored. Current value: min_sum_hessian_in_leaf=0.0025767028972243115\n",
      "[LightGBM] [Warning] min_data_in_leaf is set=35, min_child_samples=20 will be ignored. Current value: min_data_in_leaf=35\n",
      "[LightGBM] [Warning] bagging_freq is set=1, subsample_freq=0 will be ignored. Current value: bagging_freq=1\n",
      "[LightGBM] [Warning] lambda_l1 is set=0.35966599755660583, reg_alpha=0.0 will be ignored. Current value: lambda_l1=0.35966599755660583\n",
      "[LightGBM] [Warning] bagging_fraction is set=0.8148059316157261, subsample=1.0 will be ignored. Current value: bagging_fraction=0.8148059316157261\n",
      "[LightGBM] [Warning] lambda_l2 is set=0.10619688398329478, reg_lambda=0.0 will be ignored. Current value: lambda_l2=0.10619688398329478\n",
      "[LightGBM] [Warning] feature_fraction is set=0.7805825622868416, colsample_bytree=1.0 will be ignored. Current value: feature_fraction=0.7805825622868416\n",
      "[LightGBM] [Warning] min_sum_hessian_in_leaf is set=0.0025767028972243115, min_child_weight=0.001 will be ignored. Current value: min_sum_hessian_in_leaf=0.0025767028972243115\n",
      "[LightGBM] [Warning] min_data_in_leaf is set=35, min_child_samples=20 will be ignored. Current value: min_data_in_leaf=35\n",
      "[LightGBM] [Warning] bagging_freq is set=1, subsample_freq=0 will be ignored. Current value: bagging_freq=1\n",
      "[LightGBM] [Warning] lambda_l1 is set=0.35966599755660583, reg_alpha=0.0 will be ignored. Current value: lambda_l1=0.35966599755660583\n",
      "[LightGBM] [Warning] bagging_fraction is set=0.8148059316157261, subsample=1.0 will be ignored. Current value: bagging_fraction=0.8148059316157261\n",
      "[LightGBM] [Warning] lambda_l2 is set=0.10619688398329478, reg_lambda=0.0 will be ignored. Current value: lambda_l2=0.10619688398329478\n",
      "[LightGBM] [Warning] feature_fraction is set=0.7805825622868416, colsample_bytree=1.0 will be ignored. Current value: feature_fraction=0.7805825622868416\n",
      "[LightGBM] [Warning] min_sum_hessian_in_leaf is set=0.0025767028972243115, min_child_weight=0.001 will be ignored. Current value: min_sum_hessian_in_leaf=0.0025767028972243115\n",
      "[LightGBM] [Warning] min_data_in_leaf is set=35, min_child_samples=20 will be ignored. Current value: min_data_in_leaf=35\n",
      "[LightGBM] [Warning] bagging_freq is set=1, subsample_freq=0 will be ignored. Current value: bagging_freq=1\n"
     ]
    },
    {
     "name": "stderr",
     "output_type": "stream",
     "text": [
      "\u001b[32m[I 2023-04-03 15:01:06,013]\u001b[0m Trial 23 finished with value: 0.6858263762475676 and parameters: {'num_leaves': 238, 'min_data_in_leaf': 35, 'min_sum_hessian_in_leaf': 0.0025767028972243115, 'feature_fraction': 0.7805825622868416, 'bagging_fraction': 0.8148059316157261, 'lambda_l1': 0.35966599755660583, 'lambda_l2': 0.10619688398329478}. Best is trial 7 with value: 0.6992530286862093.\u001b[0m\n"
     ]
    },
    {
     "name": "stdout",
     "output_type": "stream",
     "text": [
      "[LightGBM] [Warning] lambda_l1 is set=0.2892838767901096, reg_alpha=0.0 will be ignored. Current value: lambda_l1=0.2892838767901096\n",
      "[LightGBM] [Warning] bagging_fraction is set=0.777147743387992, subsample=1.0 will be ignored. Current value: bagging_fraction=0.777147743387992\n",
      "[LightGBM] [Warning] lambda_l2 is set=0.15562933607555834, reg_lambda=0.0 will be ignored. Current value: lambda_l2=0.15562933607555834\n",
      "[LightGBM] [Warning] feature_fraction is set=0.7910081527344837, colsample_bytree=1.0 will be ignored. Current value: feature_fraction=0.7910081527344837\n",
      "[LightGBM] [Warning] min_sum_hessian_in_leaf is set=0.0022135465987980587, min_child_weight=0.001 will be ignored. Current value: min_sum_hessian_in_leaf=0.0022135465987980587\n",
      "[LightGBM] [Warning] min_data_in_leaf is set=35, min_child_samples=20 will be ignored. Current value: min_data_in_leaf=35\n",
      "[LightGBM] [Warning] bagging_freq is set=1, subsample_freq=0 will be ignored. Current value: bagging_freq=1\n",
      "[LightGBM] [Warning] lambda_l1 is set=0.2892838767901096, reg_alpha=0.0 will be ignored. Current value: lambda_l1=0.2892838767901096\n",
      "[LightGBM] [Warning] bagging_fraction is set=0.777147743387992, subsample=1.0 will be ignored. Current value: bagging_fraction=0.777147743387992\n",
      "[LightGBM] [Warning] lambda_l2 is set=0.15562933607555834, reg_lambda=0.0 will be ignored. Current value: lambda_l2=0.15562933607555834\n",
      "[LightGBM] [Warning] feature_fraction is set=0.7910081527344837, colsample_bytree=1.0 will be ignored. Current value: feature_fraction=0.7910081527344837\n",
      "[LightGBM] [Warning] min_sum_hessian_in_leaf is set=0.0022135465987980587, min_child_weight=0.001 will be ignored. Current value: min_sum_hessian_in_leaf=0.0022135465987980587\n",
      "[LightGBM] [Warning] min_data_in_leaf is set=35, min_child_samples=20 will be ignored. Current value: min_data_in_leaf=35\n",
      "[LightGBM] [Warning] bagging_freq is set=1, subsample_freq=0 will be ignored. Current value: bagging_freq=1\n",
      "[LightGBM] [Warning] lambda_l1 is set=0.2892838767901096, reg_alpha=0.0 will be ignored. Current value: lambda_l1=0.2892838767901096\n",
      "[LightGBM] [Warning] bagging_fraction is set=0.777147743387992, subsample=1.0 will be ignored. Current value: bagging_fraction=0.777147743387992\n",
      "[LightGBM] [Warning] lambda_l2 is set=0.15562933607555834, reg_lambda=0.0 will be ignored. Current value: lambda_l2=0.15562933607555834\n",
      "[LightGBM] [Warning] feature_fraction is set=0.7910081527344837, colsample_bytree=1.0 will be ignored. Current value: feature_fraction=0.7910081527344837\n",
      "[LightGBM] [Warning] min_sum_hessian_in_leaf is set=0.0022135465987980587, min_child_weight=0.001 will be ignored. Current value: min_sum_hessian_in_leaf=0.0022135465987980587\n",
      "[LightGBM] [Warning] min_data_in_leaf is set=35, min_child_samples=20 will be ignored. Current value: min_data_in_leaf=35\n",
      "[LightGBM] [Warning] bagging_freq is set=1, subsample_freq=0 will be ignored. Current value: bagging_freq=1\n",
      "[LightGBM] [Warning] lambda_l1 is set=0.2892838767901096, reg_alpha=0.0 will be ignored. Current value: lambda_l1=0.2892838767901096\n",
      "[LightGBM] [Warning] bagging_fraction is set=0.777147743387992, subsample=1.0 will be ignored. Current value: bagging_fraction=0.777147743387992\n",
      "[LightGBM] [Warning] lambda_l2 is set=0.15562933607555834, reg_lambda=0.0 will be ignored. Current value: lambda_l2=0.15562933607555834\n",
      "[LightGBM] [Warning] feature_fraction is set=0.7910081527344837, colsample_bytree=1.0 will be ignored. Current value: feature_fraction=0.7910081527344837\n",
      "[LightGBM] [Warning] min_sum_hessian_in_leaf is set=0.0022135465987980587, min_child_weight=0.001 will be ignored. Current value: min_sum_hessian_in_leaf=0.0022135465987980587\n",
      "[LightGBM] [Warning] min_data_in_leaf is set=35, min_child_samples=20 will be ignored. Current value: min_data_in_leaf=35\n",
      "[LightGBM] [Warning] bagging_freq is set=1, subsample_freq=0 will be ignored. Current value: bagging_freq=1\n",
      "[LightGBM] [Warning] lambda_l1 is set=0.2892838767901096, reg_alpha=0.0 will be ignored. Current value: lambda_l1=0.2892838767901096\n",
      "[LightGBM] [Warning] bagging_fraction is set=0.777147743387992, subsample=1.0 will be ignored. Current value: bagging_fraction=0.777147743387992\n",
      "[LightGBM] [Warning] lambda_l2 is set=0.15562933607555834, reg_lambda=0.0 will be ignored. Current value: lambda_l2=0.15562933607555834\n",
      "[LightGBM] [Warning] feature_fraction is set=0.7910081527344837, colsample_bytree=1.0 will be ignored. Current value: feature_fraction=0.7910081527344837\n",
      "[LightGBM] [Warning] min_sum_hessian_in_leaf is set=0.0022135465987980587, min_child_weight=0.001 will be ignored. Current value: min_sum_hessian_in_leaf=0.0022135465987980587\n",
      "[LightGBM] [Warning] min_data_in_leaf is set=35, min_child_samples=20 will be ignored. Current value: min_data_in_leaf=35\n",
      "[LightGBM] [Warning] bagging_freq is set=1, subsample_freq=0 will be ignored. Current value: bagging_freq=1\n"
     ]
    },
    {
     "name": "stderr",
     "output_type": "stream",
     "text": [
      "\u001b[32m[I 2023-04-03 15:01:09,386]\u001b[0m Trial 24 finished with value: 0.6903207582700396 and parameters: {'num_leaves': 249, 'min_data_in_leaf': 35, 'min_sum_hessian_in_leaf': 0.0022135465987980587, 'feature_fraction': 0.7910081527344837, 'bagging_fraction': 0.777147743387992, 'lambda_l1': 0.2892838767901096, 'lambda_l2': 0.15562933607555834}. Best is trial 7 with value: 0.6992530286862093.\u001b[0m\n"
     ]
    },
    {
     "name": "stdout",
     "output_type": "stream",
     "text": [
      "[LightGBM] [Warning] lambda_l1 is set=0.09570534249544699, reg_alpha=0.0 will be ignored. Current value: lambda_l1=0.09570534249544699\n",
      "[LightGBM] [Warning] bagging_fraction is set=0.7888189187157192, subsample=1.0 will be ignored. Current value: bagging_fraction=0.7888189187157192\n",
      "[LightGBM] [Warning] lambda_l2 is set=0.039817678953394185, reg_lambda=0.0 will be ignored. Current value: lambda_l2=0.039817678953394185\n",
      "[LightGBM] [Warning] feature_fraction is set=0.7879963202697107, colsample_bytree=1.0 will be ignored. Current value: feature_fraction=0.7879963202697107\n",
      "[LightGBM] [Warning] min_sum_hessian_in_leaf is set=0.0017613624830553707, min_child_weight=0.001 will be ignored. Current value: min_sum_hessian_in_leaf=0.0017613624830553707\n",
      "[LightGBM] [Warning] min_data_in_leaf is set=24, min_child_samples=20 will be ignored. Current value: min_data_in_leaf=24\n",
      "[LightGBM] [Warning] bagging_freq is set=1, subsample_freq=0 will be ignored. Current value: bagging_freq=1\n",
      "[LightGBM] [Warning] lambda_l1 is set=0.09570534249544699, reg_alpha=0.0 will be ignored. Current value: lambda_l1=0.09570534249544699\n",
      "[LightGBM] [Warning] bagging_fraction is set=0.7888189187157192, subsample=1.0 will be ignored. Current value: bagging_fraction=0.7888189187157192\n",
      "[LightGBM] [Warning] lambda_l2 is set=0.039817678953394185, reg_lambda=0.0 will be ignored. Current value: lambda_l2=0.039817678953394185\n",
      "[LightGBM] [Warning] feature_fraction is set=0.7879963202697107, colsample_bytree=1.0 will be ignored. Current value: feature_fraction=0.7879963202697107\n",
      "[LightGBM] [Warning] min_sum_hessian_in_leaf is set=0.0017613624830553707, min_child_weight=0.001 will be ignored. Current value: min_sum_hessian_in_leaf=0.0017613624830553707\n",
      "[LightGBM] [Warning] min_data_in_leaf is set=24, min_child_samples=20 will be ignored. Current value: min_data_in_leaf=24\n",
      "[LightGBM] [Warning] bagging_freq is set=1, subsample_freq=0 will be ignored. Current value: bagging_freq=1\n",
      "[LightGBM] [Warning] lambda_l1 is set=0.09570534249544699, reg_alpha=0.0 will be ignored. Current value: lambda_l1=0.09570534249544699\n",
      "[LightGBM] [Warning] bagging_fraction is set=0.7888189187157192, subsample=1.0 will be ignored. Current value: bagging_fraction=0.7888189187157192\n",
      "[LightGBM] [Warning] lambda_l2 is set=0.039817678953394185, reg_lambda=0.0 will be ignored. Current value: lambda_l2=0.039817678953394185\n",
      "[LightGBM] [Warning] feature_fraction is set=0.7879963202697107, colsample_bytree=1.0 will be ignored. Current value: feature_fraction=0.7879963202697107\n",
      "[LightGBM] [Warning] min_sum_hessian_in_leaf is set=0.0017613624830553707, min_child_weight=0.001 will be ignored. Current value: min_sum_hessian_in_leaf=0.0017613624830553707\n",
      "[LightGBM] [Warning] min_data_in_leaf is set=24, min_child_samples=20 will be ignored. Current value: min_data_in_leaf=24\n",
      "[LightGBM] [Warning] bagging_freq is set=1, subsample_freq=0 will be ignored. Current value: bagging_freq=1\n",
      "[LightGBM] [Warning] lambda_l1 is set=0.09570534249544699, reg_alpha=0.0 will be ignored. Current value: lambda_l1=0.09570534249544699\n",
      "[LightGBM] [Warning] bagging_fraction is set=0.7888189187157192, subsample=1.0 will be ignored. Current value: bagging_fraction=0.7888189187157192\n",
      "[LightGBM] [Warning] lambda_l2 is set=0.039817678953394185, reg_lambda=0.0 will be ignored. Current value: lambda_l2=0.039817678953394185\n",
      "[LightGBM] [Warning] feature_fraction is set=0.7879963202697107, colsample_bytree=1.0 will be ignored. Current value: feature_fraction=0.7879963202697107\n",
      "[LightGBM] [Warning] min_sum_hessian_in_leaf is set=0.0017613624830553707, min_child_weight=0.001 will be ignored. Current value: min_sum_hessian_in_leaf=0.0017613624830553707\n",
      "[LightGBM] [Warning] min_data_in_leaf is set=24, min_child_samples=20 will be ignored. Current value: min_data_in_leaf=24\n",
      "[LightGBM] [Warning] bagging_freq is set=1, subsample_freq=0 will be ignored. Current value: bagging_freq=1\n",
      "[LightGBM] [Warning] lambda_l1 is set=0.09570534249544699, reg_alpha=0.0 will be ignored. Current value: lambda_l1=0.09570534249544699\n",
      "[LightGBM] [Warning] bagging_fraction is set=0.7888189187157192, subsample=1.0 will be ignored. Current value: bagging_fraction=0.7888189187157192\n",
      "[LightGBM] [Warning] lambda_l2 is set=0.039817678953394185, reg_lambda=0.0 will be ignored. Current value: lambda_l2=0.039817678953394185\n",
      "[LightGBM] [Warning] feature_fraction is set=0.7879963202697107, colsample_bytree=1.0 will be ignored. Current value: feature_fraction=0.7879963202697107\n",
      "[LightGBM] [Warning] min_sum_hessian_in_leaf is set=0.0017613624830553707, min_child_weight=0.001 will be ignored. Current value: min_sum_hessian_in_leaf=0.0017613624830553707\n",
      "[LightGBM] [Warning] min_data_in_leaf is set=24, min_child_samples=20 will be ignored. Current value: min_data_in_leaf=24\n",
      "[LightGBM] [Warning] bagging_freq is set=1, subsample_freq=0 will be ignored. Current value: bagging_freq=1\n"
     ]
    },
    {
     "name": "stderr",
     "output_type": "stream",
     "text": [
      "\u001b[32m[I 2023-04-03 15:01:14,639]\u001b[0m Trial 25 finished with value: 0.6981545414600465 and parameters: {'num_leaves': 239, 'min_data_in_leaf': 24, 'min_sum_hessian_in_leaf': 0.0017613624830553707, 'feature_fraction': 0.7879963202697107, 'bagging_fraction': 0.7888189187157192, 'lambda_l1': 0.09570534249544699, 'lambda_l2': 0.039817678953394185}. Best is trial 7 with value: 0.6992530286862093.\u001b[0m\n"
     ]
    },
    {
     "name": "stdout",
     "output_type": "stream",
     "text": [
      "[LightGBM] [Warning] lambda_l1 is set=0.06361154197572774, reg_alpha=0.0 will be ignored. Current value: lambda_l1=0.06361154197572774\n",
      "[LightGBM] [Warning] bagging_fraction is set=0.7759869529031096, subsample=1.0 will be ignored. Current value: bagging_fraction=0.7759869529031096\n",
      "[LightGBM] [Warning] lambda_l2 is set=0.029506192029373737, reg_lambda=0.0 will be ignored. Current value: lambda_l2=0.029506192029373737\n",
      "[LightGBM] [Warning] feature_fraction is set=0.7156691855196431, colsample_bytree=1.0 will be ignored. Current value: feature_fraction=0.7156691855196431\n",
      "[LightGBM] [Warning] min_sum_hessian_in_leaf is set=0.0006918172538679483, min_child_weight=0.001 will be ignored. Current value: min_sum_hessian_in_leaf=0.0006918172538679483\n",
      "[LightGBM] [Warning] min_data_in_leaf is set=18, min_child_samples=20 will be ignored. Current value: min_data_in_leaf=18\n",
      "[LightGBM] [Warning] bagging_freq is set=1, subsample_freq=0 will be ignored. Current value: bagging_freq=1\n",
      "[LightGBM] [Warning] lambda_l1 is set=0.06361154197572774, reg_alpha=0.0 will be ignored. Current value: lambda_l1=0.06361154197572774\n",
      "[LightGBM] [Warning] bagging_fraction is set=0.7759869529031096, subsample=1.0 will be ignored. Current value: bagging_fraction=0.7759869529031096\n",
      "[LightGBM] [Warning] lambda_l2 is set=0.029506192029373737, reg_lambda=0.0 will be ignored. Current value: lambda_l2=0.029506192029373737\n",
      "[LightGBM] [Warning] feature_fraction is set=0.7156691855196431, colsample_bytree=1.0 will be ignored. Current value: feature_fraction=0.7156691855196431\n",
      "[LightGBM] [Warning] min_sum_hessian_in_leaf is set=0.0006918172538679483, min_child_weight=0.001 will be ignored. Current value: min_sum_hessian_in_leaf=0.0006918172538679483\n",
      "[LightGBM] [Warning] min_data_in_leaf is set=18, min_child_samples=20 will be ignored. Current value: min_data_in_leaf=18\n",
      "[LightGBM] [Warning] bagging_freq is set=1, subsample_freq=0 will be ignored. Current value: bagging_freq=1\n",
      "[LightGBM] [Warning] lambda_l1 is set=0.06361154197572774, reg_alpha=0.0 will be ignored. Current value: lambda_l1=0.06361154197572774\n",
      "[LightGBM] [Warning] bagging_fraction is set=0.7759869529031096, subsample=1.0 will be ignored. Current value: bagging_fraction=0.7759869529031096\n",
      "[LightGBM] [Warning] lambda_l2 is set=0.029506192029373737, reg_lambda=0.0 will be ignored. Current value: lambda_l2=0.029506192029373737\n",
      "[LightGBM] [Warning] feature_fraction is set=0.7156691855196431, colsample_bytree=1.0 will be ignored. Current value: feature_fraction=0.7156691855196431\n",
      "[LightGBM] [Warning] min_sum_hessian_in_leaf is set=0.0006918172538679483, min_child_weight=0.001 will be ignored. Current value: min_sum_hessian_in_leaf=0.0006918172538679483\n",
      "[LightGBM] [Warning] min_data_in_leaf is set=18, min_child_samples=20 will be ignored. Current value: min_data_in_leaf=18\n",
      "[LightGBM] [Warning] bagging_freq is set=1, subsample_freq=0 will be ignored. Current value: bagging_freq=1\n",
      "[LightGBM] [Warning] lambda_l1 is set=0.06361154197572774, reg_alpha=0.0 will be ignored. Current value: lambda_l1=0.06361154197572774\n",
      "[LightGBM] [Warning] bagging_fraction is set=0.7759869529031096, subsample=1.0 will be ignored. Current value: bagging_fraction=0.7759869529031096\n",
      "[LightGBM] [Warning] lambda_l2 is set=0.029506192029373737, reg_lambda=0.0 will be ignored. Current value: lambda_l2=0.029506192029373737\n",
      "[LightGBM] [Warning] feature_fraction is set=0.7156691855196431, colsample_bytree=1.0 will be ignored. Current value: feature_fraction=0.7156691855196431\n",
      "[LightGBM] [Warning] min_sum_hessian_in_leaf is set=0.0006918172538679483, min_child_weight=0.001 will be ignored. Current value: min_sum_hessian_in_leaf=0.0006918172538679483\n",
      "[LightGBM] [Warning] min_data_in_leaf is set=18, min_child_samples=20 will be ignored. Current value: min_data_in_leaf=18\n",
      "[LightGBM] [Warning] bagging_freq is set=1, subsample_freq=0 will be ignored. Current value: bagging_freq=1\n",
      "[LightGBM] [Warning] lambda_l1 is set=0.06361154197572774, reg_alpha=0.0 will be ignored. Current value: lambda_l1=0.06361154197572774\n",
      "[LightGBM] [Warning] bagging_fraction is set=0.7759869529031096, subsample=1.0 will be ignored. Current value: bagging_fraction=0.7759869529031096\n",
      "[LightGBM] [Warning] lambda_l2 is set=0.029506192029373737, reg_lambda=0.0 will be ignored. Current value: lambda_l2=0.029506192029373737\n",
      "[LightGBM] [Warning] feature_fraction is set=0.7156691855196431, colsample_bytree=1.0 will be ignored. Current value: feature_fraction=0.7156691855196431\n",
      "[LightGBM] [Warning] min_sum_hessian_in_leaf is set=0.0006918172538679483, min_child_weight=0.001 will be ignored. Current value: min_sum_hessian_in_leaf=0.0006918172538679483\n",
      "[LightGBM] [Warning] min_data_in_leaf is set=18, min_child_samples=20 will be ignored. Current value: min_data_in_leaf=18\n",
      "[LightGBM] [Warning] bagging_freq is set=1, subsample_freq=0 will be ignored. Current value: bagging_freq=1\n"
     ]
    },
    {
     "name": "stderr",
     "output_type": "stream",
     "text": [
      "\u001b[32m[I 2023-04-03 15:01:18,300]\u001b[0m Trial 26 finished with value: 0.6520431862406628 and parameters: {'num_leaves': 196, 'min_data_in_leaf': 18, 'min_sum_hessian_in_leaf': 0.0006918172538679483, 'feature_fraction': 0.7156691855196431, 'bagging_fraction': 0.7759869529031096, 'lambda_l1': 0.06361154197572774, 'lambda_l2': 0.029506192029373737}. Best is trial 7 with value: 0.6992530286862093.\u001b[0m\n"
     ]
    },
    {
     "name": "stdout",
     "output_type": "stream",
     "text": [
      "[LightGBM] [Warning] lambda_l1 is set=0.13213697905758195, reg_alpha=0.0 will be ignored. Current value: lambda_l1=0.13213697905758195\n",
      "[LightGBM] [Warning] bagging_fraction is set=0.7775152269204683, subsample=1.0 will be ignored. Current value: bagging_fraction=0.7775152269204683\n",
      "[LightGBM] [Warning] lambda_l2 is set=0.03981834857329031, reg_lambda=0.0 will be ignored. Current value: lambda_l2=0.03981834857329031\n",
      "[LightGBM] [Warning] feature_fraction is set=0.7981086348840757, colsample_bytree=1.0 will be ignored. Current value: feature_fraction=0.7981086348840757\n",
      "[LightGBM] [Warning] min_sum_hessian_in_leaf is set=0.0015110604476009741, min_child_weight=0.001 will be ignored. Current value: min_sum_hessian_in_leaf=0.0015110604476009741\n",
      "[LightGBM] [Warning] min_data_in_leaf is set=7, min_child_samples=20 will be ignored. Current value: min_data_in_leaf=7\n",
      "[LightGBM] [Warning] bagging_freq is set=1, subsample_freq=0 will be ignored. Current value: bagging_freq=1\n",
      "[LightGBM] [Warning] lambda_l1 is set=0.13213697905758195, reg_alpha=0.0 will be ignored. Current value: lambda_l1=0.13213697905758195\n",
      "[LightGBM] [Warning] bagging_fraction is set=0.7775152269204683, subsample=1.0 will be ignored. Current value: bagging_fraction=0.7775152269204683\n",
      "[LightGBM] [Warning] lambda_l2 is set=0.03981834857329031, reg_lambda=0.0 will be ignored. Current value: lambda_l2=0.03981834857329031\n",
      "[LightGBM] [Warning] feature_fraction is set=0.7981086348840757, colsample_bytree=1.0 will be ignored. Current value: feature_fraction=0.7981086348840757\n",
      "[LightGBM] [Warning] min_sum_hessian_in_leaf is set=0.0015110604476009741, min_child_weight=0.001 will be ignored. Current value: min_sum_hessian_in_leaf=0.0015110604476009741\n",
      "[LightGBM] [Warning] min_data_in_leaf is set=7, min_child_samples=20 will be ignored. Current value: min_data_in_leaf=7\n",
      "[LightGBM] [Warning] bagging_freq is set=1, subsample_freq=0 will be ignored. Current value: bagging_freq=1\n",
      "[LightGBM] [Warning] lambda_l1 is set=0.13213697905758195, reg_alpha=0.0 will be ignored. Current value: lambda_l1=0.13213697905758195\n",
      "[LightGBM] [Warning] bagging_fraction is set=0.7775152269204683, subsample=1.0 will be ignored. Current value: bagging_fraction=0.7775152269204683\n",
      "[LightGBM] [Warning] lambda_l2 is set=0.03981834857329031, reg_lambda=0.0 will be ignored. Current value: lambda_l2=0.03981834857329031\n",
      "[LightGBM] [Warning] feature_fraction is set=0.7981086348840757, colsample_bytree=1.0 will be ignored. Current value: feature_fraction=0.7981086348840757\n",
      "[LightGBM] [Warning] min_sum_hessian_in_leaf is set=0.0015110604476009741, min_child_weight=0.001 will be ignored. Current value: min_sum_hessian_in_leaf=0.0015110604476009741\n",
      "[LightGBM] [Warning] min_data_in_leaf is set=7, min_child_samples=20 will be ignored. Current value: min_data_in_leaf=7\n",
      "[LightGBM] [Warning] bagging_freq is set=1, subsample_freq=0 will be ignored. Current value: bagging_freq=1\n",
      "[LightGBM] [Warning] lambda_l1 is set=0.13213697905758195, reg_alpha=0.0 will be ignored. Current value: lambda_l1=0.13213697905758195\n",
      "[LightGBM] [Warning] bagging_fraction is set=0.7775152269204683, subsample=1.0 will be ignored. Current value: bagging_fraction=0.7775152269204683\n",
      "[LightGBM] [Warning] lambda_l2 is set=0.03981834857329031, reg_lambda=0.0 will be ignored. Current value: lambda_l2=0.03981834857329031\n",
      "[LightGBM] [Warning] feature_fraction is set=0.7981086348840757, colsample_bytree=1.0 will be ignored. Current value: feature_fraction=0.7981086348840757\n",
      "[LightGBM] [Warning] min_sum_hessian_in_leaf is set=0.0015110604476009741, min_child_weight=0.001 will be ignored. Current value: min_sum_hessian_in_leaf=0.0015110604476009741\n",
      "[LightGBM] [Warning] min_data_in_leaf is set=7, min_child_samples=20 will be ignored. Current value: min_data_in_leaf=7\n",
      "[LightGBM] [Warning] bagging_freq is set=1, subsample_freq=0 will be ignored. Current value: bagging_freq=1\n",
      "[LightGBM] [Warning] lambda_l1 is set=0.13213697905758195, reg_alpha=0.0 will be ignored. Current value: lambda_l1=0.13213697905758195\n",
      "[LightGBM] [Warning] bagging_fraction is set=0.7775152269204683, subsample=1.0 will be ignored. Current value: bagging_fraction=0.7775152269204683\n",
      "[LightGBM] [Warning] lambda_l2 is set=0.03981834857329031, reg_lambda=0.0 will be ignored. Current value: lambda_l2=0.03981834857329031\n",
      "[LightGBM] [Warning] feature_fraction is set=0.7981086348840757, colsample_bytree=1.0 will be ignored. Current value: feature_fraction=0.7981086348840757\n",
      "[LightGBM] [Warning] min_sum_hessian_in_leaf is set=0.0015110604476009741, min_child_weight=0.001 will be ignored. Current value: min_sum_hessian_in_leaf=0.0015110604476009741\n",
      "[LightGBM] [Warning] min_data_in_leaf is set=7, min_child_samples=20 will be ignored. Current value: min_data_in_leaf=7\n",
      "[LightGBM] [Warning] bagging_freq is set=1, subsample_freq=0 will be ignored. Current value: bagging_freq=1\n"
     ]
    },
    {
     "name": "stderr",
     "output_type": "stream",
     "text": [
      "\u001b[32m[I 2023-04-03 15:01:27,561]\u001b[0m Trial 27 finished with value: 0.6824555897307136 and parameters: {'num_leaves': 253, 'min_data_in_leaf': 7, 'min_sum_hessian_in_leaf': 0.0015110604476009741, 'feature_fraction': 0.7981086348840757, 'bagging_fraction': 0.7775152269204683, 'lambda_l1': 0.13213697905758195, 'lambda_l2': 0.03981834857329031}. Best is trial 7 with value: 0.6992530286862093.\u001b[0m\n"
     ]
    },
    {
     "name": "stdout",
     "output_type": "stream",
     "text": [
      "[LightGBM] [Warning] lambda_l1 is set=0.05156762599756539, reg_alpha=0.0 will be ignored. Current value: lambda_l1=0.05156762599756539\n",
      "[LightGBM] [Warning] bagging_fraction is set=0.7317397959755858, subsample=1.0 will be ignored. Current value: bagging_fraction=0.7317397959755858\n",
      "[LightGBM] [Warning] lambda_l2 is set=0.20885772437641695, reg_lambda=0.0 will be ignored. Current value: lambda_l2=0.20885772437641695\n",
      "[LightGBM] [Warning] feature_fraction is set=0.8426315000433712, colsample_bytree=1.0 will be ignored. Current value: feature_fraction=0.8426315000433712\n",
      "[LightGBM] [Warning] min_sum_hessian_in_leaf is set=0.0068112646256021986, min_child_weight=0.001 will be ignored. Current value: min_sum_hessian_in_leaf=0.0068112646256021986\n",
      "[LightGBM] [Warning] min_data_in_leaf is set=49, min_child_samples=20 will be ignored. Current value: min_data_in_leaf=49\n",
      "[LightGBM] [Warning] bagging_freq is set=1, subsample_freq=0 will be ignored. Current value: bagging_freq=1\n",
      "[LightGBM] [Warning] lambda_l1 is set=0.05156762599756539, reg_alpha=0.0 will be ignored. Current value: lambda_l1=0.05156762599756539\n",
      "[LightGBM] [Warning] bagging_fraction is set=0.7317397959755858, subsample=1.0 will be ignored. Current value: bagging_fraction=0.7317397959755858\n",
      "[LightGBM] [Warning] lambda_l2 is set=0.20885772437641695, reg_lambda=0.0 will be ignored. Current value: lambda_l2=0.20885772437641695\n",
      "[LightGBM] [Warning] feature_fraction is set=0.8426315000433712, colsample_bytree=1.0 will be ignored. Current value: feature_fraction=0.8426315000433712\n",
      "[LightGBM] [Warning] min_sum_hessian_in_leaf is set=0.0068112646256021986, min_child_weight=0.001 will be ignored. Current value: min_sum_hessian_in_leaf=0.0068112646256021986\n",
      "[LightGBM] [Warning] min_data_in_leaf is set=49, min_child_samples=20 will be ignored. Current value: min_data_in_leaf=49\n",
      "[LightGBM] [Warning] bagging_freq is set=1, subsample_freq=0 will be ignored. Current value: bagging_freq=1\n",
      "[LightGBM] [Warning] lambda_l1 is set=0.05156762599756539, reg_alpha=0.0 will be ignored. Current value: lambda_l1=0.05156762599756539\n",
      "[LightGBM] [Warning] bagging_fraction is set=0.7317397959755858, subsample=1.0 will be ignored. Current value: bagging_fraction=0.7317397959755858\n",
      "[LightGBM] [Warning] lambda_l2 is set=0.20885772437641695, reg_lambda=0.0 will be ignored. Current value: lambda_l2=0.20885772437641695\n",
      "[LightGBM] [Warning] feature_fraction is set=0.8426315000433712, colsample_bytree=1.0 will be ignored. Current value: feature_fraction=0.8426315000433712\n",
      "[LightGBM] [Warning] min_sum_hessian_in_leaf is set=0.0068112646256021986, min_child_weight=0.001 will be ignored. Current value: min_sum_hessian_in_leaf=0.0068112646256021986\n",
      "[LightGBM] [Warning] min_data_in_leaf is set=49, min_child_samples=20 will be ignored. Current value: min_data_in_leaf=49\n",
      "[LightGBM] [Warning] bagging_freq is set=1, subsample_freq=0 will be ignored. Current value: bagging_freq=1\n",
      "[LightGBM] [Warning] lambda_l1 is set=0.05156762599756539, reg_alpha=0.0 will be ignored. Current value: lambda_l1=0.05156762599756539\n",
      "[LightGBM] [Warning] bagging_fraction is set=0.7317397959755858, subsample=1.0 will be ignored. Current value: bagging_fraction=0.7317397959755858\n",
      "[LightGBM] [Warning] lambda_l2 is set=0.20885772437641695, reg_lambda=0.0 will be ignored. Current value: lambda_l2=0.20885772437641695\n",
      "[LightGBM] [Warning] feature_fraction is set=0.8426315000433712, colsample_bytree=1.0 will be ignored. Current value: feature_fraction=0.8426315000433712\n",
      "[LightGBM] [Warning] min_sum_hessian_in_leaf is set=0.0068112646256021986, min_child_weight=0.001 will be ignored. Current value: min_sum_hessian_in_leaf=0.0068112646256021986\n",
      "[LightGBM] [Warning] min_data_in_leaf is set=49, min_child_samples=20 will be ignored. Current value: min_data_in_leaf=49\n",
      "[LightGBM] [Warning] bagging_freq is set=1, subsample_freq=0 will be ignored. Current value: bagging_freq=1\n",
      "[LightGBM] [Warning] lambda_l1 is set=0.05156762599756539, reg_alpha=0.0 will be ignored. Current value: lambda_l1=0.05156762599756539\n",
      "[LightGBM] [Warning] bagging_fraction is set=0.7317397959755858, subsample=1.0 will be ignored. Current value: bagging_fraction=0.7317397959755858\n",
      "[LightGBM] [Warning] lambda_l2 is set=0.20885772437641695, reg_lambda=0.0 will be ignored. Current value: lambda_l2=0.20885772437641695\n",
      "[LightGBM] [Warning] feature_fraction is set=0.8426315000433712, colsample_bytree=1.0 will be ignored. Current value: feature_fraction=0.8426315000433712\n",
      "[LightGBM] [Warning] min_sum_hessian_in_leaf is set=0.0068112646256021986, min_child_weight=0.001 will be ignored. Current value: min_sum_hessian_in_leaf=0.0068112646256021986\n",
      "[LightGBM] [Warning] min_data_in_leaf is set=49, min_child_samples=20 will be ignored. Current value: min_data_in_leaf=49\n",
      "[LightGBM] [Warning] bagging_freq is set=1, subsample_freq=0 will be ignored. Current value: bagging_freq=1\n"
     ]
    },
    {
     "name": "stderr",
     "output_type": "stream",
     "text": [
      "\u001b[32m[I 2023-04-03 15:01:30,377]\u001b[0m Trial 28 finished with value: 0.7048207896553889 and parameters: {'num_leaves': 233, 'min_data_in_leaf': 49, 'min_sum_hessian_in_leaf': 0.0068112646256021986, 'feature_fraction': 0.8426315000433712, 'bagging_fraction': 0.7317397959755858, 'lambda_l1': 0.05156762599756539, 'lambda_l2': 0.20885772437641695}. Best is trial 28 with value: 0.7048207896553889.\u001b[0m\n"
     ]
    },
    {
     "name": "stdout",
     "output_type": "stream",
     "text": [
      "[LightGBM] [Warning] lambda_l1 is set=0.0223517282592696, reg_alpha=0.0 will be ignored. Current value: lambda_l1=0.0223517282592696\n",
      "[LightGBM] [Warning] bagging_fraction is set=0.7326320350377127, subsample=1.0 will be ignored. Current value: bagging_fraction=0.7326320350377127\n",
      "[LightGBM] [Warning] lambda_l2 is set=0.265177341262348, reg_lambda=0.0 will be ignored. Current value: lambda_l2=0.265177341262348\n",
      "[LightGBM] [Warning] feature_fraction is set=0.8381244831959944, colsample_bytree=1.0 will be ignored. Current value: feature_fraction=0.8381244831959944\n",
      "[LightGBM] [Warning] min_sum_hessian_in_leaf is set=0.006296757603803257, min_child_weight=0.001 will be ignored. Current value: min_sum_hessian_in_leaf=0.006296757603803257\n",
      "[LightGBM] [Warning] min_data_in_leaf is set=57, min_child_samples=20 will be ignored. Current value: min_data_in_leaf=57\n",
      "[LightGBM] [Warning] bagging_freq is set=1, subsample_freq=0 will be ignored. Current value: bagging_freq=1\n",
      "[LightGBM] [Warning] lambda_l1 is set=0.0223517282592696, reg_alpha=0.0 will be ignored. Current value: lambda_l1=0.0223517282592696\n",
      "[LightGBM] [Warning] bagging_fraction is set=0.7326320350377127, subsample=1.0 will be ignored. Current value: bagging_fraction=0.7326320350377127\n",
      "[LightGBM] [Warning] lambda_l2 is set=0.265177341262348, reg_lambda=0.0 will be ignored. Current value: lambda_l2=0.265177341262348\n",
      "[LightGBM] [Warning] feature_fraction is set=0.8381244831959944, colsample_bytree=1.0 will be ignored. Current value: feature_fraction=0.8381244831959944\n",
      "[LightGBM] [Warning] min_sum_hessian_in_leaf is set=0.006296757603803257, min_child_weight=0.001 will be ignored. Current value: min_sum_hessian_in_leaf=0.006296757603803257\n",
      "[LightGBM] [Warning] min_data_in_leaf is set=57, min_child_samples=20 will be ignored. Current value: min_data_in_leaf=57\n",
      "[LightGBM] [Warning] bagging_freq is set=1, subsample_freq=0 will be ignored. Current value: bagging_freq=1\n",
      "[LightGBM] [Warning] lambda_l1 is set=0.0223517282592696, reg_alpha=0.0 will be ignored. Current value: lambda_l1=0.0223517282592696\n",
      "[LightGBM] [Warning] bagging_fraction is set=0.7326320350377127, subsample=1.0 will be ignored. Current value: bagging_fraction=0.7326320350377127\n",
      "[LightGBM] [Warning] lambda_l2 is set=0.265177341262348, reg_lambda=0.0 will be ignored. Current value: lambda_l2=0.265177341262348\n",
      "[LightGBM] [Warning] feature_fraction is set=0.8381244831959944, colsample_bytree=1.0 will be ignored. Current value: feature_fraction=0.8381244831959944\n",
      "[LightGBM] [Warning] min_sum_hessian_in_leaf is set=0.006296757603803257, min_child_weight=0.001 will be ignored. Current value: min_sum_hessian_in_leaf=0.006296757603803257\n",
      "[LightGBM] [Warning] min_data_in_leaf is set=57, min_child_samples=20 will be ignored. Current value: min_data_in_leaf=57\n",
      "[LightGBM] [Warning] bagging_freq is set=1, subsample_freq=0 will be ignored. Current value: bagging_freq=1\n",
      "[LightGBM] [Warning] lambda_l1 is set=0.0223517282592696, reg_alpha=0.0 will be ignored. Current value: lambda_l1=0.0223517282592696\n",
      "[LightGBM] [Warning] bagging_fraction is set=0.7326320350377127, subsample=1.0 will be ignored. Current value: bagging_fraction=0.7326320350377127\n",
      "[LightGBM] [Warning] lambda_l2 is set=0.265177341262348, reg_lambda=0.0 will be ignored. Current value: lambda_l2=0.265177341262348\n",
      "[LightGBM] [Warning] feature_fraction is set=0.8381244831959944, colsample_bytree=1.0 will be ignored. Current value: feature_fraction=0.8381244831959944\n",
      "[LightGBM] [Warning] min_sum_hessian_in_leaf is set=0.006296757603803257, min_child_weight=0.001 will be ignored. Current value: min_sum_hessian_in_leaf=0.006296757603803257\n",
      "[LightGBM] [Warning] min_data_in_leaf is set=57, min_child_samples=20 will be ignored. Current value: min_data_in_leaf=57\n",
      "[LightGBM] [Warning] bagging_freq is set=1, subsample_freq=0 will be ignored. Current value: bagging_freq=1\n",
      "[LightGBM] [Warning] lambda_l1 is set=0.0223517282592696, reg_alpha=0.0 will be ignored. Current value: lambda_l1=0.0223517282592696\n",
      "[LightGBM] [Warning] bagging_fraction is set=0.7326320350377127, subsample=1.0 will be ignored. Current value: bagging_fraction=0.7326320350377127\n",
      "[LightGBM] [Warning] lambda_l2 is set=0.265177341262348, reg_lambda=0.0 will be ignored. Current value: lambda_l2=0.265177341262348\n",
      "[LightGBM] [Warning] feature_fraction is set=0.8381244831959944, colsample_bytree=1.0 will be ignored. Current value: feature_fraction=0.8381244831959944\n",
      "[LightGBM] [Warning] min_sum_hessian_in_leaf is set=0.006296757603803257, min_child_weight=0.001 will be ignored. Current value: min_sum_hessian_in_leaf=0.006296757603803257\n",
      "[LightGBM] [Warning] min_data_in_leaf is set=57, min_child_samples=20 will be ignored. Current value: min_data_in_leaf=57\n",
      "[LightGBM] [Warning] bagging_freq is set=1, subsample_freq=0 will be ignored. Current value: bagging_freq=1\n"
     ]
    },
    {
     "name": "stderr",
     "output_type": "stream",
     "text": [
      "\u001b[32m[I 2023-04-03 15:01:32,165]\u001b[0m Trial 29 finished with value: 0.6733915008474044 and parameters: {'num_leaves': 161, 'min_data_in_leaf': 57, 'min_sum_hessian_in_leaf': 0.006296757603803257, 'feature_fraction': 0.8381244831959944, 'bagging_fraction': 0.7326320350377127, 'lambda_l1': 0.0223517282592696, 'lambda_l2': 0.265177341262348}. Best is trial 28 with value: 0.7048207896553889.\u001b[0m\n"
     ]
    }
   ],
   "source": [
    "#最適化処理（探査の実行）\n",
    "sampler = optuna.samplers.TPESampler(seed=123)\n",
    "study = optuna.create_study(sampler=sampler, direction=\"maximize\")\n",
    "study.optimize(objective, n_trials=30)"
   ]
  },
  {
   "cell_type": "code",
   "execution_count": 7,
   "id": "e05ff1b9",
   "metadata": {
    "execution": {
     "iopub.execute_input": "2023-04-03T15:01:32.220855Z",
     "iopub.status.busy": "2023-04-03T15:01:32.220408Z",
     "iopub.status.idle": "2023-04-03T15:01:32.229890Z",
     "shell.execute_reply": "2023-04-03T15:01:32.228439Z"
    },
    "papermill": {
     "duration": 0.036071,
     "end_time": "2023-04-03T15:01:32.232508",
     "exception": false,
     "start_time": "2023-04-03T15:01:32.196437",
     "status": "completed"
    },
    "tags": []
   },
   "outputs": [
    {
     "name": "stdout",
     "output_type": "stream",
     "text": [
      "acc(best)=0.7048\n"
     ]
    },
    {
     "data": {
      "text/plain": [
       "{'num_leaves': 233,\n",
       " 'min_data_in_leaf': 49,\n",
       " 'min_sum_hessian_in_leaf': 0.0068112646256021986,\n",
       " 'feature_fraction': 0.8426315000433712,\n",
       " 'bagging_fraction': 0.7317397959755858,\n",
       " 'lambda_l1': 0.05156762599756539,\n",
       " 'lambda_l2': 0.20885772437641695}"
      ]
     },
     "metadata": {},
     "output_type": "display_data"
    }
   ],
   "source": [
    "#探査の結果確認\n",
    "trial = study.best_trial\n",
    "print(\"acc(best)={:.4f}\".format(trial.value))\n",
    "display(trial.params)"
   ]
  },
  {
   "cell_type": "code",
   "execution_count": 8,
   "id": "06528b40",
   "metadata": {
    "execution": {
     "iopub.execute_input": "2023-04-03T15:01:32.279317Z",
     "iopub.status.busy": "2023-04-03T15:01:32.278896Z",
     "iopub.status.idle": "2023-04-03T15:01:32.286479Z",
     "shell.execute_reply": "2023-04-03T15:01:32.285303Z"
    },
    "papermill": {
     "duration": 0.033966,
     "end_time": "2023-04-03T15:01:32.289120",
     "exception": false,
     "start_time": "2023-04-03T15:01:32.255154",
     "status": "completed"
    },
    "tags": []
   },
   "outputs": [
    {
     "data": {
      "text/plain": [
       "{'num_leaves': 233,\n",
       " 'min_data_in_leaf': 49,\n",
       " 'min_sum_hessian_in_leaf': 0.0068112646256021986,\n",
       " 'feature_fraction': 0.8426315000433712,\n",
       " 'bagging_fraction': 0.7317397959755858,\n",
       " 'lambda_l1': 0.05156762599756539,\n",
       " 'lambda_l2': 0.20885772437641695,\n",
       " 'boosting_type': 'gbdt',\n",
       " 'objective': 'binary',\n",
       " 'metric': 'auc',\n",
       " 'learning_rate': 0.02,\n",
       " 'n_estimators': 100000,\n",
       " 'bagging_freq': 1,\n",
       " 'seed': 123}"
      ]
     },
     "metadata": {},
     "output_type": "display_data"
    }
   ],
   "source": [
    "#ベストなハイパーパラメータの取得\n",
    "params_best = trial.params\n",
    "params_best.update(params_base)\n",
    "display(params_best)"
   ]
  },
  {
   "cell_type": "markdown",
   "id": "94919713",
   "metadata": {
    "papermill": {
     "duration": 0.022208,
     "end_time": "2023-04-03T15:01:32.333665",
     "exception": false,
     "start_time": "2023-04-03T15:01:32.311457",
     "status": "completed"
    },
    "tags": []
   },
   "source": [
    "# LightGBM以外のモデル利用"
   ]
  },
  {
   "cell_type": "code",
   "execution_count": 9,
   "id": "e6c758c2",
   "metadata": {
    "execution": {
     "iopub.execute_input": "2023-04-03T15:01:32.380501Z",
     "iopub.status.busy": "2023-04-03T15:01:32.380074Z",
     "iopub.status.idle": "2023-04-03T15:01:32.393487Z",
     "shell.execute_reply": "2023-04-03T15:01:32.392394Z"
    },
    "papermill": {
     "duration": 0.04011,
     "end_time": "2023-04-03T15:01:32.396335",
     "exception": false,
     "start_time": "2023-04-03T15:01:32.356225",
     "status": "completed"
    },
    "tags": []
   },
   "outputs": [],
   "source": [
    "#Titanicデータを用いた例：ロジスティクス回帰\n",
    "# ファイル読み込み\n",
    "df_train = pd.read_csv(\"../input/titanic/train.csv\")\n",
    "\n",
    "# データセット作成\n",
    "x_train = df_train[[\"Pclass\", \"Age\", \"Embarked\"]]\n",
    "y_train = df_train[[\"Survived\"]]"
   ]
  },
  {
   "cell_type": "code",
   "execution_count": 10,
   "id": "2f39c46e",
   "metadata": {
    "execution": {
     "iopub.execute_input": "2023-04-03T15:01:32.443766Z",
     "iopub.status.busy": "2023-04-03T15:01:32.443364Z",
     "iopub.status.idle": "2023-04-03T15:01:32.453248Z",
     "shell.execute_reply": "2023-04-03T15:01:32.451923Z"
    },
    "papermill": {
     "duration": 0.036249,
     "end_time": "2023-04-03T15:01:32.455638",
     "exception": false,
     "start_time": "2023-04-03T15:01:32.419389",
     "status": "completed"
    },
    "tags": []
   },
   "outputs": [
    {
     "data": {
      "text/plain": [
       "Pclass        0\n",
       "Age         177\n",
       "Embarked      2\n",
       "dtype: int64"
      ]
     },
     "execution_count": 10,
     "metadata": {},
     "output_type": "execute_result"
    }
   ],
   "source": [
    "# 欠損値の確認\n",
    "x_train.isnull().sum()"
   ]
  },
  {
   "cell_type": "code",
   "execution_count": 11,
   "id": "be8535cd",
   "metadata": {
    "execution": {
     "iopub.execute_input": "2023-04-03T15:01:32.502676Z",
     "iopub.status.busy": "2023-04-03T15:01:32.502253Z",
     "iopub.status.idle": "2023-04-03T15:01:32.513253Z",
     "shell.execute_reply": "2023-04-03T15:01:32.512015Z"
    },
    "papermill": {
     "duration": 0.037506,
     "end_time": "2023-04-03T15:01:32.515639",
     "exception": false,
     "start_time": "2023-04-03T15:01:32.478133",
     "status": "completed"
    },
    "tags": []
   },
   "outputs": [],
   "source": [
    "# 欠損値補間：数値データ 平均値補完\n",
    "x_train[\"Age\"] = x_train[\"Age\"].fillna(x_train[\"Age\"].mean())\n",
    "\n",
    "# 欠損値補間：カテゴリ変数　最頻値補完\n",
    "x_train[\"Embarked\"] = x_train[\"Embarked\"].fillna(x_train[\"Embarked\"].mode()[0])"
   ]
  },
  {
   "cell_type": "code",
   "execution_count": 12,
   "id": "973c09e9",
   "metadata": {
    "execution": {
     "iopub.execute_input": "2023-04-03T15:01:32.563493Z",
     "iopub.status.busy": "2023-04-03T15:01:32.563079Z",
     "iopub.status.idle": "2023-04-03T15:01:32.575424Z",
     "shell.execute_reply": "2023-04-03T15:01:32.574282Z"
    },
    "papermill": {
     "duration": 0.039221,
     "end_time": "2023-04-03T15:01:32.577945",
     "exception": false,
     "start_time": "2023-04-03T15:01:32.538724",
     "status": "completed"
    },
    "tags": []
   },
   "outputs": [],
   "source": [
    "#カテゴリ変数の数値化（One-hot-encoding）\n",
    "ohe = OneHotEncoder()\n",
    "ohe.fit(x_train[[\"Embarked\"]])\n",
    "df_embarked = pd.DataFrame(\n",
    "    ohe.transform(x_train[[\"Embarked\"]]).toarray(), \n",
    "    columns=[\"Embarked_{}\".format(col) for col in ohe.categories_[0]])\n",
    "\n",
    "x_train = pd.concat([x_train, df_embarked], axis=1)\n",
    "x_train = x_train.drop(columns=[\"Embarked\"])"
   ]
  },
  {
   "cell_type": "code",
   "execution_count": 13,
   "id": "5fc5e95b",
   "metadata": {
    "execution": {
     "iopub.execute_input": "2023-04-03T15:01:32.626241Z",
     "iopub.status.busy": "2023-04-03T15:01:32.625779Z",
     "iopub.status.idle": "2023-04-03T15:01:32.634195Z",
     "shell.execute_reply": "2023-04-03T15:01:32.632857Z"
    },
    "papermill": {
     "duration": 0.035283,
     "end_time": "2023-04-03T15:01:32.636807",
     "exception": false,
     "start_time": "2023-04-03T15:01:32.601524",
     "status": "completed"
    },
    "tags": []
   },
   "outputs": [],
   "source": [
    "#数値データの正規化\n",
    "x_train[\"Pclass\"] = (x_train[\"Pclass\"] -x_train[\"Pclass\"].min()) / (x_train[\"Pclass\"].max() - x_train[\"Pclass\"].min()) \n",
    "x_train[\"Age\"] = (x_train[\"Age\"] -x_train[\"Age\"].min()) / (x_train[\"Age\"].max() - x_train[\"Age\"].min()) "
   ]
  },
  {
   "cell_type": "code",
   "execution_count": 14,
   "id": "cce2e5b0",
   "metadata": {
    "execution": {
     "iopub.execute_input": "2023-04-03T15:01:32.684976Z",
     "iopub.status.busy": "2023-04-03T15:01:32.684544Z",
     "iopub.status.idle": "2023-04-03T15:01:32.699712Z",
     "shell.execute_reply": "2023-04-03T15:01:32.697876Z"
    },
    "papermill": {
     "duration": 0.042946,
     "end_time": "2023-04-03T15:01:32.702705",
     "exception": false,
     "start_time": "2023-04-03T15:01:32.659759",
     "status": "completed"
    },
    "tags": []
   },
   "outputs": [
    {
     "name": "stdout",
     "output_type": "stream",
     "text": [
      "(712, 5) (179, 5) (712, 1) (179, 1)\n"
     ]
    }
   ],
   "source": [
    "#学習データと検証データの分割（ホールドアウト法）\n",
    "x_tr, x_va, y_tr, y_va = train_test_split(x_train, y_train, test_size=0.2, stratify=y_train, random_state=123)\n",
    "print(x_tr.shape, x_va.shape, y_tr.shape, y_va.shape)"
   ]
  },
  {
   "cell_type": "code",
   "execution_count": 15,
   "id": "62c32125",
   "metadata": {
    "execution": {
     "iopub.execute_input": "2023-04-03T15:01:32.749769Z",
     "iopub.status.busy": "2023-04-03T15:01:32.749363Z",
     "iopub.status.idle": "2023-04-03T15:01:32.862397Z",
     "shell.execute_reply": "2023-04-03T15:01:32.860932Z"
    },
    "papermill": {
     "duration": 0.140099,
     "end_time": "2023-04-03T15:01:32.865385",
     "exception": false,
     "start_time": "2023-04-03T15:01:32.725286",
     "status": "completed"
    },
    "tags": []
   },
   "outputs": [
    {
     "name": "stdout",
     "output_type": "stream",
     "text": [
      "accuracy:0.7263\n",
      "[0 1 0 1 0]\n"
     ]
    }
   ],
   "source": [
    "#LogisticRegression ロジスティクス回帰\n",
    "# モデル定義\n",
    "from sklearn.linear_model import LogisticRegression\n",
    "model_logis = LogisticRegression()\n",
    "\n",
    "# 学習\n",
    "model_logis.fit(x_tr, y_tr)\n",
    "\n",
    "# 予測\n",
    "y_va_pred = model_logis.predict(x_va)\n",
    "print(\"accuracy:{:.4f}\".format(accuracy_score(y_va, y_va_pred)))\n",
    "print(y_va_pred[:5])"
   ]
  },
  {
   "cell_type": "code",
   "execution_count": 16,
   "id": "69232af7",
   "metadata": {
    "execution": {
     "iopub.execute_input": "2023-04-03T15:01:32.912750Z",
     "iopub.status.busy": "2023-04-03T15:01:32.912351Z",
     "iopub.status.idle": "2023-04-03T15:01:32.920469Z",
     "shell.execute_reply": "2023-04-03T15:01:32.919117Z"
    },
    "papermill": {
     "duration": 0.035246,
     "end_time": "2023-04-03T15:01:32.923376",
     "exception": false,
     "start_time": "2023-04-03T15:01:32.888130",
     "status": "completed"
    },
    "tags": []
   },
   "outputs": [
    {
     "name": "stdout",
     "output_type": "stream",
     "text": [
      "[[0.83621285 0.16378715]\n",
      " [0.23058311 0.76941689]\n",
      " [0.83244141 0.16755859]\n",
      " [0.32227072 0.67772928]\n",
      " [0.62569522 0.37430478]]\n"
     ]
    }
   ],
   "source": [
    "#確率値の取得\n",
    "y_va_pred_proba = model_logis.predict_proba(x_va)\n",
    "print(y_va_pred_proba[:5, :])"
   ]
  },
  {
   "cell_type": "code",
   "execution_count": 17,
   "id": "42bb96b2",
   "metadata": {
    "execution": {
     "iopub.execute_input": "2023-04-03T15:01:32.979513Z",
     "iopub.status.busy": "2023-04-03T15:01:32.978979Z",
     "iopub.status.idle": "2023-04-03T15:01:33.125985Z",
     "shell.execute_reply": "2023-04-03T15:01:33.124365Z"
    },
    "papermill": {
     "duration": 0.180752,
     "end_time": "2023-04-03T15:01:33.128684",
     "exception": false,
     "start_time": "2023-04-03T15:01:32.947932",
     "status": "completed"
    },
    "tags": []
   },
   "outputs": [
    {
     "name": "stdout",
     "output_type": "stream",
     "text": [
      "accuracy:0.7151\n",
      "[0 1 0 1 0]\n",
      "[[0.73985924 0.26014076]\n",
      " [0.28242534 0.71757466]\n",
      " [0.73986177 0.26013823]\n",
      " [0.26828214 0.73171786]\n",
      " [0.58950192 0.41049808]]\n"
     ]
    }
   ],
   "source": [
    "#Titanicデータを用いた例：SVM\n",
    "# モデル定義\n",
    "from sklearn.svm import SVC\n",
    "model_svm = SVC(C=1.0, random_state=123, probability=True)#確率値の計算するパラメータをTrue\n",
    "\n",
    "# 学習\n",
    "model_svm.fit(x_tr, y_tr)\n",
    "\n",
    "# 予測\n",
    "y_va_pred = model_svm.predict(x_va)\n",
    "print(\"accuracy:{:.4f}\".format(accuracy_score(y_va, y_va_pred)))\n",
    "print(y_va_pred[:5])\n",
    "\n",
    "# 確率値の取得\n",
    "y_va_pred_proba = model_svm.predict_proba(x_va)\n",
    "print(y_va_pred_proba[:5, :])"
   ]
  },
  {
   "cell_type": "markdown",
   "id": "39748f94",
   "metadata": {
    "papermill": {
     "duration": 0.022396,
     "end_time": "2023-04-03T15:01:33.174206",
     "exception": false,
     "start_time": "2023-04-03T15:01:33.151810",
     "status": "completed"
    },
    "tags": []
   },
   "source": [
    "# ニューラルネットワーク\n",
    "### ニューラルネットワークの適用例：①全結合層のみのネットワークモデル"
   ]
  },
  {
   "cell_type": "code",
   "execution_count": 18,
   "id": "53e61282",
   "metadata": {
    "execution": {
     "iopub.execute_input": "2023-04-03T15:01:33.221740Z",
     "iopub.status.busy": "2023-04-03T15:01:33.221325Z",
     "iopub.status.idle": "2023-04-03T15:01:42.129298Z",
     "shell.execute_reply": "2023-04-03T15:01:42.128062Z"
    },
    "papermill": {
     "duration": 8.935304,
     "end_time": "2023-04-03T15:01:42.132171",
     "exception": false,
     "start_time": "2023-04-03T15:01:33.196867",
     "status": "completed"
    },
    "tags": []
   },
   "outputs": [],
   "source": [
    "#Tensorflowインポート\n",
    "import tensorflow as tf\n",
    "from tensorflow.keras.models import Sequential, Model\n",
    "from tensorflow.keras.layers import Input, Dense, Dropout, BatchNormalization\n",
    "from tensorflow.keras.layers import Embedding, Flatten, Concatenate\n",
    "from tensorflow.keras.callbacks import EarlyStopping, ModelCheckpoint, ReduceLROnPlateau, LearningRateScheduler\n",
    "from tensorflow.keras.optimizers import Adam, SGD"
   ]
  },
  {
   "cell_type": "code",
   "execution_count": 19,
   "id": "7deb9d5f",
   "metadata": {
    "execution": {
     "iopub.execute_input": "2023-04-03T15:01:42.180698Z",
     "iopub.status.busy": "2023-04-03T15:01:42.179622Z",
     "iopub.status.idle": "2023-04-03T15:01:42.188206Z",
     "shell.execute_reply": "2023-04-03T15:01:42.186936Z"
    },
    "papermill": {
     "duration": 0.035569,
     "end_time": "2023-04-03T15:01:42.190880",
     "exception": false,
     "start_time": "2023-04-03T15:01:42.155311",
     "status": "completed"
    },
    "tags": []
   },
   "outputs": [],
   "source": [
    "# tensorflowの再現性のためのシード指定\n",
    "def seed_everything(seed):\n",
    "    import random\n",
    "    random.seed(seed)\n",
    "    os.environ['PYTHONHASHSEED'] = str(seed)\n",
    "    np.random.seed(seed)\n",
    "    tf.random.set_seed(seed)\n",
    "    session_conf = tf.compat.v1.ConfigProto(\n",
    "        intra_op_parallelism_threads=1,\n",
    "        inter_op_parallelism_threads=1\n",
    "    )\n",
    "    sess = tf.compat.v1.Session(graph=tf.compat.v1.get_default_graph(), config=session_conf)\n",
    "    tf.compat.v1.keras.backend.set_session(sess)"
   ]
  },
  {
   "cell_type": "code",
   "execution_count": 20,
   "id": "1e1a72af",
   "metadata": {
    "execution": {
     "iopub.execute_input": "2023-04-03T15:01:42.238884Z",
     "iopub.status.busy": "2023-04-03T15:01:42.238482Z",
     "iopub.status.idle": "2023-04-03T15:01:42.253349Z",
     "shell.execute_reply": "2023-04-03T15:01:42.252256Z"
    },
    "papermill": {
     "duration": 0.042114,
     "end_time": "2023-04-03T15:01:42.256183",
     "exception": false,
     "start_time": "2023-04-03T15:01:42.214069",
     "status": "completed"
    },
    "tags": []
   },
   "outputs": [],
   "source": [
    "# ファイル読み込み\n",
    "df_train = pd.read_csv(\"../input/titanic/train.csv\")\n",
    "\n",
    "# データセット作成\n",
    "x_train = df_train[[\"Pclass\", \"Age\", \"Embarked\"]]\n",
    "y_train = df_train[[\"Survived\"]]"
   ]
  },
  {
   "cell_type": "code",
   "execution_count": 21,
   "id": "a03fda2f",
   "metadata": {
    "execution": {
     "iopub.execute_input": "2023-04-03T15:01:42.304040Z",
     "iopub.status.busy": "2023-04-03T15:01:42.303609Z",
     "iopub.status.idle": "2023-04-03T15:01:42.314645Z",
     "shell.execute_reply": "2023-04-03T15:01:42.313615Z"
    },
    "papermill": {
     "duration": 0.038017,
     "end_time": "2023-04-03T15:01:42.317255",
     "exception": false,
     "start_time": "2023-04-03T15:01:42.279238",
     "status": "completed"
    },
    "tags": []
   },
   "outputs": [],
   "source": [
    "# 欠損値補間 平均値補完\n",
    "x_train[\"Age\"] = x_train[\"Age\"].fillna(x_train[\"Age\"].mean())\n",
    "\n",
    "# 正規化　補完後に0~1に間になるように正規化\n",
    "for col in [\"Pclass\", \"Age\"]:\n",
    "    value_min = x_train[col].min()\n",
    "    value_max = x_train[col].max()\n",
    "    x_train[col] = (x_train[col] - value_min) / (value_max - value_min)"
   ]
  },
  {
   "cell_type": "code",
   "execution_count": 22,
   "id": "9bc80f1a",
   "metadata": {
    "execution": {
     "iopub.execute_input": "2023-04-03T15:01:42.366023Z",
     "iopub.status.busy": "2023-04-03T15:01:42.365590Z",
     "iopub.status.idle": "2023-04-03T15:01:42.382117Z",
     "shell.execute_reply": "2023-04-03T15:01:42.380925Z"
    },
    "papermill": {
     "duration": 0.043592,
     "end_time": "2023-04-03T15:01:42.384473",
     "exception": false,
     "start_time": "2023-04-03T15:01:42.340881",
     "status": "completed"
    },
    "tags": []
   },
   "outputs": [],
   "source": [
    "# 欠損値補間　最頻値で補完\n",
    "x_train[\"Embarked\"] = x_train[\"Embarked\"].fillna(x_train[\"Embarked\"].mode()[0])\n",
    "\n",
    "# one-hot-encodingで変換\n",
    "ohe = OneHotEncoder()\n",
    "ohe.fit(x_train[[\"Embarked\"]])\n",
    "df_embarked = pd.DataFrame(ohe.transform(x_train[[\"Embarked\"]]).toarray(), \n",
    "                           columns=[\"Embarked_{}\".format(col) for col in ohe.categories_[0]])\n",
    "x_train = pd.concat([x_train.drop(columns=[\"Embarked\"]), \n",
    "                     df_embarked], axis=1)"
   ]
  },
  {
   "cell_type": "code",
   "execution_count": 23,
   "id": "9cbdf26a",
   "metadata": {
    "execution": {
     "iopub.execute_input": "2023-04-03T15:01:42.432403Z",
     "iopub.status.busy": "2023-04-03T15:01:42.431981Z",
     "iopub.status.idle": "2023-04-03T15:01:42.448569Z",
     "shell.execute_reply": "2023-04-03T15:01:42.447045Z"
    },
    "papermill": {
     "duration": 0.043638,
     "end_time": "2023-04-03T15:01:42.451201",
     "exception": false,
     "start_time": "2023-04-03T15:01:42.407563",
     "status": "completed"
    },
    "tags": []
   },
   "outputs": [
    {
     "name": "stdout",
     "output_type": "stream",
     "text": [
      "(712, 5) (179, 5) (712, 1) (179, 1)\n"
     ]
    }
   ],
   "source": [
    "# 学習データと検証データの分割\n",
    "x_tr, x_va, y_tr, y_va = train_test_split(x_train, y_train, test_size=0.2, stratify=y_train, random_state=123)\n",
    "print(x_tr.shape, x_va.shape, y_tr.shape, y_va.shape)"
   ]
  },
  {
   "cell_type": "code",
   "execution_count": 24,
   "id": "5d7b3b8c",
   "metadata": {
    "execution": {
     "iopub.execute_input": "2023-04-03T15:01:42.498862Z",
     "iopub.status.busy": "2023-04-03T15:01:42.498457Z",
     "iopub.status.idle": "2023-04-03T15:01:42.819821Z",
     "shell.execute_reply": "2023-04-03T15:01:42.818402Z"
    },
    "papermill": {
     "duration": 0.355438,
     "end_time": "2023-04-03T15:01:42.829447",
     "exception": false,
     "start_time": "2023-04-03T15:01:42.474009",
     "status": "completed"
    },
    "tags": []
   },
   "outputs": [
    {
     "name": "stdout",
     "output_type": "stream",
     "text": [
      "Model: \"model\"\n",
      "_________________________________________________________________\n",
      " Layer (type)                Output Shape              Param #   \n",
      "=================================================================\n",
      " input_1 (InputLayer)        [(None, 5)]               0         \n",
      "                                                                 \n",
      " dense (Dense)               (None, 10)                60        \n",
      "                                                                 \n",
      " batch_normalization (BatchN  (None, 10)               40        \n",
      " ormalization)                                                   \n",
      "                                                                 \n",
      " dropout (Dropout)           (None, 10)                0         \n",
      "                                                                 \n",
      " dense_1 (Dense)             (None, 10)                110       \n",
      "                                                                 \n",
      " batch_normalization_1 (Batc  (None, 10)               40        \n",
      " hNormalization)                                                 \n",
      "                                                                 \n",
      " dropout_1 (Dropout)         (None, 10)                0         \n",
      "                                                                 \n",
      " dense_2 (Dense)             (None, 5)                 55        \n",
      "                                                                 \n",
      " batch_normalization_2 (Batc  (None, 5)                20        \n",
      " hNormalization)                                                 \n",
      "                                                                 \n",
      " dropout_2 (Dropout)         (None, 5)                 0         \n",
      "                                                                 \n",
      " dense_3 (Dense)             (None, 1)                 6         \n",
      "                                                                 \n",
      "=================================================================\n",
      "Total params: 331\n",
      "Trainable params: 281\n",
      "Non-trainable params: 50\n",
      "_________________________________________________________________\n"
     ]
    }
   ],
   "source": [
    "#モデル定義　カラム数5:入力ノード5 隠れ層=3 10/10/5\n",
    "def create_model():\n",
    "    input_num = Input(shape=(5,))\n",
    "    x_num = Dense(10, activation=\"relu\")(input_num)\n",
    "    x_num = BatchNormalization()(x_num)\n",
    "    x_num = Dropout(0.3)(x_num)\n",
    "    x_num = Dense(10, activation=\"relu\")(x_num)\n",
    "    x_num = BatchNormalization()(x_num)\n",
    "    x_num = Dropout(0.2)(x_num)\n",
    "    x_num = Dense(5, activation=\"relu\")(x_num)\n",
    "    x_num = BatchNormalization()(x_num)\n",
    "    x_num = Dropout(0.1)(x_num)\n",
    "    out = Dense(1, activation=\"sigmoid\")(x_num)\n",
    "\n",
    "    model = Model(inputs=input_num,\n",
    "                  outputs=out,\n",
    "                 )\n",
    "\n",
    "    model.compile(\n",
    "        optimizer=\"Adam\",\n",
    "        loss=\"binary_crossentropy\",\n",
    "        metrics=[\"binary_crossentropy\"],\n",
    "    )\n",
    "    \n",
    "    return model\n",
    "\n",
    "model = create_model()\n",
    "model.summary()"
   ]
  },
  {
   "cell_type": "code",
   "execution_count": 25,
   "id": "9dd7cb8c",
   "metadata": {
    "execution": {
     "iopub.execute_input": "2023-04-03T15:01:42.882632Z",
     "iopub.status.busy": "2023-04-03T15:01:42.882223Z",
     "iopub.status.idle": "2023-04-03T15:01:59.166128Z",
     "shell.execute_reply": "2023-04-03T15:01:59.164767Z"
    },
    "papermill": {
     "duration": 16.313804,
     "end_time": "2023-04-03T15:01:59.169113",
     "exception": false,
     "start_time": "2023-04-03T15:01:42.855309",
     "status": "completed"
    },
    "tags": []
   },
   "outputs": [
    {
     "name": "stdout",
     "output_type": "stream",
     "text": [
      "Epoch 1/10000\n",
      "72/89 [=======================>......] - ETA: 0s - loss: 0.7317 - binary_crossentropy: 0.7317\n",
      "Epoch 1: val_loss improved from inf to 0.68175, saving model to model_keras.h5\n",
      "89/89 [==============================] - 3s 7ms/step - loss: 0.7268 - binary_crossentropy: 0.7268 - val_loss: 0.6818 - val_binary_crossentropy: 0.6818 - lr: 0.0010\n",
      "Epoch 2/10000\n",
      "89/89 [==============================] - ETA: 0s - loss: 0.6753 - binary_crossentropy: 0.6753\n",
      "Epoch 2: val_loss improved from 0.68175 to 0.66809, saving model to model_keras.h5\n",
      "89/89 [==============================] - 0s 4ms/step - loss: 0.6753 - binary_crossentropy: 0.6753 - val_loss: 0.6681 - val_binary_crossentropy: 0.6681 - lr: 0.0010\n",
      "Epoch 3/10000\n",
      "87/89 [============================>.] - ETA: 0s - loss: 0.6838 - binary_crossentropy: 0.6838\n",
      "Epoch 3: val_loss improved from 0.66809 to 0.65506, saving model to model_keras.h5\n",
      "89/89 [==============================] - 0s 4ms/step - loss: 0.6801 - binary_crossentropy: 0.6801 - val_loss: 0.6551 - val_binary_crossentropy: 0.6551 - lr: 0.0010\n",
      "Epoch 4/10000\n",
      "74/89 [=======================>......] - ETA: 0s - loss: 0.6525 - binary_crossentropy: 0.6525\n",
      "Epoch 4: val_loss improved from 0.65506 to 0.63972, saving model to model_keras.h5\n",
      "89/89 [==============================] - 0s 4ms/step - loss: 0.6525 - binary_crossentropy: 0.6525 - val_loss: 0.6397 - val_binary_crossentropy: 0.6397 - lr: 0.0010\n",
      "Epoch 5/10000\n",
      "71/89 [======================>.......] - ETA: 0s - loss: 0.6581 - binary_crossentropy: 0.6581\n",
      "Epoch 5: val_loss improved from 0.63972 to 0.62351, saving model to model_keras.h5\n",
      "89/89 [==============================] - 0s 3ms/step - loss: 0.6537 - binary_crossentropy: 0.6537 - val_loss: 0.6235 - val_binary_crossentropy: 0.6235 - lr: 0.0010\n",
      "Epoch 6/10000\n",
      "74/89 [=======================>......] - ETA: 0s - loss: 0.6579 - binary_crossentropy: 0.6579\n",
      "Epoch 6: val_loss improved from 0.62351 to 0.61782, saving model to model_keras.h5\n",
      "89/89 [==============================] - 0s 3ms/step - loss: 0.6616 - binary_crossentropy: 0.6616 - val_loss: 0.6178 - val_binary_crossentropy: 0.6178 - lr: 0.0010\n",
      "Epoch 7/10000\n",
      "76/89 [========================>.....] - ETA: 0s - loss: 0.6578 - binary_crossentropy: 0.6578\n",
      "Epoch 7: val_loss improved from 0.61782 to 0.61302, saving model to model_keras.h5\n",
      "89/89 [==============================] - 0s 3ms/step - loss: 0.6618 - binary_crossentropy: 0.6618 - val_loss: 0.6130 - val_binary_crossentropy: 0.6130 - lr: 0.0010\n",
      "Epoch 8/10000\n",
      "73/89 [=======================>......] - ETA: 0s - loss: 0.6521 - binary_crossentropy: 0.6521\n",
      "Epoch 8: val_loss did not improve from 0.61302\n",
      "89/89 [==============================] - 0s 3ms/step - loss: 0.6429 - binary_crossentropy: 0.6429 - val_loss: 0.6176 - val_binary_crossentropy: 0.6176 - lr: 0.0010\n",
      "Epoch 9/10000\n",
      "70/89 [======================>.......] - ETA: 0s - loss: 0.6481 - binary_crossentropy: 0.6481\n",
      "Epoch 9: val_loss did not improve from 0.61302\n",
      "89/89 [==============================] - 0s 3ms/step - loss: 0.6470 - binary_crossentropy: 0.6470 - val_loss: 0.6133 - val_binary_crossentropy: 0.6133 - lr: 0.0010\n",
      "Epoch 10/10000\n",
      "72/89 [=======================>......] - ETA: 0s - loss: 0.6306 - binary_crossentropy: 0.6306\n",
      "Epoch 10: val_loss improved from 0.61302 to 0.60942, saving model to model_keras.h5\n",
      "89/89 [==============================] - 0s 3ms/step - loss: 0.6256 - binary_crossentropy: 0.6256 - val_loss: 0.6094 - val_binary_crossentropy: 0.6094 - lr: 0.0010\n",
      "Epoch 11/10000\n",
      "75/89 [========================>.....] - ETA: 0s - loss: 0.6426 - binary_crossentropy: 0.6426\n",
      "Epoch 11: val_loss improved from 0.60942 to 0.60898, saving model to model_keras.h5\n",
      "89/89 [==============================] - 0s 3ms/step - loss: 0.6464 - binary_crossentropy: 0.6464 - val_loss: 0.6090 - val_binary_crossentropy: 0.6090 - lr: 0.0010\n",
      "Epoch 12/10000\n",
      "74/89 [=======================>......] - ETA: 0s - loss: 0.6434 - binary_crossentropy: 0.6434\n",
      "Epoch 12: val_loss improved from 0.60898 to 0.60505, saving model to model_keras.h5\n",
      "89/89 [==============================] - 0s 3ms/step - loss: 0.6384 - binary_crossentropy: 0.6384 - val_loss: 0.6050 - val_binary_crossentropy: 0.6050 - lr: 0.0010\n",
      "Epoch 13/10000\n",
      "79/89 [=========================>....] - ETA: 0s - loss: 0.6455 - binary_crossentropy: 0.6455\n",
      "Epoch 13: val_loss did not improve from 0.60505\n",
      "89/89 [==============================] - 0s 3ms/step - loss: 0.6457 - binary_crossentropy: 0.6457 - val_loss: 0.6105 - val_binary_crossentropy: 0.6105 - lr: 0.0010\n",
      "Epoch 14/10000\n",
      "77/89 [========================>.....] - ETA: 0s - loss: 0.6172 - binary_crossentropy: 0.6172\n",
      "Epoch 14: val_loss improved from 0.60505 to 0.60114, saving model to model_keras.h5\n",
      "89/89 [==============================] - 0s 3ms/step - loss: 0.6205 - binary_crossentropy: 0.6205 - val_loss: 0.6011 - val_binary_crossentropy: 0.6011 - lr: 0.0010\n",
      "Epoch 15/10000\n",
      "75/89 [========================>.....] - ETA: 0s - loss: 0.6180 - binary_crossentropy: 0.6180\n",
      "Epoch 15: val_loss improved from 0.60114 to 0.59787, saving model to model_keras.h5\n",
      "89/89 [==============================] - 0s 3ms/step - loss: 0.6207 - binary_crossentropy: 0.6207 - val_loss: 0.5979 - val_binary_crossentropy: 0.5979 - lr: 0.0010\n",
      "Epoch 16/10000\n",
      "76/89 [========================>.....] - ETA: 0s - loss: 0.6039 - binary_crossentropy: 0.6039\n",
      "Epoch 16: val_loss improved from 0.59787 to 0.59392, saving model to model_keras.h5\n",
      "89/89 [==============================] - 0s 3ms/step - loss: 0.6106 - binary_crossentropy: 0.6106 - val_loss: 0.5939 - val_binary_crossentropy: 0.5939 - lr: 0.0010\n",
      "Epoch 17/10000\n",
      "77/89 [========================>.....] - ETA: 0s - loss: 0.6135 - binary_crossentropy: 0.6135\n",
      "Epoch 17: val_loss did not improve from 0.59392\n",
      "89/89 [==============================] - 0s 3ms/step - loss: 0.6239 - binary_crossentropy: 0.6239 - val_loss: 0.5956 - val_binary_crossentropy: 0.5956 - lr: 0.0010\n",
      "Epoch 18/10000\n",
      "78/89 [=========================>....] - ETA: 0s - loss: 0.6183 - binary_crossentropy: 0.6183\n",
      "Epoch 18: val_loss improved from 0.59392 to 0.59010, saving model to model_keras.h5\n",
      "89/89 [==============================] - 0s 3ms/step - loss: 0.6211 - binary_crossentropy: 0.6211 - val_loss: 0.5901 - val_binary_crossentropy: 0.5901 - lr: 0.0010\n",
      "Epoch 19/10000\n",
      "77/89 [========================>.....] - ETA: 0s - loss: 0.6149 - binary_crossentropy: 0.6149\n",
      "Epoch 19: val_loss did not improve from 0.59010\n",
      "89/89 [==============================] - 0s 3ms/step - loss: 0.6094 - binary_crossentropy: 0.6094 - val_loss: 0.5921 - val_binary_crossentropy: 0.5921 - lr: 0.0010\n",
      "Epoch 20/10000\n",
      "74/89 [=======================>......] - ETA: 0s - loss: 0.6219 - binary_crossentropy: 0.6219\n",
      "Epoch 20: val_loss did not improve from 0.59010\n",
      "89/89 [==============================] - 0s 3ms/step - loss: 0.6241 - binary_crossentropy: 0.6241 - val_loss: 0.5931 - val_binary_crossentropy: 0.5931 - lr: 0.0010\n",
      "Epoch 21/10000\n",
      "73/89 [=======================>......] - ETA: 0s - loss: 0.6331 - binary_crossentropy: 0.6331\n",
      "Epoch 21: val_loss did not improve from 0.59010\n",
      "89/89 [==============================] - 0s 3ms/step - loss: 0.6294 - binary_crossentropy: 0.6294 - val_loss: 0.5921 - val_binary_crossentropy: 0.5921 - lr: 0.0010\n",
      "Epoch 22/10000\n",
      "89/89 [==============================] - ETA: 0s - loss: 0.6340 - binary_crossentropy: 0.6340\n",
      "Epoch 22: val_loss improved from 0.59010 to 0.58465, saving model to model_keras.h5\n",
      "89/89 [==============================] - 0s 4ms/step - loss: 0.6340 - binary_crossentropy: 0.6340 - val_loss: 0.5847 - val_binary_crossentropy: 0.5847 - lr: 0.0010\n",
      "Epoch 23/10000\n",
      "71/89 [======================>.......] - ETA: 0s - loss: 0.6172 - binary_crossentropy: 0.6172\n",
      "Epoch 23: val_loss did not improve from 0.58465\n",
      "89/89 [==============================] - 0s 3ms/step - loss: 0.6204 - binary_crossentropy: 0.6204 - val_loss: 0.5853 - val_binary_crossentropy: 0.5853 - lr: 0.0010\n",
      "Epoch 24/10000\n",
      "76/89 [========================>.....] - ETA: 0s - loss: 0.6379 - binary_crossentropy: 0.6379\n",
      "Epoch 24: val_loss did not improve from 0.58465\n",
      "89/89 [==============================] - 0s 3ms/step - loss: 0.6310 - binary_crossentropy: 0.6310 - val_loss: 0.5857 - val_binary_crossentropy: 0.5857 - lr: 0.0010\n",
      "Epoch 25/10000\n",
      "69/89 [======================>.......] - ETA: 0s - loss: 0.6169 - binary_crossentropy: 0.6169\n",
      "Epoch 25: val_loss improved from 0.58465 to 0.58073, saving model to model_keras.h5\n",
      "89/89 [==============================] - 0s 4ms/step - loss: 0.6174 - binary_crossentropy: 0.6174 - val_loss: 0.5807 - val_binary_crossentropy: 0.5807 - lr: 0.0010\n",
      "Epoch 26/10000\n",
      "66/89 [=====================>........] - ETA: 0s - loss: 0.6319 - binary_crossentropy: 0.6319\n",
      "Epoch 26: val_loss did not improve from 0.58073\n",
      "89/89 [==============================] - 0s 3ms/step - loss: 0.6162 - binary_crossentropy: 0.6162 - val_loss: 0.5822 - val_binary_crossentropy: 0.5822 - lr: 0.0010\n",
      "Epoch 27/10000\n",
      "85/89 [===========================>..] - ETA: 0s - loss: 0.6169 - binary_crossentropy: 0.6169\n",
      "Epoch 27: val_loss did not improve from 0.58073\n",
      "89/89 [==============================] - 0s 3ms/step - loss: 0.6202 - binary_crossentropy: 0.6202 - val_loss: 0.5820 - val_binary_crossentropy: 0.5820 - lr: 0.0010\n",
      "Epoch 28/10000\n",
      "74/89 [=======================>......] - ETA: 0s - loss: 0.6245 - binary_crossentropy: 0.6245\n",
      "Epoch 28: val_loss did not improve from 0.58073\n",
      "89/89 [==============================] - 0s 3ms/step - loss: 0.6280 - binary_crossentropy: 0.6280 - val_loss: 0.5812 - val_binary_crossentropy: 0.5812 - lr: 0.0010\n",
      "Epoch 29/10000\n",
      "66/89 [=====================>........] - ETA: 0s - loss: 0.6080 - binary_crossentropy: 0.6080\n",
      "Epoch 29: val_loss did not improve from 0.58073\n",
      "89/89 [==============================] - 0s 3ms/step - loss: 0.6077 - binary_crossentropy: 0.6077 - val_loss: 0.5809 - val_binary_crossentropy: 0.5809 - lr: 0.0010\n",
      "Epoch 30/10000\n",
      "87/89 [============================>.] - ETA: 0s - loss: 0.5976 - binary_crossentropy: 0.5976\n",
      "Epoch 30: val_loss improved from 0.58073 to 0.58053, saving model to model_keras.h5\n",
      "89/89 [==============================] - 0s 4ms/step - loss: 0.5991 - binary_crossentropy: 0.5991 - val_loss: 0.5805 - val_binary_crossentropy: 0.5805 - lr: 0.0010\n",
      "Epoch 31/10000\n",
      "72/89 [=======================>......] - ETA: 0s - loss: 0.6373 - binary_crossentropy: 0.6373\n",
      "Epoch 31: val_loss improved from 0.58053 to 0.58032, saving model to model_keras.h5\n",
      "89/89 [==============================] - 0s 4ms/step - loss: 0.6294 - binary_crossentropy: 0.6294 - val_loss: 0.5803 - val_binary_crossentropy: 0.5803 - lr: 0.0010\n",
      "Epoch 32/10000\n",
      "85/89 [===========================>..] - ETA: 0s - loss: 0.6326 - binary_crossentropy: 0.6326\n",
      "Epoch 32: val_loss did not improve from 0.58032\n",
      "89/89 [==============================] - 0s 3ms/step - loss: 0.6325 - binary_crossentropy: 0.6325 - val_loss: 0.5820 - val_binary_crossentropy: 0.5820 - lr: 0.0010\n",
      "Epoch 33/10000\n",
      "67/89 [=====================>........] - ETA: 0s - loss: 0.6208 - binary_crossentropy: 0.6208\n",
      "Epoch 33: val_loss did not improve from 0.58032\n",
      "89/89 [==============================] - 0s 3ms/step - loss: 0.6215 - binary_crossentropy: 0.6215 - val_loss: 0.5828 - val_binary_crossentropy: 0.5828 - lr: 0.0010\n",
      "Epoch 34/10000\n",
      "83/89 [==========================>...] - ETA: 0s - loss: 0.6242 - binary_crossentropy: 0.6242\n",
      "Epoch 34: val_loss did not improve from 0.58032\n",
      "89/89 [==============================] - 0s 4ms/step - loss: 0.6225 - binary_crossentropy: 0.6225 - val_loss: 0.5901 - val_binary_crossentropy: 0.5901 - lr: 0.0010\n",
      "Epoch 35/10000\n",
      "87/89 [============================>.] - ETA: 0s - loss: 0.6192 - binary_crossentropy: 0.6192\n",
      "Epoch 35: val_loss did not improve from 0.58032\n",
      "89/89 [==============================] - 0s 3ms/step - loss: 0.6207 - binary_crossentropy: 0.6207 - val_loss: 0.5856 - val_binary_crossentropy: 0.5856 - lr: 0.0010\n",
      "Epoch 36/10000\n",
      "72/89 [=======================>......] - ETA: 0s - loss: 0.6156 - binary_crossentropy: 0.6156\n",
      "Epoch 36: val_loss did not improve from 0.58032\n",
      "\n",
      "Epoch 36: ReduceLROnPlateau reducing learning rate to 0.00010000000474974513.\n",
      "89/89 [==============================] - 0s 3ms/step - loss: 0.6209 - binary_crossentropy: 0.6209 - val_loss: 0.5902 - val_binary_crossentropy: 0.5902 - lr: 0.0010\n",
      "Epoch 37/10000\n",
      "87/89 [============================>.] - ETA: 0s - loss: 0.6027 - binary_crossentropy: 0.6027\n",
      "Epoch 37: val_loss did not improve from 0.58032\n",
      "89/89 [==============================] - 0s 3ms/step - loss: 0.6065 - binary_crossentropy: 0.6065 - val_loss: 0.5845 - val_binary_crossentropy: 0.5845 - lr: 1.0000e-04\n",
      "Epoch 38/10000\n",
      "67/89 [=====================>........] - ETA: 0s - loss: 0.6045 - binary_crossentropy: 0.6045\n",
      "Epoch 38: val_loss did not improve from 0.58032\n",
      "89/89 [==============================] - 0s 3ms/step - loss: 0.6026 - binary_crossentropy: 0.6026 - val_loss: 0.5835 - val_binary_crossentropy: 0.5835 - lr: 1.0000e-04\n",
      "Epoch 39/10000\n",
      "70/89 [======================>.......] - ETA: 0s - loss: 0.6208 - binary_crossentropy: 0.6208\n",
      "Epoch 39: val_loss did not improve from 0.58032\n",
      "89/89 [==============================] - 0s 3ms/step - loss: 0.6204 - binary_crossentropy: 0.6204 - val_loss: 0.5836 - val_binary_crossentropy: 0.5836 - lr: 1.0000e-04\n",
      "Epoch 40/10000\n",
      "70/89 [======================>.......] - ETA: 0s - loss: 0.6127 - binary_crossentropy: 0.6127\n",
      "Epoch 40: val_loss did not improve from 0.58032\n",
      "89/89 [==============================] - 0s 3ms/step - loss: 0.6170 - binary_crossentropy: 0.6170 - val_loss: 0.5829 - val_binary_crossentropy: 0.5829 - lr: 1.0000e-04\n",
      "Epoch 41/10000\n",
      "85/89 [===========================>..] - ETA: 0s - loss: 0.6094 - binary_crossentropy: 0.6094\n",
      "Epoch 41: val_loss did not improve from 0.58032\n",
      "Restoring model weights from the end of the best epoch: 31.\n",
      "\n",
      "Epoch 41: ReduceLROnPlateau reducing learning rate to 1.0000000474974514e-05.\n",
      "89/89 [==============================] - 0s 4ms/step - loss: 0.6096 - binary_crossentropy: 0.6096 - val_loss: 0.5819 - val_binary_crossentropy: 0.5819 - lr: 1.0000e-04\n",
      "Epoch 41: early stopping\n"
     ]
    },
    {
     "data": {
      "text/plain": [
       "<keras.callbacks.History at 0x7f2c36cbeed0>"
      ]
     },
     "execution_count": 25,
     "metadata": {},
     "output_type": "execute_result"
    }
   ],
   "source": [
    "#モデル学習\n",
    "#ミニバッチサイズを8としてlossが5 回連続改善しない場合に学習率を1/10\n",
    "#10回連続改善しなかった場合には強制終了\n",
    "seed_everything(seed=123)\n",
    "model = create_model()\n",
    "model.fit(x=x_tr,\n",
    "          y=y_tr,\n",
    "          validation_data=(x_va, y_va),\n",
    "          batch_size=8,\n",
    "          epochs=10000,\n",
    "          callbacks=[\n",
    "              ModelCheckpoint(filepath=\"model_keras.h5\", monitor=\"val_loss\", mode=\"min\", verbose=1, save_best_only=True, save_weights_only=True),\n",
    "              EarlyStopping(monitor=\"val_loss\", mode=\"min\", min_delta=0, patience=10, verbose=1, restore_best_weights=True),\n",
    "              ReduceLROnPlateau(monitor=\"val_loss\", mode=\"min\", factor=0.1, patience=5, verbose=1),\n",
    "          ],\n",
    "          verbose=1,\n",
    "         )"
   ]
  },
  {
   "cell_type": "code",
   "execution_count": 26,
   "id": "c745ea54",
   "metadata": {
    "execution": {
     "iopub.execute_input": "2023-04-03T15:01:59.262966Z",
     "iopub.status.busy": "2023-04-03T15:01:59.262513Z",
     "iopub.status.idle": "2023-04-03T15:02:07.023701Z",
     "shell.execute_reply": "2023-04-03T15:02:07.022341Z"
    },
    "papermill": {
     "duration": 7.811132,
     "end_time": "2023-04-03T15:02:07.026485",
     "exception": false,
     "start_time": "2023-04-03T15:01:59.215353",
     "status": "completed"
    },
    "tags": []
   },
   "outputs": [
    {
     "name": "stdout",
     "output_type": "stream",
     "text": [
      "23/23 [==============================] - 0s 1ms/step\n",
      "accuracy: 0.7039\n"
     ]
    }
   ],
   "source": [
    "#モデルの評価\n",
    "y_va_pred = model.predict(x_va, batch_size=8, verbose=1)\n",
    "print(\"accuracy: {:.4f}\".format(accuracy_score(y_va, np.where(y_va_pred>=0.5,1,0))))"
   ]
  },
  {
   "cell_type": "markdown",
   "id": "2233b004",
   "metadata": {
    "papermill": {
     "duration": 0.045098,
     "end_time": "2023-04-03T15:02:07.117120",
     "exception": false,
     "start_time": "2023-04-03T15:02:07.072022",
     "status": "completed"
    },
    "tags": []
   },
   "source": [
    "### ニューラルネットワークの適用例：②埋め込み層ありのネットワークモデル"
   ]
  },
  {
   "cell_type": "code",
   "execution_count": 27,
   "id": "012842d7",
   "metadata": {
    "execution": {
     "iopub.execute_input": "2023-04-03T15:02:07.208182Z",
     "iopub.status.busy": "2023-04-03T15:02:07.207446Z",
     "iopub.status.idle": "2023-04-03T15:02:07.222432Z",
     "shell.execute_reply": "2023-04-03T15:02:07.221320Z"
    },
    "papermill": {
     "duration": 0.063857,
     "end_time": "2023-04-03T15:02:07.225155",
     "exception": false,
     "start_time": "2023-04-03T15:02:07.161298",
     "status": "completed"
    },
    "tags": []
   },
   "outputs": [],
   "source": [
    "# ファイル読み込み\n",
    "df_train = pd.read_csv(\"../input/titanic/train.csv\")\n",
    "\n",
    "# データセット作成\n",
    "x_train = df_train[[\"Pclass\", \"Age\", \"Cabin\"]]\n",
    "y_train = df_train[[\"Survived\"]]"
   ]
  },
  {
   "cell_type": "code",
   "execution_count": null,
   "id": "11a739aa",
   "metadata": {
    "papermill": {
     "duration": 0.043789,
     "end_time": "2023-04-03T15:02:07.313163",
     "exception": false,
     "start_time": "2023-04-03T15:02:07.269374",
     "status": "completed"
    },
    "tags": []
   },
   "outputs": [],
   "source": []
  }
 ],
 "metadata": {
  "kernelspec": {
   "display_name": "Python 3",
   "language": "python",
   "name": "python3"
  },
  "language_info": {
   "codemirror_mode": {
    "name": "ipython",
    "version": 3
   },
   "file_extension": ".py",
   "mimetype": "text/x-python",
   "name": "python",
   "nbconvert_exporter": "python",
   "pygments_lexer": "ipython3",
   "version": "3.7.12"
  },
  "papermill": {
   "default_parameters": {},
   "duration": 156.879124,
   "end_time": "2023-04-03T15:02:10.358998",
   "environment_variables": {},
   "exception": null,
   "input_path": "__notebook__.ipynb",
   "output_path": "__notebook__.ipynb",
   "parameters": {},
   "start_time": "2023-04-03T14:59:33.479874",
   "version": "2.4.0"
  }
 },
 "nbformat": 4,
 "nbformat_minor": 5
}
