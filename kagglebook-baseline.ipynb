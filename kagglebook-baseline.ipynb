{
 "cells": [
  {
   "cell_type": "markdown",
   "id": "1d9e4a5f",
   "metadata": {
    "papermill": {
     "duration": 0.007018,
     "end_time": "2023-04-03T15:11:05.182609",
     "exception": false,
     "start_time": "2023-04-03T15:11:05.175591",
     "status": "completed"
    },
    "tags": []
   },
   "source": [
    "# ファイルの読み込み"
   ]
  },
  {
   "cell_type": "code",
   "execution_count": 1,
   "id": "ce3d2727",
   "metadata": {
    "_cell_guid": "b1076dfc-b9ad-4769-8c92-a6c4dae69d19",
    "_uuid": "8f2839f25d086af736a60e9eeb907d3b93b6e0e5",
    "execution": {
     "iopub.execute_input": "2023-04-03T15:11:05.196581Z",
     "iopub.status.busy": "2023-04-03T15:11:05.196154Z",
     "iopub.status.idle": "2023-04-03T15:11:42.553331Z",
     "shell.execute_reply": "2023-04-03T15:11:42.551205Z"
    },
    "papermill": {
     "duration": 37.368122,
     "end_time": "2023-04-03T15:11:42.556659",
     "exception": false,
     "start_time": "2023-04-03T15:11:05.188537",
     "status": "completed"
    },
    "tags": []
   },
   "outputs": [
    {
     "data": {
      "text/html": [
       "<style type='text/css'>\n",
       ".datatable table.frame { margin-bottom: 0; }\n",
       ".datatable table.frame thead { border-bottom: none; }\n",
       ".datatable table.frame tr.coltypes td {  color: #FFFFFF;  line-height: 6px;  padding: 0 0.5em;}\n",
       ".datatable .bool    { background: #DDDD99; }\n",
       ".datatable .object  { background: #565656; }\n",
       ".datatable .int     { background: #5D9E5D; }\n",
       ".datatable .float   { background: #4040CC; }\n",
       ".datatable .str     { background: #CC4040; }\n",
       ".datatable .time    { background: #40CC40; }\n",
       ".datatable .row_index {  background: var(--jp-border-color3);  border-right: 1px solid var(--jp-border-color0);  color: var(--jp-ui-font-color3);  font-size: 9px;}\n",
       ".datatable .frame tbody td { text-align: left; }\n",
       ".datatable .frame tr.coltypes .row_index {  background: var(--jp-border-color0);}\n",
       ".datatable th:nth-child(2) { padding-left: 12px; }\n",
       ".datatable .hellipsis {  color: var(--jp-cell-editor-border-color);}\n",
       ".datatable .vellipsis {  background: var(--jp-layout-color0);  color: var(--jp-cell-editor-border-color);}\n",
       ".datatable .na {  color: var(--jp-cell-editor-border-color);  font-size: 80%;}\n",
       ".datatable .sp {  opacity: 0.25;}\n",
       ".datatable .footer { font-size: 9px; }\n",
       ".datatable .frame_dimensions {  background: var(--jp-border-color3);  border-top: 1px solid var(--jp-border-color0);  color: var(--jp-ui-font-color3);  display: inline-block;  opacity: 0.6;  padding: 1px 10px 1px 5px;}\n",
       "</style>\n"
      ],
      "text/plain": [
       "<IPython.core.display.HTML object>"
      ]
     },
     "metadata": {},
     "output_type": "display_data"
    },
    {
     "name": "stdout",
     "output_type": "stream",
     "text": [
      "Collecting japanize-matplotlib\r\n",
      "  Downloading japanize-matplotlib-1.1.3.tar.gz (4.1 MB)\r\n",
      "\u001b[2K     \u001b[90m━━━━━━━━━━━━━━━━━━━━━━━━━━━━━━━━━━━━━━━━\u001b[0m \u001b[32m4.1/4.1 MB\u001b[0m \u001b[31m49.7 MB/s\u001b[0m eta \u001b[36m0:00:00\u001b[0m\r\n",
      "\u001b[?25h  Preparing metadata (setup.py) ... \u001b[?25l-\b \bdone\r\n",
      "\u001b[?25hRequirement already satisfied: matplotlib in /opt/conda/lib/python3.7/site-packages (from japanize-matplotlib) (3.5.3)\r\n",
      "Requirement already satisfied: pillow>=6.2.0 in /opt/conda/lib/python3.7/site-packages (from matplotlib->japanize-matplotlib) (9.4.0)\r\n",
      "Requirement already satisfied: cycler>=0.10 in /opt/conda/lib/python3.7/site-packages (from matplotlib->japanize-matplotlib) (0.11.0)\r\n",
      "Requirement already satisfied: pyparsing>=2.2.1 in /opt/conda/lib/python3.7/site-packages (from matplotlib->japanize-matplotlib) (3.0.9)\r\n",
      "Requirement already satisfied: numpy>=1.17 in /opt/conda/lib/python3.7/site-packages (from matplotlib->japanize-matplotlib) (1.21.6)\r\n",
      "Requirement already satisfied: kiwisolver>=1.0.1 in /opt/conda/lib/python3.7/site-packages (from matplotlib->japanize-matplotlib) (1.4.4)\r\n",
      "Requirement already satisfied: python-dateutil>=2.7 in /opt/conda/lib/python3.7/site-packages (from matplotlib->japanize-matplotlib) (2.8.2)\r\n",
      "Requirement already satisfied: fonttools>=4.22.0 in /opt/conda/lib/python3.7/site-packages (from matplotlib->japanize-matplotlib) (4.38.0)\r\n",
      "Requirement already satisfied: packaging>=20.0 in /opt/conda/lib/python3.7/site-packages (from matplotlib->japanize-matplotlib) (23.0)\r\n",
      "Requirement already satisfied: typing-extensions in /opt/conda/lib/python3.7/site-packages (from kiwisolver>=1.0.1->matplotlib->japanize-matplotlib) (4.4.0)\r\n",
      "Requirement already satisfied: six>=1.5 in /opt/conda/lib/python3.7/site-packages (from python-dateutil>=2.7->matplotlib->japanize-matplotlib) (1.16.0)\r\n",
      "Building wheels for collected packages: japanize-matplotlib\r\n",
      "  Building wheel for japanize-matplotlib (setup.py) ... \u001b[?25l-\b \b\\\b \bdone\r\n",
      "\u001b[?25h  Created wheel for japanize-matplotlib: filename=japanize_matplotlib-1.1.3-py3-none-any.whl size=4120275 sha256=7192572ac1054fe7ce9cc196c656e7996e12679ea171c8db551f9d3aead9c65d\r\n",
      "  Stored in directory: /root/.cache/pip/wheels/d3/7d/c5/d3e02382561888f86edabf3256c09b3298f8e24456f8fc4da3\r\n",
      "Successfully built japanize-matplotlib\r\n",
      "Installing collected packages: japanize-matplotlib\r\n",
      "Successfully installed japanize-matplotlib-1.1.3\r\n",
      "\u001b[33mWARNING: Running pip as the 'root' user can result in broken permissions and conflicting behaviour with the system package manager. It is recommended to use a virtual environment instead: https://pip.pypa.io/warnings/venv\u001b[0m\u001b[33m\r\n",
      "\u001b[0mCollecting pandas_profiling==3.2.0\r\n",
      "  Downloading pandas_profiling-3.2.0-py2.py3-none-any.whl (262 kB)\r\n",
      "\u001b[2K     \u001b[90m━━━━━━━━━━━━━━━━━━━━━━━━━━━━━━━━━━━━━━━\u001b[0m \u001b[32m262.6/262.6 kB\u001b[0m \u001b[31m9.6 MB/s\u001b[0m eta \u001b[36m0:00:00\u001b[0m\r\n",
      "\u001b[?25hRequirement already satisfied: pydantic>=1.8.1 in /opt/conda/lib/python3.7/site-packages (from pandas_profiling==3.2.0) (1.10.4)\r\n",
      "Requirement already satisfied: htmlmin>=0.1.12 in /opt/conda/lib/python3.7/site-packages (from pandas_profiling==3.2.0) (0.1.12)\r\n",
      "Requirement already satisfied: missingno>=0.4.2 in /opt/conda/lib/python3.7/site-packages (from pandas_profiling==3.2.0) (0.5.1)\r\n",
      "Requirement already satisfied: numpy>=1.16.0 in /opt/conda/lib/python3.7/site-packages (from pandas_profiling==3.2.0) (1.21.6)\r\n",
      "Requirement already satisfied: markupsafe~=2.1.1 in /opt/conda/lib/python3.7/site-packages (from pandas_profiling==3.2.0) (2.1.1)\r\n",
      "Requirement already satisfied: scipy>=1.4.1 in /opt/conda/lib/python3.7/site-packages (from pandas_profiling==3.2.0) (1.7.3)\r\n",
      "Requirement already satisfied: PyYAML>=5.0.0 in /opt/conda/lib/python3.7/site-packages (from pandas_profiling==3.2.0) (6.0)\r\n",
      "Requirement already satisfied: tangled-up-in-unicode==0.2.0 in /opt/conda/lib/python3.7/site-packages (from pandas_profiling==3.2.0) (0.2.0)\r\n",
      "Requirement already satisfied: jinja2>=2.11.1 in /opt/conda/lib/python3.7/site-packages (from pandas_profiling==3.2.0) (3.1.2)\r\n",
      "Collecting visions[type_image_path]==0.7.4\r\n",
      "  Downloading visions-0.7.4-py3-none-any.whl (102 kB)\r\n",
      "\u001b[2K     \u001b[90m━━━━━━━━━━━━━━━━━━━━━━━━━━━━━━━━━━━━━━━\u001b[0m \u001b[32m102.4/102.4 kB\u001b[0m \u001b[31m8.6 MB/s\u001b[0m eta \u001b[36m0:00:00\u001b[0m\r\n",
      "\u001b[?25hCollecting joblib~=1.1.0\r\n",
      "  Downloading joblib-1.1.1-py2.py3-none-any.whl (309 kB)\r\n",
      "\u001b[2K     \u001b[90m━━━━━━━━━━━━━━━━━━━━━━━━━━━━━━━━━━━━━━\u001b[0m \u001b[32m309.8/309.8 kB\u001b[0m \u001b[31m21.4 MB/s\u001b[0m eta \u001b[36m0:00:00\u001b[0m\r\n",
      "\u001b[?25hRequirement already satisfied: requests>=2.24.0 in /opt/conda/lib/python3.7/site-packages (from pandas_profiling==3.2.0) (2.28.2)\r\n",
      "Requirement already satisfied: tqdm>=4.48.2 in /opt/conda/lib/python3.7/site-packages (from pandas_profiling==3.2.0) (4.64.1)\r\n",
      "Requirement already satisfied: seaborn>=0.10.1 in /opt/conda/lib/python3.7/site-packages (from pandas_profiling==3.2.0) (0.12.2)\r\n",
      "Requirement already satisfied: pandas!=1.0.0,!=1.0.1,!=1.0.2,!=1.1.0,>=0.25.3 in /opt/conda/lib/python3.7/site-packages (from pandas_profiling==3.2.0) (1.3.5)\r\n",
      "Requirement already satisfied: multimethod>=1.4 in /opt/conda/lib/python3.7/site-packages (from pandas_profiling==3.2.0) (1.9.1)\r\n",
      "Requirement already satisfied: matplotlib>=3.2.0 in /opt/conda/lib/python3.7/site-packages (from pandas_profiling==3.2.0) (3.5.3)\r\n",
      "Requirement already satisfied: phik>=0.11.1 in /opt/conda/lib/python3.7/site-packages (from pandas_profiling==3.2.0) (0.12.3)\r\n",
      "Requirement already satisfied: networkx>=2.4 in /opt/conda/lib/python3.7/site-packages (from visions[type_image_path]==0.7.4->pandas_profiling==3.2.0) (2.6.3)\r\n",
      "Requirement already satisfied: attrs>=19.3.0 in /opt/conda/lib/python3.7/site-packages (from visions[type_image_path]==0.7.4->pandas_profiling==3.2.0) (22.2.0)\r\n",
      "Requirement already satisfied: Pillow in /opt/conda/lib/python3.7/site-packages (from visions[type_image_path]==0.7.4->pandas_profiling==3.2.0) (9.4.0)\r\n",
      "Requirement already satisfied: imagehash in /opt/conda/lib/python3.7/site-packages (from visions[type_image_path]==0.7.4->pandas_profiling==3.2.0) (4.3.1)\r\n",
      "Requirement already satisfied: python-dateutil>=2.7 in /opt/conda/lib/python3.7/site-packages (from matplotlib>=3.2.0->pandas_profiling==3.2.0) (2.8.2)\r\n",
      "Requirement already satisfied: fonttools>=4.22.0 in /opt/conda/lib/python3.7/site-packages (from matplotlib>=3.2.0->pandas_profiling==3.2.0) (4.38.0)\r\n",
      "Requirement already satisfied: kiwisolver>=1.0.1 in /opt/conda/lib/python3.7/site-packages (from matplotlib>=3.2.0->pandas_profiling==3.2.0) (1.4.4)\r\n",
      "Requirement already satisfied: cycler>=0.10 in /opt/conda/lib/python3.7/site-packages (from matplotlib>=3.2.0->pandas_profiling==3.2.0) (0.11.0)\r\n",
      "Requirement already satisfied: pyparsing>=2.2.1 in /opt/conda/lib/python3.7/site-packages (from matplotlib>=3.2.0->pandas_profiling==3.2.0) (3.0.9)\r\n",
      "Requirement already satisfied: packaging>=20.0 in /opt/conda/lib/python3.7/site-packages (from matplotlib>=3.2.0->pandas_profiling==3.2.0) (23.0)\r\n",
      "Requirement already satisfied: pytz>=2017.3 in /opt/conda/lib/python3.7/site-packages (from pandas!=1.0.0,!=1.0.1,!=1.0.2,!=1.1.0,>=0.25.3->pandas_profiling==3.2.0) (2022.7.1)\r\n",
      "Requirement already satisfied: typing-extensions>=4.2.0 in /opt/conda/lib/python3.7/site-packages (from pydantic>=1.8.1->pandas_profiling==3.2.0) (4.4.0)\r\n",
      "Requirement already satisfied: certifi>=2017.4.17 in /opt/conda/lib/python3.7/site-packages (from requests>=2.24.0->pandas_profiling==3.2.0) (2022.12.7)\r\n",
      "Requirement already satisfied: charset-normalizer<4,>=2 in /opt/conda/lib/python3.7/site-packages (from requests>=2.24.0->pandas_profiling==3.2.0) (2.1.1)\r\n",
      "Requirement already satisfied: idna<4,>=2.5 in /opt/conda/lib/python3.7/site-packages (from requests>=2.24.0->pandas_profiling==3.2.0) (3.4)\r\n",
      "Requirement already satisfied: urllib3<1.27,>=1.21.1 in /opt/conda/lib/python3.7/site-packages (from requests>=2.24.0->pandas_profiling==3.2.0) (1.26.14)\r\n",
      "Requirement already satisfied: six>=1.5 in /opt/conda/lib/python3.7/site-packages (from python-dateutil>=2.7->matplotlib>=3.2.0->pandas_profiling==3.2.0) (1.16.0)\r\n",
      "Requirement already satisfied: PyWavelets in /opt/conda/lib/python3.7/site-packages (from imagehash->visions[type_image_path]==0.7.4->pandas_profiling==3.2.0) (1.3.0)\r\n",
      "Installing collected packages: joblib, visions, pandas_profiling\r\n",
      "  Attempting uninstall: joblib\r\n",
      "    Found existing installation: joblib 1.2.0\r\n",
      "    Uninstalling joblib-1.2.0:\r\n",
      "      Successfully uninstalled joblib-1.2.0\r\n",
      "  Attempting uninstall: visions\r\n",
      "    Found existing installation: visions 0.7.5\r\n",
      "    Uninstalling visions-0.7.5:\r\n",
      "      Successfully uninstalled visions-0.7.5\r\n",
      "  Attempting uninstall: pandas_profiling\r\n",
      "    Found existing installation: pandas-profiling 3.6.2\r\n",
      "    Uninstalling pandas-profiling-3.6.2:\r\n",
      "      Successfully uninstalled pandas-profiling-3.6.2\r\n",
      "\u001b[31mERROR: pip's dependency resolver does not currently take into account all the packages that are installed. This behaviour is the source of the following dependency conflicts.\r\n",
      "librosa 0.10.0 requires soundfile>=0.12.1, but you have soundfile 0.11.0 which is incompatible.\u001b[0m\u001b[31m\r\n",
      "\u001b[0mSuccessfully installed joblib-1.1.1 pandas_profiling-3.2.0 visions-0.7.4\r\n",
      "\u001b[33mWARNING: Running pip as the 'root' user can result in broken permissions and conflicting behaviour with the system package manager. It is recommended to use a virtual environment instead: https://pip.pypa.io/warnings/venv\u001b[0m\u001b[33m\r\n",
      "\u001b[0m"
     ]
    }
   ],
   "source": [
    "# 必要ライブラリのインポート\n",
    "import numpy as np\n",
    "import pandas as pd\n",
    "import os\n",
    "import pickle\n",
    "import gc\n",
    "\n",
    "# 分布確認\n",
    "import pandas_profiling as pdp\n",
    "\n",
    "# 可視化\n",
    "import matplotlib.pyplot as plt\n",
    "\n",
    "# 前処理\n",
    "from sklearn.preprocessing import StandardScaler, MinMaxScaler, LabelEncoder, OneHotEncoder\n",
    "\n",
    "# バリデーション\n",
    "from sklearn.model_selection import train_test_split, KFold, StratifiedKFold\n",
    "\n",
    "# 評価指標\n",
    "from sklearn.metrics import accuracy_score, roc_auc_score, confusion_matrix\n",
    "\n",
    "# モデリング: lightgbm\n",
    "import lightgbm as lgb\n",
    "\n",
    "import warnings\n",
    "warnings.filterwarnings(\"ignore\")\n",
    "\n",
    "# matplotilbで日本語表示したい場合はこれをinstallしてインポートする\n",
    "!pip install japanize-matplotlib\n",
    "import japanize_matplotlib\n",
    "\n",
    "# 2022/06/02追加: Kaggle notebook環境変更のため\n",
    "!pip install pandas_profiling==3.2.0"
   ]
  },
  {
   "cell_type": "markdown",
   "id": "9c64cfc5",
   "metadata": {
    "papermill": {
     "duration": 0.008033,
     "end_time": "2023-04-03T15:11:42.573233",
     "exception": false,
     "start_time": "2023-04-03T15:11:42.565200",
     "status": "completed"
    },
    "tags": []
   },
   "source": [
    "# データの確認（簡易）"
   ]
  },
  {
   "cell_type": "code",
   "execution_count": 2,
   "id": "1b3cae70",
   "metadata": {
    "execution": {
     "iopub.execute_input": "2023-04-03T15:11:42.592525Z",
     "iopub.status.busy": "2023-04-03T15:11:42.592081Z",
     "iopub.status.idle": "2023-04-03T15:11:42.650278Z",
     "shell.execute_reply": "2023-04-03T15:11:42.649051Z"
    },
    "papermill": {
     "duration": 0.071959,
     "end_time": "2023-04-03T15:11:42.653543",
     "exception": false,
     "start_time": "2023-04-03T15:11:42.581584",
     "status": "completed"
    },
    "tags": []
   },
   "outputs": [
    {
     "data": {
      "text/html": [
       "<div>\n",
       "<style scoped>\n",
       "    .dataframe tbody tr th:only-of-type {\n",
       "        vertical-align: middle;\n",
       "    }\n",
       "\n",
       "    .dataframe tbody tr th {\n",
       "        vertical-align: top;\n",
       "    }\n",
       "\n",
       "    .dataframe thead th {\n",
       "        text-align: right;\n",
       "    }\n",
       "</style>\n",
       "<table border=\"1\" class=\"dataframe\">\n",
       "  <thead>\n",
       "    <tr style=\"text-align: right;\">\n",
       "      <th></th>\n",
       "      <th>PassengerId</th>\n",
       "      <th>Survived</th>\n",
       "      <th>Pclass</th>\n",
       "      <th>Name</th>\n",
       "      <th>Sex</th>\n",
       "      <th>Age</th>\n",
       "      <th>SibSp</th>\n",
       "      <th>Parch</th>\n",
       "      <th>Ticket</th>\n",
       "      <th>Fare</th>\n",
       "      <th>Cabin</th>\n",
       "      <th>Embarked</th>\n",
       "    </tr>\n",
       "  </thead>\n",
       "  <tbody>\n",
       "    <tr>\n",
       "      <th>0</th>\n",
       "      <td>1</td>\n",
       "      <td>0</td>\n",
       "      <td>3</td>\n",
       "      <td>Braund, Mr. Owen Harris</td>\n",
       "      <td>male</td>\n",
       "      <td>22.0</td>\n",
       "      <td>1</td>\n",
       "      <td>0</td>\n",
       "      <td>A/5 21171</td>\n",
       "      <td>7.2500</td>\n",
       "      <td>NaN</td>\n",
       "      <td>S</td>\n",
       "    </tr>\n",
       "    <tr>\n",
       "      <th>1</th>\n",
       "      <td>2</td>\n",
       "      <td>1</td>\n",
       "      <td>1</td>\n",
       "      <td>Cumings, Mrs. John Bradley (Florence Briggs Th...</td>\n",
       "      <td>female</td>\n",
       "      <td>38.0</td>\n",
       "      <td>1</td>\n",
       "      <td>0</td>\n",
       "      <td>PC 17599</td>\n",
       "      <td>71.2833</td>\n",
       "      <td>C85</td>\n",
       "      <td>C</td>\n",
       "    </tr>\n",
       "    <tr>\n",
       "      <th>2</th>\n",
       "      <td>3</td>\n",
       "      <td>1</td>\n",
       "      <td>3</td>\n",
       "      <td>Heikkinen, Miss. Laina</td>\n",
       "      <td>female</td>\n",
       "      <td>26.0</td>\n",
       "      <td>0</td>\n",
       "      <td>0</td>\n",
       "      <td>STON/O2. 3101282</td>\n",
       "      <td>7.9250</td>\n",
       "      <td>NaN</td>\n",
       "      <td>S</td>\n",
       "    </tr>\n",
       "    <tr>\n",
       "      <th>3</th>\n",
       "      <td>4</td>\n",
       "      <td>1</td>\n",
       "      <td>1</td>\n",
       "      <td>Futrelle, Mrs. Jacques Heath (Lily May Peel)</td>\n",
       "      <td>female</td>\n",
       "      <td>35.0</td>\n",
       "      <td>1</td>\n",
       "      <td>0</td>\n",
       "      <td>113803</td>\n",
       "      <td>53.1000</td>\n",
       "      <td>C123</td>\n",
       "      <td>S</td>\n",
       "    </tr>\n",
       "    <tr>\n",
       "      <th>4</th>\n",
       "      <td>5</td>\n",
       "      <td>0</td>\n",
       "      <td>3</td>\n",
       "      <td>Allen, Mr. William Henry</td>\n",
       "      <td>male</td>\n",
       "      <td>35.0</td>\n",
       "      <td>0</td>\n",
       "      <td>0</td>\n",
       "      <td>373450</td>\n",
       "      <td>8.0500</td>\n",
       "      <td>NaN</td>\n",
       "      <td>S</td>\n",
       "    </tr>\n",
       "  </tbody>\n",
       "</table>\n",
       "</div>"
      ],
      "text/plain": [
       "   PassengerId  Survived  Pclass  \\\n",
       "0            1         0       3   \n",
       "1            2         1       1   \n",
       "2            3         1       3   \n",
       "3            4         1       1   \n",
       "4            5         0       3   \n",
       "\n",
       "                                                Name     Sex   Age  SibSp  \\\n",
       "0                            Braund, Mr. Owen Harris    male  22.0      1   \n",
       "1  Cumings, Mrs. John Bradley (Florence Briggs Th...  female  38.0      1   \n",
       "2                             Heikkinen, Miss. Laina  female  26.0      0   \n",
       "3       Futrelle, Mrs. Jacques Heath (Lily May Peel)  female  35.0      1   \n",
       "4                           Allen, Mr. William Henry    male  35.0      0   \n",
       "\n",
       "   Parch            Ticket     Fare Cabin Embarked  \n",
       "0      0         A/5 21171   7.2500   NaN        S  \n",
       "1      0          PC 17599  71.2833   C85        C  \n",
       "2      0  STON/O2. 3101282   7.9250   NaN        S  \n",
       "3      0            113803  53.1000  C123        S  \n",
       "4      0            373450   8.0500   NaN        S  "
      ]
     },
     "execution_count": 2,
     "metadata": {},
     "output_type": "execute_result"
    }
   ],
   "source": [
    "#ファイル読み込み\n",
    "df_train = pd.read_csv(\"../input/titanic/train.csv\")\n",
    "df_train.head()\n",
    "\n",
    "#Excelファイル　df = pd.read_excel(\"ファイル名\")\n",
    "#タブ区切り　　　df = pd_read_CSV(\"sample.tst\", sep=\"\\t\")\n",
    "#Shift JIS形式のCSVファイル　df = pd.read_CSV(\"sample.csv\", encoding=\"Shift_jis\")"
   ]
  },
  {
   "cell_type": "code",
   "execution_count": 3,
   "id": "1f4a200c",
   "metadata": {
    "execution": {
     "iopub.execute_input": "2023-04-03T15:11:42.672930Z",
     "iopub.status.busy": "2023-04-03T15:11:42.672494Z",
     "iopub.status.idle": "2023-04-03T15:11:42.679150Z",
     "shell.execute_reply": "2023-04-03T15:11:42.677847Z"
    },
    "papermill": {
     "duration": 0.019455,
     "end_time": "2023-04-03T15:11:42.681748",
     "exception": false,
     "start_time": "2023-04-03T15:11:42.662293",
     "status": "completed"
    },
    "tags": []
   },
   "outputs": [
    {
     "name": "stdout",
     "output_type": "stream",
     "text": [
      "(891, 12)\n",
      "レコード数: 891\n",
      "カラム数: 12\n"
     ]
    }
   ],
   "source": [
    "#データの確認(レコード数とカラム数)\n",
    "print(df_train.shape)\n",
    "print(\"レコード数:\", len(df_train))\n",
    "print(\"カラム数:\", len(df_train.columns))"
   ]
  },
  {
   "cell_type": "code",
   "execution_count": 4,
   "id": "6e292366",
   "metadata": {
    "execution": {
     "iopub.execute_input": "2023-04-03T15:11:42.701999Z",
     "iopub.status.busy": "2023-04-03T15:11:42.701216Z",
     "iopub.status.idle": "2023-04-03T15:11:42.732094Z",
     "shell.execute_reply": "2023-04-03T15:11:42.730343Z"
    },
    "papermill": {
     "duration": 0.044558,
     "end_time": "2023-04-03T15:11:42.735200",
     "exception": false,
     "start_time": "2023-04-03T15:11:42.690642",
     "status": "completed"
    },
    "tags": []
   },
   "outputs": [
    {
     "name": "stdout",
     "output_type": "stream",
     "text": [
      "<class 'pandas.core.frame.DataFrame'>\n",
      "RangeIndex: 891 entries, 0 to 890\n",
      "Data columns (total 12 columns):\n",
      " #   Column       Non-Null Count  Dtype  \n",
      "---  ------       --------------  -----  \n",
      " 0   PassengerId  891 non-null    int64  \n",
      " 1   Survived     891 non-null    int64  \n",
      " 2   Pclass       891 non-null    int64  \n",
      " 3   Name         891 non-null    object \n",
      " 4   Sex          891 non-null    object \n",
      " 5   Age          714 non-null    float64\n",
      " 6   SibSp        891 non-null    int64  \n",
      " 7   Parch        891 non-null    int64  \n",
      " 8   Ticket       891 non-null    object \n",
      " 9   Fare         891 non-null    float64\n",
      " 10  Cabin        204 non-null    object \n",
      " 11  Embarked     889 non-null    object \n",
      "dtypes: float64(2), int64(5), object(5)\n",
      "memory usage: 83.7+ KB\n"
     ]
    }
   ],
   "source": [
    "#データの確認(info)型やnullの確認\n",
    "df_train.info()"
   ]
  },
  {
   "cell_type": "code",
   "execution_count": 5,
   "id": "ad5bdbca",
   "metadata": {
    "execution": {
     "iopub.execute_input": "2023-04-03T15:11:42.757468Z",
     "iopub.status.busy": "2023-04-03T15:11:42.756762Z",
     "iopub.status.idle": "2023-04-03T15:11:42.781562Z",
     "shell.execute_reply": "2023-04-03T15:11:42.780042Z"
    },
    "papermill": {
     "duration": 0.040442,
     "end_time": "2023-04-03T15:11:42.784718",
     "exception": false,
     "start_time": "2023-04-03T15:11:42.744276",
     "status": "completed"
    },
    "tags": []
   },
   "outputs": [
    {
     "name": "stdout",
     "output_type": "stream",
     "text": [
      "<class 'pandas.core.frame.DataFrame'>\n",
      "RangeIndex: 891 entries, 0 to 890\n",
      "Data columns (total 1 columns):\n",
      " #   Column  Non-Null Count  Dtype \n",
      "---  ------  --------------  ----- \n",
      " 0   Pclass  891 non-null    object\n",
      "dtypes: object(1)\n",
      "memory usage: 7.1+ KB\n",
      "<class 'pandas.core.frame.DataFrame'>\n",
      "RangeIndex: 891 entries, 0 to 890\n",
      "Data columns (total 1 columns):\n",
      " #   Column  Non-Null Count  Dtype\n",
      "---  ------  --------------  -----\n",
      " 0   Pclass  891 non-null    int64\n",
      "dtypes: int64(1)\n",
      "memory usage: 7.1 KB\n"
     ]
    }
   ],
   "source": [
    "#データ型の変換\n",
    "#間隔尺度をカテゴリ変数に変換\n",
    "\n",
    "#int型からオブジェクト型へ変換\n",
    "df_train[\"Pclass\"] = df_train[\"Pclass\"].astype(object)\n",
    "df_train[[\"Pclass\"]].info()\n",
    "\n",
    "#オブジェクト型からint型へ変換\n",
    "df_train[\"Pclass\"] = df_train[\"Pclass\"].astype(np.int64)\n",
    "df_train[[\"Pclass\"]].info()"
   ]
  },
  {
   "cell_type": "code",
   "execution_count": 6,
   "id": "c6af9bbc",
   "metadata": {
    "execution": {
     "iopub.execute_input": "2023-04-03T15:11:42.805771Z",
     "iopub.status.busy": "2023-04-03T15:11:42.805298Z",
     "iopub.status.idle": "2023-04-03T15:11:42.815541Z",
     "shell.execute_reply": "2023-04-03T15:11:42.814524Z"
    },
    "papermill": {
     "duration": 0.024188,
     "end_time": "2023-04-03T15:11:42.818556",
     "exception": false,
     "start_time": "2023-04-03T15:11:42.794368",
     "status": "completed"
    },
    "tags": []
   },
   "outputs": [
    {
     "data": {
      "text/plain": [
       "PassengerId      0\n",
       "Survived         0\n",
       "Pclass           0\n",
       "Name             0\n",
       "Sex              0\n",
       "Age            177\n",
       "SibSp            0\n",
       "Parch            0\n",
       "Ticket           0\n",
       "Fare             0\n",
       "Cabin          687\n",
       "Embarked         2\n",
       "dtype: int64"
      ]
     },
     "execution_count": 6,
     "metadata": {},
     "output_type": "execute_result"
    }
   ],
   "source": [
    "#欠損値の確認\n",
    "df_train.isnull().sum()"
   ]
  },
  {
   "cell_type": "markdown",
   "id": "b296a363",
   "metadata": {
    "papermill": {
     "duration": 0.00949,
     "end_time": "2023-04-03T15:11:42.838178",
     "exception": false,
     "start_time": "2023-04-03T15:11:42.828688",
     "status": "completed"
    },
    "tags": []
   },
   "source": [
    "# データセット作成"
   ]
  },
  {
   "cell_type": "code",
   "execution_count": 7,
   "id": "32a026e1",
   "metadata": {
    "execution": {
     "iopub.execute_input": "2023-04-03T15:11:42.859222Z",
     "iopub.status.busy": "2023-04-03T15:11:42.858386Z",
     "iopub.status.idle": "2023-04-03T15:11:42.869805Z",
     "shell.execute_reply": "2023-04-03T15:11:42.867496Z"
    },
    "papermill": {
     "duration": 0.026143,
     "end_time": "2023-04-03T15:11:42.873626",
     "exception": false,
     "start_time": "2023-04-03T15:11:42.847483",
     "status": "completed"
    },
    "tags": []
   },
   "outputs": [
    {
     "name": "stdout",
     "output_type": "stream",
     "text": [
      "(891, 2) (891, 1) (891, 1)\n"
     ]
    }
   ],
   "source": [
    "#説明変数に\"Pclass\"と\"fare\"　欠損値がなく、intだから\n",
    "#目的変数に\"Survived\"\n",
    "#生存者ID\n",
    "x_train, y_train, id_train = df_train[[\"Pclass\", \"Fare\"]], \\\n",
    "                             df_train[[\"Survived\"]], \\\n",
    "                             df_train[[\"PassengerId\"]]\n",
    "print(x_train.shape, y_train.shape, id_train.shape)"
   ]
  },
  {
   "cell_type": "markdown",
   "id": "413f997c",
   "metadata": {
    "papermill": {
     "duration": 0.009101,
     "end_time": "2023-04-03T15:11:42.892539",
     "exception": false,
     "start_time": "2023-04-03T15:11:42.883438",
     "status": "completed"
    },
    "tags": []
   },
   "source": [
    "# バリデーション設計"
   ]
  },
  {
   "cell_type": "code",
   "execution_count": 8,
   "id": "72e2857d",
   "metadata": {
    "execution": {
     "iopub.execute_input": "2023-04-03T15:11:42.915099Z",
     "iopub.status.busy": "2023-04-03T15:11:42.914302Z",
     "iopub.status.idle": "2023-04-03T15:11:42.933705Z",
     "shell.execute_reply": "2023-04-03T15:11:42.931714Z"
    },
    "papermill": {
     "duration": 0.035954,
     "end_time": "2023-04-03T15:11:42.937962",
     "exception": false,
     "start_time": "2023-04-03T15:11:42.902008",
     "status": "completed"
    },
    "tags": []
   },
   "outputs": [
    {
     "name": "stdout",
     "output_type": "stream",
     "text": [
      "(712, 2) (712, 1)\n",
      "(179, 2) (179, 1)\n",
      "y_train:0.384, y_tr:0.383, y_va:0.385\n"
     ]
    }
   ],
   "source": [
    "#ホールドアウト検証の実行 8:2で分割　\n",
    "#学習データと検証データに含まれる\"1\"の割合が同じになるようにする stratify = y_train\n",
    "x_tr, x_va, y_tr, y_va = train_test_split(x_train,\n",
    "                                          y_train,\n",
    "                                          test_size=0.2,\n",
    "                                          shuffle=True,\n",
    "                                          stratify=y_train, \n",
    "                                          random_state=123)\n",
    "print(x_tr.shape, y_tr.shape)\n",
    "print(x_va.shape, y_va.shape)\n",
    "print(\"y_train:{:.3f}, y_tr:{:.3f}, y_va:{:.3f}\".format(\n",
    "    y_train[\"Survived\"].mean(),\n",
    "    y_tr[\"Survived\"].mean(),\n",
    "    y_va[\"Survived\"].mean(),\n",
    "))"
   ]
  },
  {
   "cell_type": "code",
   "execution_count": 9,
   "id": "e6d302d2",
   "metadata": {
    "execution": {
     "iopub.execute_input": "2023-04-03T15:11:42.961139Z",
     "iopub.status.busy": "2023-04-03T15:11:42.960722Z",
     "iopub.status.idle": "2023-04-03T15:11:42.988387Z",
     "shell.execute_reply": "2023-04-03T15:11:42.986230Z"
    },
    "papermill": {
     "duration": 0.043612,
     "end_time": "2023-04-03T15:11:42.992206",
     "exception": false,
     "start_time": "2023-04-03T15:11:42.948594",
     "status": "completed"
    },
    "tags": []
   },
   "outputs": [
    {
     "name": "stdout",
     "output_type": "stream",
     "text": [
      "-------------------- 0 --------------------\n",
      "(712, 2) (712, 1)\n",
      "(179, 2) (179, 1)\n",
      "y_train:0.384, y_tr:0.383, y_va:0.385\n",
      "-------------------- 1 --------------------\n",
      "(713, 2) (713, 1)\n",
      "(178, 2) (178, 1)\n",
      "y_train:0.384, y_tr:0.384, y_va:0.382\n",
      "-------------------- 2 --------------------\n",
      "(713, 2) (713, 1)\n",
      "(178, 2) (178, 1)\n",
      "y_train:0.384, y_tr:0.384, y_va:0.382\n",
      "-------------------- 3 --------------------\n",
      "(713, 2) (713, 1)\n",
      "(178, 2) (178, 1)\n",
      "y_train:0.384, y_tr:0.384, y_va:0.382\n",
      "-------------------- 4 --------------------\n",
      "(713, 2) (713, 1)\n",
      "(178, 2) (178, 1)\n",
      "y_train:0.384, y_tr:0.383, y_va:0.388\n"
     ]
    }
   ],
   "source": [
    "#交差検証を実行　K=5\n",
    "n_splits = 5\n",
    "cv = list(StratifiedKFold(n_splits=n_splits, shuffle=True, random_state=123).split(x_train, y_train))\n",
    "for nfold in np.arange(n_splits):\n",
    "    print(\"-\"*20, nfold, \"-\"*20)\n",
    "    idx_tr, idx_va = cv[nfold][0], cv[nfold][1]\n",
    "    x_tr, y_tr = x_train.loc[idx_tr, :], y_train.loc[idx_tr, :]\n",
    "    x_va, y_va = x_train.loc[idx_va, :], y_train.loc[idx_va, :]\n",
    "    print(x_tr.shape, y_tr.shape)\n",
    "    print(x_va.shape, y_va.shape)\n",
    "    print(\"y_train:{:.3f}, y_tr:{:.3f}, y_va:{:.3f}\".format(\n",
    "        y_train[\"Survived\"].mean(),\n",
    "        y_tr[\"Survived\"].mean(),\n",
    "        y_va[\"Survived\"].mean(),\n",
    "    ))"
   ]
  },
  {
   "cell_type": "markdown",
   "id": "09e1a0c8",
   "metadata": {
    "papermill": {
     "duration": 0.009841,
     "end_time": "2023-04-03T15:11:43.013537",
     "exception": false,
     "start_time": "2023-04-03T15:11:43.003696",
     "status": "completed"
    },
    "tags": []
   },
   "source": [
    "# モデル学習（勾配ブースティング）"
   ]
  },
  {
   "cell_type": "code",
   "execution_count": 10,
   "id": "442ac341",
   "metadata": {
    "execution": {
     "iopub.execute_input": "2023-04-03T15:11:43.042492Z",
     "iopub.status.busy": "2023-04-03T15:11:43.041676Z",
     "iopub.status.idle": "2023-04-03T15:11:43.808536Z",
     "shell.execute_reply": "2023-04-03T15:11:43.806573Z"
    },
    "papermill": {
     "duration": 0.783217,
     "end_time": "2023-04-03T15:11:43.811553",
     "exception": false,
     "start_time": "2023-04-03T15:11:43.028336",
     "status": "completed"
    },
    "tags": []
   },
   "outputs": [
    {
     "name": "stdout",
     "output_type": "stream",
     "text": [
      "(891, 2) (891, 1) (891, 1)\n",
      "(712, 2) (712, 1)\n",
      "(179, 2) (179, 1)\n",
      "y_train:0.384, y_tr:0.383, y_va:0.385\n",
      "[10]\ttraining's auc: 0.792256\tvalid_1's auc: 0.744862\n",
      "[20]\ttraining's auc: 0.801914\tvalid_1's auc: 0.752372\n",
      "[30]\ttraining's auc: 0.808339\tvalid_1's auc: 0.759223\n",
      "[40]\ttraining's auc: 0.816595\tvalid_1's auc: 0.759223\n",
      "[50]\ttraining's auc: 0.820771\tvalid_1's auc: 0.755138\n",
      "[60]\ttraining's auc: 0.82582\tvalid_1's auc: 0.754809\n",
      "[70]\ttraining's auc: 0.82995\tvalid_1's auc: 0.753755\n",
      "[80]\ttraining's auc: 0.832645\tvalid_1's auc: 0.752767\n",
      "[90]\ttraining's auc: 0.834593\tvalid_1's auc: 0.750132\n",
      "[100]\ttraining's auc: 0.837247\tvalid_1's auc: 0.747892\n",
      "[110]\ttraining's auc: 0.839036\tvalid_1's auc: 0.746838\n",
      "[120]\ttraining's auc: 0.840764\tvalid_1's auc: 0.746311\n",
      "[130]\ttraining's auc: 0.842007\tvalid_1's auc: 0.746706\n",
      "[accuracy] tr: 0.75, va: 0.73\n"
     ]
    },
    {
     "data": {
      "text/html": [
       "<div>\n",
       "<style scoped>\n",
       "    .dataframe tbody tr th:only-of-type {\n",
       "        vertical-align: middle;\n",
       "    }\n",
       "\n",
       "    .dataframe tbody tr th {\n",
       "        vertical-align: top;\n",
       "    }\n",
       "\n",
       "    .dataframe thead th {\n",
       "        text-align: right;\n",
       "    }\n",
       "</style>\n",
       "<table border=\"1\" class=\"dataframe\">\n",
       "  <thead>\n",
       "    <tr style=\"text-align: right;\">\n",
       "      <th></th>\n",
       "      <th>col</th>\n",
       "      <th>imp</th>\n",
       "    </tr>\n",
       "  </thead>\n",
       "  <tbody>\n",
       "    <tr>\n",
       "      <th>0</th>\n",
       "      <td>Fare</td>\n",
       "      <td>903.440373</td>\n",
       "    </tr>\n",
       "    <tr>\n",
       "      <th>1</th>\n",
       "      <td>Pclass</td>\n",
       "      <td>229.457186</td>\n",
       "    </tr>\n",
       "  </tbody>\n",
       "</table>\n",
       "</div>"
      ],
      "text/plain": [
       "      col         imp\n",
       "0    Fare  903.440373\n",
       "1  Pclass  229.457186"
      ]
     },
     "execution_count": 10,
     "metadata": {},
     "output_type": "execute_result"
    }
   ],
   "source": [
    "\n",
    "#モデル学習（勾配ブースティング・ホールドアウト検証）\n",
    "\n",
    "#1 データセットの作成\n",
    "x_train, y_train, id_train = df_train[[\"Pclass\", \"Fare\"]], \\\n",
    "                             df_train[[\"Survived\"]], \\\n",
    "                             df_train[[\"PassengerId\"]]\n",
    "\n",
    "\n",
    "print(x_train.shape, y_train.shape, id_train.shape)\n",
    "x_tr, x_va, y_tr, y_va = train_test_split(x_train,\n",
    "                                          y_train,\n",
    "                                          test_size=0.2,\n",
    "                                          shuffle=True,\n",
    "                                          stratify=y_train, \n",
    "                                          random_state=123)\n",
    "print(x_tr.shape, y_tr.shape)\n",
    "print(x_va.shape, y_va.shape)\n",
    "print(\"y_train:{:.3f}, y_tr:{:.3f}, y_va:{:.3f}\".format(\n",
    "    y_train[\"Survived\"].mean(),\n",
    "    y_tr[\"Survived\"].mean(),\n",
    "    y_va[\"Survived\"].mean(),\n",
    "))\n",
    "\n",
    "#2 モデルの学習\n",
    "# ハイパーパラメータ\n",
    "params = {\n",
    "    'boosting_type': 'gbdt',\n",
    "    'objective': 'binary', \n",
    "    'metric': 'auc',\n",
    "    'learning_rate': 0.1,\n",
    "    'num_leaves': 16,\n",
    "    'n_estimators': 100000,\n",
    "    \"random_state\": 123,\n",
    "    \"importance_type\": \"gain\",\n",
    "}\n",
    "\n",
    "model = lgb.LGBMClassifier(**params)\n",
    "model.fit(x_tr,\n",
    "          y_tr,\n",
    "          eval_set=[(x_tr,y_tr), (x_va,y_va)],\n",
    "          early_stopping_rounds=100,\n",
    "          verbose=10,\n",
    "         )\n",
    "\n",
    "#モデルの評価\n",
    "y_tr_pred = model.predict_proba(x_tr)[:,1]\n",
    "y_va_pred = model.predict_proba(x_va)[:,1]\n",
    "\n",
    "metric_tr = accuracy_score(y_tr, np.where(y_tr_pred>=0.5, 1, 0))\n",
    "metric_va = accuracy_score(y_va, np.where(y_va_pred>=0.5, 1, 0))\n",
    "\n",
    "print(\"[accuracy] tr: {:.2f}, va: {:.2f}\".format(metric_tr, metric_va))\n",
    "\n",
    "#説明変数の重要度の算出\n",
    "imp = pd.DataFrame({\"col\":x_train.columns, \"imp\":model.feature_importances_})\n",
    "imp.sort_values(\"imp\", ascending=False, ignore_index=True)"
   ]
  },
  {
   "cell_type": "code",
   "execution_count": 11,
   "id": "f65c4dd7",
   "metadata": {
    "execution": {
     "iopub.execute_input": "2023-04-03T15:11:43.835203Z",
     "iopub.status.busy": "2023-04-03T15:11:43.834758Z",
     "iopub.status.idle": "2023-04-03T15:11:47.020023Z",
     "shell.execute_reply": "2023-04-03T15:11:47.017285Z"
    },
    "papermill": {
     "duration": 3.202933,
     "end_time": "2023-04-03T15:11:47.024929",
     "exception": false,
     "start_time": "2023-04-03T15:11:43.821996",
     "status": "completed"
    },
    "tags": []
   },
   "outputs": [
    {
     "name": "stdout",
     "output_type": "stream",
     "text": [
      "(891, 2) (891, 1) (891, 1)\n",
      "(712, 2) (712, 1)\n",
      "(179, 2) (179, 1)\n",
      "y_train:0.384, y_tr:0.383, y_va:0.385\n",
      "-------------------- 0 --------------------\n",
      "(712, 2) (712, 1)\n",
      "(179, 2) (179, 1)\n",
      "y_train:0.384, y_tr:0.383, y_va:0.385\n",
      "[100]\ttraining's auc: 0.844961\tvalid_1's auc: 0.716469\n",
      "[accuracy] tr: 0.72, va: 0.68\n",
      "-------------------- 1 --------------------\n",
      "(713, 2) (713, 1)\n",
      "(178, 2) (178, 1)\n",
      "y_train:0.384, y_tr:0.384, y_va:0.382\n",
      "[100]\ttraining's auc: 0.826717\tvalid_1's auc: 0.753008\n",
      "[accuracy] tr: 0.75, va: 0.68\n",
      "-------------------- 2 --------------------\n",
      "(713, 2) (713, 1)\n",
      "(178, 2) (178, 1)\n",
      "y_train:0.384, y_tr:0.384, y_va:0.382\n",
      "[100]\ttraining's auc: 0.839483\tvalid_1's auc: 0.732687\n",
      "[200]\ttraining's auc: 0.849542\tvalid_1's auc: 0.737233\n",
      "[accuracy] tr: 0.77, va: 0.69\n",
      "-------------------- 3 --------------------\n",
      "(713, 2) (713, 1)\n",
      "(178, 2) (178, 1)\n",
      "y_train:0.384, y_tr:0.384, y_va:0.382\n",
      "[100]\ttraining's auc: 0.831826\tvalid_1's auc: 0.752941\n",
      "[accuracy] tr: 0.75, va: 0.69\n",
      "-------------------- 4 --------------------\n",
      "(713, 2) (713, 1)\n",
      "(178, 2) (178, 1)\n",
      "y_train:0.384, y_tr:0.383, y_va:0.388\n",
      "[100]\ttraining's auc: 0.835177\tvalid_1's auc: 0.735607\n",
      "[accuracy] tr: 0.62, va: 0.61\n",
      "-------------------- result --------------------\n",
      "[[0.         0.72050562 0.67597765]\n",
      " [1.         0.75175316 0.67977528]\n",
      " [2.         0.7713885  0.68539326]\n",
      " [3.         0.74614306 0.69101124]\n",
      " [4.         0.6171108  0.61235955]]\n",
      "[cv ] tr: 0.72+-0.05, va: 0.67+-0.03\n",
      "Done.\n"
     ]
    },
    {
     "data": {
      "text/html": [
       "<div>\n",
       "<style scoped>\n",
       "    .dataframe tbody tr th:only-of-type {\n",
       "        vertical-align: middle;\n",
       "    }\n",
       "\n",
       "    .dataframe tbody tr th {\n",
       "        vertical-align: top;\n",
       "    }\n",
       "\n",
       "    .dataframe thead th {\n",
       "        text-align: right;\n",
       "    }\n",
       "</style>\n",
       "<table border=\"1\" class=\"dataframe\">\n",
       "  <thead>\n",
       "    <tr style=\"text-align: right;\">\n",
       "      <th></th>\n",
       "      <th>col</th>\n",
       "      <th>imp</th>\n",
       "    </tr>\n",
       "  </thead>\n",
       "  <tbody>\n",
       "    <tr>\n",
       "      <th>0</th>\n",
       "      <td>Fare</td>\n",
       "      <td>175.473267</td>\n",
       "    </tr>\n",
       "    <tr>\n",
       "      <th>1</th>\n",
       "      <td>Pclass</td>\n",
       "      <td>169.153896</td>\n",
       "    </tr>\n",
       "  </tbody>\n",
       "</table>\n",
       "</div>"
      ],
      "text/plain": [
       "      col         imp\n",
       "0    Fare  175.473267\n",
       "1  Pclass  169.153896"
      ]
     },
     "execution_count": 11,
     "metadata": {},
     "output_type": "execute_result"
    }
   ],
   "source": [
    "\n",
    "#モデル学習（勾配ブースティング・交差検証）\n",
    "\n",
    "#1 データセットの作成\n",
    "x_train, y_train, id_train = df_train[[\"Pclass\", \"Fare\"]], \\\n",
    "                             df_train[[\"Survived\"]], \\\n",
    "                             df_train[[\"PassengerId\"]]\n",
    "\n",
    "\n",
    "print(x_train.shape, y_train.shape, id_train.shape)\n",
    "x_tr, x_va, y_tr, y_va = train_test_split(x_train,\n",
    "                                          y_train,\n",
    "                                          test_size=0.2,\n",
    "                                          shuffle=True,\n",
    "                                          stratify=y_train, \n",
    "                                          random_state=123)\n",
    "print(x_tr.shape, y_tr.shape)\n",
    "print(x_va.shape, y_va.shape)\n",
    "print(\"y_train:{:.3f}, y_tr:{:.3f}, y_va:{:.3f}\".format(\n",
    "    y_train[\"Survived\"].mean(),\n",
    "    y_tr[\"Survived\"].mean(),\n",
    "    y_va[\"Survived\"].mean(),\n",
    "))\n",
    "\n",
    "#2 モデルの学習\n",
    "# ハイパーパラメータ\n",
    "params = {\n",
    "    'boosting_type': 'gbdt',\n",
    "    'objective': 'binary', \n",
    "    'metric': 'auc',\n",
    "    'learning_rate': 0.1,\n",
    "    'num_leaves': 16,\n",
    "    'n_estimators': 100000,\n",
    "    \"random_state\": 123,\n",
    "    \"importance_type\": \"gain\",\n",
    "}\n",
    "    \n",
    "metrics = []\n",
    "imp = pd.DataFrame()\n",
    "\n",
    "n_splits = 5\n",
    "cv = list(StratifiedKFold(n_splits=n_splits, shuffle=True, random_state=123).split(x_train, y_train))\n",
    "\n",
    "for nfold in np.arange(n_splits):\n",
    "    print(\"-\"*20, nfold, \"-\"*20)\n",
    "    idx_tr, idx_va = cv[nfold][0], cv[nfold][1]\n",
    "    x_tr, y_tr = x_train.loc[idx_tr, :], y_train.loc[idx_tr, :]\n",
    "    x_va, y_va = x_train.loc[idx_va, :], y_train.loc[idx_va, :]\n",
    "    print(x_tr.shape, y_tr.shape)\n",
    "    print(x_va.shape, y_va.shape)\n",
    "    print(\"y_train:{:.3f}, y_tr:{:.3f}, y_va:{:.3f}\".format(\n",
    "        y_train[\"Survived\"].mean(),\n",
    "        y_tr[\"Survived\"].mean(),\n",
    "        y_va[\"Survived\"].mean(),\n",
    "    ))\n",
    "    \n",
    "    model = lgb.LGBMClassifier(**params)\n",
    "    model.fit(x_tr,\n",
    "              y_tr,\n",
    "              eval_set=[(x_tr,y_tr), (x_va,y_va)],\n",
    "              early_stopping_rounds=100,\n",
    "              verbose=100,\n",
    "             )\n",
    "#モデルの評価\n",
    "    y_tr_pred = model.predict(x_tr)\n",
    "    y_va_pred = model.predict(x_va)\n",
    "    metric_tr = accuracy_score(y_tr, y_tr_pred)\n",
    "    metric_va = accuracy_score(y_va, y_va_pred)\n",
    "    print(\"[accuracy] tr: {:.2f}, va: {:.2f}\".format(metric_tr, metric_va))    \n",
    "    metrics.append([nfold, metric_tr, metric_va])\n",
    "    \n",
    "    _imp = pd.DataFrame({\"col\":x_train.columns, \"imp\":model.feature_importances_, \"nfold\":nfold})\n",
    "    imp = pd.concat([imp, _imp], axis=0, ignore_index=True)\n",
    "\n",
    "print(\"-\"*20, \"result\", \"-\"*20)\n",
    "metrics = np.array(metrics)\n",
    "print(metrics)\n",
    "\n",
    "print(\"[cv ] tr: {:.2f}+-{:.2f}, va: {:.2f}+-{:.2f}\".format(\n",
    "    metrics[:,1].mean(), metrics[:,1].std(),\n",
    "    metrics[:,2].mean(), metrics[:,2].std(),\n",
    "))\n",
    "\n",
    "imp = imp.groupby(\"col\")[\"imp\"].agg([\"mean\", \"std\"])\n",
    "imp.columns = [\"imp\", \"imp_std\"]\n",
    "imp = imp.reset_index(drop=False)\n",
    "\n",
    "print(\"Done.\")\n",
    "\n",
    "#説明変数の重要度の算出\n",
    "imp = pd.DataFrame({\"col\":x_train.columns, \"imp\":model.feature_importances_})\n",
    "imp.sort_values(\"imp\", ascending=False, ignore_index=True)"
   ]
  },
  {
   "cell_type": "markdown",
   "id": "da86b848",
   "metadata": {
    "papermill": {
     "duration": 0.0112,
     "end_time": "2023-04-03T15:11:47.050549",
     "exception": false,
     "start_time": "2023-04-03T15:11:47.039349",
     "status": "completed"
    },
    "tags": []
   },
   "source": [
    "# ベースラインを使用する場合の手順"
   ]
  },
  {
   "cell_type": "code",
   "execution_count": 12,
   "id": "b6491686",
   "metadata": {
    "execution": {
     "iopub.execute_input": "2023-04-03T15:11:47.075955Z",
     "iopub.status.busy": "2023-04-03T15:11:47.075210Z",
     "iopub.status.idle": "2023-04-03T15:11:47.089616Z",
     "shell.execute_reply": "2023-04-03T15:11:47.088028Z"
    },
    "papermill": {
     "duration": 0.030423,
     "end_time": "2023-04-03T15:11:47.092347",
     "exception": false,
     "start_time": "2023-04-03T15:11:47.061924",
     "status": "completed"
    },
    "tags": []
   },
   "outputs": [
    {
     "name": "stdout",
     "output_type": "stream",
     "text": [
      "(712, 2) (712, 1)\n",
      "(179, 2) (179, 1)\n"
     ]
    }
   ],
   "source": [
    "#ベースライン検証用データの作成\n",
    "x_tr, x_va2, y_tr, y_va2 = train_test_split(x_train,\n",
    "                                            y_train,\n",
    "                                            test_size=0.2,\n",
    "                                            shuffle=True,\n",
    "                                            stratify=y_train,\n",
    "                                            random_state=123)\n",
    "print(x_tr.shape, y_tr.shape)\n",
    "print(x_va2.shape, y_va2.shape)"
   ]
  },
  {
   "cell_type": "code",
   "execution_count": 13,
   "id": "65edac7c",
   "metadata": {
    "execution": {
     "iopub.execute_input": "2023-04-03T15:11:47.118148Z",
     "iopub.status.busy": "2023-04-03T15:11:47.117444Z",
     "iopub.status.idle": "2023-04-03T15:11:47.133100Z",
     "shell.execute_reply": "2023-04-03T15:11:47.131384Z"
    },
    "papermill": {
     "duration": 0.032547,
     "end_time": "2023-04-03T15:11:47.136298",
     "exception": false,
     "start_time": "2023-04-03T15:11:47.103751",
     "status": "completed"
    },
    "tags": []
   },
   "outputs": [
    {
     "name": "stdout",
     "output_type": "stream",
     "text": [
      "(569, 2) (569, 1)\n",
      "(143, 2) (143, 1)\n"
     ]
    }
   ],
   "source": [
    "#学習データと検証データの分割（ホールドアウト法）\n",
    "x_tr1, x_va1, y_tr1, y_va1 = train_test_split(x_tr,\n",
    "                                              y_tr,\n",
    "                                              test_size=0.2,\n",
    "                                              shuffle=True,\n",
    "                                              stratify=y_tr,\n",
    "                                              random_state=789)\n",
    "print(x_tr1.shape, y_tr1.shape)\n",
    "print(x_va1.shape, y_va1.shape)"
   ]
  },
  {
   "cell_type": "code",
   "execution_count": 14,
   "id": "27932560",
   "metadata": {
    "execution": {
     "iopub.execute_input": "2023-04-03T15:11:47.162259Z",
     "iopub.status.busy": "2023-04-03T15:11:47.161809Z",
     "iopub.status.idle": "2023-04-03T15:11:47.628850Z",
     "shell.execute_reply": "2023-04-03T15:11:47.627285Z"
    },
    "papermill": {
     "duration": 0.484312,
     "end_time": "2023-04-03T15:11:47.631979",
     "exception": false,
     "start_time": "2023-04-03T15:11:47.147667",
     "status": "completed"
    },
    "tags": []
   },
   "outputs": [
    {
     "name": "stdout",
     "output_type": "stream",
     "text": [
      "[10]\ttraining's auc: 0.792153\tvalid_1's auc: 0.72562\n",
      "[20]\ttraining's auc: 0.810025\tvalid_1's auc: 0.712087\n",
      "[30]\ttraining's auc: 0.822545\tvalid_1's auc: 0.72376\n",
      "[40]\ttraining's auc: 0.829204\tvalid_1's auc: 0.719421\n",
      "[50]\ttraining's auc: 0.836699\tvalid_1's auc: 0.720455\n",
      "[60]\ttraining's auc: 0.841808\tvalid_1's auc: 0.716322\n",
      "[70]\ttraining's auc: 0.84684\tvalid_1's auc: 0.71281\n",
      "[80]\ttraining's auc: 0.851009\tvalid_1's auc: 0.716529\n",
      "[90]\ttraining's auc: 0.85472\tvalid_1's auc: 0.720041\n",
      "[100]\ttraining's auc: 0.856354\tvalid_1's auc: 0.722934\n"
     ]
    },
    {
     "data": {
      "text/plain": [
       "LGBMClassifier(importance_type='gain', metric='auc', n_estimators=100000,\n",
       "               num_leaves=16, objective='binary', random_state=123)"
      ]
     },
     "execution_count": 14,
     "metadata": {},
     "output_type": "execute_result"
    }
   ],
   "source": [
    "#モデル学習（ホールドアウト法）\n",
    "params = {\n",
    "    'boosting_type': 'gbdt',\n",
    "    'objective': 'binary', \n",
    "    'metric': 'auc',\n",
    "    'learning_rate': 0.1,\n",
    "    'num_leaves': 16,\n",
    "    'n_estimators': 100000,\n",
    "    \"random_state\": 123,\n",
    "    \"importance_type\": \"gain\",\n",
    "}\n",
    "model = lgb.LGBMClassifier(**params)\n",
    "model.fit(x_tr1,\n",
    "          y_tr1,\n",
    "          eval_set=[(x_tr1,y_tr1), (x_va1,y_va1)],\n",
    "          early_stopping_rounds=100,\n",
    "          verbose=10,\n",
    "         )"
   ]
  },
  {
   "cell_type": "code",
   "execution_count": 15,
   "id": "8a28e8e4",
   "metadata": {
    "execution": {
     "iopub.execute_input": "2023-04-03T15:11:47.660345Z",
     "iopub.status.busy": "2023-04-03T15:11:47.659795Z",
     "iopub.status.idle": "2023-04-03T15:11:47.673108Z",
     "shell.execute_reply": "2023-04-03T15:11:47.671515Z"
    },
    "papermill": {
     "duration": 0.030993,
     "end_time": "2023-04-03T15:11:47.676439",
     "exception": false,
     "start_time": "2023-04-03T15:11:47.645446",
     "status": "completed"
    },
    "tags": []
   },
   "outputs": [],
   "source": [
    "#検証データとベースライン検証用データの予測値算出\n",
    "y_va1_pred = model.predict(x_va1)\n",
    "y_va2_pred = model.predict(x_va2)"
   ]
  },
  {
   "cell_type": "code",
   "execution_count": 16,
   "id": "51b771b9",
   "metadata": {
    "execution": {
     "iopub.execute_input": "2023-04-03T15:11:47.703558Z",
     "iopub.status.busy": "2023-04-03T15:11:47.703078Z",
     "iopub.status.idle": "2023-04-03T15:11:47.712732Z",
     "shell.execute_reply": "2023-04-03T15:11:47.711111Z"
    },
    "papermill": {
     "duration": 0.027008,
     "end_time": "2023-04-03T15:11:47.715519",
     "exception": false,
     "start_time": "2023-04-03T15:11:47.688511",
     "status": "completed"
    },
    "tags": []
   },
   "outputs": [
    {
     "name": "stdout",
     "output_type": "stream",
     "text": [
      "[検証データ] acc: 0.7133\n",
      "[ベースライン検証用データ] acc: 0.7095\n"
     ]
    }
   ],
   "source": [
    "#モデル精度の比較\n",
    "print(\"[検証データ] acc: {:.4f}\".format(accuracy_score(y_va1, y_va1_pred)))\n",
    "print(\"[ベースライン検証用データ] acc: {:.4f}\".format(accuracy_score(y_va2, y_va2_pred)))"
   ]
  },
  {
   "cell_type": "code",
   "execution_count": 17,
   "id": "aeb6325a",
   "metadata": {
    "execution": {
     "iopub.execute_input": "2023-04-03T15:11:47.742714Z",
     "iopub.status.busy": "2023-04-03T15:11:47.742095Z",
     "iopub.status.idle": "2023-04-03T15:11:47.756981Z",
     "shell.execute_reply": "2023-04-03T15:11:47.755144Z"
    },
    "papermill": {
     "duration": 0.032937,
     "end_time": "2023-04-03T15:11:47.760752",
     "exception": false,
     "start_time": "2023-04-03T15:11:47.727815",
     "status": "completed"
    },
    "tags": []
   },
   "outputs": [
    {
     "name": "stdout",
     "output_type": "stream",
     "text": [
      "検証データ\n",
      "[[76 12]\n",
      " [29 26]]\n",
      "[[0.53146853 0.08391608]\n",
      " [0.2027972  0.18181818]]\n",
      "ベースライン検証用データ\n",
      "[[92 18]\n",
      " [34 35]]\n",
      "[[0.51396648 0.10055866]\n",
      " [0.18994413 0.19553073]]\n"
     ]
    }
   ],
   "source": [
    "#誤差分布の比較\n",
    "print(\"検証データ\")\n",
    "print(confusion_matrix(y_va1, y_va1_pred))\n",
    "print(confusion_matrix(y_va1, y_va1_pred, normalize=\"all\"))\n",
    "print(\"ベースライン検証用データ\")\n",
    "print(confusion_matrix(y_va2, y_va2_pred))\n",
    "print(confusion_matrix(y_va2, y_va2_pred, normalize=\"all\"))"
   ]
  },
  {
   "cell_type": "code",
   "execution_count": 18,
   "id": "d87de488",
   "metadata": {
    "execution": {
     "iopub.execute_input": "2023-04-03T15:11:47.788187Z",
     "iopub.status.busy": "2023-04-03T15:11:47.787695Z",
     "iopub.status.idle": "2023-04-03T15:11:48.479622Z",
     "shell.execute_reply": "2023-04-03T15:11:48.477727Z"
    },
    "papermill": {
     "duration": 0.709065,
     "end_time": "2023-04-03T15:11:48.482287",
     "exception": false,
     "start_time": "2023-04-03T15:11:47.773222",
     "status": "completed"
    },
    "tags": []
   },
   "outputs": [
    {
     "data": {
      "text/plain": [
       "<matplotlib.legend.Legend at 0x7f14e10f9e10>"
      ]
     },
     "execution_count": 18,
     "metadata": {},
     "output_type": "execute_result"
    },
    {
     "data": {
      "image/png": "[encoded data removed]",
      "text/plain": [
       "<Figure size 1000x800 with 2 Axes>"
      ]
     },
     "metadata": {},
     "output_type": "display_data"
    }
   ],
   "source": [
    "#予測値の分布比較\n",
    "\n",
    "#予測値の確率値算出\n",
    "y_va1_pred_prob = model.predict_proba(x_va1)[:,1]\n",
    "y_va2_pred_prob = model.predict_proba(x_va2)[:,1]\n",
    "\n",
    "# 確率値をヒストグラムで可視化\n",
    "fig = plt.figure(figsize=(10,8))\n",
    "# 検証データ\n",
    "fig.add_subplot(2,1,1)\n",
    "plt.title(\"検証データ\")\n",
    "plt.hist(y_va1_pred_prob[np.array(y_va1).reshape(-1)==1], bins=10, alpha=0.5, label=\"1\")\n",
    "plt.hist(y_va1_pred_prob[np.array(y_va1).reshape(-1)==0], bins=10, alpha=0.5, label=\"0\")\n",
    "plt.grid()\n",
    "plt.legend()\n",
    "# ベースライン検証用データ\n",
    "fig.add_subplot(2,1,2)\n",
    "plt.title(\"ベースライン検証用データ\")\n",
    "plt.hist(y_va2_pred_prob[np.array(y_va2).reshape(-1)==1], bins=10, alpha=0.5, label=\"1\")\n",
    "plt.hist(y_va2_pred_prob[np.array(y_va2).reshape(-1)==0], bins=10, alpha=0.5, label=\"0\")\n",
    "plt.grid()\n",
    "plt.legend()"
   ]
  },
  {
   "cell_type": "markdown",
   "id": "fcfa5c00",
   "metadata": {
    "papermill": {
     "duration": 0.012792,
     "end_time": "2023-04-03T15:11:48.508855",
     "exception": false,
     "start_time": "2023-04-03T15:11:48.496063",
     "status": "completed"
    },
    "tags": []
   },
   "source": [
    "# モデル推論"
   ]
  },
  {
   "cell_type": "code",
   "execution_count": 19,
   "id": "9731cea9",
   "metadata": {
    "execution": {
     "iopub.execute_input": "2023-04-03T15:11:48.538524Z",
     "iopub.status.busy": "2023-04-03T15:11:48.538045Z",
     "iopub.status.idle": "2023-04-03T15:11:48.574419Z",
     "shell.execute_reply": "2023-04-03T15:11:48.572825Z"
    },
    "papermill": {
     "duration": 0.055103,
     "end_time": "2023-04-03T15:11:48.577438",
     "exception": false,
     "start_time": "2023-04-03T15:11:48.522335",
     "status": "completed"
    },
    "tags": []
   },
   "outputs": [
    {
     "data": {
      "text/html": [
       "<div>\n",
       "<style scoped>\n",
       "    .dataframe tbody tr th:only-of-type {\n",
       "        vertical-align: middle;\n",
       "    }\n",
       "\n",
       "    .dataframe tbody tr th {\n",
       "        vertical-align: top;\n",
       "    }\n",
       "\n",
       "    .dataframe thead th {\n",
       "        text-align: right;\n",
       "    }\n",
       "</style>\n",
       "<table border=\"1\" class=\"dataframe\">\n",
       "  <thead>\n",
       "    <tr style=\"text-align: right;\">\n",
       "      <th></th>\n",
       "      <th>PassengerId</th>\n",
       "      <th>Survived</th>\n",
       "    </tr>\n",
       "  </thead>\n",
       "  <tbody>\n",
       "    <tr>\n",
       "      <th>0</th>\n",
       "      <td>892</td>\n",
       "      <td>0</td>\n",
       "    </tr>\n",
       "    <tr>\n",
       "      <th>1</th>\n",
       "      <td>893</td>\n",
       "      <td>0</td>\n",
       "    </tr>\n",
       "    <tr>\n",
       "      <th>2</th>\n",
       "      <td>894</td>\n",
       "      <td>0</td>\n",
       "    </tr>\n",
       "    <tr>\n",
       "      <th>3</th>\n",
       "      <td>895</td>\n",
       "      <td>0</td>\n",
       "    </tr>\n",
       "    <tr>\n",
       "      <th>4</th>\n",
       "      <td>896</td>\n",
       "      <td>0</td>\n",
       "    </tr>\n",
       "  </tbody>\n",
       "</table>\n",
       "</div>"
      ],
      "text/plain": [
       "   PassengerId  Survived\n",
       "0          892         0\n",
       "1          893         0\n",
       "2          894         0\n",
       "3          895         0\n",
       "4          896         0"
      ]
     },
     "metadata": {},
     "output_type": "display_data"
    }
   ],
   "source": [
    "#モデル推論 未知データを用いた推論\n",
    "\n",
    "#推論データセット作成\n",
    "df_test = pd.read_csv(\"../input/titanic/test.csv\")\n",
    "x_test = df_test[[\"Pclass\", \"Fare\"]]\n",
    "id_test = df_test[[\"PassengerId\"]]\n",
    "\n",
    "#学習による推論\n",
    "y_test_pred = model.predict(x_test)\n",
    "\n",
    "#提出ファイルの作成\n",
    "df_submit = pd.DataFrame({\"PassengerId\":id_test[\"PassengerId\"], \"Survived\":y_test_pred})\n",
    "display(df_submit.head(5))\n",
    "df_submit.to_csv(\"submission_baseline.csv\", index=None)"
   ]
  },
  {
   "cell_type": "code",
   "execution_count": null,
   "id": "dd6f1db7",
   "metadata": {
    "papermill": {
     "duration": 0.01318,
     "end_time": "2023-04-03T15:11:48.603962",
     "exception": false,
     "start_time": "2023-04-03T15:11:48.590782",
     "status": "completed"
    },
    "tags": []
   },
   "outputs": [],
   "source": []
  }
 ],
 "metadata": {
  "kernelspec": {
   "display_name": "Python 3",
   "language": "python",
   "name": "python3"
  },
  "language_info": {
   "codemirror_mode": {
    "name": "ipython",
    "version": 3
   },
   "file_extension": ".py",
   "mimetype": "text/x-python",
   "name": "python",
   "nbconvert_exporter": "python",
   "pygments_lexer": "ipython3",
   "version": "3.7.12"
  },
  "papermill": {
   "default_parameters": {},
   "duration": 58.044169,
   "end_time": "2023-04-03T15:11:49.842924",
   "environment_variables": {},
   "exception": null,
   "input_path": "__notebook__.ipynb",
   "output_path": "__notebook__.ipynb",
   "parameters": {},
   "start_time": "2023-04-03T15:10:51.798755",
   "version": "2.4.0"
  }
 },
 "nbformat": 4,
 "nbformat_minor": 5
}
